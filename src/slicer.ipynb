{
 "cells": [
  {
   "cell_type": "markdown",
   "metadata": {},
   "source": [
    "# Utility"
   ]
  },
  {
   "cell_type": "code",
   "execution_count": 1,
   "metadata": {
    "ExecuteTime": {
     "end_time": "2020-11-16T21:39:13.063783Z",
     "start_time": "2020-11-16T21:39:08.637849Z"
    },
    "deletable": false,
    "editable": false
   },
   "outputs": [
    {
     "name": "stdout",
     "output_type": "stream",
     "text": [
      "open3d :0.11.1\n",
      "trimesh:3.8.12\n",
      "numba  :0.51.2\n"
     ]
    }
   ],
   "source": [
    "import msgpack\n",
    "import open3d as o3d\n",
    "import trimesh\n",
    "import point_cloud_utils as pcu # downsampling\n",
    "from IPython.display import display, Math\n",
    "import numpy as np\n",
    "import matplotlib.pyplot as plt\n",
    "import numba\n",
    "from joblib import Parallel, delayed # multiprocessing\n",
    "import multiprocessing\n",
    "import copy\n",
    "from scipy.ndimage.morphology import binary_dilation, binary_erosion\n",
    "from scipy.spatial.transform import Rotation\n",
    "\n",
    "plt.style.use('seaborn-whitegrid')\n",
    "%config InlineBackend.figure_format = 'retina'\n",
    "\n",
    "print(f\"open3d :{o3d.__version__}\")\n",
    "print(f\"trimesh:{trimesh.__version__}\")\n",
    "print(f\"numba  :{numba.__version__}\")\n",
    "###########################################################\n",
    "def NormalizeSignedDistance(signed_distance, zero_map_to=0.5):\n",
    "    \"\"\"\n",
    "    Normalize to 0-1\n",
    "    min-0 map to 0-0.5\n",
    "    0-max map to 0.5-1\n",
    "    \"\"\"\n",
    "    is_negative = signed_distance <= 0\n",
    "\n",
    "    normalized_distance = np.zeros_like(signed_distance)\n",
    "    minimum = signed_distance.min()\n",
    "    maximum = signed_distance.max()\n",
    "    normalized_distance[is_negative] = (\n",
    "        signed_distance[is_negative] - minimum) / np.abs(minimum) * zero_map_to\n",
    "    normalized_distance[~is_negative] = zero_map_to + \\\n",
    "        signed_distance[~is_negative]/np.abs(maximum)*(1-zero_map_to)\n",
    "    return normalized_distance\n",
    "\n",
    "# # # https://matplotlib.org/tutorials/colors/colormaps.html\n",
    "# # cmap = plt.cm.get_cmap('hot')\n",
    "# sd = np.linspace(-2,2,51)\n",
    "# mapped = NormalizeSignedDistance(sd, zero_map_to=0.0)\n",
    "# plt.plot(sd,mapped)\n",
    "\n",
    "coord_frame = o3d.geometry.TriangleMesh.create_coordinate_frame(\n",
    "    size=60, origin=[0, 0, 0])\n",
    "\n",
    "\n",
    "def rotate_view(vis):\n",
    "    ctr = vis.get_view_control()\n",
    "    ctr.rotate(1.0, 0.0)\n",
    "    return False\n",
    "\n",
    "# @numba.jit([\"float64[:,:](float64[:,::1], float64,int64)\",\n",
    "#             \"float64[:,:](float64[:,:], float64,int64)\"],nopython=True)\n",
    "\n",
    "\n",
    "\n",
    "@numba.jit([\n",
    "    (numba.types.Array(numba.types.float64, 2, 'C', readonly=True),numba.types.float64,numba.types.int64),\n",
    "    (numba.types.Array(numba.types.float64, 2, 'C', readonly=False),numba.types.float64,numba.types.int64)],\n",
    "    nopython=True,nogil=True)\n",
    "def UniformRandomAroundPoints(points,radius,num_per_grid=50):\n",
    "    \"\"\"\n",
    "    sample random points uniformly (along xyz) around an arry of n points (n,3)\n",
    "    input:\n",
    "        points: (nx3) numpy array of xyz\n",
    "        radius: (float scalar) the radius along x,y,z direction to randomly sample the points\n",
    "        num_per_grid:(float scalar) number of random points to sample per specified point\n",
    "    \"\"\"\n",
    "    num_grid = points.shape[0]\n",
    "    xyz = np.empty((num_grid*num_per_grid,3),dtype=np.float64)\n",
    "#     for i,point in enumerate(points):\n",
    "    for i in range(num_grid):\n",
    "        point = points[i]\n",
    "        start = num_per_grid*i\n",
    "        end = start+num_per_grid\n",
    "        xyz[start:end,0] = np.random.uniform(point[0]-radius,point[0]+radius,num_per_grid)\n",
    "        xyz[start:end,1] = np.random.uniform(point[1]-radius,point[1]+radius,num_per_grid)\n",
    "        xyz[start:end,2] = np.random.uniform(point[2]-radius,point[2]+radius,num_per_grid)\n",
    "    return xyz\n",
    "\n",
    "# example, compile\n",
    "_ = UniformRandomAroundPoints(np.zeros((2,3)),1.0,num_per_grid=5) \n",
    "_ = UniformRandomAroundPoints(np.ascontiguousarray(np.zeros((2,3))),1.0,num_per_grid=5) \n",
    "########################################################################################\n",
    "########## geometry #####################################################################\n",
    "def RotateFromVec(vec, angle):\n",
    "    vec = np.asarray(vec, dtype=np.float64)\n",
    "    vec_norm = np.linalg.norm(vec)\n",
    "    if vec_norm != 1:\n",
    "        vec = vec/vec_norm\n",
    "    vec *= angle\n",
    "    h = np.eye(4)\n",
    "    h[:3, :3] = Rotation.from_rotvec(vec).as_matrix()\n",
    "    return h\n",
    "\n",
    "\n",
    "\n",
    "def Translate(vec, h=None):\n",
    "    if h is None:\n",
    "        h = np.eye(4)\n",
    "    h[:3, -1] += vec\n",
    "    return h\n",
    "\n",
    "def ApplyTransform(xyz, t):\n",
    "    \"\"\"\n",
    "    apply transform t to xyz, !!Note that t is transposed!!!\n",
    "    if transform.shape=(3,3): rotation\n",
    "    if transform.shape=(4,4): homogegenious transformation (rotation+translation)\n",
    "    \"\"\"\n",
    "    xyz = np.asarray(xyz)\n",
    "    if t.shape == (3,3): # rotation matrix\n",
    "        return np.dot(xyz, t.T)\n",
    "    elif t.shape ==(4,4): # homogeneous matrix\n",
    "        return np.dot(xyz, t[:-1, :-1].T)+t[:-1, -1]\n",
    "    else:\n",
    "        raise AssertionError(\"dimension error\")\n",
    "        \n",
    "\n",
    "def createGrid(bounds=[[-1, -1, -1], [1, 1, 1]], dr=0.1):\n",
    "    \"\"\"\n",
    "    retrun a grid of points shaped (nx,ny,nz,3) given bounds and discritization radius\n",
    "    where nx,ny,nz are the number of points in x,y,z direction\n",
    "    the bounds are updated and also returned\n",
    "    input:\n",
    "        bounds: [(x_low,y_low,z_low),(x_high,y_high,z_high)]\n",
    "        dr: discretization radius of the grid\n",
    "    output:\n",
    "        xyz_grid: a grid of points numpy array of (nx,ny,nz,3)\n",
    "        bounds: updated bounds\n",
    "    \"\"\"\n",
    "    # round to integer, type is still float\n",
    "    bounds = bounds/dr\n",
    "    bounds = np.stack((np.floor(bounds[0]), np.ceil(bounds[1])))*dr\n",
    "#     print(\"bounds=\\n\", bounds)\n",
    "    # number of points in x,y,z direction:(nx,ny,nz)\n",
    "    nx, ny, nz = np.ceil((bounds[1]-bounds[0])/dr).astype(int)\n",
    "    x = np.linspace(bounds[0, 0], bounds[0, 0]+(nx-1)*dr, num=nx)\n",
    "    y = np.linspace(bounds[0, 1], bounds[0, 1]+(ny-1)*dr, num=ny)\n",
    "    z = np.linspace(bounds[0, 2], bounds[0, 2]+(nz-1)*dr, num=nz)\n",
    "    # a flattened grid of xyzs of the vertices\n",
    "    xyz_grid = np.stack(np.meshgrid(x, y, z), axis=-1)\n",
    "    return xyz_grid, bounds\n",
    "\n"
   ]
  },
  {
   "cell_type": "code",
   "execution_count": 2,
   "metadata": {
    "ExecuteTime": {
     "end_time": "2020-11-16T21:39:13.070816Z",
     "start_time": "2020-11-16T21:39:13.065796Z"
    }
   },
   "outputs": [
    {
     "name": "stdout",
     "output_type": "stream",
     "text": [
      "24.248711305964278\n",
      "10\n",
      "4.0\n"
     ]
    }
   ],
   "source": [
    "########## discretization parameters ##############\n",
    "radius_poisson = float(10) # radius for the poisson sampling\n",
    "radius_knn = radius_poisson*np.sqrt(3)*1.4\n",
    "# max_nn = 28 # maximun number of neighbors for a mass point (including self)\n",
    "max_nn = int(24)\n",
    "inv_scale_grid = float(2.5/np.sqrt(3))\n",
    "# inv_scale_grid = 1\n",
    "radius_grid = radius_poisson/np.sqrt(3)/inv_scale_grid # radius for voxelizing before poisson sampling\n",
    "# radius_grid = radius_poisson/2.5\n",
    "\n",
    "num_per_grid = int(32/(inv_scale_grid**3))\n",
    "print(radius_knn)\n",
    "print(num_per_grid)\n",
    "print(radius_grid)"
   ]
  },
  {
   "cell_type": "markdown",
   "metadata": {},
   "source": [
    "# Leg Discretization"
   ]
  },
  {
   "cell_type": "code",
   "execution_count": 3,
   "metadata": {
    "ExecuteTime": {
     "end_time": "2020-11-16T21:39:13.145931Z",
     "start_time": "2020-11-16T21:39:13.074915Z"
    },
    "deletable": false,
    "editable": false
   },
   "outputs": [],
   "source": [
    "import numpy as np\n",
    "import matplotlib.pyplot as plt\n",
    "\n",
    "#############################################\n",
    "class Leg:\n",
    "    def __init__(s, d0, d1, r0, r1, r2, r3, a0):\n",
    "        s.d0 = d0  # length of first segment\n",
    "        s.d1 = d1  # length of last segment\n",
    "        s.r0 = r0  # radius of rotation of mid segment\n",
    "        s.r1 = r1  # radius of the first segment\n",
    "        s.r2 = r2  # radius at the end of second segment\n",
    "        s.r3 = r3  # radius at the end of the last segment\n",
    "        s.a0 = a0  # mid section rotation angle\n",
    "\n",
    "        # the starting point of the last segment at centerline\n",
    "        s.p1 = np.array((r0*np.sin(a0), r0*(1-np.cos(a0)), 0.))\n",
    "\n",
    "        # unit vector\n",
    "        s.ux = np.array((1., 0., 0.))\n",
    "        s.uy = np.array((0., 1., 0.))\n",
    "        s.uz = np.array((0., 0., 1.))\n",
    "\n",
    "        # axis of rotation on the second segment\n",
    "        s.pRot = np.array([0, r0, 0])\n",
    "\n",
    "        s.angMidStart = -np.pi/2  # start angle of mid segment\n",
    "        s.angMidEnd = -np.pi/2 + a0  # end angle of mid segment\n",
    "\n",
    "        # centerline dirction (unit vector) of the last segment\n",
    "        s.v1t = np.array((np.cos(a0), np.sin(a0), 0.))\n",
    "        # normal of centerline dirction (unit vector) of the last segment\n",
    "        s.v1n = np.array((-np.sin(a0), np.cos(a0), 0.))\n",
    "\n",
    "        # vectorize the _CenterLineDirction function\n",
    "        s.CenterLineDirction = np.vectorize(\n",
    "            s._CenterLineDirction, signature='()->(n)', otypes=[float])\n",
    "        \n",
    "        # inner cuts\n",
    "        s.r_inner_cut_ratio = 0.5\n",
    "        s.t_inner_cut_begin = 0.7\n",
    "        \n",
    "        s.bounds = s.GetBounds()# s.bounds\n",
    "        \n",
    "    def Idxs(s, t):\n",
    "        '''\n",
    "        return which segment t belongs\n",
    "        '''\n",
    "        t = np.asarray(t)\n",
    "        idxs = np.empty((3, t.size), dtype=bool)\n",
    "        # skip assertion for faster speed\n",
    "        # beware t must be [-1,2]\n",
    "        idxs[0] = t <= 0\n",
    "        idxs[1] = np.logical_and(~idxs[0], t <= 1)\n",
    "        idxs[2] = t > 1\n",
    "        return idxs\n",
    "\n",
    "    def _CenterLine(s, t):\n",
    "        assert(-1 <= t <= 2)\n",
    "        if t <= 0:\n",
    "            return np.array((s.d0*t, 0., 0.))\n",
    "        elif t <= 1:\n",
    "            return np.array((s.r0*np.sin(s.a0*t), s.r0*(1.-np.cos(s.a0*t)), 0.))\n",
    "        else:  # 1<=t<=2\n",
    "            return s.p1+s.d1*(t-1.)*s.v1t\n",
    "\n",
    "    def CenterLine(s, t, idxs=None):\n",
    "        \"\"\"\n",
    "        return the points that is on the leg centerline given t\n",
    "        \"\"\"\n",
    "        if (type(t) is not np.ndarray):\n",
    "            return s._CenterLine(t)\n",
    "\n",
    "        # cl: centerline ((x,y,z)...)\n",
    "        cl = np.zeros((t.size, 3), dtype=float)\n",
    "        if idxs is None:\n",
    "            idxs = s.Idxs(t)\n",
    "        cl[idxs[0], 0] = s.d0*t[idxs[0]]\n",
    "\n",
    "        cl[idxs[1], 0] = s.r0*np.sin(s.a0*t[idxs[1]])\n",
    "        cl[idxs[1], 1] = s.r0*(1.-np.cos(s.a0*t[idxs[1]]))\n",
    "\n",
    "        cl[idxs[2]] = s.p1+s.d1*(t[idxs[2]]-1.)[:, None]*s.v1t[None, :]\n",
    "\n",
    "        return cl\n",
    "\n",
    "    def _Radius(s, t):\n",
    "        #         assert(-1 <= t <= 2)\n",
    "        if t <= 0:\n",
    "            return s.r1\n",
    "        elif t <= 1:\n",
    "            return s.r2*t+s.r1*(1.-t)\n",
    "        else:  # 1<=t<=2\n",
    "            return s.r3*(t-1)+s.r2*(2.-t)\n",
    "\n",
    "    def Radius(s, t, idxs=None):\n",
    "        if (type(t) is not np.ndarray):\n",
    "            return s._Radius(t)\n",
    "        r = np.empty_like(t, dtype=float)\n",
    "\n",
    "        if idxs is None:\n",
    "            idxs = s.Idxs(t)\n",
    "\n",
    "        r[idxs[0]] = s.r1\n",
    "        r[idxs[1]] = s.r1 + (s.r2-s.r1)*t[idxs[1]]\n",
    "        r[idxs[2]] = 2*s.r2-s.r3 + (s.r3-s.r2)*t[idxs[2]]\n",
    "        return r\n",
    "    \n",
    "    def _CenterLineDirction(s, t):\n",
    "        #         assert(-1 <= t <= 2)\n",
    "        if t <= 0:\n",
    "            return np.array((1, 0, 0))\n",
    "        elif t <= 1:\n",
    "            return np.array((r0*np.sin(s.a0*t), r0*(1.-np.cos(s.a0*t)), 0.))\n",
    "        else:  # 1<=t<=2\n",
    "            return s.v1t\n",
    "        \n",
    "    def _CenterLineNormalDirction(s, t):\n",
    "        #         assert(-1 <= t <= 2)\n",
    "        if t <= 0:\n",
    "            return s.uy\n",
    "        elif t <= 1:\n",
    "            return np.array((-np.sin(s.a0*t), np.cos(s.a0*t), 0.))\n",
    "        else:  # 1<=t<=2\n",
    "            return s.v1n\n",
    "\n",
    "    def CenterLineNormalDirction(s, t, idxs=None):\n",
    "        if (type(t) is not np.ndarray):\n",
    "            return s._CenterLineNormalDirction(t)\n",
    "        d = np.empty((t.size, 3), dtype=float)\n",
    "\n",
    "        if idxs is None:\n",
    "            idxs = s.Idxs(t)\n",
    "\n",
    "        d[idxs[0]] = s.uy\n",
    "        d[idxs[1], 0] = -np.sin(s.a0*t[idxs[1]])\n",
    "        d[idxs[1], 1] = np.cos(s.a0*t[idxs[1]])\n",
    "        d[idxs[1], 2] = 0.\n",
    "\n",
    "        d[idxs[2]] = s.v1n\n",
    "        return d\n",
    "\n",
    "    def _SurfacePoint(s, t, w):\n",
    "        return s._CenterLine(t) + s._Radius(t)*(\n",
    "            s.uz*np.cos(w)+s._CenterLineNormalDirction(t)*np.sin(w))\n",
    "\n",
    "    def SurfacePoint(s, t, w):\n",
    "        \"\"\"\n",
    "        calcualte the surface point given t and w, vectorized version of _SurfacePoint\n",
    "        input:\n",
    "            s: self\n",
    "            t: variable [-1,2] that determines the location of the centerline\n",
    "            w: variable [0,2pi] that determins the ange of the surface point, the \n",
    "                centerline and the z vector \n",
    "        \"\"\"\n",
    "        # t and w are both scaler\n",
    "        if (type(t) is not np.ndarray) and (type(w) is not np.ndarray):\n",
    "            return s._CenterLine(t) + s._Radius(t)*(\n",
    "                s.uz*np.cos(w) + s._CenterLineNormalDirction(t)*np.sin(w))\n",
    "        else:\n",
    "            if type(t) is not np.ndarray:\n",
    "                t = np.array(t)\n",
    "            if type(w) is not np.ndarray:\n",
    "                w = np.array(w)\n",
    "\n",
    "            # now t and w are both vectors\n",
    "            return np.squeeze(s.CenterLine(t)[:, None, :] +\n",
    "                              s.Radius(t)[:, None, None]*(\n",
    "                s.CenterLineNormalDirction(t)[:, None, :]*np.sin(w)[None, :, None] +\n",
    "                s.uz[None, None, :]*np.cos(w)[None, :, None]))\n",
    "\n",
    "    def RandomPoint(s, num, surfaceOnly=False):\n",
    "        \"\"\"\n",
    "        generate random point within and on the body\n",
    "        input:\n",
    "            s: self\n",
    "            num: number of random point to be generated\n",
    "            surfaceOnly: (bool)  if true, only generate surface point\n",
    "        \"\"\"\n",
    "\n",
    "        # length of the centerline\n",
    "        len_centerline = s.d0+s.d1+s.r0*s.a0\n",
    "\n",
    "        t_high = np.nextafter(2, 3)  # 2.0000000000000004\n",
    "        len_0 = round(s.d0/len_centerline*num) # num of points for first segment\n",
    "        len_1 = size=round(s.r0*s.a0/len_centerline*num) # num of points for 2nd segment\n",
    "        len_2 = num - len_0-len_1 # round(s.d1/len_centerline*num) # num of points for 3rd segment\n",
    "        t = np.hstack(\n",
    "            (np.random.uniform(-1., 0, size=len_0),\n",
    "             np.random.uniform(0, 1., size=len_1),\n",
    "             np.random.uniform(1., t_high, size=len_2)))\n",
    "        \n",
    "        idxs = s.Idxs(t)\n",
    "\n",
    "#         t = np.random.uniform(low=-1, high=t_high, size=num)\n",
    "\n",
    "        if surfaceOnly:\n",
    "            r = s.Radius(t, idxs)\n",
    "        else:\n",
    "            # sqrt to accout for radius density is lower near the center\n",
    "            r = s.Radius(t, idxs)*np.sqrt(\n",
    "                np.random.uniform(0, np.nextafter(1, 2), size=num))# 1.0000000000000002\n",
    "        w = np.random.uniform(low=-np.pi, high=np.pi, size=num)\n",
    "\n",
    "        n = s.uz[None, :]*np.cos(w)[:, None] + \\\n",
    "            s.CenterLineNormalDirction(t, idxs)*np.sin(w)[:, None]\n",
    "\n",
    "        v = s.CenterLine(t) + r[:, None]*n\n",
    "        \n",
    "#         return v, n\n",
    "        valid_id =  ~s.InnerCut(t,r)\n",
    "        return v[valid_id],n[valid_id]\n",
    "        \n",
    "\n",
    "    def CrossSectionPoint(s,t,num,flip_normal=False,outlineOnly=False):\n",
    "        \"\"\"\n",
    "        generate random points at the cross-section face normal to centerline,\n",
    "        the cross-section face is determined by t. (does not consider innercuts)\n",
    "        input:\n",
    "            s: self\n",
    "            t: (double) scaler [-1,2] that determines the location of the centerline\n",
    "            num: number of random point to be generated\n",
    "            outlineOnly: (bool)  if true, only generate outlines point\n",
    "        \"\"\"\n",
    "        idxs = s.Idxs(t)\n",
    "        if outlineOnly:\n",
    "            r = s.Radius(t, idxs)\n",
    "        else:\n",
    "            # sqrt to accout for radius density is lower near the center\n",
    "            r = s.Radius(t, idxs)*np.sqrt(\n",
    "                np.random.uniform(0, np.nextafter(1, 2), size=num))# 1.0000000000000002\n",
    "        w = np.random.uniform(low=-np.pi, high=np.pi, size=num)\n",
    "        vn = s._CenterLineDirction(t) # normal direction of the face\n",
    "        if flip_normal:\n",
    "            vn=-vn\n",
    "        vn = np.repeat(vn.reshape((-1,3)), num,axis=0) # repeat normals\n",
    "        \n",
    "        n = s.uz[None, :]*np.cos(w)[:, None] + \\\n",
    "            s.CenterLineNormalDirction(t, idxs)*np.sin(w)[:, None]   \n",
    "        v = s.CenterLine(t)+ r[:, None] *n\n",
    "        return v, vn\n",
    "        \n",
    "    def _PointIsInside(s, p, eps_r=1e-6,eps_t=1e-6):\n",
    "        \"\"\"\n",
    "        check whether a point is inside (no innercut)\n",
    "        input: a point p of np.array([x,y,z])\n",
    "        returns:\n",
    "            is_inside: (bool) ,true if p is inside or on the surface\n",
    "            t: (float) a parameter that determins the position of the centerline point\n",
    "            w: (float) angle of point p measured from the centerline\n",
    "            r: (float) radius of point p measured from the centerline\n",
    "        \"\"\"\n",
    "\n",
    "        # vector from the second section axis of rotation to the point\n",
    "        v_p = p - s.pRot\n",
    "        # element-wise arc tangent of y/x - s.angMidStart\n",
    "        angle = np.arctan2(v_p[1], v_p[0]) - s.angMidStart\n",
    "        is_inside = True\n",
    "\n",
    "        if angle <= 0:\n",
    "            # first segment\n",
    "            t = p[0]/s.d0  # t parameter of the point\n",
    "\n",
    "        elif angle <= s.a0:\n",
    "            # mid segment\n",
    "            t = angle/s.a0\n",
    "        else:  # last segment\n",
    "            # vector from the start of the last segment at centerline to point c\n",
    "            v_p1p = p - s.p1\n",
    "            # say pc is normal to centerline and intersect at c\n",
    "            p1c = np.dot(v_p1p, s.v1t)\n",
    "            t = 1 + p1c/s.d1\n",
    "\n",
    "        c = s.CenterLine(t)  # point at centerline\n",
    "        v_pc = p - c  # vector from centerline to point p\n",
    "        r = np.linalg.norm(v_pc)\n",
    "        v_n = s.CenterLineNormalDirction(t)\n",
    "        w = np.arctan2(np.dot(v_pc, v_n), v_pc[2])\n",
    "\n",
    "        if r > s.Radius(t)+eps_r or t < -1-eps_t or t > 2+eps_t:\n",
    "            is_inside = False\n",
    "        return is_inside, t, w, r\n",
    "\n",
    "    def PointIsInside(s, p, eps_r=1e-6,eps_t=1e-6):\n",
    "        \"\"\"\n",
    "        input: point p of np.array([x,y,z]) \n",
    "                or np.array([[x0,y0,z0],[x1,y1,z1],...]) \n",
    "\n",
    "        returns:\n",
    "            is_inside: (bool) or np.array(bool),true if p is inside or on the surface\n",
    "            t: (float) or np.array(float) a parameter that determins the position of the centerline point\n",
    "            w: (float) or np.array(float) angle of point p measured from the centerline\n",
    "            r: (float) or np.array(float) radius of point p measured from the centerline\n",
    "        \"\"\"\n",
    "        if type(p) is not np.ndarray:\n",
    "            p = np.asarray(p)\n",
    "        if p.shape == (3,):\n",
    "            return s._PointIsInside(p,eps_r,eps_t)\n",
    "\n",
    "        # vector from the second section axis of rotation to the point\n",
    "        v_p = p - s.pRot\n",
    "        # element-wise arc tangent of y/x - s.angMidStart\n",
    "        angle = np.arctan2(v_p[:, 1], v_p[:, 0]) - s.angMidStart\n",
    "\n",
    "        num_points = p.shape[0]\n",
    "        idxs = np.empty((3, num_points), dtype=bool)\n",
    "        # skip assertion for faster speed\n",
    "        # beware t must be [-1,2]\n",
    "        idxs[0] = angle <= 0  # first segment\n",
    "        idxs[1] = np.logical_and(angle > 0, angle <= s.a0)  # mid segment\n",
    "        idxs[2] = angle > s.a0  # last segment\n",
    "\n",
    "        is_inside = np.ones(num_points, dtype=bool)\n",
    "        t = np.empty(num_points, dtype=float)\n",
    "\n",
    "        t[idxs[0]] = p[idxs[0], 0]/s.d0  # t at first segment\n",
    "        t[idxs[1]] = angle[idxs[1]]/s.a0  # t at mid segment\n",
    "\n",
    "        # vector from the start of the last segment at centerline to point c\n",
    "        v_p1p = p[idxs[2]] - s.p1\n",
    "        # say pc is normal to centerline and intersect at c\n",
    "        p1c = np.dot(v_p1p, s.v1t)\n",
    "        t[idxs[2]] = 1 + p1c/s.d1\n",
    "\n",
    "        c = s.CenterLine(t)  # points at centerline\n",
    "        v_pc = p - c  # vector from centerline to point p\n",
    "        r = np.linalg.norm(v_pc, axis=1)\n",
    "        v_n = s.CenterLineNormalDirction(t)\n",
    "\n",
    "        # w = np.arctan2(np.dot(v_pc, v_n), v_pc[:,2]) # scalar versin\n",
    "        # einsum is the row wise dot product\n",
    "        w = np.arctan2(np.einsum('ij,ij->i', v_pc, v_n), v_pc[:, 2])\n",
    "\n",
    "        is_inside[np.logical_or(\n",
    "            np.logical_or(r > s.Radius(t)+eps_r, t < -1-eps_t), t > 2+eps_t)] = False\n",
    "#         if r > s.Radius(t)+s.eps or t < -1-s.eps or t > 2+s.eps:\n",
    "#             is_inside = False\n",
    "\n",
    "        is_inside[s.InnerCut(t,r)] = False\n",
    "#         return is_inside, t, w, r\n",
    "        return is_inside, t, w, r\n",
    "\n",
    "\n",
    "    def GetBounds(s):\n",
    "        v_pf, n_pf = s.RandomPoint(50000, surfaceOnly=True)\n",
    "        bounds = np.asarray((v_pf.min(axis=0), v_pf.max(axis=0)))\n",
    "        greater0 = bounds > 0\n",
    "        less0 = bounds < 0\n",
    "        bounds[greater0] = np.ceil(bounds[greater0])\n",
    "        bounds[less0] = np.floor(bounds[less0])\n",
    "        return bounds\n",
    "    \n",
    "    def InnerCut(s,t,r):\n",
    "        #######inner cut#########\n",
    "#         is_inside, t, w, r = s.PointIsInside(points)\n",
    "        is_inner_void = np.logical_and(t>s.t_inner_cut_begin,r<s.Radius(t)*s.r_inner_cut_ratio)\n",
    "        return is_inner_void"
   ]
  },
  {
   "cell_type": "code",
   "execution_count": 4,
   "metadata": {
    "ExecuteTime": {
     "end_time": "2020-11-16T21:39:13.189950Z",
     "start_time": "2020-11-16T21:39:13.148932Z"
    },
    "deletable": false,
    "editable": false
   },
   "outputs": [
    {
     "name": "stdout",
     "output_type": "stream",
     "text": [
      "joint_overlap:60.0\n"
     ]
    },
    {
     "data": {
      "text/plain": [
       "True"
      ]
     },
     "execution_count": 4,
     "metadata": {},
     "output_type": "execute_result"
    }
   ],
   "source": [
    "half_joint_overlap = radius_poisson * 3\n",
    "joint_overlap = half_joint_overlap*2\n",
    "print(f\"joint_overlap:{joint_overlap}\")\n",
    "leg_d0 = 0.05+2 # length of first segment, 2.2 is the thickness of the coupler\n",
    "leg_d1 = 120  # length of last segment\n",
    "leg_r0 = 38   # radius of rotation of mid segment\n",
    "# leg_d1 = 150  # length of last segment\n",
    "# leg_r0 = 55   # radius of rotation of mid segment\n",
    "\n",
    "leg_r1 = 32   # radius of the first segment\n",
    "leg_r2 = 32   # radius of the end at the second segment\n",
    "# leg_r3 = 16   # radius at the end of the last segment\n",
    "leg_r3 = 24   # radius at the end of the last segment\n",
    "\n",
    "leg_a0 = np.pi*90/180 # mid section rotation angle\n",
    " \n",
    "\n",
    "leg = Leg(d0=leg_d0+joint_overlap, \n",
    "          d1=leg_d1, \n",
    "          r0=leg_r0, \n",
    "          r1=leg_r1, \n",
    "          r2=leg_r2,  \n",
    "          r3=leg_r3, \n",
    "          a0=leg_a0)\n",
    "# leg_envelop = Leg(d0=leg_d0+joint_overlap, d1=50, r0=30, r1=20+0.5, r2=16+0.5,  r3=10+0.5, a0=np.pi*3/5)\n",
    "\n",
    "len_centerline = leg.d0+leg.d1+leg.r0*leg.a0\n",
    "\n",
    "num_t = 180\n",
    "# t_space\n",
    "t_space = np.hstack(\n",
    "    (np.linspace(-1., 0, num=round(leg.d0/len_centerline*num_t)),\n",
    "     np.linspace(0, 1., num=round(leg.r0*leg.a0/len_centerline*num_t)),\n",
    "     np.linspace(1., 2., num=round(leg.d1/len_centerline*num_t))))\n",
    "\n",
    "# w_space\n",
    "w_space = np.linspace(0, 2*np.pi, num=720, endpoint=False)\n",
    "\n",
    "\n",
    "#### unit test\n",
    "np.alltrue(leg.PointIsInside([\n",
    "    leg.SurfacePoint(-0.5, -np.pi/3),\n",
    "    leg.SurfacePoint(0.5, -np.pi/3),\n",
    "    leg.SurfacePoint(1.5, -np.pi/3)])[0])\n",
    "####\n",
    "\n",
    "# surface_points = leg.SurfacePoint(t_space,w_space).reshape((-1,3))\n",
    "\n"
   ]
  },
  {
   "cell_type": "markdown",
   "metadata": {},
   "source": [
    "## Generate leg mesh from suface point cloud"
   ]
  },
  {
   "cell_type": "code",
   "execution_count": 5,
   "metadata": {
    "ExecuteTime": {
     "end_time": "2020-11-16T21:39:14.430120Z",
     "start_time": "2020-11-16T21:39:13.586039Z"
    }
   },
   "outputs": [
    {
     "name": "stdout",
     "output_type": "stream",
     "text": [
      "(460000, 3)\n",
      "generate leg mesh: run Poisson surface reconstruction\n",
      "mesh_leg = TriangleMesh with 6266 points and 12528 triangles.\n"
     ]
    }
   ],
   "source": [
    "########## create dense point cloud of leg surface ##############\n",
    "v_leg_c0, n_leg_c0 = leg.CrossSectionPoint(-1,40000,flip_normal=True) # left-end surface\n",
    "v_leg_c1, n_leg_c1 = leg.CrossSectionPoint(2,20000) # right-end surface\n",
    "v_leg_f, n_leg_f = leg.RandomPoint(400000, surfaceOnly=True) # main surface\n",
    "v_leg_c = np.vstack((v_leg_c0,v_leg_f,v_leg_c1)) # combine points\n",
    "n_leg_c = np.vstack((n_leg_c0,n_leg_f,n_leg_c1)) # combine normals\n",
    "\n",
    "print(v_leg_c.shape) # pre-prune to form sudo-uniformed point cloud\n",
    "# v_leg_c, n_leg_c = pcu.prune_point_cloud_poisson_disk(\n",
    "# v=v_leg_c, n=n_leg_c, radius=radius_poisson*0.05, best_choice_sampling=False)\n",
    "# print(v_leg_c.shape)\n",
    "\n",
    "pcd_leg = o3d.geometry.PointCloud()\n",
    "pcd_leg.points = o3d.utility.Vector3dVector(v_leg_c)\n",
    "pcd_leg.normals = o3d.utility.Vector3dVector(n_leg_c)\n",
    "# o3d.visualization.draw_geometries([pcd_leg,coord_frame],point_show_normal=True)\n",
    "\n",
    "####### generate leg mesh using Poisson surface reconstruction #######\n",
    "print('generate leg mesh: run Poisson surface reconstruction')\n",
    "mesh_leg, densities = o3d.geometry.TriangleMesh.create_from_point_cloud_poisson(pcd_leg,depth=6,scale=1.1)\n",
    "mesh_leg.compute_triangle_normals()\n",
    "mesh_leg.paint_uniform_color((0.6, 0.6, 0.6))\n",
    "print(f\"mesh_leg = {mesh_leg}\")\n",
    "############# visualize densities ###################################\n",
    "densities = np.asarray(densities)\n",
    "density_colors = plt.get_cmap('plasma')(\n",
    "    (densities - densities.min()) / (densities.max() - densities.min()))\n",
    "density_colors = density_colors[:, :3]\n",
    "mesh_leg.vertex_colors = o3d.utility.Vector3dVector(density_colors)\n",
    "####################################################################\n",
    "# o3d.visualization.draw_geometries([mesh_leg,pcd_leg])\n",
    "# o3d.visualization.draw_geometries([mesh_leg],mesh_show_wireframe=True)\n",
    "################## simplify the leg mesh ############################\n",
    "mesh_leg_s = mesh_leg.simplify_quadric_decimation(1500)\n",
    "# print(f\"mesh_leg_s = {mesh_leg_s}\")\n",
    "# o3d.visualization.draw_geometries([mesh_leg_s,pcd_leg])\n",
    "# o3d.visualization.draw_geometries([mesh_leg_s],mesh_show_wireframe=True)"
   ]
  },
  {
   "cell_type": "code",
   "execution_count": 6,
   "metadata": {
    "ExecuteTime": {
     "end_time": "2020-11-16T21:39:19.534764Z",
     "start_time": "2020-11-16T21:39:18.759776Z"
    },
    "deletable": false,
    "editable": false,
    "scrolled": false
   },
   "outputs": [
    {
     "data": {
      "image/png": "[encoded data removed]",
      "text/plain": [
       "<Figure size 576x288 with 3 Axes>"
      ]
     },
     "metadata": {
      "image/png": {
       "height": 282,
       "width": 568
      }
     },
     "output_type": "display_data"
    }
   ],
   "source": [
    "center_line = leg.CenterLine(t_space)\n",
    "radius = leg.Radius(t_space)\n",
    "\n",
    "normal = leg.CenterLineNormalDirction(t_space)\n",
    "\n",
    "fig, axes = plt.subplots(1,3,figsize=(8,4))\n",
    "\n",
    "axes[0].plot(center_line[:,0],center_line[:,1])\n",
    "plt.xlabel('x')\n",
    "plt.ylabel('y')\n",
    "plt.title('center line')\n",
    "plt.axis('equal')\n",
    "\n",
    "axes[1].plot(t_space,radius)\n",
    "plt.xlabel('t')\n",
    "plt.ylabel('radius')\n",
    "plt.title('radius')\n",
    "\n",
    "axes[2].quiver(center_line[::3,0],center_line[::3,1],normal[::3,0],normal[::3,1])\n",
    "plt.axis('equal')\n",
    "plt.xlabel('t')\n",
    "plt.ylabel('radius')\n",
    "plt.title('radius')\n",
    "plt.tight_layout()\n",
    "plt.show()"
   ]
  },
  {
   "cell_type": "code",
   "execution_count": 7,
   "metadata": {
    "ExecuteTime": {
     "end_time": "2020-11-16T21:39:19.873427Z",
     "start_time": "2020-11-16T21:39:19.849421Z"
    }
   },
   "outputs": [],
   "source": [
    "#######################################\n",
    "# v_leg: nx3 np array of vertices\n",
    "# n_leg: nx3 np array of vertex normals\n",
    "\n",
    "v_leg, n_leg = leg.RandomPoint(30000)\n",
    "v_leg_f, n_leg_f = leg.RandomPoint(1000, surfaceOnly=True)\n",
    "\n",
    "\n",
    "# Pass xyz to Open3D.o3d.geometry.PointCloud and visualize\n",
    "pcd_leg = o3d.geometry.PointCloud()\n",
    "pcd_leg.points = o3d.utility.Vector3dVector(v_leg)\n",
    "pcd_leg.normals = o3d.utility.Vector3dVector(n_leg)\n",
    "\n",
    "# pcd_leg.points = o3d.utility.Vector3dVector(np.vstack((v_leg_f,v_leg)))\n",
    "# pcd_leg.points = o3d.utility.Vector3dVector(np.round(np.vstack((v_leg_f,v_leg))))\n",
    "\n",
    "# # Pass xyz to Open3D.o3d.geometry.PointCloud and visualize\n",
    "# v_leg_dense = np.vstack((v_leg_f, v_leg))\n",
    "# pcd_leg = o3d.geometry.PointCloud()\n",
    "# pcd_leg.points = o3d.utility.Vector3dVector(v_leg_dense)\n",
    "\n",
    "# pcd_leg_centerline = o3d.geometry.PointCloud()\n",
    "# pcd_leg_centerline.points = o3d.utility.Vector3dVector(center_line)\n",
    "# pcd_leg_centerline.paint_uniform_color([1, 0, 0])\n",
    "\n",
    "# pcd_leg_surface = o3d.geometry.PointCloud()\n",
    "# pcd_leg_surface.points = o3d.utility.Vector3dVector(\n",
    "#     np.vstack((v_leg_f, center_line)))\n",
    "\n",
    "# _,t,_,r=leg.PointIsInside(v_leg_dense)\n",
    "# signed_distance = leg.Radius(t)-r\n",
    "# leg_colors = cmap(NormalizeSignedDistance(signed_distance,zero_map_to=0.))[:,:3] # drop alpha channel\n",
    "# pcd_leg.colors = o3d.utility.Vector3dVector(leg_colors)\n",
    "\n",
    "# # # visualization\n",
    "# o3d.visualization.draw_geometries([pcd_leg,coord_frame],point_show_normal=False)\n",
    "# o3d.visualization.draw_geometries_with_animation_callback([pcd_leg,coord_frame],rotate_view,width=2160, height=2160)\n",
    "# # o3d.visualization.draw_geometries([pcd_leg_surface,coord_frame])\n",
    "# # # o3d.visualization.draw_geometries_with_animation_callback([pcd_leg_centerline,pcd_leg_surface,coord_frame],\n",
    "# # #                                                               rotate_view)"
   ]
  },
  {
   "cell_type": "markdown",
   "metadata": {},
   "source": [
    "## generate spring-mass leg"
   ]
  },
  {
   "cell_type": "code",
   "execution_count": 8,
   "metadata": {
    "ExecuteTime": {
     "end_time": "2020-11-16T21:39:22.130130Z",
     "start_time": "2020-11-16T21:39:22.090131Z"
    }
   },
   "outputs": [
    {
     "name": "stdout",
     "output_type": "stream",
     "text": [
      "bounds=\n",
      " [[-64. -32. -32.]\n",
      " [ 72. 160.  32.]]\n"
     ]
    }
   ],
   "source": [
    "bounds = leg.GetBounds()\n",
    "# print(\"bounds=\\n\", bounds)\n",
    "xyz_grid, bounds = createGrid(bounds, dr=radius_grid)\n",
    "print(\"bounds=\\n\", bounds)\n",
    "xyz_grid_flat = xyz_grid.reshape((-1, 3))\n",
    "\n",
    "grid_is_inside_flat,_,_,_ = leg.PointIsInside(xyz_grid_flat)\n",
    "grid_is_inside = grid_is_inside_flat.reshape(xyz_grid.shape[:-1])\n",
    "#     print(f\"xyz_grid.shape={xyz_grid.shape}\")\n",
    "############################################\n",
    "window = np.ones((3, 3, 3))\n",
    "grid_is_edge = binary_dilation(\n",
    "    grid_is_inside, window)*~binary_erosion(grid_is_inside, window)\n",
    "#     print(f\"{grid_is_edge.sum()}\")\n",
    "grid_is_deep_inside = grid_is_inside*~grid_is_edge\n",
    "#     print(f\"{grid_is_deep_inside.sum()}\")\n",
    "\n",
    " # grid points near the edge, sampling around may result in outside points\n",
    "xyz_grid_edge = xyz_grid[grid_is_edge]\n",
    " # grid points deep inside the body, sampling around garantees inside points\n",
    "xyz_grid_inside = xyz_grid[grid_is_deep_inside]\n",
    "\n",
    "def LegSamplingHelper(leg,radius_poisson=radius_poisson,radius_grid=radius_grid,num_per_grid=num_per_grid):\n",
    "    # near-edge points candidate\n",
    "    xyz_edge_candidate = UniformRandomAroundPoints(xyz_grid_edge,\n",
    "                                                      radius_grid,num_per_grid=num_per_grid)\n",
    "    is_edge_candidate,_,_,_ = leg.PointIsInside(xyz_edge_candidate)\n",
    "    xyz_edge_candidate = xyz_edge_candidate[is_edge_candidate]\n",
    "#     print(f\"pruning outside points:{xyz_edge_candidate.shape}->{xyz_edge_candidate.shape}\")\n",
    "\n",
    "    # deep-inside points candidate\n",
    "    xyz_deep_inside_candidate = UniformRandomAroundPoints(xyz_grid_inside,\n",
    "                                                          radius_grid,num_per_grid=num_per_grid)\n",
    "    # combined points candidate\n",
    "    xyz_candidate = np.vstack([xyz_deep_inside_candidate, xyz_edge_candidate])\n",
    "#     print(f\"points near surface:{xyz_edge_candidate.shape}\")\n",
    "#     print(f\"points deep inside :{xyz_deep_inside_candidate.shape}\")\n",
    "#     print(f\"total points       :{xyz_candidate.shape}\")\n",
    "    \n",
    "    v_leg_down, n_leg_down = pcu.prune_point_cloud_poisson_disk(\n",
    "    v=xyz_candidate, n=np.zeros_like(xyz_candidate), radius=radius_poisson, best_choice_sampling=True)\n",
    "    return v_leg_down, n_leg_down"
   ]
  },
  {
   "cell_type": "code",
   "execution_count": 9,
   "metadata": {
    "ExecuteTime": {
     "end_time": "2020-11-16T21:39:38.277010Z",
     "start_time": "2020-11-16T21:39:22.589770Z"
    }
   },
   "outputs": [],
   "source": [
    "## downsampling\n",
    "\n",
    "# v_leg_down, n_leg_down = pcu.prune_point_cloud_poisson_disk(\n",
    "#     v=v_leg, n=n_leg, radius=radius_poisson, best_choice_sampling=False)\n",
    "# print(v_leg_down.shape)\n",
    "# pcd_leg_d = o3d.geometry.PointCloud()  # down-sampled point cloud data\n",
    "# pcd_leg_d.points = o3d.utility.Vector3dVector(v_leg_down)\n",
    "# # o3d.visualization.draw_geometries([pcd_leg_d,coord_frame])\n",
    "\n",
    "n_jobs = int(multiprocessing.cpu_count()*0.4)\n",
    "total_jobs = n_jobs*10\n",
    "leg_result = Parallel(n_jobs=n_jobs)(delayed(LegSamplingHelper)(leg_k) for \n",
    "    leg_k in [copy.deepcopy(leg) for k in range(total_jobs)])\n",
    "# leg_result = Parallel(n_jobs=n_jobs)(delayed(LegSamplingHelper)(leg) for i in range(n_jobs*4))"
   ]
  },
  {
   "cell_type": "code",
   "execution_count": 10,
   "metadata": {
    "ExecuteTime": {
     "end_time": "2020-11-16T21:39:38.296586Z",
     "start_time": "2020-11-16T21:39:38.279007Z"
    }
   },
   "outputs": [],
   "source": [
    "# find the leg that has the least deviation from the centerline in the first section\n",
    "mse_list = [np.linalg.norm(np.mean(v_down[v_down[:,0]<=0],axis=0)[1:]) for v_down,n_down in leg_result]\n",
    "v_leg_down,n_leg_down = leg_result[np.argmin(mse_list)]"
   ]
  },
  {
   "cell_type": "code",
   "execution_count": 11,
   "metadata": {
    "ExecuteTime": {
     "end_time": "2020-11-16T21:39:38.307111Z",
     "start_time": "2020-11-16T21:39:38.299109Z"
    }
   },
   "outputs": [],
   "source": [
    "# is_inside, t, w, r = leg.PointIsInside(v_leg_down)\n",
    "\n",
    "# r_inner_cut_ratio = 0.3\n",
    "# t_inner_cut_begin = 1 - 0.3\n",
    "\n",
    "# is_inner_void = np.logical_and(t>t_inner_cut_begin,r<leg.Radius(t)*r_inner_cut_ratio)\n",
    "# # is_inner_void = np.logical_and(t>t_inner_cut_begin,r<leg.Radius(t)-16)\n",
    "# v_leg_down = v_leg_down[~is_inner_void]\n",
    "# n_leg_down = n_leg_down[~is_inner_void]"
   ]
  },
  {
   "cell_type": "code",
   "execution_count": 12,
   "metadata": {
    "ExecuteTime": {
     "end_time": "2020-11-16T21:39:38.318104Z",
     "start_time": "2020-11-16T21:39:38.310113Z"
    }
   },
   "outputs": [
    {
     "name": "stdout",
     "output_type": "stream",
     "text": [
      "COM at 1st section: [-31.999   0.015  -0.025]\n",
      "COM: [14.052 41.3   -0.129]\n"
     ]
    }
   ],
   "source": [
    "pcd_leg_d = o3d.geometry.PointCloud()  # down-sampled point cloud data\n",
    "pcd_leg_d.points = o3d.utility.Vector3dVector(v_leg_down)\n",
    "# pcd_leg_d.normals=o3d.utility.Vector3dVector(n_leg_down)# todo,fix this normal to correct value\n",
    "# o3d.visualization.draw_geometries([pcd_leg_d,coord_frame])\n",
    "\n",
    "with np.printoptions(precision=3, suppress=True):\n",
    "    print(\"COM at 1st section:\",np.mean(v_leg_down[v_leg_down[:,0]<=0],axis=0))\n",
    "    print(\"COM:\",np.mean(v_leg_down,axis=0))\n",
    "    \n",
    "# o3d.visualization.draw_geometries([pcd_leg_d,coord_frame])"
   ]
  },
  {
   "cell_type": "code",
   "execution_count": 13,
   "metadata": {
    "ExecuteTime": {
     "end_time": "2020-11-16T21:39:38.981479Z",
     "start_time": "2020-11-16T21:39:38.320114Z"
    },
    "scrolled": true
   },
   "outputs": [
    {
     "name": "stdout",
     "output_type": "stream",
     "text": [
      "#mass: 564\n",
      "#springs: 5930\n",
      "mean neighbors =22.8\n"
     ]
    },
    {
     "data": {
      "image/png": "[encoded data removed]",
      "text/plain": [
       "<Figure size 1440x288 with 2 Axes>"
      ]
     },
     "metadata": {
      "image/png": {
       "height": 281,
       "width": 1433
      }
     },
     "output_type": "display_data"
    }
   ],
   "source": [
    "# def MomentOfInertial(p,p0,n):\n",
    "#     \"\"\"\n",
    "#     calculate the moment of inertia of points p rotated about axis with normal n,\n",
    "#     p0 is a point on the axis\n",
    "#     \"\"\"\n",
    "#     if np.abs(np.linalg.norm(n)-1)>1e-16:\n",
    "#         n = n/np.linalg.norm(n) # normallize the axis direction\n",
    "#     p0 = np.asarray(p0)\n",
    "#     d = np.cross(p-p0,n)\n",
    "    \n",
    "#     return np.sum(np.linalg.norm(d,ord=2,axis=1)**2)\n",
    "# moi_list = [MomentOfInertial(v_down[v_down[:,0]<=0],(0,0,0),(1,0,0)) for v_down,_ in result]\n",
    "#########################################################################################\n",
    "\n",
    "\n",
    "# KDTree for nearest neighbor search\n",
    "pcd_leg_tree = o3d.geometry.KDTreeFlann(pcd_leg_d)\n",
    "\n",
    "# o3d.visualization.draw_geometries([pcd_leg_d,coord_frame])\n",
    "\n",
    "neighbors = [np.asarray(pcd_leg_tree.search_hybrid_vector_3d(point, radius_knn,max_nn = max_nn)[1]) for point in v_leg_down]\n",
    "\n",
    "def GetEdges(neighbor):\n",
    "    candidate = neighbor[1:]\n",
    "    self = neighbor[0]\n",
    "    candidate = candidate[candidate<self] # to remove redundency\n",
    "    edges = np.empty((candidate.size,2),dtype=np.int32)\n",
    "    edges[:,0]=self\n",
    "    edges[:,1]=candidate\n",
    "    return edges\n",
    "\n",
    "def GetMidpoints(points,epid):\n",
    "    \"\"\"\n",
    "    return the xyzs of the midpoints given\n",
    "    points: (nx3 double np.array)\n",
    "    epid: endpoints indices (nx2 int np.array)\n",
    "    \"\"\"\n",
    "    return 0.5*(points[epid[:,0]]+points[epid[:,1]])\n",
    "\n",
    "\n",
    "lines_leg = np.vstack([GetEdges(neighbor[:max_nn]) for neighbor in neighbors])\n",
    "\n",
    "# trim springs outside the leg\n",
    "mid_points = GetMidpoints(v_leg_down,lines_leg)\n",
    "is_inside, t, w, r = leg.PointIsInside(mid_points)\n",
    "lines_leg = lines_leg[leg.PointIsInside(mid_points)[0]]\n",
    "\n",
    "# is_inner_void = np.logical_and(t>t_inner_cut,r<leg.Radius(t)*r_inner_cut_ratio)\n",
    "# # is_inner_void = np.logical_and(t>t_inner_cut,r<leg.Radius(t)-16)\n",
    "# lines_leg = lines_leg[~is_inner_void]\n",
    "\n",
    "\n",
    "print(\"#mass: %i\"%v_leg_down.shape[0])\n",
    "print(\"#springs: %i\"%lines_leg.shape[0])\n",
    "\n",
    "lsd_leg = o3d.geometry.LineSet()\n",
    "lsd_leg.points = o3d.utility.Vector3dVector(v_leg_down)\n",
    "lsd_leg.lines = o3d.utility.Vector2iVector(lines_leg)\n",
    "\n",
    "    \n",
    "fig, ax = plt.subplots(2,1,figsize=(20,4))\n",
    "\n",
    "# check the distribution of the distance of the springs\n",
    "ax[0].hist(np.linalg.norm(v_leg_down[lines_leg[:,0]] - v_leg_down[lines_leg[:,1]],axis=1),bins=100,histtype=\"step\")\n",
    "ax[0].set_xlabel(\"spring length\")\n",
    "ax[0].set_ylabel(\"count\")\n",
    "# check the #of neighbors\n",
    "neighbor_counts = np.array([len(neighbor) for neighbor in neighbors])\n",
    "print(f\"mean neighbors ={np.mean(neighbor_counts):.1f}\")\n",
    "min_n, max_n = np.amin(neighbor_counts), np.amax(neighbor_counts)\n",
    "hist,bin_edges,patches =ax[1].hist(neighbor_counts,bins=np.arange(min_n-0.5,max_n+1+0.5, 1))\n",
    "\n",
    "ax[1].set_xticks(np.arange(min_n,max_n+1, 1))\n",
    "\n",
    "ax[1].set_xlabel(\"#neighbors(including self)\")\n",
    "ax[1].set_ylabel(\"count\")\n",
    "\n",
    "plt.tight_layout()\n",
    "plt.show()"
   ]
  },
  {
   "cell_type": "code",
   "execution_count": 14,
   "metadata": {
    "ExecuteTime": {
     "end_time": "2020-11-16T21:39:46.073086Z",
     "start_time": "2020-11-16T21:39:38.983511Z"
    }
   },
   "outputs": [
    {
     "name": "stdout",
     "output_type": "stream",
     "text": [
      "(564,)\n",
      "suface points:0.420\n"
     ]
    }
   ],
   "source": [
    "_,t,_,r=leg.PointIsInside(v_leg_down)\n",
    "signed_distance = leg.Radius(t)-r\n",
    "\n",
    "# ####################### get surface points from pcd ##########################\n",
    "# # average divergence of the neighbors from a point, (use nb[1:] to exclude the self point)\n",
    "# average_divergence_leg = np.linalg.norm(\n",
    "#     [v_leg_down[nb[1:]].mean(axis=0)-v_leg_down[i] for i,nb in enumerate(neighbors)],axis=1)\n",
    "\n",
    "# neighbors_counts = np.array(list(map(len, neighbors))) # number of neighbors per point\n",
    "\n",
    "# # points is near surface if: \n",
    "# # (1) close to surface or \n",
    "# # (2) have a large avg divergence or \n",
    "# # (3) have a fewer than 26 neighbors (including self)\n",
    "# is_surface_leg = (signed_distance<radius_poisson*0.5)+\\\n",
    "#                   (average_divergence_leg>radius_poisson*0.5)+\\\n",
    "#                  (neighbors_counts<26)\n",
    "# print(f\"suface points:{is_surface_leg.sum()/len(is_surface_leg) :.3f}\")\n",
    "\n",
    "####################### get surface points from mesh ########################\n",
    "# KDTree for nearest neighbor search\n",
    "mesh_leg_surface_tree = o3d.geometry.KDTreeFlann(mesh_leg)\n",
    "mesh_leg_vertices = np.asarray(mesh_leg.vertices)\n",
    "\n",
    "is_surface_leg = np.zeros(len(v_leg_down),dtype=bool)\n",
    "print(is_surface_leg.shape)\n",
    "for k,point in enumerate(np.asarray(v_leg_down)):\n",
    "    num_neighbor,neighbor,dist = mesh_leg_surface_tree.search_hybrid_vector_3d(point, radius_knn,max_nn = 1)\n",
    "    if num_neighbor>0 and np.asarray(dist)[0]<radius_poisson*1.0:\n",
    "#         idx = np.asarray(neighbor)[0]\n",
    "        is_surface_leg[k] = True\n",
    "\n",
    "print(f\"suface points:{is_surface_leg.sum()/len(is_surface_leg) :.3f}\")\n",
    "##################colorize the pcd and lsd ###################################\n",
    "# color the pointcloud and lines\n",
    "# cmap = plt.cm.get_cmap('hot')\n",
    "cmap = plt.cm.get_cmap('hot')\n",
    "\n",
    "nsd_leg = NormalizeSignedDistance(signed_distance,zero_map_to=0.0) # normalized signed distance for leg points=\n",
    "# plt.plot(signed_distance,nsd_leg,'.')\n",
    "leg_colors = cmap(nsd_leg)[:,:3] # drop alpha channel\n",
    "\n",
    "# leg_colors[is_surface_leg]=(1,0,0) # set surface color\n",
    "# leg_colors[~is_surface_leg]=(0,1,0) # set interior points color\n",
    "\n",
    "pcd_leg_d.colors = o3d.utility.Vector3dVector(leg_colors)\n",
    "# the line colors are the average of the two end points colors\n",
    "leg_lines_colors = (leg_colors[lines_leg[:,0]]+leg_colors[lines_leg[:,1]])/2\n",
    "lsd_leg.colors = o3d.utility.Vector3dVector(leg_lines_colors)\n",
    "\n",
    "o3d.visualization.draw_geometries([lsd_leg, pcd_leg_d,coord_frame])"
   ]
  },
  {
   "cell_type": "code",
   "execution_count": 15,
   "metadata": {
    "ExecuteTime": {
     "end_time": "2020-11-16T21:39:48.042436Z",
     "start_time": "2020-11-16T21:39:46.076086Z"
    }
   },
   "outputs": [],
   "source": [
    "o3d.visualization.draw_geometries([lsd_leg, pcd_leg_d,coord_frame])\n",
    "\n",
    "# o3d.visualization.draw_geometries([pcd_leg_d])\n",
    "# o3d.visualization.draw_geometries([pcd_leg_d])\n",
    "# o3d.visualization.draw_geometries_with_animation_callback([lsd_leg,coord_frame,pcd_leg_d],rotate_view)\n",
    "# o3d.visualization.draw_geometries_with_animation_callback([lsd_leg,coord_frame,pcd_leg_d,pcd_leg_centerline],rotate_view,\n",
    "#                                                          width=1080, height=1080)"
   ]
  },
  {
   "cell_type": "code",
   "execution_count": 282,
   "metadata": {
    "ExecuteTime": {
     "end_time": "2020-09-01T03:26:17.253225Z",
     "start_time": "2020-09-01T03:26:16.356963Z"
    },
    "deletable": false,
    "editable": false,
    "run_control": {
     "frozen": true
    },
    "scrolled": true
   },
   "outputs": [
    {
     "name": "stdout",
     "output_type": "stream",
     "text": [
      "geometry::TriangleMesh with 5546 points and 11088 triangles.\n",
      "geometry::TriangleMesh with 221 points and 438 triangles.\n"
     ]
    }
   ],
   "source": [
    "# v_leg_down_surface = v_leg_down[is_surface_leg]\n",
    "# pcd_leg_d_surface = pcd_leg_d.select_by_index(np.where(is_surface_leg)[0])\n",
    "\n",
    "# # # KDTree for nearest neighbor search\n",
    "# pcd_leg_surface_tree = o3d.geometry.KDTreeFlann(pcd_leg_d_surface)\n",
    "\n",
    "# def movePointsToNearestNeighbor(point):\n",
    "#     num_neighbor,neighbor,dist = pcd_leg_surface_tree.search_hybrid_vector_3d(point, radius_knn,max_nn = 1)\n",
    "#     return v_leg_down_surface[np.asarray(neighbor[0])]\n",
    "\n",
    "# mesh_leg_adjusted_vertices = [movePointsToNearestNeighbor(point) for point in np.asarray(mesh_leg.vertices)]\n",
    "\n",
    "# mesh_leg_adjusted = copy.deepcopy(mesh_leg)\n",
    "# mesh_leg_adjusted.vertices = o3d.utility.Vector3dVector(mesh_leg_adjusted_vertices)\n",
    "# print(mesh_leg_adjusted)\n",
    "# # clean up the mesh\n",
    "# mesh_leg_adjusted.remove_duplicated_vertices()\n",
    "# mesh_leg_adjusted.remove_duplicated_triangles()\n",
    "# mesh_leg_adjusted.remove_degenerate_triangles()\n",
    "# print(mesh_leg_adjusted)\n",
    "\n",
    "\n",
    "# o3d.visualization.draw_geometries([mesh_leg_adjusted, pcd_leg_d,lsd_leg,coord_frame],mesh_show_wireframe=True)\n",
    "# # o3d.visualization.draw_geometries([mesh_leg_adjusted,coord_frame],mesh_show_wireframe=True)\n",
    "# # o3d.visualization.draw_geometries_with_animation_callback([mesh_leg_adjusted],rotate_view)"
   ]
  },
  {
   "cell_type": "markdown",
   "metadata": {},
   "source": [
    "# Body discretization"
   ]
  },
  {
   "cell_type": "code",
   "execution_count": 16,
   "metadata": {
    "ExecuteTime": {
     "end_time": "2020-11-16T21:39:48.068458Z",
     "start_time": "2020-11-16T21:39:48.047218Z"
    }
   },
   "outputs": [
    {
     "name": "stdout",
     "output_type": "stream",
     "text": [
      "joint_radius=27.5\n"
     ]
    }
   ],
   "source": [
    "############################ defineing joints geometry\n",
    "dy = 260.0/2\n",
    "rot_ang = 10.0\n",
    "cylinder_len = 103\n",
    "\n",
    "dx_front = 0.0\n",
    "dx_back = dx_front\n",
    "########################################################\n",
    "t_axial = Translate((0,0,cylinder_len-half_joint_overlap)) # translate along cylinder\n",
    "t_zrot = RotateFromVec((0,0,1),np.pi)\n",
    "\n",
    "t0 = Translate((dx_front,0,dy)).dot(RotateFromVec((0, 1, 0),(90-rot_ang)/180.*np.pi).dot(t_axial))# front left\n",
    "t1 = Translate((dx_back,0,-dy)).dot(RotateFromVec((0, 1, 0),(90+rot_ang)/180.*np.pi).dot(t_axial))# back left\n",
    "t2 = Translate((-dx_back,0,-dy)).dot(RotateFromVec((0, 1, 0),(-90-rot_ang)/180.*np.pi).dot(t_zrot).dot(t_axial))# back right\n",
    "t3 = Translate((-dx_front,0,dy)).dot(RotateFromVec((0, 1, 0),(-90+rot_ang)/180.*np.pi).dot(t_zrot).dot(t_axial))# front right\n",
    "leg_axes_transform = [t0,t1,t2,t3]\n",
    "\n",
    "\n",
    "joint_radius = radius_poisson*2.75\n",
    "# joint_radius = leg_r1\n",
    "print(f\"joint_radius={joint_radius}\")\n",
    "# cylinders for getting the rotation anchor points on the body\n",
    "cylinders = [trimesh.creation.cylinder(radius=joint_radius, height=joint_overlap, transform=t,sections=60)\\\n",
    "             for t in leg_axes_transform]\n",
    "##################################################################################################################"
   ]
  },
  {
   "cell_type": "code",
   "execution_count": 17,
   "metadata": {
    "ExecuteTime": {
     "end_time": "2020-11-16T21:39:48.617534Z",
     "start_time": "2020-11-16T21:39:48.071232Z"
    }
   },
   "outputs": [
    {
     "name": "stdout",
     "output_type": "stream",
     "text": [
      "bounds=\n",
      " [[-108.  -36. -184.]\n",
      " [ 108.   36.  184.]]\n",
      "xyz_grid.shape=(18, 54, 92, 3)\n",
      "33894\n"
     ]
    }
   ],
   "source": [
    "# %load_ext line_profiler\n",
    "# body_trimesh = trimesh.load(\"../mesh/mainbody_v2_simplified.stl\", use_embree=True)\n",
    "\n",
    "body_trimesh_path = \"../mesh/soft_body_simplified.obj\"\n",
    "body_trimesh = trimesh.load(body_trimesh_path, use_embree=True)\n",
    "body_filled_trimesh = trimesh.load(body_trimesh_path, use_embree=True)\n",
    "# body_filled_o3dmesh = o3d.io.read_triangle_mesh(\"../mesh/mainbody_v2_simplified_filled.stl\")\n",
    "#####\n",
    "\n",
    "bounds = body_trimesh.bounds\n",
    "\n",
    "# convert to integer, type is still float\n",
    "bounds = np.stack((np.floor(bounds[0]), np.ceil(bounds[1])))\n",
    "\n",
    "xyz_grid, bounds = createGrid(bounds, dr=radius_grid)\n",
    "print(\"bounds=\\n\", bounds)\n",
    "xyz_grid_flat = xyz_grid.reshape((-1, 3))\n",
    "\n",
    "\n",
    "grid_is_inside_flat = body_trimesh.ray.contains_points(xyz_grid_flat)\n",
    "grid_is_inside = grid_is_inside_flat.reshape(xyz_grid.shape[:-1])\n",
    "\n",
    "print(f\"xyz_grid.shape={xyz_grid.shape}\")\n",
    "\n",
    "############################################\n",
    "\n",
    "window = np.ones((3, 3, 3))\n",
    "\n",
    "grid_is_edge = binary_dilation(\n",
    "    grid_is_inside, window)*~binary_erosion(grid_is_inside, window)\n",
    "\n",
    "# grid_is_edge = binary_dilation(\n",
    "#     grid_is_inside)*~binary_erosion(grid_is_inside)\n",
    "print(f\"{grid_is_edge.sum()}\")\n",
    "\n",
    "grid_is_deep_inside = grid_is_inside*~grid_is_edge\n",
    "# grid_is_deep_inside.sum()\n",
    "\n",
    "\n",
    " # grid points near the edge, sampling around may result in outside points\n",
    "xyz_grid_edge = xyz_grid[grid_is_edge]\n",
    " # grid points deep inside the body, sampling around garantees inside points\n",
    "xyz_grid_inside = xyz_grid[grid_is_deep_inside]\n",
    "##############################\n",
    "# print(body_filled_trimesh.is_watertight)\n",
    "# # make mesh white- ish\n",
    "# body_trimesh.visual.face_colors = (255,255,255,255)\n",
    "# body_trimesh.show()"
   ]
  },
  {
   "cell_type": "code",
   "execution_count": 18,
   "metadata": {
    "ExecuteTime": {
     "end_time": "2020-11-16T21:39:48.622617Z",
     "start_time": "2020-11-16T21:39:48.619512Z"
    }
   },
   "outputs": [],
   "source": [
    "# pcd_body = o3d.geometry.PointCloud()\n",
    "# pcd_body.points = o3d.utility.Vector3dVector(xyz_grid_inside)\n",
    "# o3d.visualization.draw_geometries([pcd_body, coord_frame])"
   ]
  },
  {
   "cell_type": "code",
   "execution_count": 19,
   "metadata": {
    "ExecuteTime": {
     "end_time": "2020-11-16T21:39:48.633553Z",
     "start_time": "2020-11-16T21:39:48.627541Z"
    }
   },
   "outputs": [],
   "source": [
    "# # list of boolean array for the rotation ids of the body, 4 in total\n",
    "# body_rot_ids = [cylinder.ray.contains_points(xyz_body) for cylinder in cylinders]\n",
    "# [sum(ids) for ids in body_rot_ids]"
   ]
  },
  {
   "cell_type": "code",
   "execution_count": 20,
   "metadata": {
    "ExecuteTime": {
     "end_time": "2020-11-16T21:39:48.642554Z",
     "start_time": "2020-11-16T21:39:48.635543Z"
    }
   },
   "outputs": [],
   "source": [
    "def sample_helper(body_trimesh_path=body_trimesh_path, xyz_grid_edge=xyz_grid_edge,xyz_grid_inside=xyz_grid_inside,\n",
    "                  radius_poisson=radius_poisson,radius_grid=radius_grid,num_per_grid=num_per_grid):\n",
    "    # near-edge points candidate\n",
    "    xyz_edge_candidate = UniformRandomAroundPoints(xyz_grid_edge,\n",
    "                                                      radius_grid,num_per_grid)\n",
    "    body_trimesh = trimesh.load(body_trimesh_path, use_embree=True)\n",
    "    is_edge_candidate = body_trimesh.ray.contains_points(xyz_edge_candidate)\n",
    "    xyz_edge_candidate = xyz_edge_candidate[is_edge_candidate]\n",
    "#     print(f\"pruning outside points:{xyz_edge_candidate.shape}->{xyz_edge_candidate.shape}\")\n",
    "\n",
    "    # deep-inside points candidate\n",
    "    xyz_deep_inside_candidate = UniformRandomAroundPoints(xyz_grid_inside,\n",
    "                                                          radius_grid,num_per_grid)\n",
    "    # combined points candidate\n",
    "    xyz_candidate = np.vstack([xyz_deep_inside_candidate, xyz_edge_candidate])\n",
    "\n",
    "#     print(f\"points near surface:{xyz_edge_candidate.shape}\")\n",
    "#     print(f\"points deep inside :{xyz_deep_inside_candidate.shape}\")\n",
    "#     print(f\"total points       :{xyz_candidate.shape}\")\n",
    "    xyz_body, _ = pcu.prune_point_cloud_poisson_disk(v=xyz_candidate, n=np.ones_like(\n",
    "    xyz_candidate), radius=radius_poisson, best_choice_sampling=True)\n",
    "    \n",
    "    # # check points inside cylinders\n",
    "    cylinders = [trimesh.creation.cylinder(radius=joint_radius, height=joint_overlap, transform=t,sections=60)\\\n",
    "             for t in leg_axes_transform]\n",
    "    # list of boolean array for the rotation ids of the body, 4 in total\n",
    "    body_rot_ids = [cylinder.ray.contains_points(xyz_body) for cylinder in cylinders]\n",
    "    body_rot_counts = np.array([sum(ids) for ids in body_rot_ids])\n",
    "\n",
    "    return xyz_body,body_rot_ids,body_rot_counts"
   ]
  },
  {
   "cell_type": "code",
   "execution_count": 21,
   "metadata": {
    "ExecuteTime": {
     "end_time": "2020-11-16T21:39:48.649559Z",
     "start_time": "2020-11-16T21:39:48.643544Z"
    }
   },
   "outputs": [],
   "source": [
    "# %load_ext line_profiler\n",
    "# %lprun -f sample_helper sample_helper(body_trimesh_path,xyz_grid_edge,xyz_grid_inside,radius_poisson,radius_grid,num_per_grid)"
   ]
  },
  {
   "cell_type": "code",
   "execution_count": 22,
   "metadata": {
    "ExecuteTime": {
     "end_time": "2020-11-16T21:40:38.350836Z",
     "start_time": "2020-11-16T21:39:48.651546Z"
    }
   },
   "outputs": [],
   "source": [
    "n_jobs = int(multiprocessing.cpu_count()*0.5)\n",
    "total_jobs = int(n_jobs*4)\n",
    "# print(n_jobs,total_jobs)\n",
    "result = Parallel(n_jobs=n_jobs)(delayed(sample_helper)() for i in range(total_jobs))"
   ]
  },
  {
   "cell_type": "code",
   "execution_count": 23,
   "metadata": {
    "ExecuteTime": {
     "end_time": "2020-11-16T21:40:38.387855Z",
     "start_time": "2020-11-16T21:40:38.353847Z"
    }
   },
   "outputs": [
    {
     "name": "stdout",
     "output_type": "stream",
     "text": [
      "(2431, 3)\n",
      "[109 107 110 100]\n",
      "COM: [-0.101  0.017  0.056]\n"
     ]
    }
   ],
   "source": [
    "counts_arr = np.asarray([counts for _,_,counts in result])\n",
    "\n",
    "std_arr = np.asarray([c.std() for _,_,c in result])\n",
    "\n",
    "com_arr = np.asarray([np.mean(xyz, axis=0) for xyz,_,_ in result])\n",
    "com_norm_arr = np.asarray([np.linalg.norm(np.mean(xyz, axis=0),ord=2) for xyz,_,_ in result])\n",
    "\n",
    "xyz_body,body_rot_ids,body_rot_counts = result[np.argmin(std_arr)]\n",
    "xyz_body,body_rot_ids,body_rot_counts = result[np.argmin(com_norm_arr)]\n",
    "\n",
    "print(xyz_body.shape)\n",
    "print(body_rot_counts)\n",
    "with np.printoptions(precision=3, suppress=True):\n",
    "    print(\"COM:\", np.mean(xyz_body, axis=0))\n",
    "    \n",
    "pcd_body = o3d.geometry.PointCloud()\n",
    "pcd_body.points = o3d.utility.Vector3dVector(xyz_body)\n",
    "# o3d.visualization.draw_geometries([pcd_body, coord_frame])\n",
    "# o3d.visualization.draw_geometries_with_animation_callback([pcd_body,coord_frame],rotate_view)"
   ]
  },
  {
   "cell_type": "code",
   "execution_count": 24,
   "metadata": {
    "ExecuteTime": {
     "end_time": "2020-11-16T21:40:38.395847Z",
     "start_time": "2020-11-16T21:40:38.389855Z"
    }
   },
   "outputs": [],
   "source": [
    "# ref: https://stackoverflow.com/questions/32791911/fast-calculation-of-pareto-front-in-python\n",
    "# Faster than is_pareto_efficient_simple, but less readable.\n",
    "def is_pareto_efficient(costs, return_mask = True):\n",
    "    \"\"\"\n",
    "    Find the pareto-efficient points\n",
    "    :param costs: An (n_points, n_costs) array\n",
    "    :param return_mask: True to return a mask\n",
    "    :return: An array of indices of pareto-efficient points.\n",
    "        If return_mask is True, this will be an (n_points, ) boolean array\n",
    "        Otherwise it will be a (n_efficient_points, ) integer array of indices.\n",
    "    \"\"\"\n",
    "    is_efficient = np.arange(costs.shape[0])\n",
    "    n_points = costs.shape[0]\n",
    "    next_point_index = 0  # Next index in the is_efficient array to search for\n",
    "    while next_point_index<len(costs):\n",
    "        nondominated_point_mask = np.any(costs<costs[next_point_index], axis=1)\n",
    "        nondominated_point_mask[next_point_index] = True\n",
    "        is_efficient = is_efficient[nondominated_point_mask]  # Remove dominated points\n",
    "        costs = costs[nondominated_point_mask]\n",
    "        next_point_index = np.sum(nondominated_point_mask[:next_point_index])+1\n",
    "    if return_mask:\n",
    "        is_efficient_mask = np.zeros(n_points, dtype = bool)\n",
    "        is_efficient_mask[is_efficient] = True\n",
    "        return is_efficient_mask\n",
    "    else:\n",
    "        return is_efficient"
   ]
  },
  {
   "cell_type": "code",
   "execution_count": 25,
   "metadata": {
    "ExecuteTime": {
     "end_time": "2020-11-16T21:40:38.404859Z",
     "start_time": "2020-11-16T21:40:38.396847Z"
    }
   },
   "outputs": [],
   "source": [
    "pareto_front = is_pareto_efficient(np.stack((std_arr,com_norm_arr)).T,False)\n",
    "# choose from pareto front, choose the one with the smallest std\n",
    "# chosen_index = pareto_front[np.argmin(std_arr[pareto_front])]\n",
    "chosen_index = pareto_front[np.argmin(std_arr[pareto_front]+com_norm_arr[pareto_front])]"
   ]
  },
  {
   "cell_type": "code",
   "execution_count": 26,
   "metadata": {
    "ExecuteTime": {
     "end_time": "2020-11-16T21:40:38.685946Z",
     "start_time": "2020-11-16T21:40:38.406849Z"
    }
   },
   "outputs": [
    {
     "data": {
      "image/png": "[encoded data removed]",
      "text/plain": [
       "<Figure size 400x400 with 1 Axes>"
      ]
     },
     "metadata": {
      "image/png": {
       "height": 358,
       "width": 372
      }
     },
     "output_type": "display_data"
    }
   ],
   "source": [
    "plt.figure(dpi=100,figsize=(4,4))\n",
    "plt.plot(std_arr,com_norm_arr,'.')\n",
    "plt.plot(std_arr[pareto_front],com_norm_arr[pareto_front],'.')\n",
    "plt.plot(std_arr[pareto_front],com_norm_arr[pareto_front],'.')\n",
    "plt.plot(std_arr[chosen_index],com_norm_arr[chosen_index],'*')    \n",
    "\n",
    "for rank,idx in enumerate(pareto_front):\n",
    "    plt.text(std_arr[idx],com_norm_arr[idx],rank)\n",
    "    \n",
    "plt.xlabel(\"joint #mass std\")\n",
    "plt.ylabel(\"COM L2 norm [mm2]\")\n",
    "\n",
    "plt.show()"
   ]
  },
  {
   "cell_type": "code",
   "execution_count": 27,
   "metadata": {
    "ExecuteTime": {
     "end_time": "2020-11-16T21:40:38.693962Z",
     "start_time": "2020-11-16T21:40:38.687957Z"
    }
   },
   "outputs": [
    {
     "name": "stdout",
     "output_type": "stream",
     "text": [
      "COM: [ 0.236 -0.075 -0.016]\n",
      "[105 104 104 105]\n"
     ]
    }
   ],
   "source": [
    "xyz_body,body_rot_ids,body_rot_counts = result[chosen_index]\n",
    "pcd_body = o3d.geometry.PointCloud()\n",
    "pcd_body.points = o3d.utility.Vector3dVector(xyz_body)\n",
    "with np.printoptions(precision=3, suppress=True):\n",
    "    print(\"COM:\", np.mean(xyz_body, axis=0))\n",
    "print(body_rot_counts)"
   ]
  },
  {
   "cell_type": "code",
   "execution_count": 12,
   "metadata": {
    "ExecuteTime": {
     "end_time": "2020-06-29T07:41:21.768114Z",
     "start_time": "2020-06-29T07:41:16.057594Z"
    },
    "deletable": false,
    "editable": false,
    "run_control": {
     "frozen": true
    }
   },
   "outputs": [
    {
     "name": "stdout",
     "output_type": "stream",
     "text": [
      "generate leg mesh: run Poisson surface reconstruction\n",
      "gmesh_body = geometry::TriangleMesh with 22398 points and 44792 triangles.\n"
     ]
    }
   ],
   "source": [
    "def trimeshToO3dMesh(mesh):\n",
    "    \"\"\"\n",
    "    convert trimesh mesh object to open3d mesh object\n",
    "    \"\"\"\n",
    "    assert(type(mesh)==trimesh.base.Trimesh)\n",
    "    mesh_o3d = o3d.geometry.TriangleMesh(\n",
    "        o3d.utility.Vector3dVector(mesh.vertices),\n",
    "        o3d.utility.Vector3iVector(mesh.faces))\n",
    "    mesh_o3d.compute_vertex_normals()\n",
    "    mesh_o3d.compute_triangle_normals()\n",
    "#     mesh_o3d.paint_uniform_color((0.8, 0.8, 0.8))\n",
    "    return mesh_o3d\n",
    "\n",
    "body_filled_o3dmesh = trimeshToO3dMesh(body_filled_trimesh)\n",
    "pcd_body = body_filled_o3dmesh.sample_points_uniformly(number_of_points=600000)\n",
    "# o3d.visualization.draw_geometries([pcd_body])\n",
    "\n",
    "####### generate leg mesh using Poisson surface reconstruction #######\n",
    "print('generate leg mesh: run Poisson surface reconstruction')\n",
    "gmesh_body, densities = o3d.geometry.TriangleMesh.create_from_point_cloud_poisson(pcd_body,depth=7,scale=1.1)\n",
    "gmesh_body.compute_triangle_normals()\n",
    "gmesh_body.paint_uniform_color((0.6, 0.6, 0.6))\n",
    "print(f\"gmesh_body = {gmesh_body}\")\n",
    "############# visualize densities ###################################\n",
    "densities = np.asarray(densities)\n",
    "density_colors = plt.get_cmap('plasma')(\n",
    "    (densities - densities.min()) / (densities.max() - densities.min()))\n",
    "density_colors = density_colors[:, :3]\n",
    "gmesh_body.vertex_colors = o3d.utility.Vector3dVector(density_colors)\n",
    "####################################################################\n",
    "# o3d.visualization.draw_geometries([gmesh_body,pcd_body])\n",
    "o3d.visualization.draw_geometries([gmesh_body],mesh_show_wireframe=True)\n",
    "################## simplify the leg mesh ############################\n",
    "# gmesh_body_s = gmesh_body.simplify_quadric_decimation(1500)\n",
    "# print(f\"gmesh_body_s = {gmesh_body_s}\")\n",
    "# o3d.visualization.draw_geometries([gmesh_body_s,pcd_leg])\n",
    "# o3d.visualization.draw_geometries([gmesh_body_s],mesh_show_wireframe=True)"
   ]
  },
  {
   "cell_type": "code",
   "execution_count": 65,
   "metadata": {
    "ExecuteTime": {
     "end_time": "2020-08-29T10:26:03.859384Z",
     "start_time": "2020-08-29T10:25:33.509462Z"
    },
    "deletable": false,
    "editable": false,
    "run_control": {
     "frozen": true
    }
   },
   "outputs": [],
   "source": [
    "pcd_body = o3d.geometry.PointCloud(o3d.utility.Vector3dVector(xyz_candidate))\n",
    "color = np.zeros_like(xyz_candidate)\n",
    "color[:len(xyz_deep_inside_candidate)] = (0,0,1)\n",
    "color[len(xyz_deep_inside_candidate):] = (1,0.1,0)\n",
    "pcd_body.colors = o3d.utility.Vector3dVector(color)\n",
    "o3d.visualization.draw_geometries([pcd_body,coord_frame])"
   ]
  },
  {
   "cell_type": "code",
   "execution_count": 290,
   "metadata": {
    "ExecuteTime": {
     "end_time": "2020-06-14T03:42:16.907606Z",
     "start_time": "2020-06-14T03:42:15.060732Z"
    },
    "deletable": false,
    "editable": false,
    "run_control": {
     "frozen": true
    }
   },
   "outputs": [],
   "source": [
    "# pcd_body = o3d.geometry.PointCloud()\n",
    "# pcd_body.points = o3d.utility.Vector3dVector(xyz_candidate)\n",
    "# o3d.visualization.draw_geometries([pcd_body,coord_frame])"
   ]
  },
  {
   "cell_type": "code",
   "execution_count": 28,
   "metadata": {
    "ExecuteTime": {
     "end_time": "2020-11-16T21:40:39.351201Z",
     "start_time": "2020-11-16T21:40:38.695964Z"
    }
   },
   "outputs": [
    {
     "name": "stdout",
     "output_type": "stream",
     "text": [
      "#mass: 2418\n",
      "#springs: 26805\n",
      "COM: [ 0.236 -0.075 -0.016]\n",
      "mean neighbors =23.3\n"
     ]
    },
    {
     "data": {
      "image/png": "[encoded data removed]",
      "text/plain": [
       "<Figure size 1440x288 with 2 Axes>"
      ]
     },
     "metadata": {
      "image/png": {
       "height": 281,
       "width": 1433
      }
     },
     "output_type": "display_data"
    }
   ],
   "source": [
    "pcd_tree = o3d.geometry.KDTreeFlann(pcd_body)\n",
    "\n",
    "# o3d.visualization.draw_geometries([pcd_d,coord_frame])\n",
    "\n",
    "# [k, idx, _] = pcd_tree.search_radius_vector_3d(pcd_d.points[0], radius*np.sqrt(3)+0.1)\n",
    "# neighbors = [np.asarray(pcd_tree.search_radius_vector_3d(point, radius*(np.sqrt(3)+0.01))[1]) for point in xyz_body]\n",
    "neighbors = [np.asarray(pcd_tree.search_hybrid_vector_3d(\n",
    "        point, radius_knn, max_nn=max_nn)[1]) for point in xyz_body]\n",
    "\n",
    "\n",
    "def GetEdges(neighbor):\n",
    "    candidate = neighbor[1:]\n",
    "    self = neighbor[0]\n",
    "    candidate = candidate[candidate < self]  # to remove redundency\n",
    "    edges = np.empty((candidate.size, 2), dtype=np.int32)\n",
    "    edges[:, 0] = self\n",
    "    edges[:, 1] = candidate\n",
    "    return edges\n",
    "\n",
    "\n",
    "lines_body = np.vstack([GetEdges(neighbor[:max_nn]) for neighbor in neighbors])\n",
    "\n",
    "lsd_body = o3d.geometry.LineSet()\n",
    "lsd_body.points = o3d.utility.Vector3dVector(xyz_body)\n",
    "lsd_body.lines = o3d.utility.Vector2iVector(lines_body)\n",
    "\n",
    "print(\"#mass: %i\" % xyz_body.shape[0])\n",
    "print(\"#springs: %i\" % lines_body.shape[0])\n",
    "\n",
    "# lsd_body.paint_uniform_color((0.1,0.1,0.1))\n",
    "with np.printoptions(precision=3, suppress=True):\n",
    "    print(\"COM:\", np.mean(xyz_body, axis=0))\n",
    "\n",
    "# plottig the distribution of the lenght of springs\n",
    "fig, ax = plt.subplots(2,1,figsize=(20,4))\n",
    "hist,bin_edges,_ = ax[0].hist(np.linalg.norm(xyz_body[lines_body[:,0]] - xyz_body[lines_body[:,1]],axis=1),bins=100,histtype=\"step\")\n",
    "ax[0].text(bin_edges[0],0,f\"{bin_edges[0]:.1f}\",ha=\"center\",va=\"top\",fontsize=\"x-large\",color='r')\n",
    "ax[0].text(bin_edges[-1],0,f\"{bin_edges[-1]:.1f}\",ha=\"center\",va=\"top\",fontsize=\"x-large\",color='r')\n",
    "\n",
    "# check the #of neighbors\n",
    "neighbor_counts = np.array([len(neighbor) for neighbor in neighbors])\n",
    "print(f\"mean neighbors ={np.mean(neighbor_counts):.1f}\")\n",
    "hist,bin_edges,patches =ax[1].hist(neighbor_counts,bins=max_nn,range=(0,max_nn))\n",
    "ax[1].set_xlabel(\"#neighbors(including self)\")\n",
    "ax[1].set_ylabel(\"count\")\n",
    "plt.tight_layout()\n",
    "plt.show()"
   ]
  },
  {
   "cell_type": "code",
   "execution_count": 29,
   "metadata": {
    "ExecuteTime": {
     "end_time": "2020-11-16T21:40:39.776058Z",
     "start_time": "2020-11-16T21:40:39.352028Z"
    }
   },
   "outputs": [
    {
     "name": "stdout",
     "output_type": "stream",
     "text": [
      "suface points:0.721\n"
     ]
    }
   ],
   "source": [
    "# signed_distance = trimesh.proximity.signed_distance(body_trimesh,xyz_body)\n",
    "signed_distance = trimesh.proximity.signed_distance(body_filled_trimesh,xyz_body)\n",
    "\n",
    "# average divergence of the neighbors from a point, (use nb[1:] to exclude the self point)\n",
    "average_divergence_body = np.linalg.norm(\n",
    "    [xyz_body[nb[1:]].mean(axis=0)-xyz_body[i] for i,nb in enumerate(neighbors)],axis=1)\n",
    "\n",
    "neighbors_counts = np.array(list(map(len, neighbors))) # number of neighbors per point\n",
    "\n",
    "# points is near surface if: \n",
    "# (1) close to surface or \n",
    "# (2) have a large avg divergence or \n",
    "# (3) have a fewer than 26 neighbors (including self)\n",
    "is_surface_body = (signed_distance<radius_poisson*0.6)#+\\\n",
    "#                  (average_divergence_body>radius_poisson*0.7)+\\\n",
    "#                  (neighbors_counts<26)\n",
    "print(f\"suface points:{is_surface_body.sum()/len(is_surface_body) :.3f}\")\n",
    "\n",
    "# colorize the body\n",
    "cmap = plt.cm.get_cmap('hot')\n",
    "colors = cmap(NormalizeSignedDistance(signed_distance,zero_map_to=0.))[:,:3] # drop alpha channel\n",
    "\n",
    "# colors[is_surface_body]=(1,0,0)\n",
    "# colors[~is_surface_body]=(0,1,0)\n",
    "\n",
    "pcd_body.colors = o3d.utility.Vector3dVector(colors)\n",
    "\n",
    "body_lines_colors = (colors[lines_body[:,0]]+colors[lines_body[:,1]])/2\n",
    "lsd_body.colors = o3d.utility.Vector3dVector(body_lines_colors)"
   ]
  },
  {
   "cell_type": "code",
   "execution_count": 30,
   "metadata": {
    "ExecuteTime": {
     "end_time": "2020-11-16T21:40:39.781058Z",
     "start_time": "2020-11-16T21:40:39.778057Z"
    }
   },
   "outputs": [],
   "source": [
    "# o3d.visualization.draw_geometries([pcd_body,lsd_body])\n",
    "\n",
    "# o3d.visualization.draw_geometries_with_animation_callback([lsd_body,coord_frame,pcd_d],rotate_view)\n",
    "# o3d.visualization.draw_geometries_with_animation_callback([lsd_body,coord_frame,pcd_body],rotate_view,\n",
    "#                                                          width=1920, height=1080)"
   ]
  },
  {
   "cell_type": "code",
   "execution_count": 331,
   "metadata": {
    "ExecuteTime": {
     "end_time": "2020-06-23T11:30:00.832091Z",
     "start_time": "2020-06-23T11:29:25.612441Z"
    },
    "deletable": false,
    "editable": false,
    "run_control": {
     "frozen": true
    }
   },
   "outputs": [
    {
     "name": "stdout",
     "output_type": "stream",
     "text": [
      "geometry::TriangleMesh with 22398 points and 44792 triangles.\n",
      "geometry::TriangleMesh with 1185 points and 2375 triangles.\n"
     ]
    }
   ],
   "source": [
    "xyz_body_surface = xyz_body[is_surface_body]\n",
    "pcd_body_surface = pcd_body.select_by_index(np.where(is_surface_body)[0])\n",
    "\n",
    "# # KDTree for nearest neighbor search\n",
    "pcd_body_surface_tree = o3d.geometry.KDTreeFlann(pcd_body_surface)\n",
    "\n",
    "def movePointsToNearestNeighbor(point):\n",
    "    num_neighbor,neighbor,dist = pcd_body_surface_tree.search_hybrid_vector_3d(point, radius_knn,max_nn = 1)\n",
    "    return xyz_body_surface[np.asarray(neighbor[0])]\n",
    "\n",
    "mesh_body_adjusted_vertices = [movePointsToNearestNeighbor(point) for point in np.asarray(gmesh_body.vertices)]\n",
    "\n",
    "mesh_body_adjusted = copy.deepcopy(gmesh_body)\n",
    "mesh_body_adjusted.vertices = o3d.utility.Vector3dVector(mesh_body_adjusted_vertices)\n",
    "print(mesh_body_adjusted)\n",
    "# clean up the mesh\n",
    "mesh_body_adjusted.remove_duplicated_vertices()\n",
    "mesh_body_adjusted.remove_duplicated_triangles()\n",
    "mesh_body_adjusted.remove_degenerate_triangles()\n",
    "print(mesh_body_adjusted)\n",
    "\n",
    "\n",
    "o3d.visualization.draw_geometries([mesh_body_adjusted, pcd_body,lsd_body,coord_frame],mesh_show_wireframe=True)\n",
    "# o3d.visualization.draw_geometries([mesh_body_adjusted,coord_frame],mesh_show_wireframe=True)\n",
    "# o3d.visualization.draw_geometries_with_animation_callback([mesh_body_adjusted],rotate_view)"
   ]
  },
  {
   "cell_type": "markdown",
   "metadata": {},
   "source": [
    "# Assemble the parts"
   ]
  },
  {
   "cell_type": "code",
   "execution_count": 106,
   "metadata": {
    "ExecuteTime": {
     "end_time": "2020-11-17T22:19:12.095488Z",
     "start_time": "2020-11-17T22:19:12.076473Z"
    },
    "deletable": false,
    "editable": false
   },
   "outputs": [],
   "source": [
    "def ColorizePcdAndLsd(nsd,pcd,lsd,cmap):\n",
    "    \"\"\"\n",
    "    colorize the pcd (o3d pointcloud) and its corresponding lsd (o3d lineset) \n",
    "    given nsd (normalized signed distance) and cmap (plt colormap)\n",
    "    Input:\n",
    "        nsd: a normalized signed distance of the pcd, normalized to [0,1]\n",
    "        pcd: o3d point cloud, representing the mass points\n",
    "        lsd: o3d lineset, representing the springs\n",
    "        cmap: plt colormap, ref: https://matplotlib.org/tutorials/colors/colormaps.html\n",
    "    \"\"\"\n",
    "    pcd_color = cmap(nsd)[:,:3] # drop alpha channel\n",
    "    pcd.colors = o3d.utility.Vector3dVector(pcd_color)\n",
    "    lines = np.asarray(lsd.lines)\n",
    "    # the line colors are the average of the two end points colors\n",
    "    lsd_color =  (pcd_color[lines[:,0]]+pcd_color[lines[:,1]])/2\n",
    "    lsd.colors = o3d.utility.Vector3dVector(lsd_color)\n",
    "    return pcd,lsd\n",
    "\n",
    "def LegAlignTransform(rot_angle):\n",
    "    \"\"\"\n",
    "    first align the rotational axis to z-axis, next rotate about the z axis for rot_angle,\n",
    "    finally translate along z-axis\n",
    "    \"\"\"\n",
    "    return Translate((0,0,leg_d0+half_joint_overlap), # translate along z-axis\n",
    "                     np.dot(RotateFromVec((0,0,1),rot_angle),# rotate about the z axis for rot_angle\n",
    "                            RotateFromVec((0,1,0),-np.pi/2))) # align the rotational axis to z-axis\n",
    "\n",
    "# define zero_leg_anges as the leg angles when all the legs are pointing towards front\n",
    "zero_leg_angles = np.array([np.pi/2,np.pi/2,np.pi/2,np.pi/2]) \n",
    "\n",
    "leg_angles = np.array([np.pi,np.pi,0,0]) # four leg standing\n",
    "# leg_angles = np.array([np.pi/3,np.pi/3,-np.pi/3,-np.pi/3])\n",
    "\n",
    "# leg_angles = np.array([-np.pi/2,-np.pi/2,-np.pi/2,-np.pi/2])\n",
    "# leg_angles = np.array([np.pi/2,np.pi/2,np.pi/2,np.pi/2])\n",
    "# leg_angles = np.array([0,0,0,0])\n",
    "\n",
    "initial_leg_angles = leg_angles-zero_leg_angles\n",
    "\n",
    "# axis for the body\n",
    "body_transform = np.array([[0,1,0,0],[0,0,1,0],[1,0,0,0],[0,0,0,1]],dtype=np.float64)\n",
    "\n",
    "# axis for the joint - body\n",
    "leg_transform = [np.dot(t,LegAlignTransform(angle)) for t,angle in zip(leg_axes_transform,leg_angles)]\n",
    "\n",
    "# axis for the legs\n",
    "aligned_leg_axes_transform = [np.dot(t,RotateFromVec((0,0,1),a))  for t,a in zip(leg_axes_transform,initial_leg_angles)]\n",
    "\n",
    "# coordinate for the body\n",
    "coord_body = o3d.geometry.TriangleMesh.create_coordinate_frame(size=60, origin=[0, 0, 0]).transform(body_transform) \n",
    "\n",
    "# coordinates for the joint - body\n",
    "coord_joint_left = [o3d.geometry.TriangleMesh.create_coordinate_frame(\n",
    "    size=60, origin=[0, 0, 0]).transform(t) for t in leg_axes_transform]\n",
    "\n",
    "# coordinate for the joint - legs\n",
    "coord_joint_right = [o3d.geometry.TriangleMesh.create_coordinate_frame(\n",
    "    size=60, origin=[0, 0, 0]).transform(t) for t in aligned_leg_axes_transform]\n",
    "\n",
    "legs = [o3d.geometry.PointCloud(pcd_leg_d).transform(t) for t in leg_transform]\n",
    "lsd_legs = [o3d.geometry.LineSet(lsd_leg).transform(t) for t in leg_transform]\n",
    "\n",
    "\n",
    "cmap_str = (\"spring\",\"summer\",\"autumn\",\"winter\")\n",
    "for k in range(len(legs)):\n",
    "    legs[k],lsd_legs[k] = ColorizePcdAndLsd(nsd_leg,legs[k],lsd_legs[k],plt.cm.get_cmap(cmap_str[k]))"
   ]
  },
  {
   "cell_type": "code",
   "execution_count": 107,
   "metadata": {
    "ExecuteTime": {
     "end_time": "2020-11-17T22:19:13.705853Z",
     "start_time": "2020-11-17T22:19:12.427703Z"
    }
   },
   "outputs": [],
   "source": [
    "# o3d.visualization.draw_geometries([pcd_body,coord_body]+coord_joint_left+coord_joint_right+legs)\n",
    "o3d.visualization.draw_geometries([pcd_body,coord_body]+coord_joint_left+legs)\n",
    "\n",
    "# o3d.visualization.draw_geometries([pcd_body,coord_frame]+coord_joint_right+legs)\n",
    "\n",
    "# o3d.visualization.draw_geometries(coord_joint_left+legs)\n",
    "# o3d.visualization.draw_geometries([pcd_body]+coord_joint_left)\n",
    "# o3d.visualization.draw_geometries([pcd_body,lsd_body]+legs+lsd_legs+coord_joint_left)\n",
    "# o3d.visualization.draw_geometries_with_animation_callback([pcd_body,lsd_body]+legs+lsd_legs,rotate_view)\n",
    "# o3d.visualization.draw_geometries([pcd_body]+coord_joint_left+legs)"
   ]
  },
  {
   "cell_type": "code",
   "execution_count": 108,
   "metadata": {
    "ExecuteTime": {
     "end_time": "2020-11-17T22:19:14.705790Z",
     "start_time": "2020-11-17T22:19:14.681754Z"
    }
   },
   "outputs": [
    {
     "name": "stdout",
     "output_type": "stream",
     "text": [
      "id_xyz_parts_edges=[   0 2418 2982 3546 4110 4674]\n",
      "id_lines_parts_edges=[    0 26805 32735 38665 44595 50525]\n",
      "n_parts=5\n",
      "n_joints=4\n",
      "rot_anchor_radius=35.0\n"
     ]
    }
   ],
   "source": [
    "# # axes_all = [axis_body, axis_leg0, axis_leg1, axis_leg2, axis_leg3]\n",
    "# axes_all = [coord_frame] + coord_joint_left\n",
    "\n",
    "# pcd list of parts\n",
    "pcd_parts = [pcd_body]+legs \n",
    "\n",
    "# lst list of parts\n",
    "lsd_parts = [lsd_body]+lsd_legs\n",
    "\n",
    "# # transform_all = [transform_body, transform_leg0, transform_leg1, transform_leg2, transform_leg3]\n",
    "# transform_all = [np.eye(4)] + leg_axes_transform\n",
    "\n",
    "# list of boolean array for the rotation ids of the body, 4 in total\n",
    "body_rot_ids = [cylinder.ray.contains_points(xyz_body) for cylinder in cylinders]\n",
    "\n",
    "# list of np boolean array indicating if point is part of rotational jonit\n",
    "# leg_rot_ids = [np.asarray(pcd_leg_d.points)[:,0]<-leg_d0,]*len(legs)\n",
    "\n",
    "pcd_leg_d_points = np.asarray(pcd_leg_d.points)\n",
    "leg_rot_ids = [\n",
    "    np.logical_and(pcd_leg_d_points[:, 0] <= -leg_d0,\n",
    "                   (pcd_leg_d_points[:, 1]**2 +\n",
    "                   pcd_leg_d_points[:, 2]**2) <= (joint_radius)**2\n",
    "                   )]*len(legs)\n",
    "# leg_rot_ids = [cylinder.ray.contains_points(np.asarray(leg.points)) for cylinder,leg in zip(cylinders,legs)]\n",
    "\n",
    "\n",
    "# xyzs of the components [body,leg,leg,leg,leg]\n",
    "xyz_parts = [np.asarray(pcd.points) for pcd in pcd_parts]\n",
    "\n",
    "# the edges of the points start and end index for each part of the component\n",
    "id_xyz_parts_edges = np.cumsum([0]+[len(xyz) for xyz in xyz_parts])\n",
    "print(f\"id_xyz_parts_edges={id_xyz_parts_edges}\")\n",
    "\n",
    "# lines of the components [body,leg,leg,leg,leg]\n",
    "lines_parts = [np.asanyarray(lsd.lines) for lsd in lsd_parts]\n",
    "\n",
    "id_lines_parts_edges = np.cumsum([0]+[len(lines) for lines in lines_parts])\n",
    "print(f\"id_lines_parts_edges={id_lines_parts_edges}\")\n",
    "\n",
    "\n",
    "n_parts = len(xyz_parts) # number of components\n",
    "print(f\"n_parts={n_parts}\")\n",
    "n_joints = len(legs)\n",
    "print(f\"n_joints={n_joints}\")\n",
    "\n",
    "# array of index of the componet for a joint\n",
    "id_joint_components = np.array([[0,1],[0,2],[0,3],[0,4]])\n",
    "\n",
    "# list of transform for each joint\n",
    "joint_transforms_body = leg_axes_transform\n",
    "joint_transforms_leg = aligned_leg_axes_transform\n",
    "\n",
    "# the actual points (bool array)\n",
    "joint_tuples = list(zip(body_rot_ids,leg_rot_ids))\n",
    "\n",
    "rot_anchor_radius = half_joint_overlap+radius_poisson*0.5\n",
    "# rot_anchor_radius = 20\n",
    "print(f\"rot_anchor_radius={rot_anchor_radius}\")\n",
    "\n",
    "# anchor points for each of the rotational joint\n",
    "rot_anchors = [ApplyTransform([[0,0,-rot_anchor_radius],\n",
    "                               [0,0,rot_anchor_radius]],t) \n",
    "               for t in leg_axes_transform]\n",
    "# print(rot_anchors)\n",
    "\n",
    "# create pointcloud for anchors\n",
    "pcd_anchors = o3d.geometry.PointCloud()\n",
    "pcd_anchors.points = o3d.utility.Vector3dVector(np.vstack(rot_anchors))\n",
    "pcd_anchors.colors = o3d.utility.Vector3dVector(np.tile((1.,0,0), (len(pcd_anchors.points), 1)))"
   ]
  },
  {
   "cell_type": "code",
   "execution_count": 109,
   "metadata": {
    "ExecuteTime": {
     "end_time": "2020-11-17T22:19:15.885046Z",
     "start_time": "2020-11-17T22:19:15.841770Z"
    }
   },
   "outputs": [
    {
     "data": {
      "text/plain": [
       "([105, 104, 104, 105], [99, 99, 99, 99])"
      ]
     },
     "execution_count": 109,
     "metadata": {},
     "output_type": "execute_result"
    }
   ],
   "source": [
    "[sum(ids) for ids in body_rot_ids],[sum(ids) for ids in leg_rot_ids]"
   ]
  },
  {
   "cell_type": "code",
   "execution_count": 110,
   "metadata": {
    "ExecuteTime": {
     "end_time": "2020-11-17T22:19:16.830836Z",
     "start_time": "2020-11-17T22:19:16.826848Z"
    }
   },
   "outputs": [],
   "source": [
    "# pcd_body.paint_uniform_color([0, 1, 0])\n",
    "\n",
    "# for k in range(4):\n",
    "#     legs[k].paint_uniform_color([0, 1, 0])\n",
    "#     np.asarray(legs[k].colors)[leg_rot_ids[k]] = np.array((1,0,0))\n",
    "#     np.asarray(pcd_body.colors)[body_rot_ids[k]] = np.array((0,0,1))\n",
    "\n",
    "# o3d.visualization.draw_geometries(legs+[pcd_body],point_show_normal=False)"
   ]
  },
  {
   "cell_type": "code",
   "execution_count": 36,
   "metadata": {
    "ExecuteTime": {
     "end_time": "2020-08-30T05:49:30.764501Z",
     "start_time": "2020-08-30T05:49:30.760491Z"
    },
    "deletable": false,
    "editable": false,
    "run_control": {
     "frozen": true
    }
   },
   "outputs": [],
   "source": [
    "# axis_size=5\n",
    "# axis_origin_tri = trimesh.creation.axis(axis_size*2)\n",
    "# # front left, back left, front right, back right\n",
    "# axes = [trimesh.creation.axis(axis_size,transform=t) for t in leg_axes_transform]\n",
    "# body_trimesh.visual.face_colors=(102, 102, 102, 255)\n",
    "# pcd_body_trimesh = trimesh.points.PointCloud(np.asarray(pcd_body.points))\n",
    "# pcd_body_trimesh.visual.vertex_colors = (0, 102, 102, 255)\n",
    "\n",
    "# legs_trimesh = [trimesh.points.PointCloud(np.asarray(leg.points)) for leg in legs]\n",
    "# for leg_trimesh in legs_trimesh:\n",
    "#     leg_trimesh.visual.vertex_colors = np.array((255, 1, 1, 255))\n",
    "    \n",
    "# for cylinder in cylinders:\n",
    "#     cylinder.visual.vertex_colors = np.array((255, 1, 1, 255))\n",
    "\n",
    "# # scene=trimesh.scene.Scene(geometry=axes+[axis_origin_tri,body_trimesh]+cylinders)\n",
    "# scene=trimesh.scene.Scene(geometry=axes+[axis_origin_tri,pcd_body_trimesh]+cylinders)\n",
    "# # scene=trimesh.scene.Scene(geometry=axes+[axis_origin_tri]+cylinders+legs_trimesh)\n",
    "# scene.show()"
   ]
  },
  {
   "cell_type": "code",
   "execution_count": 129,
   "metadata": {
    "ExecuteTime": {
     "end_time": "2020-11-17T22:21:48.874497Z",
     "start_time": "2020-11-17T22:21:48.863494Z"
    },
    "deletable": false,
    "editable": false
   },
   "outputs": [],
   "source": [
    "NUM_POINTS_PER_COORDINATE = 7 # number of points in a coordinate (o,x,y,z,-x,-y,-z)\n",
    "\n",
    "def GetCoordinateOXYZ(transform):\n",
    "    coordinate_radius = 16\n",
    "    o = transform[:3,-1] # origin\n",
    "    ox = coordinate_radius * transform[:3,0]\n",
    "    oy = coordinate_radius * transform[:3,1]\n",
    "    oz = coordinate_radius * transform[:3,2]\n",
    "    x = o + ox\n",
    "    y = o + oy\n",
    "    z = o + oz\n",
    "    nx = o - ox # negative x\n",
    "    ny = o - oy # negative y\n",
    "    nz = o - oz # netative z\n",
    "    oxyz = np.vstack([o,x,y,z,nx,ny,nz])\n",
    "    return oxyz\n",
    "\n",
    "class Coord:# coordinate\n",
    "    def __init__(s, body_id, transform):\n",
    "        \"\"\"\n",
    "        body_id: body index,e.g. mainbody=0,leg0=1,leg1=2,leg2=3,leg3=4\n",
    "        transform: 4x4 numpy transform matrix\n",
    "        \"\"\"\n",
    "        s.bodyId = body_id\n",
    "        s.transform = transform\n",
    "        s.oxyz = GetCoordinateOXYZ(transform)\n",
    "        # index offset for the coordinate\n",
    "        s.id_start = id_xyz_parts_edges[body_id]\n",
    "\n",
    "\n",
    "coord_list = [\n",
    "    Coord(0, body_transform),# body axis\n",
    "    Coord(id_joint_components[0,0],joint_transforms_body[0]), # joint0-body axis\n",
    "    Coord(id_joint_components[0,1],joint_transforms_leg[0]), # joint0-leg0 axis\n",
    "    Coord(id_joint_components[1,0],joint_transforms_body[1]), # joint1-body axis\n",
    "    Coord(id_joint_components[1,1],joint_transforms_leg[1]), # joint1-leg1 axis\n",
    "    Coord(id_joint_components[2,0],joint_transforms_body[2]), # joint2-body axis\n",
    "    Coord(id_joint_components[2,1],joint_transforms_leg[2]), # joint2-leg2 axis\n",
    "    Coord(id_joint_components[3,0],joint_transforms_body[3]), # joint3-body axis\n",
    "    Coord(id_joint_components[3,1],joint_transforms_leg[3])  # joint3-leg3 axis\n",
    "]\n",
    "\n",
    "# oxyzs: list of oxyz from coord_list\n",
    "oxyzs = [c.oxyz for c in coord_list]\n",
    "\n",
    "# # pcd of oxyzs\n",
    "pcd_oxyzs = o3d.geometry.PointCloud()\n",
    "pcd_oxyzs.points = o3d.utility.Vector3dVector(np.vstack(oxyzs))\n",
    "pcd_oxyzs.colors = o3d.utility.Vector3dVector(np.tile((1.,0,0), (len(pcd_oxyzs.points), 1)))\n",
    "# o3d.visualization.draw_geometries([pcd_oxyzs])"
   ]
  },
  {
   "cell_type": "code",
   "execution_count": 130,
   "metadata": {
    "ExecuteTime": {
     "end_time": "2020-11-17T22:21:49.106738Z",
     "start_time": "2020-11-17T22:21:49.092733Z"
    },
    "deletable": false,
    "editable": false
   },
   "outputs": [
    {
     "name": "stdout",
     "output_type": "stream",
     "text": [
      "points_counts=[2418, 564, 564, 564, 564, 2, 2, 2, 2, 7, 7, 7, 7, 7, 7, 7, 7, 7]\n",
      "id_xyzs_edges=[   0 2418 2982 3546 4110 4674 4676 4678 4680 4682 4689 4696 4703 4710\n",
      " 4717 4724 4731 4738 4745]\n"
     ]
    },
    {
     "data": {
      "text/plain": [
       "[(0, 'body'),\n",
       " (2418, 'leg0'),\n",
       " (2982, 'leg1'),\n",
       " (3546, 'leg2'),\n",
       " (4110, 'leg3'),\n",
       " (4674, 'anchor0'),\n",
       " (4676, 'anchor1'),\n",
       " (4678, 'anchor2'),\n",
       " (4680, 'anchor3'),\n",
       " (4682, 'oxyz_body'),\n",
       " (4689, 'oxyz_joint0_body'),\n",
       " (4696, 'oxyz_joint0_leg0'),\n",
       " (4703, 'oxyz_joint1_body'),\n",
       " (4710, 'oxyz_joint1_leg1'),\n",
       " (4717, 'oxyz_joint2_body'),\n",
       " (4724, 'oxyz_joint2_leg2'),\n",
       " (4731, 'oxyz_joint3_body'),\n",
       " (4738, 'oxyz_joint3_leg3'),\n",
       " (4745, 'the end')]"
      ]
     },
     "execution_count": 130,
     "metadata": {},
     "output_type": "execute_result"
    }
   ],
   "source": [
    "# get all colors\n",
    "pcds = [pcd_body]+legs+[pcd_anchors]+[pcd_oxyzs]\n",
    "colors_all = np.vstack(list(map(np.asarray,[pcd.colors for pcd in pcds])))\n",
    "\n",
    "# the acutal points list, arrange as\n",
    "# [xyz_0,xyz_1,...,xyz_n,]+ [xyz_anchor_0,...,xyz_anchor_m] + [oxyz_0,oxyz_1,..]\n",
    "xyzs = xyz_parts + rot_anchors + oxyzs\n",
    "\n",
    "xyz_all = np.vstack(xyzs)\n",
    "\n",
    "# the count of points in each component of xyzs\n",
    "points_counts = [len(xyz) for xyz in xyzs]\n",
    "print(f\"points_counts={points_counts}\")\n",
    "\n",
    "\n",
    "# the edges of the points start and end index for each part of the component\n",
    "# e.g. the idex of xyzs[k] start at id_xyzs_edges[k], and ends at id_xyzs_edges[k+1]\n",
    "# the rot_anchors [j] start at id_xyzs_edges[n_parts+k], and ends at id_xyzs_edges[n_parts+k+1]\n",
    "id_xyzs_edges = np.cumsum([0]+[len(xyz) for xyz in xyzs])\n",
    "print(f\"id_xyzs_edges={id_xyzs_edges}\")\n",
    "list(zip(id_xyzs_edges,\"body,leg0,leg1,leg2,leg3,anchor0,anchor1,anchor2,anchor3,oxyz_body,\\\n",
    "oxyz_joint0_body,oxyz_joint0_leg0,oxyz_joint1_body,oxyz_joint1_leg1,\\\n",
    "oxyz_joint2_body,oxyz_joint2_leg2,oxyz_joint3_body,oxyz_joint3_leg3,\\\n",
    "the end\".split(\",\")))"
   ]
  },
  {
   "cell_type": "code",
   "execution_count": 131,
   "metadata": {
    "ExecuteTime": {
     "end_time": "2020-11-17T22:21:49.303923Z",
     "start_time": "2020-11-17T22:21:49.297915Z"
    }
   },
   "outputs": [
    {
     "name": "stdout",
     "output_type": "stream",
     "text": [
      "id_xyzs_anchor_start=4674\n",
      "id_xyzs_oxyz_start=4682\n",
      "id_xyzs_joint_oxyz_start=4689\n"
     ]
    }
   ],
   "source": [
    "id_xyzs_anchor_start = id_xyzs_edges[n_parts]\n",
    "print(f\"id_xyzs_anchor_start={id_xyzs_anchor_start}\")\n",
    "\n",
    "id_xyzs_oxyz_start = id_xyzs_edges[n_parts+n_joints]\n",
    "print(f\"id_xyzs_oxyz_start={id_xyzs_oxyz_start}\")\n",
    "\n",
    "id_xyzs_joint_oxyz_start = id_xyzs_edges[n_parts+n_joints+1]\n",
    "print(f\"id_xyzs_joint_oxyz_start={id_xyzs_joint_oxyz_start}\")"
   ]
  },
  {
   "cell_type": "code",
   "execution_count": 132,
   "metadata": {
    "ExecuteTime": {
     "end_time": "2020-11-17T22:21:49.589365Z",
     "start_time": "2020-11-17T22:21:49.580360Z"
    }
   },
   "outputs": [],
   "source": [
    "def GetNeighborsOXYZ(pcd,oxyz):\n",
    "    pcd_tree = o3d.geometry.KDTreeFlann(pcd)\n",
    "    oxyz_neighbors = [np.asarray(pcd_tree.search_knn_vector_3d(\n",
    "        point,knn=20)[1]) for point in oxyz]\n",
    "    return oxyz_neighbors\n",
    "# oxyzs_neighbors = [np.stack(GetNeighborsOXYZ(pcd,oxyz))+id_start \n",
    "#                    for pcd,oxyz,id_start in zip(pcd_parts,oxyzs,id_xyzs_edges)]\n",
    "\n",
    "oxyzs_neighbors = [np.stack(GetNeighborsOXYZ(pcd_parts[c.bodyId],c.oxyz))+c.id_start \n",
    "                   for c in coord_list]"
   ]
  },
  {
   "cell_type": "code",
   "execution_count": 133,
   "metadata": {
    "ExecuteTime": {
     "end_time": "2020-11-17T22:21:49.813012Z",
     "start_time": "2020-11-17T22:21:49.799009Z"
    },
    "deletable": false,
    "editable": false
   },
   "outputs": [
    {
     "name": "stdout",
     "output_type": "stream",
     "text": [
      "[4682 4683 4684 4685 4686 4687 4688]\n",
      "[4689 4690 4691 4692 4693 4694 4695]\n",
      "[4696 4697 4698 4699 4700 4701 4702]\n",
      "[4703 4704 4705 4706 4707 4708 4709]\n",
      "[4710 4711 4712 4713 4714 4715 4716]\n",
      "[4717 4718 4719 4720 4721 4722 4723]\n",
      "[4724 4725 4726 4727 4728 4729 4730]\n",
      "[4731 4732 4733 4734 4735 4736 4737]\n",
      "[4738 4739 4740 4741 4742 4743 4744]\n"
     ]
    }
   ],
   "source": [
    "def GetEdges(point_id,neighbor):\n",
    "    \"\"\"\n",
    "    Create a edges given the index of a point and the indices of its neighbor\n",
    "    \"\"\"\n",
    "    edges = np.empty((neighbor.size,2),dtype=np.int32)\n",
    "    edges[:,0]=point_id\n",
    "    edges[:,1]=neighbor\n",
    "    return edges\n",
    "\n",
    "\n",
    "# create oxyz_springs\n",
    "oxyz_self_springs = []\n",
    "oxyz_anchor_springs = []\n",
    "for oxyz,oxyz_neighbor,oxyz_id_start in zip(oxyzs,oxyzs_neighbors,id_xyzs_edges[n_parts+n_joints:]):\n",
    "    oxyz_id = np.array([oxyz_id_start+k for k in range(NUM_POINTS_PER_COORDINATE)]) # 7 points per coordinate: o,x,y,z,-x,-y,-z\n",
    "    print(oxyz_id)\n",
    "    oxyz_anchor_springs.append(\n",
    "        np.vstack([GetEdges(point_id,neighbor) for point_id,neighbor in zip(oxyz_id,oxyz_neighbor)]))\n",
    "    oxyz_self_springs.append(oxyz_id[\n",
    "        np.array((\n",
    "    (0,1),#ox\n",
    "    (0,2),#oy\n",
    "    (0,3),#oz\n",
    "    (0,4),#o-x\n",
    "    (0,5),#o-y\n",
    "    (0,6),#o-z\n",
    "    (1,2),#xy\n",
    "    (1,3),#xz\n",
    "    (1,4),#x-x\n",
    "    (1,5),#x-y\n",
    "    (1,6),#x-z\n",
    "    (2,3),#yz\n",
    "    (2,4),#y-x\n",
    "    (2,5),#y-y\n",
    "    (2,6),#y-z\n",
    "    (3,4),#z-x\n",
    "    (3,5),#z-y\n",
    "    (3,6),#z-z\n",
    "    (4,5),#-x-y\n",
    "    (4,6),#-x-z\n",
    "    (5,6)#-y-z\n",
    "    ))])\n",
    "oxyz_self_springs = np.vstack(oxyz_self_springs)\n",
    "oxyz_anchor_springs = np.vstack(oxyz_anchor_springs)"
   ]
  },
  {
   "cell_type": "code",
   "execution_count": 134,
   "metadata": {
    "ExecuteTime": {
     "end_time": "2020-11-17T22:21:50.050737Z",
     "start_time": "2020-11-17T22:21:50.046438Z"
    }
   },
   "outputs": [
    {
     "data": {
      "text/plain": [
       "array([4738, 4739, 4740, 4741, 4742, 4743, 4744], dtype=int32)"
      ]
     },
     "execution_count": 134,
     "metadata": {},
     "output_type": "execute_result"
    }
   ],
   "source": [
    "oxyz_id"
   ]
  },
  {
   "cell_type": "code",
   "execution_count": 233,
   "metadata": {
    "ExecuteTime": {
     "end_time": "2020-03-29T04:21:47.129235Z",
     "start_time": "2020-03-29T04:21:47.121231Z"
    },
    "deletable": false,
    "editable": false,
    "run_control": {
     "frozen": true
    }
   },
   "outputs": [],
   "source": [
    "# # ids of the leg at rotational joint\n",
    "# # assume body index start at id_xyzs_edges[0]\n",
    "# # leg[k] index start at id_xyzs_edges[k+1], ends at id_xyzs_edges[k+2]\n",
    "# joints = []\n",
    "# for k,(body_rot_id,leg_rot_id) in enumerate(joint_tuples):\n",
    "#     body_rot_id_actual = np.ravel(np.where(body_rot_id))+id_xyzs_edges[0]\n",
    "#     leg_rot_id_actual = np.ravel(np.where(leg_rot_id))+id_xyzs_edges[1+k]\n",
    "#     anchors_id = np.arange(id_xyzs_edges[len(xyz_parts)+k],id_xyzs_edges[len(xyz_parts)+k+1])\n",
    "#     # (left_ids,right_ids,anchors_id)\n",
    "#     joints.append([body_rot_id_actual,leg_rot_id_actual,anchors_id])\n",
    "\n",
    "# joints_list = [[m.tolist() for m in joint] for joint in joints]"
   ]
  },
  {
   "cell_type": "code",
   "execution_count": 135,
   "metadata": {
    "ExecuteTime": {
     "end_time": "2020-11-17T22:21:52.322425Z",
     "start_time": "2020-11-17T22:21:52.312805Z"
    },
    "deletable": false,
    "editable": false
   },
   "outputs": [],
   "source": [
    "def CreateJointLines(id_0, id_1, id_joint):\n",
    "    \"\"\"\n",
    "    return the joint lines(rotation springs) defined by a joint \n",
    "    input:\n",
    "        id_0: m numpy indices of the first points\n",
    "        id_1: n numpy indices of the second points\n",
    "        id_joint: 2 indices of the end points of a joint\n",
    "    \"\"\"\n",
    "    return np.vstack([np.column_stack([id_0, [id_joint[0]]*len(id_0)]), # left  (id_0) - axis_0\n",
    "            np.column_stack([id_1, [id_joint[0]]*len(id_1)]), # left  (id_0) - axis_1\n",
    "            np.column_stack([id_0, [id_joint[1]]*len(id_0)]), # right (id_1) - axis_0\n",
    "            np.column_stack([id_1, [id_joint[1]]*len(id_1)])]) # right (id_1) - axis_1\n",
    "\n",
    "def CreateJointFrictionSpring(id_0, id_1,num_spring_per_mass= 40):\n",
    "    \"\"\"\n",
    "    return the friction springs defined by a joint \n",
    "    input:\n",
    "        id_0: m numpy indices of the first points\n",
    "        id_1: n numpy indices of the second points\n",
    "    \"\"\"\n",
    "    max_size = int((len(id_0)+len(id_1))*num_spring_per_mass/2)\n",
    "    frictionSpring = np.vstack([np.column_stack([[id_0_k]*len(id_1),id_1]) for id_0_k in id_0])\n",
    "    if frictionSpring.shape[0]>max_size:\n",
    "        frictionSpring = frictionSpring[np.random.choice(frictionSpring.shape[0], max_size, replace=False)]\n",
    "    return frictionSpring"
   ]
  },
  {
   "cell_type": "code",
   "execution_count": 136,
   "metadata": {
    "ExecuteTime": {
     "end_time": "2020-11-17T22:21:53.232934Z",
     "start_time": "2020-11-17T22:21:53.217931Z"
    },
    "deletable": false,
    "editable": false
   },
   "outputs": [],
   "source": [
    "class Joint:\n",
    "    def __init__(s, left, right, anchor):\n",
    "        s.left = np.copy(left)  # indices of the left mass\n",
    "        s.right = right  # indices of the right mass\n",
    "        s.anchor = anchor  # indices of the two ends of the center of rotation\n",
    "        s.rotSpring = CreateJointLines(\n",
    "            s.left, s.right, s.anchor)  # rotation spring\n",
    "        s.friSpring = CreateJointFrictionSpring(\n",
    "            s.left, s.right)  # friction spring\n",
    "        s.leftCoord = None\n",
    "        s.righCoord = None\n",
    "\n",
    "    def __repr__(s):\n",
    "        s_rotationSpring = np.array2string(\n",
    "            s.rotSpring, threshold=10, edgeitems=2).replace(\"\\n\", \",\")\n",
    "        s_frictionSpring = np.array2string(\n",
    "            s.friSpring, threshold=10, edgeitems=2).replace(\"\\n\", \",\")\n",
    "\n",
    "        return f\"{{left({len(s.left)}):  {np.array2string(s.left,threshold=10,edgeitems=5)}\\n\" +\\\n",
    "               f\" right({len(s.right)}): {np.array2string(s.right,threshold=10,edgeitems=5)}\\n\" +\\\n",
    "            f\" anchor(2): {s.anchor}\\n\" +\\\n",
    "               f\" leftCoord: {s.leftCoord}\\n\" +\\\n",
    "            f\" righCoord: {s.righCoord}\\n\" +\\\n",
    "            f\" rotSpring({len(s.rotSpring)}):{s_rotationSpring}\\n\" +\\\n",
    "            f\" friSpring({len(s.friSpring)}):{s_frictionSpring}}}\"\n",
    "\n",
    "    def tolist(s):\n",
    "        return [s.left.tolist(), s.right.tolist(), s.anchor.tolist(), int(s.leftCoord), int(s.righCoord)]"
   ]
  },
  {
   "cell_type": "code",
   "execution_count": 137,
   "metadata": {
    "ExecuteTime": {
     "end_time": "2020-11-17T22:21:54.323786Z",
     "start_time": "2020-11-17T22:21:54.296781Z"
    }
   },
   "outputs": [
    {
     "data": {
      "text/plain": [
       "[{left(105):  [  22   26   27   40   51 ... 2326 2340 2384 2407 2414]\n",
       "  right(99): [2421 2425 2434 2438 2442 ... 2968 2970 2973 2976 2979]\n",
       "  anchor(2): [4674 4675]\n",
       "  leftCoord: 4689\n",
       "  righCoord: 4696\n",
       "  rotSpring(408):[[  22 4674], [  26 4674], ..., [2976 4675], [2979 4675]]\n",
       "  friSpring(4080):[[1810 2903], [1847 2637], ..., [ 693 2665], [ 341 2650]]},\n",
       " {left(104):  [  68  114  135  149  255 ... 2206 2226 2244 2368 2388]\n",
       "  right(99): [2985 2989 2998 3002 3006 ... 3532 3534 3537 3540 3543]\n",
       "  anchor(2): [4676 4677]\n",
       "  leftCoord: 4703\n",
       "  righCoord: 4710\n",
       "  rotSpring(406):[[  68 4676], [ 114 4676], ..., [3540 4677], [3543 4677]]\n",
       "  friSpring(4060):[[1428 3254], [1769 3108], ..., [1000 3406], [ 292 3304]]},\n",
       " {left(104):  [  10   89  121  125  129 ... 2354 2366 2367 2405 2413]\n",
       "  right(99): [3549 3553 3562 3566 3570 ... 4096 4098 4101 4104 4107]\n",
       "  anchor(2): [4678 4679]\n",
       "  leftCoord: 4717\n",
       "  righCoord: 4724\n",
       "  rotSpring(406):[[  10 4678], [  89 4678], ..., [4104 4679], [4107 4679]]\n",
       "  friSpring(4060):[[ 286 3622], [ 278 4098], ..., [ 510 3957], [ 905 4018]]},\n",
       " {left(105):  [  52  101  118  124  139 ... 2364 2372 2403 2404 2415]\n",
       "  right(99): [4113 4117 4126 4130 4134 ... 4660 4662 4665 4668 4671]\n",
       "  anchor(2): [4680 4681]\n",
       "  leftCoord: 4731\n",
       "  righCoord: 4738\n",
       "  rotSpring(408):[[  52 4680], [ 101 4680], ..., [4668 4681], [4671 4681]]\n",
       "  friSpring(4080):[[ 960 4387], [ 253 4508], ..., [1203 4629], [ 526 4655]]}]"
      ]
     },
     "execution_count": 137,
     "metadata": {},
     "output_type": "execute_result"
    }
   ],
   "source": [
    "# ids of the leg at rotational joint\n",
    "# assume body index start at id_xyzs_edges[0]\n",
    "# leg[k] index start at id_xyzs_edges[k+1], ends at id_xyzs_edges[k+2]\n",
    "joints = []\n",
    "for k,(body_rot_id,leg_rot_id) in enumerate(joint_tuples):\n",
    "    body_rot_id_actual = np.ravel(np.where(body_rot_id))+id_xyzs_edges[0]\n",
    "    leg_rot_id_actual = np.ravel(np.where(leg_rot_id))+id_xyzs_edges[1+k]\n",
    "    anchors_id = np.arange(id_xyzs_edges[len(xyz_parts)+k],id_xyzs_edges[len(xyz_parts)+k+1])\n",
    "    # (left_ids,right_ids,anchors_id)\n",
    "    \n",
    "    joints.append(Joint(body_rot_id_actual,leg_rot_id_actual,anchors_id))\n",
    "\n",
    "for k in range(n_joints):\n",
    "    joints[k].leftCoord = id_xyzs_joint_oxyz_start+NUM_POINTS_PER_COORDINATE*2*k\n",
    "    joints[k].righCoord = id_xyzs_joint_oxyz_start+(NUM_POINTS_PER_COORDINATE*2)*k + NUM_POINTS_PER_COORDINATE\n",
    "    \n",
    "joints_list = [joint.tolist() for joint in joints]\n",
    "joints"
   ]
  },
  {
   "cell_type": "code",
   "execution_count": 138,
   "metadata": {
    "ExecuteTime": {
     "end_time": "2020-11-17T22:21:55.453969Z",
     "start_time": "2020-11-17T22:21:55.438963Z"
    },
    "deletable": false,
    "editable": false
   },
   "outputs": [
    {
     "name": "stdout",
     "output_type": "stream",
     "text": [
      "id_joint_keypoints:\n",
      "[[4674 4675]\n",
      " [4676 4677]\n",
      " [4678 4679]\n",
      " [4680 4681]]\n",
      "id_lines_edges:[    0 26805 32735 38665 44595 50525 50529 52157 68437 68626 69886]\n"
     ]
    },
    {
     "data": {
      "text/plain": [
       "[(0, 'body'),\n",
       " (26805, 'leg0'),\n",
       " (32735, 'leg1'),\n",
       " (38665, 'leg2'),\n",
       " (44595, 'leg3'),\n",
       " (50525, 'anchors'),\n",
       " (50529, 'rotsprings'),\n",
       " (52157, 'fricsprings'),\n",
       " (68437, 'oxyz_self_springs'),\n",
       " (68626, 'oxyz_anchor_springs'),\n",
       " (69886, 'the end')]"
      ]
     },
     "execution_count": 138,
     "metadata": {},
     "output_type": "execute_result"
    }
   ],
   "source": [
    "# array of (the index of the axis points of a joint)\n",
    "id_joint_keypoints = np.vstack([joint.anchor for joint in joints])\n",
    "print(f\"id_joint_keypoints:\\n{id_joint_keypoints}\")\n",
    "# [body_lines,leg_lines_0,leg_lines_1,leg_lines_2,leg_lines_3]\n",
    "lines_component_list = [lines + id_start for lines,\n",
    "              id_start in zip(lines_parts, id_xyzs_edges)]\n",
    "\n",
    "lines_joint_rotation = np.vstack([joint.rotSpring for joint in joints])\n",
    "\n",
    "lines_joint_friction = np.vstack([joint.friSpring for joint in joints])\n",
    "# list of all the edges of the assembly\n",
    "\n",
    "lines_all_list = lines_component_list+[id_joint_keypoints,lines_joint_rotation,lines_joint_friction,\n",
    "                                       oxyz_self_springs,oxyz_anchor_springs]\n",
    "lines_all = np.vstack(lines_all_list)\n",
    "\n",
    "id_lines_edges = np.cumsum([0]+[len(lines) for lines in lines_all_list])\n",
    "print(f\"id_lines_edges:{id_lines_edges}\")\n",
    "id_lines_edges[n_parts]\n",
    "\n",
    "list(zip(id_lines_edges,\"body,leg0,leg1,leg2,leg3,anchors,rotsprings,\\\n",
    "fricsprings,oxyz_self_springs,oxyz_anchor_springs,the end\".split(',')))"
   ]
  },
  {
   "cell_type": "code",
   "execution_count": 139,
   "metadata": {
    "ExecuteTime": {
     "end_time": "2020-11-17T22:21:56.482902Z",
     "start_time": "2020-11-17T22:21:56.479901Z"
    }
   },
   "outputs": [],
   "source": [
    "# # np.asarray(pcd_body.colors)[np.sum(body_rot_ids,axis = 0,dtype=bool)]=(0,255,0)\n",
    "# for k in range(4):\n",
    "#     np.asarray(legs[k].colors)[leg_rot_id] = (0,255,0)\n",
    "#     np.asarray(pcd_body.colors)[body_rot_ids[k]] = (0,0,255)"
   ]
  },
  {
   "cell_type": "code",
   "execution_count": 141,
   "metadata": {
    "ExecuteTime": {
     "end_time": "2020-11-17T22:22:15.899209Z",
     "start_time": "2020-11-17T22:22:12.767212Z"
    }
   },
   "outputs": [],
   "source": [
    "pcd_assembly = o3d.geometry.PointCloud()\n",
    "pcd_assembly.points = o3d.utility.Vector3dVector(xyz_all)\n",
    "pcd_assembly.colors = o3d.utility.Vector3dVector(colors_all)\n",
    "\n",
    "lsd_assembly = o3d.geometry.LineSet()\n",
    "lsd_assembly.points = o3d.utility.Vector3dVector(xyz_all)\n",
    "# lsd_assembly.lines = o3d.utility.Vector2iVector(lines_all[id_lines_edges[n_parts]:])\n",
    "\n",
    "lsd_assembly.lines = o3d.utility.Vector2iVector(lines_all)\n",
    "\n",
    "# lsd_assembly.lines = o3d.utility.Vector2iVector(lines_all[id_lines_edges[6]:id_lines_edges[7]]) #joint rotspring\n",
    "# lsd_assembly.lines = o3d.utility.Vector2iVector(lines_all[id_lines_edges[7]:id_lines_edges[8]]) #joint friciton spring\n",
    "\n",
    "\n",
    "# lsd_assembly.lines = o3d.utility.Vector2iVector(oxyz_self_springs)\n",
    "# lsd_assembly.lines = o3d.utility.Vector2iVector(oxyz_anchor_springs)\n",
    "# lsd_assembly.lines = o3d.utility.Vector2iVector(np.vstack((oxyz_anchor_springs,oxyz_self_springs)))\n",
    "\n",
    "lsd_assembly.colors = o3d.utility.Vector3dVector((colors_all[lines_all[:,0]]+colors_all[lines_all[:,1]])/2)\n",
    "# o3d.visualization.draw_geometries([pcd_assembly,lsd_assembly,coord_frame]+coord_joint_left)\n",
    "\n",
    "o3d.visualization.draw_geometries_with_animation_callback([pcd_assembly,lsd_assembly,coord_body]+coord_joint_left,rotate_view)\n"
   ]
  },
  {
   "cell_type": "code",
   "execution_count": 142,
   "metadata": {
    "ExecuteTime": {
     "end_time": "2020-11-17T22:22:17.563934Z",
     "start_time": "2020-11-17T22:22:17.558902Z"
    },
    "deletable": false,
    "editable": false
   },
   "outputs": [
    {
     "name": "stdout",
     "output_type": "stream",
     "text": [
      "#springs =69886\n",
      "#mass =4745\n"
     ]
    }
   ],
   "source": [
    "print(\"#springs =%i\"%(len(lines_all)))\n",
    "print(\"#mass =%i\"%(len(xyz_all)))\n",
    "\n",
    "# # KDTree for nearest neighbor search\n",
    "# pcd_assembly_tree = o3d.geometry.KDTreeFlann(pcd_assembly)\n",
    "\n",
    "# # o3d.visualization.draw_geometries([pcd_leg_d,coord_frame])\n",
    "\n",
    "# neighbors = [np.asarray(pcd_assembly_tree.search_radius_vector_3d(point, radius_knn)[1])\n",
    "#              for point in xyz_all]\n",
    "# # neighbors = [np.asarray(pcd_assembly_tree.search_hybrid_vector_3d(point, radius_knn,max_nn = 27))[1] for point in xyz_all]\n",
    "\n",
    "# # check the distance of the springs\n",
    "# fig, ax = plt.subplots(figsize=(20,2))\n",
    "# hist,bin_edges,_ =ax.hist(np.linalg.norm(xyz_all[lines_all[:,0]] - xyz_all[lines_all[:,1]],axis=1),bins=200)\n",
    "# ax.text(bin_edges[0],0,f\"{bin_edges[0]:.1f}\",ha=\"center\",va=\"top\",fontsize=\"x-large\",color='r')\n",
    "# ax.text(bin_edges[-1],0,f\"{bin_edges[-1]:.1f}\",ha=\"center\",va=\"top\",fontsize=\"x-large\",color='r')\n",
    "# ax.set_xlabel(\"spring length\")\n",
    "# ax.set_ylabel(\"count\")\n",
    "# plt.show()\n",
    "\n",
    "# neighbor_counts = np.array([len(neighbor) for neighbor in neighbors])\n",
    "# print(f\"mean neighbors ={np.mean(neighbor_counts)}\")\n",
    "# fig, ax = plt.subplots(figsize=(20,2))\n",
    "# hist,bin_edges,patches =ax.hist(neighbor_counts,bins=28,range=(0,28))\n",
    "# ax.set_xlabel(\"#neighbors (including self)\")\n",
    "# ax.set_ylabel(\"count\")\n",
    "# # ax.text(surface_neighbor_threshold,0,f\"{surface_neighbor_threshold}\",ha=\"center\",va=\"top\",fontsize=\"x-large\",color='r')\n",
    "# plt.show()\n",
    "\n",
    "\n",
    "\n",
    "# # average divergence of the neighbors from a point\n",
    "# average_divergence = np.linalg.norm([xyz_all[n].mean(axis=0)-xyz_all[n[0]] for n in neighbors],axis=1)\n",
    "# fig, ax = plt.subplots(figsize=(20,2))\n",
    "# hist,bin_edges,patches =ax.hist(average_divergence,bins=100)\n",
    "# ax.set_xlabel(\"mean divergence of neighbors (including self)\")\n",
    "# ax.set_ylabel(\"count\")\n",
    "# plt.show()\n",
    "\n",
    "# # is_suface is boolean array to specify wether the point is near the surface, useful for applying contraints\n",
    "# surface_neighbor_threshold = int(max_nn*0.9)\n",
    "# is_suface = np.logical_or(average_divergence>0.6*radius_poisson,neighbor_counts<surface_neighbor_threshold)\n",
    "# is_suface[id_xyzs_edges[n_parts]:]=False # only body parts are considered\n",
    "# print(f\"%surface points = {is_suface.sum()/len(is_suface)*100:.0f}%\")"
   ]
  },
  {
   "cell_type": "code",
   "execution_count": 143,
   "metadata": {
    "ExecuteTime": {
     "end_time": "2020-11-17T22:22:17.881543Z",
     "start_time": "2020-11-17T22:22:17.866538Z"
    }
   },
   "outputs": [],
   "source": [
    "is_suface = np.zeros(len(xyz_all),dtype=bool)\n",
    "is_suface[id_xyzs_edges[0]:id_xyzs_edges[1]]=is_surface_body\n",
    "for k in range(4):\n",
    "    is_suface[id_xyzs_edges[1+k]:id_xyzs_edges[2+k]]=is_surface_leg\n",
    "\n",
    "colors_all_check = np.copy(colors_all)\n",
    "colors_all_check[is_suface]=(1,0.2,0.2)\n",
    "colors_all_check[~is_suface]=(0,0,0.1)\n",
    "\n",
    "pcd_assembly.colors = o3d.utility.Vector3dVector(colors_all_check)\n",
    "\n",
    "lsd_assembly.colors = o3d.utility.Vector3dVector((colors_all_check[lines_all[:,0]]+colors_all_check[lines_all[:,1]])/2)\n",
    "\n",
    "# o3d.visualization.draw_geometries([pcd_assembly,lsd_assembly,coord_frame]+coord_joint_left)\n",
    "# o3d.visualization.draw_geometries([pcd_assembly,coord_frame]+coord_joint_left)\n",
    "\n",
    "# o3d.visualization.draw_geometries([pcd_assembly])\n",
    "\n",
    "# o3d.visualization.draw_geometries([pcd_assembly,lsd_assembly])\n",
    "\n",
    "# o3d.visualization.draw_geometries([pcd_assembly,coord_frame]+coord_joint_left)"
   ]
  },
  {
   "cell_type": "markdown",
   "metadata": {},
   "source": [
    "# export assembly"
   ]
  },
  {
   "cell_type": "code",
   "execution_count": 145,
   "metadata": {
    "ExecuteTime": {
     "end_time": "2020-11-17T22:23:55.833720Z",
     "start_time": "2020-11-17T22:23:55.701688Z"
    },
    "deletable": false,
    "editable": false
   },
   "outputs": [
    {
     "name": "stdout",
     "output_type": "stream",
     "text": [
      "[-0.18581903 -0.17143879  0.        ]\n",
      "[0.18581903 0.17143879 0.19153434]\n",
      "(4745, 3)\n",
      "(69886, 2)\n"
     ]
    }
   ],
   "source": [
    "# transoformed so that z is pointed up\n",
    "xyz_all_trans = ApplyTransform(xyz_all, \n",
    "               np.array([[0,1,0],\n",
    "                         [0,0,1],\n",
    "                         [1,0,0]]).T)\n",
    "\n",
    "# xyz_all_trans = xyz_all.copy() # stand pose\n",
    "\n",
    "min_bound = xyz_all_trans.min(axis=0)\n",
    "\n",
    "# transoformed ofset scaled mm->m\n",
    "xyz_all_trans = (xyz_all_trans + np.array([0,0,0-min_bound[-1]+0]))/1000\n",
    "\n",
    "# rotation about z\n",
    "# xyz_all_trans =ApplyTransform(xyz_all_trans, RotateFromVec([0,0,1],-20*np.pi/180))\n",
    "\n",
    "\n",
    "pcd_assembly = o3d.geometry.PointCloud()\n",
    "pcd_assembly.points = o3d.utility.Vector3dVector(xyz_all_trans)\n",
    "pcd_assembly.colors = o3d.utility.Vector3dVector(colors_all)\n",
    "coord_frame_mm = o3d.geometry.TriangleMesh.create_coordinate_frame(size=0.06, origin=[0, 0, 0])\n",
    "# o3d.visualization.draw_geometries([pcd_assembly,coord_frame_mm])\n",
    "\n",
    "data = [\n",
    "    xyz_all_trans.tolist(),\n",
    "    lines_all.tolist(),\n",
    "    is_suface.tolist(),\n",
    "    id_xyzs_edges.tolist(),\n",
    "    id_lines_edges.tolist(),\n",
    "    colors_all.tolist(),\n",
    "    joints_list\n",
    "]\n",
    "print(xyz_all_trans.min(axis=0))\n",
    "print(xyz_all_trans.max(axis=0))\n",
    "print(xyz_all_trans.shape)\n",
    "print(lines_all.shape)\n",
    "\n",
    "\n",
    "# https://stackoverflow.com/questions/43442194/how-do-i-read-and-write-with-msgpack\n",
    "    \n",
    "# Write msgpack file\n",
    "with open('data.msgpack', 'wb') as outfile:\n",
    "    msgpack.pack(data, outfile)"
   ]
  },
  {
   "cell_type": "code",
   "execution_count": 1086,
   "metadata": {
    "ExecuteTime": {
     "end_time": "2020-06-21T10:26:40.214409Z",
     "start_time": "2020-06-21T10:26:40.127389Z"
    },
    "deletable": false,
    "editable": false,
    "run_control": {
     "frozen": true
    }
   },
   "outputs": [
    {
     "name": "stdout",
     "output_type": "stream",
     "text": [
      "60767\n"
     ]
    }
   ],
   "source": [
    "# Read msgpack file\n",
    "with open('data.msgpack','rb') as data_file:\n",
    "    # data_loaded = json.load(data_file)\n",
    "    data_loaded = msgpack.unpack(data_file)\n",
    "print(len(data_loaded[1]))"
   ]
  },
  {
   "cell_type": "code",
   "execution_count": 76,
   "metadata": {
    "ExecuteTime": {
     "end_time": "2020-11-17T00:06:57.550520Z",
     "start_time": "2020-11-17T00:06:57.546534Z"
    }
   },
   "outputs": [],
   "source": [
    "# x = b'\\x01\\x02'\n",
    "\n",
    "# dt = np.dtype(np.uint16)\n",
    "# dt = dt.newbyteorder('>')\n",
    "# np.frombuffer(x,dtype=dt)"
   ]
  },
  {
   "cell_type": "code",
   "execution_count": null,
   "metadata": {},
   "outputs": [],
   "source": []
  },
  {
   "cell_type": "code",
   "execution_count": null,
   "metadata": {},
   "outputs": [],
   "source": []
  },
  {
   "cell_type": "code",
   "execution_count": null,
   "metadata": {},
   "outputs": [],
   "source": []
  }
 ],
 "metadata": {
  "kernelspec": {
   "display_name": "Python 3",
   "language": "python",
   "name": "python3"
  },
  "language_info": {
   "codemirror_mode": {
    "name": "ipython",
    "version": 3
   },
   "file_extension": ".py",
   "mimetype": "text/x-python",
   "name": "python",
   "nbconvert_exporter": "python",
   "pygments_lexer": "ipython3",
   "version": "3.8.6"
  }
 },
 "nbformat": 4,
 "nbformat_minor": 2
}
