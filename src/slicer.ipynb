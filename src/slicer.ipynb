{
 "cells": [
  {
   "cell_type": "markdown",
   "metadata": {},
   "source": [
    "# Utility"
   ]
  },
  {
   "cell_type": "code",
   "execution_count": 1,
   "metadata": {
    "ExecuteTime": {
     "end_time": "2020-06-14T03:55:37.040552Z",
     "start_time": "2020-06-14T03:55:33.746850Z"
    },
    "deletable": false,
    "editable": false
   },
   "outputs": [],
   "source": [
    "import msgpack\n",
    "import open3d as o3d\n",
    "import trimesh\n",
    "from IPython.display import display, Math\n",
    "import numpy as np\n",
    "import matplotlib.pyplot as plt\n",
    "import multiprocessing\n",
    "plt.style.use('seaborn-whitegrid')\n",
    "%config InlineBackend.figure_format = 'retina'\n",
    "\n",
    "###########################################################\n",
    "def NormalizeSignedDistance(signed_distance, zero_map_to=0.5):\n",
    "    \"\"\"\n",
    "    Normalize to 0-1\n",
    "    min-0 map to 0-0.5\n",
    "    0-max map to 0.5-1\n",
    "    \"\"\"\n",
    "    is_negative = signed_distance < 0\n",
    "\n",
    "    normalized_distance = np.zeros_like(signed_distance)\n",
    "    minimum = signed_distance.min()\n",
    "    maximum = signed_distance.max()\n",
    "    normalized_distance[is_negative] = (\n",
    "        signed_distance[is_negative] - minimum) / np.abs(minimum) * zero_map_to\n",
    "    normalized_distance[~is_negative] = zero_map_to + \\\n",
    "        signed_distance[~is_negative]/np.abs(maximum)*(1-zero_map_to)\n",
    "    return normalized_distance\n",
    "\n",
    "\n",
    "# https://matplotlib.org/tutorials/colors/colormaps.html\n",
    "cmap = plt.cm.get_cmap('hot')\n",
    "\n",
    "coord_frame = o3d.geometry.TriangleMesh.create_coordinate_frame(\n",
    "    size=60, origin=[0, 0, 0])\n",
    "\n",
    "\n",
    "def rotate_view(vis):\n",
    "    ctr = vis.get_view_control()\n",
    "    ctr.rotate(3, 0.0)\n",
    "    return False"
   ]
  },
  {
   "cell_type": "code",
   "execution_count": 3,
   "metadata": {
    "ExecuteTime": {
     "end_time": "2020-06-14T03:55:38.324867Z",
     "start_time": "2020-06-14T03:55:38.321865Z"
    }
   },
   "outputs": [],
   "source": [
    "########## discretization parameters ##############\n",
    "radius_poisson = 6 # radius for the poisson sampling\n",
    "radius_knn = radius_poisson*np.sqrt(3)*1.5\n",
    "max_nn = 24 # maximun number of neighbors for a mass point"
   ]
  },
  {
   "cell_type": "markdown",
   "metadata": {},
   "source": [
    "# Leg Discretization"
   ]
  },
  {
   "cell_type": "code",
   "execution_count": 4,
   "metadata": {
    "ExecuteTime": {
     "end_time": "2020-06-14T03:55:39.421591Z",
     "start_time": "2020-06-14T03:55:39.356216Z"
    },
    "deletable": false,
    "editable": false
   },
   "outputs": [],
   "source": [
    "import numpy as np\n",
    "import matplotlib.pyplot as plt\n",
    "\n",
    "#############################################\n",
    "class Leg:\n",
    "    def __init__(s, d0, d1, r0, r1, r2, r3, a0):\n",
    "        s.d0 = d0  # length of first segment\n",
    "        s.d1 = d1  # length of last segment\n",
    "        s.r0 = r0  # radius of rotation of mid segment\n",
    "        s.r1 = r1  # radius of the first segment\n",
    "        s.r2 = r2  # radius at the end of second segment\n",
    "        s.r3 = r3  # radius at the end of the last segment\n",
    "        s.a0 = a0  # mid section rotation angle\n",
    "\n",
    "        # the starting point of the last segment at centerline\n",
    "        s.p1 = np.array((r0*np.sin(a0), r0*(1-np.cos(a0)), 0.))\n",
    "\n",
    "        # unit vector\n",
    "        s.ux = np.array((1., 0., 0.))\n",
    "        s.uy = np.array((0., 1., 0.))\n",
    "        s.uz = np.array((0., 0., 1.))\n",
    "\n",
    "        # axis of rotation on the second segment\n",
    "        s.pRot = np.array([0, r0, 0])\n",
    "\n",
    "        s.angMidStart = -np.pi/2  # start angle of mid segment\n",
    "        s.angMidEnd = -np.pi/2 + a0  # end angle of mid segment\n",
    "\n",
    "        # centerline dirction (unit vector) of the last segment\n",
    "        s.v1t = np.array((np.cos(a0), np.sin(a0), 0.))\n",
    "        # normal of centerline dirction (unit vector) of the last segment\n",
    "        s.v1n = np.array((-np.sin(a0), np.cos(a0), 0.))\n",
    "\n",
    "        # vectorize the _CenterLineDirction function\n",
    "        s.CenterLineDirction = np.vectorize(\n",
    "            s._CenterLineDirction, signature='()->(n)', otypes=[float])\n",
    "\n",
    "    def Idxs(s, t):\n",
    "        idxs = np.empty((3, t.size), dtype=bool)\n",
    "        # skip assertion for faster speed\n",
    "        # beware t must be [-1,2]\n",
    "        idxs[0] = t <= 0\n",
    "        idxs[1] = np.logical_and(~idxs[0], t <= 1)\n",
    "        idxs[2] = t > 1\n",
    "        return idxs\n",
    "\n",
    "    def _CenterLine(s, t):\n",
    "        assert(-1 <= t <= 2)\n",
    "        if t <= 0:\n",
    "            return np.array((s.d0*t, 0., 0.))\n",
    "        elif t <= 1:\n",
    "            return np.array((s.r0*np.sin(s.a0*t), s.r0*(1.-np.cos(s.a0*t)), 0.))\n",
    "        else:  # 1<=t<=2\n",
    "            return s.p1+s.d1*(t-1.)*s.v1t\n",
    "\n",
    "    def CenterLine(s, t, idxs=None):\n",
    "        if (type(t) is not np.ndarray):\n",
    "            return s._CenterLine(t)\n",
    "\n",
    "        # cl: centerline ((x,y,z)...)\n",
    "        cl = np.zeros((t.size, 3), dtype=float)\n",
    "        if idxs is None:\n",
    "            idxs = s.Idxs(t)\n",
    "        cl[idxs[0], 0] = s.d0*t[idxs[0]]\n",
    "\n",
    "        cl[idxs[1], 0] = s.r0*np.sin(s.a0*t[idxs[1]])\n",
    "        cl[idxs[1], 1] = s.r0*(1.-np.cos(s.a0*t[idxs[1]]))\n",
    "\n",
    "        cl[idxs[2]] = s.p1+s.d1*(t[idxs[2]]-1.)[:, None]*s.v1t[None, :]\n",
    "\n",
    "        return cl\n",
    "\n",
    "    def _CenterLineDirction(s, t):\n",
    "        #         assert(-1 <= t <= 2)\n",
    "        if t <= 0:\n",
    "            return np.array((1, 0, 0))\n",
    "        elif t <= 1:\n",
    "            return np.array((r0*np.sin(s.a0*t), r0*(1.-np.cos(s.a0*t)), 0.))\n",
    "        else:  # 1<=t<=2\n",
    "            return s.v1t\n",
    "\n",
    "    def _Radius(s, t):\n",
    "        #         assert(-1 <= t <= 2)\n",
    "        if t <= 0:\n",
    "            return s.r1\n",
    "        elif t <= 1:\n",
    "            return s.r2*t+s.r1*(1.-t)\n",
    "        else:  # 1<=t<=2\n",
    "            return s.r3*(t-1)+s.r2*(2.-t)\n",
    "\n",
    "    def Radius(s, t, idxs=None):\n",
    "        if (type(t) is not np.ndarray):\n",
    "            return s._Radius(t)\n",
    "        r = np.empty_like(t, dtype=float)\n",
    "\n",
    "        if idxs is None:\n",
    "            idxs = s.Idxs(t)\n",
    "\n",
    "        r[idxs[0]] = s.r1\n",
    "        r[idxs[1]] = s.r1 + (s.r2-s.r1)*t[idxs[1]]\n",
    "        r[idxs[2]] = 2*s.r2-s.r3 + (s.r3-s.r2)*t[idxs[2]]\n",
    "        return r\n",
    "\n",
    "    def _NormalDirction(s, t):\n",
    "        #         assert(-1 <= t <= 2)\n",
    "        if t <= 0:\n",
    "            return s.uy\n",
    "        elif t <= 1:\n",
    "            return np.array((-np.sin(s.a0*t), np.cos(s.a0*t), 0.))\n",
    "        else:  # 1<=t<=2\n",
    "            return s.v1n\n",
    "\n",
    "    def NormalDirction(s, t, idxs=None):\n",
    "        if (type(t) is not np.ndarray):\n",
    "            return s._NormalDirction(t)\n",
    "        d = np.empty((t.size, 3), dtype=float)\n",
    "\n",
    "        if idxs is None:\n",
    "            idxs = s.Idxs(t)\n",
    "\n",
    "        d[idxs[0]] = s.uy\n",
    "        d[idxs[1], 0] = -np.sin(s.a0*t[idxs[1]])\n",
    "        d[idxs[1], 1] = np.cos(s.a0*t[idxs[1]])\n",
    "        d[idxs[1], 2] = 0.\n",
    "\n",
    "        d[idxs[2]] = s.v1n\n",
    "        return d\n",
    "\n",
    "    def _SurfacePoint(s, t, w):\n",
    "        return s._CenterLine(t) + s._Radius(t)*(\n",
    "            s.uz*np.cos(w)+s._NormalDirction(t)*np.sin(w))\n",
    "\n",
    "    def SurfacePoint(s, t, w):\n",
    "        \"\"\"\n",
    "        calcualte the surface point given t and w, vectorized version of _SurfacePoint\n",
    "        input:\n",
    "            s: self\n",
    "            t: variable [-1,2] that determines the location of the centerline\n",
    "            w: variable [0,2pi] that determins the ange of the surface point, the \n",
    "                centerline and the z vector \n",
    "        \"\"\"\n",
    "        # t and w are both scaler\n",
    "        if (type(t) is not np.ndarray) and (type(w) is not np.ndarray):\n",
    "            return s._CenterLine(t) + s._Radius(t)*(\n",
    "                s.uz*np.cos(w) + s._NormalDirction(t)*np.sin(w))\n",
    "        else:\n",
    "            if type(t) is not np.ndarray:\n",
    "                t = np.array(t)\n",
    "            if type(w) is not np.ndarray:\n",
    "                w = np.array(w)\n",
    "\n",
    "            # now t and w are both vectors\n",
    "            return np.squeeze(s.CenterLine(t)[:, None, :] +\n",
    "                              s.Radius(t)[:, None, None]*(\n",
    "                s.NormalDirction(t)[:, None, :]*np.sin(w)[None, :, None] +\n",
    "                s.uz[None, None, :]*np.cos(w)[None, :, None]))\n",
    "\n",
    "    def RandomPoint(s, num, surfaceOnly=False):\n",
    "        \"\"\"\n",
    "        generate random point within and on the body\n",
    "        input:\n",
    "            s: self\n",
    "            num: number of random point to be generated\n",
    "        \"\"\"\n",
    "\n",
    "        # length of the centerline\n",
    "        len_centerline = s.d0+s.d1+s.r0*s.a0\n",
    "\n",
    "        t_high = np.nextafter(2, 3)  # 2.0000000000000004\n",
    "\n",
    "        t = np.hstack(\n",
    "            (np.random.uniform(-1., 0, size=round(s.d0/len_centerline*num)),\n",
    "             np.random.uniform(0, 1., size=round(\n",
    "                 s.r0*s.a0/len_centerline*num)),\n",
    "             np.random.uniform(1., t_high, size=round(s.d1/len_centerline*num))))\n",
    "\n",
    "        num = t.size  # update the num\n",
    "\n",
    "        idxs = s.Idxs(t)\n",
    "\n",
    "#         t = np.random.uniform(low=-1, high=t_high, size=num)\n",
    "\n",
    "        if surfaceOnly:\n",
    "            r = s.Radius(t, idxs)\n",
    "        else:\n",
    "            # sqrt to accout for radius density is lower near the center\n",
    "            r = s.Radius(t, idxs)*np.sqrt(\n",
    "                np.random.uniform(0, np.nextafter(1, 2), size=num))\n",
    "\n",
    "        w = np.random.uniform(low=-np.pi, high=np.pi, size=num)\n",
    "\n",
    "        n = s.uz[None, :]*np.cos(w)[:, None] + \\\n",
    "            s.NormalDirction(t, idxs)*np.sin(w)[:, None]\n",
    "\n",
    "        v = s.CenterLine(t) + r[:, None]*n\n",
    "        return v, n\n",
    "\n",
    "    def _PointIsInside(s, p, eps_r=1e-6,eps_t=1e-6):\n",
    "        \"\"\"\n",
    "        input: a point p of np.array([x,y,z]) \n",
    "        returns:\n",
    "            is_inside: (bool) ,true if p is inside or on the surface\n",
    "            t: (float) a parameter that determins the position of the centerline point\n",
    "            w: (float) angle of point p measured from the centerline\n",
    "            r: (float) radius of point p measured from the centerline\n",
    "        \"\"\"\n",
    "\n",
    "        # vector from the second section axis of rotation to the point\n",
    "        v_p = p - s.pRot\n",
    "        # element-wise arc tangent of y/x - s.angMidStart\n",
    "        angle = np.arctan2(v_p[1], v_p[0]) - s.angMidStart\n",
    "        is_inside = True\n",
    "\n",
    "        if angle <= 0:\n",
    "            # first segment\n",
    "            t = p[0]/s.d0  # t parameter of the point\n",
    "\n",
    "        elif angle <= s.a0:\n",
    "            # mid segment\n",
    "            t = angle/s.a0\n",
    "        else:  # last segment\n",
    "            # vector from the start of the last segment at centerline to point c\n",
    "            v_p1p = p - s.p1\n",
    "            # say pc is normal to centerline and intersect at c\n",
    "            p1c = np.dot(v_p1p, s.v1t)\n",
    "            t = 1 + p1c/s.d1\n",
    "\n",
    "        c = s.CenterLine(t)  # point at centerline\n",
    "        v_pc = p - c  # vector from centerline to point p\n",
    "        r = np.linalg.norm(v_pc)\n",
    "        v_n = s.NormalDirction(t)\n",
    "        w = np.arctan2(np.dot(v_pc, v_n), v_pc[2])\n",
    "\n",
    "        if r > s.Radius(t)+eps_r or t < -1-eps_t or t > 2+eps_t:\n",
    "            is_inside = False\n",
    "\n",
    "        return is_inside, t, w, r\n",
    "\n",
    "    def PointIsInside(s, p, eps_r=1e-6,eps_t=1e-6):\n",
    "        \"\"\"\n",
    "        input: point p of np.array([x,y,z]) \n",
    "                or np.array([[x0,y0,z0],[x1,y1,z1],...]) \n",
    "\n",
    "        returns:\n",
    "            is_inside: (bool) or np.array(bool),true if p is inside or on the surface\n",
    "            t: (float) or np.array(float) a parameter that determins the position of the centerline point\n",
    "            w: (float) or np.array(float) angle of point p measured from the centerline\n",
    "            r: (float) or np.array(float) radius of point p measured from the centerline\n",
    "        \"\"\"\n",
    "        if type(p) is not np.ndarray:\n",
    "            p = np.asarray(p)\n",
    "        if p.shape == (3,):\n",
    "            return s._PointIsInside(p,eps_r,eps_t)\n",
    "\n",
    "        # vector from the second section axis of rotation to the point\n",
    "        v_p = p - s.pRot\n",
    "        # element-wise arc tangent of y/x - s.angMidStart\n",
    "        angle = np.arctan2(v_p[:, 1], v_p[:, 0]) - s.angMidStart\n",
    "\n",
    "        num_points = p.shape[0]\n",
    "        idxs = np.empty((3, num_points), dtype=bool)\n",
    "        # skip assertion for faster speed\n",
    "        # beware t must be [-1,2]\n",
    "        idxs[0] = angle <= 0  # first segment\n",
    "        idxs[1] = np.logical_and(angle > 0, angle <= s.a0)  # mid segment\n",
    "        idxs[2] = angle > s.a0  # last segment\n",
    "\n",
    "        is_inside = np.ones(num_points, dtype=bool)\n",
    "        t = np.empty(num_points, dtype=float)\n",
    "\n",
    "        t[idxs[0]] = p[idxs[0], 0]/s.d0  # t at first segment\n",
    "        t[idxs[1]] = angle[idxs[1]]/s.a0  # t at mid segment\n",
    "\n",
    "        # vector from the start of the last segment at centerline to point c\n",
    "        v_p1p = p[idxs[2]] - s.p1\n",
    "        # say pc is normal to centerline and intersect at c\n",
    "        p1c = np.dot(v_p1p, s.v1t)\n",
    "        t[idxs[2]] = 1 + p1c/s.d1\n",
    "\n",
    "        c = s.CenterLine(t)  # points at centerline\n",
    "        v_pc = p - c  # vector from centerline to point p\n",
    "        r = np.linalg.norm(v_pc, axis=1)\n",
    "        v_n = s.NormalDirction(t)\n",
    "\n",
    "        # w = np.arctan2(np.dot(v_pc, v_n), v_pc[:,2]) # scalar versin\n",
    "        # einsum is the row wise dot product\n",
    "        w = np.arctan2(np.einsum('ij,ij->i', v_pc, v_n), v_pc[:, 2])\n",
    "\n",
    "        is_inside[np.logical_or(\n",
    "            np.logical_or(r > s.Radius(t)+eps_r, t < -1-eps_t), t > 2+eps_t)] = False\n",
    "#         if r > s.Radius(t)+s.eps or t < -1-s.eps or t > 2+s.eps:\n",
    "#             is_inside = False\n",
    "\n",
    "        return is_inside, t, w, r\n",
    "\n",
    "    def GetBounds(s):\n",
    "        v_pf, n_pf = s.RandomPoint(50000, surfaceOnly=True)\n",
    "\n",
    "        bounds = np.asarray((v_pf.min(axis=0), v_pf.max(axis=0)))\n",
    "        greater0 = bounds > 0\n",
    "        less0 = bounds < 0\n",
    "        bounds[greater0] = np.ceil(bounds[greater0])\n",
    "        bounds[less0] = np.floor(bounds[less0])\n",
    "        return bounds"
   ]
  },
  {
   "cell_type": "code",
   "execution_count": 5,
   "metadata": {
    "ExecuteTime": {
     "end_time": "2020-06-14T03:55:40.661718Z",
     "start_time": "2020-06-14T03:55:40.126826Z"
    },
    "deletable": false,
    "editable": false
   },
   "outputs": [],
   "source": [
    "joint_overlap_radius = 10\n",
    "joint_overlap = joint_overlap_radius*2\n",
    "leg_d0 = 20\n",
    "\n",
    "leg = Leg(d0=leg_d0+joint_overlap, d1=50, r0=30, r1=20, r2=16,  r3=10, a0=np.pi*3/5)\n",
    "\n",
    "len_centerline = leg.d0+leg.d1+leg.r0*leg.a0\n",
    "\n",
    "num_t = 180\n",
    "# t_space\n",
    "t_space = np.hstack(\n",
    "    (np.linspace(-1., 0, num=round(leg.d0/len_centerline*num_t)),\n",
    "     np.linspace(0, 1., num=round(leg.r0*leg.a0/len_centerline*num_t)),\n",
    "     np.linspace(1., 2., num=round(leg.d1/len_centerline*num_t))))\n",
    "\n",
    "# w_space\n",
    "w_space = np.linspace(0, 2*np.pi, num=720, endpoint=False)\n",
    "\n",
    "\n",
    "#### unit test\n",
    "np.alltrue(leg.PointIsInside([\n",
    "    leg.SurfacePoint(-0.5, -np.pi/3),\n",
    "    leg.SurfacePoint(0.5, -np.pi/3),\n",
    "    leg.SurfacePoint(1.5, -np.pi/3)])[0])\n",
    "####\n",
    "\n",
    "# surface_points = leg.SurfacePoint(t_space,w_space).reshape((-1,3))\n",
    "\n",
    "#######################################\n",
    "# v_leg: nx3 np array of vertices\n",
    "# n_leg: nx3 np array of vertex normals\n",
    "v_leg, n_leg = leg.RandomPoint(1500000)\n",
    "v_leg_f, n_leg_f = leg.RandomPoint(100000, surfaceOnly=True)\n",
    "\n",
    "center_line = leg.CenterLine(t_space)\n",
    "radius = leg.Radius(t_space)\n",
    "normal = leg.NormalDirction(t_space)"
   ]
  },
  {
   "cell_type": "code",
   "execution_count": 4,
   "metadata": {
    "ExecuteTime": {
     "end_time": "2020-03-28T22:52:32.111767Z",
     "start_time": "2020-03-28T22:52:32.109766Z"
    },
    "deletable": false,
    "editable": false,
    "run_control": {
     "frozen": true
    },
    "scrolled": false
   },
   "outputs": [],
   "source": [
    "# fig, axes = plt.subplots(1,3,dpi=100,figsize=(8,4))\n",
    "\n",
    "# axes[0].plot(center_line[:,0],center_line[:,1])\n",
    "# plt.xlabel('x')\n",
    "# plt.ylabel('y')\n",
    "# plt.title('center line')\n",
    "# plt.axis('equal')\n",
    "\n",
    "# axes[1].plot(t_space,radius)\n",
    "# plt.xlabel('t')\n",
    "# plt.ylabel('radius')\n",
    "# plt.title('radius')\n",
    "\n",
    "# axes[2].quiver(center_line[::3,0],center_line[::3,1],normal[::3,0],normal[::3,1])\n",
    "# plt.axis('equal')\n",
    "# plt.xlabel('t')\n",
    "# plt.ylabel('radius')\n",
    "# plt.title('radius')\n",
    "# plt.tight_layout()\n",
    "# plt.show()"
   ]
  },
  {
   "cell_type": "code",
   "execution_count": 5,
   "metadata": {
    "ExecuteTime": {
     "end_time": "2020-03-28T22:52:32.197829Z",
     "start_time": "2020-03-28T22:52:32.114767Z"
    },
    "deletable": false,
    "editable": false,
    "run_control": {
     "frozen": true
    }
   },
   "outputs": [],
   "source": [
    "# # Pass xyz to Open3D.o3d.geometry.PointCloud and visualize\n",
    "# pcd_leg = o3d.geometry.PointCloud()\n",
    "# pcd_leg.points = o3d.utility.Vector3dVector(np.vstack((v_leg_f, v_leg)))\n",
    "# # pcd_leg.points = o3d.utility.Vector3dVector(np.round(np.vstack((v_leg_f,v_leg))))\n",
    "\n",
    "# pcd_leg_centerline = o3d.geometry.PointCloud()\n",
    "# pcd_leg_centerline.points = o3d.utility.Vector3dVector(center_line)\n",
    "# pcd_leg_centerline.paint_uniform_color([1, 0, 0])\n",
    "\n",
    "# pcd_leg_surface = o3d.geometry.PointCloud()\n",
    "# pcd_leg_surface.points = o3d.utility.Vector3dVector(\n",
    "#     np.vstack((v_leg_f, center_line)))\n",
    "\n",
    "# # # visualization\n",
    "# # # o3d.visualization.draw_geometries([pcd_leg,coord_frame])\n",
    "# # o3d.visualization.draw_geometries_with_animation_callback([pcd_leg],rotate_view)\n",
    "# # o3d.visualization.draw_geometries([pcd_leg_surface,coord_frame])\n",
    "# # # o3d.visualization.draw_geometries_with_animation_callback([pcd_leg_centerline,pcd_leg_surface,coord_frame],\n",
    "# # #                                                               rotate_view)"
   ]
  },
  {
   "cell_type": "code",
   "execution_count": 13,
   "metadata": {
    "ExecuteTime": {
     "end_time": "2020-06-14T03:56:18.232785Z",
     "start_time": "2020-06-14T03:56:14.721916Z"
    },
    "deletable": false,
    "editable": false
   },
   "outputs": [],
   "source": [
    "# downsampling\n",
    "import point_cloud_utils as pcu\n",
    "\n",
    "# v_leg_down, n_leg_down = pcu.prune_point_cloud_poisson_disk(\n",
    "#     v=v_leg, n=n_leg, radius=radius_poisson, best_choice_sampling=False)\n",
    "# print(v_leg_down.shape)\n",
    "# pcd_leg_d = o3d.geometry.PointCloud()  # down-sampled point cloud data\n",
    "# pcd_leg_d.points = o3d.utility.Vector3dVector(v_leg_down)\n",
    "# # o3d.visualization.draw_geometries([pcd_leg_d,coord_frame])\n",
    "\n",
    "from joblib import Parallel, delayed\n",
    "def SamplingHelper(radius_poisson,num_points = 150000):\n",
    "    v_leg, n_leg = leg.RandomPoint(num_points)\n",
    "    v_leg_down, n_leg_down = pcu.prune_point_cloud_poisson_disk(\n",
    "    v=v_leg, n=n_leg, radius=radius_poisson, best_choice_sampling=True)\n",
    "    return v_leg_down\n",
    "\n",
    "n_jobs = int(multiprocessing.cpu_count()*0.95)\n",
    "result = Parallel(n_jobs=n_jobs)(delayed(SamplingHelper)(radius_poisson) for i in range(n_jobs))\n",
    "# find the leg that has the least deviation from the centerline in the first section\n",
    "mse_list = [np.linalg.norm(np.mean(v_down[v_down[:,0]<=0],axis=0)[1:]) for v_down in result]\n",
    "v_leg_down = result[np.argmin(mse_list)]\n",
    "\n",
    "pcd_leg_d = o3d.geometry.PointCloud()  # down-sampled point cloud data\n",
    "pcd_leg_d.points = o3d.utility.Vector3dVector(v_leg_down)\n",
    "# o3d.visualization.draw_geometries([pcd_leg_d,coord_frame])"
   ]
  },
  {
   "cell_type": "code",
   "execution_count": 14,
   "metadata": {
    "ExecuteTime": {
     "end_time": "2020-06-14T03:56:18.686909Z",
     "start_time": "2020-06-14T03:56:18.234786Z"
    },
    "deletable": false,
    "editable": false,
    "scrolled": true
   },
   "outputs": [
    {
     "name": "stdout",
     "output_type": "stream",
     "text": [
      "#mass: 544\n",
      "#springs: 6123\n",
      "COM at 1st section: [-20.416  -0.009   0.024]\n",
      "COM: [ 5.838 17.517  0.052]\n",
      "mean neighbors =23.7\n"
     ]
    },
    {
     "data": {
      "image/png": "[encoded data removed]",
      "text/plain": [
       "<Figure size 1440x288 with 2 Axes>"
      ]
     },
     "metadata": {
      "image/png": {
       "height": 281,
       "width": 1433
      }
     },
     "output_type": "display_data"
    }
   ],
   "source": [
    "# KDTree for nearest neighbor search\n",
    "pcd_leg_tree = o3d.geometry.KDTreeFlann(pcd_leg_d)\n",
    "\n",
    "# o3d.visualization.draw_geometries([pcd_leg_d,coord_frame])\n",
    "\n",
    "neighbors = [np.asarray(pcd_leg_tree.search_hybrid_vector_3d(point, radius_knn,max_nn = max_nn)[1]) for point in v_leg_down]\n",
    "\n",
    "def GetEdges(neighbor):\n",
    "    candidate = neighbor[1:]\n",
    "    self = neighbor[0]\n",
    "    candidate = candidate[candidate<self] # to remove redundency\n",
    "    edges = np.empty((candidate.size,2),dtype=np.int32)\n",
    "    edges[:,0]=self\n",
    "    edges[:,1]=candidate\n",
    "    return edges\n",
    "\n",
    "lines_leg = np.vstack([GetEdges(neighbor) for neighbor in neighbors])\n",
    "\n",
    "print(\"#mass: %i\"%v_leg_down.shape[0])\n",
    "print(\"#springs: %i\"%lines_leg.shape[0])\n",
    "\n",
    "lsd_leg = o3d.geometry.LineSet()\n",
    "lsd_leg.points = o3d.utility.Vector3dVector(v_leg_down)\n",
    "lsd_leg.lines = o3d.utility.Vector2iVector(lines_leg)\n",
    "with np.printoptions(precision=3, suppress=True):\n",
    "    print(\"COM at 1st section:\",np.mean(v_leg_down[v_leg_down[:,0]<=0],axis=0))\n",
    "    print(\"COM:\",np.mean(v_leg_down,axis=0))\n",
    "\n",
    "    \n",
    "fig, ax = plt.subplots(2,1,figsize=(20,4))\n",
    "\n",
    "# check the distribution of the distance of the springs\n",
    "ax[0].hist(np.linalg.norm(v_leg_down[lines_leg[:,0]] - v_leg_down[lines_leg[:,1]],axis=1),bins=100,histtype=\"step\")\n",
    "ax[0].set_xlabel(\"spring length\")\n",
    "ax[0].set_ylabel(\"count\")\n",
    "# check the #of neighbors\n",
    "neighbor_counts = np.array([len(neighbor) for neighbor in neighbors])\n",
    "print(f\"mean neighbors ={np.mean(neighbor_counts):.1f}\")\n",
    "hist,bin_edges,patches =ax[1].hist(neighbor_counts,bins=28,range=(0,28))\n",
    "ax[1].set_xlabel(\"#neighbors(including self)\")\n",
    "ax[1].set_ylabel(\"count\")\n",
    "\n",
    "plt.tight_layout()\n",
    "plt.show()"
   ]
  },
  {
   "cell_type": "code",
   "execution_count": 15,
   "metadata": {
    "ExecuteTime": {
     "end_time": "2020-06-14T03:56:21.673585Z",
     "start_time": "2020-06-14T03:56:21.662590Z"
    },
    "deletable": false,
    "editable": false
   },
   "outputs": [],
   "source": [
    "# color the pointcloud and lines\n",
    "cmap = plt.cm.get_cmap('hot')\n",
    "\n",
    "_,t,_,r=leg.PointIsInside(v_leg_down)\n",
    "signed_distance = leg.Radius(t)-r\n",
    "\n",
    "colors = cmap(NormalizeSignedDistance(signed_distance,zero_map_to=0.))[:,:3] # drop alpha channel\n",
    "# colors[neighbor_counts<25]=(0,1,1)\n",
    "\n",
    "pcd_leg_d.colors = o3d.utility.Vector3dVector(colors)\n",
    "# the line colors are the average of the two end points colors\n",
    "leg_lines_colors = (colors[lines_leg[:,0]]+colors[lines_leg[:,1]])/2\n",
    "lsd_leg.colors = o3d.utility.Vector3dVector(leg_lines_colors)"
   ]
  },
  {
   "cell_type": "code",
   "execution_count": 16,
   "metadata": {
    "ExecuteTime": {
     "end_time": "2020-06-14T03:56:26.777279Z",
     "start_time": "2020-06-14T03:56:22.331861Z"
    }
   },
   "outputs": [],
   "source": [
    "o3d.visualization.draw_geometries([lsd_leg, pcd_leg_d,coord_frame])\n",
    "\n",
    "# o3d.visualization.draw_geometries([pcd_leg])\n",
    "# o3d.visualization.draw_geometries([pcd_leg_d])\n",
    "# o3d.visualization.draw_geometries_with_animation_callback([lsd_leg,coord_frame,pcd_leg_d],rotate_view)\n",
    "# o3d.visualization.draw_geometries_with_animation_callback([lsd_leg,coord_frame,pcd_leg_d,pcd_leg_centerline],rotate_view,\n",
    "#                                                          width=1080, height=1080)"
   ]
  },
  {
   "cell_type": "markdown",
   "metadata": {},
   "source": [
    "# Body discretization"
   ]
  },
  {
   "cell_type": "code",
   "execution_count": 17,
   "metadata": {
    "ExecuteTime": {
     "end_time": "2020-06-14T03:56:29.487070Z",
     "start_time": "2020-06-14T03:56:28.288677Z"
    },
    "deletable": false,
    "editable": false
   },
   "outputs": [],
   "source": [
    "from numba import jit\n",
    "@jit(\"float64[:,:](float64[:,:], float64,int64)\",nopython=True)\n",
    "def UniformRandomAroundPoints(points,radius,num_per_grid=50):\n",
    "    num_grid = points.shape[0]\n",
    "    xyz = np.empty((num_grid*num_per_grid,3),dtype=np.float64)\n",
    "#     for i,point in enumerate(points):\n",
    "    for i in range(num_grid):\n",
    "        point = points[i]\n",
    "        start = num_per_grid*i\n",
    "        end = start+num_per_grid\n",
    "        xyz[start:end,0] = np.random.uniform(point[0]-radius,point[0]+radius,num_per_grid)\n",
    "        xyz[start:end,1] = np.random.uniform(point[1]-radius,point[1]+radius,num_per_grid)\n",
    "        xyz[start:end,2] = np.random.uniform(point[2]-radius,point[2]+radius,num_per_grid)\n",
    "    return xyz"
   ]
  },
  {
   "cell_type": "code",
   "execution_count": 18,
   "metadata": {
    "ExecuteTime": {
     "end_time": "2020-06-14T03:56:31.184393Z",
     "start_time": "2020-06-14T03:56:30.527202Z"
    }
   },
   "outputs": [
    {
     "name": "stdout",
     "output_type": "stream",
     "text": [
      "bounds=\n",
      " [[ -74.  -26. -115.]\n",
      " [  74.   26.  115.]]\n",
      "xyz_grid.shape=(23, 63, 97, 3)\n",
      "44253\n"
     ]
    }
   ],
   "source": [
    "# %load_ext line_profiler\n",
    "import numpy as np\n",
    "import trimesh\n",
    "mesh_body = trimesh.load(\"../mesh/mainbody_v2_simplified.stl\", use_embree=True)\n",
    "mesh_body_filled = trimesh.load(\"../mesh/mainbody_v2_simplified_filled.stl\", use_embree=True)\n",
    "\n",
    "#####\n",
    "\n",
    "# radius_grid = radius_poisson/np.sqrt(3)\n",
    "radius_grid = radius_poisson/2.5\n",
    "\n",
    "bounds = mesh_body.bounds\n",
    "\n",
    "# convert to integer, type is still float\n",
    "bounds = np.stack((np.floor(bounds[0]), np.ceil(bounds[1])))\n",
    "print(\"bounds=\\n\", bounds)\n",
    "\n",
    "\n",
    "nx = int(np.ceil((bounds[1, 0]-bounds[0, 0])/radius_grid))\n",
    "ny = int(np.ceil((bounds[1, 1]-bounds[0, 1])/radius_grid))\n",
    "nz = int(np.ceil((bounds[1, 2]-bounds[0, 2])/radius_grid))\n",
    "\n",
    "x = np.linspace(bounds[0, 0], bounds[0, 0]+nx*radius_grid, num=nx+1)\n",
    "y = np.linspace(bounds[0, 1], bounds[0, 1]+ny*radius_grid, num=ny+1)\n",
    "z = np.linspace(bounds[0, 2], bounds[0, 2]+nz*radius_grid, num=nz+1)\n",
    "\n",
    "xyz_grid = np.stack(np.meshgrid(x, y, z), axis=-1)\n",
    "xyz_grid_flat = xyz_grid.reshape((-1, 3))\n",
    "\n",
    "grid_is_inside_flat = mesh_body.ray.contains_points(xyz_grid_flat)\n",
    "grid_is_inside = grid_is_inside_flat.reshape(xyz_grid.shape[:-1])\n",
    "\n",
    "print(f\"xyz_grid.shape={xyz_grid.shape}\")\n",
    "\n",
    "\n",
    "############################################\n",
    "from scipy.ndimage.morphology import binary_dilation, binary_erosion\n",
    "\n",
    "window = np.ones((3, 3, 3))\n",
    "\n",
    "grid_is_edge = binary_dilation(\n",
    "    grid_is_inside, window)*~binary_erosion(grid_is_inside, window)\n",
    "\n",
    "# grid_is_edge = binary_dilation(\n",
    "#     grid_is_inside)*~binary_erosion(grid_is_inside)\n",
    "print(f\"{grid_is_edge.sum()}\")\n",
    "\n",
    "grid_is_deep_inside = grid_is_inside*~grid_is_edge\n",
    "# grid_is_deep_inside.sum()\n",
    "\n",
    "##############################"
   ]
  },
  {
   "cell_type": "code",
   "execution_count": 19,
   "metadata": {
    "ExecuteTime": {
     "end_time": "2020-06-14T03:56:39.049739Z",
     "start_time": "2020-06-14T03:56:32.156819Z"
    }
   },
   "outputs": [
    {
     "name": "stdout",
     "output_type": "stream",
     "text": [
      "(665220, 3)\n",
      "(1327590, 3)\n"
     ]
    }
   ],
   "source": [
    "xyz_is_edge_candidate = UniformRandomAroundPoints(xyz_grid[grid_is_edge],\n",
    "                                                  radius_grid,num_per_grid=30)\n",
    "xyz_deep_inside_candidate = UniformRandomAroundPoints(xyz_grid[grid_is_deep_inside],\n",
    "                                                      radius_grid,num_per_grid=30)\n",
    "\n",
    "is_edge_candidate = mesh_body.ray.contains_points(xyz_is_edge_candidate)\n",
    "xyz_edge_candidate = xyz_is_edge_candidate[is_edge_candidate]\n",
    "\n",
    "# pcd_body = o3d.geometry.PointCloud()\n",
    "# pcd_body.points = o3d.utility.Vector3dVector(xyz_edge_candidate)\n",
    "# o3d.visualization.draw_geometries([pcd_body,coord_frame])\n",
    "\n",
    "print(xyz_deep_inside_candidate.shape)\n",
    "print(xyz_is_edge_candidate.shape)"
   ]
  },
  {
   "cell_type": "code",
   "execution_count": 281,
   "metadata": {
    "ExecuteTime": {
     "end_time": "2020-06-14T03:32:01.497522Z",
     "start_time": "2020-06-14T03:31:36.135927Z"
    },
    "deletable": false,
    "editable": false,
    "run_control": {
     "frozen": true
    },
    "scrolled": true
   },
   "outputs": [],
   "source": [
    "# pcd_body = o3d.geometry.PointCloud()\n",
    "# pcd_body.points = o3d.utility.Vector3dVector(xyz_grid[grid_is_deep_inside])\n",
    "# o3d.visualization.draw_geometries([pcd_body,coord_frame])\n",
    "\n",
    "# pcd_body = o3d.geometry.PointCloud()\n",
    "# pcd_body.points = o3d.utility.Vector3dVector(xyz_grid[grid_is_inside])\n",
    "# o3d.visualization.draw_geometries([pcd_body,coord_frame])\n",
    "\n",
    "# pcd_body = o3d.geometry.PointCloud()\n",
    "# pcd_body.points = o3d.utility.Vector3dVector(xyz_grid[grid_is_edge])\n",
    "# o3d.visualization.draw_geometries([pcd_body,coord_frame])"
   ]
  },
  {
   "cell_type": "code",
   "execution_count": 20,
   "metadata": {
    "ExecuteTime": {
     "end_time": "2020-06-14T03:56:40.614507Z",
     "start_time": "2020-06-14T03:56:39.050736Z"
    },
    "deletable": false,
    "editable": false
   },
   "outputs": [
    {
     "name": "stdout",
     "output_type": "stream",
     "text": [
      "(2804, 3)\n"
     ]
    }
   ],
   "source": [
    "import point_cloud_utils as pcu\n",
    "xyz_candidate = np.vstack([xyz_deep_inside_candidate, xyz_edge_candidate])\n",
    "# poisson disk down sampling\n",
    "# down-sampled point cloud data\n",
    "xyz_body, _ = pcu.prune_point_cloud_poisson_disk(v=xyz_candidate, n=np.ones_like(\n",
    "    xyz_candidate), radius=radius_poisson, best_choice_sampling=True)\n",
    "print(xyz_body.shape)\n",
    "\n",
    "pcd_body = o3d.geometry.PointCloud()\n",
    "pcd_body.points = o3d.utility.Vector3dVector(xyz_body)\n",
    "# o3d.visualization.draw_geometries([pcd_body, coord_frame])\n",
    "# o3d.visualization.draw_geometries_with_animation_callback([pcd_body,coord_frame],rotate_view)"
   ]
  },
  {
   "cell_type": "code",
   "execution_count": 290,
   "metadata": {
    "ExecuteTime": {
     "end_time": "2020-06-14T03:42:16.907606Z",
     "start_time": "2020-06-14T03:42:15.060732Z"
    },
    "deletable": false,
    "editable": false,
    "run_control": {
     "frozen": true
    }
   },
   "outputs": [],
   "source": [
    "# pcd_body = o3d.geometry.PointCloud()\n",
    "# pcd_body.points = o3d.utility.Vector3dVector(xyz_candidate)\n",
    "# o3d.visualization.draw_geometries([pcd_body,coord_frame])"
   ]
  },
  {
   "cell_type": "code",
   "execution_count": 21,
   "metadata": {
    "ExecuteTime": {
     "end_time": "2020-06-14T03:56:41.126623Z",
     "start_time": "2020-06-14T03:56:40.616508Z"
    }
   },
   "outputs": [
    {
     "name": "stdout",
     "output_type": "stream",
     "text": [
      "#mass: 2804\n",
      "#springs: 32192\n",
      "COM: [-0.249 -0.114  2.274]\n",
      "mean neighbors =23.9\n"
     ]
    },
    {
     "data": {
      "image/png": "[encoded data removed]",
      "text/plain": [
       "<Figure size 1440x288 with 2 Axes>"
      ]
     },
     "metadata": {
      "image/png": {
       "height": 281,
       "width": 1433
      }
     },
     "output_type": "display_data"
    }
   ],
   "source": [
    "pcd_tree = o3d.geometry.KDTreeFlann(pcd_body)\n",
    "\n",
    "# o3d.visualization.draw_geometries([pcd_d,coord_frame])\n",
    "\n",
    "# max_nn = 18\n",
    "\n",
    "# [k, idx, _] = pcd_tree.search_radius_vector_3d(pcd_d.points[0], radius*np.sqrt(3)+0.1)\n",
    "# neighbors = [np.asarray(pcd_tree.search_radius_vector_3d(point, radius*(np.sqrt(3)+0.01))[1]) for point in xyz_body]\n",
    "neighbors = [np.asarray(pcd_tree.search_hybrid_vector_3d(\n",
    "    point, radius_knn, max_nn=max_nn)[1]) for point in xyz_body]\n",
    "\n",
    "\n",
    "def GetEdges(neighbor):\n",
    "    candidate = neighbor[1:]\n",
    "    self = neighbor[0]\n",
    "    candidate = candidate[candidate < self]  # to remove redundency\n",
    "    edges = np.empty((candidate.size, 2), dtype=np.int32)\n",
    "    edges[:, 0] = self\n",
    "    edges[:, 1] = candidate\n",
    "    return edges\n",
    "\n",
    "\n",
    "lines_body = np.vstack([GetEdges(neighbor) for neighbor in neighbors])\n",
    "\n",
    "print(\"#mass: %i\" % xyz_body.shape[0])\n",
    "print(\"#springs: %i\" % lines_body.shape[0])\n",
    "\n",
    "lsd_body = o3d.geometry.LineSet()\n",
    "lsd_body.points = o3d.utility.Vector3dVector(xyz_body)\n",
    "lsd_body.lines = o3d.utility.Vector2iVector(lines_body)\n",
    "\n",
    "# lsd_body.paint_uniform_color((0.1,0.1,0.1))\n",
    "with np.printoptions(precision=3, suppress=True):\n",
    "    print(\"COM:\", np.mean(xyz_body, axis=0))\n",
    "\n",
    "# plottig the distribution of the lenght of springs\n",
    "fig, ax = plt.subplots(2,1,figsize=(20,4))\n",
    "hist,bin_edges,_ = ax[0].hist(np.linalg.norm(xyz_body[lines_body[:,0]] - xyz_body[lines_body[:,1]],axis=1),bins=100,histtype=\"step\")\n",
    "ax[0].text(bin_edges[0],0,f\"{bin_edges[0]:.1f}\",ha=\"center\",va=\"top\",fontsize=\"x-large\",color='r')\n",
    "ax[0].text(bin_edges[-1],0,f\"{bin_edges[-1]:.1f}\",ha=\"center\",va=\"top\",fontsize=\"x-large\",color='r')\n",
    "\n",
    "\n",
    "# check the #of neighbors\n",
    "neighbor_counts = np.array([len(neighbor) for neighbor in neighbors])\n",
    "print(f\"mean neighbors ={np.mean(neighbor_counts):.1f}\")\n",
    "hist,bin_edges,patches =ax[1].hist(neighbor_counts,bins=28,range=(0,28))\n",
    "ax[1].set_xlabel(\"#neighbors(including self)\")\n",
    "ax[1].set_ylabel(\"count\")\n",
    "plt.tight_layout()\n",
    "plt.show()"
   ]
  },
  {
   "cell_type": "code",
   "execution_count": 22,
   "metadata": {
    "ExecuteTime": {
     "end_time": "2020-06-14T03:56:41.690748Z",
     "start_time": "2020-06-14T03:56:41.128637Z"
    },
    "deletable": false,
    "editable": false
   },
   "outputs": [],
   "source": [
    "# colorize the body\n",
    "signed_distance = trimesh.proximity.signed_distance(mesh_body,xyz_body)\n",
    "\n",
    "cmap = plt.cm.get_cmap('hot')\n",
    "colors = cmap(NormalizeSignedDistance(signed_distance,zero_map_to=0.))[:,:3] # drop alpha channel\n",
    "pcd_body.colors = o3d.utility.Vector3dVector(colors)\n",
    "\n",
    "body_lines_colors = (colors[lines_body[:,0]]+colors[lines_body[:,1]])/2\n",
    "lsd_body.colors = o3d.utility.Vector3dVector(body_lines_colors)"
   ]
  },
  {
   "cell_type": "code",
   "execution_count": 336,
   "metadata": {
    "ExecuteTime": {
     "end_time": "2020-06-14T03:47:21.113304Z",
     "start_time": "2020-06-14T03:47:18.566685Z"
    }
   },
   "outputs": [],
   "source": [
    "o3d.visualization.draw_geometries([pcd_body,lsd_body])\n",
    "\n",
    "# o3d.visualization.draw_geometries_with_animation_callback([lsd_body,coord_frame,pcd_d],rotate_view)\n",
    "# o3d.visualization.draw_geometries_with_animation_callback([lsd_body,coord_frame,pcd_body],rotate_view,\n",
    "#                                                          width=1920, height=1080)"
   ]
  },
  {
   "cell_type": "markdown",
   "metadata": {},
   "source": [
    "# Assemble the parts"
   ]
  },
  {
   "cell_type": "code",
   "execution_count": 23,
   "metadata": {
    "ExecuteTime": {
     "end_time": "2020-06-14T03:56:41.699771Z",
     "start_time": "2020-06-14T03:56:41.691760Z"
    }
   },
   "outputs": [],
   "source": [
    "from scipy.spatial.transform import Rotation as R\n",
    "def RotateFromVec(vec, angle):\n",
    "    vec = np.asarray(vec, dtype=np.float64)\n",
    "    vec_norm = np.linalg.norm(vec)\n",
    "    if vec_norm != 1:\n",
    "        vec = vec/vec_norm\n",
    "    vec *= angle\n",
    "    h = np.eye(4)\n",
    "    h[:3, :3] = R.from_rotvec(vec).as_dcm()\n",
    "    return h\n",
    "\n",
    "\n",
    "def Translate(vec, h=None):\n",
    "    if h is None:\n",
    "        h = np.eye(4)\n",
    "    h[:3, -1] += vec\n",
    "    return h\n",
    "\n",
    "def ApplyTransform(xyz, t):\n",
    "    \"\"\"\n",
    "    apply transform t to xyz, !!Note that t is transposed!!!\n",
    "    if transform.shape=(3,3): rotation\n",
    "    if transform.shape=(4,4): homogegenious transformation (rotation+translation)\n",
    "    \"\"\"\n",
    "    xyz = np.asarray(xyz)\n",
    "    if t.shape == (3,3): # rotation matrix\n",
    "        return np.dot(xyz, t.T)\n",
    "    elif t.shape ==(4,4): # homogeneous matrix\n",
    "        return np.dot(xyz, t[:-1, :-1].T)+t[:-1, -1]\n",
    "    else:\n",
    "        raise AssertionError(\"dimension error\")"
   ]
  },
  {
   "cell_type": "code",
   "execution_count": 24,
   "metadata": {
    "ExecuteTime": {
     "end_time": "2020-06-14T03:56:42.312716Z",
     "start_time": "2020-06-14T03:56:42.300720Z"
    }
   },
   "outputs": [],
   "source": [
    "dx_front = 20\n",
    "dx_back = 11\n",
    "dy = 75\n",
    "rot_ang = 25\n",
    "cylinder_len = 49.5\n",
    "\n",
    "t_axial = Translate((0,0,cylinder_len-joint_overlap_radius)) # translate along cylinder\n",
    "\n",
    "t_zrot = RotateFromVec((0,0,1),np.pi)\n",
    "\n",
    "t0 = Translate((dx_front,0,dy)).dot(RotateFromVec((0, 1, 0),(90-rot_ang)/180.*np.pi).dot(t_axial))# front left\n",
    "t1 = Translate((dx_back,0,-dy)).dot(RotateFromVec((0, 1, 0),(90+rot_ang)/180.*np.pi).dot(t_axial))# back left\n",
    "t2 = Translate((-dx_front,0,dy)).dot(RotateFromVec((0, 1, 0),(-90+rot_ang)/180.*np.pi).dot(t_zrot).dot(t_axial))# front right\n",
    "t3 = Translate((-dx_back,0,-dy)).dot(RotateFromVec((0, 1, 0),(-90-rot_ang)/180.*np.pi).dot(t_zrot).dot(t_axial))# back right\n",
    "# t2 = Translate((-dx_front,0,dy)).dot(RotateFromVec((0, 1, 0),(-90+rot_ang)/180.*np.pi).dot(t_axial))# front right\n",
    "# t3 = Translate((-dx_back,0,-dy)).dot(RotateFromVec((0, 1, 0),(-90-rot_ang)/180.*np.pi).dot(t_axial))# back right\n",
    "# t_leg_alignment = np.array([\n",
    "#     [0,0,1,0],\n",
    "#     [1,0,0,0],\n",
    "#     [0,1,0,0],\n",
    "#     [0,0,0,1]],dtype=np.float64)\n",
    "leg_axes_transform = [t0,t1,t2,t3]\n",
    "\n",
    "t_leg_alignment =Translate((0,0,leg_d0+joint_overlap_radius),np.dot(RotateFromVec((0,0,1),np.pi/2),RotateFromVec((0,1,0),-np.pi/2)))\n",
    "\n",
    "leg_transform = [np.dot(t,t_leg_alignment) for t in leg_axes_transform]"
   ]
  },
  {
   "cell_type": "code",
   "execution_count": 25,
   "metadata": {
    "ExecuteTime": {
     "end_time": "2020-06-14T03:56:42.828779Z",
     "start_time": "2020-06-14T03:56:42.817851Z"
    }
   },
   "outputs": [],
   "source": [
    "# cylinders for getting the rotation anchor points on the body\n",
    "cylinders = [\n",
    "    trimesh.creation.cylinder(radius=30, height=joint_overlap, transform=t0),\n",
    "    trimesh.creation.cylinder(radius=30, height=joint_overlap, transform=t1),\n",
    "    trimesh.creation.cylinder(radius=30, height=joint_overlap, transform=t2),\n",
    "    trimesh.creation.cylinder(radius=30, height=joint_overlap, transform=t3)] # 20 will be covered\n",
    "\n",
    "# axis_size=5\n",
    "# axis_origin_tri = trimesh.creation.axis(axis_size*2)\n",
    "# # front left, back left, front right, back right\n",
    "# axes = [trimesh.creation.axis(axis_size,transform=t) for t in leg_axes_transform]\n",
    "# # mesh_body.visual.face_colors=np.array((102, 102, 102, 1))\n",
    "# scene=trimesh.scene.Scene(geometry=axes+[axis_origin_tri,mesh_body]+cylinders)\n",
    "# scene.show()"
   ]
  },
  {
   "cell_type": "code",
   "execution_count": 26,
   "metadata": {
    "ExecuteTime": {
     "end_time": "2020-06-14T03:56:43.942031Z",
     "start_time": "2020-06-14T03:56:43.934038Z"
    }
   },
   "outputs": [
    {
     "name": "stdout",
     "output_type": "stream",
     "text": [
      "#springs =56684\n",
      "#mass =4980\n"
     ]
    }
   ],
   "source": [
    "axes = [o3d.geometry.TriangleMesh.create_coordinate_frame(\n",
    "    size=60, origin=[0, 0, 0]).transform(t) for t in leg_axes_transform]\n",
    "\n",
    "legs = [o3d.geometry.PointCloud(pcd_leg_d).transform(t) for t in leg_transform]\n",
    "lsd_legs = [o3d.geometry.LineSet(lsd_leg).transform(t) for t in leg_transform]\n",
    "\n",
    "\n",
    "\n",
    "print(\"#springs =%i\"%(len(lsd_leg.lines)*4+len(lsd_body.lines)))\n",
    "print(\"#mass =%i\"%(len(pcd_leg_d.points)*4+len(pcd_body.points)))"
   ]
  },
  {
   "cell_type": "code",
   "execution_count": 341,
   "metadata": {
    "ExecuteTime": {
     "end_time": "2020-06-14T03:47:23.126315Z",
     "start_time": "2020-06-14T03:47:21.173302Z"
    }
   },
   "outputs": [],
   "source": [
    "o3d.visualization.draw_geometries([pcd_body]+axes+legs)\n",
    "# o3d.visualization.draw_geometries(axes+legs)\n",
    "# o3d.visualization.draw_geometries([pcd_body]+axes)\n",
    "# o3d.visualization.draw_geometries([pcd_body,lsd_body]+legs+lsd_legs+axes)\n",
    "# o3d.visualization.draw_geometries_with_animation_callback([pcd_body,lsd_body]+legs+lsd_legs,rotate_view)\n",
    "# o3d.visualization.draw_geometries([pcd_body]+axes+legs)"
   ]
  },
  {
   "cell_type": "code",
   "execution_count": 27,
   "metadata": {
    "ExecuteTime": {
     "end_time": "2020-06-14T03:56:45.212327Z",
     "start_time": "2020-06-14T03:56:45.183321Z"
    }
   },
   "outputs": [
    {
     "name": "stdout",
     "output_type": "stream",
     "text": [
      "id_xyz_parts_edges=[   0 2804 3348 3892 4436 4980]\n",
      "id_lines_parts_edges=[    0 32192 38315 44438 50561 56684]\n",
      "n_parts=5\n",
      "n_joints=4\n",
      "rot_anchor_radius=20\n"
     ]
    }
   ],
   "source": [
    "# # axes_all = [axis_body, axis_leg0, axis_leg1, axis_leg2, axis_leg3]\n",
    "# axes_all = [coord_frame] + axes\n",
    "\n",
    "# pcd list of parts\n",
    "pcd_parts = [pcd_body]+legs \n",
    "\n",
    "# lst list of parts\n",
    "lsd_parts = [lsd_body]+lsd_legs\n",
    "\n",
    "# transform_all = [transform_body, transform_leg0, transform_leg1, transform_leg2, transform_leg3]\n",
    "transform_all = [np.eye(4)] + leg_axes_transform\n",
    "\n",
    "# list of boolean array for the rotation ids of the body, 4 in total\n",
    "body_rot_ids = [cylinder.ray.contains_points(xyz_body) for cylinder in cylinders]\n",
    "\n",
    "# list of np boolean array indicating if point is part of rotational jonit\n",
    "leg_rot_ids = [np.asarray(pcd_leg_d.points)[:,0]<-leg_d0]*len(legs)\n",
    "\n",
    "# xyzs of the components [body,leg,leg,leg,leg]\n",
    "xyz_parts = [np.asarray(pcd.points) for pcd in pcd_parts]\n",
    "\n",
    "# the edges of the points start and end index for each part of the component\n",
    "id_xyz_parts_edges = np.cumsum([0]+[len(xyz) for xyz in xyz_parts])\n",
    "print(f\"id_xyz_parts_edges={id_xyz_parts_edges}\")\n",
    "\n",
    "# lines of the components [body,leg,leg,leg,leg]\n",
    "lines_parts = [np.asanyarray(lsd.lines) for lsd in lsd_parts]\n",
    "\n",
    "id_lines_parts_edges = np.cumsum([0]+[len(lines) for lines in lines_parts])\n",
    "print(f\"id_lines_parts_edges={id_lines_parts_edges}\")\n",
    "\n",
    "\n",
    "n_parts = len(xyz_parts) # number of components\n",
    "print(f\"n_parts={n_parts}\")\n",
    "n_joints = len(legs)\n",
    "print(f\"n_joints={n_joints}\")\n",
    "\n",
    "# array of index of the componet for a joint\n",
    "id_joint_components = np.array([[0,1],[0,2],[0,3],[0,4]])\n",
    "\n",
    "# list of transform for each joint\n",
    "joint_transforms = leg_axes_transform\n",
    "\n",
    "# the actual points (bool array)\n",
    "joint_tuples = list(zip(body_rot_ids,leg_rot_ids))\n",
    "\n",
    "# rot_anchor_radius = joint_overlap_radius+radius_poisson\n",
    "rot_anchor_radius = 20\n",
    "print(f\"rot_anchor_radius={rot_anchor_radius}\")\n",
    "\n",
    "# anchor points for each of the rotational joint\n",
    "rot_anchors = [ApplyTransform([[0,0,-rot_anchor_radius],\n",
    "                               [0,0,rot_anchor_radius]],t) \n",
    "               for t in leg_axes_transform]\n",
    "# print(rot_anchors)\n",
    "\n",
    "# create pointcloud for anchors\n",
    "pcd_anchors = o3d.geometry.PointCloud()\n",
    "pcd_anchors.points = o3d.utility.Vector3dVector(np.vstack(rot_anchors))\n",
    "pcd_anchors.colors = o3d.utility.Vector3dVector(np.tile((1.,0,0), (len(pcd_anchors.points), 1)))"
   ]
  },
  {
   "cell_type": "code",
   "execution_count": 28,
   "metadata": {
    "ExecuteTime": {
     "end_time": "2020-06-14T03:56:46.152017Z",
     "start_time": "2020-06-14T03:56:46.147032Z"
    }
   },
   "outputs": [
    {
     "data": {
      "text/plain": [
       "array([[0, 1],\n",
       "       [0, 2],\n",
       "       [0, 3],\n",
       "       [0, 4]])"
      ]
     },
     "execution_count": 28,
     "metadata": {},
     "output_type": "execute_result"
    }
   ],
   "source": [
    "id_joint_components"
   ]
  },
  {
   "cell_type": "code",
   "execution_count": 29,
   "metadata": {
    "ExecuteTime": {
     "end_time": "2020-06-14T03:56:46.988598Z",
     "start_time": "2020-06-14T03:56:46.976884Z"
    }
   },
   "outputs": [],
   "source": [
    "def GetCoordinateOXYZ(transform):\n",
    "    coordinate_radius = 16\n",
    "    o = transform[:3,-1] # origin\n",
    "    x = o + coordinate_radius * transform[:3,0]\n",
    "    y = o + coordinate_radius * transform[:3,1]\n",
    "    z = o + coordinate_radius * transform[:3,2]\n",
    "    oxyz = np.vstack([o,x,y,z])\n",
    "    return oxyz\n",
    "\n",
    "class Coord:# coordinate\n",
    "    def __init__(s, body_id, transform):\n",
    "        \"\"\"\n",
    "        body_id: body index,e.g. mainbody=0,leg0=1,leg1=2,leg2=3,leg3=4\n",
    "        transform: 4x4 numpy transform matrix\n",
    "        \"\"\"\n",
    "        s.bodyId = body_id\n",
    "        s.transform = transform\n",
    "        s.oxyz = GetCoordinateOXYZ(transform)\n",
    "        # index offset for the coordinate\n",
    "        s.id_start = id_xyz_parts_edges[body_id]\n",
    "\n",
    "\n",
    "coord_list = [\n",
    "    Coord(0, transform_all[0]),# body axis\n",
    "    Coord(id_joint_components[0,0],joint_transforms[0]), # joint0-body axis\n",
    "    Coord(id_joint_components[0,1],joint_transforms[0]), # joint0-leg0 axis\n",
    "    Coord(id_joint_components[1,0],joint_transforms[1]), # joint1-body axis\n",
    "    Coord(id_joint_components[1,1],joint_transforms[1]), # joint1-leg1 axis\n",
    "    Coord(id_joint_components[2,0],joint_transforms[2]), # joint2-body axis\n",
    "    Coord(id_joint_components[2,1],joint_transforms[2]), # joint2-leg2 axis\n",
    "    Coord(id_joint_components[3,0],joint_transforms[3]), # joint3-body axis\n",
    "    Coord(id_joint_components[3,1],joint_transforms[3])  # joint3-leg3 axis\n",
    "]\n",
    "\n",
    "# oxyzs: list of oxyz from coord_list\n",
    "oxyzs = [c.oxyz for c in coord_list]\n",
    "\n",
    "# pcd of oxyzs\n",
    "pcd_oxyzs = o3d.geometry.PointCloud()\n",
    "pcd_oxyzs.points = o3d.utility.Vector3dVector(np.vstack(oxyzs))\n",
    "pcd_oxyzs.colors = o3d.utility.Vector3dVector(np.tile((1.,0,0), (len(pcd_oxyzs.points), 1)))\n",
    "# o3d.visualization.draw_geometries([pcd_oxyzs])"
   ]
  },
  {
   "cell_type": "code",
   "execution_count": 30,
   "metadata": {
    "ExecuteTime": {
     "end_time": "2020-06-14T03:56:47.766015Z",
     "start_time": "2020-06-14T03:56:47.756022Z"
    }
   },
   "outputs": [
    {
     "name": "stdout",
     "output_type": "stream",
     "text": [
      "points_counts=[2804, 544, 544, 544, 544, 2, 2, 2, 2, 4, 4, 4, 4, 4, 4, 4, 4, 4]\n",
      "id_xyzs_edges=[   0 2804 3348 3892 4436 4980 4982 4984 4986 4988 4992 4996 5000 5004\n",
      " 5008 5012 5016 5020 5024]\n"
     ]
    },
    {
     "data": {
      "text/plain": [
       "[(0, 'body'),\n",
       " (2804, 'leg0'),\n",
       " (3348, 'leg1'),\n",
       " (3892, 'leg2'),\n",
       " (4436, 'leg3'),\n",
       " (4980, 'anchor0'),\n",
       " (4982, 'anchor1'),\n",
       " (4984, 'anchor2'),\n",
       " (4986, 'anchor3'),\n",
       " (4988, 'oxyz_body'),\n",
       " (4992, 'oxyz_joint0_body'),\n",
       " (4996, 'oxyz_joint0_leg0'),\n",
       " (5000, 'oxyz_joint1_body'),\n",
       " (5004, 'oxyz_joint1_leg1'),\n",
       " (5008, 'oxyz_joint2_body'),\n",
       " (5012, 'oxyz_joint2_leg2'),\n",
       " (5016, 'oxyz_joint3_body'),\n",
       " (5020, 'oxyz_joint3_leg3'),\n",
       " (5024, 'the end')]"
      ]
     },
     "execution_count": 30,
     "metadata": {},
     "output_type": "execute_result"
    }
   ],
   "source": [
    "# get all colors\n",
    "pcds = [pcd_body]+legs+[pcd_anchors]+[pcd_oxyzs]\n",
    "colors_all = np.vstack(list(map(np.asarray,[pcd.colors for pcd in pcds])))\n",
    "\n",
    "# the acutal points list, arrange as\n",
    "# [xyz_0,xyz_1,...,xyz_n,]+ [xyz_anchor_0,...,xyz_anchor_m] + [oxyz_0,oxyz_1,..]\n",
    "xyzs = xyz_parts + rot_anchors + oxyzs\n",
    "\n",
    "xyz_all = np.vstack(xyzs)\n",
    "\n",
    "# the count of points in each component of xyzs\n",
    "points_counts = [len(xyz) for xyz in xyzs]\n",
    "print(f\"points_counts={points_counts}\")\n",
    "\n",
    "\n",
    "# the edges of the points start and end index for each part of the component\n",
    "# e.g. the idex of xyzs[k] start at id_xyzs_edges[k], and ends at id_xyzs_edges[k+1]\n",
    "# the rot_anchors [j] start at id_xyzs_edges[n_parts+k], and ends at id_xyzs_edges[n_parts+k+1]\n",
    "id_xyzs_edges = np.cumsum([0]+[len(xyz) for xyz in xyzs])\n",
    "print(f\"id_xyzs_edges={id_xyzs_edges}\")\n",
    "list(zip(id_xyzs_edges,\"body,leg0,leg1,leg2,leg3,anchor0,anchor1,anchor2,anchor3,oxyz_body,\\\n",
    "oxyz_joint0_body,oxyz_joint0_leg0,oxyz_joint1_body,oxyz_joint1_leg1,\\\n",
    "oxyz_joint2_body,oxyz_joint2_leg2,oxyz_joint3_body,oxyz_joint3_leg3,\\\n",
    "the end\".split(\",\")))"
   ]
  },
  {
   "cell_type": "code",
   "execution_count": 31,
   "metadata": {
    "ExecuteTime": {
     "end_time": "2020-06-14T03:56:48.153112Z",
     "start_time": "2020-06-14T03:56:48.150110Z"
    }
   },
   "outputs": [
    {
     "name": "stdout",
     "output_type": "stream",
     "text": [
      "id_xyzs_anchor_start=4980\n",
      "id_xyzs_oxyz_start=4988\n",
      "id_xyzs_joint_oxyz_start=4992\n"
     ]
    }
   ],
   "source": [
    "id_xyzs_anchor_start = id_xyzs_edges[n_parts]\n",
    "print(f\"id_xyzs_anchor_start={id_xyzs_anchor_start}\")\n",
    "\n",
    "id_xyzs_oxyz_start = id_xyzs_edges[n_parts+n_joints]\n",
    "print(f\"id_xyzs_oxyz_start={id_xyzs_oxyz_start}\")\n",
    "\n",
    "id_xyzs_joint_oxyz_start = id_xyzs_edges[n_parts+n_joints+1]\n",
    "print(f\"id_xyzs_joint_oxyz_start={id_xyzs_joint_oxyz_start}\")"
   ]
  },
  {
   "cell_type": "code",
   "execution_count": 32,
   "metadata": {
    "ExecuteTime": {
     "end_time": "2020-06-14T03:56:49.097223Z",
     "start_time": "2020-06-14T03:56:49.090220Z"
    }
   },
   "outputs": [],
   "source": [
    "def GetNeighborsOXYZ(pcd,oxyz):\n",
    "    pcd_tree = o3d.geometry.KDTreeFlann(pcd)\n",
    "    oxyz_neighbors = [np.asarray(pcd_tree.search_knn_vector_3d(\n",
    "        point,knn=27)[1]) for point in oxyz]\n",
    "    return oxyz_neighbors\n",
    "# oxyzs_neighbors = [np.stack(GetNeighborsOXYZ(pcd,oxyz))+id_start \n",
    "#                    for pcd,oxyz,id_start in zip(pcd_parts,oxyzs,id_xyzs_edges)]\n",
    "\n",
    "oxyzs_neighbors = [np.stack(GetNeighborsOXYZ(pcd_parts[c.bodyId],c.oxyz))+c.id_start \n",
    "                   for c in coord_list]"
   ]
  },
  {
   "cell_type": "code",
   "execution_count": 33,
   "metadata": {
    "ExecuteTime": {
     "end_time": "2020-06-14T03:56:49.704495Z",
     "start_time": "2020-06-14T03:56:49.693501Z"
    }
   },
   "outputs": [
    {
     "name": "stdout",
     "output_type": "stream",
     "text": [
      "[4988, 4989, 4990, 4991]\n",
      "[4992, 4993, 4994, 4995]\n",
      "[4996, 4997, 4998, 4999]\n",
      "[5000, 5001, 5002, 5003]\n",
      "[5004, 5005, 5006, 5007]\n",
      "[5008, 5009, 5010, 5011]\n",
      "[5012, 5013, 5014, 5015]\n",
      "[5016, 5017, 5018, 5019]\n",
      "[5020, 5021, 5022, 5023]\n"
     ]
    }
   ],
   "source": [
    "def GetEdges(point_id,neighbor):\n",
    "    \"\"\"\n",
    "    Create a edges given the index of a point and the indices of its neighbor\n",
    "    \"\"\"\n",
    "    edges = np.empty((neighbor.size,2),dtype=np.int32)\n",
    "    edges[:,0]=point_id\n",
    "    edges[:,1]=neighbor\n",
    "    return edges\n",
    "\n",
    "\n",
    "# create oxyz_springs\n",
    "oxyz_self_springs = []\n",
    "oxyz_anchor_springs = []\n",
    "for oxyz,oxyz_neighbor,oxyz_id_start in zip(oxyzs,oxyzs_neighbors,id_xyzs_edges[n_parts+n_joints:]):\n",
    "    oxyz_id = [oxyz_id_start+k for k in range(4)]\n",
    "    print(oxyz_id)\n",
    "    oxyz_anchor_springs.append(\n",
    "        np.vstack([GetEdges(point_id,neighbor) for point_id,neighbor in zip(oxyz_id,oxyz_neighbor)]))\n",
    "    oxyz_self_springs.append(np.array([\n",
    "        [oxyz_id[0],oxyz_id[1]],#ox\n",
    "        [oxyz_id[0],oxyz_id[2]],#oy\n",
    "        [oxyz_id[0],oxyz_id[3]],#oz\n",
    "        [oxyz_id[1],oxyz_id[2]],#xy\n",
    "        [oxyz_id[1],oxyz_id[3]],#xz\n",
    "        [oxyz_id[2],oxyz_id[3]],#yz\n",
    "    ]))\n",
    "oxyz_self_springs = np.vstack(oxyz_self_springs)\n",
    "oxyz_anchor_springs = np.vstack(oxyz_anchor_springs)"
   ]
  },
  {
   "cell_type": "code",
   "execution_count": 233,
   "metadata": {
    "ExecuteTime": {
     "end_time": "2020-03-29T04:21:47.129235Z",
     "start_time": "2020-03-29T04:21:47.121231Z"
    },
    "deletable": false,
    "editable": false,
    "run_control": {
     "frozen": true
    }
   },
   "outputs": [],
   "source": [
    "# # ids of the leg at rotational joint\n",
    "# # assume body index start at id_xyzs_edges[0]\n",
    "# # leg[k] index start at id_xyzs_edges[k+1], ends at id_xyzs_edges[k+2]\n",
    "# joints = []\n",
    "# for k,(body_rot_id,leg_rot_id) in enumerate(joint_tuples):\n",
    "#     body_rot_id_actual = np.ravel(np.where(body_rot_id))+id_xyzs_edges[0]\n",
    "#     leg_rot_id_actual = np.ravel(np.where(leg_rot_id))+id_xyzs_edges[1+k]\n",
    "#     anchors_id = np.arange(id_xyzs_edges[len(xyz_parts)+k],id_xyzs_edges[len(xyz_parts)+k+1])\n",
    "#     # (left_ids,right_ids,anchors_id)\n",
    "#     joints.append([body_rot_id_actual,leg_rot_id_actual,anchors_id])\n",
    "\n",
    "# joints_list = [[m.tolist() for m in joint] for joint in joints]"
   ]
  },
  {
   "cell_type": "code",
   "execution_count": 34,
   "metadata": {
    "ExecuteTime": {
     "end_time": "2020-06-14T03:56:51.269927Z",
     "start_time": "2020-06-14T03:56:51.262926Z"
    }
   },
   "outputs": [],
   "source": [
    "def CreateJointLines(id_0, id_1, id_joint):\n",
    "    \"\"\"\n",
    "    return the joint lines(rotation springs) defined by a joint \n",
    "    input:\n",
    "        id_0: m numpy indices of the first points\n",
    "        id_1: n numpy indices of the second points\n",
    "        id_joint: 2 indices of the end points of a joint\n",
    "    \"\"\"\n",
    "    return np.vstack([np.column_stack([id_0, [id_joint[0]]*len(id_0)]), # left  (id_0) - axis_0\n",
    "            np.column_stack([id_1, [id_joint[0]]*len(id_1)]), # left  (id_0) - axis_1\n",
    "            np.column_stack([id_0, [id_joint[1]]*len(id_0)]), # right (id_1) - axis_0\n",
    "            np.column_stack([id_1, [id_joint[1]]*len(id_1)])]) # right (id_1) - axis_1\n",
    "\n",
    "def CreateJointFrictionSpring(id_0, id_1,num_spring_per_mass=15):\n",
    "    \"\"\"\n",
    "    return the friction springs defined by a joint \n",
    "    input:\n",
    "        id_0: m numpy indices of the first points\n",
    "        id_1: n numpy indices of the second points\n",
    "    \"\"\"\n",
    "    max_size = int((len(id_0)+len(id_1))*num_spring_per_mass/2)\n",
    "    frictionSpring = np.vstack([np.column_stack([[id_0_k]*len(id_1),id_1]) for id_0_k in id_0])\n",
    "    if frictionSpring.shape[0]>max_size:\n",
    "        frictionSpring = frictionSpring[np.random.choice(frictionSpring.shape[0], max_size, replace=False)]\n",
    "    return frictionSpring"
   ]
  },
  {
   "cell_type": "code",
   "execution_count": 35,
   "metadata": {
    "ExecuteTime": {
     "end_time": "2020-06-14T03:56:52.116719Z",
     "start_time": "2020-06-14T03:56:52.108716Z"
    }
   },
   "outputs": [],
   "source": [
    "class Joint:\n",
    "    def __init__(s, left, right, anchor):\n",
    "        s.left = np.copy(left)\n",
    "        s.right = right\n",
    "        s.anchor = anchor\n",
    "        s.rotSpring = CreateJointLines(s.left, s.right, s.anchor) # rotation spring\n",
    "        s.friSpring = CreateJointFrictionSpring(s.left, s.right) # friction spring\n",
    "        s.leftCoord = None\n",
    "        s.righCoord = None\n",
    "\n",
    "    def __repr__(s):\n",
    "        s_rotationSpring = np.array2string(s.rotSpring,threshold=10,edgeitems=2).replace(\"\\n\",\",\")\n",
    "        s_frictionSpring = np.array2string(s.friSpring,threshold=10,edgeitems=2).replace(\"\\n\",\",\")\n",
    "\n",
    "        return f\"{{left({len(s.left)}):  {np.array2string(s.left,threshold=10,edgeitems=5)}\\n\"+\\\n",
    "               f\" right({len(s.right)}): {np.array2string(s.right,threshold=10,edgeitems=5)}\\n\"+\\\n",
    "                f\" anchor(2): {s.anchor}\\n\"+\\\n",
    "               f\" leftCoord: {s.leftCoord}\\n\"+\\\n",
    "                f\" righCoord: {s.righCoord}\\n\"+\\\n",
    "            f\" rotSpring({len(s.rotSpring)}):{s_rotationSpring}\\n\"+\\\n",
    "             f\" friSpring({len(s.friSpring)}):{s_frictionSpring}}}\"\n",
    "    def tolist(s):\n",
    "        return [s.left.tolist(),s.right.tolist(),s.anchor.tolist(),int(s.leftCoord),int(s.righCoord)]"
   ]
  },
  {
   "cell_type": "code",
   "execution_count": 36,
   "metadata": {
    "ExecuteTime": {
     "end_time": "2020-06-14T03:56:52.524885Z",
     "start_time": "2020-06-14T03:56:52.504806Z"
    }
   },
   "outputs": [
    {
     "data": {
      "text/plain": [
       "[{left(113):  [   3   26   37   38   69 ... 2624 2645 2684 2753 2763]\n",
       "  right(103): [2814 2816 2820 2825 2833 ... 3323 3331 3333 3345 3347]\n",
       "  anchor(2): [4980 4981]\n",
       "  leftCoord: 4992\n",
       "  righCoord: 4996\n",
       "  rotSpring(432):[[   3 4980], [  26 4980], ..., [3345 4981], [3347 4981]]\n",
       "  friSpring(1620):[[2283 3061], [ 291 3258], ..., [ 112 2907], [2174 2892]]},\n",
       " {left(113):  [  36   46   97  100  130 ... 2700 2713 2728 2767 2776]\n",
       "  right(103): [3358 3360 3364 3369 3377 ... 3867 3875 3877 3889 3891]\n",
       "  anchor(2): [4982 4983]\n",
       "  leftCoord: 5000\n",
       "  righCoord: 5004\n",
       "  rotSpring(432):[[  36 4982], [  46 4982], ..., [3889 4983], [3891 4983]]\n",
       "  friSpring(1620):[[ 186 3449], [1948 3693], ..., [ 221 3708], [1536 3751]]},\n",
       " {left(114):  [  18   20   45   62   83 ... 2702 2747 2751 2784 2785]\n",
       "  right(103): [3902 3904 3908 3913 3921 ... 4411 4419 4421 4433 4435]\n",
       "  anchor(2): [4984 4985]\n",
       "  leftCoord: 5008\n",
       "  righCoord: 5012\n",
       "  rotSpring(434):[[  18 4984], [  20 4984], ..., [4433 4985], [4435 4985]]\n",
       "  friSpring(1627):[[2702 4358], [ 369 4394], ..., [1020 4294], [1174 4246]]},\n",
       " {left(113):  [   1   58   71   78  109 ... 2584 2586 2609 2631 2797]\n",
       "  right(103): [4446 4448 4452 4457 4465 ... 4955 4963 4965 4977 4979]\n",
       "  anchor(2): [4986 4987]\n",
       "  leftCoord: 5016\n",
       "  righCoord: 5020\n",
       "  rotSpring(432):[[   1 4986], [  58 4986], ..., [4977 4987], [4979 4987]]\n",
       "  friSpring(1620):[[2210 4824], [2498 4539], ..., [ 565 4540], [1904 4880]]}]"
      ]
     },
     "execution_count": 36,
     "metadata": {},
     "output_type": "execute_result"
    }
   ],
   "source": [
    "# ids of the leg at rotational joint\n",
    "# assume body index start at id_xyzs_edges[0]\n",
    "# leg[k] index start at id_xyzs_edges[k+1], ends at id_xyzs_edges[k+2]\n",
    "joints = []\n",
    "for k,(body_rot_id,leg_rot_id) in enumerate(joint_tuples):\n",
    "    body_rot_id_actual = np.ravel(np.where(body_rot_id))+id_xyzs_edges[0]\n",
    "    leg_rot_id_actual = np.ravel(np.where(leg_rot_id))+id_xyzs_edges[1+k]\n",
    "    anchors_id = np.arange(id_xyzs_edges[len(xyz_parts)+k],id_xyzs_edges[len(xyz_parts)+k+1])\n",
    "    # (left_ids,right_ids,anchors_id)\n",
    "    \n",
    "    joints.append(Joint(body_rot_id_actual,leg_rot_id_actual,anchors_id))\n",
    "\n",
    "for k in range(n_joints):\n",
    "    joints[k].leftCoord = id_xyzs_joint_oxyz_start+8*k\n",
    "    joints[k].righCoord = id_xyzs_joint_oxyz_start+8*k+4\n",
    "    \n",
    "joints_list = [joint.tolist() for joint in joints]\n",
    "joints"
   ]
  },
  {
   "cell_type": "code",
   "execution_count": 37,
   "metadata": {
    "ExecuteTime": {
     "end_time": "2020-06-14T03:56:53.641167Z",
     "start_time": "2020-06-14T03:56:53.631180Z"
    }
   },
   "outputs": [
    {
     "name": "stdout",
     "output_type": "stream",
     "text": [
      "id_joint_keypoints:\n",
      "[[4980 4981]\n",
      " [4982 4983]\n",
      " [4984 4985]\n",
      " [4986 4987]]\n",
      "id_lines_edges:[    0 32192 38315 44438 50561 56684 56688 58418 64905 64959 65931]\n"
     ]
    },
    {
     "data": {
      "text/plain": [
       "[(0, 'body'),\n",
       " (32192, 'leg0'),\n",
       " (38315, 'leg1'),\n",
       " (44438, 'leg2'),\n",
       " (50561, 'leg3'),\n",
       " (56684, 'anchors'),\n",
       " (56688, 'rotsprings'),\n",
       " (58418, 'fricsprings'),\n",
       " (64905, 'oxyz_self_springs'),\n",
       " (64959, 'oxyz_anchor_springs'),\n",
       " (65931, 'the end')]"
      ]
     },
     "execution_count": 37,
     "metadata": {},
     "output_type": "execute_result"
    }
   ],
   "source": [
    "# array of (the index of the axis points of a joint)\n",
    "id_joint_keypoints = np.vstack([joint.anchor for joint in joints])\n",
    "print(f\"id_joint_keypoints:\\n{id_joint_keypoints}\")\n",
    "# [body_lines,leg_lines_0,leg_lines_1,leg_lines_2,leg_lines_3]\n",
    "lines_component_list = [lines + id_start for lines,\n",
    "              id_start in zip(lines_parts, id_xyzs_edges)]\n",
    "\n",
    "lines_joint_rotation = np.vstack([joint.rotSpring for joint in joints])\n",
    "\n",
    "lines_joint_friction = np.vstack([joint.friSpring for joint in joints])\n",
    "# list of all the edges of the assembly\n",
    "\n",
    "lines_all_list = lines_component_list+[id_joint_keypoints,lines_joint_rotation,lines_joint_friction,\n",
    "                                       oxyz_self_springs,oxyz_anchor_springs]\n",
    "lines_all = np.vstack(lines_all_list)\n",
    "\n",
    "id_lines_edges = np.cumsum([0]+[len(lines) for lines in lines_all_list])\n",
    "print(f\"id_lines_edges:{id_lines_edges}\")\n",
    "id_lines_edges[n_parts]\n",
    "\n",
    "list(zip(id_lines_edges,\"body,leg0,leg1,leg2,leg3,anchors,rotsprings,\\\n",
    "fricsprings,oxyz_self_springs,oxyz_anchor_springs,the end\".split(',')))"
   ]
  },
  {
   "cell_type": "code",
   "execution_count": 38,
   "metadata": {
    "ExecuteTime": {
     "end_time": "2020-06-14T03:56:55.451949Z",
     "start_time": "2020-06-14T03:56:55.448957Z"
    }
   },
   "outputs": [],
   "source": [
    "# # np.asarray(pcd_body.colors)[np.sum(body_rot_ids,axis = 0,dtype=bool)]=(0,255,0)\n",
    "# for k in range(4):\n",
    "#     np.asarray(legs[k].colors)[leg_rot_id] = (0,255,0)\n",
    "#     np.asarray(pcd_body.colors)[body_rot_ids[k]] = (0,0,255)"
   ]
  },
  {
   "cell_type": "code",
   "execution_count": 39,
   "metadata": {
    "ExecuteTime": {
     "end_time": "2020-06-14T03:56:56.567791Z",
     "start_time": "2020-06-14T03:56:56.418713Z"
    }
   },
   "outputs": [],
   "source": [
    "pcd_assembly = o3d.geometry.PointCloud()\n",
    "pcd_assembly.points = o3d.utility.Vector3dVector(xyz_all)\n",
    "pcd_assembly.colors = o3d.utility.Vector3dVector(colors_all)\n",
    "\n",
    "lsd_assembly = o3d.geometry.LineSet()\n",
    "lsd_assembly.points = o3d.utility.Vector3dVector(xyz_all)\n",
    "# lsd_assembly.lines = o3d.utility.Vector2iVector(lines_all[id_lines_edges[n_parts]:])\n",
    "lsd_assembly.lines = o3d.utility.Vector2iVector(lines_all)\n",
    "# lsd_assembly.lines = o3d.utility.Vector2iVector(oxyz_anchor_springs)\n",
    "# lsd_assembly.lines = o3d.utility.Vector2iVector(np.vstack((oxyz_anchor_springs,oxyz_self_springs)))\n",
    "\n",
    "# lsd_assembly.lines = o3d.utility.Vector2iVector(oxyz_self_springs)\n",
    "\n",
    "lsd_assembly.colors = o3d.utility.Vector3dVector((colors_all[lines_all[:,0]]+colors_all[lines_all[:,1]])/2)\n",
    "\n",
    "# KDTree for nearest neighbor search\n",
    "pcd_assembly_tree = o3d.geometry.KDTreeFlann(pcd_assembly)\n",
    "\n",
    "# o3d.visualization.draw_geometries([pcd_leg_d,coord_frame])\n",
    "\n",
    "neighbors = [np.asarray(pcd_assembly_tree.search_radius_vector_3d(point, radius_knn)[1])\n",
    "             for point in xyz_all]\n",
    "# neighbors = [np.asarray(pcd_assembly_tree.search_hybrid_vector_3d(point, radius_knn,max_nn = 27))[1] for point in xyz_all]"
   ]
  },
  {
   "cell_type": "code",
   "execution_count": 40,
   "metadata": {
    "ExecuteTime": {
     "end_time": "2020-06-14T03:56:59.410577Z",
     "start_time": "2020-06-14T03:56:58.421771Z"
    }
   },
   "outputs": [
    {
     "name": "stdout",
     "output_type": "stream",
     "text": [
      "#springs =65931\n",
      "#mass =5024\n"
     ]
    },
    {
     "data": {
      "image/png": "[encoded data removed]",
      "text/plain": [
       "<Figure size 1440x144 with 1 Axes>"
      ]
     },
     "metadata": {
      "image/png": {
       "height": 149,
       "width": 1169
      }
     },
     "output_type": "display_data"
    },
    {
     "name": "stdout",
     "output_type": "stream",
     "text": [
      "mean neighbors =43.29179936305732\n"
     ]
    },
    {
     "data": {
      "image/png": "[encoded data removed]",
      "text/plain": [
       "<Figure size 1440x144 with 1 Axes>"
      ]
     },
     "metadata": {
      "image/png": {
       "height": 149,
       "width": 1164
      }
     },
     "output_type": "display_data"
    },
    {
     "data": {
      "image/png": "[encoded data removed]",
      "text/plain": [
       "<Figure size 1440x144 with 1 Axes>"
      ]
     },
     "metadata": {
      "image/png": {
       "height": 150,
       "width": 1164
      }
     },
     "output_type": "display_data"
    },
    {
     "name": "stdout",
     "output_type": "stream",
     "text": [
      "%surface points = 43%\n"
     ]
    }
   ],
   "source": [
    "print(\"#springs =%i\"%(len(lines_all)))\n",
    "print(\"#mass =%i\"%(len(xyz_all)))\n",
    "\n",
    "# check the distance of the springs\n",
    "fig, ax = plt.subplots(figsize=(20,2))\n",
    "hist,bin_edges,_ =ax.hist(np.linalg.norm(xyz_all[lines_all[:,0]] - xyz_all[lines_all[:,1]],axis=1),bins=200)\n",
    "ax.text(bin_edges[0],0,f\"{bin_edges[0]:.1f}\",ha=\"center\",va=\"top\",fontsize=\"x-large\",color='r')\n",
    "ax.text(bin_edges[-1],0,f\"{bin_edges[-1]:.1f}\",ha=\"center\",va=\"top\",fontsize=\"x-large\",color='r')\n",
    "ax.set_xlabel(\"spring length\")\n",
    "ax.set_ylabel(\"count\")\n",
    "plt.show()\n",
    "\n",
    "neighbor_counts = np.array([len(neighbor) for neighbor in neighbors])\n",
    "print(f\"mean neighbors ={np.mean(neighbor_counts)}\")\n",
    "fig, ax = plt.subplots(figsize=(20,2))\n",
    "hist,bin_edges,patches =ax.hist(neighbor_counts,bins=28,range=(0,28))\n",
    "ax.set_xlabel(\"#neighbors (including self)\")\n",
    "ax.set_ylabel(\"count\")\n",
    "# ax.text(surface_neighbor_threshold,0,f\"{surface_neighbor_threshold}\",ha=\"center\",va=\"top\",fontsize=\"x-large\",color='r')\n",
    "plt.show()\n",
    "\n",
    "\n",
    "\n",
    "# average divergence of the neighbors from a point\n",
    "average_divergence = np.linalg.norm([xyz_all[n].mean(axis=0)-xyz_all[n[0]] for n in neighbors],axis=1)\n",
    "fig, ax = plt.subplots(figsize=(20,2))\n",
    "hist,bin_edges,patches =ax.hist(average_divergence,bins=100)\n",
    "ax.set_xlabel(\"mean divergence of neighbors (including self)\")\n",
    "ax.set_ylabel(\"count\")\n",
    "plt.show()\n",
    "\n",
    "# is_suface is boolean array to specify wether the point is near the surface, useful for applying contraints\n",
    "surface_neighbor_threshold = int(max_nn*0.9)\n",
    "is_suface = np.logical_or(average_divergence>0.6*radius_poisson,neighbor_counts<surface_neighbor_threshold)\n",
    "is_suface[id_xyzs_edges[n_parts]:]=False # only body parts are considered\n",
    "print(f\"%surface points = {is_suface.sum()/len(is_suface)*100:.0f}%\")"
   ]
  },
  {
   "cell_type": "code",
   "execution_count": 41,
   "metadata": {
    "ExecuteTime": {
     "end_time": "2020-06-14T03:57:00.932942Z",
     "start_time": "2020-06-14T03:57:00.927941Z"
    }
   },
   "outputs": [
    {
     "data": {
      "text/plain": [
       "1"
      ]
     },
     "execution_count": 41,
     "metadata": {},
     "output_type": "execute_result"
    }
   ],
   "source": [
    "neighbor_counts.min()"
   ]
  },
  {
   "cell_type": "code",
   "execution_count": 42,
   "metadata": {
    "ExecuteTime": {
     "end_time": "2020-06-14T03:57:01.362040Z",
     "start_time": "2020-06-14T03:57:01.348038Z"
    }
   },
   "outputs": [],
   "source": [
    "colors_all_check = np.copy(colors_all)\n",
    "colors_all_check[is_suface]=(1,0.1,0.1)\n",
    "colors_all_check[~is_suface]=(0,0,0.1)\n",
    "\n",
    "pcd_assembly.colors = o3d.utility.Vector3dVector(colors_all_check)\n",
    "\n",
    "lsd_assembly.colors = o3d.utility.Vector3dVector((colors_all_check[lines_all[:,0]]+colors_all_check[lines_all[:,1]])/2)"
   ]
  },
  {
   "cell_type": "code",
   "execution_count": 358,
   "metadata": {
    "ExecuteTime": {
     "end_time": "2020-06-14T03:47:26.672324Z",
     "start_time": "2020-06-14T03:47:24.425576Z"
    }
   },
   "outputs": [],
   "source": [
    "# o3d.visualization.draw_geometries([pcd_assembly,lsd_assembly,coord_frame]+axes)\n",
    "# o3d.visualization.draw_geometries([pcd_assembly,coord_frame]+axes)\n",
    "\n",
    "o3d.visualization.draw_geometries([pcd_assembly])\n",
    "\n",
    "# o3d.visualization.draw_geometries([pcd_assembly,lsd_assembly])\n",
    "\n",
    "# o3d.visualization.draw_geometries([pcd_assembly,coord_frame]+axes)"
   ]
  },
  {
   "cell_type": "markdown",
   "metadata": {},
   "source": [
    "# export assembly"
   ]
  },
  {
   "cell_type": "code",
   "execution_count": 359,
   "metadata": {
    "ExecuteTime": {
     "end_time": "2020-06-14T03:47:28.863950Z",
     "start_time": "2020-06-14T03:47:26.674309Z"
    }
   },
   "outputs": [],
   "source": [
    "xyz_all_trans = ApplyTransform(xyz_all, \n",
    "               np.array([[0,1,0],\n",
    "                         [0,0,1],\n",
    "                         [1,0,0]]).T)\n",
    "min_bound = xyz_all_trans.min(axis=0)\n",
    "\n",
    "# transoformed so that z is pointed up, scaled mm->m\n",
    "xyz_all_trans = (xyz_all_trans + np.array([0,0,0-min_bound[-1]]))/1000\n",
    "\n",
    "pcd_assembly = o3d.geometry.PointCloud()\n",
    "pcd_assembly.points = o3d.utility.Vector3dVector(xyz_all_trans)\n",
    "pcd_assembly.colors = o3d.utility.Vector3dVector(colors_all)\n",
    "coord_frame_mm = o3d.geometry.TriangleMesh.create_coordinate_frame(size=0.06, origin=[0, 0, 0])\n",
    "o3d.visualization.draw_geometries([pcd_assembly,coord_frame_mm])\n",
    "\n",
    "data = [\n",
    "    xyz_all_trans.tolist(),\n",
    "    lines_all.tolist(),\n",
    "    is_suface.tolist(),\n",
    "    id_xyzs_edges.tolist(),\n",
    "    id_lines_edges.tolist(),\n",
    "    colors_all.tolist(),\n",
    "    joints_list\n",
    "]"
   ]
  },
  {
   "cell_type": "code",
   "execution_count": 360,
   "metadata": {
    "ExecuteTime": {
     "end_time": "2020-06-14T03:47:28.868938Z",
     "start_time": "2020-06-14T03:47:28.864950Z"
    }
   },
   "outputs": [
    {
     "data": {
      "text/plain": [
       "(4171, 3)"
      ]
     },
     "execution_count": 360,
     "metadata": {},
     "output_type": "execute_result"
    }
   ],
   "source": [
    "xyz_all_trans.shape"
   ]
  },
  {
   "cell_type": "code",
   "execution_count": 361,
   "metadata": {
    "ExecuteTime": {
     "end_time": "2020-06-14T03:47:28.875940Z",
     "start_time": "2020-06-14T03:47:28.870952Z"
    }
   },
   "outputs": [
    {
     "name": "stdout",
     "output_type": "stream",
     "text": [
      "[-0.12549175 -0.13219319  0.        ]\n",
      "[0.19405678 0.13219319 0.0519996 ]\n"
     ]
    }
   ],
   "source": [
    "print(xyz_all_trans.min(axis=0))\n",
    "print(xyz_all_trans.max(axis=0))"
   ]
  },
  {
   "cell_type": "code",
   "execution_count": 362,
   "metadata": {
    "ExecuteTime": {
     "end_time": "2020-06-14T03:47:28.895956Z",
     "start_time": "2020-06-14T03:47:28.877940Z"
    }
   },
   "outputs": [],
   "source": [
    "# https://stackoverflow.com/questions/43442194/how-do-i-read-and-write-with-msgpack\n",
    "    \n",
    "# Write msgpack file\n",
    "with open('data.msgpack', 'wb') as outfile:\n",
    "    msgpack.pack(data, outfile)"
   ]
  },
  {
   "cell_type": "code",
   "execution_count": 72,
   "metadata": {
    "ExecuteTime": {
     "end_time": "2020-06-13T21:38:22.862512Z",
     "start_time": "2020-06-13T21:38:22.843498Z"
    }
   },
   "outputs": [],
   "source": [
    "# Read msgpack file\n",
    "with open('data.msgpack','rb') as data_file:\n",
    "    # data_loaded = json.load(data_file)\n",
    "    data_loaded = msgpack.unpack(data_file)"
   ]
  },
  {
   "cell_type": "code",
   "execution_count": 91,
   "metadata": {
    "ExecuteTime": {
     "end_time": "2020-06-03T08:10:26.937791Z",
     "start_time": "2020-06-03T08:10:26.932790Z"
    }
   },
   "outputs": [
    {
     "data": {
      "text/plain": [
       "68106"
      ]
     },
     "execution_count": 91,
     "metadata": {},
     "output_type": "execute_result"
    }
   ],
   "source": [
    "len(data_loaded[1])"
   ]
  },
  {
   "cell_type": "code",
   "execution_count": 45,
   "metadata": {
    "ExecuteTime": {
     "end_time": "2020-04-19T02:03:54.949432Z",
     "start_time": "2020-04-19T02:03:54.943421Z"
    }
   },
   "outputs": [],
   "source": [
    "# x = b'\\x01\\x02'\n",
    "\n",
    "# dt = np.dtype(np.uint16)\n",
    "# dt = dt.newbyteorder('>')\n",
    "# np.frombuffer(x,dtype=dt)"
   ]
  }
 ],
 "metadata": {
  "kernelspec": {
   "display_name": "Python 3",
   "language": "python",
   "name": "python3"
  },
  "language_info": {
   "codemirror_mode": {
    "name": "ipython",
    "version": 3
   },
   "file_extension": ".py",
   "mimetype": "text/x-python",
   "name": "python",
   "nbconvert_exporter": "python",
   "pygments_lexer": "ipython3",
   "version": "3.7.5"
  }
 },
 "nbformat": 4,
 "nbformat_minor": 2
}
