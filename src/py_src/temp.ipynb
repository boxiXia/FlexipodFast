{
 "cells": [
  {
   "cell_type": "code",
   "execution_count": null,
   "metadata": {
    "ExecuteTime": {
     "start_time": "2021-04-21T20:18:08.575Z"
    }
   },
   "outputs": [],
   "source": [
    "import msgpack\n",
    "import open3d as o3d\n",
    "import trimesh\n",
    "import point_cloud_utils as pcu # downsampling\n",
    "from IPython.display import display, Math\n",
    "import numpy as np\n",
    "import matplotlib.pyplot as plt\n",
    "import numba\n",
    "from joblib import Parallel, delayed # multiprocessing\n",
    "import multiprocessing\n",
    "import copy\n",
    "from scipy.ndimage.morphology import binary_dilation, binary_erosion\n",
    "from scipy.spatial.transform import Rotation\n",
    "\n",
    "plt.style.use('seaborn-whitegrid')\n",
    "%config InlineBackend.figure_format = 'retina'\n",
    "\n",
    "print(f\"open3d :{o3d.__version__}\")\n",
    "print(f\"trimesh:{trimesh.__version__}\")\n",
    "print(f\"numba  :{numba.__version__}\")\n",
    "###########################################################\n",
    "def NormalizeSignedDistance(signed_distance, zero_map_to=0.5):\n",
    "    \"\"\"\n",
    "    Normalize to 0-1\n",
    "    min-0 map to 0-0.5\n",
    "    0-max map to 0.5-1\n",
    "    \"\"\"\n",
    "    is_negative = signed_distance < 0\n",
    "\n",
    "    normalized_distance = np.zeros_like(signed_distance)\n",
    "    minimum = signed_distance.min()\n",
    "    maximum = signed_distance.max()\n",
    "    normalized_distance[is_negative] = (\n",
    "        signed_distance[is_negative] - minimum) / np.abs(minimum) * zero_map_to\n",
    "    normalized_distance[~is_negative] = zero_map_to + \\\n",
    "        signed_distance[~is_negative]/np.abs(maximum)*(1-zero_map_to)\n",
    "    return normalized_distance\n",
    "\n",
    "\n",
    "# https://matplotlib.org/tutorials/colors/colormaps.html\n",
    "cmap = plt.cm.get_cmap('hot')\n",
    "\n",
    "coord_frame = o3d.geometry.TriangleMesh.create_coordinate_frame(\n",
    "    size=60, origin=[0, 0, 0])\n",
    "\n",
    "\n",
    "def rotate_view(vis):\n",
    "    ctr = vis.get_view_control()\n",
    "    ctr.rotate(1.0, 0.0)\n",
    "    return False\n",
    "\n",
    "# @numba.jit([\"float64[:,:](float64[:,::1], float64,int64)\",\n",
    "#             \"float64[:,:](float64[:,:], float64,int64)\"],nopython=True)\n",
    "\n",
    "\n",
    "\n",
    "@numba.jit([\n",
    "    (numba.types.Array(numba.types.float64, 2, 'C', readonly=True),numba.types.float64,numba.types.int64),\n",
    "    (numba.types.Array(numba.types.float64, 2, 'C', readonly=False),numba.types.float64,numba.types.int64)],\n",
    "    nopython=True,nogil=True)\n",
    "def UniformRandomAroundPoints(points,radius,num_per_grid=50):\n",
    "    num_grid = points.shape[0]\n",
    "    xyz = np.empty((num_grid*num_per_grid,3),dtype=np.float64)\n",
    "#     for i,point in enumerate(points):\n",
    "    for i in range(num_grid):\n",
    "        point = points[i]\n",
    "        start = num_per_grid*i\n",
    "        end = start+num_per_grid\n",
    "        xyz[start:end,0] = np.random.uniform(point[0]-radius,point[0]+radius,num_per_grid)\n",
    "        xyz[start:end,1] = np.random.uniform(point[1]-radius,point[1]+radius,num_per_grid)\n",
    "        xyz[start:end,2] = np.random.uniform(point[2]-radius,point[2]+radius,num_per_grid)\n",
    "    return xyz\n",
    "\n",
    "# example, compile\n",
    "_ = UniformRandomAroundPoints(np.zeros((2,3)),1.0,num_per_grid=5) \n",
    "_ = UniformRandomAroundPoints(np.ascontiguousarray(np.zeros((2,3))),1.0,num_per_grid=5) \n",
    "########################################################################################\n",
    "########## geometry #####################################################################\n",
    "def RotateFromVec(vec, angle):\n",
    "    vec = np.asarray(vec, dtype=np.float64)\n",
    "    vec_norm = np.linalg.norm(vec)\n",
    "    if vec_norm != 1:\n",
    "        vec = vec/vec_norm\n",
    "    vec *= angle\n",
    "    h = np.eye(4)\n",
    "    h[:3, :3] = Rotation.from_rotvec(vec).as_matrix()\n",
    "    return h\n",
    "\n",
    "\n",
    "def Translate(vec, h=None):\n",
    "    if h is None:\n",
    "        h = np.eye(4)\n",
    "    h[:3, -1] += vec\n",
    "    return h\n",
    "\n",
    "def ApplyTransform(xyz, t):\n",
    "    \"\"\"\n",
    "    apply transform t to xyz, !!Note that t is transposed!!!\n",
    "    if transform.shape=(3,3): rotation\n",
    "    if transform.shape=(4,4): homogegenious transformation (rotation+translation)\n",
    "    \"\"\"\n",
    "    xyz = np.asarray(xyz)\n",
    "    if t.shape == (3,3): # rotation matrix\n",
    "        return np.dot(xyz, t.T)\n",
    "    elif t.shape ==(4,4): # homogeneous matrix\n",
    "        return np.dot(xyz, t[:-1, :-1].T)+t[:-1, -1]\n",
    "    else:\n",
    "        raise AssertionError(\"dimension error\")"
   ]
  },
  {
   "cell_type": "code",
   "execution_count": null,
   "metadata": {
    "ExecuteTime": {
     "start_time": "2021-04-21T20:18:08.578Z"
    }
   },
   "outputs": [],
   "source": [
    "########## discretization parameters ##############\n",
    "radius_poisson = float(10) # radius for the poisson sampling\n",
    "radius_knn = radius_poisson*np.sqrt(3)*1.4\n",
    "# max_nn = 28 # maximun number of neighbors for a mass point (including self)\n",
    "max_nn = int(24)\n",
    "inv_scale_grid = float(2.5/np.sqrt(3))\n",
    "# inv_scale_grid = 1\n",
    "radius_grid = radius_poisson/np.sqrt(3)/inv_scale_grid # radius for voxelizing before poisson sampling\n",
    "# radius_grid = radius_poisson/2.5\n",
    "\n",
    "num_per_grid = int(32/(inv_scale_grid**3))\n",
    "print(radius_knn)\n",
    "print(num_per_grid)\n",
    "print(radius_grid)"
   ]
  },
  {
   "cell_type": "code",
   "execution_count": null,
   "metadata": {
    "ExecuteTime": {
     "start_time": "2021-04-21T20:18:08.579Z"
    }
   },
   "outputs": [],
   "source": [
    "from numba import int32, float64,boolean    # import the types\n",
    "from numba.experimental import jitclass\n",
    "from numpy.linalg import norm\n",
    "from numpy import expand_dims as NewDim"
   ]
  },
  {
   "cell_type": "code",
   "execution_count": null,
   "metadata": {
    "ExecuteTime": {
     "start_time": "2021-04-21T20:18:08.581Z"
    }
   },
   "outputs": [],
   "source": [
    "spec = [\n",
    "    (\"d0\",float64),          # length of first segment\n",
    "    (\"d1\",float64),          # length of last segment\n",
    "    (\"r0\",float64),          # radius of rotation of mid segment\n",
    "    (\"r1\",float64),          # radius of the first segment\n",
    "    (\"r2\",float64),          # radius at the end of second segment\n",
    "    (\"r3\",float64),          # radius at the end of the last segment\n",
    "    (\"a0\",float64),          # mid section rotation angle\n",
    "    (\"p1\",float64[:]),       # the starting point of the last segment at centerline\n",
    "    (\"ux\",float64[:]),        # unit vector x\n",
    "    (\"uy\",float64[:]),        # unit vector y\n",
    "    (\"uz\",float64[:]),        # unit vector z\n",
    "    (\"pRot\",float64[:]),      # unit vector z\n",
    "]\n",
    "#############################################\n",
    "@jitclass(spec)\n",
    "class Leg:\n",
    "    def __init__(s, d0, d1, r0, r1, r2, r3, a0):\n",
    "        s.d0 = d0  # length of first segment\n",
    "        s.d1 = d1  # length of last segment\n",
    "        s.r0 = r0  # radius of rotation of mid segment\n",
    "        s.r1 = r1  # radius of the first segment\n",
    "        s.r2 = r2  # radius at the end of second segment\n",
    "        s.r3 = r3  # radius at the end of the last segment\n",
    "        s.a0 = a0  # mid section rotation angle\n",
    "\n",
    "        # the starting point of the last segment at centerline\n",
    "        s.p1 = np.array((r0*np.sin(a0), r0*(1-np.cos(a0)), 0.),dtype=np.float64)\n",
    "\n",
    "        # unit vector\n",
    "        s.ux = np.array((1., 0., 0.),dtype=np.float64)\n",
    "        s.uy = np.array((0., 1., 0.),dtype=np.float64)\n",
    "        s.uz = np.array((0., 0., 1.),dtype=np.float64)\n",
    "\n",
    "        # axis of rotation on the second segment\n",
    "        s.pRot = np.array([0, r0, 0],dtype=np.float64)\n",
    "\n",
    "#         s.angMidStart = -np.pi/2  # start angle of mid segment\n",
    "#         s.angMidEnd = -np.pi/2 + a0  # end angle of mid segment\n",
    "\n",
    "#         # centerline dirction (unit vector) of the last segment\n",
    "#         s.v1t = np.array((np.cos(a0), np.sin(a0), 0.))\n",
    "#         # normal of centerline dirction (unit vector) of the last segment\n",
    "#         s.v1n = np.array((-np.sin(a0), np.cos(a0), 0.))\n",
    "\n",
    "#         # vectorize the _CenterLineDirction function\n",
    "#         s.CenterLineDirction = np.vectorize(\n",
    "#             s._CenterLineDirction, signature='()->(n)', otypes=[float])\n",
    "        \n",
    "#         # inner cuts\n",
    "#         s.r_inner_cut_ratio = 0.5\n",
    "#         s.t_inner_cut_begin = 0.7\n",
    "        \n",
    "#         s.bounds = s.GetBounds()# s.bounds\n",
    "\n",
    "    def Dummy(s,arr):\n",
    "        return s.d0*arr"
   ]
  },
  {
   "cell_type": "code",
   "execution_count": null,
   "metadata": {
    "ExecuteTime": {
     "start_time": "2021-04-21T20:18:08.583Z"
    }
   },
   "outputs": [],
   "source": [
    "half_joint_overlap = radius_poisson * 3\n",
    "joint_overlap = half_joint_overlap*2\n",
    "print(f\"joint_overlap:{joint_overlap}\")\n",
    "leg_d0 = 0.05+2.2 # length of first segment, 2.2 is the thickness of the coupler\n",
    "leg_d1 = 120  # length of last segment\n",
    "leg_r0 = 38   # radius of rotation of mid segment\n",
    "# leg_d1 = 150  # length of last segment\n",
    "# leg_r0 = 55   # radius of rotation of mid segment\n",
    "\n",
    "leg_r1 = 32   # radius of the first segment\n",
    "leg_r2 = 32   # radius of the end at the second segment\n",
    "# leg_r3 = 16   # radius at the end of the last segment\n",
    "leg_r3 = 20   # radius at the end of the last segment\n",
    "\n",
    "leg_a0 = np.pi*90/180 # mid section rotation angle\n",
    " \n",
    "\n",
    "leg = Leg(d0=leg_d0+joint_overlap, \n",
    "          d1=leg_d1, \n",
    "          r0=leg_r0, \n",
    "          r1=leg_r1, \n",
    "          r2=leg_r2,  \n",
    "          r3=leg_r3, \n",
    "          a0=leg_a0)"
   ]
  },
  {
   "cell_type": "code",
   "execution_count": null,
   "metadata": {
    "ExecuteTime": {
     "start_time": "2021-04-21T20:18:08.584Z"
    }
   },
   "outputs": [],
   "source": [
    "p = np.array([\n",
    "    [-1,0,0],\n",
    "    [1,0,0],\n",
    "    [np.sqrt(3)/2,0.5,0],\n",
    "    [0.5,np.sqrt(3)/2,0]\n",
    "])\n",
    "p = np.cumsum(p,axis=0)\n",
    "p0 = p[:-1]\n",
    "p1 = p[1:]\n",
    "t = np.array([\n",
    "    [1,0,0],\n",
    "    [1,0,0],\n",
    "    [0.5,np.sqrt(3)/2,0],\n",
    "    [0.5,np.sqrt(3)/2,0],\n",
    "])\n",
    "t0 = t[:-1]\n",
    "t1 = t[1:]\n",
    "r = np.array((1,1,0.8,0.5))\n",
    "r0 = r[:-1]\n",
    "r1 = r[1:]\n",
    "\n",
    "n_plane = np.array([\n",
    "    [0.,0.,1.],\n",
    "    [0.,0.,1.],\n",
    "    [0.,0.,1.],\n",
    "],dtype=np.float64)"
   ]
  },
  {
   "cell_type": "code",
   "execution_count": null,
   "metadata": {
    "ExecuteTime": {
     "start_time": "2021-04-21T20:18:08.586Z"
    }
   },
   "outputs": [],
   "source": [
    "line_spec = [\n",
    "    (\"p0\",float64[:,:]),       # positon of start point (mx3)\n",
    "    (\"p1\",float64[:,:]),       # position of end point (mx3)\n",
    "    (\"t0\",float64[:,:]),       # direction of start point (mx3)\n",
    "    (\"t1\",float64[:,:]),       # direction of end point (mx3)\n",
    "    (\"r0\",float64[:]),         # outer radius at start point p0 (m)\n",
    "    (\"r1\",float64[:]),         # outer radius at end point p1 (m)\n",
    "    (\"n_plane\",float64[:,:]),  # plane normals of the lines (mx3)\n",
    "    (\"n0\",float64[:,:]),       # normals of the lines at p0 (mx3)\n",
    "    (\"n1\",float64[:,:]),       # normals of the lines at p1 (mx3)\n",
    "    (\"is_arc\",boolean[:]),     # bool indicating a secgment is an arc (m), true for arc, false for line\n",
    "    (\"num_lines\",int32),       # the total number of line segemnts\n",
    "    (\"arc_radius\",float64[:]), # radius of the arc segments (m), for lines it is inf\n",
    "    (\"pc\",float64[:,:]),       # rotation center of the arc segment (mx3), for lines it is undefined\n",
    "    (\"arc_angle\",float64[:]),  # rotation angle in !rad! of the arc segments (m), for lines it is 0\n",
    "    (\"p0p1\",float64[:,:]),       # vector of p1 - p0\n",
    "]\n",
    "@jitclass(line_spec)\n",
    "class Line:#unified line, straight line or an arc\n",
    "    def __init__(s,p0,p1,t0,t1,r0,r1,n_plane):\n",
    "        s.p0=p0 # positon of start point (mx3)\n",
    "        s.p1=p1 # position of end point (mx3)\n",
    "        s.t0=t0 # direction of start point (mx3)\n",
    "        s.t1=t1 # direction of end point (mx3)\n",
    "        s.r0=r0 # outer radius at start point p0 (m)\n",
    "        s.r1=r1 # outer radius at end point p1 (m)\n",
    "        \n",
    "        s.num_lines = s.p0.shape[0]\n",
    "        s.p0p1= s.p1-s.p0\n",
    "        #### check if a line segment is arc\n",
    "        s.is_arc = np.ones(s.num_lines,dtype=np.bool_)\n",
    "        for k in range(s.num_lines):\n",
    "            if np.all(s.t0[k]==s.t1[k]):\n",
    "                s.is_arc[k] = False\n",
    "        #### compute prpoerties for arcs \n",
    "#         s.n_plane =np.cross(t0,t1) # plane normals of the lines (mx3)\n",
    "        s.n_plane = n_plane #TODO, define n_plane for line\n",
    "        s.n0 = np.zeros_like(s.n_plane)# normals of the lines at p0 (mx3)\n",
    "        s.n1 = np.zeros_like(s.n_plane)# normals of the lines at p1 (mx3)\n",
    "        s.arc_radius = np.ones(s.num_lines)*np.inf # radius of the arc segments (mx3), for lines it is inf\n",
    "        s.pc = np.ones_like(s.n_plane)*np.inf # rotation center of the arc segment (mx3), undefined for lines\n",
    "        s.arc_angle = np.zeros(s.num_lines) # rotation angle of the arc segments (mx3), for lines it is 0\n",
    "        for k in range(s.num_lines):\n",
    "            s.n_plane[k] = s.n_plane[k]/norm(s.n_plane[k])\n",
    "            s.n0[k] = np.cross(s.n_plane[k],s.t0[k])\n",
    "            s.n1[k] = np.cross(s.n_plane[k],s.t1[k])\n",
    "            if s.is_arc[k]: # loop only at arc segement\n",
    "                s.arc_radius[k] = norm(s.p1[k]-s.p0[k])/norm(s.n1[k]-s.n0[k])\n",
    "                s.pc[k] = s.p0[k]+ s.arc_radius[k]*s.n0[k]\n",
    "                s.arc_angle[k] = np.arccos(s.t0[k,0]*s.t1[k,0]+ # equivilent to dot(s.t0[k],s.t1[k])\n",
    "                                         s.t0[k,1]*s.t1[k,1]+\n",
    "                                         s.t0[k,2]*s.t1[k,2])        \n",
    "    def CenterLine(s,tn):\n",
    "        \"\"\"\n",
    "        return centerline [mx3] and centerline normals [mx3] \n",
    "        given the nomalized phase 0<=tn<s.num_lines, tn:[m]\n",
    "        \"\"\"\n",
    "        c_l = np.zeros((tn.shape[0],3),dtype=np.float64) # center_line\n",
    "        c_n = np.zeros_like(c_l) # center_line_normal\n",
    "        c_l[tn==s.num_lines]=p1[-1] # handel the right most point\n",
    "        tn_floor = np.floor(tn)\n",
    "        tn_mod = tn - tn_floor\n",
    "        for k in range(s.num_lines):\n",
    "            mask_k = tn_floor==k\n",
    "            tn_mod_k = tn_mod[mask_k]\n",
    "            if(s.is_arc[k]): # section is arc\n",
    "                d_angle = tn_mod_k*s.arc_angle[k]\n",
    "                t0_k = NewDim(s.t0[k],0)\n",
    "                n0_k = NewDim(s.n0[k],0)\n",
    "                sin_k = NewDim(np.sin(d_angle),-1)\n",
    "                cos_k = NewDim(np.cos(d_angle),-1)\n",
    "                c_n[mask_k] = cos_k*n0_k - sin_k*t0_k\n",
    "                c_l[mask_k] = s.pc[k] + s.arc_radius[k]*(sin_k*t0_k-cos_k*n0_k)\n",
    "            else: # section is line\n",
    "                c_l[mask_k] = s.p0[k] + NewDim(tn_mod_k,-1)*NewDim(s.p0p1[k],0)\n",
    "                c_n[mask_k] = s.n0[k]\n",
    "        return c_l,c_n # center_line, center_line_normal\n",
    "            \n",
    "    "
   ]
  },
  {
   "cell_type": "code",
   "execution_count": null,
   "metadata": {
    "ExecuteTime": {
     "start_time": "2021-04-21T20:18:08.587Z"
    }
   },
   "outputs": [],
   "source": [
    "# # https://stackoverflow.com/questions/4858264/find-the-distance-from-a-3d-point-to-a-line-segment\n",
    "# def PointLineDistance(p,a,b):\n",
    "#     \"\"\"\n",
    "#     Calculates the euclidean distance from a point to a line segment.\n",
    "#     @param p     the point\n",
    "#     @param a     start of line segment\n",
    "#     @param b     end of line segment \n",
    "#     @return      distance from p to line segment [a,b]\n",
    "#     @author      Afonso Santos\n",
    "#     \"\"\"\n",
    "#     ab = b - a\n",
    "#     av = p - a\n",
    "#     if (av.dot(ab)<=0): # Point is lagging behind start of the segment, so perpendicular distance is not viable.\n",
    "#         return norm(av) # Use distance to start of segment instead.\n",
    "#     bv = p - b\n",
    "#     if(bv.dot(ab)>=0): # Point is advanced past the end of the segment, so perpendicular distance is not viable.\n",
    "#         return norm(bv) # Use distance to end of the segment instead.\n",
    "#     return norm(np.cross(ab,av))/norm(ab)\n",
    "\n",
    "\n",
    "# https://stackoverflow.com/questions/4858264/find-the-distance-from-a-3d-point-to-a-line-segment\n",
    "def PointLineDistance(p,a,b):\n",
    "    \"\"\"\n",
    "    Calculates the euclidean distance from a point to a line segment.\n",
    "    @param p     the point\n",
    "    @param a     start of line segment\n",
    "    @param b     end of line segment \n",
    "    @return      distance from p to line segment [a,b], parameter t indicating location of the intersection point [0,1]\n",
    "    \"\"\"\n",
    "    ab = b - a\n",
    "    ap = p - a\n",
    "    t = ap.dot(ab)/ab.dot(ab)\n",
    "    if t<=0:\n",
    "        return norm(ap),t\n",
    "    bp = p - b\n",
    "    if t>=1:\n",
    "        return norm(bp),t\n",
    "    return norm(ab*t-ap),t\n",
    "\n",
    "p=np.array([1,2,0])\n",
    "a = np.array([0,0,0])\n",
    "b = np.array([1,1,0])\n",
    "PointLineDistance(p,a,b)"
   ]
  },
  {
   "cell_type": "code",
   "execution_count": null,
   "metadata": {
    "ExecuteTime": {
     "start_time": "2021-04-21T20:18:08.589Z"
    }
   },
   "outputs": [],
   "source": [
    "def PointArcDistance(p,a,b,n2,alpha):\n",
    "    \"\"\"\n",
    "    Calculates the euclidean distance from a point to a line segment.\n",
    "    @param p     the point\n",
    "    @param a     start of line segment\n",
    "    @param b     end of line segment \n",
    "    @param n2    normal of the plane the arc belongs to (right hand rule,align from a to b)\n",
    "    @param alpha angle of rotation from a to b\n",
    "    @return      distance from p to line segment [a,b], parameter t indicating location of the intersection point [0,1]\n",
    "    \"\"\"\n",
    "    ab = b - a\n",
    "    ap = p - a\n",
    "    "
   ]
  },
  {
   "cell_type": "code",
   "execution_count": null,
   "metadata": {
    "ExecuteTime": {
     "start_time": "2021-04-21T20:18:08.590Z"
    }
   },
   "outputs": [],
   "source": [
    "P = np.array([2,0,1])\n",
    "a = np.array([0,-1,0])\n",
    "b = np.array((np.sqrt(2)/2,np.sqrt(2)/2,0))\n",
    "alpha = np.pi*3/4\n",
    "center = np.array([0,0,0])\n",
    "radius = 1\n",
    "n2 = np.array([0,0,1])\n",
    "delta = P-center\n",
    "dist = np.sqrt(n2.dot(delta)**2 + (norm(np.cross(n2, delta))- radius)**2)\n",
    "dist"
   ]
  },
  {
   "cell_type": "code",
   "execution_count": null,
   "metadata": {
    "ExecuteTime": {
     "start_time": "2021-04-21T20:18:08.592Z"
    }
   },
   "outputs": [],
   "source": [
    "P = np.array([2,0,1])\n",
    "a = np.array([0,-1,0])\n",
    "b = np.array((np.sqrt(2)/2,np.sqrt(2)/2,0))\n",
    "alpha = np.pi*3/4\n",
    "center = np.array([0,0,0])\n",
    "radius = 1\n",
    "n2 = np.array([0,0,1])\n",
    "delta = P-center\n",
    "\n",
    "# v_nnp.cross(np.cross(n2,delta),n2)\n",
    "\n",
    "\n",
    "dist = np.sqrt(n2.dot(delta)**2 + (norm(np.cross(n2, delta))- radius)**2)\n",
    "dist"
   ]
  },
  {
   "cell_type": "code",
   "execution_count": null,
   "metadata": {
    "ExecuteTime": {
     "start_time": "2021-04-21T20:18:08.594Z"
    }
   },
   "outputs": [],
   "source": [
    "s = Line(p0,p1,t0,t1,r0,r1,n_plane)"
   ]
  },
  {
   "cell_type": "code",
   "execution_count": null,
   "metadata": {
    "ExecuteTime": {
     "start_time": "2021-04-21T20:18:08.596Z"
    }
   },
   "outputs": [],
   "source": [
    "num = 100\n",
    "tn = np.linspace(0,s.num_lines,num)\n",
    "# tn = np.random.random(num)*s.num_lines"
   ]
  },
  {
   "cell_type": "code",
   "execution_count": null,
   "metadata": {
    "ExecuteTime": {
     "start_time": "2021-04-21T20:18:08.597Z"
    }
   },
   "outputs": [],
   "source": [
    "c_l,c_n = s.CenterLine(tn)"
   ]
  },
  {
   "cell_type": "code",
   "execution_count": null,
   "metadata": {
    "ExecuteTime": {
     "start_time": "2021-04-21T20:18:08.599Z"
    }
   },
   "outputs": [],
   "source": [
    "plt.plot(c_l[:,0],c_l[:,1],'-')\n",
    "plt.quiver(c_l[:,0],c_l[:,1],c_n[:,0],c_n[:,1])"
   ]
  },
  {
   "cell_type": "code",
   "execution_count": null,
   "metadata": {
    "ExecuteTime": {
     "start_time": "2021-04-21T20:18:08.601Z"
    }
   },
   "outputs": [],
   "source": [
    "print(f\"p_0=\\n{s.p0}\\n\")\n",
    "print(f\"p_1=\\n{s.p1}\\n\")\n",
    "print(f\"r_0=\\n{s.r0}\\n\")\n",
    "print(f\"r_1=\\n{s.r1}\\n\")\n",
    "\n",
    "print(f\"n_plane=\\n{s.n_plane}\\n\")\n",
    "print(f\"n0=\\n{s.n0}\\n\")\n",
    "print(f\"n1=\\n{s.n1}\\n\")\n",
    "print(f\"arc_radius=\\n{s.arc_radius}\\n\")\n",
    "print(f\"pc=\\n{s.pc}\\n\")\n",
    "print(f\"arc_angle = ->(deg)\\n{np.rad2deg(s.arc_angle)}\\n\")"
   ]
  },
  {
   "cell_type": "code",
   "execution_count": null,
   "metadata": {},
   "outputs": [],
   "source": []
  },
  {
   "cell_type": "code",
   "execution_count": null,
   "metadata": {
    "ExecuteTime": {
     "start_time": "2021-04-21T20:18:08.604Z"
    }
   },
   "outputs": [],
   "source": [
    "a = np.array([[1,0,0],[2,3,1],[0,2,1],[0,2,1]])\n",
    "b = np.array([[0,1,0],[2,3,1],[0,2,2],[0,2,1]])"
   ]
  },
  {
   "cell_type": "code",
   "execution_count": null,
   "metadata": {
    "ExecuteTime": {
     "start_time": "2021-04-21T20:18:08.606Z"
    }
   },
   "outputs": [],
   "source": [
    "n = np.cross(a,b)\n",
    "np.linalg.norm(n,ord=2,axis=-1)"
   ]
  },
  {
   "cell_type": "code",
   "execution_count": null,
   "metadata": {
    "ExecuteTime": {
     "start_time": "2021-04-21T20:18:08.607Z"
    }
   },
   "outputs": [],
   "source": [
    "np.cross([1,0,0],[0,0,0])"
   ]
  },
  {
   "cell_type": "code",
   "execution_count": null,
   "metadata": {
    "ExecuteTime": {
     "start_time": "2021-04-21T20:18:08.608Z"
    }
   },
   "outputs": [],
   "source": [
    "numba.bool"
   ]
  },
  {
   "cell_type": "code",
   "execution_count": null,
   "metadata": {
    "ExecuteTime": {
     "start_time": "2021-04-21T20:18:08.610Z"
    }
   },
   "outputs": [],
   "source": [
    "dt = 0.001\n",
    "v0 = np.array([0,0,1])\n",
    "v0 = v0/np.linalg.norm(v0)*np.pi/4\n",
    "v1 = np.array([0,1,0])\n",
    "# v1 = v1/np.linalg.norm(v1) * dt\n",
    "v1 = v1 * dt\n",
    "\n",
    "r0 = Rotation.from_rotvec(v0).as_matrix()\n",
    "r1 = np.matmul(Rotation.from_rotvec(v1).as_matrix(),r0)\n",
    "\n",
    "A = r1.dot(r0.T)\n",
    "theta = np.arccos((A.trace()-1)/2)\n",
    "w = 1/(2*dt)*theta/np.sin(theta)*(A-A.T)\n",
    "w_a = np.array((w[2,1],w[0,2],w[1,0]))\n",
    "w_a"
   ]
  },
  {
   "cell_type": "code",
   "execution_count": null,
   "metadata": {
    "ExecuteTime": {
     "start_time": "2021-04-21T20:18:08.611Z"
    }
   },
   "outputs": [],
   "source": [
    "with np.printoptions(precision=3,suppress=True):\n",
    "    print(r0)\n",
    "    print(r1)\n",
    "    print(w_a)\n",
    "    print(r1.T.dot(w_a[:,np.newaxis]))"
   ]
  },
  {
   "cell_type": "code",
   "execution_count": null,
   "metadata": {
    "ExecuteTime": {
     "start_time": "2021-04-21T20:18:08.612Z"
    }
   },
   "outputs": [],
   "source": [
    "r0.T.dot(w_a.T).dot(r0)"
   ]
  },
  {
   "cell_type": "code",
   "execution_count": null,
   "metadata": {},
   "outputs": [],
   "source": []
  },
  {
   "cell_type": "code",
   "execution_count": null,
   "metadata": {
    "ExecuteTime": {
     "start_time": "2021-04-21T20:18:08.617Z"
    }
   },
   "outputs": [],
   "source": [
    "r1 - (w*dt+r0)"
   ]
  },
  {
   "cell_type": "code",
   "execution_count": null,
   "metadata": {
    "ExecuteTime": {
     "start_time": "2021-04-21T20:18:08.618Z"
    }
   },
   "outputs": [],
   "source": [
    "from scipy.linalg import expm"
   ]
  },
  {
   "cell_type": "code",
   "execution_count": null,
   "metadata": {
    "ExecuteTime": {
     "start_time": "2021-04-21T20:18:08.620Z"
    }
   },
   "outputs": [],
   "source": [
    "r1 - r0.dot(expm(w*dt))"
   ]
  },
  {
   "cell_type": "code",
   "execution_count": null,
   "metadata": {
    "ExecuteTime": {
     "start_time": "2021-04-21T20:18:08.621Z"
    }
   },
   "outputs": [],
   "source": [
    "r0.dot(expm(w*dt))-(w*dt+r0)"
   ]
  },
  {
   "cell_type": "code",
   "execution_count": null,
   "metadata": {
    "ExecuteTime": {
     "start_time": "2021-04-21T20:18:08.622Z"
    }
   },
   "outputs": [],
   "source": [
    "def matmul(a, b):\n",
    "    a00 = a[0, 0]\n",
    "    a01 = a[0, 1]\n",
    "    a02 = a[0, 2]\n",
    "    a10 = a[1, 0]\n",
    "    a11 = a[1, 1]\n",
    "    a12 = a[1, 2]\n",
    "    a20 = a[2, 0]\n",
    "    a21 = a[2, 1]\n",
    "    a22 = a[2, 2]\n",
    "\n",
    "    b00 = b[0, 0]\n",
    "    b01 = b[0, 1]\n",
    "    b02 = b[0, 2]\n",
    "    b10 = b[1, 0]\n",
    "    b11 = b[1, 1]\n",
    "    b12 = b[1, 2]\n",
    "    b20 = b[2, 0]\n",
    "    b21 = b[2, 1]\n",
    "    b22 = b[2, 2]\n",
    "\n",
    "    o00 = a00*b00+a01*b10+a02*b20\n",
    "    o01 = a00*b01+a01*b11+a02*b21\n",
    "    o02 = a00*b02+a01*b12+a02*b22\n",
    "    o10 = a10*b00+a11*b10+a12*b20\n",
    "    o11 = a10*b01+a11*b11+a12*b21\n",
    "    o12 = a10*b02+a11*b12+a12*b22\n",
    "    o20 = a20*b00+a21*b10+a22*b20\n",
    "    o21 = a20*b01+a21*b11+a22*b21\n",
    "    o22 = a20*b02+a21*b12+a22*b22\n",
    "\n",
    "    return np.array([[o00, o01, o02],\n",
    "                     [o10, o11, o12],\n",
    "                     [o20, o21, o22]])\n",
    "\n",
    "def transpose(a):\n",
    "    a00 = a[0, 0]\n",
    "    a01 = a[0, 1]\n",
    "    a02 = a[0, 2]\n",
    "    a10 = a[1, 0]\n",
    "    a11 = a[1, 1]\n",
    "    a12 = a[1, 2]\n",
    "    a20 = a[2, 0]\n",
    "    a21 = a[2, 1]\n",
    "    a22 = a[2, 2]\n",
    "    return np.array([[a00, a10, a20],\n",
    "                     [a01, a11, a21],\n",
    "                     [a02, a12, a22]])"
   ]
  },
  {
   "cell_type": "code",
   "execution_count": null,
   "metadata": {
    "ExecuteTime": {
     "start_time": "2021-04-21T20:18:08.624Z"
    }
   },
   "outputs": [],
   "source": [
    "r0.T-transpose(r0)"
   ]
  },
  {
   "cell_type": "code",
   "execution_count": null,
   "metadata": {
    "ExecuteTime": {
     "start_time": "2021-04-21T20:18:08.625Z"
    }
   },
   "outputs": [],
   "source": [
    "r0.dot(r1)-matmul(r0,r1)"
   ]
  },
  {
   "cell_type": "code",
   "execution_count": null,
   "metadata": {
    "ExecuteTime": {
     "start_time": "2021-04-21T20:18:08.626Z"
    }
   },
   "outputs": [],
   "source": [
    "a = np.arange(1,10).reshape((3,-1))\n",
    "b = np.array(a)\n",
    "(a.dot(b)).ravel()\n"
   ]
  },
  {
   "cell_type": "code",
   "execution_count": null,
   "metadata": {
    "ExecuteTime": {
     "start_time": "2021-04-21T20:18:08.628Z"
    }
   },
   "outputs": [],
   "source": [
    "(a.dot(a.T)).ravel()"
   ]
  },
  {
   "cell_type": "code",
   "execution_count": null,
   "metadata": {
    "ExecuteTime": {
     "start_time": "2021-04-21T20:18:08.629Z"
    }
   },
   "outputs": [],
   "source": [
    "np.linalg.inv(a)"
   ]
  },
  {
   "cell_type": "code",
   "execution_count": null,
   "metadata": {
    "ExecuteTime": {
     "start_time": "2021-04-21T20:18:08.631Z"
    }
   },
   "outputs": [],
   "source": [
    "e = np.array([1,2,3,7,6,8,2,7,3]).reshape((3,3))\n",
    "(np.linalg.inv(e)*np.linalg.det(e))"
   ]
  },
  {
   "cell_type": "code",
   "execution_count": null,
   "metadata": {
    "ExecuteTime": {
     "start_time": "2021-04-21T20:18:08.634Z"
    }
   },
   "outputs": [],
   "source": [
    "np.linalg.det(e*63)"
   ]
  },
  {
   "cell_type": "code",
   "execution_count": null,
   "metadata": {
    "ExecuteTime": {
     "start_time": "2021-04-21T20:18:08.636Z"
    }
   },
   "outputs": [],
   "source": [
    "a.dot(a[0])"
   ]
  },
  {
   "cell_type": "code",
   "execution_count": null,
   "metadata": {
    "ExecuteTime": {
     "start_time": "2021-04-21T20:18:08.637Z"
    }
   },
   "outputs": [],
   "source": [
    "t = 1e-100\n",
    "t/np.sin(t)"
   ]
  },
  {
   "cell_type": "code",
   "execution_count": null,
   "metadata": {},
   "outputs": [],
   "source": []
  },
  {
   "cell_type": "code",
   "execution_count": null,
   "metadata": {},
   "outputs": [],
   "source": []
  },
  {
   "cell_type": "code",
   "execution_count": null,
   "metadata": {
    "ExecuteTime": {
     "start_time": "2021-04-21T20:18:08.642Z"
    }
   },
   "outputs": [],
   "source": [
    "import pyarrow as pa\n",
    "import pandas as pd\n",
    "import numpy as np\n",
    "import sys\n",
    "\n",
    "data = [\n",
    "    [[1,3,4],[1,3,4],[1,3,4],[1,3,4]],\n",
    "    ['foo', 'bar', 'baz', None],\n",
    "    [True, None, False, True]\n",
    "]\n",
    "batch = pa.record_batch(data, names=['f0', 'f1', 'f2'])\n",
    "\n",
    "sink = pa.OSFile(\"..//data//test.arrow\",\"wb\")\n",
    "\n",
    "writer = pa.ipc.new_file(sink, batch.schema)\n",
    "for i in range(1000):\n",
    "    writer.write_batch(batch)\n",
    "writer.close()"
   ]
  },
  {
   "cell_type": "code",
   "execution_count": null,
   "metadata": {
    "ExecuteTime": {
     "start_time": "2021-04-21T20:18:08.644Z"
    }
   },
   "outputs": [],
   "source": [
    "with pa.OSFile(\"..//data//test.arrow\") as sink:\n",
    "# with pa.memory_map(\"..//data//test.arrow\") as sink:\n",
    "    reader = pa.ipc.open_file(sink)\n",
    "    df = reader.read_pandas(use_threads=True)\n",
    "#     sink.close()\n",
    "print(sys.getsizeof(df))\n",
    "df"
   ]
  },
  {
   "cell_type": "code",
   "execution_count": null,
   "metadata": {},
   "outputs": [],
   "source": []
  },
  {
   "cell_type": "markdown",
   "metadata": {},
   "source": [
    "# mesh simplification example\n",
    "ref: https://github.com/pyvista/pyacvd"
   ]
  },
  {
   "cell_type": "code",
   "execution_count": null,
   "metadata": {
    "ExecuteTime": {
     "start_time": "2021-04-21T20:18:08.646Z"
    }
   },
   "outputs": [],
   "source": [
    "import pyvista\n",
    "import trimesh\n",
    "import open3d as o3d\n",
    "import pyacvd\n",
    "\n",
    "def trimeshToO3dMesh(mesh):\n",
    "    \"\"\"\n",
    "    convert trimesh mesh object to open3d mesh object\n",
    "    \"\"\"\n",
    "    assert(type(mesh)==trimesh.base.Trimesh)\n",
    "    mesh_o3d = o3d.geometry.TriangleMesh(\n",
    "        o3d.utility.Vector3dVector(mesh.vertices),\n",
    "        o3d.utility.Vector3iVector(mesh.faces))\n",
    "    mesh_o3d.compute_vertex_normals()\n",
    "    mesh_o3d.compute_triangle_normals()\n",
    "#     mesh_o3d.paint_uniform_color((0.8, 0.8, 0.8))\n",
    "    return mesh_o3d"
   ]
  },
  {
   "cell_type": "code",
   "execution_count": null,
   "metadata": {
    "ExecuteTime": {
     "start_time": "2021-04-21T20:18:08.648Z"
    }
   },
   "outputs": [],
   "source": [
    "mesh = trimesh.load(\"../../mesh/leg_simplified.stl\", use_embree=True)\n",
    "mesh_vista = pyvista.wrap(mesh)\n",
    "mesh_vista.plot(show_edges=True,color=\"W\")"
   ]
  },
  {
   "cell_type": "code",
   "execution_count": null,
   "metadata": {
    "ExecuteTime": {
     "start_time": "2021-04-21T20:18:08.649Z"
    }
   },
   "outputs": [],
   "source": [
    "clus = pyacvd.Clustering(mesh_vista)\n",
    "# mesh is not dense enough for uniform remeshing\n",
    "clus.subdivide(3)\n",
    "clus.cluster(1000)\n",
    "\n",
    "# plot clustered mesh\n",
    "clus.plot()"
   ]
  },
  {
   "cell_type": "code",
   "execution_count": null,
   "metadata": {
    "ExecuteTime": {
     "start_time": "2021-04-21T20:18:08.651Z"
    }
   },
   "outputs": [],
   "source": [
    "# remesh\n",
    "remesh = clus.create_mesh()\n",
    "\n",
    "# plot uniformly remeshed cow\n",
    "remesh.plot(color='w', show_edges=True)"
   ]
  },
  {
   "cell_type": "code",
   "execution_count": null,
   "metadata": {
    "ExecuteTime": {
     "start_time": "2021-04-21T20:18:08.652Z"
    }
   },
   "outputs": [],
   "source": [
    "# faces: first clumn is number of points, trianges:3, quad:4, other rows are the indices of the points\n",
    "mesh_simplified = trimesh.Trimesh(remesh.points,remesh.faces.reshape((-1,4))[:,1:])\n",
    "o3d.visualization.draw_geometries([trimeshToO3dMesh(mesh_simplified)],mesh_show_wireframe=True)"
   ]
  },
  {
   "cell_type": "code",
   "execution_count": null,
   "metadata": {},
   "outputs": [],
   "source": []
  },
  {
   "cell_type": "code",
   "execution_count": null,
   "metadata": {
    "ExecuteTime": {
     "start_time": "2021-04-21T20:18:08.654Z"
    }
   },
   "outputs": [],
   "source": [
    "import msgpack\n",
    "import open3d as o3d\n",
    "import trimesh\n",
    "import point_cloud_utils as pcu  # downsampling\n",
    "from IPython.display import display, Math\n",
    "import numpy as np\n",
    "import matplotlib.pyplot as plt\n",
    "import numba\n",
    "from joblib import Parallel, delayed  # multiprocessing\n",
    "import multiprocessing\n",
    "import copy\n",
    "from scipy.ndimage.morphology import binary_dilation, binary_erosion\n",
    "from scipy.spatial.transform import Rotation\n",
    "import tempfile\n",
    "import gmsh\n",
    "import meshio\n",
    "import itertools\n",
    "import shutil  # file copying\n",
    "import networkx as nx # graph representation\n",
    "plt.style.use('seaborn-whitegrid')\n",
    "%config InlineBackend.figure_format = 'retina'\n",
    "\n",
    "print(f\"open3d :{o3d.__version__}\")\n",
    "print(f\"trimesh:{trimesh.__version__}\")\n",
    "print(f\"numba  :{numba.__version__}\")\n",
    "###########################################################\n",
    "from robot_utils import *\n",
    "# import robot_utils \n",
    "# help(robot_utils)"
   ]
  },
  {
   "cell_type": "code",
   "execution_count": null,
   "metadata": {
    "ExecuteTime": {
     "start_time": "2021-04-21T20:18:08.656Z"
    }
   },
   "outputs": [],
   "source": [
    "########## discretization parameters ##############\n",
    "# radius_poisson = float(10) # radius for the poisson sampling\n",
    "radius_poisson = float(10) # radius for the poisson sampling\n",
    "radius_knn = radius_poisson*np.sqrt(3)*1.5\n",
    "# max_nn = 28 # maximun number of neighbors for a mass point (including self)\n",
    "max_nn = int(28)\n",
    "inv_scale_grid = float(2.5/np.sqrt(3))\n",
    "# inv_scale_grid = 1\n",
    "radius_grid = radius_poisson/np.sqrt(3)/inv_scale_grid # radius for voxelizing before poisson sampling\n",
    "# radius_grid = radius_poisson/2.5\n",
    "\n",
    "num_per_grid = int(32/(inv_scale_grid**3))\n",
    "print(radius_knn)\n",
    "print(num_per_grid)\n",
    "print(radius_grid)\n",
    "\n",
    "half_joint_overlap = radius_poisson * 0\n",
    "joint_overlap = half_joint_overlap*2\n",
    "print(f\"joint_overlap:{joint_overlap}\")\n",
    "\n",
    "# general argument\n",
    "gmsh_args = [\n",
    "        (\"Mesh.Algorithm\", 6), # 2D mesh algorithm (1: MeshAdapt, 2: Automatic, 3: Initial mesh only, 5: Delaunay, 6: Frontal-Delaunay, 7: BAMG, 8: Frontal-Delaunay for Quads, 9: Packing of Parallelograms)\n",
    "        (\"Mesh.Algorithm3D\", 10), # 3D mesh algorithm (1: Delaunay, 3: Initial mesh only, 4: Frontal, 7: MMG3D, 9: R-tree, 10: HXT)\n",
    "        (\"Mesh.MeshSizeExtendFromBoundary\", 1),\n",
    "        (\"Mesh.MeshSizeFromPoints\", 1),\n",
    "        (\"Mesh.MeshSizeFromCurvature\", 0),\n",
    "        (\"Mesh.OptimizeNetgen\",0), # Optimize the mesh using Netgen to improve the quality of tetrahedral elements\n",
    "        (\"Mesh.OptimizeThreshold\",0.5), # Optimize the mesh using Netgen to improve the quality of tetrahedral elements\n",
    "\n",
    "        (\"Mesh.VolumeEdges\",1), # Display edges of volume mesh\n",
    "        (\"Mesh.VolumeFaces\",0), # Display faces of volume mesh\n",
    "        (\"Mesh.SurfaceFaces\",1), # Display faces of surface mesh?\n",
    "        (\"Mesh.Smoothing\",5), # Number of smoothing steps applied to the final mesh\n",
    "#         (\"Mesh.SmoothNormals\",0), # Smooth the mesh normals? default 0\n",
    "        (\"Mesh.Binary\",1), # Write mesh files in binary format (if possible)\n",
    "    \n",
    "#         (\"Mesh.MinimumCirclePoints\",4), # Minimum number of nodes used to mesh circles and ellipses\n",
    "#         (\"Mesh.MinimumCurvePoints\",2), # Minimum number of points used to mesh curves other than lines, circles and ellipses\n",
    "#         (\"Mesh.MinimumElementsPerTwoPi\",4), # Minimum number of elements per 2 * Pi radians when the mesh size is adapted to the curvature\n",
    "    \n",
    "        (\"General.Verbosity\",0), # Level of information printed during processing (0: no information), default:5\n",
    "        (\"General.Terminal\",0), # Should information be printed on the terminal (if available)\n",
    "#         (\"Mesh.RandomSeed\",0), # Seed of pseudo-random number generator\n",
    "#         (\"Mesh.QualitySup\",0.5), # Only display elements whose quality measure is smaller than QualitySup\n",
    "]\n",
    "\n",
    "# 2D specific argument\n",
    "gmsh_args_2d = [\n",
    "        (\"Mesh.MeshSizeMin\", radius_poisson*1.2),\n",
    "        (\"Mesh.MeshSizeMax\", radius_poisson*1.2),\n",
    "] \n",
    "\n",
    "# 3D specific argument\n",
    "gmsh_args_3d = [\n",
    "        (\"Mesh.MeshSizeMin\", radius_poisson*1.0),\n",
    "        (\"Mesh.MeshSizeMax\", radius_poisson*1.4),\n",
    "]\n",
    "\n",
    "\n",
    "def generateGmsh(\n",
    "    in_file_name: str = None, # should be a step cad file\n",
    "    out_file_name: str = None,# should end with .msh or .stl(2D only)\n",
    "    gmsh_args: list = gmsh_args_2d+gmsh_args,\n",
    "    gmsh_args_3d:list = gmsh_args_3d,# 3d specific gmsh argument\n",
    "    dim:int = 3, #mesh dimension {3:volume, 2: surface mesh}\n",
    "    gui = False, # display gui at the end\n",
    "):\n",
    "    \"\"\"\n",
    "    return a volume mesh or suface mesh from CAD model\n",
    "    Input:\n",
    "    ------------------\n",
    "    in_file_name : str\n",
    "        Location of the file to be imported, file type should be \n",
    "        ['.brep', '.stp', '.step', '.igs', '.iges',\n",
    "        '.bdf', '.msh', '.inp', '.diff', '.mesh']\n",
    "    out_file_name : str\n",
    "        Location of the file to be imported, file type should be\n",
    "        '.msh' for 2D/3D mesh or '.stl' for 2D mesh only\n",
    "    gmsh_args : (n, 2) list\n",
    "      List of (parameter, value) pairs to be passed to\n",
    "      gmsh.option.setNumber\n",
    "    gmsh_args_3d : (n, 2) list\n",
    "      additional 3d specific list of (parameter, value) pairs to be \n",
    "      passed to gmsh.option.setNumber, \n",
    "    dim : int mesh dimension: 3 for volume mesh, 2 for surface mesh\n",
    "    \n",
    "    output:\n",
    "    -------------------\n",
    "    a mesh (meshio.Mesh), and out_file_name\n",
    "    \n",
    "    note: \n",
    "    modified from: ttps://github.com/mikedh/trimesh/blob/master/trimesh/interfaces/gmsh.py \n",
    "    for gmsh_arg, refer to: https://gmsh.info/doc/texinfo/gmsh.html#Mesh-options-list\n",
    "    mesh algorithm: # https://gmsh.info/doc/texinfo/gmsh.html#Choosing-the-right-unstructured-algorithm\n",
    "    \"\"\"\n",
    "    gmsh.initialize() # !!must be call for initialization!!\n",
    "    gmsh.model.add('Mesh_Generation')\n",
    "#     gmsh.model.geo.synchronize()\n",
    "    gmsh.open(in_file_name)\n",
    "    \n",
    "    for arg in gmsh_args:\n",
    "        gmsh.option.setNumber(*arg)\n",
    "    gmsh.model.mesh.generate(2)  # generate 2d mesh\n",
    "\n",
    "    if dim==3:\n",
    "        for arg in gmsh_args_3d:\n",
    "            gmsh.option.setNumber(*arg)\n",
    "        gmsh.model.mesh.generate(3)  # generate 3d terahedra mesh\n",
    "#     gmsh.model.mesh.optimize('Netgen', True,niter=2)\n",
    "#     gmsh.model.mesh.optimize('', True,niter=10)\n",
    "    \n",
    "    if out_file_name is None: # create a temporary file for the results\n",
    "        with tempfile.NamedTemporaryFile(suffix='.msh', delete=False) as out_data:\n",
    "            out_file_name = out_data.name            \n",
    "    gmsh.write(out_file_name)\n",
    "    \n",
    "    if gui:\n",
    "        gmsh.fltk.run() # display gui\n",
    "    \n",
    "    gmsh.finalize()  # !!must be call for ending!!\n",
    "    return meshio.read(out_file_name),out_file_name\n",
    "\n",
    "# # # discretize body\n",
    "# # in_file_name: str = \"../../mesh/soft_body_simplified.step\"\n",
    "# # out_file_name: str = \"../../mesh/soft_body_simplified.msh\"\n",
    "# in_file_name: str = \"../../mesh/leg_simplified.step\"\n",
    "# out_file_name: str = \"../../mesh/leg_simplified.msh\"\n",
    "# vmesh,_= generateGmsh(in_file_name,out_file_name,dim=3,gui=True)\n",
    "# # print(vmesh)\n",
    "# vmeshSummary(vmesh)"
   ]
  },
  {
   "cell_type": "code",
   "execution_count": null,
   "metadata": {
    "ExecuteTime": {
     "start_time": "2021-04-21T20:18:08.657Z"
    }
   },
   "outputs": [],
   "source": [
    "### cylinders..\n",
    "cylinder_len = 60.\n",
    "cylinder_r = 30."
   ]
  },
  {
   "cell_type": "code",
   "execution_count": null,
   "metadata": {
    "ExecuteTime": {
     "start_time": "2021-04-21T20:18:08.658Z"
    }
   },
   "outputs": [],
   "source": [
    "# def generateCylinder\n",
    "gmsh.initialize() # !!must be call for initialization!!\n",
    "gmsh.option.setNumber(\"General.Terminal\", 1)\n",
    "gmsh.model.add('volume_Mesh_Generation')\n",
    "\n",
    "for arg in gmsh_args_3d:\n",
    "    gmsh.option.setNumber(*arg)\n",
    "    \n",
    "gmsh.model.occ.addCylinder(0, 0, -cylinder_len/2, 0, 0, cylinder_len, cylinder_r,-1)\n",
    "\n",
    "gmsh.model.occ.synchronize()#Synchronize the OpenCASCADE CAD representation with the current Gmsh model\n",
    "gmsh.model.geo.synchronize()#Synchronize the built-in CAD representation with the current Gmsh model\n",
    "\n",
    "gmsh.option.setNumber(\"Mesh.MeshSizeMin\", radius_poisson*1.2)\n",
    "gmsh.option.setNumber(\"Mesh.MeshSizeMax\", radius_poisson*1.2)\n",
    "gmsh.model.mesh.generate(2)\n",
    "\n",
    "gmsh.option.setNumber(\"Mesh.MeshSizeMin\", radius_poisson*1.0)\n",
    "gmsh.option.setNumber(\"Mesh.MeshSizeMax\", radius_poisson*1.4)\n",
    "\n",
    "gmsh.model.mesh.generate(3)\n",
    "\n",
    "# gmsh.fltk.run() # display gui\n",
    "\n",
    "with tempfile.NamedTemporaryFile(suffix='.msh', delete=False) as out_data:\n",
    "    print(out_data.name)\n",
    "    gmsh.write(out_data.name)\n",
    "    vmesh = meshio.read(out_data.name)\n",
    "gmsh.finalize()\n",
    "# return vmesh\n",
    "\n",
    "vmeshSummary(vmesh)"
   ]
  },
  {
   "cell_type": "code",
   "execution_count": null,
   "metadata": {
    "ExecuteTime": {
     "start_time": "2021-04-21T20:18:08.660Z"
    }
   },
   "outputs": [],
   "source": [
    "vertices = vmesh.points\n",
    "faces = vmesh.get_cells_type(\"triangle\")\n",
    "mesh_o3d = o3d.geometry.TriangleMesh(o3d.utility.Vector3dVector(vertices),o3d.utility.Vector3iVector(faces))\n",
    "mesh = trimesh.Trimesh(vertices,faces)\n",
    "o3dShow([mesh_o3d,coord_frame],background_color=(255,255,255),show_coordinate_frame=False,mesh_show_wireframe=True)"
   ]
  },
  {
   "cell_type": "code",
   "execution_count": null,
   "metadata": {
    "ExecuteTime": {
     "start_time": "2021-04-21T20:18:08.662Z"
    }
   },
   "outputs": [],
   "source": [
    "mesh.moment_inertia/mesh.moment_inertia[2,2]"
   ]
  },
  {
   "cell_type": "code",
   "execution_count": null,
   "metadata": {
    "ExecuteTime": {
     "start_time": "2021-04-21T20:18:08.663Z"
    }
   },
   "outputs": [],
   "source": [
    "num_candidate = 100000\n",
    "r = cylinder_r*np.sqrt(np.random.uniform(0.0,1.0,size=num_candidate))\n",
    "t = np.random.uniform(0.0,2*np.pi,size=num_candidate)\n",
    "z = np.random.uniform(-cylinder_len/2.,cylinder_len/2.,size=num_candidate)\n",
    "x = r*np.cos(t)\n",
    "y = r*np.sin(t)\n",
    "vertices = np.stack((x,y,z),axis=1)\n",
    "\n",
    "vertices, _ = pcu.prune_point_cloud_poisson_disk(v=vertices, n=np.zeros_like(\n",
    "    vertices), radius=radius_poisson, best_choice_sampling=True)"
   ]
  },
  {
   "cell_type": "code",
   "execution_count": null,
   "metadata": {
    "ExecuteTime": {
     "start_time": "2021-04-21T20:18:08.664Z"
    }
   },
   "outputs": [],
   "source": [
    "pcd = o3d.geometry.PointCloud(o3d.utility.Vector3dVector(vertices))\n",
    "o3dShow([pcd,coord_frame],background_color=(255,255,255),show_coordinate_frame=False,mesh_show_wireframe=True)"
   ]
  },
  {
   "cell_type": "code",
   "execution_count": null,
   "metadata": {
    "ExecuteTime": {
     "start_time": "2021-04-21T20:18:08.666Z"
    }
   },
   "outputs": [],
   "source": [
    "vertices = equidistantCylinder(r=radius_poisson*2*1.2,h=radius_poisson*4*1.2,dr=radius_poisson*1.2)\n",
    "\n",
    "# x,y = equidistantDisk(nr=3)\n",
    "# plt.plot(x,y,'.')\n",
    "# plt.axis(\"equal\")\n",
    "\n",
    "# momentOfInertia(vertices)"
   ]
  },
  {
   "cell_type": "code",
   "execution_count": null,
   "metadata": {
    "ExecuteTime": {
     "start_time": "2021-04-21T20:18:08.667Z"
    }
   },
   "outputs": [],
   "source": [
    "pcd_o3d = o3d.geometry.PointCloud(o3d.utility.Vector3dVector(vertices))\n",
    "# KDTree for nearest neighbor search\n",
    "pcd_tree = o3d.geometry.KDTreeFlann(pcd_o3d)\n",
    "neighbors = [np.asarray(pcd_tree.search_hybrid_vector_3d(point, radius_knn,max_nn = max_nn)[1]) for point in vertices]\n",
    "edges = np.vstack([getEdges(neighbor[:max_nn]) for neighbor in neighbors])\n",
    "edges, edge_counts = getUniqueEdges(edges)\n",
    "\n",
    "neighbor_counts = getNeighborCounts(edges)\n",
    "edge_lengths = np.linalg.norm(vertices[edges[:,0]]-vertices[edges[:,1]],axis=1)\n",
    "\n",
    "print(f\"# vertices         = {vertices.shape[0]}\")\n",
    "print(f\"# unique edges     = {edges.shape[0]}\")\n",
    "\n",
    "fig,ax = plt.subplots(1,2,figsize=(8,2),dpi=75)\n",
    "ax[0].hist(edge_lengths, density=True, bins='auto')\n",
    "ax[0].set_xlabel(\"edge length\")\n",
    "ax[1].hist(neighbor_counts, density=True, bins='auto')\n",
    "ax[1].set_xlabel(\"neighbor counts\")"
   ]
  },
  {
   "cell_type": "code",
   "execution_count": null,
   "metadata": {
    "ExecuteTime": {
     "start_time": "2021-04-21T20:18:08.669Z"
    }
   },
   "outputs": [],
   "source": [
    "lsd_o3d = o3d.geometry.LineSet(\n",
    "    o3d.utility.Vector3dVector(vertices),\n",
    "    o3d.utility.Vector2iVector(edges)\n",
    ")\n",
    "o3dShow([lsd_o3d],background_color=(255,255,255),show_coordinate_frame=False,mesh_show_wireframe=True)"
   ]
  },
  {
   "cell_type": "code",
   "execution_count": null,
   "metadata": {
    "ExecuteTime": {
     "end_time": "2021-01-07T05:35:18.907443Z",
     "start_time": "2021-01-07T05:35:18.899250Z"
    }
   },
   "outputs": [],
   "source": []
  },
  {
   "cell_type": "code",
   "execution_count": null,
   "metadata": {},
   "outputs": [],
   "source": []
  },
  {
   "cell_type": "code",
   "execution_count": null,
   "metadata": {},
   "outputs": [],
   "source": []
  },
  {
   "cell_type": "code",
   "execution_count": null,
   "metadata": {
    "ExecuteTime": {
     "start_time": "2021-04-21T20:18:08.672Z"
    }
   },
   "outputs": [],
   "source": [
    "# Load descritized volume mesh\n",
    "\n",
    "def voxelizeMesh(mesh,dr=radius_grid):\n",
    "    \"\"\"\n",
    "    input:\n",
    "        mesh: (trimesh.Trimesh)\n",
    "    returns:\n",
    "        bounds: \n",
    "    \"\"\"\n",
    "    bounds = mesh.bounds\n",
    "    # convert to integer, type is still float\n",
    "    bounds = np.vstack(\n",
    "        (np.floor(mesh.bounds[0]/dr),\n",
    "         np.ceil(mesh.bounds[1]/dr)))*dr\n",
    "    xyz_grid, bounds = createGrid(bounds, dr=dr)\n",
    "    print(\"bounds=\\n\", bounds)\n",
    "    xyz_grid_flat = xyz_grid.reshape((-1, 3))\n",
    "    \n",
    "    grid_is_inside_flat = mesh.ray.contains_points(xyz_grid_flat)\n",
    "    grid_is_inside = grid_is_inside_flat.reshape(xyz_grid.shape[:-1])\n",
    "\n",
    "    print(f\"xyz_grid.shape={xyz_grid.shape}\")\n",
    "    ############################################\n",
    "    window = np.ones((3, 3, 3))\n",
    "    grid_is_edge = binary_dilation(\n",
    "        grid_is_inside, window)*~binary_erosion(grid_is_inside, window)\n",
    "    # grid_is_edge = binary_dilation(\n",
    "    #     grid_is_inside)*~binary_erosion(grid_is_inside)\n",
    "    print(f\"{grid_is_edge.sum()}\")\n",
    "    grid_is_deep_inside = grid_is_inside*~grid_is_edge\n",
    "    # grid points near the edge, sampling around may result in outside points\n",
    "    xyz_grid_edge = xyz_grid[grid_is_edge]\n",
    "     # grid points deep inside the body, sampling around garantees inside points\n",
    "    xyz_grid_inside = xyz_grid[grid_is_deep_inside]\n",
    "    ##############################\n",
    "    return bounds,xyz_grid_edge,xyz_grid_inside\n",
    "\n",
    "def sample_helper(mesh_dict, xyz_grid_edge,xyz_grid_inside,\n",
    "                  radius_poisson=radius_poisson,radius_grid=radius_grid,num_per_grid=num_per_grid):\n",
    "    mesh = trimesh.Trimesh(**mesh_dict, use_embree=True)    \n",
    "    # near-edge points candidate\n",
    "    xyz_edge_candidate = uniformRandomAroundPoints(xyz_grid_edge,radius_grid,num_per_grid)\n",
    "    is_edge_candidate = mesh.ray.contains_points(xyz_edge_candidate)\n",
    "    xyz_edge_candidate = xyz_edge_candidate[is_edge_candidate]\n",
    "#     print(f\"pruning outside points:{xyz_edge_candidate.shape}->{xyz_edge_candidate.shape}\")\n",
    "    # deep-inside points candidate\n",
    "    xyz_deep_inside_candidate = uniformRandomAroundPoints(xyz_grid_inside,radius_grid,num_per_grid)\n",
    "    # combined points candidate\n",
    "    xyz_candidate = np.vstack([xyz_deep_inside_candidate, xyz_edge_candidate])\n",
    "#     print(f\"points near surface:{xyz_edge_candidate.shape}\")\n",
    "#     print(f\"points deep inside :{xyz_deep_inside_candidate.shape}\")\n",
    "#     print(f\"total points       :{xyz_candidate.shape}\")\n",
    "    xyz, _ = pcu.prune_point_cloud_poisson_disk(v=xyz_candidate, n=np.zeros_like(\n",
    "    xyz_candidate), radius=radius_poisson, best_choice_sampling=True)\n",
    "    return xyz # vertices"
   ]
  },
  {
   "cell_type": "code",
   "execution_count": null,
   "metadata": {},
   "outputs": [],
   "source": []
  },
  {
   "cell_type": "code",
   "execution_count": 1,
   "metadata": {
    "ExecuteTime": {
     "end_time": "2021-05-16T07:41:09.525337Z",
     "start_time": "2021-05-16T07:41:08.775946Z"
    }
   },
   "outputs": [],
   "source": [
    "from flexipod_env import FlexipodEnv\n",
    "import matplotlib.pyplot as plt\n",
    "self = FlexipodEnv(num_sensors = 128)\n",
    "env = self\n",
    "# self = FlexipodEnv()\n",
    "# obs = self.reset()"
   ]
  },
  {
   "cell_type": "code",
   "execution_count": 2,
   "metadata": {
    "ExecuteTime": {
     "end_time": "2021-05-16T07:41:11.471323Z",
     "start_time": "2021-05-16T07:41:11.452042Z"
    }
   },
   "outputs": [
    {
     "data": {
      "text/plain": [
       "(960,)"
      ]
     },
     "execution_count": 2,
     "metadata": {},
     "output_type": "execute_result"
    }
   ],
   "source": [
    "self.observation_space.shape"
   ]
  },
  {
   "cell_type": "code",
   "execution_count": 3,
   "metadata": {
    "ExecuteTime": {
     "end_time": "2021-05-16T07:41:13.883803Z",
     "start_time": "2021-05-16T07:41:13.840788Z"
    }
   },
   "outputs": [
    {
     "data": {
      "text/plain": [
       "array([-1., -1., -1., -1., -1., -1., -1., -1., -1., -1., -1., -1.],\n",
       "      dtype=float32)"
      ]
     },
     "execution_count": 3,
     "metadata": {},
     "output_type": "execute_result"
    }
   ],
   "source": [
    "env.action_space.low"
   ]
  },
  {
   "cell_type": "code",
   "execution_count": 7,
   "metadata": {
    "ExecuteTime": {
     "end_time": "2021-05-16T07:41:28.333749Z",
     "start_time": "2021-05-16T07:41:28.294742Z"
    }
   },
   "outputs": [
    {
     "data": {
      "text/plain": [
       "(960,)"
      ]
     },
     "execution_count": 7,
     "metadata": {},
     "output_type": "execute_result"
    }
   ],
   "source": [
    "self.reset().shape"
   ]
  },
  {
   "cell_type": "code",
   "execution_count": 8,
   "metadata": {
    "ExecuteTime": {
     "end_time": "2021-05-16T07:41:36.783677Z",
     "start_time": "2021-05-16T07:41:36.769674Z"
    }
   },
   "outputs": [
    {
     "data": {
      "text/plain": [
       "(960,)"
      ]
     },
     "execution_count": 8,
     "metadata": {},
     "output_type": "execute_result"
    }
   ],
   "source": [
    "obs,_,_,_ = self.step()\n",
    "obs.shape"
   ]
  },
  {
   "cell_type": "code",
   "execution_count": 6,
   "metadata": {
    "ExecuteTime": {
     "end_time": "2021-05-16T07:41:24.230344Z",
     "start_time": "2021-05-16T07:41:24.216210Z"
    }
   },
   "outputs": [],
   "source": [
    "# obs,_,_,_ = self.step()\n",
    "# plt.hist(obs[:,-64:-1].ravel(),bins=100)\n",
    "# plt.show()"
   ]
  },
  {
   "cell_type": "code",
   "execution_count": 10,
   "metadata": {
    "ExecuteTime": {
     "end_time": "2021-05-16T07:36:06.978598Z",
     "start_time": "2021-05-16T07:36:06.971076Z"
    }
   },
   "outputs": [],
   "source": [
    "# self.cd.getContactPoints(self.joint_pos)"
   ]
  },
  {
   "cell_type": "code",
   "execution_count": 3,
   "metadata": {
    "ExecuteTime": {
     "end_time": "2021-04-22T03:10:32.416283Z",
     "start_time": "2021-04-22T03:10:16.913542Z"
    },
    "scrolled": true
   },
   "outputs": [
    {
     "name": "stdout",
     "output_type": "stream",
     "text": [
      "1.91 ms ± 13.5 µs per loop (mean ± std. dev. of 7 runs, 1000 loops each)\n"
     ]
    }
   ],
   "source": [
    "%timeit _ =self.step()"
   ]
  },
  {
   "cell_type": "code",
   "execution_count": 7,
   "metadata": {
    "ExecuteTime": {
     "end_time": "2021-04-22T03:47:50.534979Z",
     "start_time": "2021-04-22T03:47:34.145089Z"
    }
   },
   "outputs": [
    {
     "name": "stdout",
     "output_type": "stream",
     "text": [
      "2.02 ms ± 19.9 µs per loop (mean ± std. dev. of 7 runs, 1000 loops each)\n"
     ]
    }
   ],
   "source": [
    "%timeit _ =self.step()"
   ]
  },
  {
   "cell_type": "code",
   "execution_count": 3,
   "metadata": {
    "ExecuteTime": {
     "end_time": "2021-04-22T03:43:09.567235Z",
     "start_time": "2021-04-22T03:43:09.552610Z"
    }
   },
   "outputs": [
    {
     "data": {
      "text/plain": [
       "(8, 128)"
      ]
     },
     "execution_count": 3,
     "metadata": {},
     "output_type": "execute_result"
    }
   ],
   "source": [
    "obs.shape"
   ]
  },
  {
   "cell_type": "code",
   "execution_count": 4,
   "metadata": {
    "ExecuteTime": {
     "end_time": "2021-04-22T03:43:24.524118Z",
     "start_time": "2021-04-22T03:43:24.515450Z"
    }
   },
   "outputs": [
    {
     "data": {
      "text/plain": [
       "960"
      ]
     },
     "execution_count": 4,
     "metadata": {},
     "output_type": "execute_result"
    }
   ],
   "source": [
    "5*192"
   ]
  },
  {
   "cell_type": "code",
   "execution_count": 5,
   "metadata": {
    "ExecuteTime": {
     "end_time": "2021-04-22T03:43:30.674138Z",
     "start_time": "2021-04-22T03:43:30.661044Z"
    }
   },
   "outputs": [
    {
     "data": {
      "text/plain": [
       "1024"
      ]
     },
     "execution_count": 5,
     "metadata": {},
     "output_type": "execute_result"
    }
   ],
   "source": [
    "8*128"
   ]
  },
  {
   "cell_type": "code",
   "execution_count": null,
   "metadata": {
    "ExecuteTime": {
     "start_time": "2021-04-21T20:18:08.679Z"
    }
   },
   "outputs": [],
   "source": [
    "import socket"
   ]
  },
  {
   "cell_type": "code",
   "execution_count": null,
   "metadata": {
    "ExecuteTime": {
     "start_time": "2021-04-21T20:18:08.680Z"
    }
   },
   "outputs": [],
   "source": [
    "sock = socket.socket(socket.AF_INET,socket.SOCK_DGRAM) # UDP\n",
    "sock.bind((\"localhost\",32000)) #Bind the socket to the port\n",
    "sock.settimeout(10)\n",
    "data = sock.recv(10240)"
   ]
  },
  {
   "cell_type": "code",
   "execution_count": 16,
   "metadata": {
    "ExecuteTime": {
     "end_time": "2021-04-30T06:50:14.302925Z",
     "start_time": "2021-04-30T06:50:14.290937Z"
    }
   },
   "outputs": [],
   "source": [
    "import pybullet as p\n",
    "import pybullet_utils.bullet_client as bc\n",
    "import os\n",
    "import numpy as np\n",
    "\n",
    "class BulletCollisionDetect:\n",
    "    \"\"\"\n",
    "    Helper class for collision detection using pybullet\n",
    "    \"\"\"\n",
    "    def __init__(self,urdf_path=\"../../data/urdf/test/robot.urdf\",gui=False):\n",
    "        \"\"\"\n",
    "        load urdf and init the collision detection\n",
    "        \"\"\"\n",
    "        # loading using bullet_client\n",
    "        # ref: https://docs.google.com/document/d/10sXEhzFRSnvFcl3XxNGhnD4N2SedqwdAvK3dsihxVUA/edit#\n",
    "        self._p = bc.BulletClient(p.GUI if gui else p.DIRECT)\n",
    "        self.body_id = self._p.loadURDF(urdf_path,\n",
    "                              useFixedBase=1,\n",
    "                              flags=p.URDF_USE_SELF_COLLISION)  # load urdf\n",
    "        self.dof = self._p.getNumJoints(self.body_id)\n",
    "\n",
    "        JOINT_INFO_DICT = {name: i for i, name in enumerate([\n",
    "         \"jointIndex\", \"jointName\", \"jointType\", \"qIndex\", \"uIndex\",\n",
    "         \"flags\", \"jointDamping\", \"jointFriction\", \"jointLowerLimit\",\n",
    "         \"jointUpperLimit\", \"jointMaxForce\", \"jointMaxVelocity\", \"linkName\",\n",
    "         \"jointAxis\", \"parentFramePos\", \"parentFrameOrn\", \"parentIndex\"])}\n",
    "\n",
    "#         joint_info = [self._p.getJointInfo(self.body_id, i) for i in range(self.dof)]\n",
    "#         self.joint_lower_limit = np.asarray(\n",
    "#             [j[JOINT_INFO_DICT[\"jointLowerLimit\"]] for j in joint_info])\n",
    "#         self.joint_upper_limit = np.asarray(\n",
    "#             [j[JOINT_INFO_DICT[\"jointUpperLimit\"]] for j in joint_info])\n",
    "#         self.joint_range = self.joint_upper_limit-self.joint_lower_limit\n",
    "\n",
    "    def getContactPoints(self,joint_pos):\n",
    "        \"\"\"\n",
    "        get contact points info given joint position in rad\n",
    "        ref:https://docs.google.com/document/d/10sXEhzFRSnvFcl3XxNGhnD4N2SedqwdAvK3dsihxVUA/edit#heading=h.cb0co8y2vuvc\n",
    "        \"\"\"\n",
    "        for i in range(self.dof):\n",
    "            self._p.resetJointState(self.body_id, i, joint_pos[i],0)\n",
    "        self._p.performCollisionDetection()\n",
    "        return self._p.getContactPoints()\n",
    "        \n",
    "    def __del__(self):\n",
    "        self._p.disconnect()\n",
    "#         print(\"deleted\")"
   ]
  },
  {
   "cell_type": "code",
   "execution_count": 19,
   "metadata": {
    "ExecuteTime": {
     "end_time": "2021-04-30T06:50:25.487500Z",
     "start_time": "2021-04-30T06:50:25.439479Z"
    }
   },
   "outputs": [
    {
     "data": {
      "text/plain": [
       "((0,\n",
       "  0,\n",
       "  0,\n",
       "  2,\n",
       "  7,\n",
       "  (-0.16310292172909496, 0.17340051686952046, 0.0008079999932084465),\n",
       "  (-0.16310292172909496, 0.17340051686952013, -0.028703000232577013),\n",
       "  (0.0, -1.152132420758723e-14, -1.0),\n",
       "  -0.02951100022578546,\n",
       "  0.0,\n",
       "  0.0,\n",
       "  (0.0, 1.0, -1.152132420758723e-14),\n",
       "  0.0,\n",
       "  (1.0, 0.0, 0.0)),\n",
       " (0,\n",
       "  0,\n",
       "  0,\n",
       "  2,\n",
       "  7,\n",
       "  (-0.19713136319032892, 0.171275075357602, 0.0008079999932087521),\n",
       "  (-0.19713136319032895, 0.171275075357602, -0.028703000232577325),\n",
       "  (4.702581309219178e-16, 0.0, -0.9999999999999999),\n",
       "  -0.029511000225786073,\n",
       "  0.0,\n",
       "  0.0,\n",
       "  (0.0, 1.0, 0.0),\n",
       "  0.0,\n",
       "  (1.0, -0.0, 4.702581309219178e-16)),\n",
       " (0,\n",
       "  0,\n",
       "  0,\n",
       "  2,\n",
       "  7,\n",
       "  (-0.16414212925766475, 0.17349046415387548, -0.0011920000067912084),\n",
       "  (-0.16414212925766475, 0.17349046415387545, 0.028661999687552415),\n",
       "  (0.0, -9.2971045420382e-16, 1.0),\n",
       "  -0.029853999694343623,\n",
       "  0.0,\n",
       "  0.0,\n",
       "  (0.0, -1.0, -9.2971045420382e-16),\n",
       "  0.0,\n",
       "  (1.0, 0.0, -0.0)),\n",
       " (0,\n",
       "  0,\n",
       "  0,\n",
       "  2,\n",
       "  7,\n",
       "  (-0.1741239999059053, 0.18871021475440683, -0.0011920000067912205),\n",
       "  (-0.17412399990590527, 0.18871021475440683, 0.02866199968755243),\n",
       "  (9.297104542038192e-16, 0.0, 1.0),\n",
       "  -0.029853999694343648,\n",
       "  0.0,\n",
       "  0.0,\n",
       "  (0.0, -1.0, 0.0),\n",
       "  0.0,\n",
       "  (1.0, -0.0, -9.297104542038192e-16)),\n",
       " (0,\n",
       "  0,\n",
       "  0,\n",
       "  2,\n",
       "  7,\n",
       "  (-0.20513239814540635, 0.2069409749905403, -0.011671884963841504),\n",
       "  (-0.2052170001939145, 0.19848105214842773, -0.011671884963841828),\n",
       "  (-0.00999983333416065, -0.9999500004166655, -3.875287636518326e-14),\n",
       "  -0.008460345855880217,\n",
       "  0.0,\n",
       "  0.0,\n",
       "  (0.9999500004166655, -0.00999983333416065, 0.0),\n",
       "  0.0,\n",
       "  (-3.87522304871166e-16, -3.8750938737511987e-14, 1.0000000000000002)),\n",
       " (0,\n",
       "  0,\n",
       "  0,\n",
       "  2,\n",
       "  7,\n",
       "  (-0.20513239844725453, 0.20694097499355962, 0.009983413861798221),\n",
       "  (-0.20521700049576277, 0.19848105215144554, 0.009983413861798204),\n",
       "  (-0.009999833334168685, -0.9999500004166653, -2.460500086677858e-15),\n",
       "  -0.008460345855881743,\n",
       "  0.0,\n",
       "  0.0,\n",
       "  (0.9999500004166653, -0.009999833334168685, 0.0),\n",
       "  0.0,\n",
       "  (-2.4604590785486184e-17, -2.4603770626987287e-15, 1.0)),\n",
       " (0,\n",
       "  0,\n",
       "  0,\n",
       "  2,\n",
       "  6,\n",
       "  (-0.17244589143375516, 0.1442269799773127, -0.009844932728586683),\n",
       "  (-0.17243630142349667, 0.14518594903625193, -0.009844932728586693),\n",
       "  (0.009999833334156142, 0.9999500004166654, -6.6657130486269965e-15),\n",
       "  -0.0009590170093900986,\n",
       "  0.0,\n",
       "  0.0,\n",
       "  (-0.9999500004166654, 0.009999833334156142, 0.0),\n",
       "  0.0,\n",
       "  (6.66560195395798e-17, 6.665379765751937e-15, 1.0)),\n",
       " (0,\n",
       "  0,\n",
       "  0,\n",
       "  2,\n",
       "  6,\n",
       "  (-0.17244589143375516, 0.1442269799773127, 0.019259773920294064),\n",
       "  (-0.17243630142349667, 0.14518594903625193, 0.019259773920294057),\n",
       "  (0.00999983333415621, 0.9999500004166654, -3.3328565243135203e-15),\n",
       "  -0.0009590170093900986,\n",
       "  0.0,\n",
       "  0.0,\n",
       "  (-0.9999500004166654, 0.00999983333415621, 0.0),\n",
       "  0.0,\n",
       "  (3.3328009769790344e-17, 3.3326898828759906e-15, 1.0)))"
      ]
     },
     "execution_count": 19,
     "metadata": {},
     "output_type": "execute_result"
    }
   ],
   "source": [
    "joint_pos = [0, \n",
    "             -np.pi/2+0.01, \n",
    "             0, \n",
    "             \n",
    "             0, \n",
    "             0, \n",
    "             0, \n",
    "             \n",
    "             0, \n",
    "             0,\n",
    "             0, \n",
    "             \n",
    "             0, \n",
    "             0, \n",
    "             0\n",
    "            ]\n",
    "\n",
    "detect = BulletCollisionDetect()\n",
    "detect.getContactPoints(joint_pos)"
   ]
  },
  {
   "cell_type": "code",
   "execution_count": 1,
   "metadata": {
    "ExecuteTime": {
     "end_time": "2021-04-30T05:50:59.912897Z",
     "start_time": "2021-04-30T05:50:59.685842Z"
    }
   },
   "outputs": [
    {
     "name": "stdout",
     "output_type": "stream",
     "text": [
      "[-3.14159265 -1.74532925 -1.57079633 -3.14159265 -1.74532925 -1.57079633\n",
      " -3.14159265 -1.74532925 -1.57079633 -3.14159265 -1.74532925 -1.57079633] \n",
      " [3.14159265 1.74532925 1.57079633 3.14159265 1.74532925 1.57079633\n",
      " 3.14159265 1.74532925 1.57079633 3.14159265 1.74532925 1.57079633]\n"
     ]
    }
   ],
   "source": [
    "\n",
    "import numpy as np\n",
    "import os\n",
    "import pybullet as p\n",
    "# import pybullet_data\n",
    "# import math\n",
    "# import time\n",
    "PI = np.pi\n",
    "\n",
    "# load urdf and set initial state for pybullet\n",
    "urdf_dir = \"../../data/urdf/test\"\n",
    "robot_path = os.path.abspath(f\"{urdf_dir}/robot.urdf\")\n",
    "\n",
    "\n",
    "physics_client = p.connect(p.DIRECT)  # p.GUI\n",
    "# physics_client = p.connect(p.GUI)#\n",
    "\n",
    "\n",
    "mode = p.POSITION_CONTROL\n",
    "p.setGravity(0, 0, 0)\n",
    "# p.setAdditionalSearchPath(pybullet_data.getDataPath())\n",
    "# p.loadURDF(\"plane.urdf\")\n",
    "# robot_start_pos = [0, 0, 0]\n",
    "# robot_start_orientation = p.getQuaternionFromEuler([0, -PI / 2, 0])  # make robot vertical\n",
    "robot_id = p.loadURDF(robot_path,\n",
    "#                       robot_start_pos,\n",
    "#                       robot_start_orientation,\n",
    "                      useFixedBase=1,\n",
    "                      flags=p.URDF_USE_SELF_COLLISION,\n",
    "                      physicsClientId=physics_client)  # load urdf\n",
    "dof = p.getNumJoints(robot_id)\n",
    "\n",
    "\n",
    "JOINT_INFO_DICT = {name: i for i, name in enumerate([\n",
    "     \"jointIndex\", \"jointName\", \"jointType\", \"qIndex\", \"uIndex\",\n",
    "     \"flags\", \"jointDamping\", \"jointFriction\", \"jointLowerLimit\",\n",
    "     \"jointUpperLimit\", \"jointMaxForce\", \"jointMaxVelocity\", \"linkName\",\n",
    "     \"jointAxis\", \"parentFramePos\", \"parentFrameOrn\", \"parentIndex\"])}\n",
    "\n",
    "joint_info = [p.getJointInfo(robot_id, i) for i in range(dof)]\n",
    "joint_lower_limit = np.asarray(\n",
    "    [j[JOINT_INFO_DICT[\"jointLowerLimit\"]] for j in joint_info])\n",
    "joint_upper_limit = np.asarray(\n",
    "    [j[JOINT_INFO_DICT[\"jointUpperLimit\"]] for j in joint_info])\n",
    "joint_range = joint_upper_limit-joint_lower_limit\n",
    "# motor index\n",
    "# 0 1 2 upper left\n",
    "# 3 4 5 upper right\n",
    "# 6 7 8 lower left\n",
    "# 9 10 11 lower right\n",
    "print(joint_lower_limit, \"\\n\", joint_upper_limit)"
   ]
  },
  {
   "cell_type": "code",
   "execution_count": 2,
   "metadata": {
    "ExecuteTime": {
     "end_time": "2021-04-30T05:51:01.098000Z",
     "start_time": "2021-04-30T05:51:01.092000Z"
    }
   },
   "outputs": [],
   "source": [
    "random_seed = 42\n",
    "rng = np.random.default_rng(random_seed)"
   ]
  },
  {
   "cell_type": "code",
   "execution_count": 3,
   "metadata": {
    "ExecuteTime": {
     "end_time": "2021-04-30T05:51:01.938493Z",
     "start_time": "2021-04-30T05:51:01.924496Z"
    }
   },
   "outputs": [],
   "source": [
    "# contact = ()\n",
    "# while len(contact)==0:\n",
    "    \n",
    "joint_pos = [0, \n",
    "             -np.pi/2+0.01, \n",
    "             0, \n",
    "             \n",
    "             0, \n",
    "             0, \n",
    "             0, \n",
    "             \n",
    "             0, \n",
    "             0,\n",
    "             0, \n",
    "             \n",
    "             0, \n",
    "             0, \n",
    "             0\n",
    "            ]\n",
    "# joint_pos = joint_lower_limit + rng.random(dof)*joint_range\n",
    "# joint_pos_cos_sin = np.empty(dof*2, dtype=np.float32)\n",
    "# joint_pos_cos_sin[0::2] = np.cos(joint_pos)\n",
    "# joint_pos_cos_sin[1::2] = np.sin(joint_pos)\n",
    "def test():\n",
    "    for i in range(dof):\n",
    "        p.resetJointState(robot_id, i, joint_pos[i],physicsClientId = physics_client)\n",
    "    # p.stepSimulation()\n",
    "    p.performCollisionDetection(physics_client)\n",
    "    contact = p.getContactPoints()\n",
    "\n",
    "# contact = p.getClosestPoints(robot_id,robot_id,1,-1,6)\n",
    "# contact"
   ]
  },
  {
   "cell_type": "code",
   "execution_count": 4,
   "metadata": {
    "ExecuteTime": {
     "end_time": "2021-04-30T05:51:12.416229Z",
     "start_time": "2021-04-30T05:51:03.325052Z"
    }
   },
   "outputs": [
    {
     "name": "stdout",
     "output_type": "stream",
     "text": [
      "111 µs ± 631 ns per loop (mean ± std. dev. of 7 runs, 10000 loops each)\n"
     ]
    }
   ],
   "source": [
    "%timeit test()"
   ]
  },
  {
   "cell_type": "code",
   "execution_count": 1,
   "metadata": {
    "ExecuteTime": {
     "end_time": "2021-05-09T22:05:46.832124Z",
     "start_time": "2021-05-09T22:05:44.988800Z"
    }
   },
   "outputs": [],
   "source": [
    "import torch"
   ]
  },
  {
   "cell_type": "code",
   "execution_count": 7,
   "metadata": {
    "ExecuteTime": {
     "end_time": "2021-05-09T22:07:25.980897Z",
     "start_time": "2021-05-09T22:07:25.967884Z"
    }
   },
   "outputs": [
    {
     "data": {
      "text/plain": [
       "tensor([1, 2, 3, 4])"
      ]
     },
     "execution_count": 7,
     "metadata": {},
     "output_type": "execute_result"
    }
   ],
   "source": [
    "x = torch.tensor([1, 2, 3, 4])\n",
    "y = torch.unsqueeze(x, 1)\n",
    "x"
   ]
  },
  {
   "cell_type": "code",
   "execution_count": 8,
   "metadata": {
    "ExecuteTime": {
     "end_time": "2021-05-09T22:07:29.759689Z",
     "start_time": "2021-05-09T22:07:29.750903Z"
    }
   },
   "outputs": [
    {
     "data": {
      "text/plain": [
       "2"
      ]
     },
     "execution_count": 8,
     "metadata": {},
     "output_type": "execute_result"
    }
   ],
   "source": [
    "y.dim()"
   ]
  },
  {
   "cell_type": "code",
   "execution_count": 16,
   "metadata": {
    "ExecuteTime": {
     "end_time": "2021-05-15T22:47:02.957267Z",
     "start_time": "2021-05-15T22:47:02.948273Z"
    }
   },
   "outputs": [],
   "source": [
    "class trainMode(object):\n",
    "    def __init__(self,*args, mode=\"train\"):\n",
    "        self.mode=mode\n",
    "        self.args = args\n",
    "    def __enter__(self):\n",
    "        print(self.args)\n",
    "        print(self.mode)\n",
    "    def __exit__(self, *args):\n",
    "        print(\"exit\")\n",
    "\n",
    "class evalMode(trainMode):\n",
    "    def __init__(self):\n",
    "        super(type(self),self).__init__(mode = \"eval\")"
   ]
  },
  {
   "cell_type": "code",
   "execution_count": 18,
   "metadata": {
    "ExecuteTime": {
     "end_time": "2021-05-15T22:47:14.316245Z",
     "start_time": "2021-05-15T22:47:14.307253Z"
    }
   },
   "outputs": [
    {
     "name": "stdout",
     "output_type": "stream",
     "text": [
      "(2, 3, 4)\n",
      "1\n",
      "exit\n"
     ]
    }
   ],
   "source": [
    "with trainMode(1,2,3,4):\n",
    "    pass"
   ]
  },
  {
   "cell_type": "code",
   "execution_count": 15,
   "metadata": {
    "ExecuteTime": {
     "end_time": "2021-05-15T22:43:13.863802Z",
     "start_time": "2021-05-15T22:43:13.845701Z"
    }
   },
   "outputs": [
    {
     "name": "stdout",
     "output_type": "stream",
     "text": [
      "()\n",
      "eval\n",
      "exit\n"
     ]
    }
   ],
   "source": [
    "with evalMode():\n",
    "    pass"
   ]
  },
  {
   "cell_type": "code",
   "execution_count": 1,
   "metadata": {},
   "outputs": [],
   "source": [
    "import torch"
   ]
  },
  {
   "cell_type": "code",
   "execution_count": 15,
   "metadata": {},
   "outputs": [],
   "source": [
    "a = torch.tensor([2,3,4],dtype=torch.float,device=\"cuda\")"
   ]
  },
  {
   "cell_type": "code",
   "execution_count": 14,
   "metadata": {},
   "outputs": [
    {
     "output_type": "execute_result",
     "data": {
      "text/plain": [
       "tensor([[[2., 3., 4.]]], device='cuda:0')"
      ]
     },
     "metadata": {},
     "execution_count": 14
    }
   ],
   "source": [
    "a.unsqueeze(0)"
   ]
  }
 ],
 "metadata": {
  "kernelspec": {
   "name": "python388jvsc74a57bd01bf1a301b3931d8d20b03100ed64d2b34cd7ae0adf9ff5e9a7702fcd4fe6a7c7",
   "display_name": "Python 3.8.8 64-bit ('flexipod': conda)"
  },
  "language_info": {
   "codemirror_mode": {
    "name": "ipython",
    "version": 3
   },
   "file_extension": ".py",
   "mimetype": "text/x-python",
   "name": "python",
   "nbconvert_exporter": "python",
   "pygments_lexer": "ipython3",
   "version": "3.8.8"
  }
 },
 "nbformat": 4,
 "nbformat_minor": 4
}