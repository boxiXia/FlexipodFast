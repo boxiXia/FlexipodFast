{
 "cells": [
  {
   "cell_type": "code",
   "execution_count": 1,
   "id": "7cf9112d",
   "metadata": {
    "ExecuteTime": {
     "end_time": "2021-10-05T03:27:23.969596Z",
     "start_time": "2021-10-05T03:27:16.127840Z"
    }
   },
   "outputs": [
    {
     "name": "stdout",
     "output_type": "stream",
     "text": [
      "setting humanoid_task=True\n",
      "spring_strain size==0, removed from OBS_DICT\n",
      "Loading robot graph takes 5.4 s.\n",
      "-455.844415096121\n",
      "-455.844415096121\n"
     ]
    }
   ],
   "source": [
    "import gym\n",
    "import subprocess\n",
    "import time\n",
    "import numpy as np\n",
    "from collections import defaultdict\n",
    "import msgpack\n",
    "import os\n",
    "import pickle\n",
    "import pybullet\n",
    "from pybullet_utils.bullet_client import BulletClient\n",
    "from udp_server import UDPServer\n",
    "from operator import itemgetter\n",
    "\n",
    "def linearMinMaxConversionCoefficient(a,b,c,d):\n",
    "    \"\"\"\n",
    "    linear conversion from [a,b] to [c,d] using y = kx + m,\n",
    "    return coefficient k,m\n",
    "    \"\"\"\n",
    "    k = (d - c)/(b-a)\n",
    "    m = c - a*k\n",
    "    return k,m\n",
    "\n",
    "def linearMapFcn(a,b,c,d):\n",
    "    \"\"\"\n",
    "    return a function of the linear conversion from \n",
    "    [a,b] to [c,d] using y = kx + m,\n",
    "    \"\"\"\n",
    "    k = (d - c)/(b-a)\n",
    "    m = c - a*k\n",
    "    return lambda x:k*x +m\n",
    "\n",
    "\n",
    "class BulletCollisionDetect:\n",
    "    \"\"\"\n",
    "    Helper class for collision detection using pybullet\n",
    "    \"\"\"\n",
    "    def __init__(s,gui=False,urdf_path=\"../../data/urdf/12dof/robot.urdf\"):\n",
    "        \"\"\"\n",
    "        load urdf and init the collision detection\n",
    "        \"\"\"\n",
    "        try: dir_path = os.path.dirname(os.path.abspath(__file__))\n",
    "        except NameError: dir_path = os.getcwd()\n",
    "        urdf_path=os.path.abspath(os.path.join(dir_path,urdf_path))\n",
    "        # loading using bullet_client\n",
    "        # ref: https://docs.google.com/document/d/10sXEhzFRSnvFcl3XxNGhnD4N2SedqwdAvK3dsihxVUA/edit#\n",
    "        s._p = BulletClient(pybullet.GUI if gui else pybullet.DIRECT)\n",
    "        s.body_id = s._p.loadURDF(urdf_path,\n",
    "                              useFixedBase=1,\n",
    "                              flags=pybullet.URDF_USE_SELF_COLLISION)  # load urdf\n",
    "        s.dof = s._p.getNumJoints(s.body_id)\n",
    "        # JOINT_INFO_DICT = {name: i for i, name in enumerate([\n",
    "        #  \"jointIndex\", \"jointName\", \"jointType\", \"qIndex\", \"uIndex\",\n",
    "        #  \"flags\", \"jointDamping\", \"jointFriction\", \"jointLowerLimit\",\n",
    "        #  \"jointUpperLimit\", \"jointMaxForce\", \"jointMaxVelocity\", \"linkName\",\n",
    "        #  \"jointAxis\", \"parentFramePos\", \"parentFrameOrn\", \"parentIndex\"])}\n",
    "#         joint_info = [s._p.getJointInfo(s.body_id, i) for i in range(s.dof)]\n",
    "#         s.joint_lower_limit = np.asarray(\n",
    "#             [j[JOINT_INFO_DICT[\"jointLowerLimit\"]] for j in joint_info])\n",
    "#         s.joint_upper_limit = np.asarray(\n",
    "#             [j[JOINT_INFO_DICT[\"jointUpperLimit\"]] for j in joint_info])\n",
    "#         s.joint_range = s.joint_upper_limit-s.joint_lower_limit\n",
    "\n",
    "    def getContactPoints(s,joint_pos):\n",
    "        \"\"\"get contact points info given joint position in rad\n",
    "        ref:https://docs.google.com/document/d/10sXEhzFRSnvFcl3XxNGhnD4N2SedqwdAvK3dsihxVUA/edit#heading=h.cb0co8y2vuvc\n",
    "        \"\"\"\n",
    "        for i in range(s.dof):\n",
    "            s._p.resetJointState(s.body_id, i, joint_pos[i],0)\n",
    "        s._p.performCollisionDetection()\n",
    "        return s._p.getContactPoints()\n",
    "        \n",
    "    def __del__(s):\n",
    "        s._p.disconnect()\n",
    "#         print(\"deleted\")\n",
    "\n",
    "\n",
    "class FlexipodEnv(gym.Env):\n",
    "    \"\"\"\n",
    "    openai gym compatible environment for the simulated 12DOF flexipod\n",
    "    ref: https://github.com/openai/gym/blob/master/gym/core.py\n",
    "    \"\"\"\n",
    "    # name of command message\n",
    "    CMD_NAME = (\"header\", \"t\", \"cmd\")\n",
    "    CMD_ID = defaultdict(None,{name: k  for k,name in enumerate(CMD_NAME)})\n",
    "    \n",
    "    UDP_TERMINATE = int(-1)\n",
    "    UDP_PAUSE = int(17)\n",
    "    UDP_RESUME = int(16)\n",
    "    UDP_RESET = int(15)\n",
    "    UDP_ROBOT_STATE_REPORT = int(14)\n",
    "    UDP_MOTOR_VEL_COMMEND = int(13)\n",
    "    UDP_STEP_MOTOR_VEL_COMMEND = int(12)\n",
    "    UDP_MOTOR_POS_COMMEND = int(11)\n",
    "    UDP_STEP_MOTOR_POS_COMMEND = int(10)\n",
    "    \n",
    "    \n",
    "    def __init__(\n",
    "        s, # self\n",
    "        dof:int = 12, # degress of freedom of the robot\n",
    "        num_observation:int=5, # number of observation in series\n",
    "        num_sensors:int = 0, # num of spring strain sensors\n",
    "        normalize:bool = True, # whether to normlaize the observation and action\n",
    "        max_joint_vel:float = 10, # maximum joint velocity rad/s\n",
    "        humanoid_task:bool = True, # if true, humanoid, else qurdurped\n",
    "        max_episode_steps:int = 2000,\n",
    "        max_action:float = 5, # [rad/s], velocity control\n",
    "        flatten_obs:bool = True, # whether to flatten observation\n",
    "        info = False, # bool flag to send extra information when processing messages\n",
    "        local_address = (\"127.0.0.1\",33300),\n",
    "        remote_address = (\"127.0.0.1\",33301),\n",
    "        robot_folder:str = \"../../robot/v11\" # root folder for the robot\n",
    "        ):\n",
    "        super().__init__() # init gym env\n",
    "        \n",
    "        # collision detection with pybullet\n",
    "        s.cd = BulletCollisionDetect(urdf_path=robot_folder+\"/urdf/robot.urdf\") \n",
    "        \n",
    "        # name of the returned message from simulation\n",
    "        s.REC = np.array([\n",
    "            # name,         size,         min,          max\n",
    "            (\"header\",       1,         -32768,         32768        ),\n",
    "            (\"t\",            1,         0,              np.inf       ), # simulation time [s]\n",
    "            (\"joint_pos\",    dof*2,     -1.,            1.           ), # joint cos(angle) sin(angle) [rad]\n",
    "            (\"joint_vel\",    dof,       -max_joint_vel, max_joint_vel), # joint velocity [rad/s]\n",
    "            (\"actuation\",    dof,       -1.,            1.           ), # joint actuation [-1,1]\n",
    "            (\"orientation\",  6,         -1.,            1.           ), # base link (body) orientation\n",
    "            (\"ang_vel\",      3,         -30.,           30.          ), # base link (body) angular velocity [rad/s]\n",
    "            (\"com_acc\",      3,         -30.,           30.          ), # base link (body) acceleration\n",
    "            (\"com_vel\",      3,         -2.,            2.           ), # base link (body) velocity\n",
    "            (\"com_pos\",      3.,        -1.,            1.           ), # base link (body) position\n",
    "            (\"constraint\", dof+1,         0,            1            ), # selected constraint_force/total_weight\n",
    "            (\"spring_strain\",num_sensors,-0.005,       0.005         ), # selected spring strain\n",
    "        ],dtype=[('name', 'U20'), ('size', 'i4'), ('min', 'f4'),('max', 'f4')])\n",
    "        \n",
    "        s.sensor_id = (9,12) # left_foot, right_foot, index of the mass part id\n",
    "        s.sensor_distance = 100  # distance to joint TODO need to change here..\n",
    "        \n",
    "        # selected observation\n",
    "        OBS_DICT = { # dictionary is ordered since python 3.6\n",
    "            \"joint_pos\":None,                    #0\n",
    "            \"joint_vel\":None,                    #1\n",
    "            \"actuation\":None,                    #2\n",
    "            \"orientation\":None,                  #3\n",
    "            \"ang_vel\":None,                      #4\n",
    "            \"com_acc\":None,                      #5\n",
    "            \"com_vel\":None,                      #6\n",
    "            \"com_pos\":(2,), # com-z              #7\n",
    "            \"constraint\":s.sensor_id,            #8\n",
    "            \"spring_strain\":None,                #9\n",
    "        }\n",
    "        \n",
    "        s.humanoid_task = humanoid_task\n",
    "            \n",
    "        s.dof = dof # num joints\n",
    "        s.num_observation = num_observation\n",
    "        s.normalize = normalize\n",
    "        s.flatten_obs = flatten_obs # True\n",
    "        s.info = info # bool flag to send info\n",
    "        s._max_episode_steps = max_episode_steps # maximum episode steps\n",
    "        \n",
    "        s.joint_pos = np.empty(dof,dtype=np.float32) # joint position [rad]\n",
    "        s.episode_steps = 0 # curret step in an episode\n",
    "\n",
    "        s.ID =defaultdict(None,{name: k  for k,name in enumerate(s.REC[\"name\"])})\n",
    "        s.ID_t = s.ID['t']\n",
    "        s.ID_joint_pos = s.ID['joint_pos']\n",
    "        s.ID_joint_vel = s.ID['joint_vel']\n",
    "        s.ID_actuation = s.ID['actuation']\n",
    "        s.ID_orientation = s.ID['orientation']\n",
    "        s.ID_com_vel = s.ID['com_vel']\n",
    "        s.ID_com_acc = s.ID['com_acc']\n",
    "        s.ID_com_pos = s.ID['com_pos']\n",
    "        s.ID_constraint = s.ID['constraint']\n",
    "        \n",
    "        # TODO-> position control\n",
    "        max_action = 0.2*max_action\n",
    "        \n",
    "        s._initObsACt(max_action,s.REC,OBS_DICT) # initialize the observation and action space\n",
    "        \n",
    "        # defualt packer # https://msgpack-python.readthedocs.io/en/latest/api.html#msgpack.Packer\n",
    "        s.packer = msgpack.Packer(use_single_float=True, use_bin_type=True)\n",
    "        \n",
    "        # simulation specific commend\n",
    "        s.reset_cmd_b =  s.packer.pack([s.UDP_RESET])\n",
    "        s.pause_cmd_b =  s.packer.pack([s.UDP_PAUSE])\n",
    "        s.resume_cmd_b = s.packer.pack([s.UDP_RESUME])\n",
    "        s.close_cmd_b =  s.packer.pack([s.UDP_TERMINATE])\n",
    "        \n",
    "        s.server = UDPServer(local_address,remote_address)\n",
    "\n",
    "        s._initRobotGraph(robot_folder)\n",
    "        # start the simulation\n",
    "        s.start()\n",
    "        \n",
    "        \n",
    "    def _initRobotGraph(s,robot_folder):\n",
    "        \"\"\"initialized and load the robot graph from file\"\"\"\n",
    "        if not os.path.isabs(robot_folder): # absolute path or not\n",
    "            try:base_dir =  os.path.dirname(__file__) # file location\n",
    "            except NameError:base_dir = os.getcwd()\n",
    "            robot_folder = os.path.abspath(os.path.join(base_dir,robot_folder))\n",
    "        \n",
    "        _t= time.time()\n",
    "        with open(f\"{robot_folder}//robot.pickle\",\"rb\") as f:\n",
    "            s.graph = pickle.load(f)\n",
    "        print(f\"Loading robot graph takes {time.time()-_t:.1f} s.\")\n",
    "        s.t_sensor = np.eye(4)\n",
    "        s.t_sensor[:3,3] = [0,0,-s.sensor_distance] # TODO\n",
    "        \n",
    "        s.node_sensor = itemgetter(*s.sensor_id)(s.graph.nodes)#node_left_foot,node_right_foot\n",
    "        \n",
    "        # t= eye(4), world thransform equivalent to root space transfrom\n",
    "        s.joint_pos = s.graph.getJointPosArrFast()\n",
    "        s.graph.setJointPosArrFast(s.joint_pos) # set initial joint pos to graph.joint_pos\n",
    "        s.graph.updateWorldTransformFast(np.eye(4))\n",
    "        # sensor x position in the robot root space\n",
    "        \n",
    "        s.t_world_left_foot_sensor_x0 = (s.node_sensor[0][\"world_transform\"]@s.t_sensor)[0,3] # x\n",
    "        s.t_world_right_foot_sensor_x0 = (s.node_sensor[1][\"world_transform\"]@s.t_sensor)[0,3]\n",
    "        with np.printoptions(precision=2, suppress=True, threshold=5):\n",
    "            print(s.t_world_left_foot_sensor_x0)\n",
    "            print(s.t_world_right_foot_sensor_x0)\n",
    "        \n",
    "        from phase_indication import phaseIndicatorPair\n",
    "        s.phase_indicator_pair_0 = phaseIndicatorPair(a=0.3, b=0.7, s=0.05, t0=0.25, t1=0.75, ys = -1., y0=0.)\n",
    "        s.phase_indicator_pair_1 = phaseIndicatorPair(a=0.25, b=0.75, s=0.05, t0=0.25, t1=0.75, ys = 2., y0=-1.)\n",
    "    \n",
    "    def cyclicReward(s,t_normalized):\n",
    "        s.graph.setJointPosArrFast(s.joint_pos)\n",
    "        s.graph.updateWorldTransformFast(np.eye(4))\n",
    "\n",
    "        # indicator for foot force\n",
    "        i0_0,i0_1= s.phase_indicator_pair_0.get(t_normalized)\n",
    "        # indicator for foot forward displacemnt relative to body, input to the example gait generator\n",
    "        i1_0,i1_1= s.phase_indicator_pair_1.get(t_normalized) \n",
    "\n",
    "        # s.sensor_force\n",
    "        # when left foot is raised, left foot sensor force should be 0, \n",
    "        # penalize foot force cyclically \n",
    "        c0_0 = min(1,s.sensor_force[0]) # left foot, keep max at 1\n",
    "        c0_1 = min(1,s.sensor_force[1]) # right foot\n",
    "        r0 = i0_0*c0_0+i0_1*c0_1\n",
    "        # r0_0 = c0_0*i0_0\n",
    "        # r0_1 = c0_1*i0_1\n",
    "\n",
    "        # body_space_left_foot_sensor_pos = (s.node_sensor[0][\"world_transform\"]@s.t_sensor)[:3,3]\n",
    "        # body_space_right_foot_sensor_pos = (s.node_sensor[1][\"world_transform\"]@s.t_sensor)[:3,3]\n",
    "        # with np.printoptions(precision=3, suppress=True):\n",
    "        #     print(body_space_left_foot_sensor_pos)\n",
    "        #     print(body_space_right_foot_sensor_pos)\n",
    "            \n",
    "        # body space left  foot sensor forward displacement / normalizaton_coefficient\n",
    "        c1_0 = -(s.node_sensor[0][\"world_transform\"]@s.t_sensor)[2,3]/100.\n",
    "        # body space right foot sensor forward displacement / normalizaton_coefficient\n",
    "        c1_1 = -(s.node_sensor[1][\"world_transform\"]@s.t_sensor)[2,3]/100.\n",
    "        # print(f\"c1_0, c1_1={c1_0:.3f},{c1_1:.3f}\")\n",
    "        c1_0 = max(-1,min(1,c1_0)) # clamp to [-1,1]\n",
    "        c1_1 = max(-1,min(1,c1_1)) # clamp to [-1,1]\n",
    "        r1 = i1_0*c1_0+i1_1*c1_1\n",
    "        # r1_0 = i1_0*c1_0\n",
    "        # r1_1 = i1_1*c1_1\n",
    "        \n",
    "        # # indicator 0\n",
    "        # print(f\"i0_0, i0_1={i0_0:.3f}, {i0_1:.3f}\")\n",
    "        # print(f\"c0_0, c0_1={c0_0:.3f}, {c0_1:.3f}\")\n",
    "        # print(f\"r0_0, r0_1={r0_0:.3f}, {r0_1:.3f}\")\n",
    "        # print(f\"r0={r0:+5.3f}\")\n",
    "        # # indicator 1\n",
    "        # print(f\"i1_0, i1_1={i1_0:+5.3f}, {i1_1:+5.3f}\")\n",
    "        # print(f\"c1_0, c1_1={c1_0:+5.3f},{c1_1:+5.3f} (clamp to [-1,1])\")\n",
    "        # print(f\"r1_0, r1_1={r1_0:+5.3f}, {r1_1:+5.3f}\")\n",
    "        # print(f\"r1={r1:+5.3f}\")\n",
    "        \n",
    "        r_cyclic = (0.9+0.5*r0)*(0.9+0.5*r1)\n",
    "        return r_cyclic\n",
    "        \n",
    "    def _initObsACt(s,max_action,REC,OBS_DICT):\n",
    "        \"\"\"helper function to initialize the observation and action space\"\"\"\n",
    "        for key in list(OBS_DICT): # remove item with zero size\n",
    "            if s.REC[\"size\"][s.ID[key]]==0:\n",
    "                print(f\"{key} size==0, removed from OBS_DICT\")\n",
    "                OBS_DICT.pop(key)\n",
    "        s.OBS_NAME = tuple(OBS_DICT.keys()) # keys in OBS_DICT\n",
    "        s.OBS_IDS = tuple(s.ID[n] for n in s.OBS_NAME) # indices of the OBS\n",
    "        s.OBS_ITEM_SLICE = tuple(OBS_DICT.values()) # indices of each item in OBS_DICT\n",
    "        \n",
    "        def conditional_flatten(msg_i):\n",
    "            \"\"\"helper to conditionally flatten a list of list\"\"\"\n",
    "            flattend = []\n",
    "            for item,item_slice in zip(itemgetter(*s.OBS_IDS)(msg_i),s.OBS_ITEM_SLICE):\n",
    "                try: # check if item is not single number\n",
    "                    len(item) # len>1\n",
    "                    if item_slice is not None:\n",
    "                        item = itemgetter(*item_slice)(item)\n",
    "                    try:\n",
    "                        len(item) # len>1\n",
    "                        flattend.extend(item)# not single number\n",
    "                    except TypeError: # single number\n",
    "                        flattend.append(item) # single number\n",
    "                except TypeError: # single number\n",
    "                    flattend.append(item)\n",
    "            return flattend\n",
    "        s.conditional_flatten = conditional_flatten\n",
    "        \n",
    "        # raw min/max observation\n",
    "        s.raw_min_obs = np.hstack([ # raw max observation (from simulation)\n",
    "            np.ones(REC[\"size\"][s.ID[n]] if OBS_DICT[n] is None else len(OBS_DICT[n])\n",
    "                   )*REC[\"min\"][s.ID[n]]for n in s.OBS_NAME]).astype(np.float32)\n",
    "        s.raw_max_obs = np.hstack([ # raw max observation (from simulation)\n",
    "            np.ones(REC[\"size\"][s.ID[n]] if OBS_DICT[n] is None else len(OBS_DICT[n])\n",
    "                   )*REC[\"max\"][s.ID[n]]for n in s.OBS_NAME]).astype(np.float32)\n",
    "\n",
    "        # multiple observation per network input\n",
    "        s.raw_min_obs = np.tile(s.raw_min_obs,(s.num_observation,1))\n",
    "        s.raw_max_obs = np.tile(s.raw_max_obs,(s.num_observation,1))\n",
    "        \n",
    "        \n",
    "        if s.flatten_obs:# whether to flatten the observation\n",
    "            s.raw_min_obs = s.raw_min_obs.ravel()\n",
    "            s.raw_max_obs = s.raw_max_obs.ravel()\n",
    "            \n",
    "            # TODO MAKE IT CYCLIC\n",
    "            s.raw_min_obs = np.append(s.raw_min_obs,[0]).astype(np.float32)\n",
    "            s.raw_max_obs = np.append(s.raw_max_obs,[1]).astype(np.float32)\n",
    "            \n",
    "        # raw min/max action for all motors # [rad/s]\n",
    "        s.raw_min_act = - max_action*np.ones(s.dof,dtype=np.float32)\n",
    "        s.raw_max_act =   max_action*np.ones(s.dof,dtype=np.float32)\n",
    "        \n",
    "        if s.normalize: # conditionally normalize the action space\n",
    "            s.action_space = gym.spaces.Box(low = - np.ones_like(s.raw_min_act),high = np.ones_like(s.raw_max_act))\n",
    "            s.observation_space = gym.spaces.Box(low = - np.ones_like(s.raw_min_obs),high = np.ones_like(s.raw_max_obs))\n",
    "            # action conversion from normalized to raw: y = kx + m\n",
    "            s.toRawAction = linearMapFcn(-1.0,1.0,s.raw_min_act,s.raw_max_act)\n",
    "            # action conversion from raw to normalized: nor - normalized\n",
    "            s.toNormalizedAction = linearMapFcn(s.raw_min_act,s.raw_max_act,-1.0,1.0)            \n",
    "            # observation from normalized to raw:\n",
    "            s.toRawObservation = linearMapFcn(-1.0, 1.0,s.raw_min_obs,s.raw_max_obs)            \n",
    "            # observation from raw to normalized:\n",
    "            s.toNormalizedObservation = linearMapFcn(s.raw_min_obs,s.raw_max_obs,-1.0,1.0)\n",
    "        else: # raw action and observation\n",
    "            s.action_space = gym.spaces.Box(low = s.raw_min_act,high = s.raw_max_act)\n",
    "            s.observation_space = gym.spaces.Box(low = s.raw_min_obs,high = s.raw_max_obs)\n",
    "        \n",
    "    def __del__(s): # Deleting (Calling destructor) \n",
    "        print(f'Destructor called, {s.__class__} deleted.')\n",
    "#         s.close()\n",
    "    \n",
    "    \n",
    "    # def exampleAction(s):\n",
    "    #     \"\"\"walking example\"\"\"\n",
    "    #     pi = np.pi\n",
    "    #     p_f_b0 = -pi/6 # font arm body-0\n",
    "    #     p_f_01 = pi/3 # front arm 01\n",
    "    #     p_f_12 = -pi/4 # front arm 12\n",
    "    #     n0 = pi/90 # body incline\n",
    "    #     # n0 = 0 # body incline\n",
    "        \n",
    "    #     n1 = pi/9.5\n",
    "    #     n2 = pi/12\n",
    "    #     while True:\n",
    "    #         for p_bl_b0,p_br_b0 in zip([n2,n1,n2],[n1,n2,n1]):\n",
    "\n",
    "    #             p_bl_01 = -p_bl_b0*2\n",
    "    #             p_br_01 = -p_br_b0*2\n",
    "\n",
    "    #             p_bl_12 = p_bl_b0\n",
    "    #             p_br_12 = p_br_b0\n",
    "\n",
    "    #             joint_pos = np.array([\n",
    "    #                 # front left\n",
    "    #                     -p_f_b0,\n",
    "    #                     -p_f_01,\n",
    "    #                     -p_f_12,\n",
    "    #                 # front right\n",
    "    #                     p_f_b0,\n",
    "    #                     p_f_01,\n",
    "    #                     p_f_12,\n",
    "    #                 # back left\n",
    "    #                     -p_bl_b0-n0,\n",
    "    #                     -p_bl_01,\n",
    "    #                     -p_bl_12,\n",
    "    #                 #back right\n",
    "    #                     p_br_b0+n0,\n",
    "    #                     p_br_01,\n",
    "    #                     p_br_12,\n",
    "    #             ])\n",
    "\n",
    "    #             while True:\n",
    "    #                 delta_p = 1.5*(joint_pos-s.joint_pos)\n",
    "    #                 if np.linalg.norm(delta_p)>4e-2:\n",
    "    #                     yield delta_p\n",
    "    #                 else:\n",
    "    #                     break\n",
    "\n",
    "    def exampleAction(s):\n",
    "        pi = np.pi\n",
    "        p_f_b0 = pi/24 # font arm body-0\n",
    "        p_f_01 = pi/3 # front arm 01\n",
    "        p_f_12 = -pi/12 # front arm 12\n",
    "        p_b0_base = pi/8 # back leg body-0\n",
    "        while True:\n",
    "            # indicator for foot force\n",
    "            i0_0,i0_1= s.phase_indicator_pair_0.get(s.t_normalized)\n",
    "            # indicator for foot forward displacemnt relative to body, input to the example gait generator\n",
    "            i1_0,i1_1= s.phase_indicator_pair_1.get(s.t_normalized)\n",
    "            \n",
    "            i0 = i1_0 # use phase_indicator_pair_1\n",
    "            i1 = i1_1\n",
    "            \n",
    "            p_bl_b0 =p_b0_base+i0*0.08\n",
    "            p_br_b0 =p_b0_base+i1*0.08\n",
    "\n",
    "            p_bl_01 = -p_bl_b0*2\n",
    "            p_br_01 = -p_br_b0*2\n",
    "\n",
    "            p_bl_12 = p_bl_b0\n",
    "            p_br_12 = p_br_b0\n",
    "\n",
    "            joint_pos = np.array([\n",
    "                # front left\n",
    "                    -p_f_b0,\n",
    "                    -p_f_01,\n",
    "                    -p_f_12,\n",
    "                # front right\n",
    "                    p_f_b0,\n",
    "                    p_f_01,\n",
    "                    p_f_12,\n",
    "                # back left\n",
    "                    -p_bl_b0 - i0*0.08 ,\n",
    "                    -p_bl_01,\n",
    "                    -p_bl_12,\n",
    "                #back right\n",
    "                    p_br_b0 + i1*0.08,\n",
    "                    p_br_01,\n",
    "                    p_br_12,\n",
    "            ])\n",
    "            \n",
    "            delta_p = 1*(joint_pos-s.joint_pos)\n",
    "            yield delta_p\n",
    "\n",
    "    @property\n",
    "    def humanoid_task(s):\n",
    "        return s._humanoid_task\n",
    "    \n",
    "    @humanoid_task.setter\n",
    "    def humanoid_task(s,is_humanoid:bool):\n",
    "        print(f\"setting humanoid_task={is_humanoid}\")\n",
    "        s._humanoid_task = is_humanoid\n",
    "        pi = np.pi\n",
    "        if is_humanoid:\n",
    "            # s.joint_pos_limit = np.array([ v9\n",
    "            #     # front left\n",
    "            #     [-pi/1.25,pi/1.25], # 0\n",
    "            #     [-pi/2,pi/2], # 1\n",
    "            #     [-pi/2,pi/2], # 2\n",
    "            #     # front right\n",
    "            #     [-pi/1.25,pi/1.25], # 3\n",
    "            #     [-pi/2,pi/2], # 4\n",
    "            #     [-pi/2,pi/2], # 5\n",
    "            #     # back left\n",
    "            #     [-pi/3,pi/3], # 6, reduced range\n",
    "            #     [-pi/2-pi/6,-pi/2+pi/4], # 7, reduced range\n",
    "            #     [-pi/2,pi/12], # 8\n",
    "            #     # back right\n",
    "            #     [-pi/3,pi/3], # 9 , reduced range\n",
    "            #     [pi/2-pi/4,pi/2+pi/6], # 10, reduced range\n",
    "            #     [-pi/12,pi/2], # 11\n",
    "            # ], dtype=np.float32)\n",
    "            # s.com_z_min = 0.34\n",
    "            # s.com_z_offset = 0.62\n",
    "            # s.orientation_z_min = 0.56\n",
    "            \n",
    "            s.joint_pos_limit = np.array([ # v11\n",
    "                # front left\n",
    "                [-pi/1.25,pi/1.25], # 0\n",
    "                [-pi/2,pi/2], # 1\n",
    "                [-pi/2,pi/2], # 2\n",
    "                # front right\n",
    "                [-pi/1.25,pi/1.25], # 3\n",
    "                [-pi/2,pi/2], # 4\n",
    "                [-pi/2,pi/2], # 5\n",
    "                # back left\n",
    "                [-pi/3,pi/3], # 6, reduced range\n",
    "                [0,    pi/2], # 7, reduced range\n",
    "                [-pi/3,pi/3], # 8\n",
    "                # back right\n",
    "                [-pi/3,pi/3], # 9 , reduced range\n",
    "                [-pi/2,   0], # 10, reduced rrange\n",
    "                [-pi/3,pi/3], # 11\n",
    "            ], dtype=np.float32)\n",
    "            s.com_z_min = 0.34\n",
    "            s.com_z_offset = 0.56\n",
    "            s.orientation_z_min = 0.56\n",
    "            \n",
    "        else: # quadruped task\n",
    "            s.joint_pos_limit = np.array([\n",
    "                # front left, TODO: CHANGE THIS RANGE\n",
    "                [-pi,pi], # 0\n",
    "                [-pi/2,pi/2], # 1\n",
    "                [-pi/2,pi/2], # 2\n",
    "                # front right\n",
    "                [-pi,pi], # 3\n",
    "                [-pi/2,pi/2], # 4\n",
    "                [-pi/2,pi/2], # 5\n",
    "                # back left\n",
    "                [-pi/2-pi/5, pi/2+pi/5], # 6\n",
    "                [-pi/2-pi/5, pi/2+pi/5], # 7\n",
    "                [-pi/2,pi/2], # 8\n",
    "                # back right\n",
    "                [-pi/4,pi/4], # 9\n",
    "                [-pi/2-pi/5, pi/2+pi/5], # 6\n",
    "                [-pi/2-pi/5, pi/2+pi/5], # 7\n",
    "            ], dtype=np.float32)\n",
    "            s.com_z_min = 0.1\n",
    "            s.com_z_offset = 0.8\n",
    "            s.orientation_z_min = 0.56\n",
    "    \n",
    "    def act(s,action=None):\n",
    "        \"\"\"do action\"\"\"\n",
    "        if action is not None:\n",
    "            # map action -> action*max_acton\n",
    "            cmd_action = np.asarray(action,dtype=np.float32)\n",
    "            if s.normalize:\n",
    "                cmd_action = s.toRawAction(cmd_action)\n",
    "            # # position difference control\n",
    "            cmd_action += s.joint_pos # the actual position\n",
    "            \n",
    "            # if len(s.cd.getContactPoints(cmd_action))>0:\n",
    "            step_cmd_b = s.packer.pack([s.UDP_MOTOR_POS_COMMEND,time.time(),cmd_action.tolist()])\n",
    "            # step_cmd_b = s.packer.pack([s.UDP_MOTOR_VEL_COMMEND,time.time(),cmd_action.tolist()])\n",
    "            num_bytes_send = s.server.send(step_cmd_b)\n",
    "            \n",
    "    def observe(s):\n",
    "        \"\"\"observe outcome\"\"\"\n",
    "        msg_rec = s.receive()\n",
    "        s.episode_steps+=1 # update episodic step counter\n",
    "        return s._processRecMsg(msg_rec)\n",
    "    \n",
    "    def step(s,action = None):\n",
    "        # act\n",
    "        s.act(action)\n",
    "        # observe\n",
    "        return s.observe()\n",
    "    \n",
    "    def _processRecMsg(s,msg_rec,reset=False):\n",
    "        \"\"\"processed received message to state action pair\"\"\"\n",
    "        # joint_pos,joint_vel,actuation,orientation,ang_vel,com_acc,com_vel,com_pos.z\n",
    "        # observation = np.hstack(msg_i[2:-1]+[msg_i[-1][-1]]).astype(np.float32)\n",
    "        msg_rec_i = msg_rec[0]\n",
    "        t = msg_rec_i[s.ID_t] # time\n",
    "        if reset: # update episode_start_time\n",
    "            s.episode_start_time = t\n",
    "        actuation = msg_rec_i[s.ID_actuation] # actuation (size=dof) of the latest observation\n",
    "        com = msg_rec_i[s.ID_com_pos]\n",
    "        com_z = com[2]\n",
    "        # joint position (sin,cos->rad)\n",
    "        joint_pos = msg_rec_i[s.ID_joint_pos]\n",
    "        _ = np.arctan2(joint_pos[1::2],joint_pos[::2],s.joint_pos,dtype=np.float32) # setting s.joint_pos\n",
    "        # print(f\"s.joint_pos ={s.joint_pos}\")\n",
    "\n",
    "        com_acc = np.mean([m[s.ID_com_acc] for m in msg_rec],axis=0)\n",
    "\n",
    "        com_acc_norm = np.linalg.norm(com_acc)\n",
    "        r_acc = np.clip(1.3-0.1*com_acc_norm,0,1) # acceleration reward\n",
    "\n",
    "        # check if out of range\n",
    "        joint_pos_limit_check = s.joint_pos - np.clip(s.joint_pos,s.joint_pos_limit[:,0],s.joint_pos_limit[:,1])\n",
    "        joint_out_of_range_norm = np.linalg.norm(joint_pos_limit_check)\n",
    "        r_joint_limit = max(0,1.0 - joint_out_of_range_norm*10)\n",
    "        joint_out_of_range = joint_out_of_range_norm>0.1\n",
    "\n",
    "        observation = np.stack([s.conditional_flatten(msg_i) for msg_i in msg_rec]).astype(np.float32)\n",
    "#         observation = np.stack([np.hstack([v if item_slice is None else itemgetter(*item_slice)(v) \n",
    "#                                            for v,item_slice in zip(itemgetter(*s.OBS_IDS)(msg_i),s.OBS_ITEM_SLICE)]) \n",
    "#                                 for msg_i in msg]).astype(np.float32)\n",
    "        \n",
    "        if s.flatten_obs:\n",
    "            observation = observation.ravel()\n",
    "            # TODO make it cyclic\n",
    "            s.t_normalized = ((t-s.episode_start_time)*1.5)%1\n",
    "            observation = np.append(observation,[s.t_normalized]).astype(np.float32)\n",
    "            \n",
    "        if s.normalize: # normalize the observation\n",
    "            observation = s.toNormalizedObservation(observation)            \n",
    "\n",
    "        # x velocity\n",
    "        com_vel_x = sum([msg_i[s.ID_com_vel][0] for msg_i in msg_rec])/len(msg_rec)\n",
    "        # r_vel = 0.3*np.clip(com_vel_xy,0,1)+0.7 # velocity reward\n",
    "        r_vel = 3*np.clip(com_vel_x,-0.3,0.3)+1.0 # velocity reward\n",
    "\n",
    "    #         print(orientation_z,com_z)\n",
    "        # r_orientation = max(0,orientation_z)*min(com_z+0.56,1)\n",
    "        ori = msg_rec_i[s.ID_orientation]\n",
    "\n",
    "        if s._humanoid_task:\n",
    "            orientation_z = ori[2] # z_z, local x vector projected to world z direction\n",
    "        else: # quadruped task\n",
    "            orientation_z= ori[0]*ori[4] - ori[1]*ori[3] # z_z, local z vector projected to world z direction\n",
    "\n",
    "        \n",
    "        \n",
    "        r_orientation = (np.clip(orientation_z*1.02,0,1)**3)*min(com_z+s.com_z_offset,1)\n",
    "\n",
    "        # x = np.linspace(0,1,400)\n",
    "        # y = np.clip(np.cos(x*np.pi/2)/np.cos(np.pi/180*15),-1,1)**3\n",
    "        # plt.plot(x,y)\n",
    "        # print(com_z+0.56)\n",
    "        # print(msg_rec_i[s.ID_orientation])\n",
    "        \n",
    "\n",
    "        r_quad_ctrl = max(0,1-0.1 * sum(np.square(actuation))) # quad control cost\n",
    "        \n",
    "        # measured normalized constraint force\n",
    "        s.sensor_force = itemgetter(*s.sensor_id)(msg_rec_i[s.ID_constraint])\n",
    "        r_cyclic =  s.cyclicReward(s.t_normalized)\n",
    "        \n",
    "        reward =  r_orientation*r_quad_ctrl*r_vel*r_joint_limit*r_cyclic\n",
    "        \n",
    "        done = True if ((orientation_z<s.orientation_z_min)or(com_z<s.com_z_min)or(s.episode_steps>=s._max_episode_steps)) else False\n",
    "        # done = True if ((orientation_z<s.orientation_z_min)or(com_z<s.com_z_min)or(s.episode_steps>=s._max_episode_steps) or joint_out_of_range) else False\n",
    "\n",
    "        if s.info:\n",
    "            info = {'t':t,\n",
    "                    'com':com,\n",
    "                    'tn':s.t_normalized,\n",
    "                    'r_cyclic':r_cyclic,\n",
    "                    'r_vel':r_vel,\n",
    "                    'r_orientation':r_orientation,\n",
    "                    'r_quad_ctrl':r_quad_ctrl,\n",
    "                    'r_joint_limit':r_joint_limit,\n",
    "                    'r_acc':r_acc,\n",
    "                    }\n",
    "        else:\n",
    "            info = {'t':t}\n",
    "        # if done:\n",
    "    #             print(orientation_z,com_z)\n",
    "        # _ = [m[s.ID['t']] for m in msg_rec]\n",
    "        # print(_[0]-_[-1])\n",
    "        return observation,reward,done,info # TODO, change shape\n",
    "    \n",
    "    def reset(s):\n",
    "        s.server.send(s.reset_cmd_b)\n",
    "        time.sleep(1/50)\n",
    "        msg_rec = s.receive()\n",
    "        s.episode_steps = 0\n",
    "        observation,reward,done,info =  s._processRecMsg(msg_rec,reset=True)\n",
    "        return observation\n",
    "    \n",
    "    def render(s,mode=\"human\"):\n",
    "        pass\n",
    "\n",
    "    def start(s):\n",
    "        try: # check if the simulation is opened\n",
    "            msg_rec = s.receive(max_attempts=20000,verbose=False)\n",
    "        except TimeoutError: # program not opened\n",
    "            try: dir_path = os.path.dirname(os.path.abspath(__file__))\n",
    "            except NameError: dir_path = os.getcwd()\n",
    "            # path = os.path.join(dir_path,\"./run_flexipod.bat\")\n",
    "            path = os.path.join(dir_path,\"..\\\\..\\\\build\\\\flexipod.exe\")\n",
    "            # print(path)\n",
    "            task = subprocess.Popen([path])\n",
    "            \n",
    "    def receive(s,max_attempts:int = 500000,verbose=True):\n",
    "        data = s.server.receive(max_attempts=max_attempts)\n",
    "        data_unpacked = msgpack.unpackb(data,use_list=False)\n",
    "        return data_unpacked \n",
    "        \n",
    "    def pause(s):\n",
    "        \"\"\"pause the simulation\"\"\"\n",
    "        s.server.send(s.pause_cmd_b)\n",
    "        \n",
    "    def resume(s):\n",
    "        \"\"\"resume the simulation\"\"\"\n",
    "        s.server.send(s.resume_cmd_b)\n",
    "        \n",
    "    def endSimulation(s):\n",
    "        s.server.send(s.close_cmd_b)\n",
    "\n",
    "\n",
    "class FlexipodHumanoidV10(FlexipodEnv):\n",
    "    @property\n",
    "    def humanoid_task(s):\n",
    "        return s._humanoid_task\n",
    "    \n",
    "    @humanoid_task.setter\n",
    "    def humanoid_task(s,is_humanoid:bool):\n",
    "        print(f\"setting humanoid_task={is_humanoid}\")\n",
    "        s._humanoid_task = is_humanoid\n",
    "        pi = np.pi\n",
    "        if is_humanoid:\n",
    "            s.joint_pos_limit = np.array([\n",
    "                # front left\n",
    "                [-pi,pi],     # 0\n",
    "                [-pi/2,pi/2], # 1\n",
    "                # front right\n",
    "                [-pi,pi],     # 2\n",
    "                [-pi/2,pi/2], # 3\n",
    "                # back left\n",
    "                [-pi/3,pi/3], # 4, reduced range\n",
    "                [-pi/2-pi/6,-pi/2+pi/4], # 5, reduced range\n",
    "                [-pi/3,pi/3], # 6\n",
    "                [-pi/3,pi/3], # 7\n",
    "                # back right\n",
    "                [-pi/3,pi/3], # 8 , reduced range\n",
    "                [pi/2-pi/4,pi/2+pi/6], # 9, reduced range\n",
    "                [-pi/3,pi/3], # 10\n",
    "                [-pi/3,pi/3], # 11\n",
    "            ], dtype=np.float32)\n",
    "            \n",
    "            s.com_z_min = 0.42\n",
    "            s.com_z_offset = 0.52\n",
    "            s.orientation_z_min = 0.6\n",
    "        else:\n",
    "            raise NotImplementedError\n",
    "        print(f\"init FlexipodHumanoid,com_z_min = {s.com_z_min}\")\n",
    "\n",
    "    # def __init__(s,**kwargs):\n",
    "    #      super().__init__(**kwargs)\n",
    "    #      s.humanoid_task = True\n",
    "\n",
    "\n",
    "def make(**kargs):\n",
    "    return FlexipodEnv(**kargs)\n",
    "    # return FlexipodHumanoid(**kargs)\n",
    "\n",
    "\n",
    "if __name__ == '__main__':\n",
    "    # env = FlexipodEnv(dof = 12)\n",
    "    env = make()\n",
    "    env.reset()\n",
    "#     while True:\n",
    "#         action = env.action_space.sample()\n",
    "#         env.step(action)\n",
    "\n",
    "        # time.sleep(0.0001)\n",
    "    # print(subprocess.Popen([\"cmd\"], shell=True))\n",
    "    # print(subprocess.Popen([\"set CUDA_VISIBLE_DEVICES=0\"], shell=True))\n",
    "\n",
    "    # env.startSimulation()\n",
    "    # print(\"exit python\")"
   ]
  },
  {
   "cell_type": "code",
   "execution_count": 5,
   "id": "100680f7",
   "metadata": {
    "ExecuteTime": {
     "end_time": "2021-10-05T03:28:15.057762Z",
     "start_time": "2021-10-05T03:28:15.040207Z"
    }
   },
   "outputs": [
    {
     "data": {
      "text/plain": [
       "68"
      ]
     },
     "execution_count": 5,
     "metadata": {},
     "output_type": "execute_result"
    }
   ],
   "source": [
    "s = env\n",
    "\n",
    "joint_pos = np.array([\n",
    "    # front left\n",
    "        0,\n",
    "        -np.pi/2,\n",
    "        0,\n",
    "    # front right\n",
    "        0,\n",
    "        np.pi/2,\n",
    "        0,\n",
    "    # back left\n",
    "        0,\n",
    "        0,\n",
    "        0,\n",
    "    #back right\n",
    "        0,\n",
    "        0,\n",
    "        0,\n",
    "])\n",
    "\n",
    "step_cmd_b = s.packer.pack([s.UDP_MOTOR_POS_COMMEND,time.time(),joint_pos.tolist()])\n",
    "s.server.send(step_cmd_b)"
   ]
  },
  {
   "cell_type": "code",
   "execution_count": 2,
   "id": "792365bc",
   "metadata": {
    "ExecuteTime": {
     "end_time": "2021-10-03T23:39:27.331631Z",
     "start_time": "2021-10-03T23:39:27.316627Z"
    }
   },
   "outputs": [],
   "source": [
    "env.pause()"
   ]
  },
  {
   "cell_type": "code",
   "execution_count": 6,
   "id": "259fb4b4",
   "metadata": {
    "ExecuteTime": {
     "end_time": "2021-10-05T03:28:30.420653Z",
     "start_time": "2021-10-05T03:28:30.411661Z"
    }
   },
   "outputs": [
    {
     "data": {
      "text/plain": [
       "(0.5791983102742743,\n",
       " False,\n",
       " {'t': 85.8270034790039,\n",
       "  'com': (-0.0031134788878262043, -0.0043394737876951694, 0.4623984098434448),\n",
       "  'tn': 0.7360052184667438,\n",
       "  'r_cyclic': 0.5802847767152278,\n",
       "  'r_vel': 0.9999999526974834,\n",
       "  'r_orientation': 1.0,\n",
       "  'r_quad_ctrl': 0.9981277505102892,\n",
       "  'r_joint_limit': 0.9999999979863157,\n",
       "  'r_acc': 1.0})"
      ]
     },
     "execution_count": 6,
     "metadata": {},
     "output_type": "execute_result"
    }
   ],
   "source": [
    "env.info=True\n",
    "observation,reward,done,info = env.step()\n",
    "reward,done,info"
   ]
  },
  {
   "cell_type": "code",
   "execution_count": 18,
   "id": "a232a17b",
   "metadata": {
    "ExecuteTime": {
     "end_time": "2021-10-05T03:34:05.856677Z",
     "start_time": "2021-10-05T03:34:05.830630Z"
    }
   },
   "outputs": [
    {
     "name": "stdout",
     "output_type": "stream",
     "text": [
      "(1.0, -9.672986717168541e-11, -4.371138828673793e-08, -1.0, 1.0, 4.127683438104324e-12, 1.0, -3.298818856967145e-11, -4.371138828673793e-08, 1.0, 1.0, 2.345276750581604e-12, 1.0, -2.290683268069138e-11, 1.0, 7.992008096979752e-12, 1.0, 3.777530859731121e-13, 1.0, 5.6128344159966925e-12, 1.0, -7.58064964967442e-12, 1.0, -3.121901608754696e-12)\n",
      "(2.44388898007486e-10, -2.4805342224709648e-09, -1.69042047026835e-09, -3.0833204878177867e-09, 1.4064305275951483e-09, -8.76410166661401e-10, -2.2875354943607817e-09, 1.2928675907630804e-09, -6.390774576203739e-10, -1.60748947486411e-09, -1.751676026451321e-10, 6.682157605020222e-10)\n",
      "(-0.0036610853858292103, 0.0008574906387366354, 0.005376425106078386, 0.005577052477747202, -0.005006076768040657, -0.006510511972010136, 0.07200825959444046, 0.024430863559246063, -0.036557260900735855, 0.09412208199501038, 0.050369203090667725, 0.008139623329043388)\n",
      "(0.0016228259773924947, 0.00022421918401960284, 0.9999986290931702, 0.00987576600164175, 0.999951183795929, -0.0002402352256467566)\n",
      "(4.9473467100824564e-08, 1.2124513837363793e-08, -5.4550902461869555e-08)\n",
      "(7.778946269354492e-07, -1.9100693293694349e-07, -6.718267968608416e-07)\n",
      "(-2.3647088731593158e-09, -1.3307086543790092e-09, 9.29256671611256e-11)\n",
      "(-0.0031134774908423424, -0.0043394784443080425, 0.46239838004112244)\n",
      "(0.0, 0.0, 0.0, 0.0, 0.0, 0.0, 0.0, 0.0, 0.0, 0.5108742713928223, 0.0, 0.0, 0.5090677738189697)\n",
      "()\n"
     ]
    }
   ],
   "source": [
    "header, T, joint_pos, joint_vel, joint_act, orientation, ang_vel, com_acc, com_vel, com_pos,constraint_force,spring_strain = env.receive()[0]\n",
    "\n",
    "print(joint_pos)\n",
    "print(joint_vel)\n",
    "print(joint_act)\n",
    "print(orientation)\n",
    "print(ang_vel)\n",
    "print(com_acc)\n",
    "print(com_vel)\n",
    "print(com_pos)\n",
    "print(constraint_force)\n",
    "print(spring_strain)"
   ]
  },
  {
   "cell_type": "code",
   "execution_count": 4,
   "id": "1e42d7bf",
   "metadata": {
    "ExecuteTime": {
     "end_time": "2021-09-28T05:51:26.944915Z",
     "start_time": "2021-09-28T05:51:26.925909Z"
    }
   },
   "outputs": [
    {
     "name": "stdout",
     "output_type": "stream",
     "text": [
      "shutdown UDP server:('127.0.0.1', 33300),('127.0.0.1', 33301)\n"
     ]
    }
   ],
   "source": [
    "# env.server.close()"
   ]
  },
  {
   "cell_type": "code",
   "execution_count": 5,
   "id": "c14e8aaf",
   "metadata": {
    "ExecuteTime": {
     "end_time": "2021-09-30T14:56:11.570859Z",
     "start_time": "2021-09-30T14:56:10.940142Z"
    }
   },
   "outputs": [
    {
     "data": {
      "image/png": "[encoded data removed]",
      "text/plain": [
       "<Figure size 600x300 with 2 Axes>"
      ]
     },
     "metadata": {
      "image/png": {
       "height": 292,
       "width": 592
      }
     },
     "output_type": "display_data"
    }
   ],
   "source": [
    "from phase_indication import phaseIndicatorPair\n",
    "import matplotlib.pyplot as plt\n",
    "plt.style.use('seaborn-whitegrid')\n",
    "%config InlineBackend.figure_format = 'retina'\n",
    "\n",
    "t = np.linspace(0, 2, 1000)\n",
    "\n",
    "phase_indicator_pair_0 = phaseIndicatorPair(a=0.3, b=0.7, s=0.05, t0=0.25, t1=0.75, ys = -1., y0=0.)\n",
    "phase_indicator_pair_1 = phaseIndicatorPair(a=0.25, b=0.75, s=0.05, t0=0.25, t1=0.75, ys = 2., y0=-1.)\n",
    "\n",
    "e0_i0, e0_i1 = phase_indicator_pair_0.get(t)\n",
    "e1_i0, e1_i1 = phase_indicator_pair_1.get(t)\n",
    "\n",
    "fig, ax = plt.subplots(2, 1, figsize=(8, 4), dpi=75,sharex=True)\n",
    "ax[0].plot(t, e0_i0, label=\"e0_i0\")\n",
    "ax[0].plot(t, e0_i1, label=\"e0_i1\")\n",
    "ax[1].plot(t, e1_i0, label=\"e1_i0\")\n",
    "ax[1].plot(t, e1_i1, label=\"e1_i1\")\n",
    "\n",
    "# ax[0].plot([a, a], [0, 1], '--', label='a')\n",
    "# ax[0].plot([b, b], [0, 1], '--', label='b')\n",
    "\n",
    "ax[0].legend(loc='best', frameon=False)\n",
    "ax[1].legend(loc='best', frameon=False)\n",
    "\n",
    "plt.tight_layout()\n",
    "# plt.savefig(\"phase_indicator.svg\")"
   ]
  },
  {
   "cell_type": "code",
   "execution_count": null,
   "id": "fb2e41df",
   "metadata": {},
   "outputs": [],
   "source": [
    "def exampleCycilcActionOneStep(i0,i1):\n",
    "    pi = np.pi\n",
    "    p_f_b0 = pi/24 # font arm body-0\n",
    "    p_f_01 = pi/3 # front arm 01\n",
    "    p_f_12 = -pi/12 # front arm 12\n",
    "    p_b0_base = pi/8 # back leg body-0\n",
    "\n",
    "    p_bl_b0 =p_b0_base+i0*0.08\n",
    "    p_br_b0 =p_b0_base+i1*0.08\n",
    "\n",
    "    p_bl_01 = -p_bl_b0*2\n",
    "    p_br_01 = -p_br_b0*2\n",
    "\n",
    "    p_bl_12 = p_bl_b0\n",
    "    p_br_12 = p_br_b0\n",
    "\n",
    "    joint_pos = np.array([\n",
    "        # front left\n",
    "            -p_f_b0,\n",
    "            -p_f_01,\n",
    "            -p_f_12,\n",
    "        # front right\n",
    "            p_f_b0,\n",
    "            p_f_01,\n",
    "            p_f_12,\n",
    "        # back left\n",
    "            -p_bl_b0 - i0*0.08 ,\n",
    "            -p_bl_01,\n",
    "            -p_bl_12,\n",
    "        #back right\n",
    "             p_br_b0 + i1*0.08,\n",
    "             p_br_01,\n",
    "             p_br_12,\n",
    "    ])\n",
    "    return joint_pos\n",
    "    \n",
    "def exampleCycilcAction(s):\n",
    "    while True:\n",
    "        # indicator for foot force\n",
    "        i0_0,i0_1= s.phase_indicator_pair_0.get(s.t_normalized)\n",
    "        # indicator for foot forward displacemnt relative to body, input to the example gait generator\n",
    "        i1_0,i1_1= s.phase_indicator_pair_1.get(s.t_normalized) \n",
    "        joint_pos_desired = exampleCycilcAction(i1_0,i1_1)\n",
    "        delta_p = 1*(joint_pos_desired-env.joint_pos)\n",
    "        yield delta_p"
   ]
  },
  {
   "cell_type": "code",
   "execution_count": null,
   "id": "47e55246",
   "metadata": {},
   "outputs": [],
   "source": [
    "s = env\n",
    "\n",
    "t_normalized = 0.75\n",
    "\n",
    "\n",
    "# indicator for foot force\n",
    "i0_0,i0_1= phase_indicator_pair_0.get(t_normalized)\n",
    "# indicator for foot forward displacemnt relative to body, input to the example gait generator\n",
    "i1_0,i1_1= phase_indicator_pair_1.get(t_normalized) \n",
    "\n",
    "############\n",
    "joint_pos_desired = exampleCycilcActionOneStep(i1_0,i1_1)\n",
    "delta_p = 1*(joint_pos_desired-env.joint_pos)\n",
    "print(f\"{i1_0:.2f},{i1_1:.2f}\\r\")\n",
    "obs,reward,done,info = env.step(delta_p)\n",
    "###########\n",
    "\n",
    "\n",
    "# body-space coordinate\n",
    "# x: feet->head, \n",
    "# y: right->left, left parts has +y values\n",
    "# z: front->back\n",
    "s.graph.setJointPosArrFast(s.joint_pos)\n",
    "s.graph.updateWorldTransformFast(np.eye(4))\n",
    "\n",
    "# s.sensor_force\n",
    "# when left foot is raised, left foot sensor force should be 0, \n",
    "# penalize foot force cyclically \n",
    "c0_0 = min(1,s.sensor_force[0]) # left foot, keep max at 1\n",
    "c0_1 = min(1,s.sensor_force[1]) # right foot\n",
    "r0_0 = c0_0*i0_0\n",
    "r0_1 = c0_1*i0_1\n",
    "r0 = i0_0*c0_0+i0_1*c0_1\n",
    "\n",
    "body_space_left_foot_sensor_pos = (s.node_sensor[0][\"world_transform\"]@s.t_sensor)[:3,3]\n",
    "body_space_right_foot_sensor_pos = (s.node_sensor[1][\"world_transform\"]@s.t_sensor)[:3,3]\n",
    "with np.printoptions(precision=3, suppress=True):\n",
    "    print(body_space_left_foot_sensor_pos)\n",
    "    print(body_space_right_foot_sensor_pos)\n",
    "    \n",
    "# body space left  foot sensor forward displacement / normalizaton_coefficient\n",
    "c1_0 = -(s.node_sensor[0][\"world_transform\"]@s.t_sensor)[2,3]/100.\n",
    "# body space right foot sensor forward displacement / normalizaton_coefficient\n",
    "c1_1 = -(s.node_sensor[1][\"world_transform\"]@s.t_sensor)[2,3]/100.\n",
    "print(f\"c1_0, c1_1={c1_0:.3f},{c1_1:.3f}\")\n",
    "c1_0 = max(-1,min(1,c1_0)) # clamp to [-1,1]\n",
    "c1_1 = max(-1,min(1,c1_1)) # clamp to [-1,1]\n",
    "r1_0 = i1_0*c1_0\n",
    "r1_1 = i1_1*c1_1\n",
    "r1 = i1_0*c1_0+i1_1*c1_1\n",
    "\n",
    "# indicator 0\n",
    "print(f\"i0_0, i0_1={i0_0:.3f}, {i0_1:.3f}\")\n",
    "print(f\"c0_0, c0_1={c0_0:.3f}, {c0_1:.3f}\")\n",
    "print(f\"r0_0, r0_1={r0_0:.3f}, {r0_1:.3f}\")\n",
    "print(f\"r0={r0:+5.3f}\")\n",
    "\n",
    "# indicator 1\n",
    "print(f\"i1_0, i1_1={i1_0:+5.3f}, {i1_1:+5.3f}\")\n",
    "print(f\"c1_0, c1_1={c1_0:+5.3f},{c1_1:+5.3f} (clamp to [-1,1])\")\n",
    "print(f\"r1_0, r1_1={r1_0:+5.3f}, {r1_1:+5.3f}\")\n",
    "print(f\"r1={r1:+5.3f}\")"
   ]
  },
  {
   "cell_type": "code",
   "execution_count": null,
   "id": "cb38f393",
   "metadata": {},
   "outputs": [],
   "source": [
    "obs = env.reset()\n",
    "obs,reward,done,info = env.step()\n",
    "while True:\n",
    "    t = info['t']\n",
    "    t_normalized = ((t-env.episode_start_time)*1.5)%1\n",
    "    c0,c1= phase_indicator_pair_1.get(t_normalized)\n",
    "    delta_p = exampleCycilcAction(c0,c1)\n",
    "#     print(f\"{c0:.2f},{c1:.2f}\\r\")\n",
    "    obs,reward,done,info = env.step(delta_p)"
   ]
  },
  {
   "cell_type": "code",
   "execution_count": null,
   "id": "01e6ea24",
   "metadata": {},
   "outputs": [],
   "source": [
    "obs = env.reset()\n",
    "obs,reward,done,info = env.step()\n",
    "\n",
    "\n",
    "pi = np.pi\n",
    "\n",
    "p_f_b0 = pi/24 # font arm body-0\n",
    "# p_f_b0 = 0 # font arm body-0\n",
    "p_f_01 = pi/3 # front arm 01\n",
    "p_f_12 = -pi/12 # front arm 12\n",
    "\n",
    "p_bl_b0 = pi/12 # back leg left body-0\n",
    "p_br_b0 = pi/12 # back leg right body-0\n",
    "\n",
    "p_b0_base = pi/8\n",
    "\n",
    "\n",
    "while True:\n",
    "    t = info['t']\n",
    "    t_normalized = ((t-env.episode_start_time)*1.5)%1\n",
    "#     c0 = np.sin(t_normalized*pi*2)\n",
    "#     c1 = np.cos(t_normalized*pi*2)\n",
    "    c0,c1= phase_indicator_pair_1.get(t_normalized)\n",
    "    p_bl_b0 =p_b0_base+c0*0.08\n",
    "    p_br_b0 =p_b0_base+c1*0.08\n",
    "    \n",
    "    p_bl_01 = -p_bl_b0*2\n",
    "    p_br_01 = -p_br_b0*2\n",
    "\n",
    "    p_bl_12 = p_bl_b0\n",
    "    p_br_12 = p_br_b0\n",
    "    \n",
    "    joint_pos = np.array([\n",
    "        # front left\n",
    "            -p_f_b0,\n",
    "            -p_f_01,\n",
    "            -p_f_12,\n",
    "        # front right\n",
    "            p_f_b0,\n",
    "            p_f_01,\n",
    "            p_f_12,\n",
    "        # back left\n",
    "            -p_bl_b0 - c0*0.08 ,\n",
    "            -p_bl_01,\n",
    "            -p_bl_12,\n",
    "        #back right\n",
    "             p_br_b0 + c1*0.08,\n",
    "             p_br_01,\n",
    "             p_br_12,\n",
    "    ])\n",
    "    delta_p = 1*(joint_pos-env.joint_pos)\n",
    "    \n",
    "    print(f\"{c0:.2f},{c1:.2f}\\r\")\n",
    "\n",
    "    obs,reward,done,info = env.step(delta_p)"
   ]
  },
  {
   "cell_type": "code",
   "execution_count": 5,
   "id": "bf6763e0",
   "metadata": {
    "ExecuteTime": {
     "end_time": "2021-09-30T12:01:25.150917Z",
     "start_time": "2021-09-30T12:01:25.141927Z"
    }
   },
   "outputs": [
    {
     "name": "stdout",
     "output_type": "stream",
     "text": [
      "spring_strain size==0, removed from OBS_DICT\n"
     ]
    }
   ],
   "source": [
    "s = env\n",
    "\n",
    "ID = s.ID\n",
    "\n",
    "OBS_DICT = { # dictionary is ordered since python 3.6\n",
    "    \"joint_pos\":None,            #0\n",
    "    \"joint_vel\":None,            #1\n",
    "    \"actuation\":None,            #2\n",
    "    \"orientation\":None,          #3\n",
    "    \"ang_vel\":None,              #4\n",
    "    \"com_acc\":None,              #5\n",
    "    \"com_vel\":None,              #6\n",
    "    \"com_pos\":(2,),              #7\n",
    "    \"constraint\":(9,12),         #8\n",
    "    \"spring_strain\":None,        #9\n",
    "}\n",
    "\n",
    "for key in list(OBS_DICT): # remove item with zero size\n",
    "    if s.REC[\"size\"][s.ID[key]]==0:\n",
    "        print(f\"{key} size==0, removed from OBS_DICT\")\n",
    "        OBS_DICT.pop(key)\n",
    "\n",
    "OBS_NAME = tuple(OBS_DICT.keys()) # keys in OBS_DICT\n",
    "OBS_IDS = tuple(ID[n] for n in OBS_NAME) # indices of the OBS\n",
    "OBS_ITEM_SLICE = tuple(OBS_DICT.values()) # indices of each item in OBS_DICT\n",
    "\n",
    "msg = env.receive()"
   ]
  },
  {
   "cell_type": "code",
   "execution_count": 7,
   "id": "62c82317",
   "metadata": {
    "ExecuteTime": {
     "end_time": "2021-09-30T12:01:33.392369Z",
     "start_time": "2021-09-30T12:01:33.387359Z"
    }
   },
   "outputs": [],
   "source": [
    "msg_rec_i = msg[0]\n",
    "# measured normalized constraint force\n",
    "s.sensor_force = itemgetter(*s.sensor_id)(msg_rec_i[s.ID_constraint])"
   ]
  },
  {
   "cell_type": "code",
   "execution_count": 9,
   "id": "03d8f4a7",
   "metadata": {
    "ExecuteTime": {
     "end_time": "2021-09-30T12:05:17.167535Z",
     "start_time": "2021-09-30T12:05:17.149531Z"
    }
   },
   "outputs": [
    {
     "data": {
      "text/plain": [
       "(0.08275821059942245, 0.08181320875883102)"
      ]
     },
     "execution_count": 9,
     "metadata": {},
     "output_type": "execute_result"
    }
   ],
   "source": [
    "s.sensor_force"
   ]
  },
  {
   "cell_type": "code",
   "execution_count": 8,
   "id": "1385e12d",
   "metadata": {
    "ExecuteTime": {
     "end_time": "2021-09-30T12:01:37.424288Z",
     "start_time": "2021-09-30T12:01:37.416297Z"
    }
   },
   "outputs": [
    {
     "data": {
      "text/plain": [
       "(14,\n",
       " 7399.80908203125,\n",
       " (0.8661017417907715,\n",
       "  0.499867707490921,\n",
       "  0.49981093406677246,\n",
       "  -0.866134524345398,\n",
       "  0.5000045299530029,\n",
       "  0.8660228252410889,\n",
       "  0.8660719990730286,\n",
       "  -0.4999193251132965,\n",
       "  0.4997863471508026,\n",
       "  0.8661487102508545,\n",
       "  0.5000131130218506,\n",
       "  -0.8660178780555725,\n",
       "  0.9659333825111389,\n",
       "  -0.25879091024398804,\n",
       "  0.8660332560539246,\n",
       "  0.4999864399433136,\n",
       "  0.965925395488739,\n",
       "  -0.2588205635547638,\n",
       "  0.9659333825111389,\n",
       "  0.25879091024398804,\n",
       "  0.8660305142402649,\n",
       "  -0.49999117851257324,\n",
       "  0.9659265279769897,\n",
       "  0.25881633162498474),\n",
       " (3.024987760280595e-10,\n",
       "  1.5876189252139739e-10,\n",
       "  8.27486204557637e-11,\n",
       "  -3.1331271799217575e-08,\n",
       "  -1.7893242443278723e-08,\n",
       "  -3.286459815399212e-08,\n",
       "  1.6838382901548932e-12,\n",
       "  -7.697546593188331e-12,\n",
       "  6.161737786669619e-12,\n",
       "  -5.551115123125783e-14,\n",
       "  -9.547918011776346e-12,\n",
       "  -1.1657341758564144e-12),\n",
       " (0.0, 0.0, 0.0, 0.0, 0.0, 0.0, 0.0, 0.0, 0.0, 0.0, 0.0, 0.0),\n",
       " (-5.607558364317811e-07,\n",
       "  2.0264843669792754e-07,\n",
       "  1.0,\n",
       "  -9.643711607054684e-09,\n",
       "  1.0,\n",
       "  -2.0264845090878225e-07),\n",
       " (1.2831625037957196e-14, -1.0184726698884549e-14, -2.670183105386078e-14),\n",
       " (-3.2124509215941677e-13, 2.762185011967455e-13, 0.0),\n",
       " (-5.782411763054554e-16, 6.093107683272168e-16, 0.0),\n",
       " (-1.894665979662591e-09, 2.6758208981902953e-09, 0.45584428310394287),\n",
       " (0.0,\n",
       "  0.0,\n",
       "  0.0,\n",
       "  0.0,\n",
       "  0.0,\n",
       "  0.0,\n",
       "  0.0,\n",
       "  0.0,\n",
       "  0.0,\n",
       "  0.08275821059942245,\n",
       "  0.0,\n",
       "  0.0,\n",
       "  0.08181320875883102),\n",
       " ())"
      ]
     },
     "execution_count": 8,
     "metadata": {},
     "output_type": "execute_result"
    }
   ],
   "source": [
    "msg_rec_i"
   ]
  },
  {
   "cell_type": "code",
   "execution_count": 78,
   "id": "c0d19128",
   "metadata": {
    "ExecuteTime": {
     "end_time": "2021-09-27T21:04:13.398001Z",
     "start_time": "2021-09-27T21:04:13.390943Z"
    }
   },
   "outputs": [],
   "source": [
    "msg_i = msg[0]"
   ]
  },
  {
   "cell_type": "code",
   "execution_count": 29,
   "id": "c4797b80",
   "metadata": {
    "ExecuteTime": {
     "end_time": "2021-09-27T20:35:10.519806Z",
     "start_time": "2021-09-27T20:35:10.512786Z"
    }
   },
   "outputs": [],
   "source": [
    "def item_to_tuple(item,item_slice):\n",
    "    if isinstance(item, tuple):\n",
    "        if item_slice:\n",
    "            sliced = itemgetter(*item_slice)(item)\n",
    "            if len(item_slice)==1:\n",
    "                return (sliced,)\n",
    "            return sliced\n",
    "        return item \n",
    "    return (item,)"
   ]
  },
  {
   "cell_type": "code",
   "execution_count": 93,
   "id": "99718ea2",
   "metadata": {
    "ExecuteTime": {
     "end_time": "2021-09-27T21:11:34.021579Z",
     "start_time": "2021-09-27T21:11:34.014577Z"
    }
   },
   "outputs": [
    {
     "data": {
      "text/plain": [
       "[(0.8661125302314758,\n",
       "  0.4998490810394287,\n",
       "  0.4998236298561096,\n",
       "  -0.8661271929740906,\n",
       "  0.49999552965164185,\n",
       "  0.8660280108451843,\n",
       "  0.866081953048706,\n",
       "  -0.49990203976631165,\n",
       "  0.49981021881103516,\n",
       "  0.8661349415779114,\n",
       "  0.49999573826789856,\n",
       "  -0.8660278916358948,\n",
       "  0.9134500026702881,\n",
       "  -0.406950980424881,\n",
       "  0.8659651279449463,\n",
       "  0.5001044273376465,\n",
       "  0.9658846855163574,\n",
       "  -0.2589726150035858,\n",
       "  0.9134955406188965,\n",
       "  0.4068486988544464,\n",
       "  0.8659641146659851,\n",
       "  -0.5001062154769897,\n",
       "  0.9658825397491455,\n",
       "  0.2589806020259857),\n",
       " (1.4597952846528983e-09,\n",
       "  -2.8792449313641555e-08,\n",
       "  -4.480416038177282e-09,\n",
       "  -1.6403397751219018e-08,\n",
       "  7.564615600585967e-09,\n",
       "  -9.214924823197634e-09,\n",
       "  2.8758816483787086e-07,\n",
       "  3.374992729732185e-08,\n",
       "  -2.7092717402865674e-08,\n",
       "  -2.3512018287874525e-07,\n",
       "  -4.726770796992241e-08,\n",
       "  3.0881039947416866e-08),\n",
       " (0.0, 0.0, 0.0, 0.0, 0.0, 0.0, 0.0, 0.0, 0.0, 0.0, 0.0, 0.0),\n",
       " (0.1678144335746765,\n",
       "  6.458018469857052e-05,\n",
       "  0.98581862449646,\n",
       "  -0.0002781042130663991,\n",
       "  0.9999999403953552,\n",
       "  -1.8167927919421345e-05),\n",
       " (-4.003423441645282e-07, -3.829240995401051e-06, 1.3624891437302722e-07),\n",
       " (3.0568571673939005e-05, -6.23849985004199e-07, 8.64950106915785e-06),\n",
       " (1.3372843454817485e-07, 1.9149931418382948e-08, -5.411522963072457e-08),\n",
       " (0.4525746703147888,),\n",
       " (0.49981600046157837, 0.501173198223114)]"
      ]
     },
     "execution_count": 93,
     "metadata": {},
     "output_type": "execute_result"
    }
   ],
   "source": [
    "[item_to_tuple(item,item_slice) for item,item_slice in zip(itemgetter(*OBS_IDS)(msg_i),OBS_ITEM_SLICE)]"
   ]
  },
  {
   "cell_type": "code",
   "execution_count": 65,
   "id": "36ea634e",
   "metadata": {
    "ExecuteTime": {
     "end_time": "2021-09-27T19:36:53.082397Z",
     "start_time": "2021-09-27T19:36:49.338012Z"
    }
   },
   "outputs": [
    {
     "name": "stdout",
     "output_type": "stream",
     "text": [
      "459 ns ± 5.53 ns per loop (mean ± std. dev. of 7 runs, 1000000 loops each)\n"
     ]
    }
   ],
   "source": [
    "msg_i = msg[0]\n",
    "%timeit _ = "
   ]
  },
  {
   "cell_type": "code",
   "execution_count": 23,
   "id": "9b845c7d",
   "metadata": {
    "ExecuteTime": {
     "end_time": "2021-09-27T20:29:56.776261Z",
     "start_time": "2021-09-27T20:29:56.763259Z"
    }
   },
   "outputs": [],
   "source": [
    "from itertools import chain"
   ]
  },
  {
   "cell_type": "code",
   "execution_count": 26,
   "id": "1d0f4edb",
   "metadata": {
    "ExecuteTime": {
     "end_time": "2021-09-27T20:31:16.853620Z",
     "start_time": "2021-09-27T20:31:16.830559Z"
    }
   },
   "outputs": [
    {
     "ename": "TypeError",
     "evalue": "'float' object is not iterable",
     "output_type": "error",
     "traceback": [
      "\u001b[1;31m---------------------------------------------------------------------------\u001b[0m",
      "\u001b[1;31mTypeError\u001b[0m                                 Traceback (most recent call last)",
      "\u001b[1;32m<ipython-input-26-d0ddbc50a8eb>\u001b[0m in \u001b[0;36m<module>\u001b[1;34m\u001b[0m\n\u001b[0;32m      1\u001b[0m \u001b[0m_\u001b[0m \u001b[1;33m=\u001b[0m \u001b[0mchain\u001b[0m\u001b[1;33m.\u001b[0m\u001b[0mfrom_iterable\u001b[0m\u001b[1;33m(\u001b[0m\u001b[0mchain\u001b[0m\u001b[1;33m.\u001b[0m\u001b[0mfrom_iterable\u001b[0m\u001b[1;33m(\u001b[0m\u001b[0mv\u001b[0m \u001b[1;32mif\u001b[0m \u001b[0mitem_slice\u001b[0m \u001b[1;32mis\u001b[0m \u001b[1;32mNone\u001b[0m \u001b[1;32melse\u001b[0m \u001b[0mitemgetter\u001b[0m\u001b[1;33m(\u001b[0m\u001b[1;33m*\u001b[0m\u001b[0mitem_slice\u001b[0m\u001b[1;33m)\u001b[0m\u001b[1;33m(\u001b[0m\u001b[0mv\u001b[0m\u001b[1;33m)\u001b[0m \u001b[1;32mfor\u001b[0m \u001b[0mv\u001b[0m\u001b[1;33m,\u001b[0m\u001b[0mitem_slice\u001b[0m \u001b[1;32min\u001b[0m \u001b[0mzip\u001b[0m\u001b[1;33m(\u001b[0m\u001b[0mitemgetter\u001b[0m\u001b[1;33m(\u001b[0m\u001b[1;33m*\u001b[0m\u001b[0mOBS_IDS\u001b[0m\u001b[1;33m)\u001b[0m\u001b[1;33m(\u001b[0m\u001b[0mmsg_i\u001b[0m\u001b[1;33m)\u001b[0m\u001b[1;33m,\u001b[0m\u001b[0mOBS_ITEM_SLICE\u001b[0m\u001b[1;33m)\u001b[0m\u001b[1;33m)\u001b[0m \u001b[1;32mfor\u001b[0m \u001b[0mmsg_i\u001b[0m \u001b[1;32min\u001b[0m \u001b[0mmsg\u001b[0m\u001b[1;33m)\u001b[0m\u001b[1;33m\u001b[0m\u001b[1;33m\u001b[0m\u001b[0m\n\u001b[1;32m----> 2\u001b[1;33m \u001b[0mlist\u001b[0m\u001b[1;33m(\u001b[0m\u001b[0m_\u001b[0m\u001b[1;33m)\u001b[0m\u001b[1;33m\u001b[0m\u001b[1;33m\u001b[0m\u001b[0m\n\u001b[0m",
      "\u001b[1;31mTypeError\u001b[0m: 'float' object is not iterable"
     ]
    }
   ],
   "source": [
    "_ = chain.from_iterable(chain.from_iterable(v if item_slice is None else itemgetter(*item_slice)(v) for v,item_slice in zip(itemgetter(*OBS_IDS)(msg_i),OBS_ITEM_SLICE)) for msg_i in msg)\n",
    "list(_)"
   ]
  },
  {
   "cell_type": "code",
   "execution_count": 75,
   "id": "43357ff6",
   "metadata": {
    "ExecuteTime": {
     "end_time": "2021-09-27T21:03:27.718177Z",
     "start_time": "2021-09-27T21:03:27.714995Z"
    }
   },
   "outputs": [],
   "source": [
    "\n",
    "# itemgetter(*OBS_IDS)(msg_i)"
   ]
  },
  {
   "cell_type": "code",
   "execution_count": 28,
   "id": "61eae383",
   "metadata": {
    "ExecuteTime": {
     "end_time": "2021-09-27T20:31:47.877181Z",
     "start_time": "2021-09-27T20:31:47.856107Z"
    }
   },
   "outputs": [
    {
     "data": {
      "text/plain": [
       "[(0.8661125302314758,\n",
       "  0.4998490810394287,\n",
       "  0.4998236298561096,\n",
       "  -0.8661271929740906,\n",
       "  0.49999552965164185,\n",
       "  0.8660280108451843,\n",
       "  0.866081953048706,\n",
       "  -0.49990203976631165,\n",
       "  0.49981021881103516,\n",
       "  0.8661349415779114,\n",
       "  0.49999573826789856,\n",
       "  -0.8660278916358948,\n",
       "  0.9134500026702881,\n",
       "  -0.406950980424881,\n",
       "  0.8659651279449463,\n",
       "  0.5001044273376465,\n",
       "  0.9658846855163574,\n",
       "  -0.2589726150035858,\n",
       "  0.9134955406188965,\n",
       "  0.4068486988544464,\n",
       "  0.8659641146659851,\n",
       "  -0.5001062154769897,\n",
       "  0.9658825397491455,\n",
       "  0.2589806020259857),\n",
       " (-1.8013331271049537e-08,\n",
       "  4.754434002052221e-08,\n",
       "  -2.0381474286068624e-09,\n",
       "  3.154002925498389e-08,\n",
       "  -8.21934378336664e-08,\n",
       "  2.1265581295892844e-08,\n",
       "  1.0886106593943623e-07,\n",
       "  5.718906948004587e-08,\n",
       "  -1.170263885796885e-08,\n",
       "  -1.1330259042097168e-07,\n",
       "  -3.927965508410125e-08,\n",
       "  5.33739719088544e-09),\n",
       " (0.0, 0.0, 0.0, 0.0, 0.0, 0.0, 0.0, 0.0, 0.0, 0.0, 0.0, 0.0),\n",
       " (0.1678144931793213,\n",
       "  6.458097777795047e-05,\n",
       "  0.9858185648918152,\n",
       "  -0.00027811009204015136,\n",
       "  0.9999999403953552,\n",
       "  -1.816771509766113e-05),\n",
       " (-5.81635539731451e-08, -2.4521664272469934e-06, -1.5644354789401405e-07),\n",
       " (-2.1072396521049086e-06, 2.6620491553330794e-06, 4.871288297181309e-07),\n",
       " (-1.0361684843473995e-07, 1.4819931948295562e-08, -1.0109663151069981e-07),\n",
       " 0.4525746703147888,\n",
       " (0.4998161196708679, 0.5011729598045349),\n",
       " ()]"
      ]
     },
     "execution_count": 28,
     "metadata": {},
     "output_type": "execute_result"
    }
   ],
   "source": [
    "[v if item_slice is None else itemgetter(*item_slice)(v) for v,item_slice in zip(itemgetter(*OBS_IDS)(msg_i),OBS_ITEM_SLICE)]"
   ]
  },
  {
   "cell_type": "code",
   "execution_count": 20,
   "id": "b391592c",
   "metadata": {
    "ExecuteTime": {
     "end_time": "2021-09-27T21:43:00.639917Z",
     "start_time": "2021-09-27T21:43:00.628905Z"
    }
   },
   "outputs": [],
   "source": [
    "def conditional_flatten(msg_i):\n",
    "    flattend = []\n",
    "    for item,item_slice in zip(itemgetter(*OBS_IDS)(msg_i),OBS_ITEM_SLICE):\n",
    "        try: # check if item is not single number\n",
    "            len(item) # len>1\n",
    "            if item_slice is not None:\n",
    "                item = itemgetter(*item_slice)(item)\n",
    "            try:\n",
    "                len(item) # len>1\n",
    "                flattend.extend(item)# not single number\n",
    "            except TypeError: # single number\n",
    "                flattend.append(item) # single number\n",
    "        except TypeError: # single number\n",
    "            flattend.append(item)\n",
    "    return flattend"
   ]
  },
  {
   "cell_type": "code",
   "execution_count": null,
   "id": "b1910101",
   "metadata": {},
   "outputs": [],
   "source": []
  },
  {
   "cell_type": "code",
   "execution_count": null,
   "id": "b87c40a1",
   "metadata": {},
   "outputs": [],
   "source": []
  },
  {
   "cell_type": "code",
   "execution_count": 18,
   "id": "804efddd",
   "metadata": {
    "ExecuteTime": {
     "end_time": "2021-09-27T21:42:48.712322Z",
     "start_time": "2021-09-27T21:42:48.697309Z"
    }
   },
   "outputs": [],
   "source": [
    "msg_i = msg[0]"
   ]
  },
  {
   "cell_type": "code",
   "execution_count": 29,
   "id": "0e99a145",
   "metadata": {
    "ExecuteTime": {
     "end_time": "2021-09-27T21:45:25.059625Z",
     "start_time": "2021-09-27T21:45:25.042321Z"
    }
   },
   "outputs": [],
   "source": [
    "a = np.stack([conditional_flatten(msg_i) for msg_i in msg]).astype(np.float32)"
   ]
  },
  {
   "cell_type": "code",
   "execution_count": 25,
   "id": "fc3e5042",
   "metadata": {
    "ExecuteTime": {
     "end_time": "2021-09-27T21:43:31.298456Z",
     "start_time": "2021-09-27T21:43:31.281381Z"
    }
   },
   "outputs": [
    {
     "data": {
      "text/plain": [
       "Box(-1.0, 1.0, (331,), float32)"
      ]
     },
     "execution_count": 25,
     "metadata": {},
     "output_type": "execute_result"
    }
   ],
   "source": [
    "s.observation_space"
   ]
  },
  {
   "cell_type": "code",
   "execution_count": 27,
   "id": "e381c21c",
   "metadata": {
    "ExecuteTime": {
     "end_time": "2021-09-27T21:44:15.253311Z",
     "start_time": "2021-09-27T21:44:12.719033Z"
    }
   },
   "outputs": [
    {
     "name": "stdout",
     "output_type": "stream",
     "text": [
      "31.1 µs ± 347 ns per loop (mean ± std. dev. of 7 runs, 10000 loops each)\n"
     ]
    }
   ],
   "source": [
    "%timeit _ =[conditional_flatten(msg_i) for msg_i in msg]"
   ]
  },
  {
   "cell_type": "code",
   "execution_count": 89,
   "id": "2ed3aa59",
   "metadata": {
    "ExecuteTime": {
     "end_time": "2021-09-27T21:06:23.233270Z",
     "start_time": "2021-09-27T21:06:21.344690Z"
    }
   },
   "outputs": [
    {
     "name": "stdout",
     "output_type": "stream",
     "text": [
      "2.28 µs ± 27.1 ns per loop (mean ± std. dev. of 7 runs, 100000 loops each)\n"
     ]
    }
   ],
   "source": [
    "%timeit _ = list(chain.from_iterable(itemgetter(*OBS_IDS)(msg_i)))"
   ]
  },
  {
   "cell_type": "code",
   "execution_count": 70,
   "id": "b43d89ca",
   "metadata": {
    "ExecuteTime": {
     "end_time": "2021-09-27T19:40:22.703370Z",
     "start_time": "2021-09-27T19:40:22.686363Z"
    }
   },
   "outputs": [
    {
     "ename": "ValueError",
     "evalue": "setting an array element with a sequence.",
     "output_type": "error",
     "traceback": [
      "\u001b[1;31m---------------------------------------------------------------------------\u001b[0m",
      "\u001b[1;31mTypeError\u001b[0m                                 Traceback (most recent call last)",
      "\u001b[1;31mTypeError\u001b[0m: float() argument must be a string or a number, not 'tuple'",
      "\nThe above exception was the direct cause of the following exception:\n",
      "\u001b[1;31mValueError\u001b[0m                                Traceback (most recent call last)",
      "\u001b[1;32m<ipython-input-70-27a9708c30fb>\u001b[0m in \u001b[0;36m<module>\u001b[1;34m\u001b[0m\n\u001b[1;32m----> 1\u001b[1;33m \u001b[0mnp\u001b[0m\u001b[1;33m.\u001b[0m\u001b[0mfromiter\u001b[0m\u001b[1;33m(\u001b[0m\u001b[0mchain\u001b[0m\u001b[1;33m(\u001b[0m\u001b[0mitemgetter\u001b[0m\u001b[1;33m(\u001b[0m\u001b[1;33m*\u001b[0m\u001b[0mOBS_IDS\u001b[0m\u001b[1;33m)\u001b[0m\u001b[1;33m(\u001b[0m\u001b[0mmsg_i\u001b[0m\u001b[1;33m)\u001b[0m\u001b[1;33m)\u001b[0m\u001b[1;33m,\u001b[0m\u001b[0mnp\u001b[0m\u001b[1;33m.\u001b[0m\u001b[0mfloat32\u001b[0m\u001b[1;33m)\u001b[0m\u001b[1;33m\u001b[0m\u001b[1;33m\u001b[0m\u001b[0m\n\u001b[0m",
      "\u001b[1;31mValueError\u001b[0m: setting an array element with a sequence."
     ]
    }
   ],
   "source": [
    "np.fromiter(chain(itemgetter(*OBS_IDS)(msg_i)),np.float32)"
   ]
  },
  {
   "cell_type": "code",
   "execution_count": 66,
   "id": "5415794a",
   "metadata": {
    "ExecuteTime": {
     "end_time": "2021-09-27T19:38:06.775395Z",
     "start_time": "2021-09-27T19:38:06.754309Z"
    }
   },
   "outputs": [
    {
     "data": {
      "text/plain": [
       "((0.8661125302314758,\n",
       "  0.4998490810394287,\n",
       "  0.4998236298561096,\n",
       "  -0.8661271929740906,\n",
       "  0.49999552965164185,\n",
       "  0.8660280108451843,\n",
       "  0.866081953048706,\n",
       "  -0.49990203976631165,\n",
       "  0.49981021881103516,\n",
       "  0.8661349415779114,\n",
       "  0.49999573826789856,\n",
       "  -0.8660278916358948,\n",
       "  0.9134500026702881,\n",
       "  -0.406950980424881,\n",
       "  0.8659651279449463,\n",
       "  0.5001044273376465,\n",
       "  0.9658846855163574,\n",
       "  -0.2589726150035858,\n",
       "  0.9134955406188965,\n",
       "  0.4068486988544464,\n",
       "  0.8659641146659851,\n",
       "  -0.5001062154769897,\n",
       "  0.9658825397491455,\n",
       "  0.2589806020259857),\n",
       " (2.609517650853377e-07,\n",
       "  1.83193975544782e-07,\n",
       "  -4.407516485116503e-07,\n",
       "  -2.2488522688490775e-07,\n",
       "  -2.264454508349445e-07,\n",
       "  4.985282657798962e-07,\n",
       "  6.821074975960073e-07,\n",
       "  1.0921471016445139e-07,\n",
       "  -6.068804481174084e-08,\n",
       "  -7.556215564363811e-07,\n",
       "  -1.2125993009703961e-07,\n",
       "  6.084697901087566e-08),\n",
       " (0.0, 0.0, 0.0, 0.0, 0.0, 0.0, 0.0, 0.0, 0.0, 0.0, 0.0, 0.0),\n",
       " (0.16781431436538696,\n",
       "  6.455395487137139e-05,\n",
       "  0.98581862449646,\n",
       "  -0.0002781166404020041,\n",
       "  0.9999999403953552,\n",
       "  -1.813923881854862e-05),\n",
       " (1.6692374629201367e-06, -3.968721102864947e-06, 1.5928682159938035e-06),\n",
       " (4.120255835005082e-05, -9.017028787638992e-06, 9.759138265508227e-06),\n",
       " (8.619949198873655e-07, -1.0777883829860002e-07, 6.005270503095517e-09),\n",
       " (0.004919806029647589, -2.312902142875828e-05, 0.4525746703147888),\n",
       " (0.0,\n",
       "  0.0,\n",
       "  0.0,\n",
       "  0.0,\n",
       "  0.0,\n",
       "  0.0,\n",
       "  0.0,\n",
       "  0.0,\n",
       "  0.0,\n",
       "  0.4998165965080261,\n",
       "  0.0,\n",
       "  0.0,\n",
       "  0.5011739134788513),\n",
       " ())"
      ]
     },
     "execution_count": 66,
     "metadata": {},
     "output_type": "execute_result"
    }
   ],
   "source": [
    "itemgetter(*OBS_IDS)(msg_i)"
   ]
  },
  {
   "cell_type": "code",
   "execution_count": 31,
   "id": "1695162f",
   "metadata": {
    "ExecuteTime": {
     "end_time": "2021-09-27T21:45:52.195560Z",
     "start_time": "2021-09-27T21:45:52.189468Z"
    }
   },
   "outputs": [],
   "source": [
    "np.testing.assert_array_equal(a,b)"
   ]
  },
  {
   "cell_type": "code",
   "execution_count": 5,
   "id": "6f1b189b",
   "metadata": {
    "ExecuteTime": {
     "end_time": "2021-09-30T10:24:53.899567Z",
     "start_time": "2021-09-30T10:24:53.892576Z"
    }
   },
   "outputs": [],
   "source": [
    "import operator"
   ]
  },
  {
   "cell_type": "code",
   "execution_count": 6,
   "id": "345f9327",
   "metadata": {
    "ExecuteTime": {
     "end_time": "2021-09-30T10:25:07.995971Z",
     "start_time": "2021-09-30T10:25:07.981919Z"
    }
   },
   "outputs": [
    {
     "data": {
      "text/plain": [
       "[1, 3, 3]"
      ]
     },
     "execution_count": 6,
     "metadata": {},
     "output_type": "execute_result"
    }
   ],
   "source": [
    "operator.concat([1,3],[3])"
   ]
  },
  {
   "cell_type": "code",
   "execution_count": 10,
   "id": "274846ec",
   "metadata": {
    "ExecuteTime": {
     "end_time": "2021-09-30T10:32:55.387753Z",
     "start_time": "2021-09-30T10:32:55.370605Z"
    }
   },
   "outputs": [
    {
     "data": {
      "text/plain": [
       "(3, [6])"
      ]
     },
     "execution_count": 10,
     "metadata": {},
     "output_type": "execute_result"
    }
   ],
   "source": [
    "operator.itemgetter(2, 5)([1,2,3,4,[5],[6],7,8,9])"
   ]
  },
  {
   "cell_type": "code",
   "execution_count": 63,
   "id": "18861504",
   "metadata": {
    "ExecuteTime": {
     "end_time": "2021-10-04T18:40:22.783885Z",
     "start_time": "2021-10-04T18:40:22.768882Z"
    }
   },
   "outputs": [],
   "source": [
    "a0 = np.array([0,0,0])\n",
    "a1 = np.array([0,0,5])\n",
    "t = a1-a0\n",
    "t = t/np.linalg.norm(t)\n",
    "\n",
    "m0 = np.array([5,6,7])\n",
    "m1 = np.array([3,4,5])\n",
    "\n",
    "v0 = m0 - a0\n",
    "v0_t = v0@t*t # v0 component tangent to rotation axis\n",
    "v0_n = v0 - v0_t # v0 component normal to roation axis\n",
    "\n",
    "v1 = m1 - a0 \n",
    "v1_t = v1@t*t # v1 component tangent to rotation axis\n",
    "v1_n = v1 - v1_t # v1 component normal to roation axis\n",
    "\n",
    "v01 = m1 - m0\n",
    "_v01 = v01/np.linalg.norm(v01) # normalized\n",
    "\n",
    "_v01_t = _v01@t*t\n",
    "_v01_n = _v01 - _v01_t\n",
    "\n",
    "assert(np.cross(v0,_v01)@t == np.cross(v0_n,_v01_n)@t)"
   ]
  },
  {
   "cell_type": "code",
   "execution_count": null,
   "id": "e4ae451a",
   "metadata": {},
   "outputs": [],
   "source": []
  },
  {
   "cell_type": "code",
   "execution_count": null,
   "id": "370acb25",
   "metadata": {},
   "outputs": [],
   "source": []
  },
  {
   "cell_type": "code",
   "execution_count": null,
   "id": "220ffdeb",
   "metadata": {},
   "outputs": [],
   "source": []
  },
  {
   "cell_type": "code",
   "execution_count": 8,
   "id": "05b4ed0e",
   "metadata": {
    "ExecuteTime": {
     "end_time": "2021-10-05T16:58:29.694461Z",
     "start_time": "2021-10-05T16:58:29.337197Z"
    }
   },
   "outputs": [
    {
     "data": {
      "text/plain": [
       "Text(0.5, 1.0, 'accleration reward')"
      ]
     },
     "execution_count": 8,
     "metadata": {},
     "output_type": "execute_result"
    },
    {
     "data": {
      "image/png": "[encoded data removed]",
      "text/plain": [
       "<Figure size 900x600 with 1 Axes>"
      ]
     },
     "metadata": {
      "image/png": {
       "height": 680,
       "width": 893
      }
     },
     "output_type": "display_data"
    }
   ],
   "source": [
    "import numpy as np\n",
    "import matplotlib.pyplot as plt\n",
    "plt.style.use('seaborn-whitegrid')\n",
    "%config InlineBackend.figure_format = 'retina'\n",
    "\n",
    "\n",
    "com_acc_norm = np.linspace(0,10)\n",
    "r_acc = np.clip(1.3-0.1*com_acc_norm,0,1)\n",
    "\n",
    "plt.figure(dpi=300,figsize=(3,2))\n",
    "plt.plot(com_acc_norm,r_acc)\n",
    "plt.xlabel(\"com_acc_norm\")\n",
    "plt.ylabel(\"r_acc\")\n",
    "plt.title(\"accleration reward\")"
   ]
  },
  {
   "cell_type": "code",
   "execution_count": 11,
   "id": "3338b240",
   "metadata": {
    "ExecuteTime": {
     "end_time": "2021-10-05T17:00:05.049869Z",
     "start_time": "2021-10-05T17:00:04.055645Z"
    }
   },
   "outputs": [
    {
     "ename": "ValueError",
     "evalue": "x and y must have same first dimension, but have shapes (50,) and (1,)",
     "output_type": "error",
     "traceback": [
      "\u001b[1;31m---------------------------------------------------------------------------\u001b[0m",
      "\u001b[1;31mValueError\u001b[0m                                Traceback (most recent call last)",
      "\u001b[1;32m<ipython-input-11-5879f6b51e46>\u001b[0m in \u001b[0;36m<module>\u001b[1;34m\u001b[0m\n\u001b[0;32m      3\u001b[0m \u001b[1;33m\u001b[0m\u001b[0m\n\u001b[0;32m      4\u001b[0m \u001b[0mplt\u001b[0m\u001b[1;33m.\u001b[0m\u001b[0mfigure\u001b[0m\u001b[1;33m(\u001b[0m\u001b[0mdpi\u001b[0m\u001b[1;33m=\u001b[0m\u001b[1;36m300\u001b[0m\u001b[1;33m,\u001b[0m\u001b[0mfigsize\u001b[0m\u001b[1;33m=\u001b[0m\u001b[1;33m(\u001b[0m\u001b[1;36m3\u001b[0m\u001b[1;33m,\u001b[0m\u001b[1;36m2\u001b[0m\u001b[1;33m)\u001b[0m\u001b[1;33m)\u001b[0m\u001b[1;33m\u001b[0m\u001b[1;33m\u001b[0m\u001b[0m\n\u001b[1;32m----> 5\u001b[1;33m \u001b[0mplt\u001b[0m\u001b[1;33m.\u001b[0m\u001b[0mplot\u001b[0m\u001b[1;33m(\u001b[0m\u001b[0mactuation\u001b[0m\u001b[1;33m,\u001b[0m\u001b[0mr_quad_ctrl\u001b[0m\u001b[1;33m)\u001b[0m\u001b[1;33m\u001b[0m\u001b[1;33m\u001b[0m\u001b[0m\n\u001b[0m\u001b[0;32m      6\u001b[0m \u001b[0mplt\u001b[0m\u001b[1;33m.\u001b[0m\u001b[0mxlabel\u001b[0m\u001b[1;33m(\u001b[0m\u001b[1;34m\"com_acc_norm\"\u001b[0m\u001b[1;33m)\u001b[0m\u001b[1;33m\u001b[0m\u001b[1;33m\u001b[0m\u001b[0m\n\u001b[0;32m      7\u001b[0m \u001b[0mplt\u001b[0m\u001b[1;33m.\u001b[0m\u001b[0mylabel\u001b[0m\u001b[1;33m(\u001b[0m\u001b[1;34m\"r_acc\"\u001b[0m\u001b[1;33m)\u001b[0m\u001b[1;33m\u001b[0m\u001b[1;33m\u001b[0m\u001b[0m\n",
      "\u001b[1;32m~\\miniconda3\\envs\\flexipod\\lib\\site-packages\\matplotlib\\pyplot.py\u001b[0m in \u001b[0;36mplot\u001b[1;34m(scalex, scaley, data, *args, **kwargs)\u001b[0m\n\u001b[0;32m   2838\u001b[0m \u001b[1;33m@\u001b[0m\u001b[0m_copy_docstring_and_deprecators\u001b[0m\u001b[1;33m(\u001b[0m\u001b[0mAxes\u001b[0m\u001b[1;33m.\u001b[0m\u001b[0mplot\u001b[0m\u001b[1;33m)\u001b[0m\u001b[1;33m\u001b[0m\u001b[1;33m\u001b[0m\u001b[0m\n\u001b[0;32m   2839\u001b[0m \u001b[1;32mdef\u001b[0m \u001b[0mplot\u001b[0m\u001b[1;33m(\u001b[0m\u001b[1;33m*\u001b[0m\u001b[0margs\u001b[0m\u001b[1;33m,\u001b[0m \u001b[0mscalex\u001b[0m\u001b[1;33m=\u001b[0m\u001b[1;32mTrue\u001b[0m\u001b[1;33m,\u001b[0m \u001b[0mscaley\u001b[0m\u001b[1;33m=\u001b[0m\u001b[1;32mTrue\u001b[0m\u001b[1;33m,\u001b[0m \u001b[0mdata\u001b[0m\u001b[1;33m=\u001b[0m\u001b[1;32mNone\u001b[0m\u001b[1;33m,\u001b[0m \u001b[1;33m**\u001b[0m\u001b[0mkwargs\u001b[0m\u001b[1;33m)\u001b[0m\u001b[1;33m:\u001b[0m\u001b[1;33m\u001b[0m\u001b[1;33m\u001b[0m\u001b[0m\n\u001b[1;32m-> 2840\u001b[1;33m     return gca().plot(\n\u001b[0m\u001b[0;32m   2841\u001b[0m         \u001b[1;33m*\u001b[0m\u001b[0margs\u001b[0m\u001b[1;33m,\u001b[0m \u001b[0mscalex\u001b[0m\u001b[1;33m=\u001b[0m\u001b[0mscalex\u001b[0m\u001b[1;33m,\u001b[0m \u001b[0mscaley\u001b[0m\u001b[1;33m=\u001b[0m\u001b[0mscaley\u001b[0m\u001b[1;33m,\u001b[0m\u001b[1;33m\u001b[0m\u001b[1;33m\u001b[0m\u001b[0m\n\u001b[0;32m   2842\u001b[0m         **({\"data\": data} if data is not None else {}), **kwargs)\n",
      "\u001b[1;32m~\\miniconda3\\envs\\flexipod\\lib\\site-packages\\matplotlib\\axes\\_axes.py\u001b[0m in \u001b[0;36mplot\u001b[1;34m(self, scalex, scaley, data, *args, **kwargs)\u001b[0m\n\u001b[0;32m   1741\u001b[0m         \"\"\"\n\u001b[0;32m   1742\u001b[0m         \u001b[0mkwargs\u001b[0m \u001b[1;33m=\u001b[0m \u001b[0mcbook\u001b[0m\u001b[1;33m.\u001b[0m\u001b[0mnormalize_kwargs\u001b[0m\u001b[1;33m(\u001b[0m\u001b[0mkwargs\u001b[0m\u001b[1;33m,\u001b[0m \u001b[0mmlines\u001b[0m\u001b[1;33m.\u001b[0m\u001b[0mLine2D\u001b[0m\u001b[1;33m)\u001b[0m\u001b[1;33m\u001b[0m\u001b[1;33m\u001b[0m\u001b[0m\n\u001b[1;32m-> 1743\u001b[1;33m         \u001b[0mlines\u001b[0m \u001b[1;33m=\u001b[0m \u001b[1;33m[\u001b[0m\u001b[1;33m*\u001b[0m\u001b[0mself\u001b[0m\u001b[1;33m.\u001b[0m\u001b[0m_get_lines\u001b[0m\u001b[1;33m(\u001b[0m\u001b[1;33m*\u001b[0m\u001b[0margs\u001b[0m\u001b[1;33m,\u001b[0m \u001b[0mdata\u001b[0m\u001b[1;33m=\u001b[0m\u001b[0mdata\u001b[0m\u001b[1;33m,\u001b[0m \u001b[1;33m**\u001b[0m\u001b[0mkwargs\u001b[0m\u001b[1;33m)\u001b[0m\u001b[1;33m]\u001b[0m\u001b[1;33m\u001b[0m\u001b[1;33m\u001b[0m\u001b[0m\n\u001b[0m\u001b[0;32m   1744\u001b[0m         \u001b[1;32mfor\u001b[0m \u001b[0mline\u001b[0m \u001b[1;32min\u001b[0m \u001b[0mlines\u001b[0m\u001b[1;33m:\u001b[0m\u001b[1;33m\u001b[0m\u001b[1;33m\u001b[0m\u001b[0m\n\u001b[0;32m   1745\u001b[0m             \u001b[0mself\u001b[0m\u001b[1;33m.\u001b[0m\u001b[0madd_line\u001b[0m\u001b[1;33m(\u001b[0m\u001b[0mline\u001b[0m\u001b[1;33m)\u001b[0m\u001b[1;33m\u001b[0m\u001b[1;33m\u001b[0m\u001b[0m\n",
      "\u001b[1;32m~\\miniconda3\\envs\\flexipod\\lib\\site-packages\\matplotlib\\axes\\_base.py\u001b[0m in \u001b[0;36m__call__\u001b[1;34m(self, data, *args, **kwargs)\u001b[0m\n\u001b[0;32m    271\u001b[0m                 \u001b[0mthis\u001b[0m \u001b[1;33m+=\u001b[0m \u001b[0margs\u001b[0m\u001b[1;33m[\u001b[0m\u001b[1;36m0\u001b[0m\u001b[1;33m]\u001b[0m\u001b[1;33m,\u001b[0m\u001b[1;33m\u001b[0m\u001b[1;33m\u001b[0m\u001b[0m\n\u001b[0;32m    272\u001b[0m                 \u001b[0margs\u001b[0m \u001b[1;33m=\u001b[0m \u001b[0margs\u001b[0m\u001b[1;33m[\u001b[0m\u001b[1;36m1\u001b[0m\u001b[1;33m:\u001b[0m\u001b[1;33m]\u001b[0m\u001b[1;33m\u001b[0m\u001b[1;33m\u001b[0m\u001b[0m\n\u001b[1;32m--> 273\u001b[1;33m             \u001b[1;32myield\u001b[0m \u001b[1;32mfrom\u001b[0m \u001b[0mself\u001b[0m\u001b[1;33m.\u001b[0m\u001b[0m_plot_args\u001b[0m\u001b[1;33m(\u001b[0m\u001b[0mthis\u001b[0m\u001b[1;33m,\u001b[0m \u001b[0mkwargs\u001b[0m\u001b[1;33m)\u001b[0m\u001b[1;33m\u001b[0m\u001b[1;33m\u001b[0m\u001b[0m\n\u001b[0m\u001b[0;32m    274\u001b[0m \u001b[1;33m\u001b[0m\u001b[0m\n\u001b[0;32m    275\u001b[0m     \u001b[1;32mdef\u001b[0m \u001b[0mget_next_color\u001b[0m\u001b[1;33m(\u001b[0m\u001b[0mself\u001b[0m\u001b[1;33m)\u001b[0m\u001b[1;33m:\u001b[0m\u001b[1;33m\u001b[0m\u001b[1;33m\u001b[0m\u001b[0m\n",
      "\u001b[1;32m~\\miniconda3\\envs\\flexipod\\lib\\site-packages\\matplotlib\\axes\\_base.py\u001b[0m in \u001b[0;36m_plot_args\u001b[1;34m(self, tup, kwargs)\u001b[0m\n\u001b[0;32m    397\u001b[0m \u001b[1;33m\u001b[0m\u001b[0m\n\u001b[0;32m    398\u001b[0m         \u001b[1;32mif\u001b[0m \u001b[0mx\u001b[0m\u001b[1;33m.\u001b[0m\u001b[0mshape\u001b[0m\u001b[1;33m[\u001b[0m\u001b[1;36m0\u001b[0m\u001b[1;33m]\u001b[0m \u001b[1;33m!=\u001b[0m \u001b[0my\u001b[0m\u001b[1;33m.\u001b[0m\u001b[0mshape\u001b[0m\u001b[1;33m[\u001b[0m\u001b[1;36m0\u001b[0m\u001b[1;33m]\u001b[0m\u001b[1;33m:\u001b[0m\u001b[1;33m\u001b[0m\u001b[1;33m\u001b[0m\u001b[0m\n\u001b[1;32m--> 399\u001b[1;33m             raise ValueError(f\"x and y must have same first dimension, but \"\n\u001b[0m\u001b[0;32m    400\u001b[0m                              f\"have shapes {x.shape} and {y.shape}\")\n\u001b[0;32m    401\u001b[0m         \u001b[1;32mif\u001b[0m \u001b[0mx\u001b[0m\u001b[1;33m.\u001b[0m\u001b[0mndim\u001b[0m \u001b[1;33m>\u001b[0m \u001b[1;36m2\u001b[0m \u001b[1;32mor\u001b[0m \u001b[0my\u001b[0m\u001b[1;33m.\u001b[0m\u001b[0mndim\u001b[0m \u001b[1;33m>\u001b[0m \u001b[1;36m2\u001b[0m\u001b[1;33m:\u001b[0m\u001b[1;33m\u001b[0m\u001b[1;33m\u001b[0m\u001b[0m\n",
      "\u001b[1;31mValueError\u001b[0m: x and y must have same first dimension, but have shapes (50,) and (1,)"
     ]
    },
    {
     "data": {
      "image/png": "[encoded data removed]",
      "text/plain": [
       "<Figure size 900x600 with 1 Axes>"
      ]
     },
     "metadata": {
      "image/png": {
       "height": 579,
       "width": 859
      }
     },
     "output_type": "display_data"
    }
   ],
   "source": [
    "actuation = np.linspace(0,2)\n",
    "r_quad_ctrl = max(0,1-0.05 * sum(np.square(actuation)))\n",
    "\n",
    "plt.figure(dpi=300,figsize=(3,2))\n",
    "plt.plot(actuation,r_quad_ctrl)\n",
    "plt.xlabel(\"com_acc_norm\")\n",
    "plt.ylabel(\"r_acc\")\n",
    "plt.title(\"accleration reward\")"
   ]
  },
  {
   "cell_type": "code",
   "execution_count": 13,
   "id": "1629ded3",
   "metadata": {
    "ExecuteTime": {
     "end_time": "2021-10-11T05:15:24.865039Z",
     "start_time": "2021-10-11T05:15:24.853042Z"
    }
   },
   "outputs": [],
   "source": [
    "import numpy as np\n",
    "obs_shape = 300\n",
    "action_shape = 10\n",
    "buffer_size = int(1e6)"
   ]
  },
  {
   "cell_type": "code",
   "execution_count": 14,
   "id": "aacffa30",
   "metadata": {
    "ExecuteTime": {
     "end_time": "2021-10-11T05:15:25.485113Z",
     "start_time": "2021-10-11T05:15:25.472117Z"
    }
   },
   "outputs": [],
   "source": [
    "from cpprb import ReplayBuffer"
   ]
  },
  {
   "cell_type": "code",
   "execution_count": 18,
   "id": "792e8e66",
   "metadata": {
    "ExecuteTime": {
     "end_time": "2021-10-11T05:24:26.923738Z",
     "start_time": "2021-10-11T05:24:19.757743Z"
    }
   },
   "outputs": [
    {
     "data": {
      "text/plain": [
       "0"
      ]
     },
     "execution_count": 18,
     "metadata": {},
     "output_type": "execute_result"
    }
   ],
   "source": [
    "env_dict = {\"obs\":{\"shape\": obs_shape},\n",
    "            \"act\":{\"shape\": action_shape,\"dtype\": np.float32},\n",
    "            \"rew\": {},\n",
    "            \"next_obs\": {\"shape\": obs_shape},\n",
    "            \"done\": {}}\n",
    "\n",
    "rb = ReplayBuffer(buffer_size,env_dict)\n",
    "rb.add(\n",
    "    obs=np.random.rand(buffer_size,obs_shape),\n",
    "    act=np.random.rand(buffer_size,action_shape),\n",
    "    rew=np.random.rand(buffer_size),\n",
    "    next_obs=np.random.rand(buffer_size,obs_shape),\n",
    "    done = np.random.rand(buffer_size)\n",
    ")"
   ]
  },
  {
   "cell_type": "code",
   "execution_count": 19,
   "id": "bef06e7d",
   "metadata": {
    "ExecuteTime": {
     "end_time": "2021-10-11T05:24:30.504772Z",
     "start_time": "2021-10-11T05:24:30.484765Z"
    }
   },
   "outputs": [
    {
     "data": {
      "text/plain": [
       "0"
      ]
     },
     "execution_count": 19,
     "metadata": {},
     "output_type": "execute_result"
    }
   ],
   "source": [
    "rb.get_next_index()"
   ]
  },
  {
   "cell_type": "code",
   "execution_count": 10,
   "id": "e4b630d9",
   "metadata": {
    "ExecuteTime": {
     "end_time": "2021-10-11T04:58:23.425822Z",
     "start_time": "2021-10-11T04:58:21.581772Z"
    }
   },
   "outputs": [
    {
     "name": "stdout",
     "output_type": "stream",
     "text": [
      "2.24 ms ± 123 µs per loop (mean ± std. dev. of 7 runs, 100 loops each)\n"
     ]
    }
   ],
   "source": [
    "%timeit _ = rb.sample(1024)"
   ]
  },
  {
   "cell_type": "code",
   "execution_count": 20,
   "id": "79e6cc12",
   "metadata": {
    "ExecuteTime": {
     "end_time": "2021-10-11T05:26:35.325097Z",
     "start_time": "2021-10-11T05:24:47.475171Z"
    }
   },
   "outputs": [],
   "source": [
    "rb.save_transitions(\"./test_transitions\",safe=False)"
   ]
  },
  {
   "cell_type": "code",
   "execution_count": 3,
   "id": "df44057b",
   "metadata": {
    "ExecuteTime": {
     "end_time": "2021-10-11T04:56:55.688761Z",
     "start_time": "2021-10-11T04:56:54.931590Z"
    }
   },
   "outputs": [],
   "source": [
    "import pytorch_sac.replay_buffer"
   ]
  },
  {
   "cell_type": "code",
   "execution_count": 12,
   "id": "d2a4f20c",
   "metadata": {
    "ExecuteTime": {
     "end_time": "2021-10-11T05:12:50.854693Z",
     "start_time": "2021-10-11T05:12:50.843689Z"
    }
   },
   "outputs": [],
   "source": [
    "rb2 = pytorch_sac.replay_buffer.ReplayBuffer(buffer_size,obs_shape=obs_shape,action_shape=action_shape,obs_dtype=\"float32\")"
   ]
  },
  {
   "cell_type": "code",
   "execution_count": 8,
   "id": "0714cea7",
   "metadata": {
    "ExecuteTime": {
     "end_time": "2021-10-11T04:58:13.383149Z",
     "start_time": "2021-10-11T04:58:13.370147Z"
    }
   },
   "outputs": [],
   "source": [
    "rb2.full = True"
   ]
  },
  {
   "cell_type": "code",
   "execution_count": 9,
   "id": "e90d7873",
   "metadata": {
    "ExecuteTime": {
     "end_time": "2021-10-11T04:58:16.882494Z",
     "start_time": "2021-10-11T04:58:14.300378Z"
    }
   },
   "outputs": [
    {
     "name": "stdout",
     "output_type": "stream",
     "text": [
      "2.89 ms ± 517 µs per loop (mean ± std. dev. of 7 runs, 100 loops each)\n"
     ]
    }
   ],
   "source": [
    "%timeit _ = rb2.sample(1024)"
   ]
  },
  {
   "cell_type": "code",
   "execution_count": null,
   "id": "9c30ec11",
   "metadata": {},
   "outputs": [],
   "source": [
    "from pytorch_sac.replay_buffer import RecordArray\n",
    "import numpy as np\n",
    "\n",
    "class ReplayBuffer(object):\n",
    "    \"\"\"Buffer to store environment transitions.\"\"\"\n",
    "\n",
    "    def __init__(s, # self\n",
    "                 capacity: int,  # total number of sample\n",
    "                 obs_shape: tuple,  # observation shape\n",
    "                 action_shape: tuple,  # action shape\n",
    "                 obs_dtype: type = np.float32,  # observation dtype\n",
    "                 action_dtype: type = np.float32,  # action dtype\n",
    "                 device=\"cpu\",  # cpu, cuda, cuda:0, etc.\n",
    "                 chunk_bytes = 2e7 # num bytes per chunk\n",
    "                 ):\n",
    "        capacity = int(capacity)\n",
    "        s.capacity = capacity\n",
    "        s.device = device\n",
    "\n",
    "        s.idx = 0\n",
    "        s.full = False\n",
    "        s.num_recent = -1  # int, most recent samples for updating\n",
    "        #print(capacity,obs_shape,obs_dtype,chunk_bytes)\n",
    "        # the proprioceptive obs is stored as float32, pixels obs as uint8\n",
    "        #obs_dtype = np.float32 if len(obs_shape) == 1 else np.uint8        \n",
    "        s.obses =      RecordArray(capacity,obs_shape,obs_dtype,chunk_bytes)\n",
    "        s.next_obses = RecordArray(capacity,obs_shape,obs_dtype,chunk_bytes)\n",
    "        s.actions =    RecordArray(capacity,action_shape,action_dtype,chunk_bytes)\n",
    "        s.rewards =    RecordArray(capacity,(1,),np.float32,chunk_bytes)\n",
    "        s.not_dones =  RecordArray(capacity,(1,),np.float32,chunk_bytes)\n",
    "        s.not_dones_no_max = RecordArray(capacity,(1,),np.float32,chunk_bytes)\n",
    "\n",
    "    def __len__(s):\n",
    "        return s.capacity if s.full else s.idx\n",
    "\n",
    "    def add(s, obs, action, reward, next_obs, done, done_no_max):\n",
    "        \"\"\" add one sample \"\"\"\n",
    "        s.obses[s.idx] = obs\n",
    "        s.actions[s.idx] = action\n",
    "        s.rewards[s.idx] = reward\n",
    "        s.next_obses[s.idx] = next_obs\n",
    "        s.not_dones[s.idx] = not done\n",
    "        s.not_dones_no_max[s.idx] = not done_no_max\n",
    "\n",
    "        s.idx = (s.idx + 1) % s.capacity\n",
    "        s.full = s.full or s.idx == 0\n",
    "\n",
    "    def sample(s, batch_size):\n",
    "        \"\"\"\n",
    "        sample batch_size samples from the most recent num_recent samples\n",
    "        return obses, actions, rewards, next_obses, not_dones, not_dones_no_max\n",
    "        \"\"\"\n",
    "        idx_end = s.idx\n",
    "        if s.num_recent > batch_size:\n",
    "            idx_begin = s.idx - s.num_recent\n",
    "            s.num_recent = -1  # reset num_recent\n",
    "        else:\n",
    "            idx_begin = s.idx - s.capacity\n",
    "        if not s.full:\n",
    "            idx_begin = max(idx_begin, 0)\n",
    "            \n",
    "        #print(idx_begin, idx_end, batch_size)\n",
    "        idxs = np.random.randint(idx_begin, idx_end, size=batch_size)\n",
    "        obses = torch.as_tensor(s.obses[idxs], device=s.device)\n",
    "        actions = torch.as_tensor(s.actions[idxs], device=s.device)\n",
    "        rewards = torch.as_tensor(s.rewards[idxs], device=s.device)\n",
    "        next_obses = torch.as_tensor(s.next_obses[idxs], device=s.device)\n",
    "        not_dones = torch.as_tensor(s.not_dones[idxs], device=s.device)\n",
    "        not_dones_no_max = torch.as_tensor(s.not_dones_no_max[idxs], device=s.device)\n",
    "        return obses, actions, rewards, next_obses, not_dones, not_dones_no_max\n",
    "\n",
    "    def __sizeof__(s):\n",
    "        \"\"\"to estimate the size in memory in bytes\"\"\"\n",
    "        return super().__sizeof__()+s.obses.__sizeof__() +\\\n",
    "            s.next_obses.__sizeof__()+s.actions.__sizeof__() +\\\n",
    "            s.rewards.__sizeof__()+s.not_dones.__sizeof__() + \\\n",
    "            s.not_dones_no_max.__sizeof__()\n",
    "\n",
    "    def save(s,dir_path):\n",
    "        \"\"\" save replay buffer to directory path dir_path\"\"\"\n",
    "        dir_path = os.path.abspath(dir_path) # convert to absolute path\n",
    "        try:os.mkdir(dir_path)\n",
    "        except OSError:pass\n",
    "        print(f\"saving replay buffer to {dir_path}\")\n",
    "        s.obses.save(os.path.join(dir_path,\"obses\"))\n",
    "        s.next_obses.save(os.path.join(dir_path,\"next_obses\"))\n",
    "        s.actions.save(os.path.join(dir_path,\"actions\"))\n",
    "        s.rewards.save(os.path.join(dir_path,\"rewards\"))\n",
    "        s.not_dones.save(os.path.join(dir_path,\"not_dones\"))\n",
    "        s.not_dones_no_max.save(os.path.join(dir_path,\"not_dones_no_max\"))\n",
    "        with open(os.path.join(dir_path,\"header.msgpack\"), 'wb') as file:\n",
    "            msgpack.pack((s.capacity,s.idx,s.full), file)\n",
    "\n",
    "    def load(s,dir_path):\n",
    "        \"\"\"load replay buffer from directory path dir_path\"\"\"\n",
    "        dir_path = os.path.abspath(dir_path) # convert to absolute path\n",
    "        s.obses.load(os.path.join(dir_path,\"obses\"))\n",
    "        s.next_obses.load(os.path.join(dir_path,\"next_obses\"))\n",
    "        s.actions.load(os.path.join(dir_path,\"actions\"))\n",
    "        s.rewards.load(os.path.join(dir_path,\"rewards\"))\n",
    "        s.not_dones.load(os.path.join(dir_path,\"not_dones\"))\n",
    "        s.not_dones_no_max.load(os.path.join(dir_path,\"not_dones_no_max\"))\n",
    "        with open(os.path.join(dir_path,\"header.msgpack\"), 'rb') as file:\n",
    "            s.capacity,s.idx,s.full = msgpack.unpack(file)"
   ]
  },
  {
   "cell_type": "code",
   "execution_count": 21,
   "id": "9e11df71",
   "metadata": {
    "ExecuteTime": {
     "end_time": "2021-10-11T05:38:33.109174Z",
     "start_time": "2021-10-11T05:38:33.097663Z"
    }
   },
   "outputs": [
    {
     "data": {
      "text/plain": [
       "0.0"
      ]
     },
     "execution_count": 21,
     "metadata": {},
     "output_type": "execute_result"
    }
   ],
   "source": [
    "float(not True)"
   ]
  },
  {
   "cell_type": "code",
   "execution_count": null,
   "id": "0aedfb11",
   "metadata": {},
   "outputs": [],
   "source": []
  }
 ],
 "metadata": {
  "kernelspec": {
   "display_name": "Python 3",
   "language": "python",
   "name": "python3"
  },
  "language_info": {
   "codemirror_mode": {
    "name": "ipython",
    "version": 3
   },
   "file_extension": ".py",
   "mimetype": "text/x-python",
   "name": "python",
   "nbconvert_exporter": "python",
   "pygments_lexer": "ipython3",
   "version": "3.8.8"
  }
 },
 "nbformat": 4,
 "nbformat_minor": 5
}
