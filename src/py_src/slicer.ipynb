{
 "cells": [
  {
   "cell_type": "markdown",
   "metadata": {},
   "source": [
    "# Utility"
   ]
  },
  {
   "cell_type": "code",
   "execution_count": 2,
   "metadata": {
    "ExecuteTime": {
     "end_time": "2021-09-02T06:30:59.743278Z",
     "start_time": "2021-09-02T06:30:59.716272Z"
    }
   },
   "outputs": [
    {
     "name": "stdout",
     "output_type": "stream",
     "text": [
      "open3d :0.12.0\n",
      "trimesh:3.9.8\n",
      "numba  :0.53.0\n"
     ]
    }
   ],
   "source": [
    "import msgpack\n",
    "import open3d as o3d\n",
    "import trimesh\n",
    "import point_cloud_utils as pcu  # downsampling\n",
    "from IPython.display import display, Math\n",
    "import numpy as np\n",
    "import matplotlib.pyplot as plt\n",
    "\n",
    "import numba\n",
    "from joblib import Parallel, delayed  # multiprocessing\n",
    "import multiprocessing\n",
    "import copy\n",
    "from scipy.ndimage.morphology import binary_dilation, binary_erosion\n",
    "from scipy.spatial.transform import Rotation\n",
    "import tempfile\n",
    "import gmsh\n",
    "import meshio\n",
    "import itertools\n",
    "import shutil  # file copying\n",
    "import networkx as nx # graph representation\n",
    "import os\n",
    "\n",
    "from lxml import etree\n",
    "from matplotlib.colors import to_hex\n",
    "\n",
    "plt.style.use('seaborn-whitegrid')\n",
    "%config InlineBackend.figure_format = 'retina'\n",
    "\n",
    "print(f\"open3d :{o3d.__version__}\")\n",
    "print(f\"trimesh:{trimesh.__version__}\")\n",
    "print(f\"numba  :{numba.__version__}\")\n",
    "###########################################################\n",
    "from robot_utils import *\n",
    "import robot_utils\n",
    "# help(robot_utils)\n",
    "\n",
    "######################################################\n",
    "robot_folder = \"../../robot/4dof\"\n",
    "mesh_folder = f\"{robot_folder}//mesh\""
   ]
  },
  {
   "cell_type": "markdown",
   "metadata": {},
   "source": [
    "# Leg generation\n",
    "\n",
    "Only need to run once"
   ]
  },
  {
   "cell_type": "code",
   "execution_count": 2,
   "metadata": {
    "ExecuteTime": {
     "end_time": "2021-03-18T03:50:05.337416Z",
     "start_time": "2021-03-18T03:50:02.170343Z"
    }
   },
   "outputs": [],
   "source": [
    "import cadquery as cq\n",
    "from math import atan2,pi\n",
    "\n",
    "leg_d0 = 0.05+2 # length of first segment, 2.2 is the thickness of the coupler\n",
    "leg_d1 = 120  # length of last segment\n",
    "# leg_d1 = 240  # length of last segment\n",
    "leg_r0 = 38   # radius of rotation of mid segment\n",
    "\n",
    "leg_r1 = 32   # radius of the first segment\n",
    "leg_r2 = leg_r1   # radius of the end at the second segment\n",
    "leg_r3 = 24   # radius at the end of the last segment\n",
    "\n",
    "leg_a0_deg = 90\n",
    "leg_a0 = leg_a0_deg*pi/180. # mid section rotation angle\n",
    "\n",
    "taper_angle = atan2(leg_r2-leg_r3,leg_d1) # taper angle [rad] of last section\n",
    "\n",
    "leg_fillet = 24 # fillet at the end of the leg\n",
    "leg_innercut_ratio =0.5\n",
    "\n",
    "def makeLeg(d0 = leg_d0,# length of first segment\n",
    "#             joint_overlap = joint_overlap, #overlap of the joint\n",
    "            d1 = leg_d1,# length of last segment\n",
    "            r0 = leg_r0,# radius of rotation of mid segment\n",
    "            r1 = leg_r1,# radius of the first segment\n",
    "            taper = taper_angle,# taper angle [rad] of last section\n",
    "            r_fillet = leg_fillet,# fillet at last section\n",
    "            innercut_ratio = leg_innercut_ratio\n",
    "            ):\n",
    "#     path = cq.Workplane(\"XY\").center(0, 0).line(d0,0)\\\n",
    "#        .radiusArc((r0+leg_d0,r0),-r0)\n",
    "    path = cq.Workplane(\"XY\").center(0, 0).radiusArc((r0,r0),-r0)\n",
    "    result = cq.Workplane(\"YZ\").circle(r1).sweep(path) # first+mid section\n",
    "#     result = result.faces(\"<X\").circle(r1).extrude(-joint_overlap) # joint overlap section\n",
    "    result = result.faces(\">Y\").workplane(centerOption=\"CenterOfMass\").tag(\"midplane\")\\\n",
    "        .circle(r1).extrude(d1,taper=taper*180./pi)\\\n",
    "        .faces(\">Y\").edges().fillet(r_fillet) # last section fillet\n",
    "    result = result.workplaneFromTagged(\"midplane\")\\\n",
    "        .circle(r1*innercut_ratio).cutBlind(d1+1,taper=taper*180./pi)\n",
    "    return result\n",
    "\n",
    "leg = makeLeg()\n",
    "# show_object(leg)\n",
    "cq.exporters.export(leg,f\"{mesh_folder}//leg_simplified.step\")\n",
    "# cq.exporters.export(leg,\"../../mesh/leg_simplified.stl\")"
   ]
  },
  {
   "cell_type": "code",
   "execution_count": 3,
   "metadata": {
    "ExecuteTime": {
     "end_time": "2021-09-02T06:31:51.253452Z",
     "start_time": "2021-09-02T06:31:51.243001Z"
    }
   },
   "outputs": [
    {
     "name": "stdout",
     "output_type": "stream",
     "text": [
      "27.712812921102035\n",
      "joint_overlap:0.0\n"
     ]
    }
   ],
   "source": [
    "########## discretization parameters ##############\n",
    "# radius_poisson = float(10) # radius for the poisson sampling\n",
    "radius_poisson = float(16) # radius for the poisson sampling\n",
    "radius_knn = radius_poisson*np.sqrt(3)*1.0\n",
    "min_radius = radius_poisson*0.6\n",
    "# max_nn = 28 # maximun number of neighbors for a mass point (including self)\n",
    "max_nn = int(28)\n",
    "print(radius_knn)\n",
    "\n",
    "half_joint_overlap = radius_poisson * 0\n",
    "joint_overlap = half_joint_overlap*2\n",
    "print(f\"joint_overlap:{joint_overlap}\")\n",
    "\n",
    "# general argument\n",
    "gmsh_args = [\n",
    "        (\"Mesh.Algorithm\", 6), # 2D mesh algorithm (1: MeshAdapt, 2: Automatic, 3: Initial mesh only, 5: Delaunay, 6: Frontal-Delaunay, 7: BAMG, 8: Frontal-Delaunay for Quads, 9: Packing of Parallelograms)\n",
    "        (\"Mesh.Algorithm3D\", 10), # 3D mesh algorithm (1: Delaunay, 3: Initial mesh only, 4: Frontal, 7: MMG3D, 9: R-tree, 10: HXT)\n",
    "        (\"Mesh.MeshSizeExtendFromBoundary\", 0),# Extend computation of mesh element sizes from the boundaries into the interior (for 3D Delaunay, use 1: longest or 2: shortest surface edge length)\n",
    "        (\"Mesh.MeshSizeFromPoints\", 0),# Compute mesh element sizes from values given at geometry points, defualt:1\n",
    "        (\"Mesh.MeshSizeFromCurvature\", 0),# Automatically compute mesh element sizes from curvature,defult:0\n",
    "        (\"Mesh.OptimizeNetgen\",0), # Optimize the mesh using Netgen to improve the quality of tetrahedral elements\n",
    "        (\"Mesh.OptimizeThreshold\",0.5), # Optimize the mesh using Netgen to improve the quality of tetrahedral elements\n",
    "#         (\"Mesh.AllowSwapAngle\",30), # Threshold angle (in degrees) between faces normals under which we allow an edge swap\n",
    "        (\"Mesh.VolumeEdges\",1), # Display edges of volume mesh\n",
    "        (\"Mesh.VolumeFaces\",0), # Display faces of volume mesh\n",
    "        (\"Mesh.SurfaceFaces\",1), # Display faces of surface mesh?\n",
    "        (\"Mesh.Smoothing\",8), # Number of smoothing steps applied to the final mesh\n",
    "#         (\"Mesh.SmoothNormals\",0), # Smooth the mesh normals? default 0\n",
    "        (\"Mesh.Binary\",1), # Write mesh files in binary format (if possible)\n",
    "        (\"Mesh.MinimumCirclePoints\",0), # Minimum number of nodes used to mesh circles and ellipses\n",
    "        (\"Mesh.MinimumCurvePoints\",0), # Minimum number of points used to mesh curves other than lines, circles and ellipses\n",
    "        (\"Mesh.MinimumElementsPerTwoPi\",0), # Minimum number of elements per 2 * Pi radians when the mesh size is adapted to the curvature    \n",
    "        (\"Mesh.RefineSteps\",20), # Number of refinement steps in the MeshAdapt-based 2D algorithms, default:10\n",
    "    \n",
    "#         (\"Geometry.Tolerance\",radius_poisson*0.5),# Geometrical tolerance,default:1e-8\n",
    "        (\"Geometry.OCCFixDegenerated\",1), # Fix degenerated edges/faces when importing STEP, IGES and BRep models with the OpenCASCADE kernel, defulat:0\n",
    "        (\"Geometry.OCCFixSmallEdges\",1), # Fix small edges when importing STEP, IGES and BRep models with the OpenCASCADE kernel, defulat:0\n",
    "        (\"Geometry.OCCFixSmallFaces\",1), # Fix small faces when importing STEP, IGES and BRep models with the OpenCASCADE kernel, defulat:0\n",
    "#         (\"Geometry.OCCSewFaces\",1), # Sew faces when importing STEP, IGES and BRep models with the OpenCASCADE kernel\n",
    "#         (\"Geometry.OCCBoundsUseStl\",1), # Use STL mesh for computing bounds of OpenCASCADE shapes (more accurate, but slower)\n",
    "\n",
    "        (\"General.Verbosity\",0), # Level of information printed during processing (0: no information), default:5\n",
    "        (\"General.Terminal\",0), # Should information be printed on the terminal (if available)\n",
    "#         (\"Mesh.RandomSeed\",0), # Seed of pseudo-random number generator\n",
    "#         (\"Mesh.QualitySup\",0.5), # Only display elements whose quality measure is smaller than QualitySup\n",
    "]\n",
    "\n",
    "# 2D specific argument\n",
    "gmsh_args_2d = [\n",
    "        (\"Mesh.MeshSizeMin\", radius_poisson*1.25),\n",
    "        (\"Mesh.MeshSizeMax\", radius_poisson*1.25),\n",
    "] \n",
    "\n",
    "# 3D specific argument\n",
    "gmsh_args_3d = [\n",
    "        (\"Mesh.MeshSizeMin\", radius_poisson*1.0),\n",
    "        (\"Mesh.MeshSizeMax\", radius_poisson*1.0),\n",
    "]\n",
    "\n",
    "gmsh_args = gmsh_args+gmsh_args_2d # combined\n",
    "\n",
    "# # # discretize body\n",
    "# # in_file_name: str = \"../../mesh/soft_body_simplified.step\"\n",
    "# # out_file_name: str = \"../../mesh/soft_body_simplified.msh\"\n",
    "# in_file_name: str = \"../../mesh/leg_simplified.step\"\n",
    "# out_file_name: str = \"../../mesh/leg_simplified.msh\"\n",
    "# vmesh,_= generateGmsh(in_file_name,out_file_name,dim=3,gui=True)\n",
    "# # print(vmesh)\n",
    "# vmeshSummary(vmesh)"
   ]
  },
  {
   "cell_type": "markdown",
   "metadata": {},
   "source": [
    "# Leg discretization\n",
    "\n",
    "Only need to run once"
   ]
  },
  {
   "cell_type": "code",
   "execution_count": 5,
   "metadata": {
    "ExecuteTime": {
     "end_time": "2021-09-02T06:33:01.591098Z",
     "start_time": "2021-09-02T06:33:00.840035Z"
    }
   },
   "outputs": [
    {
     "name": "stdout",
     "output_type": "stream",
     "text": [
      "# vertices          = 177\n",
      "# surface triangle  = 336\n",
      "# tetra             = 499\n",
      "# unique tetra edges= 843\n",
      "# unique face edges = 504\n",
      "COM                 =  [32.943 61.472  0.244]\n",
      "COM norm            = 69.743\n",
      "mean edge length    = 19.47\n"
     ]
    },
    {
     "data": {
      "image/png": "[encoded data removed]",
      "text/plain": [
       "<Figure size 900x150 with 3 Axes>"
      ]
     },
     "metadata": {
      "image/png": {
       "height": 155,
       "width": 730
      }
     },
     "output_type": "display_data"
    }
   ],
   "source": [
    "in_file_name: str = f\"{mesh_folder}//leg_simplified.step\"\n",
    "out_file_name: str = f\"{mesh_folder}//leg_simplified.msh\"\n",
    "\n",
    "vmesh,_= generateGmsh(in_file_name,out_file_name,gmsh_args=gmsh_args,gmsh_args_3d=gmsh_args_3d,dim=3,gui=False)\n",
    "# # optimze vertices location\n",
    "# n_jobs = int(multiprocessing.cpu_count()*0.2)\n",
    "# total_jobs = int(n_jobs*1)\n",
    "# # print(n_jobs,total_jobs)\n",
    "# result = Parallel(n_jobs=n_jobs)(delayed(generateGmsh)(in_file_name,None) for i in range(total_jobs))\n",
    "# mse_list = [np.linalg.norm(np.mean(vmesh.points[vmesh.points[:,0]<=0],axis=0)[1:]) for vmesh,_ in result]\n",
    "# vmesh,best_vmesh_name = result[np.argmin(mse_list)]\n",
    "# shutil.copyfile(best_vmesh_name,out_file_name) # copy the temp file to the out file\n",
    "vmeshSummary(vmesh)\n",
    "\n",
    "# with np.printoptions(precision=3, suppress=True):\n",
    "#     print(\"COM at 1st section:\",np.mean(vmesh.points[vmesh.points[:,0]<=0],axis=0))    "
   ]
  },
  {
   "cell_type": "markdown",
   "metadata": {},
   "source": [
    "# Body discretization\n",
    "\n",
    "Only need to run once"
   ]
  },
  {
   "cell_type": "code",
   "execution_count": 6,
   "metadata": {
    "ExecuteTime": {
     "end_time": "2021-09-02T06:33:18.445207Z",
     "start_time": "2021-09-02T06:33:16.359734Z"
    }
   },
   "outputs": [
    {
     "name": "stdout",
     "output_type": "stream",
     "text": [
      "# vertices          = 1073\n",
      "# surface triangle  = 1982\n",
      "# tetra             = 3382\n",
      "# unique tetra edges= 5442\n",
      "# unique face edges = 2973\n",
      "COM                 =  [ 0.299  0.188 -0.667]\n",
      "COM norm            = 0.755\n",
      "mean edge length    = 19.44\n"
     ]
    },
    {
     "data": {
      "image/png": "[encoded data removed]",
      "text/plain": [
       "<Figure size 900x150 with 3 Axes>"
      ]
     },
     "metadata": {
      "image/png": {
       "height": 155,
       "width": 730
      }
     },
     "output_type": "display_data"
    }
   ],
   "source": [
    "# discretize body\n",
    "in_file_name: str = f\"{mesh_folder}//soft_body_simplified.step\"\n",
    "out_file_name: str = f\"{mesh_folder}//soft_body_simplified.msh\"\n",
    "vmesh,_= generateGmsh(in_file_name,out_file_name,gmsh_args=gmsh_args,gmsh_args_3d=gmsh_args_3d,gui=False)\n",
    "# print(vmesh)\n",
    "vmeshSummary(vmesh)"
   ]
  },
  {
   "cell_type": "markdown",
   "metadata": {},
   "source": [
    "### load descritized leg"
   ]
  },
  {
   "cell_type": "code",
   "execution_count": 7,
   "metadata": {
    "ExecuteTime": {
     "end_time": "2021-09-02T06:33:29.747187Z",
     "start_time": "2021-09-02T06:33:29.663608Z"
    },
    "scrolled": false
   },
   "outputs": [],
   "source": [
    "# %load_ext line_profiler\n",
    "# %lprun -f discretize vmesh_leg,mesh_leg,pcd_leg,lsd_leg,nsd_leg = discretize(msh_file=\"../../mesh/leg_simplified.msh\")\n",
    "# transform = np.array([\n",
    "#     [0, 0,1],\n",
    "#     [0, 1,0],\n",
    "#     [1,0,0],\n",
    "# ])\n",
    "\n",
    "vmd_leg = VolumeMesh.fromGmsh(\n",
    "    msh_file=f\"{mesh_folder}//leg_simplified.msh\",\n",
    "    min_radius=min_radius, max_radius=radius_knn, max_nn=max_nn,transform=np.eye(4))\n",
    "    \n",
    "# vmesh_leg,mesh_leg,pcd_leg,lsd_leg,nsd_leg = discretize(\n",
    "#     msh_file=\"../../mesh/leg_simplified.msh\",transform = transform)"
   ]
  },
  {
   "cell_type": "code",
   "execution_count": 21,
   "metadata": {
    "ExecuteTime": {
     "end_time": "2021-04-05T09:28:20.955576Z",
     "start_time": "2021-04-05T09:28:20.943384Z"
    }
   },
   "outputs": [],
   "source": [
    "# new_vertices = equidistantCylinder(\n",
    "#     r=radius_poisson*2*1.2, h=radius_poisson*4*1.2, dr=radius_poisson*1.2)\n",
    "# new_vertices = applyTransform(new_vertices, np.array(\n",
    "#     [[0, 0, 1],\n",
    "#      [1, 0, 0],\n",
    "#      [0, 1, 0]]))\n",
    "# vmd_leg.appendVertices(\n",
    "#     new_vertices, min_radius=0, max_radius=radius_knn, max_nn=max_nn)\n",
    "# o3dShow([vmd_leg.pcd(), vmd_leg.lsd()])\n",
    "\n",
    "# vmd = vmd_leg.copy()\n",
    "# cylinder_spec = dict(center=(0, 0, 0), axis=(1, 0, 0), radius=25, height=30)\n",
    "# cylinder, _ = generateGmsh(gmshGeoFcn=gmshGeoAddCylinder, gmsh_geo_kwargs=cylinder_spec,\n",
    "#                            gmsh_args=gmsh_args, gmsh_args_3d=gmsh_args_3d, gui=False)\n",
    "# vmd_cylinder = VolumeMesh.fromGmsh(\n",
    "#     cylinder, min_radius=min_radius, max_radius=radius_knn, max_nn=max_nn)\n",
    "# vmd = vmd.combine(vmd_cylinder, min_radius=min_radius,\n",
    "#               max_radius=radius_knn, max_nn=max_nn,keep_triangles=True)\n",
    "# o3dShow([vmd.pcd(), vmd.lsd(), vmd.o3dMesh()])\n",
    "# vmd.describe()\n",
    "# np.linalg.norm(vertices[lines][:,1]-vertices[lines][:,0],axis=1)"
   ]
  },
  {
   "cell_type": "markdown",
   "metadata": {},
   "source": [
    "### load descritized body"
   ]
  },
  {
   "cell_type": "code",
   "execution_count": 8,
   "metadata": {
    "ExecuteTime": {
     "end_time": "2021-09-02T06:33:37.264510Z",
     "start_time": "2021-09-02T06:33:37.025466Z"
    }
   },
   "outputs": [],
   "source": [
    "transform = np.array([[0, 0, 1, 0],\n",
    "                      [1, 0, 0, 0],\n",
    "                      [0, 1, 0, 0],\n",
    "                      [0, 0, 0, 1]], dtype=np.float64)\n",
    "# x: back->front\n",
    "# y: right->left\n",
    "# z: down->top\n",
    "vmd_body = VolumeMesh.fromGmsh(\n",
    "    msh_file=f\"{mesh_folder}//soft_body_simplified.msh\",\n",
    "    min_radius=min_radius, max_radius=radius_knn, max_nn=max_nn,transform=transform)"
   ]
  },
  {
   "cell_type": "code",
   "execution_count": 23,
   "metadata": {
    "ExecuteTime": {
     "end_time": "2021-04-05T09:28:21.832798Z",
     "start_time": "2021-04-05T09:28:21.820813Z"
    }
   },
   "outputs": [],
   "source": [
    "# vmd = VolumeMesh(vmd_leg.vertices,vmd_leg.lines,vmd_leg.triangles).copy(cmap ='pink')\n",
    "# o3dShow([vmd.lsd,vmd.pcd])"
   ]
  },
  {
   "cell_type": "markdown",
   "metadata": {},
   "source": [
    "# Assemble the parts"
   ]
  },
  {
   "cell_type": "code",
   "execution_count": 9,
   "metadata": {
    "ExecuteTime": {
     "end_time": "2021-09-02T06:33:40.706986Z",
     "start_time": "2021-09-02T06:33:40.101283Z"
    }
   },
   "outputs": [],
   "source": [
    "############################ defineing joints geometry\n",
    "rot_ang = 10.0/189.*np.pi\n",
    "cylinder_len = 103\n",
    "dx = 260.0/2 + cylinder_len*np.sin(rot_ang)\n",
    "dy = 0.0 + cylinder_len*np.cos(rot_ang)\n",
    "\n",
    "########################################################\n",
    "t_axial = translation((0,0,cylinder_len-half_joint_overlap)) # translate along cylinder\n",
    "t_zrot = axisAngleRotation((0,0,1),np.pi)\n",
    "\n",
    "t0 = translation((+dx,+dy,0)).dot(axisAngleRotation((0, 0, 1),-rot_ang+np.pi/2))# front left\n",
    "t1 = translation((-dx,+dy,0)).dot(axisAngleRotation((0, 0, 1),+rot_ang+np.pi/2))# back left\n",
    "t2 = translation((-dx,-dy,0)).dot(axisAngleRotation((0, 0, 1),-rot_ang-np.pi/2))# back right\n",
    "t3 = translation((+dx,-dy,0)).dot(axisAngleRotation((0, 0, 1),+rot_ang-np.pi/2))# front right"
   ]
  },
  {
   "cell_type": "code",
   "execution_count": 10,
   "metadata": {
    "ExecuteTime": {
     "end_time": "2021-09-02T06:33:41.615282Z",
     "start_time": "2021-09-02T06:33:40.977136Z"
    }
   },
   "outputs": [
    {
     "data": {
      "image/png": "[encoded data removed]",
      "text/plain": [
       "<Figure size 432x288 with 1 Axes>"
      ]
     },
     "metadata": {
      "image/png": {
       "height": 302,
       "width": 446
      }
     },
     "output_type": "display_data"
    }
   ],
   "source": [
    "graph = RobotDescription(unit_dict={\"length\":\"mm\"})\n",
    "graph.add_nodes_from([\n",
    "    (\"body\", {\"vmd\": vmd_body.copy(),\"color\":(1,0,0,1),\"density\":600}),  # main_body\n",
    "    (\"leg_0\", {\"vmd\": vmd_leg.copy(cmap ='spring'),\"color\":(0,1,0,1),\"density\":400}),  # front left\n",
    "    (\"leg_1\", {\"vmd\": vmd_leg.copy(cmap ='summer'),\"color\":(0,1,0,1),\"density\":400}),  # back left\n",
    "    (\"leg_2\", {\"vmd\": vmd_leg.copy(cmap ='autumn'),\"color\":(0,0,1,1),\"density\":400}),  # back right\n",
    "    (\"leg_3\", {\"vmd\": vmd_leg.copy(cmap ='winter'),\"color\":(0,0,1,1),\"density\":400}),  # front right\n",
    "#     (\"leg_4\", {\"vmd\": vmd_leg.copy(cmap ='winter'),\"color\":(0,0,1,1),\"density\":400}),  # front right\n",
    "],\n",
    "    transform = np.eye(4),\n",
    "    density = 400., # kg/m^3\n",
    "    color = np.array((1,1,1,1)) # white\n",
    ")\n",
    "\n",
    "graph.add_edges_from((\n",
    "    (\"body\", \"leg_0\", {\"order\":0,\"transform\": t0, \"joint_pos\": 0}),\n",
    "    (\"body\", \"leg_1\", {\"order\":1,\"transform\": t1, \"joint_pos\": 0}),\n",
    "    (\"body\", \"leg_2\", {\"order\":2,\"transform\": t2, \"joint_pos\": 0}),\n",
    "    (\"body\", \"leg_3\", {\"order\":3,\"transform\": t3, \"joint_pos\": 0}),\n",
    "#     (\"body\", \"leg_4\", {\"transform\": t3, \"joint_pos\": np.pi/2}),\n",
    "),\n",
    "    transform=np.eye(4),\n",
    "    joint_type=\"continuous\",\n",
    "    joint_pos=0, \n",
    "    axis=(1, 0, 0),\n",
    "    limit = { # units must be SI here\n",
    "        \"effort\":5, # torque, [Nm]\n",
    "        \"velocity\":round(487/60*2*np.pi) # speed [rad/s]\n",
    "    }\n",
    ")\n",
    "# create coordinate in body space\n",
    "graph.createCoordinateOXYZ(radius=15)\n",
    "\n",
    "nx.draw(graph,nx.spring_layout(graph), with_labels=True, font_weight='bold',node_size=2000,node_color=\"lightblue\")\n",
    "################## computed value ###################################\n",
    "graph.updateWorldTransform()\n",
    "# list(nx.edge_bfs(graph))\n",
    "\n",
    "\n",
    "\n",
    "graph.joint_pos = np.array([-np.pi/2,-np.pi/2,-np.pi/2,-np.pi/2])\n",
    "# graph.joint_pos = np.array([np.pi/8, np.pi/8, np.pi/8, np.pi/8])"
   ]
  },
  {
   "cell_type": "code",
   "execution_count": 12,
   "metadata": {
    "ExecuteTime": {
     "end_time": "2021-09-02T06:34:24.123783Z",
     "start_time": "2021-09-02T06:34:16.649756Z"
    }
   },
   "outputs": [
    {
     "name": "stdout",
     "output_type": "stream",
     "text": [
      "('body', 'leg_0'):47,47\n",
      "('body', 'leg_1'):47,47\n",
      "('body', 'leg_2'):47,47\n",
      "('body', 'leg_3'):47,47\n"
     ]
    }
   ],
   "source": [
    "world_space_pcds = [o3d.geometry.PointCloud(graph.nodes[n][\"vmd\"].pcd()).transform(\n",
    "    graph.nodes[n][\"world_transform\"]) for n in graph.nodes]\n",
    "\n",
    "world_space_lsd = [o3d.geometry.LineSet(graph.nodes[n][\"vmd\"].lsd()).transform(\n",
    "    graph.nodes[n][\"world_transform\"]) for n in graph.nodes]\n",
    "\n",
    "world_space_o3dMesh = [o3d.geometry.TriangleMesh(graph.nodes[n][\"vmd\"].o3dMesh()).transform(\n",
    "    graph.nodes[n][\"world_transform\"]) for n in graph.nodes]\n",
    "\n",
    "\n",
    "\n",
    "link_coordinate_frames = [o3d.geometry.TriangleMesh.create_coordinate_frame(\n",
    "    size=50).transform(graph.nodes[n][\"world_transform\"])for n in graph.nodes]\n",
    "\n",
    "joint_coordiate_frams = [o3d.geometry.TriangleMesh.create_coordinate_frame(\n",
    "    size=50).transform(graph.edges[e][\"world_transform\"])for e in graph.edges]\n",
    "\n",
    "# o3dShow(world_space_pcds+world_space_lsd+link_coordinate_frames+joint_coordiate_frams + [coord_frame])\n",
    "\n",
    "###############################################\n",
    "discretization_opt = dict(\n",
    "    radius_poisson = radius_poisson,\n",
    "    min_radius=min_radius, \n",
    "    max_radius=radius_knn, \n",
    "    max_nn=max_nn,\n",
    "    joint_radius = 25,\n",
    "    joint_height = 50,\n",
    "    joint_sections = 50, # number of sections of the joint cylinder mesh\n",
    "    gmsh_args=gmsh_args,\n",
    "    gmsh_args_3d=gmsh_args_3d\n",
    ")\n",
    "\n",
    "\n",
    "\n",
    "graph = graph.makeJoint(opt=discretization_opt)\n",
    "########################################\n",
    "\n",
    "joint_cylinders = [o3d.geometry.TriangleMesh(graph.edges[e][\"cylinder_parent\"].o3dMesh()).transform(\n",
    "    graph.nodes[e[0]][\"world_transform\"]) for e in graph.edges]\n",
    "# o3dShow(world_space_pcds[0:]+world_space_lsd[0:]+world_space_o3dMesh[0:]+joint_cylinders[0:])#+link_coordinate_frames+joint_coordiate_frams)\n",
    "o3dShow(world_space_pcds[0:]+world_space_lsd[0:]+joint_cylinders[0:])#+link_coordinate_frames+joint_coordiate_frams)\n",
    "\n",
    "# robot_lsd = o3d.geometry.LineSet(\n",
    "#     o3d.utility.Vector3dVector(vertices),\n",
    "#     o3d.utility.Vector2iVector(lines))\n",
    "# robot_lsd.colors = o3d.utility.Vector3dVector(colors[lines].mean(axis=1))\n",
    "# o3dShow([robot_lsd]+joint_cylinders[0:])"
   ]
  },
  {
   "cell_type": "code",
   "execution_count": 13,
   "metadata": {
    "ExecuteTime": {
     "end_time": "2021-09-02T06:34:43.055825Z",
     "start_time": "2021-09-02T06:34:43.035728Z"
    }
   },
   "outputs": [],
   "source": [
    "# saving\n",
    "import pickle\n",
    "path = f\"{robot_folder}//robot.pickle\"\n",
    "with open(path,\"wb\") as f:\n",
    "    pickle.dump(graph,f)"
   ]
  },
  {
   "cell_type": "code",
   "execution_count": 9,
   "metadata": {
    "ExecuteTime": {
     "end_time": "2021-06-13T07:37:38.181972Z",
     "start_time": "2021-06-13T07:37:38.165966Z"
    }
   },
   "outputs": [],
   "source": [
    "# # loading\n",
    "# import pickle\n",
    "# path = f\"{robot_folder}//robot.pickle\"\n",
    "# with open(path,\"rb\") as f:\n",
    "#     graph = pickle.load(f)"
   ]
  },
  {
   "cell_type": "markdown",
   "metadata": {},
   "source": [
    "# create spring-mass representation"
   ]
  },
  {
   "cell_type": "code",
   "execution_count": 14,
   "metadata": {
    "ExecuteTime": {
     "end_time": "2021-09-02T06:35:43.261041Z",
     "start_time": "2021-09-02T06:35:42.164731Z"
    }
   },
   "outputs": [
    {
     "name": "stdout",
     "output_type": "stream",
     "text": [
      "dict_id2node=\n",
      "{0: 'body', 1: 'leg_0', 2: 'leg_1', 3: 'leg_2', 4: 'leg_3'}\n",
      "dict_id2edge=\n",
      "{0: ('body', 'leg_0'), 1: ('body', 'leg_1'), 2: ('body', 'leg_2'), 3: ('body', 'leg_3')}\n",
      "----------------------------------------\n",
      "id_vertices:\n",
      "label           length  indices\n",
      "part            2129    [   0 1245 1466 1687 1908 2129]\n",
      "anchor          8       [2129 2131 2133 2135 2137]\n",
      "part_coord      30      [2137 2143 2149 2155 2161 2167]\n",
      "joint_coord     24      [2167 2173 2179 2185 2191]\n",
      "----------------------------------------\n",
      "id_lines:\n",
      "label           length  indices\n",
      "part            15706   [    0  9210 10834 12458 14082 15706]\n",
      "anchor          4       [15706 15707 15708 15709 15710]\n",
      "rot_spring      752     [15710 15898 16086 16274 16462]\n",
      "fri_spring      3760    [16462 17402 18342 19282 20222]\n",
      "coord           135     [20222 20237 20252 20267 20282 20297 20312 20327 20342 20357]\n",
      "coord_attach    1080    [20357 20477 20597 20717 20837 20957 21077 21197 21317 21437]\n",
      "----------------------------------------\n"
     ]
    },
    {
     "data": {
      "image/png": "[encoded data removed]",
      "text/plain": [
       "<Figure size 720x216 with 1 Axes>"
      ]
     },
     "metadata": {
      "image/png": {
       "height": 190,
       "width": 598
      }
     },
     "output_type": "display_data"
    }
   ],
   "source": [
    "# number of attachment lines per point in the attached coordinates\n",
    "# num_attach_per_coord = 20\n",
    "num_attach_per_coord = 20\n",
    "\n",
    "# num of friction spring (spring connecting the two parts of the joint) per mass\n",
    "# num_fri_spring_per_mass = 20\n",
    "num_fri_spring_per_mass = 20\n",
    "\n",
    "######################################################################\n",
    "dict_id2node = dict(enumerate(graph.nodes)) # dict of index to node\n",
    "dict_node2id = dict(zip(graph.nodes, range(len(graph.nodes)))) # dict of node to index\n",
    "print(f\"dict_id2node=\\n{dict_id2node}\")\n",
    "dict_id2edge = dict(enumerate(graph.edges)) # dict of index to edges\n",
    "dict_edge2id = dict(zip(graph.edges, range(len(graph.edges))))\n",
    "print(f\"dict_id2edge=\\n{dict_id2edge}\",\"-\"*40, sep = \"\\n\")\n",
    "\n",
    "\n",
    "graph.updateWorldTransform()\n",
    "\n",
    "# ############################# transform vertices local to world ############\n",
    "part_vertices = [applyTransform(graph.nodes[n][\"vmd\"].vertices,\n",
    "                                graph.nodes[n][\"world_transform\"]) for n in graph.nodes]\n",
    "anchor_vertices = [applyTransform(graph.edges[e]['anchor'],\n",
    "                                  graph.edges[e][\"world_transform\"]) for e in graph.orderedEdges]\n",
    "part_coord_vertices = [applyTransform(graph.nodes[n]['coord'],\n",
    "                                      graph.nodes[n][\"world_transform\"]) for n in graph.nodes]\n",
    "joint_coord_vertices = [applyTransform(graph.edges[e]['coord'],\n",
    "                                       graph.edges[e][\"world_transform\"]) for e in graph.orderedEdges]\n",
    "\n",
    "\n",
    "vertices, id_vertices = flattenNamedArrays((\n",
    "    (\"part\", part_vertices),\n",
    "    (\"anchor\", anchor_vertices),\n",
    "    (\"part_coord\", part_coord_vertices),\n",
    "    (\"joint_coord\", joint_coord_vertices)),dim=3)\n",
    "\n",
    "# colors of the vertices\n",
    "part_colors = np.vstack([graph.nodes[n][\"vmd\"][\"vertices_color\"] for n in graph.nodes])\n",
    "colors = np.zeros((len(vertices), 3))\n",
    "colors[:len(part_colors)] = part_colors\n",
    "\n",
    "###################################################################\n",
    "vid_part = id_vertices[\"part\"]\n",
    "vid_anchor = id_vertices[\"anchor\"]\n",
    "vid_part_coord = id_vertices[\"part_coord\"]\n",
    "vid_joint_coord = id_vertices[\"joint_coord\"]\n",
    "\n",
    "for k, n in enumerate(graph.nodes):\n",
    "    graph.nodes[n][\"vertex_start_id\"] = vid_part[k]\n",
    "    graph.nodes[n][\"coord_start_id\"] = vid_part_coord[k]\n",
    "for k, e in enumerate(graph.orderedEdges):\n",
    "    graph.edges[e][\"coord_start_id\"] = vid_joint_coord[k]\n",
    "    graph.edges[e][\"anchor_start_id\"] = vid_anchor[k]\n",
    "############################################################\n",
    "part_triangles = [graph.nodes[n][\"vmd\"].triangles +\n",
    "              graph.nodes[n][\"vertex_start_id\"] for n in graph.nodes]\n",
    "\n",
    "triangles = np.vstack(part_triangles)\n",
    "###############################################################\n",
    "# part surfaces\n",
    "part_surface_id = np.unique(triangles)\n",
    "is_surface = np.zeros(len(vertices), dtype=bool)\n",
    "is_surface[part_surface_id] = True\n",
    "###############################################################\n",
    "# lines\n",
    "part_lines = [graph.nodes[n][\"vmd\"].lines +\n",
    "              graph.nodes[n][\"vertex_start_id\"] for n in graph.nodes]\n",
    "\n",
    "anchor_lines = [(graph.edges[e][\"anchor_start_id\"],\n",
    "                 graph.edges[e][\"anchor_start_id\"]+1) for e in graph.orderedEdges]\n",
    "\n",
    "part_coord_self_lines = [graph.nodes[n][\"coord_start_id\"] +\n",
    "                         graph.nodes[n][\"coord_self_lines\"] for n in graph.nodes]\n",
    "joint_coord_self_lines = [graph.edges[e][\"coord_start_id\"] +\n",
    "                          graph.edges[e][\"coord_self_lines\"] for e in graph.orderedEdges]\n",
    "\n",
    "\n",
    "# connecting coordinate to the body parts\n",
    "part_coord_attach_lines = []\n",
    "for k, n in enumerate(graph.nodes):\n",
    "    part_coord_attach_lines.append(\n",
    "        joinLines(left_vertices=part_vertices[k],\n",
    "                  right_vertices=part_coord_vertices[k],\n",
    "                  max_nn=num_attach_per_coord, min_radius=min_radius, max_radius=radius_knn*10,\n",
    "                  left_id_start=vid_part[k],\n",
    "                  right_id_start=vid_part_coord[k]))\n",
    "\n",
    "# connecting coordinate to the joint-parent\n",
    "joint_coord_attach_lines = []\n",
    "for k, e in enumerate(graph.orderedEdges):\n",
    "    parent_id = dict_node2id[e[0]]\n",
    "    joint_coord_attach_lines.append(\n",
    "        joinLines(left_vertices=part_vertices[parent_id],  # parent vertices\n",
    "                  right_vertices=joint_coord_vertices[k],\n",
    "                  max_nn=num_attach_per_coord, min_radius=min_radius, max_radius=radius_knn*10,\n",
    "                  left_id_start=vid_part[parent_id],\n",
    "                  right_id_start=vid_joint_coord[k]))\n",
    "\n",
    "\n",
    "joints = []\n",
    "\n",
    "for k, e in enumerate(graph.orderedEdges):\n",
    "    edge = graph.edges[e]\n",
    "    parent = e[0]\n",
    "    child = e[1]\n",
    "    parent_id = dict_node2id[e[0]]\n",
    "    child_id = dict_node2id[e[1]]\n",
    "    left = edge[\"id_joint_parent\"]+vid_part[parent_id]\n",
    "    right = edge[\"id_joint_child\"]+vid_part[child_id]\n",
    "    joint_k = Joint(\n",
    "        left=left, # indices of the left mass\n",
    "        right=right, # indices of the right mass\n",
    "        vertices=vertices, # flattened array of vertices\n",
    "        anchor=anchor_lines[k], # anchoring points (index) for the joint\n",
    "        left_coord=edge[\"coord_start_id\"],  # start id of the left coordinate\n",
    "        right_coord=graph.nodes[child][\"coord_start_id\"], # start id of the right coordinate (child)\n",
    "        min_radius = min_radius*0.5,\n",
    "        num_spring_per_mass = num_fri_spring_per_mass,\n",
    "        axis=edge[\"axis\"]\n",
    "    )\n",
    "    joints.append(joint_k)\n",
    "\n",
    "rot_springs = [j.rot_spring for j in joints]\n",
    "fri_springs = [j.fri_spring for j in joints]\n",
    "\n",
    "\n",
    "# lines:\n",
    "# parts_lines = part_k_lines for k in range(#nodes)\n",
    "# anchors_lines\n",
    "# oxyz_self_springs\n",
    "# oxyz_anchor_springs\n",
    "# rotation springs\n",
    "# resetable friction springs\n",
    "\n",
    "coord_self_lines = part_coord_self_lines+joint_coord_self_lines\n",
    "coord_attach_lines = part_coord_attach_lines+joint_coord_attach_lines\n",
    "\n",
    "lines,id_lines = flattenNamedArrays((\n",
    "    (\"part\",part_lines),\n",
    "    (\"anchor\",anchor_lines),\n",
    "    (\"rot_spring\",rot_springs),\n",
    "    (\"fri_spring\",fri_springs),\n",
    "    (\"coord\",coord_self_lines),\n",
    "    (\"coord_attach\",coord_attach_lines)),dim=2)\n",
    "\n",
    "# whether the springs has surface end-points\n",
    "lines_is_surface = np.bitwise_or.reduce(np.isin(lines,part_surface_id),1)\n",
    "\n",
    "########################## print info #################################################\n",
    "######## print id_vertices\n",
    "print(\"id_vertices:\")\n",
    "print(f\"{'label':16s}{'length':8s}{'indices'}\")\n",
    "for label,ids in id_vertices.items():\n",
    "    print(f\"{label:16s}{ids[-1]-ids[0]:<8d}{ids}\".replace('\\n', '\\n'+' '*24))\n",
    "print(\"-\"*40)\n",
    "\n",
    "######## print id_lines\n",
    "print(\"id_lines:\")\n",
    "print(f\"{'label':16s}{'length':8s}{'indices'}\")\n",
    "for label,ids in id_lines.items():\n",
    "    print(f\"{label:16s}{ids[-1]-ids[0]:<8d}{ids}\".replace('\\n', '\\n'+' '*24))\n",
    "print(\"-\"*40)\n",
    "\n",
    "lines_length = np.linalg.norm(vertices[lines[:,0]] - vertices[lines[:,1]],axis=1)\n",
    "plt.figure(figsize=(10,3))\n",
    "n,bins,_ =plt.hist(lines_length,bins=\"auto\")\n",
    "plt.text(bins[0],0,f\"{bins[0]:.1f}\",ha=\"left\",va=\"bottom\",fontsize=\"large\",color='r')\n",
    "plt.text(bins[-1],0,f\"{bins[-1]:.1f}\",ha=\"right\",va=\"bottom\",fontsize=\"large\",color='r')\n",
    "\n",
    "plt.show()"
   ]
  },
  {
   "cell_type": "code",
   "execution_count": 16,
   "metadata": {
    "ExecuteTime": {
     "end_time": "2021-09-02T06:36:44.061784Z",
     "start_time": "2021-09-02T06:36:44.007782Z"
    }
   },
   "outputs": [],
   "source": [
    "num_body = len(graph.nodes)\n",
    "joint_vertex_id = np.sort(np.stack([(j.left,j.right) for j in joints]).ravel())\n",
    "# lines connected to joints\n",
    "lines_is_joint = np.bitwise_or.reduce(np.isin(lines,joint_vertex_id),1)\n",
    "# lines parts only\n",
    "lines_is_part = np.zeros(len(lines),dtype=bool)\n",
    "lines_is_part[id_lines[\"part\"][1]:id_lines[\"part\"][-1]] = True\n",
    "# selected sensor lines (bool)\n",
    "# lines_selected = ~lines_is_surface  * lines_is_part* ~lines_is_joint #bone\n",
    "# lines_selected = lines_is_surface  * lines_is_part* ~lines_is_joint # skin\n",
    "lines_selected = lines_is_part* ~lines_is_joint # all\n",
    "\n",
    "\n",
    "####################################################\n",
    "robot_lsd = o3d.geometry.LineSet(\n",
    "    o3d.utility.Vector3dVector(vertices),\n",
    "    o3d.utility.Vector2iVector(lines))\n",
    "robot_lsd.colors = o3d.utility.Vector3dVector(colors[lines].mean(axis=1))\n",
    "\n",
    "############# selected edges #########################\n",
    "# robot_lsd.paint_uniform_color((0.1,0.1,0.1))\n",
    "# colors = np.asarray(robot_lsd.colors)\n",
    "# # colors[np.logical_not(lines_is_surface)] = (1,1,1)\n",
    "# colors[lines_selected] = (1,1,1)\n",
    "# colors[lines_is_joint] = (1,0,0)\n",
    "# robot_lsd.colors = o3d.utility.Vector3dVector(colors)\n",
    "#######################################################\n",
    "# robot_lsd.paint_uniform_color((0.1,0.1,0.1))\n",
    "# step =  (id_lines[num_body])//128\n",
    "# colors = np.asarray(robot_lsd.colors)\n",
    "# colors[np.logical_not(lines_is_surface)] = (0.2,0.2,0.2)\n",
    "# colors[range(0,id_lines[num_body],step)] = (1,1,1)\n",
    "# robot_lsd.colors = o3d.utility.Vector3dVector(colors)\n",
    "\n",
    "# o3dShow([robot_lsd,coord_frame],background_color=(0,0,0))"
   ]
  },
  {
   "cell_type": "code",
   "execution_count": 17,
   "metadata": {
    "ExecuteTime": {
     "end_time": "2021-09-02T06:37:18.760012Z",
     "start_time": "2021-09-02T06:37:12.431562Z"
    }
   },
   "outputs": [
    {
     "name": "stdout",
     "output_type": "stream",
     "text": [
      "[-0.18532072 -0.17082884 -0.001     ]\n",
      "[0.18532072 0.17082884 0.1894335 ]\n",
      "(2191, 3)\n",
      "(21437, 2)\n"
     ]
    }
   ],
   "source": [
    "# o3dShow(robot_lsd)\n",
    "# export\n",
    "xyz_all_trans = vertices.copy()\n",
    "\n",
    "# xyz_all_trans = applyTransform(xyz_all_trans,axisAngleRotation((0, 1, 0),-np.pi/2))\n",
    "\n",
    "min_bound = xyz_all_trans.min(axis=0)\n",
    "# transoformed ofset scaled mm->m\n",
    "xyz_all_trans = (xyz_all_trans + np.array([0, 0, 0-min_bound[-1]+-1]))/1000\n",
    "# xyz_all_trans = (xyz_all_trans + np.array([0, 0, 0-min_bound[-1]]))/1000\n",
    "# xyz_all_trans = (xyz_all_trans + np.array([0, 0, 0-min_bound[-1]+200]))/1000\n",
    "\n",
    "\n",
    "joints_list = [joint.toDict() for joint in joints]\n",
    "data = {\n",
    "    \"radius_poisson\":radius_poisson*1e-3,# convert to m\n",
    "    \"vertices\":xyz_all_trans.tolist(),\n",
    "    \"edges\":lines.tolist(),\n",
    "    \"triangles\":triangles.tolist(),\n",
    "    \"is_surface\":is_surface.tolist(),\n",
    "    \"id_vertices\":{key:arr.tolist() for key,arr in id_vertices.items()},\n",
    "    \"id_edges\":{key:arr.tolist() for key,arr in id_lines.items()},\n",
    "    \"colors\":colors.tolist(),\n",
    "    \"joints\":joints_list,\n",
    "#     \"is_surface_edges\":lines_is_surface.tolist(), # surface lines\n",
    "    \"id_selected_edges\":np.flatnonzero(lines_selected).tolist() # selected edges for spring strain\n",
    "}\n",
    "\n",
    "\n",
    "\n",
    "print(xyz_all_trans.min(axis=0))\n",
    "print(xyz_all_trans.max(axis=0))\n",
    "print(xyz_all_trans.shape)\n",
    "print(lines.shape)\n",
    "\n",
    "\n",
    "robot_lsd = o3d.geometry.LineSet(\n",
    "    o3d.utility.Vector3dVector(xyz_all_trans),\n",
    "    o3d.utility.Vector2iVector(lines))\n",
    "robot_lsd.colors = o3d.utility.Vector3dVector(colors[lines].mean(axis=1))\n",
    "o3dShow([robot_lsd,o3d.geometry.TriangleMesh.create_coordinate_frame(\n",
    "    size=0.1, origin=[0, 0, 0])])\n",
    "\n",
    "# https://stackoverflow.com/questions/43442194/how-do-i-read-and-write-with-msgpack\n",
    "# Write msgpack file\n",
    "with open('../flexipod_4dof.msgpack', 'wb') as outfile:\n",
    "    msgpack.pack(data, outfile)\n",
    "    \n",
    "# # Read msgpack file\n",
    "# with open('../flexipod_12dof.msgpack','rb') as data_file:\n",
    "#     # data_loaded = json.load(data_file)\n",
    "#     data_loaded = msgpack.unpack(data_file)"
   ]
  },
  {
   "cell_type": "code",
   "execution_count": 21,
   "metadata": {
    "ExecuteTime": {
     "end_time": "2021-04-11T14:28:31.258367Z",
     "start_time": "2021-04-11T14:28:31.243508Z"
    }
   },
   "outputs": [],
   "source": [
    "# should change sim.dt = 4e-5;"
   ]
  },
  {
   "cell_type": "markdown",
   "metadata": {},
   "source": [
    "# The rest part are not ready"
   ]
  },
  {
   "cell_type": "markdown",
   "metadata": {},
   "source": [
    "# export assembly"
   ]
  },
  {
   "cell_type": "markdown",
   "metadata": {},
   "source": [
    "# URDF"
   ]
  },
  {
   "cell_type": "code",
   "execution_count": 18,
   "metadata": {
    "ExecuteTime": {
     "end_time": "2021-09-02T06:37:32.790029Z",
     "start_time": "2021-09-02T06:37:32.729015Z"
    },
    "scrolled": true
   },
   "outputs": [
    {
     "name": "stdout",
     "output_type": "stream",
     "text": [
      "URDF path:D:\\repo\\FlexipodFast\\robot\\4dof\\urdf\\robot.urdf\n",
      "\n",
      "<?xml version='1.0' encoding='ASCII'?>\n",
      "<robot name=\"robot\">\n",
      "  <link name=\"body\">\n",
      "    <inertial>\n",
      "      <origin xyz=\"0.0 0.0 0.0\" rpy=\"0.0 0.0 0.0\"/>\n",
      "      <mass value=\"1.5665020311623215\"/>\n",
      "      <inertia ixx=\"0.005477938308348608\" ixy=\"6.123752902270894e-07\" ixz=\"-3.265686826018712e-08\" iyy=\"0.019944211589765858\" iyz=\"-2.4884903377572354e-08\" izz=\"0.024048066912883848\"/>\n",
      "    </inertial>\n",
      "    <visual>\n",
      "      <origin xyz=\"0.0 0.0 0.0\" rpy=\"0.0 0.0 0.0\"/>\n",
      "      <geometry>\n",
      "        <mesh filename=\"mesh/body.obj\"/>\n",
      "      </geometry>\n",
      "      <material name=\"#ff0000ff\">\n",
      "        <color rgba=\"1 0 0 1\"/>\n",
      "      </material>\n",
      "    </visual>\n",
      "    <collision>\n",
      "      <origin xyz=\"0.0 0.0 0.0\" rpy=\"0.0 0.0 0.0\"/>\n",
      "      <geometry>\n",
      "        <mesh filename=\"mesh/body.obj\"/>\n",
      "      </geometry>\n",
      "    </collision>\n",
      "  </link>\n",
      "  <link name=\"leg_0\">\n",
      "    <inertial>\n",
      "      <origin xyz=\"0.0 0.0 0.0\" rpy=\"0.0 0.0 0.0\"/>\n",
      "      <mass value=\"0.16367238574463583\"/>\n",
      "      <inertia ixx=\"0.00041044527294799966\" ixy=\"-3.958669715673647e-05\" ixz=\"6.359176254884208e-08\" iyy=\"8.266255855721674e-05\" iyz=\"-5.7025743561705324e-08\" izz=\"0.0004175782293150582\"/>\n",
      "    </inertial>\n",
      "    <visual>\n",
      "      <origin xyz=\"0.0 0.0 0.0\" rpy=\"0.0 0.0 0.0\"/>\n",
      "      <geometry>\n",
      "        <mesh filename=\"mesh/leg_0.obj\"/>\n",
      "      </geometry>\n",
      "      <material name=\"#00ff00ff\">\n",
      "        <color rgba=\"0 1 0 1\"/>\n",
      "      </material>\n",
      "    </visual>\n",
      "    <collision>\n",
      "      <origin xyz=\"0.0 0.0 0.0\" rpy=\"0.0 0.0 0.0\"/>\n",
      "      <geometry>\n",
      "        <mesh filename=\"mesh/leg_0.obj\"/>\n",
      "      </geometry>\n",
      "    </collision>\n",
      "  </link>\n",
      "  <link name=\"leg_1\">\n",
      "    <inertial>\n",
      "      <origin xyz=\"0.0 0.0 0.0\" rpy=\"0.0 0.0 0.0\"/>\n",
      "      <mass value=\"0.16367238574463583\"/>\n",
      "      <inertia ixx=\"0.00041044527294799966\" ixy=\"-3.958669715673647e-05\" ixz=\"6.359176254884208e-08\" iyy=\"8.266255855721674e-05\" iyz=\"-5.7025743561705324e-08\" izz=\"0.0004175782293150582\"/>\n",
      "    </inertial>\n",
      "    <visual>\n",
      "      <origin xyz=\"0.0 0.0 0.0\" rpy=\"0.0 0.0 0.0\"/>\n",
      "      <geometry>\n",
      "        <mesh filename=\"mesh/leg_1.obj\"/>\n",
      "      </geometry>\n",
      "      <material name=\"#00ff00ff\">\n",
      "        <color rgba=\"0 1 0 1\"/>\n",
      "      </material>\n",
      "    </visual>\n",
      "    <collision>\n",
      "      <origin xyz=\"0.0 0.0 0.0\" rpy=\"0.0 0.0 0.0\"/>\n",
      "      <geometry>\n",
      "        <mesh filename=\"mesh/leg_1.obj\"/>\n",
      "      </geometry>\n",
      "    </collision>\n",
      "  </link>\n",
      "  <link name=\"leg_2\">\n",
      "    <inertial>\n",
      "      <origin xyz=\"0.0 0.0 0.0\" rpy=\"0.0 0.0 0.0\"/>\n",
      "      <mass value=\"0.16367238574463583\"/>\n",
      "      <inertia ixx=\"0.00041044527294799966\" ixy=\"-3.958669715673647e-05\" ixz=\"6.359176254884208e-08\" iyy=\"8.266255855721674e-05\" iyz=\"-5.7025743561705324e-08\" izz=\"0.0004175782293150582\"/>\n",
      "    </inertial>\n",
      "    <visual>\n",
      "      <origin xyz=\"0.0 0.0 0.0\" rpy=\"0.0 0.0 0.0\"/>\n",
      "      <geometry>\n",
      "        <mesh filename=\"mesh/leg_2.obj\"/>\n",
      "      </geometry>\n",
      "      <material name=\"#0000ffff\">\n",
      "        <color rgba=\"0 0 1 1\"/>\n",
      "      </material>\n",
      "    </visual>\n",
      "    <collision>\n",
      "      <origin xyz=\"0.0 0.0 0.0\" rpy=\"0.0 0.0 0.0\"/>\n",
      "      <geometry>\n",
      "        <mesh filename=\"mesh/leg_2.obj\"/>\n",
      "      </geometry>\n",
      "    </collision>\n",
      "  </link>\n",
      "  <link name=\"leg_3\">\n",
      "    <inertial>\n",
      "      <origin xyz=\"0.0 0.0 0.0\" rpy=\"0.0 0.0 0.0\"/>\n",
      "      <mass value=\"0.16367238574463583\"/>\n",
      "      <inertia ixx=\"0.00041044527294799966\" ixy=\"-3.958669715673647e-05\" ixz=\"6.359176254884208e-08\" iyy=\"8.266255855721674e-05\" iyz=\"-5.7025743561705324e-08\" izz=\"0.0004175782293150582\"/>\n",
      "    </inertial>\n",
      "    <visual>\n",
      "      <origin xyz=\"0.0 0.0 0.0\" rpy=\"0.0 0.0 0.0\"/>\n",
      "      <geometry>\n",
      "        <mesh filename=\"mesh/leg_3.obj\"/>\n",
      "      </geometry>\n",
      "      <material name=\"#0000ffff\">\n",
      "        <color rgba=\"0 0 1 1\"/>\n",
      "      </material>\n",
      "    </visual>\n",
      "    <collision>\n",
      "      <origin xyz=\"0.0 0.0 0.0\" rpy=\"0.0 0.0 0.0\"/>\n",
      "      <geometry>\n",
      "        <mesh filename=\"mesh/leg_3.obj\"/>\n",
      "      </geometry>\n",
      "    </collision>\n",
      "  </link>\n",
      "  <joint name=\"body,leg_0\" type=\"continuous\">\n",
      "    <origin xyz=\"0.14704211705138975 0.10158034379941197 0.0\" rpy=\"0.0 0.0 1.404574493271627\"/>\n",
      "    <parent link=\"body\"/>\n",
      "    <child link=\"leg_0\"/>\n",
      "    <axis xyz=\"1.0 0.0 0.0\"/>\n",
      "    <limit effort=\"5\" velocity=\"51\"/>\n",
      "  </joint>\n",
      "  <joint name=\"body,leg_1\" type=\"continuous\">\n",
      "    <origin xyz=\"-0.14704211705138975 0.10158034379941197 0.0\" rpy=\"0.0 0.0 1.737018160318166\"/>\n",
      "    <parent link=\"body\"/>\n",
      "    <child link=\"leg_1\"/>\n",
      "    <axis xyz=\"1.0 0.0 0.0\"/>\n",
      "    <limit effort=\"5\" velocity=\"51\"/>\n",
      "  </joint>\n",
      "  <joint name=\"body,leg_2\" type=\"continuous\">\n",
      "    <origin xyz=\"-0.14704211705138975 -0.10158034379941197 0.0\" rpy=\"0.0 0.0 -1.737018160318166\"/>\n",
      "    <parent link=\"body\"/>\n",
      "    <child link=\"leg_2\"/>\n",
      "    <axis xyz=\"1.0 0.0 0.0\"/>\n",
      "    <limit effort=\"5\" velocity=\"51\"/>\n",
      "  </joint>\n",
      "  <joint name=\"body,leg_3\" type=\"continuous\">\n",
      "    <origin xyz=\"0.14704211705138975 -0.10158034379941197 0.0\" rpy=\"0.0 0.0 -1.404574493271627\"/>\n",
      "    <parent link=\"body\"/>\n",
      "    <child link=\"leg_3\"/>\n",
      "    <axis xyz=\"1.0 0.0 0.0\"/>\n",
      "    <limit effort=\"5\" velocity=\"51\"/>\n",
      "  </joint>\n",
      "</robot>\n",
      "\n"
     ]
    },
    {
     "data": {
      "text/plain": [
       "<lxml.etree._ElementTree at 0x2a033708e80>"
      ]
     },
     "execution_count": 18,
     "metadata": {},
     "output_type": "execute_result"
    }
   ],
   "source": [
    "# generate URDF\n",
    "urdf_path = f\"{robot_folder}//urdf/robot.urdf\"\n",
    "graph.exportURDF(path= urdf_path)"
   ]
  },
  {
   "cell_type": "code",
   "execution_count": 19,
   "metadata": {
    "ExecuteTime": {
     "end_time": "2021-09-02T06:40:23.963744Z",
     "start_time": "2021-09-02T06:39:40.101524Z"
    }
   },
   "outputs": [],
   "source": [
    "import numpy as np\n",
    "import pybullet as p\n",
    "import time\n",
    "import pybullet_data\n",
    "##########################################\n",
    "urdf_path = f\"{robot_folder}//urdf/robot.urdf\"\n",
    "####################################################\n",
    "gui = p.connect(p.GUI)\n",
    "p.setAdditionalSearchPath(pybullet_data.getDataPath())\n",
    "p.resetSimulation(physicsClientId=gui)\n",
    "robot_id = p.loadURDF(urdf_path, physicsClientId=gui)\n",
    "# ############# set joint position ####################\n",
    "joint_pos = np.array([-np.pi/2, -np.pi/2, -np.pi/2, -np.pi/2])\n",
    "p.setJointMotorControlArray(robot_id,np.arange(p.getNumJoints(robot_id)),p.POSITION_CONTROL,joint_pos)\n",
    "# ##################################################\n",
    "while (p.getConnectionInfo(physicsClientId=gui)[\"isConnected\"]):\n",
    "    p.stepSimulation(physicsClientId=gui)\n",
    "    time.sleep(0.01)"
   ]
  },
  {
   "cell_type": "code",
   "execution_count": null,
   "metadata": {},
   "outputs": [],
   "source": []
  }
 ],
 "metadata": {
  "kernelspec": {
   "display_name": "Python 3",
   "language": "python",
   "name": "python3"
  },
  "language_info": {
   "codemirror_mode": {
    "name": "ipython",
    "version": 3
   },
   "file_extension": ".py",
   "mimetype": "text/x-python",
   "name": "python",
   "nbconvert_exporter": "python",
   "pygments_lexer": "ipython3",
   "version": "3.8.8"
  }
 },
 "nbformat": 4,
 "nbformat_minor": 2
}
