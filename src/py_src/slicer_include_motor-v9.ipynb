{
 "cells": [
  {
   "cell_type": "markdown",
   "metadata": {},
   "source": [
    "# Utility"
   ]
  },
  {
   "cell_type": "code",
   "execution_count": 38,
   "metadata": {
    "ExecuteTime": {
     "end_time": "2021-06-28T02:19:38.056102Z",
     "start_time": "2021-06-28T02:19:38.028094Z"
    },
    "init_cell": true
   },
   "outputs": [
    {
     "name": "stdout",
     "output_type": "stream",
     "text": [
      "open3d :0.12.0\n",
      "trimesh:3.9.8\n",
      "numba  :0.53.0\n"
     ]
    }
   ],
   "source": [
    "from termcolor import colored\n",
    "import msgpack\n",
    "import open3d as o3d\n",
    "import trimesh\n",
    "import point_cloud_utils as pcu  # downsampling\n",
    "from IPython.display import display, Math\n",
    "import numpy as np\n",
    "import matplotlib.pyplot as plt\n",
    "\n",
    "import numba\n",
    "from joblib import Parallel, delayed  # multiprocessing\n",
    "import multiprocessing\n",
    "import copy\n",
    "from scipy.ndimage.morphology import binary_dilation, binary_erosion\n",
    "from scipy.spatial.transform import Rotation\n",
    "import tempfile\n",
    "import gmsh\n",
    "import meshio\n",
    "import itertools\n",
    "import shutil  # file copying\n",
    "import networkx as nx # graph representation\n",
    "import os\n",
    "\n",
    "from lxml import etree\n",
    "from matplotlib.colors import to_hex, to_rgba\n",
    "\n",
    "plt.style.use('seaborn-whitegrid')\n",
    "%config InlineBackend.figure_format = 'retina'\n",
    "\n",
    "print(f\"open3d :{o3d.__version__}\")\n",
    "print(f\"trimesh:{trimesh.__version__}\")\n",
    "print(f\"numba  :{numba.__version__}\")\n",
    "###########################################################\n",
    "from robot_utils import *\n",
    "import robot_utils\n",
    "# help(robot_utils)\n",
    "\n",
    "#############################################################\n",
    "robot_folder = \"../../mesh/v9.0/\"\n",
    "part_names = [\"body\",\"hip\",\"shank_front\",\"shank_back\",\"thigh\"]"
   ]
  },
  {
   "cell_type": "code",
   "execution_count": 65,
   "metadata": {
    "ExecuteTime": {
     "end_time": "2021-06-28T22:15:40.820554Z",
     "start_time": "2021-06-28T22:15:40.798549Z"
    },
    "init_cell": true
   },
   "outputs": [
    {
     "name": "stdout",
     "output_type": "stream",
     "text": [
      "32.0\n"
     ]
    }
   ],
   "source": [
    "########## discretization parameters ##############\n",
    "# radius_poisson = float(10) # radius for the poisson sampling\n",
    "radius_poisson = float(20) # radius for the poisson sampling\n",
    "radius_knn = radius_poisson*1.6\n",
    "min_radius = radius_poisson*0.5\n",
    "# max_nn = 28 # maximun number of neighbors for a mass point (including self)\n",
    "max_nn = int(28)\n",
    "# max_nn = int(20)\n",
    "print(radius_knn)\n",
    "\n",
    "\n",
    "# general argument\n",
    "gmsh_args_base = [\n",
    "    (\"Mesh.Algorithm\", 6), # 2D mesh algorithm (1: MeshAdapt, 2: Automatic, 3: Initial mesh only, 5: Delaunay, 6: Frontal-Delaunay, 7: BAMG, 8: Frontal-Delaunay for Quads, 9: Packing of Parallelograms)\n",
    "    (\"Mesh.Algorithm3D\", 4), # 3D mesh algorithm (1: Delaunay, 3: Initial mesh only, 4: Frontal, 7: MMG3D, 9: R-tree, 10: HXT)    \n",
    "    (\"Mesh.MeshSizeExtendFromBoundary\", 0),# Extend computation of mesh element sizes from the boundaries into the interior (for 3D Delaunay, use 1: longest or 2: shortest surface edge length)\n",
    "    (\"Mesh.MeshSizeFromPoints\", 0),# Compute mesh element sizes from values given at geometry points, defualt:1\n",
    "    (\"Mesh.MeshSizeFromCurvature\", 0),# Automatically compute mesh element sizes from curvature,defult:0\n",
    "    (\"Mesh.OptimizeNetgen\",0), # Optimize the mesh using Netgen to improve the quality of tetrahedral elements\n",
    "    (\"Mesh.OptimizeThreshold\",0.5), # Optimize the mesh using Netgen to improve the quality of tetrahedral elements\n",
    "#         (\"Mesh.AllowSwapAngle\",30), # Threshold angle (in degrees) between faces normals under which we allow an edge swap\n",
    "    (\"Mesh.VolumeEdges\",1), # Display edges of volume mesh\n",
    "    (\"Mesh.VolumeFaces\",0), # Display faces of volume mesh\n",
    "    (\"Mesh.SurfaceFaces\",1), # Display faces of surface mesh?\n",
    "    (\"Mesh.Smoothing\",8), # Number of smoothing steps applied to the final mesh\n",
    "#         (\"Mesh.SmoothNormals\",0), # Smooth the mesh normals? default 0\n",
    "    (\"Mesh.Binary\",1), # Write mesh files in binary format (if possible)\n",
    "    (\"Mesh.MinimumCirclePoints\",0), # Minimum number of nodes used to mesh circles and ellipses\n",
    "    (\"Mesh.MinimumCurvePoints\",0), # Minimum number of points used to mesh curves other than lines, circles and ellipses\n",
    "    (\"Mesh.MinimumElementsPerTwoPi\",0), # Minimum number of elements per 2 * Pi radians when the mesh size is adapted to the curvature    \n",
    "    (\"Mesh.RefineSteps\",20), # Number of refinement steps in the MeshAdapt-based 2D algorithms, default:10\n",
    "    \n",
    "# #         (\"Geometry.Tolerance\",radius_poisson*0.5),# Geometrical tolerance,default:1e-8\n",
    "#         (\"Geometry.OCCFixDegenerated\",1), # Fix degenerated edges/faces when importing STEP, IGES and BRep models with the OpenCASCADE kernel, defulat:0\n",
    "#         (\"Geometry.OCCFixSmallEdges\",1), # Fix small edges when importing STEP, IGES and BRep models with the OpenCASCADE kernel, defulat:0\n",
    "#         (\"Geometry.OCCFixSmallFaces\",1), # Fix small faces when importing STEP, IGES and BRep models with the OpenCASCADE kernel, defulat:0\n",
    "# #         (\"Geometry.OCCSewFaces\",1), # Sew faces when importing STEP, IGES and BRep models with the OpenCASCADE kernel\n",
    "# #         (\"Geometry.OCCBoundsUseStl\",1), # Use STL mesh for computing bounds of OpenCASCADE shapes (more accurate, but slower)\n",
    "\n",
    "    (\"General.Verbosity\",0), # Level of information printed during processing (0: no information), default:5\n",
    "    (\"General.Terminal\",0), # Should information be printed on the terminal (if available)\n",
    "#         (\"Mesh.RandomSeed\",0), # Seed of pseudo-random number generator\n",
    "#         (\"Mesh.QualitySup\",0.5), # Only display elements whose quality measure is smaller than QualitySup\n",
    "]\n",
    "\n",
    "# 2D specific argument\n",
    "gmsh_args_2d = [\n",
    "    (\"Mesh.MeshSizeMin\", radius_poisson*1.4),\n",
    "    (\"Mesh.MeshSizeMax\", radius_poisson*1.4),\n",
    "#         (\"Mesh.MeshSizeMin\", radius_poisson*1.0),\n",
    "#         (\"Mesh.MeshSizeMax\", radius_poisson*1.0),\n",
    "] \n",
    "\n",
    "# 3D specific argument\n",
    "gmsh_args_3d = [\n",
    "    (\"Mesh.MeshSizeMin\", radius_poisson*1.0),\n",
    "    (\"Mesh.MeshSizeMax\", radius_poisson*1.0),\n",
    "]\n",
    "\n",
    "gmsh_args = gmsh_args_base+gmsh_args_2d # combined\n",
    "# # # discretize body\n",
    "# # in_file_name: str = \"../../mesh/soft_body_simplified.step\"\n",
    "# # out_file_name: str = \"../../mesh/soft_body_simplified.msh\"\n",
    "# in_file_name: str = \"../../mesh/leg_simplified.step\"\n",
    "# out_file_name: str = \"../../mesh/leg_simplified.msh\"\n",
    "# vmesh,_= generateGmsh(in_file_name,out_file_name,dim=3,gui=True)\n",
    "# # print(vmesh)\n",
    "# vmeshSummary(vmesh)\n",
    "\n",
    "###########################\n",
    "# show_gui = True\n",
    "show_gui = False\n",
    "dim = 3"
   ]
  },
  {
   "cell_type": "markdown",
   "metadata": {},
   "source": [
    "# discretization\n",
    "\n",
    "Only need to run once"
   ]
  },
  {
   "cell_type": "code",
   "execution_count": 66,
   "metadata": {
    "ExecuteTime": {
     "end_time": "2021-06-28T22:15:46.029858Z",
     "start_time": "2021-06-28T22:15:41.308507Z"
    },
    "deletable": false,
    "editable": false,
    "scrolled": false
   },
   "outputs": [
    {
     "name": "stdout",
     "output_type": "stream",
     "text": [
      "--------------------body--------------------\n",
      "# vertices          = 1061\n",
      "# surface triangle  = 1782\n",
      "# tetra             = 3631\n",
      "# unique tetra edges= 5582\n",
      "# unique face edges = 2673\n",
      "COM                 =  [-28.89    1.221  -0.594]\n",
      "COM norm            = 28.922\n",
      "mean edge length    = 22.31\n"
     ]
    },
    {
     "data": {
      "image/png": "[encoded data removed]",
      "text/plain": [
       "<Figure size 900x150 with 3 Axes>"
      ]
     },
     "metadata": {
      "image/png": {
       "height": 157,
       "width": 736
      }
     },
     "output_type": "display_data"
    },
    {
     "name": "stdout",
     "output_type": "stream",
     "text": [
      "Warning: D:\\repo\\FlexipodFast\\mesh\\v9.0\\body.stl file already exists and will be replaced\n",
      "--------------------hip--------------------\n",
      "# vertices          = 85\n",
      "# surface triangle  = 152\n",
      "# tetra             = 223\n",
      "# unique tetra edges= 383\n",
      "# unique face edges = 228\n",
      "COM                 =  [59.623 -0.389  0.409]\n",
      "COM norm            = 59.625\n",
      "mean edge length    = 26.02\n"
     ]
    },
    {
     "data": {
      "image/png": "[encoded data removed]",
      "text/plain": [
       "<Figure size 900x150 with 3 Axes>"
      ]
     },
     "metadata": {
      "image/png": {
       "height": 158,
       "width": 730
      }
     },
     "output_type": "display_data"
    },
    {
     "name": "stdout",
     "output_type": "stream",
     "text": [
      "Warning: D:\\repo\\FlexipodFast\\mesh\\v9.0\\hip.stl file already exists and will be replaced\n",
      "--------------------shank_front--------------------\n",
      "# vertices          = 89\n",
      "# surface triangle  = 162\n",
      "# tetra             = 223\n",
      "# unique tetra edges= 392\n",
      "# unique face edges = 243\n",
      "COM                 =  [ -0.065  -0.319 -92.761]\n",
      "COM norm            = 92.762\n",
      "mean edge length    = 25.40\n"
     ]
    },
    {
     "data": {
      "image/png": "[encoded data removed]",
      "text/plain": [
       "<Figure size 900x150 with 3 Axes>"
      ]
     },
     "metadata": {
      "image/png": {
       "height": 155,
       "width": 730
      }
     },
     "output_type": "display_data"
    },
    {
     "name": "stdout",
     "output_type": "stream",
     "text": [
      "Warning: D:\\repo\\FlexipodFast\\mesh\\v9.0\\shank_front.stl file already exists and will be replaced\n",
      "--------------------shank_back--------------------\n",
      "# vertices          = 124\n",
      "# surface triangle  = 232\n",
      "# tetra             = 314\n",
      "# unique tetra edges= 553\n",
      "# unique face edges = 348\n",
      "COM                 =  [  -0.655   -0.005 -101.299]\n",
      "COM norm            = 101.301\n",
      "mean edge length    = 22.82\n"
     ]
    },
    {
     "data": {
      "image/png": "[encoded data removed]",
      "text/plain": [
       "<Figure size 900x150 with 3 Axes>"
      ]
     },
     "metadata": {
      "image/png": {
       "height": 157,
       "width": 730
      }
     },
     "output_type": "display_data"
    },
    {
     "name": "stdout",
     "output_type": "stream",
     "text": [
      "Warning: D:\\repo\\FlexipodFast\\mesh\\v9.0\\shank_back.stl file already exists and will be replaced\n",
      "--------------------thigh--------------------\n",
      "# vertices          = 116\n",
      "# surface triangle  = 210\n",
      "# tetra             = 308\n",
      "# unique tetra edges= 528\n",
      "# unique face edges = 315\n",
      "COM                 =  [  -0.487   -0.401 -110.951]\n",
      "COM norm            = 110.953\n",
      "mean edge length    = 26.42\n"
     ]
    },
    {
     "data": {
      "image/png": "[encoded data removed]",
      "text/plain": [
       "<Figure size 900x150 with 3 Axes>"
      ]
     },
     "metadata": {
      "image/png": {
       "height": 155,
       "width": 730
      }
     },
     "output_type": "display_data"
    },
    {
     "name": "stdout",
     "output_type": "stream",
     "text": [
      "Warning: D:\\repo\\FlexipodFast\\mesh\\v9.0\\thigh.stl file already exists and will be replaced\n"
     ]
    }
   ],
   "source": [
    "for part_name in part_names:\n",
    "    print(f\"{'-'*20}{part_name}{'-'*20}\")\n",
    "    in_step_file = f\"{robot_folder}/{part_name}.step\" # input file name\n",
    "    out_msh_file = f\"{robot_folder}/{part_name}.msh\" # output file name for .msh\n",
    "    out_stl_file = f\"{robot_folder}/{part_name}.stl\" # output file name for .stl\n",
    "    vmesh, _ = generateGmsh(in_step_file, out_msh_file, gmsh_args=gmsh_args,\n",
    "                        gmsh_args_3d=gmsh_args_3d, gui=show_gui, dim=dim)\n",
    "    vmeshSummary(vmesh)\n",
    "    # convert to stl\n",
    "    convertStepToSTL(in_step_file,out_stl_file)\n",
    "\n",
    "# part_name = \"shank_back\"\n",
    "# in_step_file = f\"{robot_folder}/{part_name}.step\" # input file name\n",
    "# out_msh_file = f\"{robot_folder}/{part_name}.msh\" # output file name for .msh\n",
    "# out_stl_file = f\"{robot_folder}/{part_name}.stl\" # output file name for .stl\n",
    "# vmesh, _ = generateGmsh(in_step_file, out_msh_file, gmsh_args=gmsh_args,\n",
    "#                     gmsh_args_3d=gmsh_args_3d, gui=show_gui, dim=dim)\n",
    "# vmeshSummary(vmesh)\n",
    "# # convert to stl\n",
    "# convertStepToSTL(in_step_file,out_stl_file)"
   ]
  },
  {
   "cell_type": "markdown",
   "metadata": {},
   "source": [
    "# load descritized mesh"
   ]
  },
  {
   "cell_type": "code",
   "execution_count": 67,
   "metadata": {
    "ExecuteTime": {
     "end_time": "2021-06-28T22:15:48.183056Z",
     "start_time": "2021-06-28T22:15:46.032110Z"
    },
    "deletable": false,
    "editable": false
   },
   "outputs": [
    {
     "name": "stdout",
     "output_type": "stream",
     "text": [
      "# vertices         = 1061\n",
      "# lines            = 7775\n",
      "# surface triangle = 1782\n",
      "mean line length   = 24.22\n",
      "COM                = [-28.89    1.221  -0.594]\n",
      "COM norm           = 28.922\n"
     ]
    },
    {
     "data": {
      "image/png": "[encoded data removed]",
      "text/plain": [
       "<Figure size 600x150 with 2 Axes>"
      ]
     },
     "metadata": {
      "image/png": {
       "height": 155,
       "width": 503
      }
     },
     "output_type": "display_data"
    },
    {
     "name": "stdout",
     "output_type": "stream",
     "text": [
      "# vertices         = 85\n",
      "# lines            = 401\n",
      "# surface triangle = 152\n",
      "mean line length   = 26.45\n",
      "COM                = [59.623 -0.389  0.409]\n",
      "COM norm           = 59.625\n"
     ]
    },
    {
     "data": {
      "image/png": "[encoded data removed]",
      "text/plain": [
       "<Figure size 600x150 with 2 Axes>"
      ]
     },
     "metadata": {
      "image/png": {
       "height": 155,
       "width": 503
      }
     },
     "output_type": "display_data"
    },
    {
     "name": "stdout",
     "output_type": "stream",
     "text": [
      "# vertices         = 116\n",
      "# lines            = 556\n",
      "# surface triangle = 210\n",
      "mean line length   = 26.58\n",
      "COM                = [  -0.487   -0.401 -110.951]\n",
      "COM norm           = 110.953\n"
     ]
    },
    {
     "data": {
      "image/png": "[encoded data removed]",
      "text/plain": [
       "<Figure size 600x150 with 2 Axes>"
      ]
     },
     "metadata": {
      "image/png": {
       "height": 155,
       "width": 503
      }
     },
     "output_type": "display_data"
    },
    {
     "name": "stdout",
     "output_type": "stream",
     "text": [
      "# vertices         = 89\n",
      "# lines            = 417\n",
      "# surface triangle = 162\n",
      "mean line length   = 25.70\n",
      "COM                = [ -0.065  -0.319 -92.761]\n",
      "COM norm           = 92.762\n"
     ]
    },
    {
     "data": {
      "image/png": "[encoded data removed]",
      "text/plain": [
       "<Figure size 600x150 with 2 Axes>"
      ]
     },
     "metadata": {
      "image/png": {
       "height": 156,
       "width": 503
      }
     },
     "output_type": "display_data"
    },
    {
     "name": "stdout",
     "output_type": "stream",
     "text": [
      "# vertices         = 124\n",
      "# lines            = 670\n",
      "# surface triangle = 232\n",
      "mean line length   = 23.68\n",
      "COM                = [  -0.655   -0.005 -101.299]\n",
      "COM norm           = 101.301\n"
     ]
    },
    {
     "data": {
      "image/png": "[encoded data removed]",
      "text/plain": [
       "<Figure size 600x150 with 2 Axes>"
      ]
     },
     "metadata": {
      "image/png": {
       "height": 155,
       "width": 503
      }
     },
     "output_type": "display_data"
    }
   ],
   "source": [
    "###############################################################\n",
    "# x: back->front\n",
    "# y: right->left\n",
    "# z: down->top\n",
    "vmd_body = VolumeMesh.fromGmsh(\n",
    "    msh_file=f\"{robot_folder}/{'body'}.msh\",\n",
    "    stl_file = f\"{robot_folder}/{'body'}.stl\",\n",
    "    min_radius=min_radius, max_radius=radius_knn, max_nn=max_nn,transform=np.eye(4),verbose=True)\n",
    "\n",
    "vmd_0 = VolumeMesh.fromGmsh(\n",
    "    msh_file=f\"{robot_folder}/{'hip'}.msh\",\n",
    "    stl_file = f\"{robot_folder}/{'hip'}.stl\",\n",
    "    min_radius=min_radius, max_radius=radius_knn, max_nn=max_nn,transform=np.eye(4),verbose=True)\n",
    "\n",
    "vmd_1 = VolumeMesh.fromGmsh(\n",
    "    msh_file=f\"{robot_folder}/{'thigh'}.msh\",\n",
    "    stl_file = f\"{robot_folder}/{'thigh'}.stl\",\n",
    "    min_radius=min_radius, max_radius=radius_knn, max_nn=max_nn,transform=np.eye(4),verbose=True)\n",
    "\n",
    "vmd_2f = VolumeMesh.fromGmsh(\n",
    "    msh_file=f\"{robot_folder}/{'shank_front'}.msh\",\n",
    "    stl_file = f\"{robot_folder}/{'shank_front'}.stl\",\n",
    "    min_radius=min_radius, max_radius=radius_knn, max_nn=max_nn,transform=np.eye(4),verbose=True)\n",
    "\n",
    "vmd_2b = VolumeMesh.fromGmsh(\n",
    "    msh_file=f\"{robot_folder}/{'shank_back'}.msh\",\n",
    "    stl_file = f\"{robot_folder}/{'shank_back'}.stl\",\n",
    "    min_radius=min_radius, max_radius=radius_knn, max_nn=max_nn,transform=np.eye(4),verbose=True)"
   ]
  },
  {
   "cell_type": "code",
   "execution_count": 68,
   "metadata": {
    "ExecuteTime": {
     "end_time": "2021-06-28T22:15:48.199102Z",
     "start_time": "2021-06-28T22:15:48.185061Z"
    }
   },
   "outputs": [],
   "source": [
    "# vmd = vmd_0.copy()\n",
    "# cylinder_trimesh = trimesh.creation.cylinder(10,10)\n",
    "# cylinder_trimesh.show()\n",
    "# scene = trimesh.scene.Scene([trimesh.creation.cylinder(10,10),trimesh.creation.cylinder(5,20)])\n",
    "# scene.show()\n",
    "# vmd = VolumeMesh(vmd_leg.vertices,vmd_leg.lines,vmd_leg.triangles).copy(cmap ='pink')\n",
    "# o3dShow([vmd.lsd,vmd.pcd])"
   ]
  },
  {
   "cell_type": "code",
   "execution_count": 69,
   "metadata": {
    "ExecuteTime": {
     "end_time": "2021-06-28T22:15:48.230256Z",
     "start_time": "2021-06-28T22:15:48.202252Z"
    }
   },
   "outputs": [],
   "source": [
    "# saving\n",
    "import pickle\n",
    "path = robot_folder+\"parts.pickle\"\n",
    "with open(path,\"wb\") as f:\n",
    "    pickle.dump((vmd_body,vmd_0,vmd_1,vmd_2f,vmd_2b),f)"
   ]
  },
  {
   "cell_type": "code",
   "execution_count": 70,
   "metadata": {
    "ExecuteTime": {
     "end_time": "2021-06-28T22:15:48.245271Z",
     "start_time": "2021-06-28T22:15:48.233259Z"
    }
   },
   "outputs": [],
   "source": [
    "# loading\n",
    "import pickle\n",
    "path = robot_folder+\"parts.pickle\"\n",
    "with open(path,\"rb\") as f:\n",
    "    vmd_body,vmd_0,vmd_1,vmd_2f,vmd_2b = pickle.load(f)"
   ]
  },
  {
   "cell_type": "markdown",
   "metadata": {},
   "source": [
    "# Assemble the parts"
   ]
  },
  {
   "cell_type": "code",
   "execution_count": 71,
   "metadata": {
    "ExecuteTime": {
     "end_time": "2021-06-28T22:15:48.261264Z",
     "start_time": "2021-06-28T22:15:48.247263Z"
    }
   },
   "outputs": [],
   "source": [
    "# unit = Unit({\"length\":\"mm\",\"density\":\"g/mm^3\"})\n",
    "# unit.toSI(\"density\")"
   ]
  },
  {
   "cell_type": "code",
   "execution_count": 72,
   "metadata": {
    "ExecuteTime": {
     "end_time": "2021-06-28T22:15:48.293281Z",
     "start_time": "2021-06-28T22:15:48.264275Z"
    }
   },
   "outputs": [],
   "source": [
    "############################ defineing joints geometry\n",
    "dx_body_f0 = 70.\n",
    "dy_body_f0 = 107.\n",
    "dz_body_f0 = 0.\n",
    "\n",
    "dx_f01 = 66.\n",
    "dy_f01 = 0.\n",
    "dz_f01 = 0.\n",
    "\n",
    "dx_f12 = 0.\n",
    "dy_f12 = 0.\n",
    "dz_f12 = 143.\n",
    "\n",
    "dx_body_b0 = 175.\n",
    "dy_body_b0 = 30.\n",
    "dz_body_b0 = 0.\n",
    "\n",
    "dx_b01 = 66.\n",
    "dy_b01 = 0.\n",
    "dz_b01 = 0.\n",
    "\n",
    "dx_b12 = 0.\n",
    "dy_b12 = 0.\n",
    "dz_b12 = 143.\n",
    "\n",
    "tlf_body_0 = np.array([\n",
    "    [0,0,1,dx_body_f0],\n",
    "    [1,0,0,dy_body_f0],\n",
    "    [0,1,0,dz_body_f0],\n",
    "    [0,0,0,1]])# front left hip\n",
    "\n",
    "tlf_0_1 = np.array([\n",
    "    [0,0,-1,dx_f01],\n",
    "    [-1,0,0,dy_f01],\n",
    "    [0,1,0,dz_f01],\n",
    "    [0,0,0,1]])# front left thigh \n",
    "\n",
    "tlf_1_2 = translation((+dx_f12,+dy_f12,-dz_f12))\\\n",
    ".dot(axisAngleRotation((0, 0, 1),-np.pi/2))# front left shank\n",
    "\n",
    "\n",
    "trf_body_0 = np.array([\n",
    "    [0, 0,1,dx_body_f0],\n",
    "    [-1,0,0,-dy_body_f0],\n",
    "    [0,-1,0,dz_body_f0],\n",
    "    [0,0,0,1]])# front right hip\n",
    "\n",
    "trf_0_1 = np.array([\n",
    "    [0,0,-1,dx_f01],\n",
    "    [1,0,0,dy_f01],\n",
    "    [0,-1,0,dz_f01],\n",
    "    [0,0,0,1]])# front right thigh \n",
    "\n",
    "trf_1_2 = translation((+dx_f12,+dy_f12,-dz_f12))\\\n",
    "                .dot(axisAngleRotation((0, 0, 1),np.pi/2))# front right shank\n",
    "\n",
    "tlb_body_0 = np.array([\n",
    "    [0,0,1,-dx_body_b0],\n",
    "    [1,0,0,dy_body_b0],\n",
    "    [0,1,0,dz_body_b0],\n",
    "    [0,0,0,1]])# back left hip\n",
    "\n",
    "tlb_0_1 = np.array([\n",
    "    [0, 0,-1,dx_b01],\n",
    "    [-1,0, 0,dy_b01],\n",
    "    [0, 1, 0,dz_b01],\n",
    "    [0,0,0,1]])# back left thigh \n",
    "\n",
    "tlb_1_2 = translation((+dx_b12,+dy_b12,-dz_b12))\\\n",
    "                .dot(axisAngleRotation((0, 0, 1),-np.pi/2))# back left shank\n",
    "\n",
    "trb_body_0 = np.array([\n",
    "    [0, 0,1,-dx_body_b0],\n",
    "    [-1,0,0,-dy_body_b0],\n",
    "    [0,-1,0,dz_body_b0],\n",
    "    [0,0,0,1]])# back right hip\n",
    "\n",
    "trb_0_1 = np.array([\n",
    "    [0, 0,-1,dx_b01],\n",
    "    [1, 0, 0,dy_b01],\n",
    "    [0,-1, 0,dz_b01],\n",
    "    [0,0,0,1]])# back right thigh \n",
    "\n",
    "trb_1_2 = translation((+dx_b12,+dy_b12,-dz_b12))\\\n",
    "                .dot(axisAngleRotation((0, 0, 1),np.pi/2))# back right shank"
   ]
  },
  {
   "cell_type": "code",
   "execution_count": 73,
   "metadata": {
    "ExecuteTime": {
     "end_time": "2021-06-28T22:15:48.341281Z",
     "start_time": "2021-06-28T22:15:48.297282Z"
    },
    "scrolled": false
   },
   "outputs": [
    {
     "name": "stdout",
     "output_type": "stream",
     "text": [
      "0:(0, 1)\n",
      "1:(1, 2)\n",
      "2:(2, 3)\n",
      "3:(0, 4)\n",
      "4:(4, 5)\n",
      "5:(5, 6)\n",
      "6:(0, 7)\n",
      "7:(7, 8)\n",
      "8:(8, 9)\n",
      "9:(0, 10)\n",
      "10:(10, 11)\n",
      "11:(11, 12)\n"
     ]
    }
   ],
   "source": [
    "PI = np.pi\n",
    "\n",
    "graph = RobotDescription(unit_dict={\"length\": \"mm\"})\n",
    "graph.add_nodes_from([\n",
    "    (0, {\"vmd\": vmd_body.copy(cmap='RdGy'), \"alias\": \"body\",\"color\":to_rgba(\"r\")}),  # main_body # \n",
    "    (1, {\"vmd\": vmd_0.copy(cmap='spring'), \"alias\": \"lf_hip\",\"color\":to_rgba(\"g\")}),  # front left\n",
    "    (2, {\"vmd\": vmd_1.copy(cmap='spring'), \"alias\": \"lf_thigh\"}),\n",
    "    (3, {\"vmd\": vmd_2f.copy(cmap='spring'), \"alias\": \"lf_shank\",\"color\":to_rgba(\"b\")}),\n",
    "\n",
    "    (4, {\"vmd\": vmd_0.copy(cmap='summer'), \"alias\": \"rf_hip\",\"color\":to_rgba(\"g\")}),  # front right\n",
    "    (5, {\"vmd\": vmd_1.copy(cmap='summer'), \"alias\": \"rf_thigh\"}),\n",
    "    (6, {\"vmd\": vmd_2f.copy(cmap='summer'), \"alias\": \"rf_shank\",\"color\":to_rgba(\"b\")}),\n",
    "\n",
    "    (7, {\"vmd\": vmd_0.copy(cmap='autumn'), \"alias\": \"lb_hip\",\"color\":to_rgba(\"g\")}),  # back left\n",
    "    (8, {\"vmd\": vmd_1.copy(cmap='autumn'), \"alias\": \"lb_thigh\"}),\n",
    "    (9, {\"vmd\": vmd_2b.copy(cmap='autumn'), \"alias\": \"lb_shank\",\"color\":to_rgba(\"b\")}),\n",
    "\n",
    "    (10, {\"vmd\": vmd_0.copy(cmap='winter'), \"alias\": \"rb_hip\",\"color\":to_rgba(\"g\")}),  # back right\n",
    "    (11, {\"vmd\": vmd_1.copy(cmap='winter'), \"alias\": \"rb_thigh\"}),\n",
    "    (12, {\"vmd\": vmd_2b.copy(cmap='winter')\\\n",
    "          .transform(axisAngleRotation((0, 0, 1),PI))# rotate 180 deg around local z axis\n",
    "        ,\"alias\": \"rb_shank\",\"color\":to_rgba(\"b\")}),\n",
    "],\n",
    "    transform=np.eye(4),\n",
    "    density=176.,\n",
    "    color=np.array((1, 1, 1, 1))  # white\n",
    ")\n",
    "#graph.nodes['body']['density'] = 100\n",
    "\n",
    "graph.add_edges_from((\n",
    "    (0, 1, {\"order\":0,\"transform\": tlf_body_0, \"joint_pos\": 0,\"limit\":{\"lower\":-PI,\"upper\":PI}}),\n",
    "    (1, 2, {\"order\":1,\"transform\": tlf_0_1, \"joint_pos\": 0,\"limit\":{\"lower\":-5/9*PI,\"upper\":5/9*PI}}),\n",
    "    (2, 3, {\"order\":2,\"transform\": tlf_1_2, \"joint_pos\": 0,\"limit\":{\"lower\":-0.5*PI,\"upper\":0.5*PI}}),\n",
    "\n",
    "    (0, 4, {\"order\":3,\"transform\": trf_body_0, \"joint_pos\": 0,\"limit\":{\"lower\":-PI,\"upper\":PI}}),\n",
    "    (4, 5, {\"order\":4,\"transform\": trf_0_1, \"joint_pos\": 0,\"limit\":{\"lower\":-5/9*PI,\"upper\":5/9*PI}}),\n",
    "    (5, 6, {\"order\":5,\"transform\": trf_1_2, \"joint_pos\": 0,\"limit\":{\"lower\":-0.5*PI,\"upper\":0.5*PI}}),\n",
    "\n",
    "    (0, 7, {\"order\":6,\"transform\": tlb_body_0, \"joint_pos\": 0,\"limit\":{\"lower\":-PI,\"upper\":PI}}),\n",
    "    (7, 8, {\"order\":7,\"transform\": tlb_0_1, \"joint_pos\": 0,\"limit\":{\"lower\":-5/9*PI,\"upper\":5/9*PI}}),\n",
    "    (8, 9, {\"order\":8,\"transform\": tlb_1_2, \"joint_pos\": 0,\"limit\":{\"lower\":-0.5*PI,\"upper\":0.5*PI}}),\n",
    "\n",
    "    (0, 10, {\"order\":9,\"transform\": trb_body_0, \"joint_pos\": 0,\"limit\":{\"lower\":-PI,\"upper\":PI}}),\n",
    "    (10, 11, {\"order\":10,\"transform\": trb_0_1, \"joint_pos\": 0,\"limit\":{\"lower\":-5/9*PI,\"upper\":5/9*PI}}),\n",
    "    (11, 12, {\"order\":11,\"transform\": trb_1_2, \"joint_pos\": 0,\"limit\":{\"lower\":-0.5*PI,\"upper\":0.5*PI}}),\n",
    "),\n",
    "    transform=np.eye(4),\n",
    "    joint_type=\"revolute\",\n",
    "    joint_pos=0,\n",
    "    axis=(1, 0, 0),\n",
    "    limit={  # units must be SI here\n",
    "        \"effort\": 11,  # torque, [Nm]\n",
    "        \"velocity\": round(487/60*2*PI)  # speed [rad/s]\n",
    "}\n",
    ")\n",
    "\n",
    "# create coordinate in body space\n",
    "graph.createCoordinateOXYZ(radius=15)\n",
    "################## computed value ###################################\n",
    "# graph.updateWorldTransform(t = axisAngleRotation((0, 1, 0),-np.pi/2)) # standing orientation\n",
    "graph.updateWorldTransform() # quraduped orientation\n",
    "\n",
    "\n",
    "# list(nx.edge_bfs(graph))\n",
    "\n",
    "#####################################################################\n",
    "for k, e in enumerate(graph.orderedEdges):\n",
    "    print(f\"{k}:{e}\")\n",
    "# graph.draw()\n",
    "\n",
    "####################################################################\n",
    "# print(graph.nodes[0][\"vmd\"].vertices.shape,graph.nodes[0][\"vmd\"].lines.shape)\n",
    "# o3dShow(graph.nodes[0][\"vmd\"].lsd(),background_color=(0,0,0))\n",
    "\n",
    "\n",
    "# world_space_pcds = [o3d.geometry.PointCloud(graph.nodes[n][\"vmd\"].pcd()).transform(\n",
    "#     graph.nodes[n][\"world_transform\"]) for n in graph.nodes]\n",
    "# world_space_lsd = [o3d.geometry.LineSet(graph.nodes[n][\"vmd\"].lsd()).transform(\n",
    "#     graph.nodes[n][\"world_transform\"]) for n in graph.nodes]\n",
    "# o3dShow(world_space_pcds+world_space_lsd+[coord_frame])\n"
   ]
  },
  {
   "cell_type": "code",
   "execution_count": 74,
   "metadata": {
    "ExecuteTime": {
     "end_time": "2021-06-28T22:15:52.281088Z",
     "start_time": "2021-06-28T22:15:48.344282Z"
    }
   },
   "outputs": [
    {
     "name": "stdout",
     "output_type": "stream",
     "text": [
      "(0, 1):34,34\n",
      "(0, 4):34,34\n",
      "(0, 7):34,34\n",
      "(0, 10):34,34\n",
      "(1, 2):34,34\n",
      "(2, 3):34,34\n",
      "(4, 5):34,34\n",
      "(5, 6):34,34\n",
      "(7, 8):34,34\n",
      "(8, 9):34,34\n",
      "(10, 11):34,34\n",
      "(11, 12):34,34\n"
     ]
    }
   ],
   "source": [
    "# graph.joint_pos = np.array([-np.pi/2,-np.pi/2,-np.pi/2,-np.pi/2])\n",
    "\n",
    "#graph.joint_pos = np.array([7 * np.pi/4, np.pi/4, -np.pi/3, np.pi/3, 0, np.pi/3, 0, -np.pi/3, 0, 0, 0, 0])\n",
    "# graph.joint_pos = np.array([4 * np.pi / 5, 4 * np.pi/3, np.pi/3, 3 * np.pi/2,\\\n",
    "#                             0, np.pi / 2, 0, 3 * np.pi / 2, 0, 11 * np.pi / 6, 0, np.pi / 6])\n",
    "\n",
    "# graph.joint_pos = np.array([0, 0, 0, 0, 0, 0, 0, 0, 0, 0, 0, 0])\n",
    "\n",
    "# graph.joint_pos = np.array([np.pi / 2, -np.pi / 2, np.pi / 2, -np.pi / 2, 0, 0, 0, 0, 0, 0, 0, 0])\n",
    "\n",
    "# knee_angle = np.pi*0.03\n",
    "\n",
    "knee_angle = 0.0\n",
    "# knee_angle = np.pi*0.04\n",
    "\n",
    "arm_swing_angle = 0/180*np.pi\n",
    "shoulder_angle = np.pi/6\n",
    "lower_arm_angle = 0/180*np.pi\n",
    "\n",
    "\n",
    "# graph.joint_pos = np.array([\n",
    "#     # front left\n",
    "#     -arm_swing_angle,               # 0\n",
    "#     -np.pi/2+shoulder_angle,        # 1\n",
    "#     lower_arm_angle,               # 2\n",
    "#     # front right\n",
    "#     arm_swing_angle,               # 3 \n",
    "#     np.pi/2-shoulder_angle,         # 4  \n",
    "#     -lower_arm_angle,               # 5\n",
    "#     # back left\n",
    "#     0+knee_angle,               # 6     \n",
    "#     -np.pi/2,        # 7   \n",
    "#     0+knee_angle,               # 8\n",
    "#     # back right\n",
    "#     0-knee_angle,               # 9        \n",
    "#     np.pi/2,         # 10 \n",
    "#     0-knee_angle               # 11   \n",
    "# ])     \n",
    "\n",
    "\n",
    "graph.joint_pos = np.array([# quadruped joint pos\n",
    "    # front left\n",
    "    -np.pi/2,               # 0\n",
    "    -np.pi/2,        # 1\n",
    "    0,               # 2\n",
    "    # front right\n",
    "    np.pi/2,               # 3 \n",
    "    np.pi/2,         # 4  \n",
    "    0,               # 5\n",
    "    # back left\n",
    "    -np.pi/2,               # 6     \n",
    "    -np.pi/2,        # 7   \n",
    "    0,               # 8\n",
    "    # back right\n",
    "    np.pi/2,               # 9        \n",
    "    np.pi/2,         # 10 \n",
    "    0                # 11   \n",
    "]) \n",
    "\n",
    "\n",
    "\n",
    "# graph.updateWorldTransform(t = axisAngleRotation((0, 0, 1),np.pi/2)) #TODO MAKE IT RIGHT\n",
    "graph.updateWorldTransform()\n",
    "\n",
    "world_space_pcds = [o3d.geometry.PointCloud(graph.nodes[n][\"vmd\"].pcd()).transform(\n",
    "    graph.nodes[n][\"world_transform\"]) for n in graph.nodes]\n",
    "\n",
    "world_space_lsd = [o3d.geometry.LineSet(graph.nodes[n][\"vmd\"].lsd()).transform(\n",
    "    graph.nodes[n][\"world_transform\"]) for n in graph.nodes]\n",
    "\n",
    "world_space_o3dMesh = [o3d.geometry.TriangleMesh(graph.nodes[n][\"vmd\"].o3dMesh()).transform(\n",
    "    graph.nodes[n][\"world_transform\"]) for n in graph.nodes]\n",
    "\n",
    "\n",
    "\n",
    "link_coordinate_frames = [o3d.geometry.TriangleMesh.create_coordinate_frame(\n",
    "    size=50).transform(graph.nodes[n][\"world_transform\"])for n in graph.nodes]\n",
    "\n",
    "joint_coordiate_frams = [o3d.geometry.TriangleMesh.create_coordinate_frame(\n",
    "    size=50).transform(graph.edges[e][\"world_transform\"])for e in graph.edges]\n",
    "\n",
    "# o3dShow(world_space_pcds+world_space_lsd+link_coordinate_frames+joint_coordiate_frams + [coord_frame],background_color=(0,0,0))\n",
    "\n",
    "\n",
    "###############################################\n",
    "discretization_opt = dict(\n",
    "    min_radius=min_radius,\n",
    "    max_radius=radius_knn, \n",
    "    max_nn=max_nn,\n",
    "    joint_radius = 35.,\n",
    "    joint_height = 50.,\n",
    "    gmsh_args=gmsh_args,\n",
    "    gmsh_args_3d=gmsh_args_3d,\n",
    ")\n",
    "\n",
    "\n",
    "graph = graph.makeJoint(opt=discretization_opt)\n",
    "#################################################\n",
    "\n",
    "joint_cylinders = [o3d.geometry.TriangleMesh(graph.edges[e][\"cylinder_parent\"].o3dMesh()).transform(\n",
    "    graph.nodes[e[0]][\"world_transform\"]) for e in graph.edges]\n",
    "# o3dShow(world_space_pcds[0:]+world_space_lsd[0:]+world_space_o3dMesh[0:]+joint_cylinders[0:])#+link_coordinate_frames+joint_coordiate_frams)\n",
    "# o3dShow([coord_frame.translate((0,0,0))]+world_space_pcds[0:]+world_space_lsd[0:]+joint_coordiate_frams+link_coordinate_frames+joint_cylinders[0:],background_color=(0,0,0))#+link_coordinate_frames+joint_coordiate_frams)\n",
    "\n",
    "o3dShow(world_space_pcds[0:]+world_space_lsd[0:])#+link_coordinate_frames+joint_coordiate_frams)\n",
    "\n",
    "\n",
    "# robot_lsd = o3d.geometry.LineSet(\n",
    "#     o3d.utility.Vector3dVector(vertices),\n",
    "#     o3d.utility.Vector2iVector(lines))\n",
    "# robot_lsd.colors = o3d.utility.Vector3dVector(colors[lines].mean(axis=1))\n",
    "# o3dShow([robot_lsd]+joint_cylinders[0:])\n",
    "\n",
    "\n",
    "# o3dShow(o3d.geometry.LineSet(\n",
    "#     o3d.utility.Vector3dVector(graph.nodes[0][\"vmd\"][\"vertices\"]),\n",
    "#     o3d.utility.Vector2iVector(graph.nodes[0][\"vmd\"][\"lines\"])), background_color=(1, 1, 1)\n",
    "# )\n",
    "\n",
    "# # saving\n",
    "# import pickle\n",
    "# path = robot_folder+\"robot.pickle\"\n",
    "# with open(path,\"wb\") as f:\n",
    "#     pickle.dump(graph,f)\n",
    "    \n",
    "# # loading\n",
    "# import pickle\n",
    "# path = robot_folder+\"robot.pickle\"\n",
    "# with open(path,\"rb\") as f:\n",
    "#     graph = pickle.load(f)"
   ]
  },
  {
   "cell_type": "markdown",
   "metadata": {},
   "source": [
    "# create spring-mass representation"
   ]
  },
  {
   "cell_type": "code",
   "execution_count": 75,
   "metadata": {
    "ExecuteTime": {
     "end_time": "2021-06-28T22:15:52.742279Z",
     "start_time": "2021-06-28T22:15:52.284079Z"
    },
    "scrolled": false
   },
   "outputs": [
    {
     "name": "stdout",
     "output_type": "stream",
     "text": [
      "dict_id2node=\n",
      "{0: 0, 1: 1, 2: 2, 3: 3, 4: 4, 5: 5, 6: 6, 7: 7, 8: 8, 9: 9, 10: 10, 11: 11, 12: 12}\n",
      "dict_id2edge=\n",
      "{0: (0, 1), 1: (0, 4), 2: (0, 7), 3: (0, 10), 4: (1, 2), 5: (2, 3), 6: (4, 5), 7: (5, 6), 8: (7, 8), 9: (8, 9), 10: (10, 11), 11: (11, 12)}\n",
      "----------------------------------------\n",
      "id_vertices:\n",
      "label           length  indices\n",
      "part            2983    [   0 1133 1279 1455 1578 1724 1900 2023 2169 2345 2503 2649 2825 2983]\n",
      "anchor          24      [2983 2985 2987 2989 2991 2993 2995 2997 2999 3001 3003 3005 3007]\n",
      "part_coord      91      [3007 3014 3021 3028 3035 3042 3049 3056 3063 3070 3077 3084 3091 3098]\n",
      "joint_coord     84      [3098 3105 3112 3119 3126 3133 3140 3147 3154 3161 3168 3175 3182]\n",
      "----------------------------------------\n",
      "id_lines:\n",
      "label           length  indices\n",
      "part            20540   [    0  9122 10220 11236 11841 12937 13950 14555 15653 16669 17550 18646\n",
      "                         19659 20540]\n",
      "anchor          12      [20540 20541 20542 20543 20544 20545 20546 20547 20548 20549 20550 20551\n",
      "                         20552]\n",
      "rot_spring      1632    [20552 20688 20824 20960 21096 21232 21368 21504 21640 21776 21912 22048\n",
      "                         22184]\n",
      "fri_spring      8160    [22184 22864 23544 24224 24904 25584 26264 26944 27624 28304 28984 29664\n",
      "                         30344]\n",
      "coord           525     [30344 30365 30386 30407 30428 30449 30470 30491 30512 30533 30554 30575\n",
      "                         30596 30617 30638 30659 30680 30701 30722 30743 30764 30785 30806 30827\n",
      "                         30848 30869]\n",
      "coord_attach    3500    [30869 31009 31149 31289 31429 31569 31709 31849 31989 32129 32269 32409\n",
      "                         32549 32689 32829 32969 33109 33249 33389 33529 33669 33809 33949 34089\n",
      "                         34229 34369]\n",
      "----------------------------------------\n"
     ]
    },
    {
     "data": {
      "image/png": "[encoded data removed]",
      "text/plain": [
       "<Figure size 720x216 with 1 Axes>"
      ]
     },
     "metadata": {
      "image/png": {
       "height": 190,
       "width": 598
      }
     },
     "output_type": "display_data"
    }
   ],
   "source": [
    "# number of attachment lines per point in the attached coordinates\n",
    "# num_attach_per_coord = 20\n",
    "num_attach_per_coord = 20\n",
    "\n",
    "# num of friction spring (spring connecting the two parts of the joint) per mass\n",
    "# num_fri_spring_per_mass = 20\n",
    "num_fri_spring_per_mass = 20\n",
    "\n",
    "######################################################################\n",
    "dict_id2node = dict(enumerate(graph.nodes)) # dict of index to node\n",
    "dict_node2id = dict(zip(graph.nodes, range(len(graph.nodes)))) # dict of node to index\n",
    "print(f\"dict_id2node=\\n{dict_id2node}\")\n",
    "dict_id2edge = dict(enumerate(graph.edges)) # dict of index to edges\n",
    "dict_edge2id = dict(zip(graph.edges, range(len(graph.edges))))\n",
    "print(f\"dict_id2edge=\\n{dict_id2edge}\",\"-\"*40, sep = \"\\n\")\n",
    "\n",
    "\n",
    "graph.updateWorldTransform()\n",
    "\n",
    "# ############################# transform vertices local to world ############\n",
    "part_vertices = [applyTransform(graph.nodes[n][\"vmd\"].vertices,\n",
    "                                graph.nodes[n][\"world_transform\"]) for n in graph.nodes]\n",
    "anchor_vertices = [applyTransform(graph.edges[e]['anchor'],\n",
    "                                  graph.edges[e][\"world_transform\"]) for e in graph.orderedEdges]\n",
    "part_coord_vertices = [applyTransform(graph.nodes[n]['coord'],\n",
    "                                      graph.nodes[n][\"world_transform\"]) for n in graph.nodes]\n",
    "joint_coord_vertices = [applyTransform(graph.edges[e]['coord'],\n",
    "                                       graph.edges[e][\"world_transform\"]) for e in graph.orderedEdges]\n",
    "\n",
    "\n",
    "vertices, id_vertices = flattenNamedArrays((\n",
    "    (\"part\", part_vertices),\n",
    "    (\"anchor\", anchor_vertices),\n",
    "    (\"part_coord\", part_coord_vertices),\n",
    "    (\"joint_coord\", joint_coord_vertices)),dim=3)\n",
    "\n",
    "# colors of the vertices\n",
    "part_colors = np.vstack([graph.nodes[n][\"vmd\"][\"vertices_color\"] for n in graph.nodes])\n",
    "colors = np.zeros((len(vertices), 3))\n",
    "colors[:len(part_colors)] = part_colors\n",
    "\n",
    "###################################################################\n",
    "vid_part = id_vertices[\"part\"]\n",
    "vid_anchor = id_vertices[\"anchor\"]\n",
    "vid_part_coord = id_vertices[\"part_coord\"]\n",
    "vid_joint_coord = id_vertices[\"joint_coord\"]\n",
    "\n",
    "for k, n in enumerate(graph.nodes):\n",
    "    graph.nodes[n][\"vertex_start_id\"] = vid_part[k]\n",
    "    graph.nodes[n][\"coord_start_id\"] = vid_part_coord[k]\n",
    "for k, e in enumerate(graph.orderedEdges):\n",
    "    graph.edges[e][\"coord_start_id\"] = vid_joint_coord[k]\n",
    "    graph.edges[e][\"anchor_start_id\"] = vid_anchor[k]\n",
    "############################################################\n",
    "part_triangles = [graph.nodes[n][\"vmd\"].triangles +\n",
    "              graph.nodes[n][\"vertex_start_id\"] for n in graph.nodes]\n",
    "\n",
    "triangles = np.vstack(part_triangles)\n",
    "###############################################################\n",
    "# part surfaces\n",
    "part_surface_id = np.unique(triangles)\n",
    "is_surface = np.zeros(len(vertices), dtype=bool)\n",
    "is_surface[part_surface_id] = True\n",
    "###############################################################\n",
    "# lines\n",
    "part_lines = [graph.nodes[n][\"vmd\"].lines +\n",
    "              graph.nodes[n][\"vertex_start_id\"] for n in graph.nodes]\n",
    "\n",
    "anchor_lines = [(graph.edges[e][\"anchor_start_id\"],\n",
    "                 graph.edges[e][\"anchor_start_id\"]+1) for e in graph.orderedEdges]\n",
    "\n",
    "part_coord_self_lines = [graph.nodes[n][\"coord_start_id\"] +\n",
    "                         graph.nodes[n][\"coord_self_lines\"] for n in graph.nodes]\n",
    "joint_coord_self_lines = [graph.edges[e][\"coord_start_id\"] +\n",
    "                          graph.edges[e][\"coord_self_lines\"] for e in graph.orderedEdges]\n",
    "\n",
    "\n",
    "# connecting coordinate to the body parts\n",
    "part_coord_attach_lines = []\n",
    "for k, n in enumerate(graph.nodes):\n",
    "    part_coord_attach_lines.append(\n",
    "        joinLines(left_vertices=part_vertices[k],\n",
    "                  right_vertices=part_coord_vertices[k],\n",
    "                  max_nn=num_attach_per_coord, min_radius=min_radius, max_radius=radius_knn*10,\n",
    "                  left_id_start=vid_part[k],\n",
    "                  right_id_start=vid_part_coord[k]))\n",
    "\n",
    "# connecting coordinate to the joint-parent\n",
    "joint_coord_attach_lines = []\n",
    "for k, e in enumerate(graph.orderedEdges):\n",
    "    parent_id = dict_node2id[e[0]]\n",
    "    joint_coord_attach_lines.append(\n",
    "        joinLines(left_vertices=part_vertices[parent_id],  # parent vertices\n",
    "                  right_vertices=joint_coord_vertices[k],\n",
    "                  max_nn=num_attach_per_coord, min_radius=min_radius, max_radius=radius_knn*10,\n",
    "                  left_id_start=vid_part[parent_id],\n",
    "                  right_id_start=vid_joint_coord[k]))\n",
    "\n",
    "\n",
    "joints = []\n",
    "\n",
    "for k, e in enumerate(graph.orderedEdges):\n",
    "    edge = graph.edges[e]\n",
    "    parent = e[0]\n",
    "    child = e[1]\n",
    "    parent_id = dict_node2id[e[0]]\n",
    "    child_id = dict_node2id[e[1]]\n",
    "    left = edge[\"id_joint_parent\"]+vid_part[parent_id]\n",
    "    right = edge[\"id_joint_child\"]+vid_part[child_id]\n",
    "    joint_k = Joint(\n",
    "        left=left, # indices of the left mass\n",
    "        right=right, # indices of the right mass\n",
    "        vertices=vertices, # flattened array of vertices\n",
    "        anchor=anchor_lines[k], # anchoring points (index) for the joint\n",
    "        left_coord=edge[\"coord_start_id\"],  # start id of the left coordinate\n",
    "        right_coord=graph.nodes[child][\"coord_start_id\"], # start id of the right coordinate (child)\n",
    "        min_radius = min_radius,\n",
    "        num_spring_per_mass = num_fri_spring_per_mass,\n",
    "        axis=edge[\"axis\"]\n",
    "    )\n",
    "    joints.append(joint_k)\n",
    "\n",
    "rot_springs = [j.rot_spring for j in joints]\n",
    "fri_springs = [j.fri_spring for j in joints]\n",
    "\n",
    "\n",
    "# lines:\n",
    "# parts_lines = part_k_lines for k in range(#nodes)\n",
    "# anchors_lines\n",
    "# oxyz_self_springs\n",
    "# oxyz_anchor_springs\n",
    "# rotation springs\n",
    "# resetable friction springs\n",
    "\n",
    "coord_self_lines = part_coord_self_lines+joint_coord_self_lines\n",
    "coord_attach_lines = part_coord_attach_lines+joint_coord_attach_lines\n",
    "\n",
    "lines,id_lines = flattenNamedArrays((\n",
    "    (\"part\",part_lines),\n",
    "    (\"anchor\",anchor_lines),\n",
    "    (\"rot_spring\",rot_springs),\n",
    "    (\"fri_spring\",fri_springs),\n",
    "    (\"coord\",coord_self_lines),\n",
    "    (\"coord_attach\",coord_attach_lines)),dim=2)\n",
    "\n",
    "# whether the springs has surface end-points\n",
    "lines_is_surface = np.bitwise_or.reduce(np.isin(lines,part_surface_id),1)\n",
    "\n",
    "########################## print info #################################################\n",
    "######## print id_vertices\n",
    "print(\"id_vertices:\")\n",
    "print(f\"{'label':16s}{'length':8s}{'indices'}\")\n",
    "for label,ids in id_vertices.items():\n",
    "    print(f\"{label:16s}{ids[-1]-ids[0]:<8d}{ids}\".replace('\\n', '\\n'+' '*24))\n",
    "print(\"-\"*40)\n",
    "\n",
    "######## print id_lines\n",
    "print(\"id_lines:\")\n",
    "print(f\"{'label':16s}{'length':8s}{'indices'}\")\n",
    "for label,ids in id_lines.items():\n",
    "    print(f\"{label:16s}{ids[-1]-ids[0]:<8d}{ids}\".replace('\\n', '\\n'+' '*24))\n",
    "print(\"-\"*40)\n",
    "\n",
    "lines_length = np.linalg.norm(vertices[lines[:,0]] - vertices[lines[:,1]],axis=1)\n",
    "plt.figure(figsize=(10,3))\n",
    "n,bins,_ =plt.hist(lines_length,bins=\"auto\")\n",
    "plt.text(bins[0],0,f\"{bins[0]:.1f}\",ha=\"left\",va=\"bottom\",fontsize=\"large\",color='r')\n",
    "plt.text(bins[-1],0,f\"{bins[-1]:.1f}\",ha=\"right\",va=\"bottom\",fontsize=\"large\",color='r')\n",
    "\n",
    "plt.show()"
   ]
  },
  {
   "cell_type": "code",
   "execution_count": 47,
   "metadata": {
    "ExecuteTime": {
     "end_time": "2021-06-19T02:59:05.341197Z",
     "start_time": "2021-06-19T02:59:03.322635Z"
    },
    "deletable": false,
    "editable": false,
    "run_control": {
     "frozen": true
    }
   },
   "outputs": [],
   "source": [
    "joint_radius = 40.\n",
    "joint_height = 40.\n",
    "\n",
    "cylinder_spec = dict(center=(0, 0, 0), axis=(1, 0, 0),\n",
    "                     radius=joint_radius, height=joint_height)\n",
    "cyliner_k, _ = generateGmsh(gmshGeoFcn=gmshGeoAddCylinder, gmsh_geo_kwargs=cylinder_spec,\n",
    "                            gmsh_args=gmsh_args, gmsh_args_3d=gmsh_args_3d, gui=True)\n",
    "\n",
    "vmd_cylinder = VolumeMesh.fromGmsh(\n",
    "            cyliner_k, min_radius=min_radius, max_radius=radius_knn, max_nn=max_nn)"
   ]
  },
  {
   "cell_type": "code",
   "execution_count": 48,
   "metadata": {
    "ExecuteTime": {
     "end_time": "2021-06-19T02:59:06.512670Z",
     "start_time": "2021-06-19T02:59:05.345200Z"
    },
    "deletable": false,
    "editable": false,
    "run_control": {
     "frozen": true
    }
   },
   "outputs": [],
   "source": [
    "o3dShow(vmd_cylinder.lsd())"
   ]
  },
  {
   "cell_type": "code",
   "execution_count": 49,
   "metadata": {
    "ExecuteTime": {
     "end_time": "2021-06-19T02:59:07.716882Z",
     "start_time": "2021-06-19T02:59:06.515680Z"
    },
    "deletable": false,
    "editable": false,
    "run_control": {
     "frozen": true
    }
   },
   "outputs": [],
   "source": [
    "o3dShow(o3d.geometry.LineSet(\n",
    "    o3d.utility.Vector3dVector(np.vstack(vertices)),\n",
    "    o3d.utility.Vector2iVector(np.vstack(part_lines))))"
   ]
  },
  {
   "cell_type": "code",
   "execution_count": 50,
   "metadata": {
    "ExecuteTime": {
     "end_time": "2021-06-19T02:59:09.688133Z",
     "start_time": "2021-06-19T02:59:07.719880Z"
    },
    "deletable": false,
    "editable": false,
    "run_control": {
     "frozen": true
    }
   },
   "outputs": [],
   "source": [
    "o3dShow(o3d.geometry.PointCloud(\n",
    "    o3d.utility.Vector3dVector(vertices[np.hstack([j.left for j in joints])])))"
   ]
  },
  {
   "cell_type": "code",
   "execution_count": 51,
   "metadata": {
    "ExecuteTime": {
     "end_time": "2021-06-19T02:59:09.704128Z",
     "start_time": "2021-06-19T02:59:09.691135Z"
    },
    "deletable": false,
    "editable": false,
    "run_control": {
     "frozen": true
    }
   },
   "outputs": [
    {
     "data": {
      "text/plain": [
       "array([[-9.79685083e-15,  1.27000000e+02,  1.10000000e+02],\n",
       "       [-9.79685083e-15,  8.70000000e+01,  1.10000000e+02],\n",
       "       [ 2.00000000e+01,  1.27000000e+02,  1.04641016e+02],\n",
       "       ...,\n",
       "       [-2.30555269e+01, -1.16000000e+02, -3.18000000e+02],\n",
       "       [ 2.30940108e+01, -1.16000000e+02, -3.18000000e+02],\n",
       "       [ 4.47934211e-02, -1.16000000e+02, -3.18000000e+02]])"
      ]
     },
     "execution_count": 51,
     "metadata": {},
     "output_type": "execute_result"
    }
   ],
   "source": [
    "vertices[np.hstack([j.left for j in joints])]"
   ]
  },
  {
   "cell_type": "code",
   "execution_count": 52,
   "metadata": {
    "ExecuteTime": {
     "end_time": "2021-06-19T02:59:10.739879Z",
     "start_time": "2021-06-19T02:59:09.706128Z"
    },
    "deletable": false,
    "editable": false,
    "run_control": {
     "frozen": true
    }
   },
   "outputs": [],
   "source": [
    "o3dShow(o3d.geometry.LineSet(\n",
    "    o3d.utility.Vector3dVector(np.vstack(vertices)),\n",
    "    o3d.utility.Vector2iVector(np.vstack(fri_springs))))"
   ]
  },
  {
   "cell_type": "code",
   "execution_count": 76,
   "metadata": {
    "ExecuteTime": {
     "end_time": "2021-06-28T22:15:52.822414Z",
     "start_time": "2021-06-28T22:15:52.744281Z"
    }
   },
   "outputs": [],
   "source": [
    "num_body = len(graph.nodes)\n",
    "joint_vertex_id = np.sort(np.stack([(j.left,j.right) for j in joints]).ravel())\n",
    "# lines connected to joints\n",
    "lines_is_joint = np.bitwise_or.reduce(np.isin(lines,joint_vertex_id),1)\n",
    "# lines parts only\n",
    "lines_is_part = np.zeros(len(lines),dtype=bool)\n",
    "lines_is_part[id_lines[\"part\"][1]:id_lines[\"part\"][-1]] = True\n",
    "# selected sensor lines (bool)\n",
    "# lines_selected = ~lines_is_surface  * lines_is_part* ~lines_is_joint #bone\n",
    "# lines_selected = lines_is_surface  * lines_is_part* ~lines_is_joint # skin\n",
    "lines_selected = lines_is_part* ~lines_is_joint # all\n",
    "\n",
    "\n",
    "####################################################\n",
    "robot_lsd = o3d.geometry.LineSet(\n",
    "    o3d.utility.Vector3dVector(vertices),\n",
    "    o3d.utility.Vector2iVector(lines))\n",
    "robot_lsd.colors = o3d.utility.Vector3dVector(colors[lines].mean(axis=1))\n",
    "\n",
    "############# selected edges #########################\n",
    "# robot_lsd.paint_uniform_color((0.1,0.1,0.1))\n",
    "# colors = np.asarray(robot_lsd.colors)\n",
    "# # colors[np.logical_not(lines_is_surface)] = (1,1,1)\n",
    "# colors[lines_selected] = (1,1,1)\n",
    "# colors[lines_is_joint] = (1,0,0)\n",
    "# robot_lsd.colors = o3d.utility.Vector3dVector(colors)\n",
    "#######################################################\n",
    "# robot_lsd.paint_uniform_color((0.1,0.1,0.1))\n",
    "# step =  (id_lines[num_body])//128\n",
    "# colors = np.asarray(robot_lsd.colors)\n",
    "# colors[np.logical_not(lines_is_surface)] = (0.2,0.2,0.2)\n",
    "# colors[range(0,id_lines[num_body],step)] = (1,1,1)\n",
    "# robot_lsd.colors = o3d.utility.Vector3dVector(colors)\n",
    "\n",
    "# o3dShow([robot_lsd,coord_frame],background_color=(0,0,0))"
   ]
  },
  {
   "cell_type": "code",
   "execution_count": 77,
   "metadata": {
    "ExecuteTime": {
     "end_time": "2021-06-28T22:15:55.065925Z",
     "start_time": "2021-06-28T22:15:52.824416Z"
    },
    "scrolled": true
   },
   "outputs": [
    {
     "name": "stdout",
     "output_type": "stream",
     "text": [
      "[-0.246 -0.221 -0.001]\n",
      "[0.122 0.221 0.345]\n",
      "(3182, 3)\n",
      "(34369, 2)\n"
     ]
    }
   ],
   "source": [
    "# o3dShow(robot_lsd)\n",
    "# export\n",
    "xyz_all_trans = vertices.copy()\n",
    "\n",
    "# xyz_all_trans = applyTransform(xyz_all_trans,axisAngleRotation((0, 1, 0),-np.pi/2))\n",
    "\n",
    "min_bound = xyz_all_trans.min(axis=0)\n",
    "# transoformed ofset scaled mm->m\n",
    "xyz_all_trans = (xyz_all_trans + np.array([0, 0, 0-min_bound[-1]+-1]))/1000\n",
    "# xyz_all_trans = (xyz_all_trans + np.array([0, 0, 0-min_bound[-1]]))/1000\n",
    "# xyz_all_trans = (xyz_all_trans + np.array([0, 0, 0-min_bound[-1]+200]))/1000\n",
    "\n",
    "\n",
    "joints_list = [joint.toDict() for joint in joints]\n",
    "data = {\n",
    "    \"radius_poisson\":radius_poisson*1e-3,# convert to m\n",
    "    \"vertices\":xyz_all_trans.tolist(),\n",
    "    \"edges\":lines.tolist(),\n",
    "    \"triangles\":triangles.tolist(),\n",
    "    \"is_surface\":is_surface.tolist(),\n",
    "    \"id_vertices\":{key:arr.tolist() for key,arr in id_vertices.items()},\n",
    "    \"id_edges\":{key:arr.tolist() for key,arr in id_lines.items()},\n",
    "    \"colors\":colors.tolist(),\n",
    "    \"joints\":joints_list,\n",
    "#     \"is_surface_edges\":lines_is_surface.tolist(), # surface lines\n",
    "    \"id_selected_edges\":np.flatnonzero(lines_selected).tolist() # selected edges for spring strain\n",
    "}\n",
    "\n",
    "\n",
    "\n",
    "print(xyz_all_trans.min(axis=0))\n",
    "print(xyz_all_trans.max(axis=0))\n",
    "print(xyz_all_trans.shape)\n",
    "print(lines.shape)\n",
    "\n",
    "\n",
    "robot_lsd = o3d.geometry.LineSet(\n",
    "    o3d.utility.Vector3dVector(xyz_all_trans),\n",
    "    o3d.utility.Vector2iVector(lines))\n",
    "robot_lsd.colors = o3d.utility.Vector3dVector(colors[lines].mean(axis=1))\n",
    "o3dShow([robot_lsd,o3d.geometry.TriangleMesh.create_coordinate_frame(\n",
    "    size=0.1, origin=[0, 0, 0])])\n",
    "\n",
    "# https://stackoverflow.com/questions/43442194/how-do-i-read-and-write-with-msgpack\n",
    "# Write msgpack file\n",
    "with open('../flexipod_12dof.msgpack', 'wb') as outfile:\n",
    "    msgpack.pack(data, outfile)\n",
    "    \n",
    "# # Read msgpack file\n",
    "# with open('../flexipod_12dof.msgpack','rb') as data_file:\n",
    "#     # data_loaded = json.load(data_file)\n",
    "#     data_loaded = msgpack.unpack(data_file)"
   ]
  },
  {
   "cell_type": "markdown",
   "metadata": {
    "ExecuteTime": {
     "end_time": "2021-01-11T10:37:20.613620Z",
     "start_time": "2021-01-11T10:37:20.558607Z"
    },
    "scrolled": false
   },
   "source": [
    "##  generate URDF"
   ]
  },
  {
   "cell_type": "code",
   "execution_count": 53,
   "metadata": {
    "ExecuteTime": {
     "end_time": "2021-06-28T02:20:35.303477Z",
     "start_time": "2021-06-28T02:20:35.228460Z"
    },
    "scrolled": true
   },
   "outputs": [
    {
     "name": "stdout",
     "output_type": "stream",
     "text": [
      "URDF path:D:\\repo\\FlexipodFast\\data\\urdf\\12dof\\robot.urdf\n",
      "\n",
      "<?xml version='1.0' encoding='ASCII'?>\n",
      "<robot name=\"robot\">\n",
      "  <link name=\"0\">\n",
      "    <inertial>\n",
      "      <origin xyz=\"0.0 0.0 0.0\" rpy=\"0.0 0.0 0.0\"/>\n",
      "      <mass value=\"0.6982204026089079\"/>\n",
      "      <inertia ixx=\"0.0027568162609792027\" ixy=\"-0.0\" ixz=\"4.3035096179499014e-05\" iyy=\"0.00819108785451\" iyz=\"4.969259957225228e-21\" izz=\"0.0098023652972453\"/>\n",
      "    </inertial>\n",
      "    <visual>\n",
      "      <origin xyz=\"0.0 0.0 0.0\" rpy=\"0.0 0.0 0.0\"/>\n",
      "      <geometry>\n",
      "        <mesh filename=\"mesh/0.obj\"/>\n",
      "      </geometry>\n",
      "      <material name=\"#ff0000ff\">\n",
      "        <color rgba=\"1.0 0.0 0.0 1\"/>\n",
      "      </material>\n",
      "    </visual>\n",
      "    <collision>\n",
      "      <origin xyz=\"0.0 0.0 0.0\" rpy=\"0.0 0.0 0.0\"/>\n",
      "      <geometry>\n",
      "        <mesh filename=\"mesh/0.obj\"/>\n",
      "      </geometry>\n",
      "    </collision>\n",
      "  </link>\n",
      "  <link name=\"1\">\n",
      "    <inertial>\n",
      "      <origin xyz=\"0.0 0.0 0.0\" rpy=\"0.0 0.0 0.0\"/>\n",
      "      <mass value=\"0.07174383694960039\"/>\n",
      "      <inertia ixx=\"5.842334881129862e-05\" ixy=\"3.832305949202809e-10\" ixz=\"-1.0679624902624474e-10\" iyy=\"8.496352250157424e-05\" iyz=\"-3.8649752891082553e-11\" izz=\"6.232784253068015e-05\"/>\n",
      "    </inertial>\n",
      "    <visual>\n",
      "      <origin xyz=\"0.0 0.0 0.0\" rpy=\"0.0 0.0 0.0\"/>\n",
      "      <geometry>\n",
      "        <mesh filename=\"mesh/1.obj\"/>\n",
      "      </geometry>\n",
      "      <material name=\"#008000ff\">\n",
      "        <color rgba=\"0.0 0.5 0.0 1\"/>\n",
      "      </material>\n",
      "    </visual>\n",
      "    <collision>\n",
      "      <origin xyz=\"0.0 0.0 0.0\" rpy=\"0.0 0.0 0.0\"/>\n",
      "      <geometry>\n",
      "        <mesh filename=\"mesh/1.obj\"/>\n",
      "      </geometry>\n",
      "    </collision>\n",
      "  </link>\n",
      "  <link name=\"2\">\n",
      "    <inertial>\n",
      "      <origin xyz=\"0.0 0.0 0.0\" rpy=\"0.0 0.0 0.0\"/>\n",
      "      <mass value=\"0.10679863001648698\"/>\n",
      "      <inertia ixx=\"0.0001954125803656169\" ixy=\"4.658681209898652e-22\" ixz=\"-5.518004738251721e-22\" iyy=\"0.00021465960540717225\" iyz=\"1.1166882975210138e-21\" izz=\"8.427527620837489e-05\"/>\n",
      "    </inertial>\n",
      "    <visual>\n",
      "      <origin xyz=\"0.0 0.0 0.0\" rpy=\"0.0 0.0 0.0\"/>\n",
      "      <geometry>\n",
      "        <mesh filename=\"mesh/2.obj\"/>\n",
      "      </geometry>\n",
      "      <material name=\"#ffffffff\">\n",
      "        <color rgba=\"1 1 1 1\"/>\n",
      "      </material>\n",
      "    </visual>\n",
      "    <collision>\n",
      "      <origin xyz=\"0.0 0.0 0.0\" rpy=\"0.0 0.0 0.0\"/>\n",
      "      <geometry>\n",
      "        <mesh filename=\"mesh/2.obj\"/>\n",
      "      </geometry>\n",
      "    </collision>\n",
      "  </link>\n",
      "  <link name=\"3\">\n",
      "    <inertial>\n",
      "      <origin xyz=\"0.0 0.0 0.0\" rpy=\"0.0 0.0 0.0\"/>\n",
      "      <mass value=\"0.06983417080751726\"/>\n",
      "      <inertia ixx=\"8.710504440499588e-05\" ixy=\"7.657872348833282e-11\" ixz=\"-2.587172313695115e-11\" iyy=\"8.392039501722113e-05\" iyz=\"6.150563876828259e-11\" izz=\"4.408229806900964e-05\"/>\n",
      "    </inertial>\n",
      "    <visual>\n",
      "      <origin xyz=\"0.0 0.0 0.0\" rpy=\"0.0 0.0 0.0\"/>\n",
      "      <geometry>\n",
      "        <mesh filename=\"mesh/3.obj\"/>\n",
      "      </geometry>\n",
      "      <material name=\"#0000ffff\">\n",
      "        <color rgba=\"0.0 0.0 1.0 1\"/>\n",
      "      </material>\n",
      "    </visual>\n",
      "    <collision>\n",
      "      <origin xyz=\"0.0 0.0 0.0\" rpy=\"0.0 0.0 0.0\"/>\n",
      "      <geometry>\n",
      "        <mesh filename=\"mesh/3.obj\"/>\n",
      "      </geometry>\n",
      "    </collision>\n",
      "  </link>\n",
      "  <link name=\"4\">\n",
      "    <inertial>\n",
      "      <origin xyz=\"0.0 0.0 0.0\" rpy=\"0.0 0.0 0.0\"/>\n",
      "      <mass value=\"0.07174383694960039\"/>\n",
      "      <inertia ixx=\"5.842334881129862e-05\" ixy=\"3.832305949202809e-10\" ixz=\"-1.0679624902624474e-10\" iyy=\"8.496352250157424e-05\" iyz=\"-3.8649752891082553e-11\" izz=\"6.232784253068015e-05\"/>\n",
      "    </inertial>\n",
      "    <visual>\n",
      "      <origin xyz=\"0.0 0.0 0.0\" rpy=\"0.0 0.0 0.0\"/>\n",
      "      <geometry>\n",
      "        <mesh filename=\"mesh/4.obj\"/>\n",
      "      </geometry>\n",
      "      <material name=\"#008000ff\">\n",
      "        <color rgba=\"0.0 0.5 0.0 1\"/>\n",
      "      </material>\n",
      "    </visual>\n",
      "    <collision>\n",
      "      <origin xyz=\"0.0 0.0 0.0\" rpy=\"0.0 0.0 0.0\"/>\n",
      "      <geometry>\n",
      "        <mesh filename=\"mesh/4.obj\"/>\n",
      "      </geometry>\n",
      "    </collision>\n",
      "  </link>\n",
      "  <link name=\"5\">\n",
      "    <inertial>\n",
      "      <origin xyz=\"0.0 0.0 0.0\" rpy=\"0.0 0.0 0.0\"/>\n",
      "      <mass value=\"0.10679863001648698\"/>\n",
      "      <inertia ixx=\"0.0001954125803656169\" ixy=\"4.658681209898652e-22\" ixz=\"-5.518004738251721e-22\" iyy=\"0.00021465960540717225\" iyz=\"1.1166882975210138e-21\" izz=\"8.427527620837489e-05\"/>\n",
      "    </inertial>\n",
      "    <visual>\n",
      "      <origin xyz=\"0.0 0.0 0.0\" rpy=\"0.0 0.0 0.0\"/>\n",
      "      <geometry>\n",
      "        <mesh filename=\"mesh/5.obj\"/>\n",
      "      </geometry>\n",
      "      <material name=\"#ffffffff\">\n",
      "        <color rgba=\"1 1 1 1\"/>\n",
      "      </material>\n",
      "    </visual>\n",
      "    <collision>\n",
      "      <origin xyz=\"0.0 0.0 0.0\" rpy=\"0.0 0.0 0.0\"/>\n",
      "      <geometry>\n",
      "        <mesh filename=\"mesh/5.obj\"/>\n",
      "      </geometry>\n",
      "    </collision>\n",
      "  </link>\n",
      "  <link name=\"6\">\n",
      "    <inertial>\n",
      "      <origin xyz=\"0.0 0.0 0.0\" rpy=\"0.0 0.0 0.0\"/>\n",
      "      <mass value=\"0.06983417080751726\"/>\n",
      "      <inertia ixx=\"8.710504440499588e-05\" ixy=\"7.657872348833282e-11\" ixz=\"-2.587172313695115e-11\" iyy=\"8.392039501722113e-05\" iyz=\"6.150563876828259e-11\" izz=\"4.408229806900964e-05\"/>\n",
      "    </inertial>\n",
      "    <visual>\n",
      "      <origin xyz=\"0.0 0.0 0.0\" rpy=\"0.0 0.0 0.0\"/>\n",
      "      <geometry>\n",
      "        <mesh filename=\"mesh/6.obj\"/>\n",
      "      </geometry>\n",
      "      <material name=\"#0000ffff\">\n",
      "        <color rgba=\"0.0 0.0 1.0 1\"/>\n",
      "      </material>\n",
      "    </visual>\n",
      "    <collision>\n",
      "      <origin xyz=\"0.0 0.0 0.0\" rpy=\"0.0 0.0 0.0\"/>\n",
      "      <geometry>\n",
      "        <mesh filename=\"mesh/6.obj\"/>\n",
      "      </geometry>\n",
      "    </collision>\n",
      "  </link>\n",
      "  <link name=\"7\">\n",
      "    <inertial>\n",
      "      <origin xyz=\"0.0 0.0 0.0\" rpy=\"0.0 0.0 0.0\"/>\n",
      "      <mass value=\"0.07174383694960039\"/>\n",
      "      <inertia ixx=\"5.842334881129862e-05\" ixy=\"3.832305949202809e-10\" ixz=\"-1.0679624902624474e-10\" iyy=\"8.496352250157424e-05\" iyz=\"-3.8649752891082553e-11\" izz=\"6.232784253068015e-05\"/>\n",
      "    </inertial>\n",
      "    <visual>\n",
      "      <origin xyz=\"0.0 0.0 0.0\" rpy=\"0.0 0.0 0.0\"/>\n",
      "      <geometry>\n",
      "        <mesh filename=\"mesh/7.obj\"/>\n",
      "      </geometry>\n",
      "      <material name=\"#008000ff\">\n",
      "        <color rgba=\"0.0 0.5 0.0 1\"/>\n",
      "      </material>\n",
      "    </visual>\n",
      "    <collision>\n",
      "      <origin xyz=\"0.0 0.0 0.0\" rpy=\"0.0 0.0 0.0\"/>\n",
      "      <geometry>\n",
      "        <mesh filename=\"mesh/7.obj\"/>\n",
      "      </geometry>\n",
      "    </collision>\n",
      "  </link>\n",
      "  <link name=\"8\">\n",
      "    <inertial>\n",
      "      <origin xyz=\"0.0 0.0 0.0\" rpy=\"0.0 0.0 0.0\"/>\n",
      "      <mass value=\"0.10679863001648698\"/>\n",
      "      <inertia ixx=\"0.0001954125803656169\" ixy=\"4.658681209898652e-22\" ixz=\"-5.518004738251721e-22\" iyy=\"0.00021465960540717225\" iyz=\"1.1166882975210138e-21\" izz=\"8.427527620837489e-05\"/>\n",
      "    </inertial>\n",
      "    <visual>\n",
      "      <origin xyz=\"0.0 0.0 0.0\" rpy=\"0.0 0.0 0.0\"/>\n",
      "      <geometry>\n",
      "        <mesh filename=\"mesh/8.obj\"/>\n",
      "      </geometry>\n",
      "      <material name=\"#ffffffff\">\n",
      "        <color rgba=\"1 1 1 1\"/>\n",
      "      </material>\n",
      "    </visual>\n",
      "    <collision>\n",
      "      <origin xyz=\"0.0 0.0 0.0\" rpy=\"0.0 0.0 0.0\"/>\n",
      "      <geometry>\n",
      "        <mesh filename=\"mesh/8.obj\"/>\n",
      "      </geometry>\n",
      "    </collision>\n",
      "  </link>\n",
      "  <link name=\"9\">\n",
      "    <inertial>\n",
      "      <origin xyz=\"0.0 0.0 0.0\" rpy=\"0.0 0.0 0.0\"/>\n",
      "      <mass value=\"0.07441012134499125\"/>\n",
      "      <inertia ixx=\"0.00010556086602848318\" ixy=\"-5.565692946049737e-13\" ixz=\"-1.5310126932884229e-09\" iyy=\"9.735253251042393e-05\" iyz=\"-1.9349064856582265e-12\" izz=\"5.2487910363044674e-05\"/>\n",
      "    </inertial>\n",
      "    <visual>\n",
      "      <origin xyz=\"0.0 0.0 0.0\" rpy=\"0.0 0.0 0.0\"/>\n",
      "      <geometry>\n",
      "        <mesh filename=\"mesh/9.obj\"/>\n",
      "      </geometry>\n",
      "      <material name=\"#0000ffff\">\n",
      "        <color rgba=\"0.0 0.0 1.0 1\"/>\n",
      "      </material>\n",
      "    </visual>\n",
      "    <collision>\n",
      "      <origin xyz=\"0.0 0.0 0.0\" rpy=\"0.0 0.0 0.0\"/>\n",
      "      <geometry>\n",
      "        <mesh filename=\"mesh/9.obj\"/>\n",
      "      </geometry>\n",
      "    </collision>\n",
      "  </link>\n",
      "  <link name=\"10\">\n",
      "    <inertial>\n",
      "      <origin xyz=\"0.0 0.0 0.0\" rpy=\"0.0 0.0 0.0\"/>\n",
      "      <mass value=\"0.07174383694960039\"/>\n",
      "      <inertia ixx=\"5.842334881129862e-05\" ixy=\"3.832305949202809e-10\" ixz=\"-1.0679624902624474e-10\" iyy=\"8.496352250157424e-05\" iyz=\"-3.8649752891082553e-11\" izz=\"6.232784253068015e-05\"/>\n",
      "    </inertial>\n",
      "    <visual>\n",
      "      <origin xyz=\"0.0 0.0 0.0\" rpy=\"0.0 0.0 0.0\"/>\n",
      "      <geometry>\n",
      "        <mesh filename=\"mesh/10.obj\"/>\n",
      "      </geometry>\n",
      "      <material name=\"#008000ff\">\n",
      "        <color rgba=\"0.0 0.5 0.0 1\"/>\n",
      "      </material>\n",
      "    </visual>\n",
      "    <collision>\n",
      "      <origin xyz=\"0.0 0.0 0.0\" rpy=\"0.0 0.0 0.0\"/>\n",
      "      <geometry>\n",
      "        <mesh filename=\"mesh/10.obj\"/>\n",
      "      </geometry>\n",
      "    </collision>\n",
      "  </link>\n",
      "  <link name=\"11\">\n",
      "    <inertial>\n",
      "      <origin xyz=\"0.0 0.0 0.0\" rpy=\"0.0 0.0 0.0\"/>\n",
      "      <mass value=\"0.10679863001648698\"/>\n",
      "      <inertia ixx=\"0.0001954125803656169\" ixy=\"4.658681209898652e-22\" ixz=\"-5.518004738251721e-22\" iyy=\"0.00021465960540717225\" iyz=\"1.1166882975210138e-21\" izz=\"8.427527620837489e-05\"/>\n",
      "    </inertial>\n",
      "    <visual>\n",
      "      <origin xyz=\"0.0 0.0 0.0\" rpy=\"0.0 0.0 0.0\"/>\n",
      "      <geometry>\n",
      "        <mesh filename=\"mesh/11.obj\"/>\n",
      "      </geometry>\n",
      "      <material name=\"#ffffffff\">\n",
      "        <color rgba=\"1 1 1 1\"/>\n",
      "      </material>\n",
      "    </visual>\n",
      "    <collision>\n",
      "      <origin xyz=\"0.0 0.0 0.0\" rpy=\"0.0 0.0 0.0\"/>\n",
      "      <geometry>\n",
      "        <mesh filename=\"mesh/11.obj\"/>\n",
      "      </geometry>\n",
      "    </collision>\n",
      "  </link>\n",
      "  <link name=\"12\">\n",
      "    <inertial>\n",
      "      <origin xyz=\"0.0 0.0 0.0\" rpy=\"0.0 0.0 0.0\"/>\n",
      "      <mass value=\"0.07441012134499128\"/>\n",
      "      <inertia ixx=\"0.00010556086602848288\" ixy=\"-5.565692943332072e-13\" ixz=\"1.5310126932800495e-09\" iyy=\"9.735253251042363e-05\" iyz=\"1.9349064880716124e-12\" izz=\"5.2487910363044674e-05\"/>\n",
      "    </inertial>\n",
      "    <visual>\n",
      "      <origin xyz=\"0.0 0.0 0.0\" rpy=\"0.0 0.0 0.0\"/>\n",
      "      <geometry>\n",
      "        <mesh filename=\"mesh/12.obj\"/>\n",
      "      </geometry>\n",
      "      <material name=\"#0000ffff\">\n",
      "        <color rgba=\"0.0 0.0 1.0 1\"/>\n",
      "      </material>\n",
      "    </visual>\n",
      "    <collision>\n",
      "      <origin xyz=\"0.0 0.0 0.0\" rpy=\"0.0 0.0 0.0\"/>\n",
      "      <geometry>\n",
      "        <mesh filename=\"mesh/12.obj\"/>\n",
      "      </geometry>\n",
      "    </collision>\n",
      "  </link>\n",
      "  <joint name=\"0,1\" type=\"revolute\">\n",
      "    <origin xyz=\"0.07 0.107 0.0\" rpy=\"1.5707963267948966 0.0 1.5707963267948966\"/>\n",
      "    <parent link=\"0\"/>\n",
      "    <child link=\"1\"/>\n",
      "    <axis xyz=\"1.0 0.0 0.0\"/>\n",
      "    <limit lower=\"-3.141592653589793\" upper=\"3.141592653589793\"/>\n",
      "  </joint>\n",
      "  <joint name=\"1,2\" type=\"revolute\">\n",
      "    <origin xyz=\"0.066 0.0 0.0\" rpy=\"1.5707963267948966 0.0 -1.5707963267948966\"/>\n",
      "    <parent link=\"1\"/>\n",
      "    <child link=\"2\"/>\n",
      "    <axis xyz=\"1.0 0.0 0.0\"/>\n",
      "    <limit lower=\"-1.7453292519943295\" upper=\"1.7453292519943295\"/>\n",
      "  </joint>\n",
      "  <joint name=\"2,3\" type=\"revolute\">\n",
      "    <origin xyz=\"0.0 0.0 -0.14300000000000002\" rpy=\"0.0 0.0 -1.5707963267948963\"/>\n",
      "    <parent link=\"2\"/>\n",
      "    <child link=\"3\"/>\n",
      "    <axis xyz=\"1.0 0.0 0.0\"/>\n",
      "    <limit lower=\"-1.5707963267948966\" upper=\"1.5707963267948966\"/>\n",
      "  </joint>\n",
      "  <joint name=\"0,4\" type=\"revolute\">\n",
      "    <origin xyz=\"0.07 -0.107 0.0\" rpy=\"-1.5707963267948966 0.0 -1.5707963267948966\"/>\n",
      "    <parent link=\"0\"/>\n",
      "    <child link=\"4\"/>\n",
      "    <axis xyz=\"1.0 0.0 0.0\"/>\n",
      "    <limit lower=\"-3.141592653589793\" upper=\"3.141592653589793\"/>\n",
      "  </joint>\n",
      "  <joint name=\"4,5\" type=\"revolute\">\n",
      "    <origin xyz=\"0.066 0.0 0.0\" rpy=\"-1.5707963267948966 0.0 1.5707963267948966\"/>\n",
      "    <parent link=\"4\"/>\n",
      "    <child link=\"5\"/>\n",
      "    <axis xyz=\"1.0 0.0 0.0\"/>\n",
      "    <limit lower=\"-1.7453292519943295\" upper=\"1.7453292519943295\"/>\n",
      "  </joint>\n",
      "  <joint name=\"5,6\" type=\"revolute\">\n",
      "    <origin xyz=\"0.0 0.0 -0.14300000000000002\" rpy=\"0.0 0.0 1.5707963267948963\"/>\n",
      "    <parent link=\"5\"/>\n",
      "    <child link=\"6\"/>\n",
      "    <axis xyz=\"1.0 0.0 0.0\"/>\n",
      "    <limit lower=\"-1.5707963267948966\" upper=\"1.5707963267948966\"/>\n",
      "  </joint>\n",
      "  <joint name=\"0,7\" type=\"revolute\">\n",
      "    <origin xyz=\"-0.17500000000000002 0.03 0.0\" rpy=\"1.5707963267948966 0.0 1.5707963267948966\"/>\n",
      "    <parent link=\"0\"/>\n",
      "    <child link=\"7\"/>\n",
      "    <axis xyz=\"1.0 0.0 0.0\"/>\n",
      "    <limit lower=\"-3.141592653589793\" upper=\"3.141592653589793\"/>\n",
      "  </joint>\n",
      "  <joint name=\"7,8\" type=\"revolute\">\n",
      "    <origin xyz=\"0.066 0.0 0.0\" rpy=\"1.5707963267948966 0.0 -1.5707963267948966\"/>\n",
      "    <parent link=\"7\"/>\n",
      "    <child link=\"8\"/>\n",
      "    <axis xyz=\"1.0 0.0 0.0\"/>\n",
      "    <limit lower=\"-1.7453292519943295\" upper=\"1.7453292519943295\"/>\n",
      "  </joint>\n",
      "  <joint name=\"8,9\" type=\"revolute\">\n",
      "    <origin xyz=\"0.0 0.0 -0.14300000000000002\" rpy=\"0.0 0.0 -1.5707963267948963\"/>\n",
      "    <parent link=\"8\"/>\n",
      "    <child link=\"9\"/>\n",
      "    <axis xyz=\"1.0 0.0 0.0\"/>\n",
      "    <limit lower=\"-1.5707963267948966\" upper=\"1.5707963267948966\"/>\n",
      "  </joint>\n",
      "  <joint name=\"0,10\" type=\"revolute\">\n",
      "    <origin xyz=\"-0.17500000000000002 -0.03 0.0\" rpy=\"-1.5707963267948966 0.0 -1.5707963267948966\"/>\n",
      "    <parent link=\"0\"/>\n",
      "    <child link=\"10\"/>\n",
      "    <axis xyz=\"1.0 0.0 0.0\"/>\n",
      "    <limit lower=\"-3.141592653589793\" upper=\"3.141592653589793\"/>\n",
      "  </joint>\n",
      "  <joint name=\"10,11\" type=\"revolute\">\n",
      "    <origin xyz=\"0.066 0.0 0.0\" rpy=\"-1.5707963267948966 0.0 1.5707963267948966\"/>\n",
      "    <parent link=\"10\"/>\n",
      "    <child link=\"11\"/>\n",
      "    <axis xyz=\"1.0 0.0 0.0\"/>\n",
      "    <limit lower=\"-1.7453292519943295\" upper=\"1.7453292519943295\"/>\n",
      "  </joint>\n",
      "  <joint name=\"11,12\" type=\"revolute\">\n",
      "    <origin xyz=\"0.0 0.0 -0.14300000000000002\" rpy=\"0.0 0.0 1.5707963267948963\"/>\n",
      "    <parent link=\"11\"/>\n",
      "    <child link=\"12\"/>\n",
      "    <axis xyz=\"1.0 0.0 0.0\"/>\n",
      "    <limit lower=\"-1.5707963267948966\" upper=\"1.5707963267948966\"/>\n",
      "  </joint>\n",
      "</robot>\n",
      "\n"
     ]
    },
    {
     "data": {
      "text/plain": [
       "<lxml.etree._ElementTree at 0x1cb4d408d00>"
      ]
     },
     "execution_count": 53,
     "metadata": {},
     "output_type": "execute_result"
    }
   ],
   "source": [
    "urdf_path = \"../../data/urdf/12dof/robot.urdf\"\n",
    "graph.exportURDF(path= urdf_path,use_fine_mesh=True)"
   ]
  },
  {
   "cell_type": "markdown",
   "metadata": {},
   "source": [
    "# VHACD"
   ]
  },
  {
   "cell_type": "code",
   "execution_count": 54,
   "metadata": {
    "ExecuteTime": {
     "end_time": "2021-06-28T02:20:35.988630Z",
     "start_time": "2021-06-28T02:20:35.897610Z"
    }
   },
   "outputs": [],
   "source": [
    "import glob\n",
    "import pybullet as p\n",
    "import os\n",
    "from joblib import Parallel, delayed\n",
    "import shutil\n",
    "\n",
    "def vhacd(name_in,name_out):\n",
    "    physicsClientId = p.connect(p.DIRECT)\n",
    "    p.vhacd(name_in, name_out, \"\", concavity=0.00005, resolution=8000000, \n",
    "        maxNumVerticesPerCH=256, depth=32,planeDownsampling=4,convexhullDownsampling=4,\n",
    "            minVolumePerCH =0.00001,\n",
    "           physicsClientId = physicsClientId)\n",
    "    p.disconnect(physicsClientId)\n",
    "    \n",
    "urdf_dir = \"../../data/urdf/12dof\"\n",
    "mesh_dir = f\"{urdf_dir}/mesh\"\n",
    "mesh_original_dir = f\"{urdf_dir}/mesh/original\"\n",
    "\n",
    "if not os.path.exists(mesh_original_dir):\n",
    "    print(\"moving original mesh to 'mesh/original/'\")\n",
    "    os.mkdir(mesh_original_dir)\n",
    "\n",
    "for obj_file in glob.glob(f\"{mesh_dir}/*.obj\"):\n",
    "    base_name = os.path.basename(obj_file)\n",
    "    shutil.move(obj_file,f\"{mesh_original_dir}/{base_name}\")\n",
    "original_obj_list = glob.glob(f\"{mesh_original_dir}/*.obj\")\n",
    "converted_obj_list = [f\"{mesh_dir}/{os.path.basename(obj)}\" for obj in original_obj_list]"
   ]
  },
  {
   "cell_type": "code",
   "execution_count": 55,
   "metadata": {
    "ExecuteTime": {
     "end_time": "2021-06-28T02:21:58.039058Z",
     "start_time": "2021-06-28T02:20:36.101656Z"
    },
    "scrolled": true
   },
   "outputs": [
    {
     "name": "stderr",
     "output_type": "stream",
     "text": [
      "[Parallel(n_jobs=13)]: Using backend LokyBackend with 13 concurrent workers.\n",
      "[Parallel(n_jobs=13)]: Done   2 out of  13 | elapsed:    5.5s remaining:   30.5s\n",
      "[Parallel(n_jobs=13)]: Done  13 out of  13 | elapsed:  1.4min finished\n"
     ]
    }
   ],
   "source": [
    "n_jobs = int(min(os.cpu_count()*0.8,len(original_obj_list)))\n",
    "_=Parallel(n_jobs = n_jobs,verbose=1)(\n",
    "    delayed(vhacd)(n_in,n_out) for n_in,n_out in zip(original_obj_list,converted_obj_list))"
   ]
  },
  {
   "cell_type": "code",
   "execution_count": 56,
   "metadata": {
    "ExecuteTime": {
     "end_time": "2021-06-28T02:21:58.055062Z",
     "start_time": "2021-06-28T02:21:58.042059Z"
    }
   },
   "outputs": [],
   "source": [
    "# k = 1\n",
    "# name_in = original_obj_list[k]\n",
    "# name_out = converted_obj_list[k]\n",
    "# vhacd(name_in,name_out)\n",
    "\n",
    "# # check the file\n",
    "# name_out = os.path.abspath(name_out)\n",
    "# ! $name_out"
   ]
  },
  {
   "cell_type": "markdown",
   "metadata": {},
   "source": [
    "# check pybullet"
   ]
  },
  {
   "cell_type": "code",
   "execution_count": 21,
   "metadata": {
    "ExecuteTime": {
     "end_time": "2021-06-04T18:05:55.912672Z",
     "start_time": "2021-06-04T18:05:09.228867Z"
    },
    "deletable": false,
    "editable": false,
    "run_control": {
     "frozen": true
    }
   },
   "outputs": [],
   "source": [
    "import numpy as np\n",
    "import pybullet as p\n",
    "import time\n",
    "import pybullet_data\n",
    "from scipy.spatial.transform import Rotation\n",
    "\n",
    "##########################################\n",
    "urdf_path = \"../../data/urdf/12dof/robot.urdf\"\n",
    "####################################################\n",
    "use_fixed_base=0\n",
    "\n",
    "gui = p.connect(p.GUI)\n",
    "p.setAdditionalSearchPath(pybullet_data.getDataPath())\n",
    "p.resetSimulation(physicsClientId=gui)\n",
    "p.setGravity(0, 0, -10)\n",
    "# robot_id = p.loadURDF(urdf_path, [0, 0, 0.5], physicsClientId=gui,useFixedBase=1,flags = p.URDF_USE_SELF_COLLISION)\n",
    "robot_id = p.loadURDF(urdf_path, [0, 0, 0.5], physicsClientId=gui,useFixedBase=use_fixed_base,flags = p.URDF_USE_SELF_COLLISION)\n",
    "\n",
    "plane = p.loadURDF(\"plane.urdf\")\n",
    "\n",
    "# quat = Rotation.from_euler('xyz',[0,-np.pi/2,0]).as_quat()\n",
    "# p.resetBasePositionAndOrientation(robot_id, [0, 0, 0.5], quat)\n",
    "\n",
    "# # ##################################################\n",
    "while (p.getConnectionInfo(physicsClientId=gui)[\"isConnected\"]):\n",
    "    #p.setJointMotorControlArray(robot_id,np.arange(p.getNumJoints(robot_id)),p.POSITION_CONTROL,joint_pos)\n",
    "    p.stepSimulation(physicsClientId=gui)\n",
    "    #time.sleep(0.01)\n",
    "    \n",
    "# p.disconnect()"
   ]
  },
  {
   "cell_type": "code",
   "execution_count": 22,
   "metadata": {
    "ExecuteTime": {
     "end_time": "2021-06-04T18:05:57.331255Z",
     "start_time": "2021-06-04T18:05:55.917698Z"
    },
    "deletable": false,
    "editable": false,
    "run_control": {
     "frozen": true
    }
   },
   "outputs": [
    {
     "ename": "error",
     "evalue": "Not connected to physics server.",
     "output_type": "error",
     "traceback": [
      "\u001b[1;31m---------------------------------------------------------------------------\u001b[0m",
      "\u001b[1;31merror\u001b[0m                                     Traceback (most recent call last)",
      "\u001b[1;32m<ipython-input-22-ce9cacbf3385>\u001b[0m in \u001b[0;36m<module>\u001b[1;34m\u001b[0m\n\u001b[1;32m----> 1\u001b[1;33m \u001b[0mp\u001b[0m\u001b[1;33m.\u001b[0m\u001b[0mdisconnect\u001b[0m\u001b[1;33m(\u001b[0m\u001b[1;33m)\u001b[0m\u001b[1;33m\u001b[0m\u001b[1;33m\u001b[0m\u001b[0m\n\u001b[0m",
      "\u001b[1;31merror\u001b[0m: Not connected to physics server."
     ]
    }
   ],
   "source": [
    "p.disconnect()"
   ]
  },
  {
   "cell_type": "code",
   "execution_count": null,
   "metadata": {
    "ExecuteTime": {
     "end_time": "2021-06-04T18:05:57.334256Z",
     "start_time": "2021-06-04T18:02:12.940Z"
    },
    "deletable": false,
    "editable": false,
    "run_control": {
     "frozen": true
    }
   },
   "outputs": [],
   "source": [
    "import numpy as np\n",
    "import pybullet as p\n",
    "import time\n",
    "import pybullet_data\n",
    "from scipy.spatial.transform import Rotation\n",
    "\n",
    "##########################################\n",
    "urdf_path = \"../../data/urdf/12dof/robot.urdf\"\n",
    "####################################################\n",
    "use_fixed_base=0\n",
    "\n",
    "gui = p.connect(p.GUI)\n",
    "p.setAdditionalSearchPath(pybullet_data.getDataPath())\n",
    "p.resetSimulation(physicsClientId=gui)\n",
    "p.setGravity(0, 0, -10)\n",
    "# robot_id = p.loadURDF(urdf_path, [0, 0, 0.5], physicsClientId=gui,useFixedBase=1,flags = p.URDF_USE_SELF_COLLISION)\n",
    "robot_id = p.loadURDF(urdf_path, [0, 0, 0.5], physicsClientId=gui,useFixedBase=use_fixed_base,flags = p.URDF_USE_SELF_COLLISION)\n",
    "\n",
    "plane = p.loadURDF(\"plane.urdf\")\n",
    "\n",
    "\n",
    "joint_pos = np.array([\n",
    "    # front left\n",
    "    -np.pi/2,               # 0\n",
    "    -np.pi/2,        # 1\n",
    "    0,               # 2\n",
    "    # front right\n",
    "    np.pi/2,               # 3 \n",
    "    np.pi/2,         # 4  \n",
    "    0,               # 5\n",
    "    # back left\n",
    "    -np.pi/2,               # 6     \n",
    "    -np.pi/2,        # 7   \n",
    "    0,               # 8\n",
    "    # back right\n",
    "    np.pi/2,               # 9        \n",
    "    np.pi/2,         # 10 \n",
    "    0                # 11   \n",
    "]) \n",
    "dof = len(joint_pos)\n",
    "for k in range(dof):\n",
    "    p.resetJointState(robot_id, k, targetValue=joint_pos[k])\n",
    "    \n",
    "# quat = Rotation.from_euler('xyz',[0,-np.pi/2,0]).as_quat()\n",
    "# p.resetBasePositionAndOrientation(robot_id, [0, 0, 0.5], quat)\n",
    "\n",
    "p.setJointMotorControlArray(robot_id, list(range(dof)), controlMode= p.POSITION_CONTROL,\n",
    "                                    targetPositions=joint_pos)\n",
    "# for k in range(1000):\n",
    "#     p.stepSimulation(physicsClientId=gui)\n",
    "    \n",
    "# # ##################################################\n",
    "while (p.getConnectionInfo(physicsClientId=gui)[\"isConnected\"]):\n",
    "    #p.setJointMotorControlArray(robot_id,np.arange(p.getNumJoints(robot_id)),p.POSITION_CONTROL,joint_pos)\n",
    "    p.stepSimulation(physicsClientId=gui)\n",
    "    #time.sleep(0.01)\n",
    "\n",
    "p.disconnect()"
   ]
  },
  {
   "cell_type": "code",
   "execution_count": null,
   "metadata": {
    "ExecuteTime": {
     "end_time": "2021-06-04T18:05:57.335257Z",
     "start_time": "2021-06-04T18:02:12.941Z"
    },
    "deletable": false,
    "editable": false,
    "run_control": {
     "frozen": true
    }
   },
   "outputs": [],
   "source": [
    "p.disconnect()"
   ]
  },
  {
   "cell_type": "code",
   "execution_count": null,
   "metadata": {},
   "outputs": [],
   "source": []
  },
  {
   "cell_type": "code",
   "execution_count": null,
   "metadata": {},
   "outputs": [],
   "source": []
  }
 ],
 "metadata": {
  "kernelspec": {
   "display_name": "Python 3",
   "language": "python",
   "name": "python3"
  },
  "language_info": {
   "codemirror_mode": {
    "name": "ipython",
    "version": 3
   },
   "file_extension": ".py",
   "mimetype": "text/x-python",
   "name": "python",
   "nbconvert_exporter": "python",
   "pygments_lexer": "ipython3",
   "version": "3.8.8"
  }
 },
 "nbformat": 4,
 "nbformat_minor": 2
}
