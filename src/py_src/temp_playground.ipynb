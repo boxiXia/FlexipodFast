{
 "cells": [
  {
   "cell_type": "code",
   "execution_count": null,
   "id": "2859afe6",
   "metadata": {
    "ExecuteTime": {
     "start_time": "2021-05-28T18:01:41.451Z"
    }
   },
   "outputs": [],
   "source": [
    "import os\n",
    "import sys\n",
    "# https://discuss.pytorch.org/t/how-to-change-the-default-device-of-gpu-device-ids-0/1041/24\n",
    "os.environ[\"CUDA_DEVICE_ORDER\"]=\"PCI_BUS_ID\"   \n",
    "os.environ[\"CUDA_VISIBLE_DEVICES\"]=f\"{0}\"\n",
    "\n",
    "import torch\n",
    "print(f\"current_device:{torch.cuda.current_device()}\")\n",
    "print(f\"device_count:{torch.cuda.device_count()}\")\n",
    "\n",
    "sys.path.append(\"D:\\\\repo\\\\FlexipodFast\\\\src\\\\py_src\\pytorch_sac\")\n",
    "from agent.actor import DiagGaussianActor\n",
    "from agent.critic import DoubleQCritic\n",
    "import numpy as np\n",
    "import torch\n",
    "\n",
    "sys.path.append(\"D:\\\\repo\\\\FlexipodFast\\\\src\\\\py_src\")\n",
    "from flexipod_env import FlexipodEnv\n",
    "\n",
    "%load_ext line_profiler\n",
    "\n",
    "device = \"cuda\""
   ]
  },
  {
   "cell_type": "code",
   "execution_count": 36,
   "id": "6aead58e",
   "metadata": {
    "ExecuteTime": {
     "end_time": "2021-05-26T20:53:57.328893Z",
     "start_time": "2021-05-26T20:53:56.438700Z"
    }
   },
   "outputs": [],
   "source": [
    "from hydra import compose, initialize, initialize_config_dir, initialize_config_module\n",
    "from hydra.core.global_hydra import GlobalHydra\n",
    "from pathlib import Path\n",
    "import hydra\n",
    "\n",
    "GlobalHydra.instance().clear()\n",
    "hydra.initialize(config_path=\".\")\n",
    "cfg = compose(\"train.yaml\")\n",
    "\n",
    "cfg.agent.obs_dim = 960\n",
    "cfg.agent.action_dim=12\n",
    "actor_cfg = cfg.agent.actor_cfg\n",
    "critic_cfg = cfg.agent.critic_cfg\n",
    "\n",
    "critic = hydra.utils.instantiate(critic_cfg).to(device)\n",
    "actor = hydra.utils.instantiate(actor_cfg).to(device)"
   ]
  },
  {
   "cell_type": "code",
   "execution_count": 53,
   "id": "c99320fa",
   "metadata": {
    "ExecuteTime": {
     "end_time": "2021-05-26T21:16:20.044036Z",
     "start_time": "2021-05-26T21:16:20.027508Z"
    }
   },
   "outputs": [],
   "source": [
    "log_alpha = torch.tensor(np.log(4),device=\"cpu\",requires_grad=True)\n"
   ]
  },
  {
   "cell_type": "code",
   "execution_count": 66,
   "id": "adc8f7f6",
   "metadata": {
    "ExecuteTime": {
     "end_time": "2021-05-26T21:36:35.218005Z",
     "start_time": "2021-05-26T21:36:35.156993Z"
    }
   },
   "outputs": [],
   "source": [
    "torch.save({\n",
    "    \"log_alpha\":log_alpha,\n",
    "    \"actor\":actor.state_dict(),\n",
    "\n",
    "},\"./tmp.checkpoint\")"
   ]
  },
  {
   "cell_type": "code",
   "execution_count": 59,
   "id": "93e7ea81",
   "metadata": {
    "ExecuteTime": {
     "end_time": "2021-05-26T21:17:44.190478Z",
     "start_time": "2021-05-26T21:17:44.140468Z"
    }
   },
   "outputs": [
    {
     "data": {
      "text/plain": [
       "tensor(1.3863, device='cuda:0', dtype=torch.float64, requires_grad=True)"
      ]
     },
     "execution_count": 59,
     "metadata": {},
     "output_type": "execute_result"
    }
   ],
   "source": [
    "d = torch.load(\"./tmp.checkpoint\",map_location=device)\n",
    "log_alpha = d[\"log_alpha\"]\n",
    "actor.load_state_dict(d[\"actor\"])\n",
    "log_alpha"
   ]
  },
  {
   "cell_type": "code",
   "execution_count": 62,
   "id": "06b393e9",
   "metadata": {
    "ExecuteTime": {
     "end_time": "2021-05-26T21:19:22.674225Z",
     "start_time": "2021-05-26T21:19:22.663212Z"
    }
   },
   "outputs": [
    {
     "data": {
      "text/plain": [
       "True"
      ]
     },
     "execution_count": 62,
     "metadata": {},
     "output_type": "execute_result"
    }
   ],
   "source": [
    "next(actor.parameters()).is_cuda"
   ]
  },
  {
   "cell_type": "code",
   "execution_count": 64,
   "id": "e43d958c",
   "metadata": {
    "ExecuteTime": {
     "end_time": "2021-05-26T21:34:08.208529Z",
     "start_time": "2021-05-26T21:34:08.200528Z"
    }
   },
   "outputs": [
    {
     "data": {
      "text/plain": [
       "'./m\\\\p\\\\q'"
      ]
     },
     "execution_count": 64,
     "metadata": {},
     "output_type": "execute_result"
    }
   ],
   "source": [
    "os.path.join(\"./\",\"m\",\"p\",\"q\")"
   ]
  },
  {
   "cell_type": "code",
   "execution_count": 56,
   "id": "93358cfb",
   "metadata": {
    "ExecuteTime": {
     "end_time": "2021-05-26T21:16:31.673031Z",
     "start_time": "2021-05-26T21:16:31.660019Z"
    }
   },
   "outputs": [],
   "source": [
    "d = torch.load(\"./tmp.checkpoint\")"
   ]
  },
  {
   "cell_type": "code",
   "execution_count": 3,
   "id": "256e5190",
   "metadata": {
    "ExecuteTime": {
     "end_time": "2021-05-21T11:48:49.755121Z",
     "start_time": "2021-05-21T11:48:47.694469Z"
    }
   },
   "outputs": [],
   "source": [
    "# actor = DiagGaussianActor(obs_dim=960,\n",
    "#                           action_dim = 12,\n",
    "#                           hidden_dim = 256,\n",
    "#                           hidden_depth = 8,\n",
    "#                           log_std_bounds=[-5, 2]\n",
    "#                          ).to(device)\n",
    "\n",
    "actor_cfg = dict(actor_cfg)\n",
    "\n",
    "actor = DiagGaussianActor(obs_dim=actor_cfg[\"obs_dim\"],\n",
    "                          action_dim = actor_cfg[\"action_dim\"],\n",
    "                          hidden_dim = actor_cfg[\"hidden_dim\"],\n",
    "                          hidden_depth = actor_cfg[\"hidden_depth\"],\n",
    "                          log_std_bounds= actor_cfg[\"log_std_bounds\"]\n",
    "                         ).to(device)"
   ]
  },
  {
   "cell_type": "code",
   "execution_count": 2,
   "id": "38d95a6b",
   "metadata": {
    "ExecuteTime": {
     "end_time": "2021-05-28T18:02:11.754555Z",
     "start_time": "2021-05-28T18:02:11.686516Z"
    }
   },
   "outputs": [
    {
     "name": "stdout",
     "output_type": "stream",
     "text": [
      "Destructor called, FlexipodEnv deleted.\n"
     ]
    }
   ],
   "source": [
    "from flexipod_env import FlexipodEnv\n",
    "import numpy as np\n",
    "%load_ext line_profiler\n",
    "\n",
    "env = FlexipodEnv()\n",
    "# _ = env.reset()\n",
    "# obs,_,_,_ = env.step(env.action_space.sample())"
   ]
  },
  {
   "cell_type": "code",
   "execution_count": 8,
   "id": "da8a5f36",
   "metadata": {
    "ExecuteTime": {
     "end_time": "2021-05-28T18:06:09.009292Z",
     "start_time": "2021-05-28T18:06:08.995290Z"
    }
   },
   "outputs": [],
   "source": [
    "self = env\n",
    "msg_rec = self.receive()"
   ]
  },
  {
   "cell_type": "code",
   "execution_count": 7,
   "id": "c6cd5148",
   "metadata": {
    "ExecuteTime": {
     "end_time": "2021-05-28T18:04:58.585361Z",
     "start_time": "2021-05-28T18:04:56.102443Z"
    }
   },
   "outputs": [
    {
     "name": "stdout",
     "output_type": "stream",
     "text": [
      "303 µs ± 1.01 µs per loop (mean ± std. dev. of 7 runs, 1000 loops each)\n"
     ]
    }
   ],
   "source": [
    "%timeit _ = self._processRecMsg(msg_rec)"
   ]
  },
  {
   "cell_type": "code",
   "execution_count": 5,
   "id": "739b6ec2",
   "metadata": {
    "ExecuteTime": {
     "end_time": "2021-05-28T18:02:18.062625Z",
     "start_time": "2021-05-28T18:02:18.052623Z"
    }
   },
   "outputs": [],
   "source": [
    "%lprun -f self._processRecMsg _ = self._processRecMsg(msg_rec)"
   ]
  },
  {
   "cell_type": "code",
   "execution_count": 43,
   "id": "06b4ca20",
   "metadata": {
    "ExecuteTime": {
     "end_time": "2021-05-28T17:32:23.290755Z",
     "start_time": "2021-05-28T17:32:23.277366Z"
    }
   },
   "outputs": [],
   "source": [
    "msg_rec_i = msg_rec[0]\n",
    "joint_pos = msg_rec_i[self.ID['joint_pos']]\n",
    "\n",
    "self_joint_pos = np.empty(12,dtype=np.float32)\n",
    "\n",
    "_ = np.arctan2(joint_pos[1::2],joint_pos[::2],self_joint_pos,dtype=np.float32)"
   ]
  },
  {
   "cell_type": "code",
   "execution_count": 39,
   "id": "1692fd4c",
   "metadata": {
    "ExecuteTime": {
     "end_time": "2021-05-28T17:29:24.017159Z",
     "start_time": "2021-05-28T17:29:24.005157Z"
    }
   },
   "outputs": [
    {
     "data": {
      "text/plain": [
       "array([0.65465456, 0.98671997, 0.93688715, 0.4621514 , 0.99243414,\n",
       "       0.93802893, 0.8085642 , 0.3257212 , 0.95254135, 0.5133601 ,\n",
       "       0.50434786, 0.01322799], dtype=float32)"
      ]
     },
     "execution_count": 39,
     "metadata": {},
     "output_type": "execute_result"
    }
   ],
   "source": []
  },
  {
   "cell_type": "code",
   "execution_count": 6,
   "id": "eb7db4e2",
   "metadata": {
    "ExecuteTime": {
     "end_time": "2021-05-26T14:20:04.560743Z",
     "start_time": "2021-05-26T14:20:01.818817Z"
    }
   },
   "outputs": [
    {
     "name": "stdout",
     "output_type": "stream",
     "text": [
      "3.36 ms ± 237 µs per loop (mean ± std. dev. of 7 runs, 100 loops each)\n"
     ]
    }
   ],
   "source": [
    "%timeit _ = np.arange(1e6)"
   ]
  },
  {
   "cell_type": "code",
   "execution_count": 12,
   "id": "89def4c3",
   "metadata": {
    "ExecuteTime": {
     "end_time": "2021-05-26T14:24:13.829834Z",
     "start_time": "2021-05-26T14:24:12.047445Z"
    }
   },
   "outputs": [
    {
     "name": "stdout",
     "output_type": "stream",
     "text": [
      "21.5 µs ± 159 ns per loop (mean ± std. dev. of 7 runs, 10000 loops each)\n"
     ]
    }
   ],
   "source": [
    "%timeit _ = np.random.randint(0,1e6,1024)"
   ]
  },
  {
   "cell_type": "code",
   "execution_count": 13,
   "id": "205b8282",
   "metadata": {
    "ExecuteTime": {
     "end_time": "2021-05-26T14:32:14.225935Z",
     "start_time": "2021-05-26T14:32:14.207930Z"
    }
   },
   "outputs": [
    {
     "data": {
      "text/plain": [
       "dtype('float32')"
      ]
     },
     "execution_count": 13,
     "metadata": {},
     "output_type": "execute_result"
    }
   ],
   "source": [
    "full = True\n",
    "select_range = 10\n",
    "if full:\n",
    "    if idx+1< select_range: # need to select from right also\n",
    "    "
   ]
  },
  {
   "cell_type": "code",
   "execution_count": 19,
   "id": "6ff8dd78",
   "metadata": {
    "ExecuteTime": {
     "end_time": "2021-05-28T15:53:01.540011Z",
     "start_time": "2021-05-28T15:53:01.526018Z"
    }
   },
   "outputs": [
    {
     "data": {
      "text/plain": [
       "(array([ 4.54977751e-01,  8.90502810e-01, -9.09633785e-02, -9.95854259e-01,\n",
       "         8.60904574e-01, -5.08766413e-01,  7.41210341e-01,  6.71272814e-01,\n",
       "         4.24400955e-01,  9.05474365e-01,  9.99591231e-01, -2.85901055e-02,\n",
       "         2.89375901e-01,  9.57215548e-01, -1.41832083e-02, -9.99899387e-01,\n",
       "         9.30818975e-01,  3.65480572e-01,  8.90833914e-01, -4.54329103e-01,\n",
       "         9.67871070e-01,  2.51446992e-01,  9.58056033e-01,  2.86580980e-01,\n",
       "        -4.61124163e-03,  5.21685462e-04,  2.18989467e-03, -5.20985154e-03,\n",
       "         1.33522612e-04,  1.34632364e-03,  5.03554614e-03, -7.48257479e-03,\n",
       "        -1.54954370e-03,  1.61886797e-03,  5.45096467e-04,  8.77756625e-04,\n",
       "         6.69127032e-02,  5.43514751e-02, -3.47003266e-02,  1.74116734e-02,\n",
       "        -5.88905178e-02, -5.15159639e-03, -6.99673891e-02,  2.78999377e-02,\n",
       "        -7.57293999e-02, -4.89420220e-02,  4.52322736e-02,  6.18285164e-02,\n",
       "        -8.20360363e-01, -2.29945675e-01, -5.23577929e-01, -4.85838592e-01,\n",
       "         7.63175309e-01,  4.26056683e-01,  3.07023921e-03,  1.48787992e-02,\n",
       "         1.13909272e-03,  9.07231681e-03,  3.31811383e-02, -3.85869518e-02,\n",
       "         1.39444359e-02,  9.35582444e-03, -1.08134123e-02,  1.50330454e-01,\n",
       "         4.54645753e-01,  8.90672326e-01, -9.10496861e-02, -9.95846331e-01,\n",
       "         8.60783041e-01, -5.08972049e-01,  7.40860462e-01,  6.71658993e-01,\n",
       "         4.24366534e-01,  9.05490518e-01,  9.99587357e-01, -2.87249424e-02,\n",
       "         2.89800227e-01,  9.57087159e-01, -1.35016348e-02, -9.99908864e-01,\n",
       "         9.30768132e-01,  3.65610033e-01,  8.90769660e-01, -4.54455078e-01,\n",
       "         9.67887342e-01,  2.51384228e-01,  9.58083570e-01,  2.86488801e-01,\n",
       "        -2.92294705e-03,  1.31266727e-03,  2.94919731e-03, -6.72082743e-03,\n",
       "        -1.04996737e-03,  1.72249880e-03,  4.57768841e-03, -7.34171271e-03,\n",
       "        -1.46096910e-03,  1.40063546e-03,  9.31732997e-04,  1.38527399e-03,\n",
       "         3.57366465e-02, -2.06701588e-02, -1.49465119e-02, -5.51185152e-03,\n",
       "         1.35638425e-02, -2.46067095e-04, -6.94056042e-03,  7.58470455e-03,\n",
       "         1.22320687e-03, -3.89003661e-03, -4.72096307e-03,  1.19408313e-03,\n",
       "        -8.19055378e-01, -2.27916360e-01, -5.26500106e-01, -4.86339897e-01,\n",
       "         7.62641609e-01,  4.26440209e-01,  2.27928557e-03,  1.24652758e-02,\n",
       "         1.38724362e-03,  8.42046179e-03,  3.34902219e-02, -3.65474373e-02,\n",
       "         1.27000771e-02,  4.78772912e-03, -5.58514427e-03,  1.50489748e-01,\n",
       "         4.54473108e-01,  8.90760481e-01, -9.11761150e-02, -9.95834768e-01,\n",
       "         8.60649467e-01, -5.09197891e-01,  7.40424931e-01,  6.72139049e-01,\n",
       "         4.24260646e-01,  9.05540109e-01,  9.99582648e-01, -2.88888328e-02,\n",
       "         2.90165186e-01,  9.56976593e-01, -1.28802517e-02, -9.99917030e-01,\n",
       "         9.30724561e-01,  3.65720868e-01,  8.90718877e-01, -4.54554647e-01,\n",
       "         9.67911124e-01,  2.51292676e-01,  9.58123088e-01,  2.86356747e-01,\n",
       "        -1.28018146e-03,  2.09442549e-03,  3.26222810e-03, -7.86599610e-03,\n",
       "        -2.06182245e-03,  1.95938605e-03,  3.66397551e-03, -6.17185142e-03,\n",
       "        -1.09850476e-03,  9.41033592e-04,  1.38871907e-03,  1.68279314e-03,\n",
       "         3.52012478e-02, -2.06150059e-02, -1.46250799e-02, -6.24668319e-03,\n",
       "         1.35595351e-02, -5.18803899e-05, -6.25567976e-03,  6.51937164e-03,\n",
       "         9.97049618e-04, -3.65885580e-03, -4.65989718e-03,  1.34188076e-03,\n",
       "        -8.17910373e-01, -2.26355970e-01, -5.28947651e-01, -4.86838251e-01,\n",
       "         7.62227595e-01,  4.26611751e-01,  1.39373995e-03,  9.76451114e-03,\n",
       "         1.76142843e-03,  9.13094543e-03,  3.48052457e-02, -3.49762328e-02,\n",
       "         1.15348408e-02,  2.37746557e-04, -7.45455967e-04,  1.50556728e-01,\n",
       "         4.54459727e-01,  8.90767276e-01, -9.13527608e-02, -9.95818615e-01,\n",
       "         8.60518634e-01, -5.09419024e-01,  7.39931524e-01,  6.72682226e-01,\n",
       "         4.24090594e-01,  9.05619740e-01,  9.99577403e-01, -2.90688965e-02,\n",
       "         2.90434420e-01,  9.56894875e-01, -1.24040479e-02, -9.99923050e-01,\n",
       "         9.30693984e-01,  3.65798652e-01,  8.90691817e-01, -4.54607636e-01,\n",
       "         9.67944026e-01,  2.51165897e-01,  9.58181083e-01,  2.86162645e-01,\n",
       "         1.64124498e-03,  1.73091644e-03,  2.04806845e-03, -8.50754045e-03,\n",
       "        -2.05704919e-03,  2.05935701e-03,  2.13139225e-03, -3.65144364e-03,\n",
       "        -6.21525280e-04,  2.54532119e-04,  1.55008619e-03,  1.85562542e-03,\n",
       "         3.47151160e-02, -2.03063954e-02, -1.40681965e-02, -7.18279742e-03,\n",
       "         1.32932691e-02,  1.86984893e-04, -5.61394775e-03,  5.44447824e-03,\n",
       "         8.02842434e-04, -3.46549205e-03, -4.48540132e-03,  1.60115480e-03,\n",
       "        -8.16934824e-01, -2.25329041e-01, -5.30890107e-01, -4.87346292e-01,\n",
       "         7.61947989e-01,  4.26531166e-01,  3.04535672e-04,  6.85299886e-03,\n",
       "         2.24127294e-03,  6.40268344e-03,  3.14541347e-02, -2.54887380e-02,\n",
       "         1.04469424e-02, -4.30631731e-03,  3.48769967e-03,  1.50540188e-01,\n",
       "         4.54638749e-01,  8.90675902e-01, -9.15536135e-02, -9.95800138e-01,\n",
       "         8.60412657e-01, -5.09597957e-01,  7.39417553e-01,  6.73247159e-01,\n",
       "         4.23884600e-01,  9.05716181e-01,  9.99572098e-01, -2.92518418e-02,\n",
       "         2.90570259e-01,  9.56853628e-01, -1.21629061e-02, -9.99926031e-01,\n",
       "         9.30679262e-01,  3.65836143e-01,  8.90691757e-01, -4.54607755e-01,\n",
       "         9.67983603e-01,  2.51013517e-01,  9.58216906e-01,  2.86042571e-01,\n",
       "         3.61138838e-03,  2.67738849e-03,  2.19914760e-03, -8.36903695e-03,\n",
       "        -2.97452137e-03,  1.93740090e-03,  5.24104631e-04, -7.55623449e-04,\n",
       "        -1.05292122e-04, -3.97287076e-04,  1.93675165e-03,  1.84705073e-03,\n",
       "         3.46859172e-02, -2.01716926e-02, -1.37979575e-02, -8.28540418e-03,\n",
       "         1.31176123e-02,  4.65246703e-04, -5.15736593e-03,  4.64228354e-03,\n",
       "         6.63648418e-04, -3.36166867e-03, -4.33918275e-03,  1.77993358e-03,\n",
       "        -8.16132367e-01, -2.24880666e-01, -5.32312512e-01, -4.87879932e-01,\n",
       "         7.61804461e-01,  4.26177323e-01, -6.05676847e-04,  3.92125128e-03,\n",
       "         2.75632972e-03,  4.00182558e-03,  2.86648627e-02, -2.03363765e-02,\n",
       "         9.65161063e-03, -8.47770926e-03,  6.71994174e-03,  1.50454864e-01],\n",
       "       dtype=float32),\n",
       " -0.43608679086011887,\n",
       " True,\n",
       " {'t': 40.043251037597656})"
      ]
     },
     "execution_count": 19,
     "metadata": {},
     "output_type": "execute_result"
    }
   ],
   "source": [
    "env.step(env.action_space.sample())"
   ]
  },
  {
   "cell_type": "code",
   "execution_count": 2,
   "id": "f8c50a84",
   "metadata": {
    "ExecuteTime": {
     "end_time": "2021-05-25T09:10:43.577114Z",
     "start_time": "2021-05-25T09:10:43.570113Z"
    }
   },
   "outputs": [
    {
     "data": {
      "text/plain": [
       "68"
      ]
     },
     "execution_count": 2,
     "metadata": {},
     "output_type": "execute_result"
    }
   ],
   "source": [
    "import time\n",
    "cmd_action = np.zeros(12)\n",
    "self = env\n",
    "step_cmd_b = self.packer.pack([self.UDP_MOTOR_POS_COMMEND,time.time(),cmd_action.tolist()])\n",
    "self.send_sock.sendto(step_cmd_b,self.remote_address)"
   ]
  },
  {
   "cell_type": "code",
   "execution_count": 21,
   "id": "ae710a2f",
   "metadata": {
    "ExecuteTime": {
     "end_time": "2021-05-28T15:54:42.469170Z",
     "start_time": "2021-05-28T15:54:38.344307Z"
    }
   },
   "outputs": [],
   "source": [
    "import time\n",
    "\n",
    "step_dt = 1/200.\n",
    "t = time.time()\n",
    "for k in range(2000):\n",
    "    while(time.time()-t<step_dt):\n",
    "        continue\n",
    "    t = time.time()\n",
    "    env.step(np.ones(12))\n",
    "#     time.sleep(1/400)\n",
    "    "
   ]
  },
  {
   "cell_type": "code",
   "execution_count": 5,
   "id": "000b5a11",
   "metadata": {
    "ExecuteTime": {
     "end_time": "2021-05-21T11:48:54.596744Z",
     "start_time": "2021-05-21T11:48:54.586217Z"
    }
   },
   "outputs": [],
   "source": [
    "def test():\n",
    "    action = env.action_space.sample()\n",
    "    obs,_,_,_ = env.step(action)\n",
    "    obs = torch.tensor(obs, dtype=torch.float, device=device).unsqueeze(0)\n",
    "    dist = actor(obs)\n",
    "    action = dist.sample()\n",
    "    action = action.clamp(-1,1)\n",
    "    assert action.ndim == 2 and action.shape[0]==1\n",
    "    return action[0].detach().cpu().numpy()\n",
    "\n",
    "def testMulti(n=10000):\n",
    "    for k in range(n):\n",
    "        test()"
   ]
  },
  {
   "cell_type": "code",
   "execution_count": 5,
   "id": "59ee9a44",
   "metadata": {
    "ExecuteTime": {
     "end_time": "2021-05-21T11:02:30.189070Z",
     "start_time": "2021-05-21T11:02:29.342879Z"
    }
   },
   "outputs": [
    {
     "name": "stdout",
     "output_type": "stream",
     "text": [
      "3.58 ms ± 535 µs per loop (mean ± std. dev. of 7 runs, 1 loop each)\n"
     ]
    }
   ],
   "source": [
    "%timeit test()"
   ]
  },
  {
   "cell_type": "code",
   "execution_count": 8,
   "id": "c4bb4ca0",
   "metadata": {
    "ExecuteTime": {
     "end_time": "2021-05-21T09:05:11.145084Z",
     "start_time": "2021-05-21T09:04:32.839203Z"
    }
   },
   "outputs": [],
   "source": [
    "%lprun -f test testMulti()"
   ]
  },
  {
   "cell_type": "code",
   "execution_count": null,
   "id": "22ad4798",
   "metadata": {
    "ExecuteTime": {
     "start_time": "2021-05-21T11:48:56.865Z"
    }
   },
   "outputs": [
    {
     "name": "stdout",
     "output_type": "stream",
     "text": [
      "receive(): try #0:timed out\n",
      "receive(): try #1:timed out\n"
     ]
    }
   ],
   "source": [
    "testMulti()"
   ]
  },
  {
   "cell_type": "code",
   "execution_count": 1,
   "id": "9e522af7",
   "metadata": {
    "ExecuteTime": {
     "end_time": "2021-05-21T22:44:32.682741Z",
     "start_time": "2021-05-21T22:44:32.500700Z"
    }
   },
   "outputs": [],
   "source": [
    "import numpy as np"
   ]
  },
  {
   "cell_type": "code",
   "execution_count": 18,
   "id": "1fe5147a",
   "metadata": {
    "ExecuteTime": {
     "end_time": "2021-05-22T04:07:50.390728Z",
     "start_time": "2021-05-22T04:07:50.381736Z"
    }
   },
   "outputs": [],
   "source": [
    "def multidimensionalShifting(num_samples, sample_size, elements, probabilities):\n",
    "    # replicate probabilities as many times as `num_samples`\n",
    "    replicated_probabilities = np.tile(probabilities, (num_samples, 1))\n",
    "    # get random shifting numbers & scale them correctly\n",
    "    random_shifts = np.random.random(replicated_probabilities.shape)\n",
    "    random_shifts /= random_shifts.sum(axis=1)[:, np.newaxis]\n",
    "    # shift by numbers & find largest (by finding the smallest of the negative)\n",
    "    shifted_probabilities = random_shifts - replicated_probabilities\n",
    "    return np.argpartition(shifted_probabilities, sample_size, axis=1)[:, :sample_size]"
   ]
  },
  {
   "cell_type": "code",
   "execution_count": 26,
   "id": "71ae86b4",
   "metadata": {
    "ExecuteTime": {
     "end_time": "2021-05-22T04:12:15.586831Z",
     "start_time": "2021-05-22T04:12:15.551823Z"
    }
   },
   "outputs": [],
   "source": [
    "a = np.arange(1e6)\n",
    "p = np.random.random_sample(len(a))"
   ]
  },
  {
   "cell_type": "code",
   "execution_count": 39,
   "id": "41d8c5d9",
   "metadata": {
    "ExecuteTime": {
     "end_time": "2021-05-22T04:14:23.000924Z",
     "start_time": "2021-05-22T04:14:22.953830Z"
    }
   },
   "outputs": [],
   "source": [
    "_=multidimensionalShifting(1,5,a,p)"
   ]
  },
  {
   "cell_type": "code",
   "execution_count": 41,
   "id": "90f502f2",
   "metadata": {
    "ExecuteTime": {
     "end_time": "2021-05-22T04:14:24.670996Z",
     "start_time": "2021-05-22T04:14:24.641000Z"
    }
   },
   "outputs": [
    {
     "data": {
      "text/plain": [
       "array([ 69755., 272262., 640836., 889723., 569118.])"
      ]
     },
     "execution_count": 41,
     "metadata": {},
     "output_type": "execute_result"
    }
   ],
   "source": [
    "p = p / np.sum(p)\n"
   ]
  },
  {
   "cell_type": "code",
   "execution_count": 43,
   "id": "7b89bc4e",
   "metadata": {
    "ExecuteTime": {
     "end_time": "2021-05-22T04:14:33.306947Z",
     "start_time": "2021-05-22T04:14:33.288954Z"
    }
   },
   "outputs": [],
   "source": [
    "_ = np.random.choice(a,5,True,p)"
   ]
  },
  {
   "cell_type": "code",
   "execution_count": null,
   "id": "744321c2",
   "metadata": {},
   "outputs": [],
   "source": []
  }
 ],
 "metadata": {
  "kernelspec": {
   "display_name": "Python 3",
   "language": "python",
   "name": "python3"
  },
  "language_info": {
   "codemirror_mode": {
    "name": "ipython",
    "version": 3
   },
   "file_extension": ".py",
   "mimetype": "text/x-python",
   "name": "python",
   "nbconvert_exporter": "python",
   "pygments_lexer": "ipython3",
   "version": "3.8.8"
  }
 },
 "nbformat": 4,
 "nbformat_minor": 5
}
