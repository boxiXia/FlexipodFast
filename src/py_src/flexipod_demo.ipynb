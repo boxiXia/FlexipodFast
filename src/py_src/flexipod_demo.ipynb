{
 "cells": [
  {
   "cell_type": "code",
   "execution_count": 1,
   "id": "e19339eb",
   "metadata": {
    "ExecuteTime": {
     "end_time": "2021-06-26T21:04:16.544868Z",
     "start_time": "2021-06-26T21:04:16.535855Z"
    }
   },
   "outputs": [],
   "source": [
    "from flexipod_env import FlexipodEnv"
   ]
  },
  {
   "cell_type": "code",
   "execution_count": 3,
   "id": "99dbcd54",
   "metadata": {
    "ExecuteTime": {
     "end_time": "2021-06-26T21:16:31.660022Z",
     "start_time": "2021-06-26T21:16:30.666868Z"
    }
   },
   "outputs": [
    {
     "name": "stdout",
     "output_type": "stream",
     "text": [
      "Destructor called, FlexipodEnv deleted.\n"
     ]
    }
   ],
   "source": [
    "env = FlexipodEnv()"
   ]
  },
  {
   "cell_type": "code",
   "execution_count": 4,
   "id": "1d7e4438",
   "metadata": {
    "ExecuteTime": {
     "end_time": "2021-06-26T21:18:14.963686Z",
     "start_time": "2021-06-26T21:18:13.094489Z"
    }
   },
   "outputs": [],
   "source": [
    "!code"
   ]
  },
  {
   "cell_type": "code",
   "execution_count": null,
   "id": "939eaad0",
   "metadata": {},
   "outputs": [],
   "source": []
  }
 ],
 "metadata": {
  "kernelspec": {
   "display_name": "Python 3",
   "language": "python",
   "name": "python3"
  },
  "language_info": {
   "codemirror_mode": {
    "name": "ipython",
    "version": 3
   },
   "file_extension": ".py",
   "mimetype": "text/x-python",
   "name": "python",
   "nbconvert_exporter": "python",
   "pygments_lexer": "ipython3",
   "version": "3.8.8"
  }
 },
 "nbformat": 4,
 "nbformat_minor": 5
}
