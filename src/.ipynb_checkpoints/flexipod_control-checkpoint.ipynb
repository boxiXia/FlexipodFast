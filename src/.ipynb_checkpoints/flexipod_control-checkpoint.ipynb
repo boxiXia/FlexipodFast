{
 "cells": [
  {
   "cell_type": "code",
   "execution_count": 2,
   "metadata": {
    "ExecuteTime": {
     "end_time": "2020-04-23T06:55:55.494678Z",
     "start_time": "2020-04-23T06:55:54.859762Z"
    }
   },
   "outputs": [],
   "source": [
    "import msgpack\n",
    "import open3d as o3d\n",
    "# import trimesh\n",
    "from IPython.display import display, Math\n",
    "import numpy as np\n",
    "import matplotlib.pyplot as plt\n",
    "plt.style.use('seaborn-whitegrid')\n",
    "%config InlineBackend.figure_format = 'retina'"
   ]
  },
  {
   "cell_type": "code",
   "execution_count": 30,
   "metadata": {
    "ExecuteTime": {
     "end_time": "2020-04-23T07:02:35.142014Z",
     "start_time": "2020-04-23T07:02:35.136013Z"
    }
   },
   "outputs": [],
   "source": [
    "# https://adaickalavan.github.io/programming/udp-socket-programming-in-cpp-and-python/\n",
    "# Python UDP Receiver\n",
    "\n",
    "import socket\n",
    "BUFFER_LEN = 200 #in bytes\n",
    "\n",
    "def initUDP(IP, port):\n",
    "    #Create a datagram socket\n",
    "    sock = socket.socket(socket.AF_INET, # Internet\n",
    "                         socket.SOCK_DGRAM) # UDP\n",
    "    #Enable immediate reuse of IP address\n",
    "    sock.setsockopt(socket.SOL_SOCKET,socket.SO_REUSEADDR,1)\n",
    "    #Bind the socket to the port\n",
    "    sock.bind((IP, port))\n",
    "    #Set a timeout so the socket does not block indefinitely when trying to receive data\n",
    "    sock.settimeout(1.5)\n",
    "\n",
    "    return sock\n",
    "\n",
    "def readUDP(sock):\n",
    "    try:\n",
    "        data, addr = sock.recvfrom(BUFFER_LEN)\n",
    "    except socket.timeout as e:\n",
    "        return b'Error:timeout'\n",
    "#     except Exception as e:\n",
    "#         return b'Error'\n",
    "    else:\n",
    "        return data"
   ]
  },
  {
   "cell_type": "code",
   "execution_count": 60,
   "metadata": {
    "ExecuteTime": {
     "end_time": "2020-04-23T07:12:53.615810Z",
     "start_time": "2020-04-23T07:12:53.604807Z"
    }
   },
   "outputs": [
    {
     "name": "stdout",
     "output_type": "stream",
     "text": [
      "[387.51999999979256, [-0.8930612318449361, -0.8611304137841657, -0.03748026459660377, 0.8206290670119796], [0.0, 0.0, 0.0, 0.0], [0.0, 0.0, 0.0]]\n"
     ]
    }
   ],
   "source": [
    "ip_remote = \"127.0.0.1\"\n",
    "port_local = 32000\n",
    "port_remote = 32001\n",
    "sock = initUDP(ip_remote, port_local)\n",
    "data = readUDP(sock)\n",
    "data_unpacked = msgpack.unpackb(data)\n",
    "print(data_unpacked)\n",
    "sock.shutdown(socket.SHUT_RDWR) # shutdown the connection\n",
    "sock.close()# close the connection"
   ]
  },
  {
   "cell_type": "code",
   "execution_count": null,
   "metadata": {
    "ExecuteTime": {
     "end_time": "2020-04-23T07:01:49.410622Z",
     "start_time": "2020-04-23T07:01:49.405609Z"
    }
   },
   "outputs": [],
   "source": [
    "def RotMatrixToQuarternion(m):\n",
    "    w = np.sqrt(1+m[0,0]+m[1,1]+m[2,2])/2.0\n",
    "    w4 = 4*w\n",
    "    x = m[2,1]-m[1,2]"
   ]
  },
  {
   "cell_type": "code",
   "execution_count": 61,
   "metadata": {
    "ExecuteTime": {
     "end_time": "2020-04-23T07:41:52.317873Z",
     "start_time": "2020-04-23T07:41:52.314871Z"
    }
   },
   "outputs": [],
   "source": [
    "m = np.eye(3)"
   ]
  },
  {
   "cell_type": "code",
   "execution_count": 63,
   "metadata": {
    "ExecuteTime": {
     "end_time": "2020-04-23T07:41:59.886062Z",
     "start_time": "2020-04-23T07:41:59.882060Z"
    }
   },
   "outputs": [
    {
     "data": {
      "text/plain": [
       "3.0"
      ]
     },
     "execution_count": 63,
     "metadata": {},
     "output_type": "execute_result"
    }
   ],
   "source": [
    "m.trace()"
   ]
  },
  {
   "cell_type": "code",
   "execution_count": null,
   "metadata": {},
   "outputs": [],
   "source": []
  }
 ],
 "metadata": {
  "kernelspec": {
   "display_name": "Python 3",
   "language": "python",
   "name": "python3"
  },
  "language_info": {
   "codemirror_mode": {
    "name": "ipython",
    "version": 3
   },
   "file_extension": ".py",
   "mimetype": "text/x-python",
   "name": "python",
   "nbconvert_exporter": "python",
   "pygments_lexer": "ipython3",
   "version": "3.7.5"
  }
 },
 "nbformat": 4,
 "nbformat_minor": 4
}
