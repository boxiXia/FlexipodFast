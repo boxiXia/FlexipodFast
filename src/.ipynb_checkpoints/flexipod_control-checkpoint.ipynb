{
 "cells": [
  {
   "cell_type": "code",
   "execution_count": 2,
   "metadata": {
    "ExecuteTime": {
     "end_time": "2020-04-23T06:55:55.494678Z",
     "start_time": "2020-04-23T06:55:54.859762Z"
    }
   },
   "outputs": [],
   "source": [
    "import msgpack\n",
    "import open3d as o3d\n",
    "# import trimesh\n",
    "from IPython.display import display, Math\n",
    "import numpy as np\n",
    "import matplotlib.pyplot as plt\n",
    "plt.style.use('seaborn-whitegrid')\n",
    "%config InlineBackend.figure_format = 'retina'"
   ]
  },
  {
   "cell_type": "code",
   "execution_count": 30,
   "metadata": {
    "ExecuteTime": {
     "end_time": "2020-04-23T07:02:35.142014Z",
     "start_time": "2020-04-23T07:02:35.136013Z"
    }
   },
   "outputs": [],
   "source": [
    "# https://adaickalavan.github.io/programming/udp-socket-programming-in-cpp-and-python/\n",
    "# Python UDP Receiver\n",
    "\n",
    "import socket\n",
    "BUFFER_LEN = 200 #in bytes\n",
    "\n",
    "def initUDP(IP, port):\n",
    "    #Create a datagram socket\n",
    "    sock = socket.socket(socket.AF_INET, # Internet\n",
    "                         socket.SOCK_DGRAM) # UDP\n",
    "    #Enable immediate reuse of IP address\n",
    "    sock.setsockopt(socket.SOL_SOCKET,socket.SO_REUSEADDR,1)\n",
    "    #Bind the socket to the port\n",
    "    sock.bind((IP, port))\n",
    "    #Set a timeout so the socket does not block indefinitely when trying to receive data\n",
    "    sock.settimeout(1.5)\n",
    "\n",
    "    return sock\n",
    "\n",
    "def readUDP(sock):\n",
    "    try:\n",
    "        data, addr = sock.recvfrom(BUFFER_LEN)\n",
    "    except socket.timeout as e:\n",
    "        return b'Error:timeout'\n",
    "#     except Exception as e:\n",
    "#         return b'Error'\n",
    "    else:\n",
    "        return data"
   ]
  },
  {
   "cell_type": "code",
   "execution_count": 58,
   "metadata": {
    "ExecuteTime": {
     "end_time": "2020-04-23T07:06:10.040891Z",
     "start_time": "2020-04-23T07:06:10.025886Z"
    }
   },
   "outputs": [
    {
     "name": "stdout",
     "output_type": "stream",
     "text": [
      "[19.90000000000031, [0.8676441006418227, 0.8871575286922068, 0.09102241619953653, -0.7887982859756086], [0.0, 0.0, 0.0, 0.0], [0.0, 0.0, 0.0]]\n"
     ]
    }
   ],
   "source": [
    "ip_remote = \"127.0.0.1\"\n",
    "port_local = 32000\n",
    "port_remote = 32001\n",
    "sock = initUDP(ip_remote, port_local)\n",
    "data = readUDP(sock)\n",
    "data_unpacked = msgpack.unpackb(data)\n",
    "print(data_unpacked)\n",
    "sock.shutdown(socket.SHUT_RDWR) # shutdown the connection\n",
    "sock.close()# close the connection"
   ]
  },
  {
   "cell_type": "code",
   "execution_count": null,
   "metadata": {
    "ExecuteTime": {
     "end_time": "2020-04-23T07:01:49.410622Z",
     "start_time": "2020-04-23T07:01:49.405609Z"
    }
   },
   "outputs": [],
   "source": []
  },
  {
   "cell_type": "code",
   "execution_count": null,
   "metadata": {},
   "outputs": [],
   "source": []
  }
 ],
 "metadata": {
  "kernelspec": {
   "display_name": "Python 3",
   "language": "python",
   "name": "python3"
  },
  "language_info": {
   "codemirror_mode": {
    "name": "ipython",
    "version": 3
   },
   "file_extension": ".py",
   "mimetype": "text/x-python",
   "name": "python",
   "nbconvert_exporter": "python",
   "pygments_lexer": "ipython3",
   "version": "3.7.5"
  }
 },
 "nbformat": 4,
 "nbformat_minor": 4
}
