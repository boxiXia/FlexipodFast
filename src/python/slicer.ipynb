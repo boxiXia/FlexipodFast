{
 "cells": [
  {
   "cell_type": "markdown",
   "metadata": {},
   "source": [
    "# Utility"
   ]
  },
  {
   "cell_type": "code",
   "execution_count": 2,
   "metadata": {
    "ExecuteTime": {
     "end_time": "2020-12-30T05:17:46.632955Z",
     "start_time": "2020-12-30T05:17:41.654033Z"
    }
   },
   "outputs": [
    {
     "name": "stdout",
     "output_type": "stream",
     "text": [
      "open3d :0.12.0\n",
      "trimesh:3.8.19\n",
      "numba  :0.52.0\n"
     ]
    }
   ],
   "source": [
    "import msgpack\n",
    "import open3d as o3d\n",
    "import trimesh\n",
    "import point_cloud_utils as pcu  # downsampling\n",
    "from IPython.display import display, Math\n",
    "import numpy as np\n",
    "import matplotlib.pyplot as plt\n",
    "import numba\n",
    "from joblib import Parallel, delayed  # multiprocessing\n",
    "import multiprocessing\n",
    "import copy\n",
    "from scipy.ndimage.morphology import binary_dilation, binary_erosion\n",
    "from scipy.spatial.transform import Rotation\n",
    "import tempfile\n",
    "import gmsh\n",
    "import meshio\n",
    "import itertools\n",
    "import shutil  # file copying\n",
    "plt.style.use('seaborn-whitegrid')\n",
    "%config InlineBackend.figure_format = 'retina'\n",
    "\n",
    "print(f\"open3d :{o3d.__version__}\")\n",
    "print(f\"trimesh:{trimesh.__version__}\")\n",
    "print(f\"numba  :{numba.__version__}\")\n",
    "###########################################################\n",
    "\n",
    "\n",
    "def normalizeSignedDistance(signed_distance, zero_map_to=0.5):\n",
    "    \"\"\"\n",
    "    Normalize to 0-1\n",
    "    min-0 map to 0-0.5\n",
    "    0-max map to 0.5-1\n",
    "    \"\"\"\n",
    "    is_negative = signed_distance <= 0\n",
    "\n",
    "    normalized_distance = np.zeros_like(signed_distance)\n",
    "    minimum = signed_distance.min()\n",
    "    maximum = signed_distance.max()\n",
    "    normalized_distance[is_negative] = (\n",
    "        signed_distance[is_negative] - minimum) / np.abs(minimum) * zero_map_to\n",
    "    normalized_distance[~is_negative] = zero_map_to + \\\n",
    "        signed_distance[~is_negative]/np.abs(maximum)*(1-zero_map_to)\n",
    "    return normalized_distance\n",
    "\n",
    "\n",
    "def normalize(v):\n",
    "    \"\"\"\n",
    "    normalize a vector v to [0,1]\n",
    "    \"\"\"\n",
    "    v_min = v.min()\n",
    "    v_max = v.max()\n",
    "    v_n = (v - v_min)/(v_max-v_min)  # normalized\n",
    "    return v_n\n",
    "\n",
    "\n",
    "# # # https://matplotlib.org/tutorials/colors/colormaps.html\n",
    "# # cmap = plt.cm.get_cmap('hot')\n",
    "# sd = np.linspace(-2,2,51)\n",
    "# mapped = normalizeSignedDistance(sd, zero_map_to=0.0)\n",
    "# plt.plot(sd,mapped)\n",
    "\n",
    "\n",
    "coord_frame = o3d.geometry.TriangleMesh.create_coordinate_frame(\n",
    "    size=60, origin=[0, 0, 0])\n",
    "\n",
    "\n",
    "def rotate_view(vis):\n",
    "    ctr = vis.get_view_control()\n",
    "    ctr.rotate(1.0, 0.0)\n",
    "    return False\n",
    "\n",
    "# @numba.jit([\"float64[:,:](float64[:,::1], float64,int64)\",\n",
    "#             \"float64[:,:](float64[:,:], float64,int64)\"],nopython=True)\n",
    "\n",
    "\n",
    "@numba.jit([\n",
    "    (numba.types.Array(numba.types.float64, 2, 'C', readonly=True),\n",
    "     numba.types.float64, numba.types.int64),\n",
    "    (numba.types.Array(numba.types.float64, 2, 'C', readonly=False), numba.types.float64, numba.types.int64)],\n",
    "    nopython=True, nogil=True)\n",
    "def uniformRandomAroundPoints(points, radius, num_per_grid=50):\n",
    "    \"\"\"\n",
    "    sample random points uniformly (along xyz) around an arry of n points (n,3)\n",
    "    input:\n",
    "        points: (nx3) numpy array of xyz\n",
    "        radius: (float scalar) the radius along x,y,z direction to randomly sample the points\n",
    "        num_per_grid:(float scalar) number of random points to sample per specified point\n",
    "    \"\"\"\n",
    "#     num = points.shape[0]*num_per_grid\n",
    "#     xyz = np.random.uniform(-radius,radius+np.nextafter(0,1),num*3).reshape((num,3))\n",
    "#     xyz = xyz + points.repeat(num_per_grid,axis=0)\n",
    "    num_grid = points.shape[0]\n",
    "    xyz = np.empty((num_grid*num_per_grid, 3), dtype=np.float64)\n",
    "#     for i,point in enumerate(points):\n",
    "    for i in range(num_grid):\n",
    "        point = points[i]\n",
    "        start = num_per_grid*i\n",
    "        end = start+num_per_grid\n",
    "        xyz[start:end, 0] = np.random.uniform(\n",
    "            point[0]-radius, point[0]+radius, num_per_grid)\n",
    "        xyz[start:end, 1] = np.random.uniform(\n",
    "            point[1]-radius, point[1]+radius, num_per_grid)\n",
    "        xyz[start:end, 2] = np.random.uniform(\n",
    "            point[2]-radius, point[2]+radius, num_per_grid)\n",
    "    return xyz\n",
    "\n",
    "\n",
    "# example, compile\n",
    "_ = uniformRandomAroundPoints(np.zeros((2, 3)), 1.0, num_per_grid=5)\n",
    "_ = uniformRandomAroundPoints(np.ascontiguousarray(\n",
    "    np.zeros((2, 3))), 1.0, num_per_grid=5)\n",
    "########################################################################################\n",
    "########## geometry #####################################################################\n",
    "\n",
    "\n",
    "def rotateFromVec(vec, angle):\n",
    "    vec = np.asarray(vec, dtype=np.float64)\n",
    "    vec_norm = np.linalg.norm(vec)\n",
    "    if vec_norm != 1:\n",
    "        vec = vec/vec_norm\n",
    "    vec *= angle\n",
    "    h = np.eye(4)\n",
    "    h[:3, :3] = Rotation.from_rotvec(vec).as_matrix()\n",
    "    return h\n",
    "\n",
    "\n",
    "def translate(vec, h=None):\n",
    "    if h is None:\n",
    "        h = np.eye(4)\n",
    "    h[:3, -1] += vec\n",
    "    return h\n",
    "\n",
    "\n",
    "def applyTransform(xyz, t):\n",
    "    \"\"\"\n",
    "    apply transform t to xyz, !!Note that t is transposed!!!\n",
    "    if transform.shape=(3,3): rotation\n",
    "    if transform.shape=(4,4): homogegenious transformation (rotation+translation)\n",
    "    \"\"\"\n",
    "    xyz = np.asarray(xyz)\n",
    "    if t.shape == (3, 3):  # rotation matrix\n",
    "        return np.dot(xyz, t.T)\n",
    "    elif t.shape == (4, 4):  # homogeneous matrix\n",
    "        return np.dot(xyz, t[:-1, :-1].T)+t[:-1, -1]\n",
    "    else:\n",
    "        raise AssertionError(\"dimension error\")"
   ]
  },
  {
   "cell_type": "code",
   "execution_count": 22,
   "metadata": {
    "ExecuteTime": {
     "end_time": "2020-12-30T05:27:48.984596Z",
     "start_time": "2020-12-30T05:27:48.941591Z"
    }
   },
   "outputs": [],
   "source": [
    "def createGrid(bounds=[[-1, -1, -1], [1, 1, 1]], dr=0.1):\n",
    "    \"\"\"\n",
    "    retrun a grid of points shaped (nx,ny,nz,3) given bounds and discritization radius\n",
    "    where nx,ny,nz are the number of points in x,y,z direction\n",
    "    the bounds are updated and also returned\n",
    "    input:\n",
    "        bounds: [(x_low,y_low,z_low),(x_high,y_high,z_high)]\n",
    "        dr: discretization radius of the grid\n",
    "    output:\n",
    "        xyz_grid: a grid of points numpy array of (nx,ny,nz,3)\n",
    "        bounds: updated bounds\n",
    "    \"\"\"\n",
    "    # round to integer, type is still float\n",
    "    bounds = bounds/dr\n",
    "    bounds = np.stack((np.floor(bounds[0]), np.ceil(bounds[1])))*dr\n",
    "#     print(\"bounds=\\n\", bounds)\n",
    "    # number of points in x,y,z direction:(nx,ny,nz)\n",
    "    nx, ny, nz = np.ceil((bounds[1]-bounds[0])/dr).astype(int)\n",
    "    x = np.linspace(bounds[0, 0], bounds[0, 0]+(nx-1)*dr, num=nx)\n",
    "    y = np.linspace(bounds[0, 1], bounds[0, 1]+(ny-1)*dr, num=ny)\n",
    "    z = np.linspace(bounds[0, 2], bounds[0, 2]+(nz-1)*dr, num=nz)\n",
    "    # a flattened grid of xyzs of the vertices\n",
    "    xyz_grid = np.stack(np.meshgrid(x, y, z), axis=-1)\n",
    "    return xyz_grid, bounds\n",
    "\n",
    "\n",
    "def getUniqueEdges(edges: np.ndarray):\n",
    "    \"\"\"\n",
    "    return unique edges given a possibly non-unique edges\n",
    "    input:\n",
    "        edges:  np.ndarray, left and right vertex indices (nx2) \n",
    "    output:\n",
    "        unique_edges: np.ndarray, unique edges\n",
    "        edge_counts: np.ndarray, count of unique edges\n",
    "    \"\"\"\n",
    "    edges = np.sort(edges, axis=1)  # sorted\n",
    "    unique_edges, edge_counts = np.unique(\n",
    "        edges, axis=0, return_index=False, return_counts=True)\n",
    "    return unique_edges, edge_counts\n",
    "\n",
    "\n",
    "def getNeighborCounts(unique_edges: np.ndarray):\n",
    "    \"\"\"\n",
    "    return number of neighboring points connected by unique_edges\n",
    "    input:\n",
    "        unique_edges:  np.ndarray, unique edges (non-repeating)\n",
    "    output:\n",
    "        neighbor_counts:np.ndarray, number of neighboring points sorted by index\n",
    "    \"\"\"\n",
    "    neighbor_counts = np.zeros(unique_edges.max()+1, dtype=int)\n",
    "    for k in range(2):\n",
    "        v_id, v_count = np.unique(unique_edges[:, k], return_counts=True)\n",
    "        neighbor_counts[v_id] += v_count\n",
    "    return neighbor_counts\n",
    "\n",
    "\n",
    "def getEdges(neighbor: np.ndarray, self_id: np.ndarray = None, return_edge_counts: np.ndarray = False):\n",
    "    \"\"\"\n",
    "    return the edges given neighbor\n",
    "    input:\n",
    "        neighbor: nxm int np.array, assume n points, \n",
    "        self_id: if self_id is none, assume: each point has m-1 neighbors,\n",
    "            neighbor[k,0] is the index of point k iteself, the neighbor points are assorted by distance\n",
    "            if self_id is specified, then each point has m neighbors\n",
    "    returns:\n",
    "        edges: nx2 int np.array, of the edges\n",
    "    \"\"\"\n",
    "    if self_id is None:\n",
    "        candidate = neighbor[1:]\n",
    "        self_id = neighbor[0]\n",
    "    else:\n",
    "        candidate = neighbor\n",
    "    edges = np.empty((candidate.size, 2), dtype=np.int32)\n",
    "    edges[:, 0] = self_id\n",
    "    edges[:, 1] = candidate\n",
    "\n",
    "    unique_edges, edge_counts = getUniqueEdges(edges)\n",
    "    if return_edge_counts:\n",
    "        return unique_edges, edge_counts\n",
    "    else:\n",
    "        return unique_edges\n",
    "\n",
    "\n",
    "def getMidpoints(points: np.ndarray, epid: np.ndarray):\n",
    "    \"\"\"\n",
    "    return the xyzs of the midpoints given\n",
    "    points: (nx3 double np.array)\n",
    "    epid: endpoints indices (nx2 int np.array)\n",
    "    \"\"\"\n",
    "    return 0.5*(points[epid[:, 0]]+points[epid[:, 1]])\n",
    "\n",
    "\n",
    "def momentOfInertial(p: np.ndarray, p0, n):\n",
    "    \"\"\"\n",
    "    calculate the moment of inertia of points p rotated about axis with normal n,\n",
    "    p0 is a point on the axis\n",
    "    \"\"\"\n",
    "    if np.abs(np.linalg.norm(n)-1) > 1e-16:\n",
    "        n = n/np.linalg.norm(n)  # normallize the axis direction\n",
    "    p0 = np.asarray(p0)\n",
    "    d = np.cross(p-p0, n)\n",
    "    return np.sum(np.linalg.norm(d, ord=2, axis=1)**2)\n",
    "\n",
    "\n",
    "def trimeshToO3dMesh(mesh):\n",
    "    \"\"\"\n",
    "    convert trimesh mesh object to open3d mesh object\n",
    "    \"\"\"\n",
    "    assert(type(mesh) == trimesh.base.Trimesh)\n",
    "    mesh_o3d = o3d.geometry.TriangleMesh(\n",
    "        o3d.utility.Vector3dVector(mesh.vertices),\n",
    "        o3d.utility.Vector3iVector(mesh.faces))\n",
    "    mesh_o3d.compute_vertex_normals()\n",
    "    mesh_o3d.compute_triangle_normals()\n",
    "#     mesh_o3d.paint_uniform_color((0.8, 0.8, 0.8))\n",
    "    return mesh_o3d\n",
    "\n",
    "\n",
    "def o3dShow(geometry, **kwargs):\n",
    "    # The following code achieves the same effect as:\n",
    "    # o3d.visualization.draw_geometries([pcd])\n",
    "    vis = o3d.visualization.Visualizer()\n",
    "    vis.create_window()\n",
    "    opt = vis.get_render_option()\n",
    "    if \"background_color\" in kwargs:  # (r,g,b)\n",
    "        opt.background_color = np.asarray(\n",
    "            kwargs[\"background_color\"], dtype=float)\n",
    "    if \"mesh_show_wireframe\" in kwargs:  # bool\n",
    "        opt.mesh_show_wireframe = kwargs[\"mesh_show_wireframe\"]\n",
    "    if \"point_show_normal\" in kwargs:  # bool\n",
    "        opt.point_show_normal = kwargs[\"point_show_normal\"]\n",
    "    if \"show_coordinate_frame\" in kwargs:  # bool\n",
    "        opt.show_coordinate_frame = kwargs[\"show_coordinate_frame\"]\n",
    "    try:\n",
    "        for g in geometry:\n",
    "            vis.add_geometry(g)\n",
    "    except TypeError:  # geometry is not iteratble\n",
    "        vis.add_geometry(geometry)\n",
    "    vis.run()\n",
    "    vis.destroy_window()\n",
    "    \n",
    "    \n",
    "###########################################################################\n",
    "def vmeshSummary(vmesh):\n",
    "    \"\"\"\n",
    "    summerize the volume mesh generated by the gmsh and read from the meshio\n",
    "    \"\"\"\n",
    "    tetra = vmesh.cells_dict[\"tetra\"] # (nx4) np array of tetrahedron\n",
    "    vertices = vmesh.points\n",
    "    faces = vmesh.get_cells_type(\"triangle\")\n",
    "    # edges from tetrahedron\n",
    "    edges_tetra = tetra[:, list(itertools.combinations(range(4), 2))].reshape((-1, 2))\n",
    "    edges_face = faces[:, list(itertools.combinations(range(3), 2))].reshape((-1, 2))\n",
    "    # edges, edge_counts = getUniqueEdges(edges)\n",
    "    edges_tetra, edges_tetra_counts = getUniqueEdges(edges_tetra)\n",
    "    edges_face, edges_face_counts = getUniqueEdges(edges_face)\n",
    "    \n",
    "#     edges = edges_tetra\n",
    "    edges = edges_face\n",
    "    neighbor_counts = getNeighborCounts(edges)\n",
    "    edge_lengths = np.linalg.norm(vertices[edges[:,0]]-vertices[edges[:,1]],axis=1)\n",
    "\n",
    "    print(f\"# vertices          = {vertices.shape[0]}\")\n",
    "    print(f\"# surface triangle  =\",faces.shape[0])\n",
    "    print(f\"# tetra             =\",tetra.shape[0])\n",
    "    print(f\"# unique tetra edges= {edges_tetra.shape[0]}\")\n",
    "    print(f\"# unique face  edges= {edges_face.shape[0]}\")\n",
    "    with np.printoptions(precision=3, suppress=True):\n",
    "        print(\"COM                 = \",np.mean(vmesh.points,axis=0))\n",
    "    print(f\"mean edge length    = {edge_lengths.mean():.2f}\")\n",
    "        \n",
    "    fig,ax = plt.subplots(1,3,figsize=(12,2),dpi=75)\n",
    "    ax[0].hist(edges_tetra_counts,bins=np.arange(0.5,10), density=True)\n",
    "    ax[0].set_xticks(np.arange(10))\n",
    "    ax[0].set_xlabel(\"edge counts\")\n",
    "    ax[1].hist(edge_lengths, density=True, bins='auto')\n",
    "    ax[1].set_xlabel(\"edge length\")\n",
    "    ax[2].hist(neighbor_counts, density=True, bins='auto')\n",
    "    ax[2].set_xlabel(\"neighbor counts\")\n",
    "    plt.show()"
   ]
  },
  {
   "cell_type": "code",
   "execution_count": 166,
   "metadata": {
    "ExecuteTime": {
     "end_time": "2020-12-30T05:56:46.703973Z",
     "start_time": "2020-12-30T05:56:46.686970Z"
    }
   },
   "outputs": [
    {
     "name": "stdout",
     "output_type": "stream",
     "text": [
      "25.980762113533157\n",
      "10\n",
      "4.0\n",
      "joint_overlap:60.0\n"
     ]
    }
   ],
   "source": [
    "########## discretization parameters ##############\n",
    "# radius_poisson = float(10) # radius for the poisson sampling\n",
    "radius_poisson = float(10) # radius for the poisson sampling\n",
    "radius_knn = radius_poisson*np.sqrt(3)*1.5\n",
    "# max_nn = 28 # maximun number of neighbors for a mass point (including self)\n",
    "max_nn = int(28)\n",
    "inv_scale_grid = float(2.5/np.sqrt(3))\n",
    "# inv_scale_grid = 1\n",
    "radius_grid = radius_poisson/np.sqrt(3)/inv_scale_grid # radius for voxelizing before poisson sampling\n",
    "# radius_grid = radius_poisson/2.5\n",
    "\n",
    "num_per_grid = int(32/(inv_scale_grid**3))\n",
    "print(radius_knn)\n",
    "print(num_per_grid)\n",
    "print(radius_grid)\n",
    "\n",
    "half_joint_overlap = radius_poisson * 3\n",
    "joint_overlap = half_joint_overlap*2\n",
    "print(f\"joint_overlap:{joint_overlap}\")\n",
    "\n",
    "\n",
    "gmsh_args_3d = [\n",
    "        (\"Mesh.Algorithm\", 6), # 2D mesh algorithm (1: MeshAdapt, 2: Automatic, 3: Initial mesh only, 5: Delaunay, 6: Frontal-Delaunay, 7: BAMG, 8: Frontal-Delaunay for Quads, 9: Packing of Parallelograms)\n",
    "        (\"Mesh.Algorithm3D\", 10), # 3D mesh algorithm (1: Delaunay, 3: Initial mesh only, 4: Frontal, 7: MMG3D, 9: R-tree, 10: HXT)\n",
    "        (\"Mesh.MeshSizeExtendFromBoundary\", 1),\n",
    "        (\"Mesh.MeshSizeFromPoints\", 1),\n",
    "        (\"Mesh.MeshSizeFromCurvature\", 0),\n",
    "        (\"Mesh.OptimizeNetgen\",0), # Optimize the mesh using Netgen to improve the quality of tetrahedral elements\n",
    "        (\"Mesh.OptimizeThreshold\",0.5), # Optimize the mesh using Netgen to improve the quality of tetrahedral elements\n",
    "        (\"Mesh.MeshSizeMin\", radius_poisson*1.0),\n",
    "        (\"Mesh.MeshSizeMax\", radius_poisson*1.4),\n",
    "        (\"Mesh.VolumeEdges\",1), # Display edges of volume mesh\n",
    "        (\"Mesh.VolumeFaces\",0), # Display faces of volume mesh\n",
    "        (\"Mesh.SurfaceFaces\",1), # Display faces of surface mesh?\n",
    "        (\"Mesh.Smoothing\",20), # Number of smoothing steps applied to the final mesh\n",
    "        (\"Mesh.Binary\",1), # Write mesh files in binary format (if possible)\n",
    "        (\"General.Verbosity\",0), # Level of information printed during processing (0: no information), default:5\n",
    "        (\"General.Terminal\",0), # Should information be printed on the terminal (if available)\n",
    "#         (\"Mesh.RandomSeed\",0), # Seed of pseudo-random number generator\n",
    "        (\"Mesh.QualitySup\",0.5), # Only display elements whose quality measure is smaller than QualitySup\n",
    "]\n",
    "\n",
    "def generateMesh(\n",
    "    in_file_name: str, # should be a step cad file\n",
    "    out_file_name: str = None,# should end with .msh or .stl(2D only)\n",
    "    gmsh_args: list = gmsh_args_3d,\n",
    "    dim:int = 3, #mesh dimension {3:volume, 2: surface mesh}\n",
    "    gui = False, # display gui at the end\n",
    "):\n",
    "    \"\"\"\n",
    "    return a volume mesh or suface mesh from CAD model\n",
    "    Input:\n",
    "    ------------------\n",
    "    in_file_name : str\n",
    "        Location of the file to be imported, file type should be \n",
    "        ['.brep', '.stp', '.step', '.igs', '.iges',\n",
    "        '.bdf', '.msh', '.inp', '.diff', '.mesh']\n",
    "    out_file_name : str\n",
    "        Location of the file to be imported, file type should be\n",
    "        '.msh' for 2D/3D mesh or '.stl' for 2D mesh only\n",
    "    gmsh_args : (n, 2) list\n",
    "      List of (parameter, value) pairs to be passed to\n",
    "      gmsh.option.setNumber\n",
    "    dim : int mesh dimension: 3 for volume mesh, 2 for surface mesh\n",
    "    \n",
    "    output:\n",
    "    -------------------\n",
    "    a mesh (meshio.Mesh), and out_file_name\n",
    "    \n",
    "    note: \n",
    "    modified from: ttps://github.com/mikedh/trimesh/blob/master/trimesh/interfaces/gmsh.py \n",
    "    for gmsh_arg, refer to: https://gmsh.info/doc/texinfo/gmsh.html#Mesh-options-list\n",
    "    mesh algorithm: # https://gmsh.info/doc/texinfo/gmsh.html#Choosing-the-right-unstructured-algorithm\n",
    "    \"\"\"\n",
    " \n",
    "    \n",
    "    gmsh.initialize() # !!must be call for initialization!!\n",
    "    gmsh.option.setNumber(\"General.Terminal\", 1)\n",
    "    gmsh.model.add('volume_Mesh_Generation')\n",
    "\n",
    "    gmsh.open(in_file_name)\n",
    "    \n",
    "    # # Angle between two triangles above which an edge is considered as sharp:\n",
    "    # angle = 30\n",
    "    # # For complex geometries, patches can be too complex, too elongated or too large\n",
    "    # # to be parametrized; setting the following option will force the creation of\n",
    "    # # patches that are amenable to reparametrization:\n",
    "    # forceParametrizablePatches = False\n",
    "    # # For open surfaces include the boundary edges in the classification process:\n",
    "    # includeBoundary = True\n",
    "    # # Force curves to be split on given angle:\n",
    "    # curveAngle = 180\n",
    "    # gmsh.model.mesh.classifySurfaces(angle * np.pi / 180., includeBoundary,\n",
    "    #                                  forceParametrizablePatches,\n",
    "    #                                  curveAngle * np.pi / 180.)\n",
    "    # # Create a geometry for all the discrete curves and surfaces in the mesh, by\n",
    "    # # computing a parametrization for each one\n",
    "    # gmsh.model.mesh.createGeometry()\n",
    "    \n",
    "    gmsh.model.geo.synchronize()\n",
    "\n",
    "    for arg in gmsh_args:\n",
    "        gmsh.option.setNumber(*arg)\n",
    "    \n",
    "    gmsh.model.mesh.generate(dim)  # generate 3d terahedra mesh\n",
    "    \n",
    "#     gmsh.model.mesh.optimize('Netgen', True,niter=2)\n",
    "#     gmsh.model.mesh.optimize('', True,niter=10)\n",
    "#     gmsh.model.mesh.optimize('HighOrder', True,niter=20)\n",
    "    \n",
    "    if out_file_name is None: # create a temporary file for the results\n",
    "        with tempfile.NamedTemporaryFile(suffix='.msh', delete=False) as out_data:\n",
    "            out_file_name = out_data.name            \n",
    "    gmsh.write(out_file_name)\n",
    "    \n",
    "    if gui:\n",
    "        gmsh.fltk.run() # display gui\n",
    "    \n",
    "    gmsh.finalize()  # !!must be call for ending!!\n",
    "    return meshio.read(out_file_name),out_file_name"
   ]
  },
  {
   "cell_type": "code",
   "execution_count": 167,
   "metadata": {
    "ExecuteTime": {
     "end_time": "2020-12-30T05:56:52.885664Z",
     "start_time": "2020-12-30T05:56:47.901144Z"
    }
   },
   "outputs": [
    {
     "name": "stdout",
     "output_type": "stream",
     "text": [
      "# vertices          = 509\n",
      "# surface triangle  = 892\n",
      "# tetra             = 1592\n",
      "# unique tetra edges= 2546\n",
      "# unique face  edges= 1338\n",
      "COM                 =  [16.243 47.079  0.191]\n",
      "mean edge length    = 12.40\n"
     ]
    },
    {
     "data": {
      "image/png": "[encoded data removed]",
      "text/plain": [
       "<Figure size 900x150 with 3 Axes>"
      ]
     },
     "metadata": {
      "image/png": {
       "height": 155,
       "width": 730
      }
     },
     "output_type": "display_data"
    }
   ],
   "source": [
    "# discretize body\n",
    "in_file_name: str = \"../../mesh/leg_simplified.step\"\n",
    "out_file_name: str = \"../../mesh/leg_simplified.msh\"\n",
    "vmesh,_= generateMesh(in_file_name,out_file_name,dim=3,gui=True)\n",
    "vmeshSummary(vmesh)"
   ]
  },
  {
   "cell_type": "code",
   "execution_count": 99,
   "metadata": {
    "ExecuteTime": {
     "end_time": "2020-12-30T05:45:07.754030Z",
     "start_time": "2020-12-30T05:45:07.744031Z"
    }
   },
   "outputs": [],
   "source": [
    "# vmesh.cells_dict"
   ]
  },
  {
   "cell_type": "markdown",
   "metadata": {},
   "source": [
    "# Leg generation\n",
    "\n",
    "Only need to run once"
   ]
  },
  {
   "cell_type": "code",
   "execution_count": 168,
   "metadata": {
    "ExecuteTime": {
     "end_time": "2020-12-30T05:56:56.569535Z",
     "start_time": "2020-12-30T05:56:56.314003Z"
    }
   },
   "outputs": [],
   "source": [
    "import cadquery as cq\n",
    "from math import atan2,pi\n",
    "\n",
    "leg_d0 = 0.05+2 # length of first segment, 2.2 is the thickness of the coupler\n",
    "leg_d1 = 120  # length of last segment\n",
    "leg_r0 = 38   # radius of rotation of mid segment\n",
    "\n",
    "leg_r1 = 32   # radius of the first segment\n",
    "leg_r2 = leg_r1   # radius of the end at the second segment\n",
    "leg_r3 = 24   # radius at the end of the last segment\n",
    "\n",
    "leg_a0_deg = 90\n",
    "leg_a0 = leg_a0_deg*pi/180. # mid section rotation angle\n",
    "\n",
    "taper_angle = atan2(leg_r2-leg_r3,leg_d1) # taper angle [rad] of last section\n",
    "\n",
    "leg_fillet = 10 # fillet at the end of the leg\n",
    "leg_innercut_ratio =0.5\n",
    "\n",
    "def makeLeg(d0 = leg_d0,# length of first segment\n",
    "            joint_overlap = joint_overlap, #overlap of the joint\n",
    "            d1 = leg_d1,# length of last segment\n",
    "            r0 = leg_r0,# radius of rotation of mid segment\n",
    "            r1 = leg_r1,# radius of the first segment\n",
    "            taper = taper_angle,# taper angle [rad] of last section\n",
    "            r_fillet = leg_fillet,# fillet at last section\n",
    "            innercut_ratio = leg_innercut_ratio\n",
    "            ):\n",
    "    path = cq.Workplane(\"XY\").center(0, 0)\\\n",
    "        .line(d0,0).radiusArc((r0+leg_d0,r0),-r0)\n",
    "    result = cq.Workplane(\"YZ\").circle(r1).sweep(path) # first+mid section\n",
    "    result = result.faces(\"<X\").circle(r1).extrude(-joint_overlap) # joint overlap section\n",
    "    result = result.faces(\">Y\").workplane(centerOption=\"CenterOfMass\").tag(\"midplane\")\\\n",
    "        .circle(r1).extrude(d1,taper=taper*180./pi)\\\n",
    "        .faces(\">Y\").edges().fillet(r_fillet) # last section fillet\n",
    "    result = result.workplaneFromTagged(\"midplane\")\\\n",
    "        .circle(r1*innercut_ratio).cutBlind(d1+1,taper=taper*180./pi)\n",
    "    return result\n",
    "\n",
    "leg = makeLeg()\n",
    "# show_object(leg)\n",
    "cq.exporters.export(leg,\"../../mesh/leg_simplified.step\")\n",
    "# cq.exporters.export(leg,\"../../mesh/leg_simplified.stl\")"
   ]
  },
  {
   "cell_type": "markdown",
   "metadata": {},
   "source": [
    "# Leg discretization\n",
    "\n",
    "Only need to run once"
   ]
  },
  {
   "cell_type": "code",
   "execution_count": 169,
   "metadata": {
    "ExecuteTime": {
     "end_time": "2020-12-30T05:57:00.419584Z",
     "start_time": "2020-12-30T05:56:57.501595Z"
    }
   },
   "outputs": [
    {
     "name": "stdout",
     "output_type": "stream",
     "text": [
      "# vertices          = 514\n",
      "# surface triangle  = 892\n",
      "# tetra             = 1614\n",
      "# unique tetra edges= 2573\n",
      "# unique face  edges= 1338\n",
      "COM                 =  [15.995 46.583  0.257]\n",
      "mean edge length    = 12.40\n"
     ]
    },
    {
     "data": {
      "image/png": "[encoded data removed]",
      "text/plain": [
       "<Figure size 900x150 with 3 Axes>"
      ]
     },
     "metadata": {
      "image/png": {
       "height": 155,
       "width": 730
      }
     },
     "output_type": "display_data"
    },
    {
     "name": "stdout",
     "output_type": "stream",
     "text": [
      "COM at 1st section: [-36.441  -0.034   0.033]\n"
     ]
    }
   ],
   "source": [
    "in_file_name: str = \"../../mesh/leg_simplified.step\"\n",
    "out_file_name: str = \"../../mesh/leg_simplified.msh\"\n",
    "\n",
    "# vmesh,_= generateMesh(in_file_name,out_file_name,dim=3)\n",
    "\n",
    "# optimze vertices location\n",
    "n_jobs = int(multiprocessing.cpu_count()*0.2)\n",
    "total_jobs = int(n_jobs*1)\n",
    "# print(n_jobs,total_jobs)\n",
    "result = Parallel(n_jobs=n_jobs)(delayed(generateMesh)(in_file_name,None) for i in range(total_jobs))\n",
    "mse_list = [np.linalg.norm(np.mean(vmesh.points[vmesh.points[:,0]<=0],axis=0)[1:]) for vmesh,_ in result]\n",
    "vmesh,best_vmesh_name = result[np.argmin(mse_list)]\n",
    "shutil.copyfile(best_vmesh_name,out_file_name) # copy the temp file to the out file\n",
    "vmeshSummary(vmesh)\n",
    "\n",
    "with np.printoptions(precision=3, suppress=True):\n",
    "    print(\"COM at 1st section:\",np.mean(vmesh.points[vmesh.points[:,0]<=0],axis=0))    "
   ]
  },
  {
   "cell_type": "markdown",
   "metadata": {},
   "source": [
    "# Body discretization\n",
    "\n",
    "Only need to run once"
   ]
  },
  {
   "cell_type": "code",
   "execution_count": 170,
   "metadata": {
    "ExecuteTime": {
     "end_time": "2020-12-30T05:57:08.613586Z",
     "start_time": "2020-12-30T05:57:05.124961Z"
    }
   },
   "outputs": [
    {
     "name": "stdout",
     "output_type": "stream",
     "text": [
      "# vertices          = 2294\n",
      "# surface triangle  = 4092\n",
      "# tetra             = 7472\n",
      "# unique tetra edges= 11808\n",
      "# unique face  edges= 6138\n",
      "COM                 =  [-0.225 -0.014 -0.156]\n",
      "mean edge length    = 12.43\n"
     ]
    },
    {
     "data": {
      "image/png": "[encoded data removed]",
      "text/plain": [
       "<Figure size 900x150 with 3 Axes>"
      ]
     },
     "metadata": {
      "image/png": {
       "height": 155,
       "width": 730
      }
     },
     "output_type": "display_data"
    }
   ],
   "source": [
    "# discretize body\n",
    "in_file_name: str = \"../../mesh/soft_body_simplified.step\"\n",
    "out_file_name: str = \"../../mesh/soft_body_simplified.msh\"\n",
    "vmesh,_= generateMesh(in_file_name,out_file_name,dim=3)\n",
    "# print(vmesh)\n",
    "vmeshSummary(vmesh)"
   ]
  },
  {
   "cell_type": "markdown",
   "metadata": {},
   "source": [
    "# Load descritized volume mesh"
   ]
  },
  {
   "cell_type": "code",
   "execution_count": 171,
   "metadata": {
    "ExecuteTime": {
     "end_time": "2020-12-30T05:57:11.170853Z",
     "start_time": "2020-12-30T05:57:11.158851Z"
    }
   },
   "outputs": [],
   "source": [
    "def voxelizeMesh(mesh,dr=radius_grid):\n",
    "    \"\"\"\n",
    "    input:\n",
    "        mesh: (trimesh.Trimesh)\n",
    "    returns:\n",
    "        bounds: \n",
    "    \"\"\"\n",
    "    bounds = mesh.bounds\n",
    "    # convert to integer, type is still float\n",
    "    bounds = np.vstack(\n",
    "        (np.floor(mesh.bounds[0]/dr),\n",
    "         np.ceil(mesh.bounds[1]/dr)))*dr\n",
    "    xyz_grid, bounds = createGrid(bounds, dr=dr)\n",
    "    print(\"bounds=\\n\", bounds)\n",
    "    xyz_grid_flat = xyz_grid.reshape((-1, 3))\n",
    "    \n",
    "    grid_is_inside_flat = mesh.ray.contains_points(xyz_grid_flat)\n",
    "    grid_is_inside = grid_is_inside_flat.reshape(xyz_grid.shape[:-1])\n",
    "\n",
    "    print(f\"xyz_grid.shape={xyz_grid.shape}\")\n",
    "    ############################################\n",
    "    window = np.ones((3, 3, 3))\n",
    "    grid_is_edge = binary_dilation(\n",
    "        grid_is_inside, window)*~binary_erosion(grid_is_inside, window)\n",
    "    # grid_is_edge = binary_dilation(\n",
    "    #     grid_is_inside)*~binary_erosion(grid_is_inside)\n",
    "    print(f\"{grid_is_edge.sum()}\")\n",
    "    grid_is_deep_inside = grid_is_inside*~grid_is_edge\n",
    "    # grid points near the edge, sampling around may result in outside points\n",
    "    xyz_grid_edge = xyz_grid[grid_is_edge]\n",
    "     # grid points deep inside the body, sampling around garantees inside points\n",
    "    xyz_grid_inside = xyz_grid[grid_is_deep_inside]\n",
    "    ##############################\n",
    "    return bounds,xyz_grid_edge,xyz_grid_inside\n",
    "\n",
    "def sample_helper(mesh_dict, xyz_grid_edge,xyz_grid_inside,\n",
    "                  radius_poisson=radius_poisson,radius_grid=radius_grid,num_per_grid=num_per_grid):\n",
    "    mesh = trimesh.Trimesh(**mesh_dict, use_embree=True)    \n",
    "    # near-edge points candidate\n",
    "    xyz_edge_candidate = uniformRandomAroundPoints(xyz_grid_edge,radius_grid,num_per_grid)\n",
    "    is_edge_candidate = mesh.ray.contains_points(xyz_edge_candidate)\n",
    "    xyz_edge_candidate = xyz_edge_candidate[is_edge_candidate]\n",
    "#     print(f\"pruning outside points:{xyz_edge_candidate.shape}->{xyz_edge_candidate.shape}\")\n",
    "    # deep-inside points candidate\n",
    "    xyz_deep_inside_candidate = uniformRandomAroundPoints(xyz_grid_inside,radius_grid,num_per_grid)\n",
    "    # combined points candidate\n",
    "    xyz_candidate = np.vstack([xyz_deep_inside_candidate, xyz_edge_candidate])\n",
    "#     print(f\"points near surface:{xyz_edge_candidate.shape}\")\n",
    "#     print(f\"points deep inside :{xyz_deep_inside_candidate.shape}\")\n",
    "#     print(f\"total points       :{xyz_candidate.shape}\")\n",
    "    xyz, _ = pcu.prune_point_cloud_poisson_disk(v=xyz_candidate, n=np.zeros_like(\n",
    "    xyz_candidate), radius=radius_poisson, best_choice_sampling=True)\n",
    "    return xyz # vertices"
   ]
  },
  {
   "cell_type": "code",
   "execution_count": 172,
   "metadata": {
    "ExecuteTime": {
     "end_time": "2020-12-30T05:57:11.705517Z",
     "start_time": "2020-12-30T05:57:11.686525Z"
    }
   },
   "outputs": [],
   "source": [
    "def descretize(msh_file):\n",
    "    vmesh = meshio.read(msh_file)\n",
    "\n",
    "    tetra = vmesh.cells_dict[\"tetra\"] # (nx4) np array of tetrahedron\n",
    "    vertices = vmesh.points\n",
    "    faces = vmesh.get_cells_type(\"triangle\")\n",
    "    # edges from tetrahedron\n",
    "    edges_tetra = tetra[:, list(itertools.combinations(range(4), 2))].reshape((-1, 2))\n",
    "    edges_face = faces[:, list(itertools.combinations(range(3), 2))].reshape((-1, 2))\n",
    "\n",
    "    \n",
    "\n",
    "    # trimesh mesh\n",
    "    mesh = trimesh.Trimesh(vertices,faces)\n",
    "    mesh.visual.face_colors = [255,255,255,255]\n",
    "\n",
    "    # #     ###############################################################\n",
    "    # mesh_dict = mesh.to_dict()\n",
    "    # bounds,xyz_grid_edge,xyz_grid_inside = voxelizeMesh(mesh)\n",
    "    # vertices = sample_helper(mesh_dict, xyz_grid_edge, xyz_grid_inside)\n",
    "\n",
    "    pcd_o3d = o3d.geometry.PointCloud(o3d.utility.Vector3dVector(vertices))\n",
    "    # KDTree for nearest neighbor search\n",
    "    pcd_tree = o3d.geometry.KDTreeFlann(pcd_o3d)\n",
    "    neighbors = [np.asarray(pcd_tree.search_hybrid_vector_3d(point, radius_knn,max_nn = max_nn)[1]) for point in vertices]\n",
    "    edges = np.vstack([getEdges(neighbor[:max_nn]) for neighbor in neighbors])\n",
    "    edges, edge_counts = getUniqueEdges(edges)\n",
    "    # trim springs outside the mesh\n",
    "    mid_points = getMidpoints(vertices,edges)\n",
    "    is_inside=mesh.ray.contains_points(mid_points)\n",
    "    edges = edges[is_inside]\n",
    "    # #     ###############################################################\n",
    "    edges = np.vstack((edges,edges_tetra))\n",
    "#     edges = edges_tetra[:]\n",
    "    \n",
    "    edges, edge_counts = getUniqueEdges(edges)\n",
    "    neighbor_counts = getNeighborCounts(edges)\n",
    "    edge_lengths = np.linalg.norm(vertices[edges[:,0]]-vertices[edges[:,1]],axis=1)\n",
    "\n",
    "    print(f\"# vertices         = {vertices.shape[0]}\")\n",
    "    print(f\"# surface triangle =\",faces.shape[0])\n",
    "    print(f\"# tetra            =\",tetra.shape[0])\n",
    "    print(f\"# unique edges     = {edges.shape[0]}\")\n",
    "\n",
    "    fig,ax = plt.subplots(1,3,figsize=(12,2),dpi=75)\n",
    "    ax[0].hist(edge_counts,bins=np.arange(0.5,10), density=True)\n",
    "    ax[0].set_xticks(np.arange(10))\n",
    "    ax[0].set_xlabel(\"edge counts\")\n",
    "    ax[1].hist(edge_lengths, density=True, bins='auto')\n",
    "    ax[1].set_xlabel(\"edge length\")\n",
    "    ax[2].hist(neighbor_counts, density=True, bins='auto')\n",
    "    ax[2].set_xlabel(\"neighbor counts\")\n",
    "    #     plt.tight_layout()\n",
    "    plt.show()\n",
    "\n",
    "    signed_distance = trimesh.proximity.signed_distance(mesh,vertices)\n",
    "\n",
    "\n",
    "    nsd = normalize(signed_distance) # normalized_signed_distance\n",
    "    print(signed_distance.min(),signed_distance.max())\n",
    "\n",
    "    pcd_o3d = o3d.geometry.PointCloud(o3d.utility.Vector3dVector(vertices))\n",
    "\n",
    "    cmap = plt.cm.get_cmap('plasma')\n",
    "    pcd_o3d.colors = o3d.utility.Vector3dVector(cmap(nsd)[:,:3])\n",
    "\n",
    "\n",
    "    # # KDTree for nearest neighbor search\n",
    "    # pcd_tree = o3d.geometry.KDTreeFlann(pcd_o3d)\n",
    "    # neighbors = [np.asarray(pcd_tree.search_hybrid_vector_3d(point, radius_knn,max_nn = max_nn)[1]) for point in vertices]\n",
    "    # edges_pcd = np.vstack([getEdges(neighbor[:max_nn]) for neighbor in neighbors])\n",
    "    # # trim springs outside the mesh\n",
    "    # mid_points = getMidpoints(vertices,edges_pcd)\n",
    "    # is_inside=mesh.ray.contains_points(mid_points)\n",
    "    # edges_pcd = edges_pcd[is_inside]\n",
    "    # # combine both\n",
    "    # edges_full = np.vstack((edges,edges_pcd))\n",
    "    # edges_full = np.sort(edges_full,axis=1) # sorted\n",
    "    # edges_full = np.unique(edges,axis=0,return_index=False,return_counts=False)\n",
    "\n",
    "    lsd_o3d = o3d.geometry.LineSet(\n",
    "        o3d.utility.Vector3dVector(vertices), \n",
    "        o3d.utility.Vector2iVector(edges))\n",
    "\n",
    "    cmap = plt.cm.get_cmap('seismic')\n",
    "\n",
    "    normalized_edge_lengths = normalize(edge_lengths)\n",
    "    edges_colors = cmap(normalized_edge_lengths)[:,:3]# drop alpha channel\n",
    "\n",
    "    #     normalized_edge_counts = normalize(edge_counts)\n",
    "    #     print(edge_counts.min(),edge_counts.max())\n",
    "    #     edges_colors = cmap(normalized_edge_counts)[:,:3]# drop alpha channel\n",
    "\n",
    "    #     lsd_o3d.colors = o3d.utility.Vector3dVector(edges_colors)\n",
    "\n",
    "    o3dShow([lsd_o3d,pcd_o3d,coord_frame],background_color=(255,255,255),show_coordinate_frame=False,mesh_show_wireframe=True)\n",
    "\n",
    "    # lsd_o3d = o3d.geometry.TetraMesh(\n",
    "    #     o3d.utility.Vector3dVector(vmesh.points), \n",
    "    #     o3d.utility.Vector4iVector(vmesh.get_cells_type(\"tetra\")))\n",
    "    # o3d.visualization.draw_geometries([lsd_o3d],mesh_show_wireframe=True)\n",
    "\n",
    "    #     vsmesh_o3d = o3d.geometry.TriangleMesh(o3d.utility.Vector3dVector(vertices),o3d.utility.Vector3iVector(faces))\n",
    "    # o3dShow([vsmesh_o3d,pcd_o3d],background_color=(0,0,0),show_coordinate_frame=False,mesh_show_wireframe=True)\n",
    "\n",
    "    # display(mesh.show())\n",
    "    #     display(trimesh.scene.Scene([mesh],).show())\n",
    "    \n",
    "    return vmesh,mesh,pcd_o3d,lsd_o3d,nsd\n",
    "\n",
    "# vmesh_leg,mesh_leg,pcd_leg,lsd_leg,nsd_leg = descretize(msh_file=\"../../mesh/leg_simplified.msh\")"
   ]
  },
  {
   "cell_type": "markdown",
   "metadata": {},
   "source": [
    "### load descritized leg"
   ]
  },
  {
   "cell_type": "code",
   "execution_count": 173,
   "metadata": {
    "ExecuteTime": {
     "end_time": "2020-12-30T05:57:17.773612Z",
     "start_time": "2020-12-30T05:57:12.835954Z"
    },
    "scrolled": false
   },
   "outputs": [
    {
     "name": "stdout",
     "output_type": "stream",
     "text": [
      "# vertices         = 514\n",
      "# surface triangle = 892\n",
      "# tetra            = 1614\n",
      "# unique edges     = 5287\n"
     ]
    },
    {
     "data": {
      "image/png": "[encoded data removed]",
      "text/plain": [
       "<Figure size 900x150 with 3 Axes>"
      ]
     },
     "metadata": {
      "image/png": {
       "height": 155,
       "width": 730
      }
     },
     "output_type": "display_data"
    },
    {
     "name": "stdout",
     "output_type": "stream",
     "text": [
      "0.0 28.210344676957607\n"
     ]
    }
   ],
   "source": [
    "# %load_ext line_profiler\n",
    "# %lprun -f descretize vmesh_leg,mesh_leg,pcd_leg,lsd_leg,nsd_leg = descretize(msh_file=\"../../mesh/leg_simplified.msh\")\n",
    "\n",
    "vmesh_leg,mesh_leg,pcd_leg,lsd_leg,nsd_leg = descretize(msh_file=\"../../mesh/leg_simplified.msh\")"
   ]
  },
  {
   "cell_type": "markdown",
   "metadata": {},
   "source": [
    "### load descritized body"
   ]
  },
  {
   "cell_type": "code",
   "execution_count": 174,
   "metadata": {
    "ExecuteTime": {
     "end_time": "2020-12-30T05:57:34.146860Z",
     "start_time": "2020-12-30T05:57:18.895786Z"
    }
   },
   "outputs": [
    {
     "name": "stdout",
     "output_type": "stream",
     "text": [
      "# vertices         = 2294\n",
      "# surface triangle = 4092\n",
      "# tetra            = 7472\n",
      "# unique edges     = 22027\n"
     ]
    },
    {
     "data": {
      "image/png": "[encoded data removed]",
      "text/plain": [
       "<Figure size 900x150 with 3 Axes>"
      ]
     },
     "metadata": {
      "image/png": {
       "height": 155,
       "width": 733
      }
     },
     "output_type": "display_data"
    },
    {
     "name": "stdout",
     "output_type": "stream",
     "text": [
      "0.0 30.70274003027304\n"
     ]
    }
   ],
   "source": [
    "vmesh_body,mesh_body,pcd_body,lsd_body,nsd_body = descretize(msh_file=\"../../mesh/soft_body_simplified.msh\")"
   ]
  },
  {
   "cell_type": "markdown",
   "metadata": {},
   "source": [
    "# Assemble the parts"
   ]
  },
  {
   "cell_type": "code",
   "execution_count": 227,
   "metadata": {
    "ExecuteTime": {
     "end_time": "2020-12-30T06:05:26.867162Z",
     "start_time": "2020-12-30T06:05:26.833164Z"
    }
   },
   "outputs": [
    {
     "name": "stdout",
     "output_type": "stream",
     "text": [
      "joint_radius=30.0\n"
     ]
    }
   ],
   "source": [
    "############################ defineing joints geometry\n",
    "dy = 260.0/2\n",
    "rot_ang = 10.0\n",
    "cylinder_len = 103\n",
    "\n",
    "dx_front = 0.0\n",
    "dx_back = dx_front\n",
    "########################################################\n",
    "t_axial = translate((0,0,cylinder_len-half_joint_overlap)) # translate along cylinder\n",
    "t_zrot = rotateFromVec((0,0,1),np.pi)\n",
    "\n",
    "t0 = translate((dx_front,0,dy)).dot(rotateFromVec((0, 1, 0),(90-rot_ang)/180.*np.pi).dot(t_axial))# front left\n",
    "t1 = translate((dx_back,0,-dy)).dot(rotateFromVec((0, 1, 0),(90+rot_ang)/180.*np.pi).dot(t_axial))# back left\n",
    "t2 = translate((-dx_back,0,-dy)).dot(rotateFromVec((0, 1, 0),(-90-rot_ang)/180.*np.pi).dot(t_zrot).dot(t_axial))# back right\n",
    "t3 = translate((-dx_front,0,dy)).dot(rotateFromVec((0, 1, 0),(-90+rot_ang)/180.*np.pi).dot(t_zrot).dot(t_axial))# front right\n",
    "leg_axes_transform = [t0,t1,t2,t3]\n",
    "\n",
    "\n",
    "joint_radius = radius_poisson*3\n",
    "# joint_radius = leg_r1\n",
    "print(f\"joint_radius={joint_radius}\")\n",
    "# cylinders for getting the rotation anchor points on the body\n",
    "cylinders = [trimesh.creation.cylinder(radius=joint_radius, height=joint_overlap, transform=t,sections=60)\\\n",
    "             for t in leg_axes_transform]\n",
    "##################################################################################################################"
   ]
  },
  {
   "cell_type": "code",
   "execution_count": 228,
   "metadata": {
    "ExecuteTime": {
     "end_time": "2020-12-30T06:05:27.568075Z",
     "start_time": "2020-12-30T06:05:27.560082Z"
    }
   },
   "outputs": [],
   "source": [
    "# display(trimesh.scene.Scene(cylinders+[mesh_body]).show())"
   ]
  },
  {
   "cell_type": "code",
   "execution_count": 229,
   "metadata": {
    "ExecuteTime": {
     "end_time": "2020-12-30T06:05:27.836303Z",
     "start_time": "2020-12-30T06:05:27.812294Z"
    }
   },
   "outputs": [],
   "source": [
    "def ColorizePcdAndLsd(nsd,pcd,lsd,cmap):\n",
    "    \"\"\"\n",
    "    colorize the pcd (o3d pointcloud) and its corresponding lsd (o3d lineset) \n",
    "    given nsd (normalized signed distance) and cmap (plt colormap)\n",
    "    Input:\n",
    "        nsd: a normalized signed distance of the pcd, normalized to [0,1]\n",
    "        pcd: o3d point cloud, representing the mass points\n",
    "        lsd: o3d lineset, representing the springs\n",
    "        cmap: plt colormap, ref: https://matplotlib.org/tutorials/colors/colormaps.html\n",
    "    \"\"\"\n",
    "    pcd_color = cmap(nsd)[:,:3] # drop alpha channel\n",
    "    pcd.colors = o3d.utility.Vector3dVector(pcd_color)\n",
    "    lines = np.asarray(lsd.lines)\n",
    "    # the line colors are the average of the two end points colors\n",
    "    lsd_color =  (pcd_color[lines[:,0]]+pcd_color[lines[:,1]])/2\n",
    "    lsd.colors = o3d.utility.Vector3dVector(lsd_color)\n",
    "    return pcd,lsd\n",
    "\n",
    "def LegAlignTransform(rot_angle):\n",
    "    \"\"\"\n",
    "    first align the rotational axis to z-axis, next rotate about the z axis for rot_angle,\n",
    "    finally translate along z-axis\n",
    "    \"\"\"\n",
    "    return translate((0,0,half_joint_overlap), # translate along z-axis\n",
    "                     np.dot(rotateFromVec((0,0,1),rot_angle),# rotate about the z axis for rot_angle\n",
    "                            rotateFromVec((0,1,0),-np.pi/2))) # align the rotational axis to z-axis\n",
    "\n",
    "# define zero_leg_anges as the leg angles when all the legs are pointing towards front\n",
    "zero_leg_angles = np.array([np.pi/2,np.pi/2,np.pi/2,np.pi/2]) \n",
    "\n",
    "leg_angles = np.array([np.pi,np.pi,0,0]) # four leg standing\n",
    "# leg_angles = np.array([np.pi/3,np.pi/3,-np.pi/3,-np.pi/3])\n",
    "\n",
    "# leg_angles = np.array([-np.pi/2,-np.pi/2,-np.pi/2,-np.pi/2])\n",
    "# leg_angles = np.array([np.pi/2,np.pi/2,np.pi/2,np.pi/2])\n",
    "# leg_angles = np.array([0,0,0,0])\n",
    "\n",
    "initial_leg_angles = leg_angles-zero_leg_angles\n",
    "\n",
    "# axis for the body\n",
    "body_transform = np.array([[0,1,0,0],[0,0,1,0],[1,0,0,0],[0,0,0,1]],dtype=np.float64)\n",
    "\n",
    "# axis for the joint - body\n",
    "leg_transform = [np.dot(t,LegAlignTransform(angle)) for t,angle in zip(leg_axes_transform,leg_angles)]\n",
    "\n",
    "# axis for the legs\n",
    "aligned_leg_axes_transform = [np.dot(t,rotateFromVec((0,0,1),a))  for t,a in zip(leg_axes_transform,initial_leg_angles)]\n",
    "\n",
    "# coordinate for the body\n",
    "coord_body = o3d.geometry.TriangleMesh.create_coordinate_frame(size=60, origin=[0, 0, 0]).transform(body_transform) \n",
    "\n",
    "# coordinates for the joint - body\n",
    "coord_joint_left = [o3d.geometry.TriangleMesh.create_coordinate_frame(\n",
    "    size=60, origin=[0, 0, 0]).transform(t) for t in leg_axes_transform]\n",
    "\n",
    "# coordinate for the joint - legs\n",
    "coord_joint_right = [o3d.geometry.TriangleMesh.create_coordinate_frame(\n",
    "    size=60, origin=[0, 0, 0]).transform(t) for t in aligned_leg_axes_transform]\n",
    "\n",
    "legs = [o3d.geometry.PointCloud(pcd_leg).transform(t) for t in leg_transform]\n",
    "lsd_legs = [o3d.geometry.LineSet(lsd_leg).transform(t) for t in leg_transform]\n",
    "\n",
    "\n",
    "cmap_str = (\"spring\",\"summer\",\"autumn\",\"winter\")\n",
    "for k in range(len(legs)):\n",
    "    legs[k],lsd_legs[k] = ColorizePcdAndLsd(nsd_leg,legs[k],lsd_legs[k],plt.cm.get_cmap(cmap_str[k]))"
   ]
  },
  {
   "cell_type": "code",
   "execution_count": 230,
   "metadata": {
    "ExecuteTime": {
     "end_time": "2020-12-30T06:05:28.070827Z",
     "start_time": "2020-12-30T06:05:28.060793Z"
    }
   },
   "outputs": [],
   "source": [
    "# o3d.visualization.draw_geometries([pcd_body,coord_body]+coord_joint_left+coord_joint_right+legs)\n",
    "# o3d.visualization.draw_geometries([pcd_body,coord_body]+coord_joint_left+legs)\n",
    "\n",
    "# o3d.visualization.draw_geometries([pcd_body,lsd_body,coord_body]+coord_joint_left+legs+lsd_legs)\n",
    "\n",
    "\n",
    "# o3d.visualization.draw_geometries([pcd_body,coord_frame]+coord_joint_right+legs)\n",
    "\n",
    "# o3d.visualization.draw_geometries(coord_joint_left+legs)\n",
    "# o3d.visualization.draw_geometries([pcd_body]+coord_joint_left)\n",
    "# o3d.visualization.draw_geometries([pcd_body,lsd_body]+legs+lsd_legs+coord_joint_left)\n",
    "# o3d.visualization.draw_geometries_with_animation_callback([pcd_body,lsd_body]+legs+lsd_legs,rotate_view)\n",
    "# o3d.visualization.draw_geometries([pcd_body]+coord_joint_left+legs)"
   ]
  },
  {
   "cell_type": "code",
   "execution_count": 231,
   "metadata": {
    "ExecuteTime": {
     "end_time": "2020-12-30T06:05:28.557636Z",
     "start_time": "2020-12-30T06:05:28.479445Z"
    }
   },
   "outputs": [
    {
     "name": "stdout",
     "output_type": "stream",
     "text": [
      "id_xyz_parts_edges=[   0 2294 2808 3322 3836 4350]\n",
      "id_lines_parts_edges=[    0 22027 27314 32601 37888 43175]\n",
      "n_parts=5\n",
      "n_joints=4\n",
      "rot_anchor_radius=35.0\n"
     ]
    },
    {
     "data": {
      "text/plain": [
       "([50, 56, 48, 51], [53, 53, 53, 53])"
      ]
     },
     "execution_count": 231,
     "metadata": {},
     "output_type": "execute_result"
    }
   ],
   "source": [
    "# # axes_all = [axis_body, axis_leg0, axis_leg1, axis_leg2, axis_leg3]\n",
    "# axes_all = [coord_frame] + coord_joint_left\n",
    "\n",
    "# pcd list of parts\n",
    "pcd_parts = [pcd_body]+legs \n",
    "\n",
    "# lst list of parts\n",
    "lsd_parts = [lsd_body]+lsd_legs\n",
    "\n",
    "# # transform_all = [transform_body, transform_leg0, transform_leg1, transform_leg2, transform_leg3]\n",
    "# transform_all = [np.eye(4)] + leg_axes_transform\n",
    "\n",
    "# list of boolean array for the rotation ids of the body, 4 in total\n",
    "body_rot_ids = [cylinder.ray.contains_points(pcd_body.points) for cylinder in cylinders]\n",
    "\n",
    "# list of np boolean array indicating if point is part of rotational jonit\n",
    "# leg_rot_ids = [np.asarray(pcd_leg_d.points)[:,0]<-leg_d0,]*len(legs)\n",
    "\n",
    "pcd_leg_points = np.asarray(pcd_leg.points)\n",
    "leg_rot_ids = [\n",
    "    np.logical_and(pcd_leg_points[:, 0] <= 0,\n",
    "                   (pcd_leg_points[:, 1]**2 +\n",
    "                   pcd_leg_points[:, 2]**2) <= (joint_radius)**2\n",
    "                   )]*len(legs)\n",
    "# leg_rot_ids = [cylinder.ray.contains_points(np.asarray(leg.points)) for cylinder,leg in zip(cylinders,legs)]\n",
    "\n",
    "\n",
    "# xyzs of the components [body,leg,leg,leg,leg]\n",
    "xyz_parts = [np.asarray(pcd.points) for pcd in pcd_parts]\n",
    "\n",
    "# the edges of the points start and end index for each part of the component\n",
    "id_xyz_parts_edges = np.cumsum([0]+[len(xyz) for xyz in xyz_parts])\n",
    "print(f\"id_xyz_parts_edges={id_xyz_parts_edges}\")\n",
    "\n",
    "# lines of the components [body,leg,leg,leg,leg]\n",
    "lines_parts = [np.asanyarray(lsd.lines) for lsd in lsd_parts]\n",
    "\n",
    "id_lines_parts_edges = np.cumsum([0]+[len(lines) for lines in lines_parts])\n",
    "print(f\"id_lines_parts_edges={id_lines_parts_edges}\")\n",
    "\n",
    "\n",
    "n_parts = len(xyz_parts) # number of components\n",
    "print(f\"n_parts={n_parts}\")\n",
    "n_joints = len(legs)\n",
    "print(f\"n_joints={n_joints}\")\n",
    "\n",
    "# array of index of the componet for a joint\n",
    "id_joint_components = np.array([[0,1],[0,2],[0,3],[0,4]])\n",
    "\n",
    "# list of transform for each joint\n",
    "joint_transforms_body = leg_axes_transform\n",
    "joint_transforms_leg = aligned_leg_axes_transform\n",
    "\n",
    "# the actual points (bool array)\n",
    "joint_tuples = list(zip(body_rot_ids,leg_rot_ids))\n",
    "\n",
    "rot_anchor_radius = half_joint_overlap+radius_poisson*0.5\n",
    "# rot_anchor_radius = 20\n",
    "print(f\"rot_anchor_radius={rot_anchor_radius}\")\n",
    "\n",
    "# anchor points for each of the rotational joint\n",
    "rot_anchors = [applyTransform([[0,0,-rot_anchor_radius],\n",
    "                               [0,0,rot_anchor_radius]],t) \n",
    "               for t in leg_axes_transform]\n",
    "# print(rot_anchors)\n",
    "\n",
    "# create pointcloud for anchors\n",
    "pcd_anchors = o3d.geometry.PointCloud()\n",
    "pcd_anchors.points = o3d.utility.Vector3dVector(np.vstack(rot_anchors))\n",
    "pcd_anchors.colors = o3d.utility.Vector3dVector(np.tile((1.,0,0), (len(pcd_anchors.points), 1)))\n",
    "\n",
    "[sum(ids) for ids in body_rot_ids],[sum(ids) for ids in leg_rot_ids]"
   ]
  },
  {
   "cell_type": "code",
   "execution_count": 232,
   "metadata": {
    "ExecuteTime": {
     "end_time": "2020-12-30T06:05:28.902780Z",
     "start_time": "2020-12-30T06:05:28.891789Z"
    }
   },
   "outputs": [],
   "source": [
    "# pcd_body.paint_uniform_color([0, 1, 0])\n",
    "\n",
    "# for k in range(4):\n",
    "#     legs[k].paint_uniform_color([0, 1, 0])\n",
    "#     np.asarray(legs[k].colors)[leg_rot_ids[k]] = np.array((1,0,0))\n",
    "#     np.asarray(pcd_body.colors)[body_rot_ids[k]] = np.array((0,0,1))\n",
    "\n",
    "# o3d.visualization.draw_geometries(legs+[pcd_body],point_show_normal=False)"
   ]
  },
  {
   "cell_type": "code",
   "execution_count": 205,
   "metadata": {
    "ExecuteTime": {
     "end_time": "2020-12-30T05:58:31.598875Z",
     "start_time": "2020-12-30T05:58:31.589884Z"
    }
   },
   "outputs": [],
   "source": [
    "# o3d.visualization.draw_geometries([pcd_body],point_show_normal=False)"
   ]
  },
  {
   "cell_type": "code",
   "execution_count": 36,
   "metadata": {
    "ExecuteTime": {
     "end_time": "2020-08-30T05:49:30.764501Z",
     "start_time": "2020-08-30T05:49:30.760491Z"
    },
    "deletable": false,
    "editable": false,
    "run_control": {
     "frozen": true
    }
   },
   "outputs": [],
   "source": [
    "# axis_size=5\n",
    "# axis_origin_tri = trimesh.creation.axis(axis_size*2)\n",
    "# # front left, back left, front right, back right\n",
    "# axes = [trimesh.creation.axis(axis_size,transform=t) for t in leg_axes_transform]\n",
    "# body_trimesh.visual.face_colors=(102, 102, 102, 255)\n",
    "# pcd_body_trimesh = trimesh.points.PointCloud(np.asarray(pcd_body.points))\n",
    "# pcd_body_trimesh.visual.vertex_colors = (0, 102, 102, 255)\n",
    "\n",
    "# legs_trimesh = [trimesh.points.PointCloud(np.asarray(leg.points)) for leg in legs]\n",
    "# for leg_trimesh in legs_trimesh:\n",
    "#     leg_trimesh.visual.vertex_colors = np.array((255, 1, 1, 255))\n",
    "    \n",
    "# for cylinder in cylinders:\n",
    "#     cylinder.visual.vertex_colors = np.array((255, 1, 1, 255))\n",
    "\n",
    "# # scene=trimesh.scene.Scene(geometry=axes+[axis_origin_tri,body_trimesh]+cylinders)\n",
    "# scene=trimesh.scene.Scene(geometry=axes+[axis_origin_tri,pcd_body_trimesh]+cylinders)\n",
    "# # scene=trimesh.scene.Scene(geometry=axes+[axis_origin_tri]+cylinders+legs_trimesh)\n",
    "# scene.show()"
   ]
  },
  {
   "cell_type": "code",
   "execution_count": 206,
   "metadata": {
    "ExecuteTime": {
     "end_time": "2020-12-30T05:58:32.039307Z",
     "start_time": "2020-12-30T05:58:32.020312Z"
    },
    "deletable": false,
    "editable": false
   },
   "outputs": [],
   "source": [
    "NUM_POINTS_PER_COORDINATE = 7 # number of points in a coordinate (o,x,y,z,-x,-y,-z)\n",
    "\n",
    "def GetCoordinateOXYZ(transform):\n",
    "    coordinate_radius = 16\n",
    "    o = transform[:3,-1] # origin\n",
    "    ox = coordinate_radius * transform[:3,0]\n",
    "    oy = coordinate_radius * transform[:3,1]\n",
    "    oz = coordinate_radius * transform[:3,2]\n",
    "    x = o + ox\n",
    "    y = o + oy\n",
    "    z = o + oz\n",
    "    nx = o - ox # negative x\n",
    "    ny = o - oy # negative y\n",
    "    nz = o - oz # netative z\n",
    "    oxyz = np.vstack([o,x,y,z,nx,ny,nz])\n",
    "    return oxyz\n",
    "\n",
    "class Coord:# coordinate\n",
    "    def __init__(s, body_id, transform):\n",
    "        \"\"\"\n",
    "        body_id: body index,e.g. mainbody=0,leg0=1,leg1=2,leg2=3,leg3=4\n",
    "        transform: 4x4 numpy transform matrix\n",
    "        \"\"\"\n",
    "        s.bodyId = body_id\n",
    "        s.transform = transform\n",
    "        s.oxyz = GetCoordinateOXYZ(transform)\n",
    "        # index offset for the coordinate\n",
    "        s.id_start = id_xyz_parts_edges[body_id]\n",
    "\n",
    "\n",
    "coord_list = [\n",
    "    Coord(0, body_transform),# body axis\n",
    "    Coord(id_joint_components[0,0],joint_transforms_body[0]), # joint0-body axis\n",
    "    Coord(id_joint_components[0,1],joint_transforms_leg[0]), # joint0-leg0 axis\n",
    "    Coord(id_joint_components[1,0],joint_transforms_body[1]), # joint1-body axis\n",
    "    Coord(id_joint_components[1,1],joint_transforms_leg[1]), # joint1-leg1 axis\n",
    "    Coord(id_joint_components[2,0],joint_transforms_body[2]), # joint2-body axis\n",
    "    Coord(id_joint_components[2,1],joint_transforms_leg[2]), # joint2-leg2 axis\n",
    "    Coord(id_joint_components[3,0],joint_transforms_body[3]), # joint3-body axis\n",
    "    Coord(id_joint_components[3,1],joint_transforms_leg[3])  # joint3-leg3 axis\n",
    "]\n",
    "\n",
    "# oxyzs: list of oxyz from coord_list\n",
    "oxyzs = [c.oxyz for c in coord_list]\n",
    "\n",
    "# # pcd of oxyzs\n",
    "pcd_oxyzs = o3d.geometry.PointCloud()\n",
    "pcd_oxyzs.points = o3d.utility.Vector3dVector(np.vstack(oxyzs))\n",
    "pcd_oxyzs.colors = o3d.utility.Vector3dVector(np.tile((1.,0,0), (len(pcd_oxyzs.points), 1)))\n",
    "# o3d.visualization.draw_geometries([pcd_oxyzs])"
   ]
  },
  {
   "cell_type": "code",
   "execution_count": 207,
   "metadata": {
    "ExecuteTime": {
     "end_time": "2020-12-30T05:58:32.260826Z",
     "start_time": "2020-12-30T05:58:32.246813Z"
    },
    "deletable": false,
    "editable": false
   },
   "outputs": [
    {
     "name": "stdout",
     "output_type": "stream",
     "text": [
      "points_counts=[2294, 514, 514, 514, 514, 2, 2, 2, 2, 7, 7, 7, 7, 7, 7, 7, 7, 7]\n",
      "id_xyzs_edges=[   0 2294 2808 3322 3836 4350 4352 4354 4356 4358 4365 4372 4379 4386\n",
      " 4393 4400 4407 4414 4421]\n"
     ]
    },
    {
     "data": {
      "text/plain": [
       "[(0, 'body'),\n",
       " (2294, 'leg0'),\n",
       " (2808, 'leg1'),\n",
       " (3322, 'leg2'),\n",
       " (3836, 'leg3'),\n",
       " (4350, 'anchor0'),\n",
       " (4352, 'anchor1'),\n",
       " (4354, 'anchor2'),\n",
       " (4356, 'anchor3'),\n",
       " (4358, 'oxyz_body'),\n",
       " (4365, 'oxyz_joint0_body'),\n",
       " (4372, 'oxyz_joint0_leg0'),\n",
       " (4379, 'oxyz_joint1_body'),\n",
       " (4386, 'oxyz_joint1_leg1'),\n",
       " (4393, 'oxyz_joint2_body'),\n",
       " (4400, 'oxyz_joint2_leg2'),\n",
       " (4407, 'oxyz_joint3_body'),\n",
       " (4414, 'oxyz_joint3_leg3'),\n",
       " (4421, 'the end')]"
      ]
     },
     "execution_count": 207,
     "metadata": {},
     "output_type": "execute_result"
    }
   ],
   "source": [
    "# get all colors\n",
    "pcds = [pcd_body]+legs+[pcd_anchors]+[pcd_oxyzs]\n",
    "colors_all = np.vstack(list(map(np.asarray,[pcd.colors for pcd in pcds])))\n",
    "\n",
    "# the acutal points list, arrange as\n",
    "# [xyz_0,xyz_1,...,xyz_n,]+ [xyz_anchor_0,...,xyz_anchor_m] + [oxyz_0,oxyz_1,..]\n",
    "xyzs = xyz_parts + rot_anchors + oxyzs\n",
    "\n",
    "xyz_all = np.vstack(xyzs)\n",
    "\n",
    "# the count of points in each component of xyzs\n",
    "points_counts = [len(xyz) for xyz in xyzs]\n",
    "print(f\"points_counts={points_counts}\")\n",
    "\n",
    "\n",
    "# the edges of the points start and end index for each part of the component\n",
    "# e.g. the idex of xyzs[k] start at id_xyzs_edges[k], and ends at id_xyzs_edges[k+1]\n",
    "# the rot_anchors [j] start at id_xyzs_edges[n_parts+k], and ends at id_xyzs_edges[n_parts+k+1]\n",
    "id_xyzs_edges = np.cumsum([0]+[len(xyz) for xyz in xyzs])\n",
    "print(f\"id_xyzs_edges={id_xyzs_edges}\")\n",
    "list(zip(id_xyzs_edges,\"body,leg0,leg1,leg2,leg3,anchor0,anchor1,anchor2,anchor3,oxyz_body,\\\n",
    "oxyz_joint0_body,oxyz_joint0_leg0,oxyz_joint1_body,oxyz_joint1_leg1,\\\n",
    "oxyz_joint2_body,oxyz_joint2_leg2,oxyz_joint3_body,oxyz_joint3_leg3,\\\n",
    "the end\".split(\",\")))"
   ]
  },
  {
   "cell_type": "code",
   "execution_count": 208,
   "metadata": {
    "ExecuteTime": {
     "end_time": "2020-12-30T05:58:32.532291Z",
     "start_time": "2020-12-30T05:58:32.512287Z"
    }
   },
   "outputs": [
    {
     "name": "stdout",
     "output_type": "stream",
     "text": [
      "id_xyzs_anchor_start=4350\n",
      "id_xyzs_oxyz_start=4358\n",
      "id_xyzs_joint_oxyz_start=4365\n"
     ]
    }
   ],
   "source": [
    "id_xyzs_anchor_start = id_xyzs_edges[n_parts]\n",
    "print(f\"id_xyzs_anchor_start={id_xyzs_anchor_start}\")\n",
    "\n",
    "id_xyzs_oxyz_start = id_xyzs_edges[n_parts+n_joints]\n",
    "print(f\"id_xyzs_oxyz_start={id_xyzs_oxyz_start}\")\n",
    "\n",
    "id_xyzs_joint_oxyz_start = id_xyzs_edges[n_parts+n_joints+1]\n",
    "print(f\"id_xyzs_joint_oxyz_start={id_xyzs_joint_oxyz_start}\")"
   ]
  },
  {
   "cell_type": "code",
   "execution_count": 209,
   "metadata": {
    "ExecuteTime": {
     "end_time": "2020-12-30T05:58:32.770668Z",
     "start_time": "2020-12-30T05:58:32.747701Z"
    }
   },
   "outputs": [],
   "source": [
    "def GetNeighborsOXYZ(pcd,oxyz):\n",
    "    pcd_tree = o3d.geometry.KDTreeFlann(pcd)\n",
    "    oxyz_neighbors = [np.asarray(pcd_tree.search_knn_vector_3d(\n",
    "        point,knn=20)[1]) for point in oxyz]\n",
    "    return oxyz_neighbors\n",
    "# oxyzs_neighbors = [np.stack(GetNeighborsOXYZ(pcd,oxyz))+id_start \n",
    "#                    for pcd,oxyz,id_start in zip(pcd_parts,oxyzs,id_xyzs_edges)]\n",
    "\n",
    "oxyzs_neighbors = [np.stack(GetNeighborsOXYZ(pcd_parts[c.bodyId],c.oxyz))+c.id_start \n",
    "                   for c in coord_list]"
   ]
  },
  {
   "cell_type": "code",
   "execution_count": 210,
   "metadata": {
    "ExecuteTime": {
     "end_time": "2020-12-30T05:58:33.009936Z",
     "start_time": "2020-12-30T05:58:32.981922Z"
    }
   },
   "outputs": [
    {
     "name": "stdout",
     "output_type": "stream",
     "text": [
      "[4358 4359 4360 4361 4362 4363 4364]\n",
      "[4365 4366 4367 4368 4369 4370 4371]\n",
      "[4372 4373 4374 4375 4376 4377 4378]\n",
      "[4379 4380 4381 4382 4383 4384 4385]\n",
      "[4386 4387 4388 4389 4390 4391 4392]\n",
      "[4393 4394 4395 4396 4397 4398 4399]\n",
      "[4400 4401 4402 4403 4404 4405 4406]\n",
      "[4407 4408 4409 4410 4411 4412 4413]\n",
      "[4414 4415 4416 4417 4418 4419 4420]\n"
     ]
    }
   ],
   "source": [
    "# create oxyz_springs\n",
    "oxyz_self_springs = []\n",
    "oxyz_anchor_springs = []\n",
    "for oxyz,oxyz_neighbor,oxyz_id_start in zip(oxyzs,oxyzs_neighbors,id_xyzs_edges[n_parts+n_joints:]):\n",
    "    oxyz_id = np.array([oxyz_id_start+k for k in range(NUM_POINTS_PER_COORDINATE)]) # 7 points per coordinate: o,x,y,z,-x,-y,-z\n",
    "    print(oxyz_id)\n",
    "    oxyz_anchor_springs.append(\n",
    "        np.vstack([getEdges(neighbor,point_id) for point_id,neighbor in zip(oxyz_id,oxyz_neighbor)]))\n",
    "    oxyz_self_springs.append(oxyz_id[\n",
    "        np.array((\n",
    "    (0,1),#ox\n",
    "    (0,2),#oy\n",
    "    (0,3),#oz\n",
    "    (0,4),#o-x\n",
    "    (0,5),#o-y\n",
    "    (0,6),#o-z\n",
    "    (1,2),#xy\n",
    "    (1,3),#xz\n",
    "    (1,4),#x-x\n",
    "    (1,5),#x-y\n",
    "    (1,6),#x-z\n",
    "    (2,3),#yz\n",
    "    (2,4),#y-x\n",
    "    (2,5),#y-y\n",
    "    (2,6),#y-z\n",
    "    (3,4),#z-x\n",
    "    (3,5),#z-y\n",
    "    (3,6),#z-z\n",
    "    (4,5),#-x-y\n",
    "    (4,6),#-x-z\n",
    "    (5,6)#-y-z\n",
    "    ))])\n",
    "oxyz_self_springs = np.vstack(oxyz_self_springs)\n",
    "oxyz_anchor_springs = np.vstack(oxyz_anchor_springs)"
   ]
  },
  {
   "cell_type": "code",
   "execution_count": 211,
   "metadata": {
    "ExecuteTime": {
     "end_time": "2020-12-30T05:58:33.231585Z",
     "start_time": "2020-12-30T05:58:33.214609Z"
    }
   },
   "outputs": [
    {
     "data": {
      "text/plain": [
       "array([4414, 4415, 4416, 4417, 4418, 4419, 4420], dtype=int32)"
      ]
     },
     "execution_count": 211,
     "metadata": {},
     "output_type": "execute_result"
    }
   ],
   "source": [
    "oxyz_id"
   ]
  },
  {
   "cell_type": "code",
   "execution_count": 233,
   "metadata": {
    "ExecuteTime": {
     "end_time": "2020-03-29T04:21:47.129235Z",
     "start_time": "2020-03-29T04:21:47.121231Z"
    },
    "deletable": false,
    "editable": false,
    "run_control": {
     "frozen": true
    }
   },
   "outputs": [],
   "source": [
    "# # ids of the leg at rotational joint\n",
    "# # assume body index start at id_xyzs_edges[0]\n",
    "# # leg[k] index start at id_xyzs_edges[k+1], ends at id_xyzs_edges[k+2]\n",
    "# joints = []\n",
    "# for k,(body_rot_id,leg_rot_id) in enumerate(joint_tuples):\n",
    "#     body_rot_id_actual = np.ravel(np.where(body_rot_id))+id_xyzs_edges[0]\n",
    "#     leg_rot_id_actual = np.ravel(np.where(leg_rot_id))+id_xyzs_edges[1+k]\n",
    "#     anchors_id = np.arange(id_xyzs_edges[len(xyz_parts)+k],id_xyzs_edges[len(xyz_parts)+k+1])\n",
    "#     # (left_ids,right_ids,anchors_id)\n",
    "#     joints.append([body_rot_id_actual,leg_rot_id_actual,anchors_id])\n",
    "\n",
    "# joints_list = [[m.tolist() for m in joint] for joint in joints]"
   ]
  },
  {
   "cell_type": "code",
   "execution_count": 212,
   "metadata": {
    "ExecuteTime": {
     "end_time": "2020-12-30T05:58:33.717705Z",
     "start_time": "2020-12-30T05:58:33.699141Z"
    },
    "deletable": false,
    "editable": false
   },
   "outputs": [],
   "source": [
    "def CreateJointLines(id_0, id_1, id_joint):\n",
    "    \"\"\"\n",
    "    return the joint lines(rotation springs) defined by a joint \n",
    "    input:\n",
    "        id_0: m numpy indices of the first points\n",
    "        id_1: n numpy indices of the second points\n",
    "        id_joint: 2 indices of the end points of a joint\n",
    "    \"\"\"\n",
    "    return np.vstack([np.column_stack([id_0, [id_joint[0]]*len(id_0)]), # left  (id_0) - axis_0\n",
    "            np.column_stack([id_1, [id_joint[0]]*len(id_1)]), # left  (id_0) - axis_1\n",
    "            np.column_stack([id_0, [id_joint[1]]*len(id_0)]), # right (id_1) - axis_0\n",
    "            np.column_stack([id_1, [id_joint[1]]*len(id_1)])]) # right (id_1) - axis_1\n",
    "\n",
    "def CreateJointFrictionSpring(id_0, id_1,num_spring_per_mass= 30):\n",
    "    \"\"\"\n",
    "    return the friction springs defined by a joint \n",
    "    input:\n",
    "        id_0: m numpy indices of the first points\n",
    "        id_1: n numpy indices of the second points\n",
    "    \"\"\"\n",
    "    max_size = int((len(id_0)+len(id_1))*num_spring_per_mass/2)\n",
    "    frictionSpring = np.vstack([np.column_stack([[id_0_k]*len(id_1),id_1]) for id_0_k in id_0])\n",
    "    if frictionSpring.shape[0]>max_size:\n",
    "        frictionSpring = frictionSpring[np.random.choice(frictionSpring.shape[0], max_size, replace=False)]\n",
    "    return frictionSpring"
   ]
  },
  {
   "cell_type": "code",
   "execution_count": 213,
   "metadata": {
    "ExecuteTime": {
     "end_time": "2020-12-30T05:58:33.936798Z",
     "start_time": "2020-12-30T05:58:33.915792Z"
    },
    "deletable": false,
    "editable": false
   },
   "outputs": [],
   "source": [
    "class Joint:\n",
    "    def __init__(s, left, right, anchor):\n",
    "        s.left = np.copy(left)  # indices of the left mass\n",
    "        s.right = right  # indices of the right mass\n",
    "        s.anchor = anchor  # indices of the two ends of the center of rotation\n",
    "        s.rotSpring = CreateJointLines(\n",
    "            s.left, s.right, s.anchor)  # rotation spring\n",
    "        s.friSpring = CreateJointFrictionSpring(\n",
    "            s.left, s.right)  # friction spring\n",
    "        s.leftCoord = None\n",
    "        s.righCoord = None\n",
    "\n",
    "    def __repr__(s):\n",
    "        s_rotationSpring = np.array2string(\n",
    "            s.rotSpring, threshold=10, edgeitems=2).replace(\"\\n\", \",\")\n",
    "        s_frictionSpring = np.array2string(\n",
    "            s.friSpring, threshold=10, edgeitems=2).replace(\"\\n\", \",\")\n",
    "\n",
    "        return f\"{{left({len(s.left)}):  {np.array2string(s.left,threshold=10,edgeitems=5)}\\n\" +\\\n",
    "               f\" right({len(s.right)}): {np.array2string(s.right,threshold=10,edgeitems=5)}\\n\" +\\\n",
    "            f\" anchor(2): {s.anchor}\\n\" +\\\n",
    "               f\" leftCoord: {s.leftCoord}\\n\" +\\\n",
    "            f\" righCoord: {s.righCoord}\\n\" +\\\n",
    "            f\" rotSpring({len(s.rotSpring)}):{s_rotationSpring}\\n\" +\\\n",
    "            f\" friSpring({len(s.friSpring)}):{s_frictionSpring}}}\"\n",
    "\n",
    "    def tolist(s):\n",
    "        return [s.left.tolist(), s.right.tolist(), s.anchor.tolist(), int(s.leftCoord), int(s.righCoord)]"
   ]
  },
  {
   "cell_type": "code",
   "execution_count": 214,
   "metadata": {
    "ExecuteTime": {
     "end_time": "2020-12-30T05:58:34.172190Z",
     "start_time": "2020-12-30T05:58:34.150991Z"
    }
   },
   "outputs": [
    {
     "data": {
      "text/plain": [
       "[{left(50):  [1356 1357 1359 1360 1363 ... 2154 2156 2163 2164 2173]\n",
       "  right(53): [2716 2717 2718 2719 2720 ... 2793 2794 2795 2796 2802]\n",
       "  anchor(2): [4350 4351]\n",
       "  leftCoord: 4365\n",
       "  righCoord: 4372\n",
       "  rotSpring(206):[[1356 4350], [1357 4350], ..., [2796 4351], [2802 4351]]\n",
       "  friSpring(1545):[[2145 2759], [2116 2765], ..., [2072 2791], [2057 2754]]},\n",
       " {left(56):  [ 560  561  562  563  564 ... 2214 2215 2220 2221 2226]\n",
       "  right(53): [3230 3231 3232 3233 3234 ... 3307 3308 3309 3310 3316]\n",
       "  anchor(2): [4352 4353]\n",
       "  leftCoord: 4379\n",
       "  righCoord: 4386\n",
       "  rotSpring(218):[[ 560 4352], [ 561 4352], ..., [3310 4353], [3316 4353]]\n",
       "  friSpring(1635):[[ 562 3287], [2207 3265], ..., [ 583 3273], [2178 3246]]},\n",
       " {left(48):  [ 460  463  464  468  470 ... 2272 2273 2274 2275 2277]\n",
       "  right(53): [3744 3745 3746 3747 3748 ... 3821 3822 3823 3824 3830]\n",
       "  anchor(2): [4354 4355]\n",
       "  leftCoord: 4393\n",
       "  righCoord: 4400\n",
       "  rotSpring(202):[[ 460 4354], [ 463 4354], ..., [3824 4355], [3830 4355]]\n",
       "  friSpring(1515):[[ 468 3763], [2269 3765], ..., [2248 3820], [2252 3756]]},\n",
       " {left(51):  [ 908  909  911  914  917 ... 2287 2288 2289 2291 2293]\n",
       "  right(53): [4258 4259 4260 4261 4262 ... 4335 4336 4337 4338 4344]\n",
       "  anchor(2): [4356 4357]\n",
       "  leftCoord: 4407\n",
       "  righCoord: 4414\n",
       "  rotSpring(208):[[ 908 4356], [ 909 4356], ..., [4338 4357], [4344 4357]]\n",
       "  friSpring(1560):[[2137 4263], [2112 4330], ..., [2120 4326], [2121 4303]]}]"
      ]
     },
     "execution_count": 214,
     "metadata": {},
     "output_type": "execute_result"
    }
   ],
   "source": [
    "# ids of the leg at rotational joint\n",
    "# assume body index start at id_xyzs_edges[0]\n",
    "# leg[k] index start at id_xyzs_edges[k+1], ends at id_xyzs_edges[k+2]\n",
    "joints = []\n",
    "for k,(body_rot_id,leg_rot_id) in enumerate(joint_tuples):\n",
    "    body_rot_id_actual = np.ravel(np.where(body_rot_id))+id_xyzs_edges[0]\n",
    "    leg_rot_id_actual = np.ravel(np.where(leg_rot_id))+id_xyzs_edges[1+k]\n",
    "    anchors_id = np.arange(id_xyzs_edges[len(xyz_parts)+k],id_xyzs_edges[len(xyz_parts)+k+1])\n",
    "    # (left_ids,right_ids,anchors_id)\n",
    "    \n",
    "    joints.append(Joint(body_rot_id_actual,leg_rot_id_actual,anchors_id))\n",
    "\n",
    "for k in range(n_joints):\n",
    "    joints[k].leftCoord = id_xyzs_joint_oxyz_start+NUM_POINTS_PER_COORDINATE*2*k\n",
    "    joints[k].righCoord = id_xyzs_joint_oxyz_start+(NUM_POINTS_PER_COORDINATE*2)*k + NUM_POINTS_PER_COORDINATE\n",
    "    \n",
    "joints_list = [joint.tolist() for joint in joints]\n",
    "joints"
   ]
  },
  {
   "cell_type": "code",
   "execution_count": 215,
   "metadata": {
    "ExecuteTime": {
     "end_time": "2020-12-30T05:58:34.411894Z",
     "start_time": "2020-12-30T05:58:34.383887Z"
    },
    "deletable": false,
    "editable": false
   },
   "outputs": [
    {
     "name": "stdout",
     "output_type": "stream",
     "text": [
      "id_joint_keypoints:\n",
      "[[4350 4351]\n",
      " [4352 4353]\n",
      " [4354 4355]\n",
      " [4356 4357]]\n",
      "id_lines_edges:[    0 22027 27314 32601 37888 43175 43179 44013 50268 50457 51717]\n"
     ]
    },
    {
     "data": {
      "text/plain": [
       "[(0, 'body'),\n",
       " (22027, 'leg0'),\n",
       " (27314, 'leg1'),\n",
       " (32601, 'leg2'),\n",
       " (37888, 'leg3'),\n",
       " (43175, 'anchors'),\n",
       " (43179, 'rotsprings'),\n",
       " (44013, 'fricsprings'),\n",
       " (50268, 'oxyz_self_springs'),\n",
       " (50457, 'oxyz_anchor_springs'),\n",
       " (51717, 'the end')]"
      ]
     },
     "execution_count": 215,
     "metadata": {},
     "output_type": "execute_result"
    }
   ],
   "source": [
    "# array of (the index of the axis points of a joint)\n",
    "id_joint_keypoints = np.vstack([joint.anchor for joint in joints])\n",
    "print(f\"id_joint_keypoints:\\n{id_joint_keypoints}\")\n",
    "# [body_lines,leg_lines_0,leg_lines_1,leg_lines_2,leg_lines_3]\n",
    "lines_component_list = [lines + id_start for lines,\n",
    "              id_start in zip(lines_parts, id_xyzs_edges)]\n",
    "\n",
    "lines_joint_rotation = np.vstack([joint.rotSpring for joint in joints])\n",
    "\n",
    "lines_joint_friction = np.vstack([joint.friSpring for joint in joints])\n",
    "# list of all the edges of the assembly\n",
    "\n",
    "lines_all_list = lines_component_list+[id_joint_keypoints,lines_joint_rotation,lines_joint_friction,\n",
    "                                       oxyz_self_springs,oxyz_anchor_springs]\n",
    "lines_all = np.vstack(lines_all_list)\n",
    "\n",
    "id_lines_edges = np.cumsum([0]+[len(lines) for lines in lines_all_list])\n",
    "print(f\"id_lines_edges:{id_lines_edges}\")\n",
    "id_lines_edges[n_parts]\n",
    "\n",
    "list(zip(id_lines_edges,\"body,leg0,leg1,leg2,leg3,anchors,rotsprings,\\\n",
    "fricsprings,oxyz_self_springs,oxyz_anchor_springs,the end\".split(',')))"
   ]
  },
  {
   "cell_type": "code",
   "execution_count": 216,
   "metadata": {
    "ExecuteTime": {
     "end_time": "2020-12-30T05:58:34.631060Z",
     "start_time": "2020-12-30T05:58:34.614537Z"
    }
   },
   "outputs": [],
   "source": [
    "# # np.asarray(pcd_body.colors)[np.sum(body_rot_ids,axis = 0,dtype=bool)]=(0,255,0)\n",
    "# for k in range(4):\n",
    "#     np.asarray(legs[k].colors)[leg_rot_id] = (0,255,0)\n",
    "#     np.asarray(pcd_body.colors)[body_rot_ids[k]] = (0,0,255)"
   ]
  },
  {
   "cell_type": "code",
   "execution_count": 217,
   "metadata": {
    "ExecuteTime": {
     "end_time": "2020-12-30T05:58:34.931711Z",
     "start_time": "2020-12-30T05:58:34.831688Z"
    }
   },
   "outputs": [],
   "source": [
    "pcd_assembly = o3d.geometry.PointCloud()\n",
    "pcd_assembly.points = o3d.utility.Vector3dVector(xyz_all)\n",
    "pcd_assembly.colors = o3d.utility.Vector3dVector(colors_all)\n",
    "\n",
    "lsd_assembly = o3d.geometry.LineSet()\n",
    "lsd_assembly.points = o3d.utility.Vector3dVector(xyz_all)\n",
    "# lsd_assembly.lines = o3d.utility.Vector2iVector(lines_all[id_lines_edges[n_parts]:])\n",
    "\n",
    "lsd_assembly.lines = o3d.utility.Vector2iVector(lines_all)\n",
    "\n",
    "# lsd_assembly.lines = o3d.utility.Vector2iVector(lines_all[id_lines_edges[6]:id_lines_edges[7]]) #joint rotspring\n",
    "# lsd_assembly.lines = o3d.utility.Vector2iVector(lines_all[id_lines_edges[7]:id_lines_edges[8]]) #joint friciton spring\n",
    "\n",
    "\n",
    "# lsd_assembly.lines = o3d.utility.Vector2iVector(oxyz_self_springs)\n",
    "# lsd_assembly.lines = o3d.utility.Vector2iVector(oxyz_anchor_springs)\n",
    "# lsd_assembly.lines = o3d.utility.Vector2iVector(np.vstack((oxyz_anchor_springs,oxyz_self_springs)))\n",
    "\n",
    "lsd_assembly.colors = o3d.utility.Vector3dVector((colors_all[lines_all[:,0]]+colors_all[lines_all[:,1]])/2)\n",
    "# o3d.visualization.draw_geometries([pcd_assembly,lsd_assembly,coord_frame]+coord_joint_left)\n",
    "\n",
    "# o3d.visualization.draw_geometries_with_animation_callback([pcd_assembly,lsd_assembly,coord_body]+coord_joint_left,rotate_view)\n"
   ]
  },
  {
   "cell_type": "code",
   "execution_count": 218,
   "metadata": {
    "ExecuteTime": {
     "end_time": "2020-12-30T05:58:35.089780Z",
     "start_time": "2020-12-30T05:58:35.082764Z"
    },
    "deletable": false,
    "editable": false
   },
   "outputs": [
    {
     "name": "stdout",
     "output_type": "stream",
     "text": [
      "#springs =51717\n",
      "#mass =4421\n"
     ]
    }
   ],
   "source": [
    "print(\"#springs =%i\"%(len(lines_all)))\n",
    "print(\"#mass =%i\"%(len(xyz_all)))\n",
    "\n",
    "# # KDTree for nearest neighbor search\n",
    "# pcd_assembly_tree = o3d.geometry.KDTreeFlann(pcd_assembly)\n",
    "\n",
    "# # o3d.visualization.draw_geometries([pcd_leg_d,coord_frame])\n",
    "\n",
    "# neighbors = [np.asarray(pcd_assembly_tree.search_radius_vector_3d(point, radius_knn)[1])\n",
    "#              for point in xyz_all]\n",
    "# # neighbors = [np.asarray(pcd_assembly_tree.search_hybrid_vector_3d(point, radius_knn,max_nn = 27))[1] for point in xyz_all]\n",
    "\n",
    "# # check the distance of the springs\n",
    "# fig, ax = plt.subplots(figsize=(20,2))\n",
    "# hist,bin_edges,_ =ax.hist(np.linalg.norm(xyz_all[lines_all[:,0]] - xyz_all[lines_all[:,1]],axis=1),bins=200)\n",
    "# ax.text(bin_edges[0],0,f\"{bin_edges[0]:.1f}\",ha=\"center\",va=\"top\",fontsize=\"x-large\",color='r')\n",
    "# ax.text(bin_edges[-1],0,f\"{bin_edges[-1]:.1f}\",ha=\"center\",va=\"top\",fontsize=\"x-large\",color='r')\n",
    "# ax.set_xlabel(\"spring length\")\n",
    "# ax.set_ylabel(\"count\")\n",
    "# plt.show()\n",
    "\n",
    "# neighbor_counts = np.array([len(neighbor) for neighbor in neighbors])\n",
    "# print(f\"mean neighbors ={np.mean(neighbor_counts)}\")\n",
    "# fig, ax = plt.subplots(figsize=(20,2))\n",
    "# hist,bin_edges,patches =ax.hist(neighbor_counts,bins=28,range=(0,28))\n",
    "# ax.set_xlabel(\"#neighbors (including self)\")\n",
    "# ax.set_ylabel(\"count\")\n",
    "# # ax.text(surface_neighbor_threshold,0,f\"{surface_neighbor_threshold}\",ha=\"center\",va=\"top\",fontsize=\"x-large\",color='r')\n",
    "# plt.show()\n",
    "\n",
    "\n",
    "\n",
    "# # average divergence of the neighbors from a point\n",
    "# average_divergence = np.linalg.norm([xyz_all[n].mean(axis=0)-xyz_all[n[0]] for n in neighbors],axis=1)\n",
    "# fig, ax = plt.subplots(figsize=(20,2))\n",
    "# hist,bin_edges,patches =ax.hist(average_divergence,bins=100)\n",
    "# ax.set_xlabel(\"mean divergence of neighbors (including self)\")\n",
    "# ax.set_ylabel(\"count\")\n",
    "# plt.show()\n",
    "\n",
    "# # is_suface is boolean array to specify wether the point is near the surface, useful for applying contraints\n",
    "# surface_neighbor_threshold = int(max_nn*0.9)\n",
    "# is_suface = np.logical_or(average_divergence>0.6*radius_poisson,neighbor_counts<surface_neighbor_threshold)\n",
    "# is_suface[id_xyzs_edges[n_parts]:]=False # only body parts are considered\n",
    "# print(f\"%surface points = {is_suface.sum()/len(is_suface)*100:.0f}%\")"
   ]
  },
  {
   "cell_type": "code",
   "execution_count": 219,
   "metadata": {
    "ExecuteTime": {
     "end_time": "2020-12-30T05:58:35.310000Z",
     "start_time": "2020-12-30T05:58:35.300998Z"
    }
   },
   "outputs": [],
   "source": [
    "is_suface = np.ones(len(xyz_all),dtype=bool)\n",
    "\n",
    "# is_suface = np.zeros(len(xyz_all),dtype=bool)\n",
    "# is_suface[id_xyzs_edges[0]:id_xyzs_edges[1]]=is_surface_body\n",
    "# for k in range(4):\n",
    "#     is_suface[id_xyzs_edges[1+k]:id_xyzs_edges[2+k]]=is_surface_leg\n",
    "\n",
    "# colors_all_check = np.copy(colors_all)\n",
    "# colors_all_check[is_suface]=(1,0.2,0.2)\n",
    "# colors_all_check[~is_suface]=(0,0,0.1)\n",
    "\n",
    "# pcd_assembly.colors = o3d.utility.Vector3dVector(colors_all_check)\n",
    "# lsd_assembly.colors = o3d.utility.Vector3dVector((colors_all_check[lines_all[:,0]]+colors_all_check[lines_all[:,1]])/2)\n",
    "\n",
    "# o3d.visualization.draw_geometries([pcd_assembly,coord_frame]+coord_joint_left)\n",
    "\n",
    "# o3d.visualization.draw_geometries([pcd_assembly])\n",
    "\n",
    "# o3d.visualization.draw_geometries([pcd_assembly,lsd_assembly])\n",
    "\n",
    "# o3d.visualization.draw_geometries([pcd_assembly,coord_frame]+coord_joint_left)\n",
    "\n",
    "# o3d.visualization.draw_geometries([pcd_assembly,lsd_assembly,coord_frame]+coord_joint_left)"
   ]
  },
  {
   "cell_type": "markdown",
   "metadata": {},
   "source": [
    "# export assembly"
   ]
  },
  {
   "cell_type": "code",
   "execution_count": 220,
   "metadata": {
    "ExecuteTime": {
     "end_time": "2020-12-30T05:58:38.689240Z",
     "start_time": "2020-12-30T05:58:35.677675Z"
    }
   },
   "outputs": [
    {
     "name": "stdout",
     "output_type": "stream",
     "text": [
      "[-0.18676242 -0.17285726  0.        ]\n",
      "[0.18676242 0.17285726 0.19133422]\n",
      "(4421, 3)\n",
      "(51717, 2)\n"
     ]
    }
   ],
   "source": [
    "# transoformed so that z is pointed up\n",
    "xyz_all_trans = applyTransform(xyz_all,\n",
    "                               np.array([[0, 1, 0],\n",
    "                                         [0, 0, 1],\n",
    "                                         [1, 0, 0]]).T)\n",
    "\n",
    "# xyz_all_trans = xyz_all.copy() # stand pose\n",
    "\n",
    "min_bound = xyz_all_trans.min(axis=0)\n",
    "\n",
    "# transoformed ofset scaled mm->m\n",
    "xyz_all_trans = (xyz_all_trans + np.array([0, 0, 0-min_bound[-1]+0]))/1000\n",
    "\n",
    "# rotation about z\n",
    "# xyz_all_trans =applyTransform(xyz_all_trans, rotateFromVec([0,0,1],-20*np.pi/180))\n",
    "\n",
    "\n",
    "pcd_assembly = o3d.geometry.PointCloud(\n",
    "    o3d.utility.Vector3dVector(xyz_all_trans))\n",
    "pcd_assembly.colors = o3d.utility.Vector3dVector(colors_all)\n",
    "lsd_assembly = o3d.geometry.LineSet(\n",
    "    o3d.utility.Vector3dVector(xyz_all_trans),\n",
    "    o3d.utility.Vector2iVector(lines_all),\n",
    ")\n",
    "lsd_assembly.colors = o3d.utility.Vector3dVector(colors_all[lines_all].mean(axis=1))\n",
    "\n",
    "coord_frame_mm = o3d.geometry.TriangleMesh.create_coordinate_frame(\n",
    "    size=0.06, origin=[0, 0, 0])\n",
    "o3d.visualization.draw_geometries([pcd_assembly,lsd_assembly, coord_frame_mm])\n",
    "\n",
    "data = [\n",
    "    xyz_all_trans.tolist(),\n",
    "    lines_all.tolist(),\n",
    "    is_suface.tolist(),\n",
    "    id_xyzs_edges.tolist(),\n",
    "    id_lines_edges.tolist(),\n",
    "    colors_all.tolist(),\n",
    "    joints_list\n",
    "]\n",
    "print(xyz_all_trans.min(axis=0))\n",
    "print(xyz_all_trans.max(axis=0))\n",
    "print(xyz_all_trans.shape)\n",
    "print(lines_all.shape)\n",
    "\n",
    "\n",
    "# https://stackoverflow.com/questions/43442194/how-do-i-read-and-write-with-msgpack\n",
    "\n",
    "# Write msgpack file\n",
    "with open('../data.msgpack', 'wb') as outfile:\n",
    "    msgpack.pack(data, outfile)"
   ]
  },
  {
   "cell_type": "code",
   "execution_count": 221,
   "metadata": {
    "ExecuteTime": {
     "end_time": "2020-12-30T05:58:38.720114Z",
     "start_time": "2020-12-30T05:58:38.693037Z"
    }
   },
   "outputs": [
    {
     "data": {
      "text/plain": [
       "(51717, 3)"
      ]
     },
     "execution_count": 221,
     "metadata": {},
     "output_type": "execute_result"
    }
   ],
   "source": [
    "colors_all[lines_all].mean(axis=1).shape"
   ]
  },
  {
   "cell_type": "code",
   "execution_count": 222,
   "metadata": {
    "ExecuteTime": {
     "end_time": "2020-12-30T05:58:40.007016Z",
     "start_time": "2020-12-30T05:58:39.704655Z"
    }
   },
   "outputs": [
    {
     "name": "stdout",
     "output_type": "stream",
     "text": [
      "51717\n"
     ]
    }
   ],
   "source": [
    "# Read msgpack file\n",
    "with open('../data.msgpack','rb') as data_file:\n",
    "    # data_loaded = json.load(data_file)\n",
    "    data_loaded = msgpack.unpack(data_file)\n",
    "print(len(data_loaded[1]))"
   ]
  },
  {
   "cell_type": "code",
   "execution_count": 58,
   "metadata": {
    "ExecuteTime": {
     "end_time": "2020-12-29T06:57:56.642010Z",
     "start_time": "2020-12-29T06:57:56.624880Z"
    }
   },
   "outputs": [],
   "source": [
    "# x = b'\\x01\\x02'\n",
    "\n",
    "# dt = np.dtype(np.uint16)\n",
    "# dt = dt.newbyteorder('>')\n",
    "# np.frombuffer(x,dtype=dt)"
   ]
  },
  {
   "cell_type": "code",
   "execution_count": null,
   "metadata": {
    "deletable": false,
    "editable": false,
    "run_control": {
     "frozen": true
    }
   },
   "outputs": [],
   "source": [
    "mesh = trimesh.load(\"../../mesh/leg_simplified.stl\", use_embree=True)\n",
    "mesh_dict = mesh.to_dict()\n",
    "\n",
    "bounds,xyz_grid_edge,xyz_grid_inside = voxelizeMesh(mesh)\n",
    "##############################\n",
    "# print(mesh.is_watertight)\n",
    "# # make mesh white- ish\n",
    "# mesh.visual.face_colors = (255,255,255,255)\n",
    "# mesh.show()\n",
    "\n",
    "####################################\n",
    "n_jobs = int(multiprocessing.cpu_count()*0.2)\n",
    "total_jobs = n_jobs*2\n",
    "result = Parallel(n_jobs=n_jobs)(delayed(sample_helper)(\n",
    "    mesh_dict, xyz_grid_edge, xyz_grid_inside) for k in range(total_jobs))\n",
    "\n",
    "# find the leg that has the least deviation from the centerline in the first section\n",
    "mse_list = [np.linalg.norm(np.mean(v[v[:,0]<=0],axis=0)[1:]) for v in result]\n",
    "vertices = result[np.argmin(mse_list)]\n",
    "\n",
    "with np.printoptions(precision=3, suppress=True):\n",
    "    print(\"COM at 1st section:\",np.mean(vertices[vertices[:,0]<=0],axis=0))\n",
    "    print(\"COM:\",np.mean(vertices,axis=0))\n",
    "    \n",
    "    \n",
    "#########################################\n",
    "signed_distance = trimesh.proximity.signed_distance(mesh,vertices)\n",
    "nsd = normalize(signed_distance) # normalized_signed_distance\n",
    "\n",
    "pcd_o3d = o3d.geometry.PointCloud(o3d.utility.Vector3dVector(vertices))\n",
    "\n",
    "cmap = plt.cm.get_cmap('plasma')\n",
    "pcd_o3d.colors = o3d.utility.Vector3dVector(cmap(nsd)[:,:3])\n",
    "\n",
    "# KDTree for nearest neighbor search\n",
    "pcd_tree = o3d.geometry.KDTreeFlann(pcd_o3d)\n",
    "neighbors = [np.asarray(pcd_tree.search_hybrid_vector_3d(point, radius_knn,max_nn = max_nn)[1]) for point in vertices]\n",
    "edges = np.vstack([GetEdges(neighbor[:max_nn]) for neighbor in neighbors])\n",
    "# trim springs outside the mesh\n",
    "mid_points = GetMidpoints(vertices,edges)\n",
    "is_inside=mesh.ray.contains_points(mid_points)\n",
    "edges = edges[is_inside]\n",
    "\n",
    "\n",
    "lsd_o3d = o3d.geometry.LineSet(\n",
    "    o3d.utility.Vector3dVector(vertices), \n",
    "    o3d.utility.Vector2iVector(edges))\n",
    "    \n",
    "o3d.visualization.draw_geometries([pcd_o3d,lsd_o3d, coord_frame])"
   ]
  },
  {
   "cell_type": "code",
   "execution_count": null,
   "metadata": {},
   "outputs": [],
   "source": []
  },
  {
   "cell_type": "code",
   "execution_count": null,
   "metadata": {},
   "outputs": [],
   "source": []
  }
 ],
 "metadata": {
  "kernelspec": {
   "display_name": "Python 3",
   "language": "python",
   "name": "python3"
  },
  "language_info": {
   "codemirror_mode": {
    "name": "ipython",
    "version": 3
   },
   "file_extension": ".py",
   "mimetype": "text/x-python",
   "name": "python",
   "nbconvert_exporter": "python",
   "pygments_lexer": "ipython3",
   "version": "3.8.6"
  }
 },
 "nbformat": 4,
 "nbformat_minor": 2
}
