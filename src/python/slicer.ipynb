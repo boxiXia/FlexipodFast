{
 "cells": [
  {
   "cell_type": "markdown",
   "metadata": {},
   "source": [
    "# Utility"
   ]
  },
  {
   "cell_type": "code",
   "execution_count": 1,
   "metadata": {
    "ExecuteTime": {
     "end_time": "2021-01-07T02:37:00.631393Z",
     "start_time": "2021-01-07T02:36:56.307078Z"
    }
   },
   "outputs": [
    {
     "name": "stdout",
     "output_type": "stream",
     "text": [
      "open3d :0.12.0\n",
      "trimesh:3.8.19\n",
      "numba  :0.52.0\n",
      "Help on module robot_utils:\n",
      "\n",
      "NAME\n",
      "    robot_utils\n",
      "\n",
      "CLASSES\n",
      "    builtins.dict(builtins.object)\n",
      "        VolumeMesh\n",
      "    \n",
      "    class VolumeMesh(builtins.dict)\n",
      "     |  VolumeMesh(vertices, lines, triangles, cmap='hot')\n",
      "     |  \n",
      "     |  contains vertices, lines and triangles of a volume mesh\n",
      "     |  the class is inherited form dict, and can be extended with custom key:value pair\n",
      "     |  \n",
      "     |  Method resolution order:\n",
      "     |      VolumeMesh\n",
      "     |      builtins.dict\n",
      "     |      builtins.object\n",
      "     |  \n",
      "     |  Methods defined here:\n",
      "     |  \n",
      "     |  __init__(self, vertices, lines, triangles, cmap='hot')\n",
      "     |      Initialize self.  See help(type(self)) for accurate signature.\n",
      "     |  \n",
      "     |  copy(self, cmap=None)\n",
      "     |      D.copy() -> a shallow copy of D\n",
      "     |  \n",
      "     |  reColor(self, cmap, update_signed_distance=False)\n",
      "     |      update the vertex and lines colors\n",
      "     |  \n",
      "     |  signedDistance(self, test_points=None, normalized=True)\n",
      "     |      return signed distance from surface of test_points(default vertices),\n",
      "     |      normalize if normalized==True\n",
      "     |  \n",
      "     |  ----------------------------------------------------------------------\n",
      "     |  Readonly properties defined here:\n",
      "     |  \n",
      "     |  lsd\n",
      "     |      return o3d lineset\n",
      "     |  \n",
      "     |  mesh\n",
      "     |      return trimesh mesh\n",
      "     |  \n",
      "     |  pcd\n",
      "     |      return o3d pointcloud\n",
      "     |  \n",
      "     |  ----------------------------------------------------------------------\n",
      "     |  Data descriptors defined here:\n",
      "     |  \n",
      "     |  __dict__\n",
      "     |      dictionary for instance variables (if defined)\n",
      "     |  \n",
      "     |  __weakref__\n",
      "     |      list of weak references to the object (if defined)\n",
      "     |  \n",
      "     |  lines\n",
      "     |      return lines/edges (nx2 int np.array)\n",
      "     |  \n",
      "     |  triangles\n",
      "     |      return triangle faces (nx3 int np.array)\n",
      "     |  \n",
      "     |  vertices\n",
      "     |      return vertices (nx3 float np.array)\n",
      "     |  \n",
      "     |  ----------------------------------------------------------------------\n",
      "     |  Methods inherited from builtins.dict:\n",
      "     |  \n",
      "     |  __contains__(self, key, /)\n",
      "     |      True if the dictionary has the specified key, else False.\n",
      "     |  \n",
      "     |  __delitem__(self, key, /)\n",
      "     |      Delete self[key].\n",
      "     |  \n",
      "     |  __eq__(self, value, /)\n",
      "     |      Return self==value.\n",
      "     |  \n",
      "     |  __ge__(self, value, /)\n",
      "     |      Return self>=value.\n",
      "     |  \n",
      "     |  __getattribute__(self, name, /)\n",
      "     |      Return getattr(self, name).\n",
      "     |  \n",
      "     |  __getitem__(...)\n",
      "     |      x.__getitem__(y) <==> x[y]\n",
      "     |  \n",
      "     |  __gt__(self, value, /)\n",
      "     |      Return self>value.\n",
      "     |  \n",
      "     |  __iter__(self, /)\n",
      "     |      Implement iter(self).\n",
      "     |  \n",
      "     |  __le__(self, value, /)\n",
      "     |      Return self<=value.\n",
      "     |  \n",
      "     |  __len__(self, /)\n",
      "     |      Return len(self).\n",
      "     |  \n",
      "     |  __lt__(self, value, /)\n",
      "     |      Return self<value.\n",
      "     |  \n",
      "     |  __ne__(self, value, /)\n",
      "     |      Return self!=value.\n",
      "     |  \n",
      "     |  __repr__(self, /)\n",
      "     |      Return repr(self).\n",
      "     |  \n",
      "     |  __reversed__(self, /)\n",
      "     |      Return a reverse iterator over the dict keys.\n",
      "     |  \n",
      "     |  __setitem__(self, key, value, /)\n",
      "     |      Set self[key] to value.\n",
      "     |  \n",
      "     |  __sizeof__(...)\n",
      "     |      D.__sizeof__() -> size of D in memory, in bytes\n",
      "     |  \n",
      "     |  clear(...)\n",
      "     |      D.clear() -> None.  Remove all items from D.\n",
      "     |  \n",
      "     |  get(self, key, default=None, /)\n",
      "     |      Return the value for key if key is in the dictionary, else default.\n",
      "     |  \n",
      "     |  items(...)\n",
      "     |      D.items() -> a set-like object providing a view on D's items\n",
      "     |  \n",
      "     |  keys(...)\n",
      "     |      D.keys() -> a set-like object providing a view on D's keys\n",
      "     |  \n",
      "     |  pop(...)\n",
      "     |      D.pop(k[,d]) -> v, remove specified key and return the corresponding value.\n",
      "     |      If key is not found, d is returned if given, otherwise KeyError is raised\n",
      "     |  \n",
      "     |  popitem(self, /)\n",
      "     |      Remove and return a (key, value) pair as a 2-tuple.\n",
      "     |      \n",
      "     |      Pairs are returned in LIFO (last-in, first-out) order.\n",
      "     |      Raises KeyError if the dict is empty.\n",
      "     |  \n",
      "     |  setdefault(self, key, default=None, /)\n",
      "     |      Insert key with a value of default if key is not in the dictionary.\n",
      "     |      \n",
      "     |      Return the value for key if key is in the dictionary, else default.\n",
      "     |  \n",
      "     |  update(...)\n",
      "     |      D.update([E, ]**F) -> None.  Update D from dict/iterable E and F.\n",
      "     |      If E is present and has a .keys() method, then does:  for k in E: D[k] = E[k]\n",
      "     |      If E is present and lacks a .keys() method, then does:  for k, v in E: D[k] = v\n",
      "     |      In either case, this is followed by: for k in F:  D[k] = F[k]\n",
      "     |  \n",
      "     |  values(...)\n",
      "     |      D.values() -> an object providing a view on D's values\n",
      "     |  \n",
      "     |  ----------------------------------------------------------------------\n",
      "     |  Class methods inherited from builtins.dict:\n",
      "     |  \n",
      "     |  fromkeys(iterable, value=None, /) from builtins.type\n",
      "     |      Create a new dictionary with keys from iterable and values set to value.\n",
      "     |  \n",
      "     |  ----------------------------------------------------------------------\n",
      "     |  Static methods inherited from builtins.dict:\n",
      "     |  \n",
      "     |  __new__(*args, **kwargs) from builtins.type\n",
      "     |      Create and return a new object.  See help(type) for accurate signature.\n",
      "     |  \n",
      "     |  ----------------------------------------------------------------------\n",
      "     |  Data and other attributes inherited from builtins.dict:\n",
      "     |  \n",
      "     |  __hash__ = None\n",
      "\n",
      "FUNCTIONS\n",
      "    ColorizePcdAndLsd(nsd, pcd, lsd, cmap)\n",
      "        colorize the pcd (o3d pointcloud) and its corresponding lsd (o3d lineset) \n",
      "        given nsd (normalized signed distance) and cmap (plt colormap)\n",
      "        Input:\n",
      "            nsd: a normalized signed distance of the pcd, normalized to [0,1]\n",
      "            pcd: o3d point cloud, representing the mass points\n",
      "            lsd: o3d lineset, representing the springs\n",
      "            cmap: plt colormap, ref: https://matplotlib.org/tutorials/colors/colormaps.html\n",
      "    \n",
      "    applyTransform(xyz, t)\n",
      "        apply transformation matrix t to 3d points xyz,\n",
      "        input:\n",
      "            xyz: nx3 np array of 3d points\n",
      "            t: if transform.shape=(3,3): rotation\n",
      "               if transform.shape=(4,4): homogegenious transformation (rotation+translation)\n",
      "        output:\n",
      "            nx3 np array of the transformed xyz points\n",
      "    \n",
      "    axisAngleRotation(vec, angle)\n",
      "        return a rotation matrix of axis angle rotation represented by\n",
      "        a homogeneous transformation matrix (4x4) \n",
      "        input:\n",
      "            vec: (x,y,z) of the rotation axis\n",
      "            angle: [rad] angle of rotation about the rotation axis\n",
      "        return:\n",
      "            (4x4) rotation matrix\n",
      "    \n",
      "    createGrid(bounds=[[-1, -1, -1], [1, 1, 1]], dr=0.1)\n",
      "        retrun a grid of points shaped (nx,ny,nz,3) given bounds and discritization radius\n",
      "        where nx,ny,nz are the number of points in x,y,z direction\n",
      "        the bounds are updated and also returned\n",
      "        input:\n",
      "            bounds: [(x_low,y_low,z_low),(x_high,y_high,z_high)]\n",
      "            dr: discretization radius of the grid\n",
      "        output:\n",
      "            xyz_grid: a grid of points numpy array of (nx,ny,nz,3)\n",
      "            bounds: updated bounds\n",
      "    \n",
      "    generateGmsh(in_file_name: str, out_file_name: str = None, gmsh_args: list = [], gmsh_args_3d: list = [], dim: int = 3, gui=False)\n",
      "        return a volume mesh or suface mesh from CAD model\n",
      "        Input:\n",
      "        ------------------\n",
      "        in_file_name : str\n",
      "            Location of the file to be imported, file type should be \n",
      "            ['.brep', '.stp', '.step', '.igs', '.iges',\n",
      "            '.bdf', '.msh', '.inp', '.diff', '.mesh']\n",
      "        out_file_name : str\n",
      "            Location of the file to be imported, file type should be\n",
      "            '.msh' for 2D/3D mesh or '.stl' for 2D mesh only\n",
      "        gmsh_args : (n, 2) list\n",
      "          List of (parameter, value) pairs to be passed to\n",
      "          gmsh.option.setNumber, called before generating 2d mesh\n",
      "        gmsh_args_3d : (n, 2) list\n",
      "          additional 3d specific list of (parameter, value) pairs to be \n",
      "          passed to gmsh.option.setNumber, called before generating 3d mesh\n",
      "        dim : int mesh dimension: 3 for volume mesh, 2 for surface mesh\n",
      "        \n",
      "        output:\n",
      "        -------------------\n",
      "        a mesh (meshio.Mesh), and out_file_name\n",
      "        \n",
      "        note: \n",
      "        modified from: ttps://github.com/mikedh/trimesh/blob/master/trimesh/interfaces/gmsh.py \n",
      "        for gmsh_arg, refer to: https://gmsh.info/doc/texinfo/gmsh.html#Mesh-options-list\n",
      "        mesh algorithm: # https://gmsh.info/doc/texinfo/gmsh.html#Choosing-the-right-unstructured-algorithm\n",
      "    \n",
      "    getEdges(neighbor: numpy.ndarray, self_id: numpy.ndarray = None, return_edge_counts: numpy.ndarray = False)\n",
      "        return the edges given neighbor\n",
      "        input:\n",
      "            neighbor: nxm int np.array, assume n points, \n",
      "            self_id: if self_id is none, assume: each point has m-1 neighbors,\n",
      "                neighbor[k,0] is the index of point k iteself, the neighbor points are assorted by distance\n",
      "                if self_id is specified, then each point has m neighbors\n",
      "        returns:\n",
      "            edges: nx2 int np.array, of the edges\n",
      "    \n",
      "    getMidpoints(points: numpy.ndarray, epid: numpy.ndarray)\n",
      "        return the xyzs of the midpoints given\n",
      "        points: (nx3 double np.array)\n",
      "        epid: endpoints indices (nx2 int np.array)\n",
      "    \n",
      "    getNeighborCounts(unique_edges: numpy.ndarray)\n",
      "        return number of neighboring points connected by unique_edges\n",
      "        input:\n",
      "            unique_edges:  np.ndarray, unique edges (non-repeating)\n",
      "        output:\n",
      "            neighbor_counts:np.ndarray, number of neighboring points sorted by index\n",
      "    \n",
      "    getUniqueEdges(edges: numpy.ndarray)\n",
      "        return unique edges given a possibly non-unique edges\n",
      "        input:\n",
      "            edges:  np.ndarray, left and right vertex indices (nx2) \n",
      "        output:\n",
      "            unique_edges: np.ndarray, unique edges\n",
      "            edge_counts: np.ndarray, count of unique edges\n",
      "    \n",
      "    momentOfInertia(v: numpy.ndarray)\n",
      "        return moment of inertia of a given vertices\n",
      "    \n",
      "    normalizeMinMax(v)\n",
      "        normalize a vector v to [0,1]\n",
      "    \n",
      "    normalizeSignedDistance(signed_distance, zero_map_to=0.5)\n",
      "        Normalize to 0-1\n",
      "        min-0 map to 0-0.5\n",
      "        0-max map to 0.5-1\n",
      "    \n",
      "    o3dShow(geometry, **kwargs)\n",
      "    \n",
      "    rotate_view(vis)\n",
      "    \n",
      "    translation(vec, h=None)\n",
      "        apply translation to a (4x4) homogeneous transformation matrix h\n",
      "        input:\n",
      "            vec: (x,y,z) of the rotation axis\n",
      "            h: a (4x4) homogeneous transformation matrix\n",
      "        return:\n",
      "            the translated homogeneous transformation matrix h\n",
      "    \n",
      "    trimeshToO3dMesh(mesh)\n",
      "        convert trimesh mesh object to open3d mesh object\n",
      "    \n",
      "    uniformRandomAroundPoints(points, radius, num_per_grid=50)\n",
      "        sample random points uniformly (along xyz) around an arry of n points (n,3)\n",
      "        input:\n",
      "            points: (nx3) numpy array of xyz\n",
      "            radius: (float scalar) the radius along x,y,z direction to randomly sample the points\n",
      "            num_per_grid:(float scalar) number of random points to sample per specified point\n",
      "    \n",
      "    vmeshSummary(vmesh)\n",
      "        summerize the volume mesh generated by the gmsh and read from the meshio\n",
      "\n",
      "DATA\n",
      "    coord_frame = TriangleMesh with 1134 points and 2240 triangles.\n",
      "\n",
      "FILE\n",
      "    d:\\repo\\experimental_flexipod\\src\\python\\robot_utils.py\n",
      "\n",
      "\n"
     ]
    }
   ],
   "source": [
    "import msgpack\n",
    "import open3d as o3d\n",
    "import trimesh\n",
    "import point_cloud_utils as pcu  # downsampling\n",
    "from IPython.display import display, Math\n",
    "import numpy as np\n",
    "import matplotlib.pyplot as plt\n",
    "import numba\n",
    "from joblib import Parallel, delayed  # multiprocessing\n",
    "import multiprocessing\n",
    "import copy\n",
    "from scipy.ndimage.morphology import binary_dilation, binary_erosion\n",
    "from scipy.spatial.transform import Rotation\n",
    "import tempfile\n",
    "import gmsh\n",
    "import meshio\n",
    "import itertools\n",
    "import shutil  # file copying\n",
    "import networkx as nx # graph representation\n",
    "plt.style.use('seaborn-whitegrid')\n",
    "%config InlineBackend.figure_format = 'retina'\n",
    "\n",
    "print(f\"open3d :{o3d.__version__}\")\n",
    "print(f\"trimesh:{trimesh.__version__}\")\n",
    "print(f\"numba  :{numba.__version__}\")\n",
    "###########################################################\n",
    "from robot_utils import *\n",
    "\n",
    "import robot_utils\n",
    "help(robot_utils)"
   ]
  },
  {
   "cell_type": "code",
   "execution_count": 2,
   "metadata": {
    "ExecuteTime": {
     "end_time": "2021-01-07T02:38:01.771672Z",
     "start_time": "2021-01-07T02:38:01.750658Z"
    }
   },
   "outputs": [
    {
     "name": "stdout",
     "output_type": "stream",
     "text": [
      "25.980762113533157\n",
      "10\n",
      "4.0\n",
      "joint_overlap:0.0\n"
     ]
    }
   ],
   "source": [
    "########## discretization parameters ##############\n",
    "# radius_poisson = float(10) # radius for the poisson sampling\n",
    "radius_poisson = float(10) # radius for the poisson sampling\n",
    "radius_knn = radius_poisson*np.sqrt(3)*1.5\n",
    "# max_nn = 28 # maximun number of neighbors for a mass point (including self)\n",
    "max_nn = int(28)\n",
    "inv_scale_grid = float(2.5/np.sqrt(3))\n",
    "# inv_scale_grid = 1\n",
    "radius_grid = radius_poisson/np.sqrt(3)/inv_scale_grid # radius for voxelizing before poisson sampling\n",
    "# radius_grid = radius_poisson/2.5\n",
    "\n",
    "num_per_grid = int(32/(inv_scale_grid**3))\n",
    "print(radius_knn)\n",
    "print(num_per_grid)\n",
    "print(radius_grid)\n",
    "\n",
    "half_joint_overlap = radius_poisson * 0\n",
    "joint_overlap = half_joint_overlap*2\n",
    "print(f\"joint_overlap:{joint_overlap}\")\n",
    "\n",
    "# general argument\n",
    "gmsh_args = [\n",
    "        (\"Mesh.Algorithm\", 6), # 2D mesh algorithm (1: MeshAdapt, 2: Automatic, 3: Initial mesh only, 5: Delaunay, 6: Frontal-Delaunay, 7: BAMG, 8: Frontal-Delaunay for Quads, 9: Packing of Parallelograms)\n",
    "        (\"Mesh.Algorithm3D\", 10), # 3D mesh algorithm (1: Delaunay, 3: Initial mesh only, 4: Frontal, 7: MMG3D, 9: R-tree, 10: HXT)\n",
    "        (\"Mesh.MeshSizeExtendFromBoundary\", 1),\n",
    "        (\"Mesh.MeshSizeFromPoints\", 1),\n",
    "        (\"Mesh.MeshSizeFromCurvature\", 0),\n",
    "        (\"Mesh.OptimizeNetgen\",0), # Optimize the mesh using Netgen to improve the quality of tetrahedral elements\n",
    "        (\"Mesh.OptimizeThreshold\",0.5), # Optimize the mesh using Netgen to improve the quality of tetrahedral elements\n",
    "\n",
    "        (\"Mesh.VolumeEdges\",1), # Display edges of volume mesh\n",
    "        (\"Mesh.VolumeFaces\",0), # Display faces of volume mesh\n",
    "        (\"Mesh.SurfaceFaces\",1), # Display faces of surface mesh?\n",
    "        (\"Mesh.Smoothing\",5), # Number of smoothing steps applied to the final mesh\n",
    "#         (\"Mesh.SmoothNormals\",0), # Smooth the mesh normals? default 0\n",
    "        (\"Mesh.Binary\",1), # Write mesh files in binary format (if possible)\n",
    "    \n",
    "#         (\"Mesh.MinimumCirclePoints\",4), # Minimum number of nodes used to mesh circles and ellipses\n",
    "#         (\"Mesh.MinimumCurvePoints\",2), # Minimum number of points used to mesh curves other than lines, circles and ellipses\n",
    "#         (\"Mesh.MinimumElementsPerTwoPi\",4), # Minimum number of elements per 2 * Pi radians when the mesh size is adapted to the curvature\n",
    "    \n",
    "        (\"General.Verbosity\",0), # Level of information printed during processing (0: no information), default:5\n",
    "        (\"General.Terminal\",0), # Should information be printed on the terminal (if available)\n",
    "#         (\"Mesh.RandomSeed\",0), # Seed of pseudo-random number generator\n",
    "#         (\"Mesh.QualitySup\",0.5), # Only display elements whose quality measure is smaller than QualitySup\n",
    "]\n",
    "\n",
    "# 2D specific argument\n",
    "gmsh_args_2d = [\n",
    "        (\"Mesh.MeshSizeMin\", radius_poisson*1.2),\n",
    "        (\"Mesh.MeshSizeMax\", radius_poisson*1.2),\n",
    "] \n",
    "\n",
    "# 3D specific argument\n",
    "gmsh_args_3d = [\n",
    "        (\"Mesh.MeshSizeMin\", radius_poisson*1.0),\n",
    "        (\"Mesh.MeshSizeMax\", radius_poisson*1.4),\n",
    "]\n",
    "\n",
    "gmsh_args = gmsh_args+gmsh_args_2d # combined\n",
    "\n",
    "# # # discretize body\n",
    "# # in_file_name: str = \"../../mesh/soft_body_simplified.step\"\n",
    "# # out_file_name: str = \"../../mesh/soft_body_simplified.msh\"\n",
    "# in_file_name: str = \"../../mesh/leg_simplified.step\"\n",
    "# out_file_name: str = \"../../mesh/leg_simplified.msh\"\n",
    "# vmesh,_= generateGmsh(in_file_name,out_file_name,dim=3,gui=True)\n",
    "# # print(vmesh)\n",
    "# vmeshSummary(vmesh)"
   ]
  },
  {
   "cell_type": "markdown",
   "metadata": {},
   "source": [
    "# Leg generation\n",
    "\n",
    "Only need to run once"
   ]
  },
  {
   "cell_type": "code",
   "execution_count": 2,
   "metadata": {
    "ExecuteTime": {
     "end_time": "2021-01-07T02:20:36.690410Z",
     "start_time": "2021-01-07T02:20:35.128569Z"
    }
   },
   "outputs": [],
   "source": [
    "import cadquery as cq\n",
    "from math import atan2,pi\n",
    "\n",
    "leg_d0 = 0.05+2 # length of first segment, 2.2 is the thickness of the coupler\n",
    "leg_d1 = 120  # length of last segment\n",
    "leg_r0 = 38   # radius of rotation of mid segment\n",
    "\n",
    "leg_r1 = 32   # radius of the first segment\n",
    "leg_r2 = leg_r1   # radius of the end at the second segment\n",
    "leg_r3 = 24   # radius at the end of the last segment\n",
    "\n",
    "leg_a0_deg = 90\n",
    "leg_a0 = leg_a0_deg*pi/180. # mid section rotation angle\n",
    "\n",
    "taper_angle = atan2(leg_r2-leg_r3,leg_d1) # taper angle [rad] of last section\n",
    "\n",
    "leg_fillet = 10 # fillet at the end of the leg\n",
    "leg_innercut_ratio =0.5\n",
    "\n",
    "def makeLeg(d0 = leg_d0,# length of first segment\n",
    "#             joint_overlap = joint_overlap, #overlap of the joint\n",
    "            d1 = leg_d1,# length of last segment\n",
    "            r0 = leg_r0,# radius of rotation of mid segment\n",
    "            r1 = leg_r1,# radius of the first segment\n",
    "            taper = taper_angle,# taper angle [rad] of last section\n",
    "            r_fillet = leg_fillet,# fillet at last section\n",
    "            innercut_ratio = leg_innercut_ratio\n",
    "            ):\n",
    "#     path = cq.Workplane(\"XY\").center(0, 0).line(d0,0)\\\n",
    "#        .radiusArc((r0+leg_d0,r0),-r0)\n",
    "    path = cq.Workplane(\"XY\").center(0, 0).radiusArc((r0,r0),-r0)\n",
    "    result = cq.Workplane(\"YZ\").circle(r1).sweep(path) # first+mid section\n",
    "#     result = result.faces(\"<X\").circle(r1).extrude(-joint_overlap) # joint overlap section\n",
    "    result = result.faces(\">Y\").workplane(centerOption=\"CenterOfMass\").tag(\"midplane\")\\\n",
    "        .circle(r1).extrude(d1,taper=taper*180./pi)\\\n",
    "        .faces(\">Y\").edges().fillet(r_fillet) # last section fillet\n",
    "    result = result.workplaneFromTagged(\"midplane\")\\\n",
    "        .circle(r1*innercut_ratio).cutBlind(d1+1,taper=taper*180./pi)\n",
    "    return result\n",
    "\n",
    "leg = makeLeg()\n",
    "# show_object(leg)\n",
    "cq.exporters.export(leg,\"../../mesh/leg_simplified.step\")\n",
    "# cq.exporters.export(leg,\"../../mesh/leg_simplified.stl\")"
   ]
  },
  {
   "cell_type": "markdown",
   "metadata": {},
   "source": [
    "# Leg discretization\n",
    "\n",
    "Only need to run once"
   ]
  },
  {
   "cell_type": "code",
   "execution_count": 3,
   "metadata": {
    "ExecuteTime": {
     "end_time": "2021-01-07T02:38:15.253848Z",
     "start_time": "2021-01-07T02:38:07.283094Z"
    }
   },
   "outputs": [
    {
     "name": "stdout",
     "output_type": "stream",
     "text": [
      "# vertices          = 484\n",
      "# surface triangle  = 894\n",
      "# tetra             = 1462\n",
      "# unique tetra edges= 2392\n",
      "# unique face edges = 1341\n",
      "COM                 =  [33.243 63.251  0.304]\n",
      "mean edge length    = 13.77\n"
     ]
    },
    {
     "data": {
      "image/png": "[encoded data removed]",
      "text/plain": [
       "<Figure size 900x150 with 3 Axes>"
      ]
     },
     "metadata": {
      "image/png": {
       "height": 155,
       "width": 730
      }
     },
     "output_type": "display_data"
    }
   ],
   "source": [
    "in_file_name: str = \"../../mesh/leg_simplified.step\"\n",
    "out_file_name: str = \"../../mesh/leg_simplified.msh\"\n",
    "\n",
    "vmesh,_= generateGmsh(in_file_name,out_file_name,gmsh_args=gmsh_args,gmsh_args_3d=gmsh_args_3d,gui=True)\n",
    "# # optimze vertices location\n",
    "# n_jobs = int(multiprocessing.cpu_count()*0.2)\n",
    "# total_jobs = int(n_jobs*1)\n",
    "# # print(n_jobs,total_jobs)\n",
    "# result = Parallel(n_jobs=n_jobs)(delayed(generateGmsh)(in_file_name,None) for i in range(total_jobs))\n",
    "# mse_list = [np.linalg.norm(np.mean(vmesh.points[vmesh.points[:,0]<=0],axis=0)[1:]) for vmesh,_ in result]\n",
    "# vmesh,best_vmesh_name = result[np.argmin(mse_list)]\n",
    "# shutil.copyfile(best_vmesh_name,out_file_name) # copy the temp file to the out file\n",
    "vmeshSummary(vmesh)\n",
    "\n",
    "# with np.printoptions(precision=3, suppress=True):\n",
    "#     print(\"COM at 1st section:\",np.mean(vmesh.points[vmesh.points[:,0]<=0],axis=0))    "
   ]
  },
  {
   "cell_type": "markdown",
   "metadata": {},
   "source": [
    "# Body discretization\n",
    "\n",
    "Only need to run once"
   ]
  },
  {
   "cell_type": "code",
   "execution_count": 4,
   "metadata": {
    "ExecuteTime": {
     "end_time": "2021-01-07T02:38:19.465826Z",
     "start_time": "2021-01-07T02:38:16.804284Z"
    }
   },
   "outputs": [
    {
     "name": "stdout",
     "output_type": "stream",
     "text": [
      "# vertices          = 3132\n",
      "# surface triangle  = 5426\n",
      "# tetra             = 10398\n",
      "# unique tetra edges= 16239\n",
      "# unique face edges = 8139\n",
      "COM                 =  [-0.193 -0.013  0.009]\n",
      "mean edge length    = 13.17\n"
     ]
    },
    {
     "data": {
      "image/png": "[encoded data removed]",
      "text/plain": [
       "<Figure size 900x150 with 3 Axes>"
      ]
     },
     "metadata": {
      "image/png": {
       "height": 155,
       "width": 730
      }
     },
     "output_type": "display_data"
    }
   ],
   "source": [
    "# discretize body\n",
    "in_file_name: str = \"../../mesh/soft_body_simplified.step\"\n",
    "out_file_name: str = \"../../mesh/soft_body_simplified.msh\"\n",
    "vmesh,_= generateGmsh(in_file_name,out_file_name,gmsh_args=gmsh_args,gmsh_args_3d=gmsh_args_3d,gui=False)\n",
    "# print(vmesh)\n",
    "vmeshSummary(vmesh)"
   ]
  },
  {
   "cell_type": "code",
   "execution_count": 5,
   "metadata": {
    "ExecuteTime": {
     "end_time": "2021-01-07T02:38:19.497833Z",
     "start_time": "2021-01-07T02:38:19.468825Z"
    }
   },
   "outputs": [],
   "source": [
    "def descretize(msh_file,transform=np.eye(4)):\n",
    "    vmesh = meshio.read(msh_file)\n",
    "    if ~np.array_equal(transform,np.eye(4)):# should transform the points\n",
    "        vmesh.points = applyTransform(vmesh.points, transform)\n",
    "\n",
    "    tetra = vmesh.cells_dict[\"tetra\"] # (nx4) np array of tetrahedron\n",
    "    vertices = vmesh.points\n",
    "    triangles = vmesh.cells_dict[\"triangle\"]\n",
    "    # edges from tetrahedron\n",
    "    edges_tetra = tetra[:, list(itertools.combinations(range(4), 2))].reshape((-1, 2))\n",
    "    edges_face = triangles[:, list(itertools.combinations(range(3), 2))].reshape((-1, 2))\n",
    "    \n",
    "\n",
    "    # trimesh mesh, process=False to reserve vertex order\n",
    "    mesh = trimesh.Trimesh(vertices,triangles,process = False, maintain_order=True)\n",
    "    mesh.visual.face_colors = [255,255,255,255]\n",
    "\n",
    "    # #     ###############################################################\n",
    "    # mesh_dict = mesh.to_dict()\n",
    "    # bounds,xyz_grid_edge,xyz_grid_inside = voxelizeMesh(mesh)\n",
    "    # vertices = sample_helper(mesh_dict, xyz_grid_edge, xyz_grid_inside)\n",
    "\n",
    "    pcd_o3d = o3d.geometry.PointCloud(o3d.utility.Vector3dVector(vertices))\n",
    "    # KDTree for nearest neighbor search\n",
    "    pcd_tree = o3d.geometry.KDTreeFlann(pcd_o3d)\n",
    "    neighbors = [np.asarray(pcd_tree.search_hybrid_vector_3d(point, radius_knn,max_nn = max_nn)[1]) for point in vertices]\n",
    "    edges = np.vstack([getEdges(neighbor[:max_nn]) for neighbor in neighbors])\n",
    "    edges, edge_counts = getUniqueEdges(edges)\n",
    "    # trim springs outside the mesh\n",
    "    mid_points = getMidpoints(vertices,edges)\n",
    "    is_inside=mesh.ray.contains_points(mid_points)\n",
    "    edges = edges[is_inside]\n",
    "    # #     ###############################################################\n",
    "    edges = np.vstack((edges,edges_tetra))\n",
    "#     edges = edges_tetra[:]\n",
    "    \n",
    "    edges, edge_counts = getUniqueEdges(edges)\n",
    "    neighbor_counts = getNeighborCounts(edges)\n",
    "    edge_lengths = np.linalg.norm(vertices[edges[:,0]]-vertices[edges[:,1]],axis=1)\n",
    "\n",
    "    print(f\"# vertices         = {vertices.shape[0]}\")\n",
    "    print(f\"# surface triangle =\",triangles.shape[0])\n",
    "    print(f\"# tetra            =\",tetra.shape[0])\n",
    "    print(f\"# unique edges     = {edges.shape[0]}\")\n",
    "\n",
    "    fig,ax = plt.subplots(1,3,figsize=(12,2),dpi=75)\n",
    "    ax[0].hist(edge_counts,bins=np.arange(0.5,10), density=True)\n",
    "    ax[0].set_xticks(np.arange(10))\n",
    "    ax[0].set_xlabel(\"edge counts\")\n",
    "    ax[1].hist(edge_lengths, density=True, bins='auto')\n",
    "    ax[1].set_xlabel(\"edge length\")\n",
    "    ax[2].hist(neighbor_counts, density=True, bins='auto')\n",
    "    ax[2].set_xlabel(\"neighbor counts\")\n",
    "    #     plt.tight_layout()\n",
    "    plt.show()\n",
    "\n",
    "    signed_distance = trimesh.proximity.signed_distance(mesh,vertices)\n",
    "\n",
    "\n",
    "    nsd = normalizeMinMax(signed_distance) # normalized_signed_distance\n",
    "#     print(signed_distance.min(),signed_distance.max())\n",
    "\n",
    "    pcd_o3d = o3d.geometry.PointCloud(o3d.utility.Vector3dVector(vertices))\n",
    "\n",
    "    cmap = plt.cm.get_cmap('plasma')\n",
    "    pcd_o3d.colors = o3d.utility.Vector3dVector(cmap(nsd)[:,:3])\n",
    "\n",
    "    lsd_o3d = o3d.geometry.LineSet(\n",
    "        o3d.utility.Vector3dVector(vertices), \n",
    "        o3d.utility.Vector2iVector(edges))\n",
    "\n",
    "    cmap = plt.cm.get_cmap('seismic')\n",
    "\n",
    "    normalized_edge_lengths = normalizeMinMax(edge_lengths)\n",
    "    edges_colors = cmap(normalized_edge_lengths)[:,:3]# drop alpha channel\n",
    "\n",
    "    #     normalized_edge_counts = normalizeMinMax(edge_counts)\n",
    "    #     print(edge_counts.min(),edge_counts.max())\n",
    "    #     edges_colors = cmap(normalized_edge_counts)[:,:3]# drop alpha channel\n",
    "\n",
    "    lsd_o3d.colors = o3d.utility.Vector3dVector(edges_colors)\n",
    "\n",
    "    o3dShow([lsd_o3d,pcd_o3d,coord_frame],background_color=(255,255,255),mesh_show_wireframe=True)\n",
    "\n",
    "    # lsd_o3d = o3d.geometry.TetraMesh(\n",
    "    #     o3d.utility.Vector3dVector(vmesh.points), \n",
    "    #     o3d.utility.Vector4iVector(vmesh.get_cells_type(\"tetra\")))\n",
    "    # o3d.visualization.draw_geometries([lsd_o3d],mesh_show_wireframe=True)\n",
    "\n",
    "    #     vsmesh_o3d = o3d.geometry.TriangleMesh(o3d.utility.Vector3dVector(vertices),o3d.utility.Vector3iVector(triangles))\n",
    "    # o3dShow([vsmesh_o3d,pcd_o3d],background_color=(0,0,0),show_coordinate_frame=False,mesh_show_wireframe=True)\n",
    "\n",
    "    # display(mesh.show())\n",
    "    #     display(trimesh.scene.Scene([mesh],).show())\n",
    "    vmd = VolumeMesh(vertices,edges,triangles)\n",
    "    return vmd\n",
    "\n",
    "# vmesh_leg,mesh_leg,pcd_leg,lsd_leg,nsd_leg = descretize(msh_file=\"../../mesh/leg_simplified.msh\")"
   ]
  },
  {
   "cell_type": "markdown",
   "metadata": {},
   "source": [
    "### load descritized leg"
   ]
  },
  {
   "cell_type": "code",
   "execution_count": 6,
   "metadata": {
    "ExecuteTime": {
     "end_time": "2021-01-07T02:38:28.335845Z",
     "start_time": "2021-01-07T02:38:25.143941Z"
    },
    "scrolled": false
   },
   "outputs": [
    {
     "name": "stdout",
     "output_type": "stream",
     "text": [
      "# vertices         = 484\n",
      "# surface triangle = 894\n",
      "# tetra            = 1462\n",
      "# unique edges     = 5981\n"
     ]
    },
    {
     "data": {
      "image/png": "[encoded data removed]",
      "text/plain": [
       "<Figure size 900x150 with 3 Axes>"
      ]
     },
     "metadata": {
      "image/png": {
       "height": 155,
       "width": 730
      }
     },
     "output_type": "display_data"
    }
   ],
   "source": [
    "# %load_ext line_profiler\n",
    "# %lprun -f descretize vmesh_leg,mesh_leg,pcd_leg,lsd_leg,nsd_leg = descretize(msh_file=\"../../mesh/leg_simplified.msh\")\n",
    "transform = np.array([\n",
    "    [0, 0,1],\n",
    "    [0, 1,0],\n",
    "    [1,0,0],\n",
    "])\n",
    "\n",
    "vmd_leg = descretize(\n",
    "    msh_file=\"../../mesh/leg_simplified.msh\")\n",
    "    \n",
    "# vmesh_leg,mesh_leg,pcd_leg,lsd_leg,nsd_leg = descretize(\n",
    "#     msh_file=\"../../mesh/leg_simplified.msh\",transform = transform)"
   ]
  },
  {
   "cell_type": "markdown",
   "metadata": {},
   "source": [
    "### load descritized body"
   ]
  },
  {
   "cell_type": "code",
   "execution_count": 7,
   "metadata": {
    "ExecuteTime": {
     "end_time": "2021-01-07T02:38:33.833816Z",
     "start_time": "2021-01-07T02:38:29.662035Z"
    }
   },
   "outputs": [
    {
     "name": "stdout",
     "output_type": "stream",
     "text": [
      "# vertices         = 3132\n",
      "# surface triangle = 5426\n",
      "# tetra            = 10398\n",
      "# unique edges     = 32302\n"
     ]
    },
    {
     "data": {
      "image/png": "[encoded data removed]",
      "text/plain": [
       "<Figure size 900x150 with 3 Axes>"
      ]
     },
     "metadata": {
      "image/png": {
       "height": 155,
       "width": 730
      }
     },
     "output_type": "display_data"
    }
   ],
   "source": [
    "transform = np.array([[0, 0, 1, 0],\n",
    "                      [1, 0, 0, 0],\n",
    "                      [0, 1, 0, 0],\n",
    "                      [0, 0, 0, 1]], dtype=np.float64)\n",
    "# x: back->front\n",
    "# y: right->left\n",
    "# z: down->top\n",
    "vmd_body = descretize(\n",
    "    msh_file=\"../../mesh/soft_body_simplified.msh\",transform=transform)"
   ]
  },
  {
   "cell_type": "code",
   "execution_count": 15,
   "metadata": {
    "ExecuteTime": {
     "end_time": "2021-01-07T02:24:53.844391Z",
     "start_time": "2021-01-07T02:24:50.021061Z"
    }
   },
   "outputs": [],
   "source": [
    "# vmd = VolumeMesh(vmd_leg.vertices,vmd_leg.lines,vmd_leg.triangles).copy(cmap ='pink')\n",
    "# o3dShow([vmd.lsd,vmd.pcd])"
   ]
  },
  {
   "cell_type": "markdown",
   "metadata": {},
   "source": [
    "# Assemble the parts"
   ]
  },
  {
   "cell_type": "code",
   "execution_count": 8,
   "metadata": {
    "ExecuteTime": {
     "end_time": "2021-01-07T02:38:35.480143Z",
     "start_time": "2021-01-07T02:38:35.445124Z"
    }
   },
   "outputs": [],
   "source": [
    "# number of points in a coordinate (o,x,y,z,-x,-y,-z)\n",
    "NUM_POINTS_PER_COORDINATE = 7\n",
    "\n",
    "def getCoordinateOXYZ(transform):\n",
    "    coordinate_radius = 16\n",
    "    o = transform[:3, -1]  # origin\n",
    "    ox = coordinate_radius * transform[:3, 0]\n",
    "    oy = coordinate_radius * transform[:3, 1]\n",
    "    oz = coordinate_radius * transform[:3, 2]\n",
    "    x = o + ox\n",
    "    y = o + oy\n",
    "    z = o + oz\n",
    "    nx = o - ox  # negative x\n",
    "    ny = o - oy  # negative y\n",
    "    nz = o - oz  # netative z\n",
    "    oxyz = np.vstack([o, x, y, z, nx, ny, nz])\n",
    "    return oxyz\n",
    "\n",
    "def getCoordinateOXYZSelfSprings():\n",
    "    return np.asarray(list(itertools.combinations(range(NUM_POINTS_PER_COORDINATE), 2)), dtype=int)\n",
    "# print(getCoordinateOXYZSelfSprings())\n",
    "\n",
    "\n",
    "class RobotDescription(nx.classes.digraph.DiGraph):\n",
    "    def __init__(self, incoming_graph_data=None, **attr):\n",
    "        \"\"\"\n",
    "        a directed graph of the robot description\n",
    "        \"\"\"\n",
    "        super().__init__(incoming_graph_data, **attr)\n",
    "\n",
    "    def reverseTraversal(self, node, return_edge: bool = False):\n",
    "        \"\"\"\n",
    "        return a list traversing from root to node\n",
    "        input:\n",
    "            node: the name of a node (robot link)\n",
    "            return_edge: return the eges if true, else return the nodes\n",
    "        returns:\n",
    "            a list of nodes or edges traversing from root to node\n",
    "        \"\"\"\n",
    "        nodes = [node]\n",
    "        while(1):\n",
    "            try:\n",
    "                parent = next(self.predecessors(node))\n",
    "                nodes.append(parent)\n",
    "                node = parent\n",
    "            except StopIteration:  # at root node\n",
    "                nodes.reverse()\n",
    "                if return_edge:  # return the edges leading from root to node\n",
    "                    return list(zip(nodes[:-1], nodes[1:]))\n",
    "                else:  # return a list of nodes from root leading node\n",
    "                    return nodes\n",
    "\n",
    "    def worldTransform(self, node, t=np.eye(4), update: bool = True):\n",
    "        \"\"\"\n",
    "        return the the transform from world space\n",
    "        input:\n",
    "            node: the name of a node (robot link)\n",
    "            t: initial (world) 4x4 homogeneous transformation\n",
    "            update: [bool] if true update the composed transorm of this node\n",
    "        return:\n",
    "            t: the composed 4x4 homogeneous transformation in world space\n",
    "        \"\"\"\n",
    "        edges = self.reverseTraversal(node, return_edge=True)\n",
    "        for e in edges:\n",
    "            ge = self.edges[e]\n",
    "            if ge[\"joint_type\"] in {'revolute', 'continous'}:\n",
    "                t = t@ge[\"transform\"]@axisAngleRotation(\n",
    "                    ge[\"axis\"], ge[\"joint_pos\"])\n",
    "            else:\n",
    "                raise NotImplementedError\n",
    "        if update:\n",
    "            self.nodes[node][\"world_transform\"] = t\n",
    "        return t\n",
    "\n",
    "    @property\n",
    "    def rootNode(self):\n",
    "        \"\"\"\n",
    "        return the name of root node (base link) of the graph\n",
    "        ref:https://stackoverflow.com/questions/4122390/getting-the-root-head-of-a-digraph-in-networkx-python\n",
    "        \"\"\"\n",
    "        return [n for n, d in self.in_degree() if d == 0][0]\n",
    "\n",
    "    def updateWorldTransform(self, t=np.eye(4)):\n",
    "        \"\"\"\n",
    "        update the world_transform property for nodes and edges\n",
    "        input:\n",
    "            t: initial (world) 4x4 homogeneous transformation\n",
    "        return: \n",
    "            the updated graph\n",
    "        \"\"\"\n",
    "        rn = self.rootNode\n",
    "        self.nodes[rn][\"world_transform\"] = t\n",
    "        for e in nx.edge_bfs(self, source=rn):\n",
    "            parent_node = self.nodes[e[0]]\n",
    "            child_node = self.nodes[e[1]]\n",
    "            edge = self.edges[e]\n",
    "            edge[\"world_transform\"] = parent_node[\"world_transform\"]@edge[\"transform\"]\n",
    "            child_node[\"world_transform\"] = edge[\"world_transform\"]@axisAngleRotation(\n",
    "                edge[\"axis\"], edge[\"joint_pos\"])\n",
    "        return self\n",
    "\n",
    "    def nodesProperty(self, property_name, value):\n",
    "        return [self.nodes[n][property_name] for n in self.nodes]\n",
    "\n",
    "    @property\n",
    "    def joint_pos(self):\n",
    "        \"\"\"return the joint_pos for all edges\"\"\"\n",
    "        return np.fromiter((self.edges[e][\"joint_pos\"] for e in self.edges), dtype=np.float64)\n",
    "\n",
    "    @joint_pos.setter\n",
    "    def joint_pos(self, value):\n",
    "        \"\"\"set the joint_pos for all edges given value\"\"\"\n",
    "        for e, v in zip(self.edges, value):\n",
    "            self.edges[e][\"joint_pos\"] = v\n",
    "\n",
    "    def updateCoordinateOXYZ(self):\n",
    "        for n in self.nodes:\n",
    "            self.nodes[n][\"coord_oxyz\"] = getCoordinateOXYZ(\n",
    "                self.nodes[n][\"world_transform\"])\n",
    "        for e in self.edges:\n",
    "            self.edges[e][\"coord_oxyz\"] = getCoordinateOXYZ(\n",
    "                self.edges[e][\"world_transform\"])"
   ]
  },
  {
   "cell_type": "code",
   "execution_count": 10,
   "metadata": {
    "ExecuteTime": {
     "end_time": "2021-01-07T02:38:42.066115Z",
     "start_time": "2021-01-07T02:38:42.048594Z"
    }
   },
   "outputs": [],
   "source": [
    "############################ defineing joints geometry\n",
    "rot_ang = 10.0/189.*np.pi\n",
    "cylinder_len = 103\n",
    "dx = 260.0/2 + cylinder_len*np.sin(rot_ang)\n",
    "dy = 0.0 + cylinder_len*np.cos(rot_ang)\n",
    "\n",
    "\n",
    "########################################################\n",
    "t_axial = translation((0,0,cylinder_len-half_joint_overlap)) # translate along cylinder\n",
    "t_zrot = axisAngleRotation((0,0,1),np.pi)\n",
    "\n",
    "\n",
    "t0 = translation((+dx,+dy,0)).dot(axisAngleRotation((0, 0, 1),-rot_ang+np.pi/2))# front left\n",
    "t1 = translation((-dx,+dy,0)).dot(axisAngleRotation((0, 0, 1),+rot_ang+np.pi/2))# back left\n",
    "t2 = translation((-dx,-dy,0)).dot(axisAngleRotation((0, 0, 1),-rot_ang-np.pi/2))# back right\n",
    "t3 = translation((+dx,-dy,0)).dot(axisAngleRotation((0, 0, 1),+rot_ang-np.pi/2))# front right"
   ]
  },
  {
   "cell_type": "code",
   "execution_count": 13,
   "metadata": {
    "ExecuteTime": {
     "end_time": "2021-01-07T02:39:11.390681Z",
     "start_time": "2021-01-07T02:39:11.196652Z"
    }
   },
   "outputs": [
    {
     "data": {
      "text/plain": [
       "<__main__.RobotDescription at 0x1893b0bd700>"
      ]
     },
     "execution_count": 13,
     "metadata": {},
     "output_type": "execute_result"
    },
    {
     "data": {
      "image/png": "[encoded data removed]",
      "text/plain": [
       "<Figure size 432x288 with 1 Axes>"
      ]
     },
     "metadata": {
      "image/png": {
       "height": 302,
       "width": 446
      }
     },
     "output_type": "display_data"
    }
   ],
   "source": [
    "graph = RobotDescription()\n",
    "graph.add_nodes_from([\n",
    "    (\"body\", {\"vmd\": vmd_body.copy()}),  # main_body\n",
    "    (\"leg_0\", {\"vmd\": vmd_leg.copy(cmap ='spring')}),  # front left\n",
    "    (\"leg_1\", {\"vmd\": vmd_leg.copy(cmap ='summer')}),  # back left\n",
    "    (\"leg_2\", {\"vmd\": vmd_leg.copy(cmap ='autumn')}),  # back right\n",
    "    (\"leg_3\", {\"vmd\": vmd_leg.copy(cmap ='winter')}),  # front right\n",
    "])\n",
    "graph.add_edges_from((\n",
    "    (\"body\", \"leg_0\", {\"transform\": t0, \"joint_pos\": 0}),\n",
    "    (\"body\", \"leg_1\", {\"transform\": t1, \"joint_pos\": 0}),\n",
    "    (\"body\", \"leg_2\", {\"transform\": t2, \"joint_pos\": 0}),\n",
    "    (\"body\", \"leg_3\", {\"transform\": t3, \"joint_pos\": 0}),),\n",
    "    transform=np.eye(4),\n",
    "    joint_type=\"revolute\",\n",
    "    joint_pos=0, axis=(1, 0, 0)\n",
    ")\n",
    "\n",
    "nx.draw(graph, with_labels=True, font_weight='bold',node_size=2000,node_color=\"lightblue\")\n",
    "################## computed value ###################################\n",
    "graph.updateWorldTransform()\n",
    "# list(nx.edge_bfs(graph))"
   ]
  },
  {
   "cell_type": "code",
   "execution_count": 14,
   "metadata": {
    "ExecuteTime": {
     "end_time": "2021-01-07T02:39:34.124382Z",
     "start_time": "2021-01-07T02:39:32.201660Z"
    }
   },
   "outputs": [],
   "source": [
    "# graph.joint_pos = np.array([-np.pi/2,-np.pi/2,-np.pi/2,-np.pi/2])\n",
    "\n",
    "graph.joint_pos = np.array([np.pi/8, np.pi/8, np.pi/8, np.pi/8])\n",
    "\n",
    "graph.updateWorldTransform()\n",
    "graph.updateCoordinateOXYZ()\n",
    "\n",
    "world_space_pcds = [o3d.geometry.PointCloud(graph.nodes[n][\"vmd\"].pcd).transform(\n",
    "    graph.nodes[n][\"world_transform\"]) for n in graph.nodes]\n",
    "\n",
    "world_space_lsd = [o3d.geometry.LineSet(graph.nodes[n][\"vmd\"].lsd).transform(\n",
    "    graph.nodes[n][\"world_transform\"]) for n in graph.nodes]\n",
    "\n",
    "link_coordinate_frames = [o3d.geometry.TriangleMesh.create_coordinate_frame(\n",
    "    size=50).transform(graph.nodes[n][\"world_transform\"])for n in graph.nodes]\n",
    "\n",
    "joint_coordiate_frams = [o3d.geometry.TriangleMesh.create_coordinate_frame(\n",
    "    size=50).transform(graph.edges[e][\"world_transform\"])for e in graph.edges]\n",
    "\n",
    "o3dShow(world_space_pcds+world_space_lsd+link_coordinate_frames+joint_coordiate_frams)"
   ]
  },
  {
   "cell_type": "code",
   "execution_count": null,
   "metadata": {},
   "outputs": [],
   "source": []
  },
  {
   "cell_type": "markdown",
   "metadata": {},
   "source": [
    "# this part is not ready yet"
   ]
  },
  {
   "cell_type": "code",
   "execution_count": 19,
   "metadata": {
    "ExecuteTime": {
     "end_time": "2021-01-07T02:28:08.544422Z",
     "start_time": "2021-01-07T02:28:08.524409Z"
    }
   },
   "outputs": [
    {
     "name": "stdout",
     "output_type": "stream",
     "text": [
      "0 60\n"
     ]
    }
   ],
   "source": [
    "joint_radius = 30\n",
    "joint_height = 60\n",
    "joint_sections = 30 # number of sections of the joint cylinder mesh\n",
    "\n",
    "self = graph\n",
    "e = (\"body\", \"leg_0\")\n",
    "parent_node = self.nodes[e[0]]\n",
    "child_node = self.nodes[e[1]]\n",
    "edge = self.edges[e]\n",
    "\n",
    "# operate in body-space of parent node\n",
    "T_edge = edge[\"transform\"] # edge transform\n",
    "T_child = T_edge@axisAngleRotation(edge[\"axis\"], edge[\"joint_pos\"]) # child transform\n",
    "\n",
    "parent_pcd = parent_node[\"vmd\"].pcd\n",
    "child_pcd = child_node[\"vmd\"].pcd.transform(T_child)\n",
    "\n",
    "parent_t_vertices = parent_node[\"vmd\"].vertices\n",
    "child_t_vertices = applyTransform(child_node[\"vmd\"].vertices,T_child)\n",
    "\n",
    "cylinder = trimesh.creation.cylinder(\n",
    "    radius=joint_radius, height=joint_height, transform=T_edge, sections=joint_sections)\n",
    "\n",
    "child_t_vertices_inside = cylinder.ray.contains_points(child_t_vertices)\n",
    "parent_t_vertices_inside = cylinder.ray.contains_points(parent_t_vertices)\n",
    "\n",
    "id_joint_child = np.flatnonzero(child_t_vertices_inside)\n",
    "id_joint_parent = np.flatnonzero(parent_t_vertices_inside)\n",
    "\n",
    "print(len(id_joint_parent),len(id_joint_child))\n",
    "\n",
    "edge['axis'] = np.asarray(edge['axis'],dtype=np.float64)\n",
    "edge['anchors'] = np.stack((-edge['axis'],edge['axis']))*joint_height\n",
    "\n",
    "color = np.asarray(parent_pcd.colors)\n",
    "color[id_joint_parent] = (1,1,1)\n",
    "parent_pcd.colors = o3d.utility.Vector3dVector(color)\n",
    "\n",
    "color = np.asarray(child_pcd.colors)\n",
    "color[id_joint_child] = (1,1,1)\n",
    "child_pcd.colors = o3d.utility.Vector3dVector(color)"
   ]
  },
  {
   "cell_type": "code",
   "execution_count": 20,
   "metadata": {
    "ExecuteTime": {
     "end_time": "2021-01-07T02:28:42.081230Z",
     "start_time": "2021-01-07T02:28:09.695457Z"
    }
   },
   "outputs": [],
   "source": [
    "o3dShow([child_pcd,parent_pcd],background_color=(0.2,0.2,0.2))"
   ]
  },
  {
   "cell_type": "code",
   "execution_count": 212,
   "metadata": {
    "ExecuteTime": {
     "end_time": "2021-01-05T09:01:04.654123Z",
     "start_time": "2021-01-05T09:01:04.633121Z"
    }
   },
   "outputs": [
    {
     "data": {
      "text/plain": [
       "{0: 'body', 1: 'leg_0', 2: 'leg_1', 3: 'leg_2', 4: 'leg_3'}"
      ]
     },
     "execution_count": 212,
     "metadata": {},
     "output_type": "execute_result"
    }
   ],
   "source": [
    "dict(enumerate(self.nodes))"
   ]
  },
  {
   "cell_type": "code",
   "execution_count": 213,
   "metadata": {
    "ExecuteTime": {
     "end_time": "2021-01-05T09:01:47.263762Z",
     "start_time": "2021-01-05T09:01:47.253760Z"
    }
   },
   "outputs": [
    {
     "data": {
      "text/plain": [
       "{0: ('body', 'leg_0'),\n",
       " 1: ('body', 'leg_1'),\n",
       " 2: ('body', 'leg_2'),\n",
       " 3: ('body', 'leg_3')}"
      ]
     },
     "execution_count": 213,
     "metadata": {},
     "output_type": "execute_result"
    }
   ],
   "source": [
    "dict(enumerate(self.edges))"
   ]
  },
  {
   "cell_type": "code",
   "execution_count": 460,
   "metadata": {
    "ExecuteTime": {
     "end_time": "2021-01-04T11:56:07.527202Z",
     "start_time": "2021-01-04T11:56:07.520178Z"
    }
   },
   "outputs": [
    {
     "name": "stdout",
     "output_type": "stream",
     "text": [
      "[]\n",
      "[('body', 'leg_0')]\n",
      "[('body', 'leg_1')]\n",
      "[('body', 'leg_2')]\n",
      "[('body', 'leg_3')]\n"
     ]
    }
   ],
   "source": [
    "for n in graph.nodes:\n",
    "    print(reverseTraversal(graph,n,return_edge = True))"
   ]
  },
  {
   "cell_type": "code",
   "execution_count": 390,
   "metadata": {
    "ExecuteTime": {
     "end_time": "2021-01-04T08:46:36.504071Z",
     "start_time": "2021-01-04T08:46:36.494557Z"
    }
   },
   "outputs": [
    {
     "name": "stdout",
     "output_type": "stream",
     "text": [
      "('body', 'leg_0')\n",
      "('body', 'leg_1')\n",
      "('body', 'leg_2')\n",
      "('body', 'leg_3')\n"
     ]
    }
   ],
   "source": [
    "for e in G.edges:\n",
    "    print(e)"
   ]
  },
  {
   "cell_type": "code",
   "execution_count": 698,
   "metadata": {
    "ExecuteTime": {
     "end_time": "2021-01-04T16:20:52.854034Z",
     "start_time": "2021-01-04T16:20:52.690120Z"
    }
   },
   "outputs": [
    {
     "data": {
      "image/png": "[encoded data removed]",
      "text/plain": [
       "<Figure size 432x288 with 1 Axes>"
      ]
     },
     "metadata": {
      "image/png": {
       "height": 302,
       "width": 446
      }
     },
     "output_type": "display_data"
    }
   ],
   "source": []
  },
  {
   "cell_type": "code",
   "execution_count": 457,
   "metadata": {
    "ExecuteTime": {
     "end_time": "2021-01-04T11:49:18.644808Z",
     "start_time": "2021-01-04T11:49:18.637810Z"
    }
   },
   "outputs": [
    {
     "data": {
      "text/plain": [
       "{'transform': array([[  0.16545745,  -0.98621693,   0.        , 147.04211705],\n",
       "        [  0.98621693,   0.16545745,   0.        , 101.5803438 ],\n",
       "        [  0.        ,   0.        ,   1.        ,   0.        ],\n",
       "        [  0.        ,   0.        ,   0.        ,   1.        ]]),\n",
       " 'type': 'revolute',\n",
       " 'axis': (1, 0, 0),\n",
       " 'pos': 0}"
      ]
     },
     "execution_count": 457,
     "metadata": {},
     "output_type": "execute_result"
    }
   ],
   "source": [
    "graph.edges['body','leg_0']"
   ]
  },
  {
   "cell_type": "code",
   "execution_count": 456,
   "metadata": {
    "ExecuteTime": {
     "end_time": "2021-01-04T11:49:03.478335Z",
     "start_time": "2021-01-04T11:49:03.468333Z"
    }
   },
   "outputs": [
    {
     "data": {
      "text/plain": [
       "{'transform': array([[  0.16545745,  -0.98621693,   0.        , 147.04211705],\n",
       "        [  0.98621693,   0.16545745,   0.        , 101.5803438 ],\n",
       "        [  0.        ,   0.        ,   1.        ,   0.        ],\n",
       "        [  0.        ,   0.        ,   0.        ,   1.        ]]),\n",
       " 'type': 'revolute',\n",
       " 'axis': (1, 0, 0),\n",
       " 'pos': 0}"
      ]
     },
     "execution_count": 456,
     "metadata": {},
     "output_type": "execute_result"
    }
   ],
   "source": [
    "graph.edges[('body', 'leg_0')]"
   ]
  },
  {
   "cell_type": "code",
   "execution_count": null,
   "metadata": {},
   "outputs": [],
   "source": [
    "leg_axes_transform = [t0,t1,t2,t3]\n",
    "\n",
    "\n",
    "joint_radius = radius_poisson*3\n",
    "# joint_radius = leg_r1\n",
    "print(f\"joint_radius={joint_radius}\")\n",
    "# cylinders for getting the rotation anchor points on the body\n",
    "cylinders = [trimesh.creation.cylinder(radius=joint_radius, height=joint_overlap+80, transform=t,sections=60)\\\n",
    "             for t in leg_axes_transform]\n",
    "##################################################################################################################\n",
    "\n",
    "\n",
    "def LegAlignTransform(rot_angle):\n",
    "    \"\"\"\n",
    "    first align the rotational axis to z-axis, next rotate about the z axis for rot_angle,\n",
    "    finally translate along z-axis\n",
    "    \"\"\"\n",
    "#     return translation((0,0,half_joint_overlap), # translate along z-axis\n",
    "#                      np.dot(axisAngleRotation((0,0,1),rot_angle),# rotate about the z axis for rot_angle\n",
    "#                             axisAngleRotation((0,1,0),-np.pi/2))) # align the rotational axis to z-axis\n",
    "    return axisAngleRotation((1,0,0),rot_angle)\n",
    "\n",
    "# define zero_leg_anges as the leg angles when all the legs are pointing towards front\n",
    "zero_leg_angles = np.array([np.pi/2,np.pi/2,np.pi/2,np.pi/2]) \n",
    "\n",
    "# leg_angles = np.array([np.pi,np.pi,0,0]) # four leg standing\n",
    "# leg_angles = np.array([np.pi/8,np.pi/8,np.pi/8,np.pi/8])\n",
    "\n",
    "# leg_angles = np.array([np.pi/2,np.pi/2,np.pi/2,np.pi/2])\n",
    "# leg_angles = np.array([0,0,np.pi,np.pi])\n",
    "\n",
    "leg_angles = np.array([-np.pi/2,-np.pi/2,-np.pi/2,-np.pi/2]) \n",
    "# leg_angles = np.array([0,0,0,0])\n",
    "\n",
    "initial_leg_angles = leg_angles-zero_leg_angles\n",
    "\n",
    "\n",
    "# axis for the joint - body\n",
    "leg_transform = [np.dot(t,LegAlignTransform(angle)) for t,angle in zip(leg_axes_transform,leg_angles)]\n",
    "\n",
    "# axis for the legs\n",
    "aligned_leg_axes_transform = leg_transform\n",
    "\n",
    "\n",
    "# coordinates for the joint - body\n",
    "coord_joint_left = [o3d.geometry.TriangleMesh.create_coordinate_frame(\n",
    "    size=60, origin=[0, 0, 0]).transform(t) for t in leg_axes_transform]\n",
    "\n",
    "# coordinate for the joint - legs\n",
    "coord_joint_right = [o3d.geometry.TriangleMesh.create_coordinate_frame(\n",
    "    size=60, origin=[0, 0, 0]).transform(t) for t in aligned_leg_axes_transform]\n",
    "\n",
    "legs = [o3d.geometry.PointCloud(pcd_leg).transform(t) for t in leg_transform]\n",
    "lsd_legs = [o3d.geometry.LineSet(lsd_leg).transform(t) for t in leg_transform]\n",
    "\n",
    "\n",
    "cmap_str = (\"spring\",\"summer\",\"autumn\",\"winter\")\n",
    "for k in range(len(legs)):\n",
    "    legs[k],lsd_legs[k] = ColorizePcdAndLsd(nsd_leg,legs[k],lsd_legs[k],plt.cm.get_cmap(cmap_str[k]))\n",
    "\n",
    "    \n",
    "coord_frame = o3d.geometry.TriangleMesh.create_coordinate_frame(\n",
    "    size=60, origin=[0, 0, 0])\n",
    "\n",
    "o3d.visualization.draw_geometries([pcd_body,coord_frame]+coord_joint_left+coord_joint_right+legs)"
   ]
  },
  {
   "cell_type": "code",
   "execution_count": null,
   "metadata": {},
   "outputs": [],
   "source": []
  },
  {
   "cell_type": "code",
   "execution_count": 230,
   "metadata": {
    "ExecuteTime": {
     "end_time": "2021-01-02T05:54:43.536927Z",
     "start_time": "2021-01-02T05:54:07.668296Z"
    }
   },
   "outputs": [],
   "source": [
    "# o3d.visualization.draw_geometries([pcd_body,coord_body]+coord_joint_left+coord_joint_right+legs)\n",
    "# o3d.visualization.draw_geometries([pcd_body,coord_body]+coord_joint_left+legs)\n",
    "\n",
    "# o3d.visualization.draw_geometries([pcd_body,lsd_body,coord_body]+coord_joint_left+legs+lsd_legs)\n",
    "\n",
    "\n",
    "o3d.visualization.draw_geometries([pcd_body,coord_frame]+coord_joint_right+legs)\n",
    "\n",
    "# o3d.visualization.draw_geometries(coord_joint_left+legs)\n",
    "# o3d.visualization.draw_geometries([pcd_body]+coord_joint_left)\n",
    "# o3d.visualization.draw_geometries([pcd_body,lsd_body]+legs+lsd_legs+coord_joint_left)\n",
    "# o3d.visualization.draw_geometries_with_animation_callback([pcd_body,lsd_body]+legs+lsd_legs,rotate_view)\n",
    "# o3d.visualization.draw_geometries([pcd_body]+coord_joint_left+legs)"
   ]
  },
  {
   "cell_type": "code",
   "execution_count": 153,
   "metadata": {
    "ExecuteTime": {
     "end_time": "2021-01-01T09:11:57.979528Z",
     "start_time": "2021-01-01T09:11:57.904513Z"
    }
   },
   "outputs": [
    {
     "name": "stdout",
     "output_type": "stream",
     "text": [
      "id_xyz_parts_edges=[   0 2289 2684 3079 3474 3869]\n",
      "id_lines_parts_edges=[    0 21857 25893 29929 33965 38001]\n",
      "n_parts=5\n",
      "n_joints=4\n",
      "rot_anchor_radius=5.0\n"
     ]
    },
    {
     "data": {
      "text/plain": [
       "([44, 44, 47, 46], [54, 54, 54, 54])"
      ]
     },
     "execution_count": 153,
     "metadata": {},
     "output_type": "execute_result"
    }
   ],
   "source": [
    "# # axes_all = [axis_body, axis_leg0, axis_leg1, axis_leg2, axis_leg3]\n",
    "# axes_all = [coord_frame] + coord_joint_left\n",
    "\n",
    "# pcd list of parts\n",
    "pcd_parts = [pcd_body]+legs \n",
    "\n",
    "# lst list of parts\n",
    "lsd_parts = [lsd_body]+lsd_legs\n",
    "\n",
    "# # transform_all = [transform_body, transform_leg0, transform_leg1, transform_leg2, transform_leg3]\n",
    "# transform_all = [np.eye(4)] + leg_axes_transform\n",
    "\n",
    "# list of boolean array for the rotation ids of the body, 4 in total\n",
    "body_rot_ids = [cylinder.ray.contains_points(pcd_body.points) for cylinder in cylinders]\n",
    "\n",
    "# list of np boolean array indicating if point is part of rotational jonit\n",
    "# leg_rot_ids = [np.asarray(pcd_leg_d.points)[:,0]<-leg_d0,]*len(legs)\n",
    "\n",
    "# pcd_leg_points = np.asarray(pcd_leg.points)\n",
    "# leg_rot_ids = [\n",
    "#     np.logical_and(pcd_leg_points[:, 0] <= 0,\n",
    "#                    (pcd_leg_points[:, 1]**2 +\n",
    "#                    pcd_leg_points[:, 2]**2) <= (joint_radius)**2\n",
    "#                    )]*len(legs)\n",
    "leg_rot_ids = [cylinder.ray.contains_points(np.asarray(leg.points)) for cylinder,leg in zip(cylinders,legs)]\n",
    "\n",
    "\n",
    "# xyzs of the components [body,leg,leg,leg,leg]\n",
    "xyz_parts = [np.asarray(pcd.points) for pcd in pcd_parts]\n",
    "\n",
    "# the edges of the points start and end index for each part of the component\n",
    "id_xyz_parts_edges = np.cumsum([0]+[len(xyz) for xyz in xyz_parts])\n",
    "print(f\"id_xyz_parts_edges={id_xyz_parts_edges}\")\n",
    "\n",
    "# lines of the components [body,leg,leg,leg,leg]\n",
    "lines_parts = [np.asanyarray(lsd.lines) for lsd in lsd_parts]\n",
    "\n",
    "id_lines_parts_edges = np.cumsum([0]+[len(lines) for lines in lines_parts])\n",
    "print(f\"id_lines_parts_edges={id_lines_parts_edges}\")\n",
    "\n",
    "\n",
    "n_parts = len(xyz_parts) # number of components\n",
    "print(f\"n_parts={n_parts}\")\n",
    "n_joints = len(legs)\n",
    "print(f\"n_joints={n_joints}\")\n",
    "\n",
    "# array of index of the componet for a joint\n",
    "id_joint_components = np.array([[0,1],[0,2],[0,3],[0,4]])\n",
    "\n",
    "# list of transform for each joint\n",
    "joint_transforms_body = leg_axes_transform\n",
    "joint_transforms_leg = aligned_leg_axes_transform\n",
    "\n",
    "# the actual points (bool array)\n",
    "joint_tuples = list(zip(body_rot_ids,leg_rot_ids))\n",
    "\n",
    "rot_anchor_radius = half_joint_overlap+radius_poisson*0.5\n",
    "# rot_anchor_radius = 20\n",
    "print(f\"rot_anchor_radius={rot_anchor_radius}\")\n",
    "\n",
    "# anchor points for each of the rotational joint\n",
    "rot_anchors = [applyTransform([[0,0,-rot_anchor_radius],\n",
    "                               [0,0,rot_anchor_radius]],t) \n",
    "               for t in leg_axes_transform]\n",
    "# print(rot_anchors)\n",
    "\n",
    "# create pointcloud for anchors\n",
    "pcd_anchors = o3d.geometry.PointCloud()\n",
    "pcd_anchors.points = o3d.utility.Vector3dVector(np.vstack(rot_anchors))\n",
    "pcd_anchors.colors = o3d.utility.Vector3dVector(np.tile((1.,0,0), (len(pcd_anchors.points), 1)))\n",
    "\n",
    "[sum(ids) for ids in body_rot_ids],[sum(ids) for ids in leg_rot_ids]"
   ]
  },
  {
   "cell_type": "code",
   "execution_count": 154,
   "metadata": {
    "ExecuteTime": {
     "end_time": "2021-01-01T09:11:57.995532Z",
     "start_time": "2021-01-01T09:11:57.982529Z"
    }
   },
   "outputs": [],
   "source": [
    "# pcd_body.paint_uniform_color([0, 1, 0])\n",
    "\n",
    "# for k in range(4):\n",
    "#     legs[k].paint_uniform_color([0, 1, 0])\n",
    "#     np.asarray(legs[k].colors)[leg_rot_ids[k]] = np.array((1,0,0))\n",
    "#     np.asarray(pcd_body.colors)[body_rot_ids[k]] = np.array((0,0,1))\n",
    "\n",
    "# o3d.visualization.draw_geometries(legs+[pcd_body],point_show_normal=False)"
   ]
  },
  {
   "cell_type": "code",
   "execution_count": 155,
   "metadata": {
    "ExecuteTime": {
     "end_time": "2021-01-01T09:11:58.011532Z",
     "start_time": "2021-01-01T09:11:57.998529Z"
    }
   },
   "outputs": [],
   "source": [
    "# o3d.visualization.draw_geometries([pcd_body],point_show_normal=False)"
   ]
  },
  {
   "cell_type": "code",
   "execution_count": 36,
   "metadata": {
    "ExecuteTime": {
     "end_time": "2020-08-30T05:49:30.764501Z",
     "start_time": "2020-08-30T05:49:30.760491Z"
    },
    "deletable": false,
    "editable": false,
    "run_control": {
     "frozen": true
    }
   },
   "outputs": [],
   "source": [
    "# axis_size=5\n",
    "# axis_origin_tri = trimesh.creation.axis(axis_size*2)\n",
    "# # front left, back left, front right, back right\n",
    "# axes = [trimesh.creation.axis(axis_size,transform=t) for t in leg_axes_transform]\n",
    "# body_trimesh.visual.face_colors=(102, 102, 102, 255)\n",
    "# pcd_body_trimesh = trimesh.points.PointCloud(np.asarray(pcd_body.points))\n",
    "# pcd_body_trimesh.visual.vertex_colors = (0, 102, 102, 255)\n",
    "\n",
    "# legs_trimesh = [trimesh.points.PointCloud(np.asarray(leg.points)) for leg in legs]\n",
    "# for leg_trimesh in legs_trimesh:\n",
    "#     leg_trimesh.visual.vertex_colors = np.array((255, 1, 1, 255))\n",
    "    \n",
    "# for cylinder in cylinders:\n",
    "#     cylinder.visual.vertex_colors = np.array((255, 1, 1, 255))\n",
    "\n",
    "# # scene=trimesh.scene.Scene(geometry=axes+[axis_origin_tri,body_trimesh]+cylinders)\n",
    "# scene=trimesh.scene.Scene(geometry=axes+[axis_origin_tri,pcd_body_trimesh]+cylinders)\n",
    "# # scene=trimesh.scene.Scene(geometry=axes+[axis_origin_tri]+cylinders+legs_trimesh)\n",
    "# scene.show()"
   ]
  },
  {
   "cell_type": "code",
   "execution_count": 156,
   "metadata": {
    "ExecuteTime": {
     "end_time": "2021-01-01T09:11:59.041273Z",
     "start_time": "2021-01-01T09:11:59.022747Z"
    },
    "deletable": false,
    "editable": false
   },
   "outputs": [],
   "source": [
    "class Coord:# coordinate\n",
    "    def __init__(s, body_id, transform):\n",
    "        \"\"\"\n",
    "        body_id: body index,e.g. mainbody=0,leg0=1,leg1=2,leg2=3,leg3=4\n",
    "        transform: 4x4 numpy transform matrix\n",
    "        \"\"\"\n",
    "        s.bodyId = body_id\n",
    "        s.transform = transform\n",
    "        s.oxyz = GetCoordinateOXYZ(transform)\n",
    "        # index offset for the coordinate\n",
    "        s.id_start = id_xyz_parts_edges[body_id]\n",
    "\n",
    "\n",
    "coord_list = [\n",
    "    Coord(0, body_transform),# body axis\n",
    "    Coord(id_joint_components[0,0],joint_transforms_body[0]), # joint0-body axis\n",
    "    Coord(id_joint_components[0,1],joint_transforms_leg[0]), # joint0-leg0 axis\n",
    "    Coord(id_joint_components[1,0],joint_transforms_body[1]), # joint1-body axis\n",
    "    Coord(id_joint_components[1,1],joint_transforms_leg[1]), # joint1-leg1 axis\n",
    "    Coord(id_joint_components[2,0],joint_transforms_body[2]), # joint2-body axis\n",
    "    Coord(id_joint_components[2,1],joint_transforms_leg[2]), # joint2-leg2 axis\n",
    "    Coord(id_joint_components[3,0],joint_transforms_body[3]), # joint3-body axis\n",
    "    Coord(id_joint_components[3,1],joint_transforms_leg[3])  # joint3-leg3 axis\n",
    "]\n",
    "\n",
    "# oxyzs: list of oxyz from coord_list\n",
    "oxyzs = [c.oxyz for c in coord_list]\n",
    "\n",
    "# # pcd of oxyzs\n",
    "pcd_oxyzs = o3d.geometry.PointCloud()\n",
    "pcd_oxyzs.points = o3d.utility.Vector3dVector(np.vstack(oxyzs))\n",
    "pcd_oxyzs.colors = o3d.utility.Vector3dVector(np.tile((1.,0,0), (len(pcd_oxyzs.points), 1)))\n",
    "# o3d.visualization.draw_geometries([pcd_oxyzs])"
   ]
  },
  {
   "cell_type": "code",
   "execution_count": 157,
   "metadata": {
    "ExecuteTime": {
     "end_time": "2021-01-01T09:11:59.262098Z",
     "start_time": "2021-01-01T09:11:59.236085Z"
    },
    "deletable": false,
    "editable": false
   },
   "outputs": [
    {
     "name": "stdout",
     "output_type": "stream",
     "text": [
      "points_counts=[2289, 395, 395, 395, 395, 2, 2, 2, 2, 7, 7, 7, 7, 7, 7, 7, 7, 7]\n",
      "id_xyzs_edges=[   0 2289 2684 3079 3474 3869 3871 3873 3875 3877 3884 3891 3898 3905\n",
      " 3912 3919 3926 3933 3940]\n"
     ]
    },
    {
     "data": {
      "text/plain": [
       "[(0, 'body'),\n",
       " (2289, 'leg0'),\n",
       " (2684, 'leg1'),\n",
       " (3079, 'leg2'),\n",
       " (3474, 'leg3'),\n",
       " (3869, 'anchor0'),\n",
       " (3871, 'anchor1'),\n",
       " (3873, 'anchor2'),\n",
       " (3875, 'anchor3'),\n",
       " (3877, 'oxyz_body'),\n",
       " (3884, 'oxyz_joint0_body'),\n",
       " (3891, 'oxyz_joint0_leg0'),\n",
       " (3898, 'oxyz_joint1_body'),\n",
       " (3905, 'oxyz_joint1_leg1'),\n",
       " (3912, 'oxyz_joint2_body'),\n",
       " (3919, 'oxyz_joint2_leg2'),\n",
       " (3926, 'oxyz_joint3_body'),\n",
       " (3933, 'oxyz_joint3_leg3'),\n",
       " (3940, 'the end')]"
      ]
     },
     "execution_count": 157,
     "metadata": {},
     "output_type": "execute_result"
    }
   ],
   "source": [
    "# get all colors\n",
    "pcds = [pcd_body]+legs+[pcd_anchors]+[pcd_oxyzs]\n",
    "colors_all = np.vstack(list(map(np.asarray,[pcd.colors for pcd in pcds])))\n",
    "\n",
    "# the acutal points list, arrange as\n",
    "# [xyz_0,xyz_1,...,xyz_n,]+ [xyz_anchor_0,...,xyz_anchor_m] + [oxyz_0,oxyz_1,..]\n",
    "xyzs = xyz_parts + rot_anchors + oxyzs\n",
    "\n",
    "xyz_all = np.vstack(xyzs)\n",
    "\n",
    "# the count of points in each component of xyzs\n",
    "points_counts = [len(xyz) for xyz in xyzs]\n",
    "print(f\"points_counts={points_counts}\")\n",
    "\n",
    "\n",
    "# the edges of the points start and end index for each part of the component\n",
    "# e.g. the idex of xyzs[k] start at id_xyzs_edges[k], and ends at id_xyzs_edges[k+1]\n",
    "# the rot_anchors [j] start at id_xyzs_edges[n_parts+k], and ends at id_xyzs_edges[n_parts+k+1]\n",
    "id_xyzs_edges = np.cumsum([0]+[len(xyz) for xyz in xyzs])\n",
    "print(f\"id_xyzs_edges={id_xyzs_edges}\")\n",
    "list(zip(id_xyzs_edges,\"body,leg0,leg1,leg2,leg3,anchor0,anchor1,anchor2,anchor3,oxyz_body,\\\n",
    "oxyz_joint0_body,oxyz_joint0_leg0,oxyz_joint1_body,oxyz_joint1_leg1,\\\n",
    "oxyz_joint2_body,oxyz_joint2_leg2,oxyz_joint3_body,oxyz_joint3_leg3,\\\n",
    "the end\".split(\",\")))"
   ]
  },
  {
   "cell_type": "code",
   "execution_count": 158,
   "metadata": {
    "ExecuteTime": {
     "end_time": "2021-01-01T09:11:59.451845Z",
     "start_time": "2021-01-01T09:11:59.439843Z"
    }
   },
   "outputs": [
    {
     "name": "stdout",
     "output_type": "stream",
     "text": [
      "id_xyzs_anchor_start=3869\n",
      "id_xyzs_oxyz_start=3877\n",
      "id_xyzs_joint_oxyz_start=3884\n"
     ]
    }
   ],
   "source": [
    "id_xyzs_anchor_start = id_xyzs_edges[n_parts]\n",
    "print(f\"id_xyzs_anchor_start={id_xyzs_anchor_start}\")\n",
    "\n",
    "id_xyzs_oxyz_start = id_xyzs_edges[n_parts+n_joints]\n",
    "print(f\"id_xyzs_oxyz_start={id_xyzs_oxyz_start}\")\n",
    "\n",
    "id_xyzs_joint_oxyz_start = id_xyzs_edges[n_parts+n_joints+1]\n",
    "print(f\"id_xyzs_joint_oxyz_start={id_xyzs_joint_oxyz_start}\")"
   ]
  },
  {
   "cell_type": "code",
   "execution_count": 159,
   "metadata": {
    "ExecuteTime": {
     "end_time": "2021-01-01T09:11:59.658336Z",
     "start_time": "2021-01-01T09:11:59.648334Z"
    }
   },
   "outputs": [],
   "source": [
    "def GetNeighborsOXYZ(pcd,oxyz):\n",
    "    pcd_tree = o3d.geometry.KDTreeFlann(pcd)\n",
    "    oxyz_neighbors = [np.asarray(pcd_tree.search_knn_vector_3d(\n",
    "        point,knn=20)[1]) for point in oxyz]\n",
    "    return oxyz_neighbors\n",
    "# oxyzs_neighbors = [np.stack(GetNeighborsOXYZ(pcd,oxyz))+id_start \n",
    "#                    for pcd,oxyz,id_start in zip(pcd_parts,oxyzs,id_xyzs_edges)]\n",
    "\n",
    "oxyzs_neighbors = [np.stack(GetNeighborsOXYZ(pcd_parts[c.bodyId],c.oxyz))+c.id_start \n",
    "                   for c in coord_list]"
   ]
  },
  {
   "cell_type": "code",
   "execution_count": 160,
   "metadata": {
    "ExecuteTime": {
     "end_time": "2021-01-01T09:12:00.036056Z",
     "start_time": "2021-01-01T09:12:00.005041Z"
    }
   },
   "outputs": [
    {
     "name": "stdout",
     "output_type": "stream",
     "text": [
      "[3877 3878 3879 3880 3881 3882 3883]\n",
      "[3884 3885 3886 3887 3888 3889 3890]\n",
      "[3891 3892 3893 3894 3895 3896 3897]\n",
      "[3898 3899 3900 3901 3902 3903 3904]\n",
      "[3905 3906 3907 3908 3909 3910 3911]\n",
      "[3912 3913 3914 3915 3916 3917 3918]\n",
      "[3919 3920 3921 3922 3923 3924 3925]\n",
      "[3926 3927 3928 3929 3930 3931 3932]\n",
      "[3933 3934 3935 3936 3937 3938 3939]\n"
     ]
    }
   ],
   "source": [
    "# create oxyz_springs\n",
    "oxyz_self_springs = []\n",
    "oxyz_anchor_springs = []\n",
    "for oxyz,oxyz_neighbor,oxyz_id_start in zip(oxyzs,oxyzs_neighbors,id_xyzs_edges[n_parts+n_joints:]):\n",
    "    oxyz_id = np.array([oxyz_id_start+k for k in range(NUM_POINTS_PER_COORDINATE)]) # 7 points per coordinate: o,x,y,z,-x,-y,-z\n",
    "    print(oxyz_id)\n",
    "    oxyz_anchor_springs.append(\n",
    "        np.vstack([getEdges(neighbor,point_id) for point_id,neighbor in zip(oxyz_id,oxyz_neighbor)]))\n",
    "    oxyz_self_springs.append(oxyz_id[\n",
    "        np.array((\n",
    "    (0,1),#ox\n",
    "    (0,2),#oy\n",
    "    (0,3),#oz\n",
    "    (0,4),#o-x\n",
    "    (0,5),#o-y\n",
    "    (0,6),#o-z\n",
    "    (1,2),#xy\n",
    "    (1,3),#xz\n",
    "    (1,4),#x-x\n",
    "    (1,5),#x-y\n",
    "    (1,6),#x-z\n",
    "    (2,3),#yz\n",
    "    (2,4),#y-x\n",
    "    (2,5),#y-y\n",
    "    (2,6),#y-z\n",
    "    (3,4),#z-x\n",
    "    (3,5),#z-y\n",
    "    (3,6),#z-z\n",
    "    (4,5),#-x-y\n",
    "    (4,6),#-x-z\n",
    "    (5,6)#-y-z\n",
    "    ))])\n",
    "oxyz_self_springs = np.vstack(oxyz_self_springs)\n",
    "oxyz_anchor_springs = np.vstack(oxyz_anchor_springs)"
   ]
  },
  {
   "cell_type": "code",
   "execution_count": 703,
   "metadata": {
    "ExecuteTime": {
     "end_time": "2021-01-04T16:30:13.750448Z",
     "start_time": "2021-01-04T16:30:13.735689Z"
    }
   },
   "outputs": [
    {
     "data": {
      "text/plain": [
       "21"
      ]
     },
     "execution_count": 703,
     "metadata": {},
     "output_type": "execute_result"
    }
   ],
   "source": []
  },
  {
   "cell_type": "code",
   "execution_count": 161,
   "metadata": {
    "ExecuteTime": {
     "end_time": "2021-01-01T09:12:00.384969Z",
     "start_time": "2021-01-01T09:12:00.377976Z"
    }
   },
   "outputs": [
    {
     "data": {
      "text/plain": [
       "array([3933, 3934, 3935, 3936, 3937, 3938, 3939], dtype=int32)"
      ]
     },
     "execution_count": 161,
     "metadata": {},
     "output_type": "execute_result"
    }
   ],
   "source": [
    "oxyz_id"
   ]
  },
  {
   "cell_type": "code",
   "execution_count": 233,
   "metadata": {
    "ExecuteTime": {
     "end_time": "2020-03-29T04:21:47.129235Z",
     "start_time": "2020-03-29T04:21:47.121231Z"
    },
    "deletable": false,
    "editable": false,
    "run_control": {
     "frozen": true
    }
   },
   "outputs": [],
   "source": [
    "# # ids of the leg at rotational joint\n",
    "# # assume body index start at id_xyzs_edges[0]\n",
    "# # leg[k] index start at id_xyzs_edges[k+1], ends at id_xyzs_edges[k+2]\n",
    "# joints = []\n",
    "# for k,(body_rot_id,leg_rot_id) in enumerate(joint_tuples):\n",
    "#     body_rot_id_actual = np.ravel(np.where(body_rot_id))+id_xyzs_edges[0]\n",
    "#     leg_rot_id_actual = np.ravel(np.where(leg_rot_id))+id_xyzs_edges[1+k]\n",
    "#     anchors_id = np.arange(id_xyzs_edges[len(xyz_parts)+k],id_xyzs_edges[len(xyz_parts)+k+1])\n",
    "#     # (left_ids,right_ids,anchors_id)\n",
    "#     joints.append([body_rot_id_actual,leg_rot_id_actual,anchors_id])\n",
    "\n",
    "# joints_list = [[m.tolist() for m in joint] for joint in joints]"
   ]
  },
  {
   "cell_type": "code",
   "execution_count": 162,
   "metadata": {
    "ExecuteTime": {
     "end_time": "2021-01-01T09:12:01.207558Z",
     "start_time": "2021-01-01T09:12:01.190512Z"
    },
    "deletable": false,
    "editable": false
   },
   "outputs": [],
   "source": [
    "def CreateJointLines(id_0, id_1, id_joint):\n",
    "    \"\"\"\n",
    "    return the joint lines(rotation springs) defined by a joint \n",
    "    input:\n",
    "        id_0: m numpy indices of the first points\n",
    "        id_1: n numpy indices of the second points\n",
    "        id_joint: 2 indices of the end points of a joint\n",
    "    \"\"\"\n",
    "    return np.vstack([np.column_stack([id_0, [id_joint[0]]*len(id_0)]), # left  (id_0) - axis_0\n",
    "            np.column_stack([id_1, [id_joint[0]]*len(id_1)]), # left  (id_0) - axis_1\n",
    "            np.column_stack([id_0, [id_joint[1]]*len(id_0)]), # right (id_1) - axis_0\n",
    "            np.column_stack([id_1, [id_joint[1]]*len(id_1)])]) # right (id_1) - axis_1\n",
    "\n",
    "def CreateJointFrictionSpring(id_0, id_1,num_spring_per_mass= 30):\n",
    "    \"\"\"\n",
    "    return the friction springs defined by a joint \n",
    "    input:\n",
    "        id_0: m numpy indices of the first points\n",
    "        id_1: n numpy indices of the second points\n",
    "    \"\"\"\n",
    "    max_size = int((len(id_0)+len(id_1))*num_spring_per_mass/2)\n",
    "    frictionSpring = np.vstack([np.column_stack([[id_0_k]*len(id_1),id_1]) for id_0_k in id_0])\n",
    "    if frictionSpring.shape[0]>max_size:\n",
    "        frictionSpring = frictionSpring[np.random.choice(frictionSpring.shape[0], max_size, replace=False)]\n",
    "    return frictionSpring"
   ]
  },
  {
   "cell_type": "code",
   "execution_count": 163,
   "metadata": {
    "ExecuteTime": {
     "end_time": "2021-01-01T09:12:01.742543Z",
     "start_time": "2021-01-01T09:12:01.719477Z"
    },
    "deletable": false,
    "editable": false
   },
   "outputs": [],
   "source": [
    "class Joint:\n",
    "    def __init__(s, left, right, anchor):\n",
    "        s.left = np.copy(left)  # indices of the left mass\n",
    "        s.right = right  # indices of the right mass\n",
    "        s.anchor = anchor  # indices of the two ends of the center of rotation\n",
    "        s.rotSpring = CreateJointLines(\n",
    "            s.left, s.right, s.anchor)  # rotation spring\n",
    "        s.friSpring = CreateJointFrictionSpring(\n",
    "            s.left, s.right)  # friction spring\n",
    "        s.leftCoord = None\n",
    "        s.righCoord = None\n",
    "\n",
    "    def __repr__(s):\n",
    "        s_rotationSpring = np.array2string(\n",
    "            s.rotSpring, threshold=10, edgeitems=2).replace(\"\\n\", \",\")\n",
    "        s_frictionSpring = np.array2string(\n",
    "            s.friSpring, threshold=10, edgeitems=2).replace(\"\\n\", \",\")\n",
    "\n",
    "        return f\"{{left({len(s.left)}):  {np.array2string(s.left,threshold=10,edgeitems=5)}\\n\" +\\\n",
    "               f\" right({len(s.right)}): {np.array2string(s.right,threshold=10,edgeitems=5)}\\n\" +\\\n",
    "            f\" anchor(2): {s.anchor}\\n\" +\\\n",
    "               f\" leftCoord: {s.leftCoord}\\n\" +\\\n",
    "            f\" righCoord: {s.righCoord}\\n\" +\\\n",
    "            f\" rotSpring({len(s.rotSpring)}):{s_rotationSpring}\\n\" +\\\n",
    "            f\" friSpring({len(s.friSpring)}):{s_frictionSpring}}}\"\n",
    "\n",
    "    def tolist(s):\n",
    "        return [s.left.tolist(), s.right.tolist(), s.anchor.tolist(), int(s.leftCoord), int(s.righCoord)]"
   ]
  },
  {
   "cell_type": "code",
   "execution_count": 164,
   "metadata": {
    "ExecuteTime": {
     "end_time": "2021-01-01T09:12:02.168376Z",
     "start_time": "2021-01-01T09:12:02.149371Z"
    }
   },
   "outputs": [
    {
     "data": {
      "text/plain": [
       "[{left(44):  [1355 1356 1357 1358 1359 ... 2115 2137 2138 2145 2153]\n",
       "  right(54): [2519 2520 2529 2531 2535 ... 2677 2678 2679 2680 2683]\n",
       "  anchor(2): [3869 3870]\n",
       "  leftCoord: 3884\n",
       "  righCoord: 3891\n",
       "  rotSpring(196):[[1355 3869], [1356 3869], ..., [2680 3870], [2683 3870]]\n",
       "  friSpring(1470):[[2064 2643], [1363 2683], ..., [2137 2520], [2113 2668]]},\n",
       " {left(44):  [ 560  561  562  563  564 ... 2191 2192 2193 2197 2204]\n",
       "  right(54): [2914 2915 2924 2926 2930 ... 3072 3073 3074 3075 3078]\n",
       "  anchor(2): [3871 3872]\n",
       "  leftCoord: 3898\n",
       "  righCoord: 3905\n",
       "  rotSpring(196):[[ 560 3871], [ 561 3871], ..., [3075 3872], [3078 3872]]\n",
       "  friSpring(1470):[[ 579 3050], [ 565 3042], ..., [ 575 2950], [ 568 3030]]},\n",
       " {left(47):  [ 456  457  458  459  460 ... 2280 2281 2282 2283 2284]\n",
       "  right(54): [3309 3310 3319 3321 3325 ... 3467 3468 3469 3470 3473]\n",
       "  anchor(2): [3873 3874]\n",
       "  leftCoord: 3912\n",
       "  righCoord: 3919\n",
       "  rotSpring(202):[[ 456 3873], [ 457 3873], ..., [3470 3874], [3473 3874]]\n",
       "  friSpring(1515):[[ 464 3432], [ 464 3346], ..., [2284 3331], [ 470 3453]]},\n",
       " {left(46):  [ 907  908  909  910  911 ... 2133 2152 2159 2173 2187]\n",
       "  right(54): [3704 3705 3714 3716 3720 ... 3862 3863 3864 3865 3868]\n",
       "  anchor(2): [3875 3876]\n",
       "  leftCoord: 3926\n",
       "  righCoord: 3933\n",
       "  rotSpring(200):[[ 907 3875], [ 908 3875], ..., [3865 3876], [3868 3876]]\n",
       "  friSpring(1500):[[ 921 3848], [2119 3837], ..., [2133 3868], [2133 3833]]}]"
      ]
     },
     "execution_count": 164,
     "metadata": {},
     "output_type": "execute_result"
    }
   ],
   "source": [
    "# ids of the leg at rotational joint\n",
    "# assume body index start at id_xyzs_edges[0]\n",
    "# leg[k] index start at id_xyzs_edges[k+1], ends at id_xyzs_edges[k+2]\n",
    "joints = []\n",
    "for k,(body_rot_id,leg_rot_id) in enumerate(joint_tuples):\n",
    "    body_rot_id_actual = np.ravel(np.where(body_rot_id))+id_xyzs_edges[0]\n",
    "    leg_rot_id_actual = np.ravel(np.where(leg_rot_id))+id_xyzs_edges[1+k]\n",
    "    anchors_id = np.arange(id_xyzs_edges[len(xyz_parts)+k],id_xyzs_edges[len(xyz_parts)+k+1])\n",
    "    # (left_ids,right_ids,anchors_id)\n",
    "    \n",
    "    joints.append(Joint(body_rot_id_actual,leg_rot_id_actual,anchors_id))\n",
    "\n",
    "for k in range(n_joints):\n",
    "    joints[k].leftCoord = id_xyzs_joint_oxyz_start+NUM_POINTS_PER_COORDINATE*2*k\n",
    "    joints[k].righCoord = id_xyzs_joint_oxyz_start+(NUM_POINTS_PER_COORDINATE*2)*k + NUM_POINTS_PER_COORDINATE\n",
    "    \n",
    "joints_list = [joint.tolist() for joint in joints]\n",
    "joints"
   ]
  },
  {
   "cell_type": "code",
   "execution_count": 165,
   "metadata": {
    "ExecuteTime": {
     "end_time": "2021-01-01T09:12:02.674635Z",
     "start_time": "2021-01-01T09:12:02.662623Z"
    },
    "deletable": false,
    "editable": false
   },
   "outputs": [
    {
     "name": "stdout",
     "output_type": "stream",
     "text": [
      "id_joint_keypoints:\n",
      "[[3869 3870]\n",
      " [3871 3872]\n",
      " [3873 3874]\n",
      " [3875 3876]]\n",
      "id_lines_edges:[    0 21857 25893 29929 33965 38001 38005 38799 44754 44943 46203]\n"
     ]
    },
    {
     "data": {
      "text/plain": [
       "[(0, 'body'),\n",
       " (21857, 'leg0'),\n",
       " (25893, 'leg1'),\n",
       " (29929, 'leg2'),\n",
       " (33965, 'leg3'),\n",
       " (38001, 'anchors'),\n",
       " (38005, 'rotsprings'),\n",
       " (38799, 'fricsprings'),\n",
       " (44754, 'oxyz_self_springs'),\n",
       " (44943, 'oxyz_anchor_springs'),\n",
       " (46203, 'the end')]"
      ]
     },
     "execution_count": 165,
     "metadata": {},
     "output_type": "execute_result"
    }
   ],
   "source": [
    "# array of (the index of the axis points of a joint)\n",
    "id_joint_keypoints = np.vstack([joint.anchor for joint in joints])\n",
    "print(f\"id_joint_keypoints:\\n{id_joint_keypoints}\")\n",
    "# [body_lines,leg_lines_0,leg_lines_1,leg_lines_2,leg_lines_3]\n",
    "lines_component_list = [lines + id_start for lines,\n",
    "              id_start in zip(lines_parts, id_xyzs_edges)]\n",
    "\n",
    "lines_joint_rotation = np.vstack([joint.rotSpring for joint in joints])\n",
    "\n",
    "lines_joint_friction = np.vstack([joint.friSpring for joint in joints])\n",
    "# list of all the edges of the assembly\n",
    "\n",
    "lines_all_list = lines_component_list+[id_joint_keypoints,lines_joint_rotation,lines_joint_friction,\n",
    "                                       oxyz_self_springs,oxyz_anchor_springs]\n",
    "lines_all = np.vstack(lines_all_list)\n",
    "\n",
    "id_lines_edges = np.cumsum([0]+[len(lines) for lines in lines_all_list])\n",
    "print(f\"id_lines_edges:{id_lines_edges}\")\n",
    "id_lines_edges[n_parts]\n",
    "\n",
    "list(zip(id_lines_edges,\"body,leg0,leg1,leg2,leg3,anchors,rotsprings,\\\n",
    "fricsprings,oxyz_self_springs,oxyz_anchor_springs,the end\".split(',')))"
   ]
  },
  {
   "cell_type": "code",
   "execution_count": 166,
   "metadata": {
    "ExecuteTime": {
     "end_time": "2021-01-01T09:12:03.006831Z",
     "start_time": "2021-01-01T09:12:02.989818Z"
    }
   },
   "outputs": [],
   "source": [
    "# # np.asarray(pcd_body.colors)[np.sum(body_rot_ids,axis = 0,dtype=bool)]=(0,255,0)\n",
    "# for k in range(4):\n",
    "#     np.asarray(legs[k].colors)[leg_rot_id] = (0,255,0)\n",
    "#     np.asarray(pcd_body.colors)[body_rot_ids[k]] = (0,0,255)"
   ]
  },
  {
   "cell_type": "code",
   "execution_count": 167,
   "metadata": {
    "ExecuteTime": {
     "end_time": "2021-01-01T09:12:03.835524Z",
     "start_time": "2021-01-01T09:12:03.758929Z"
    }
   },
   "outputs": [],
   "source": [
    "pcd_assembly = o3d.geometry.PointCloud()\n",
    "pcd_assembly.points = o3d.utility.Vector3dVector(xyz_all)\n",
    "pcd_assembly.colors = o3d.utility.Vector3dVector(colors_all)\n",
    "\n",
    "lsd_assembly = o3d.geometry.LineSet()\n",
    "lsd_assembly.points = o3d.utility.Vector3dVector(xyz_all)\n",
    "# lsd_assembly.lines = o3d.utility.Vector2iVector(lines_all[id_lines_edges[n_parts]:])\n",
    "\n",
    "lsd_assembly.lines = o3d.utility.Vector2iVector(lines_all)\n",
    "\n",
    "# lsd_assembly.lines = o3d.utility.Vector2iVector(lines_all[id_lines_edges[6]:id_lines_edges[7]]) #joint rotspring\n",
    "# lsd_assembly.lines = o3d.utility.Vector2iVector(lines_all[id_lines_edges[7]:id_lines_edges[8]]) #joint friciton spring\n",
    "\n",
    "\n",
    "# lsd_assembly.lines = o3d.utility.Vector2iVector(oxyz_self_springs)\n",
    "# lsd_assembly.lines = o3d.utility.Vector2iVector(oxyz_anchor_springs)\n",
    "# lsd_assembly.lines = o3d.utility.Vector2iVector(np.vstack((oxyz_anchor_springs,oxyz_self_springs)))\n",
    "\n",
    "lsd_assembly.colors = o3d.utility.Vector3dVector((colors_all[lines_all[:,0]]+colors_all[lines_all[:,1]])/2)\n",
    "# o3d.visualization.draw_geometries([pcd_assembly,lsd_assembly,coord_frame]+coord_joint_left)\n",
    "\n",
    "# o3d.visualization.draw_geometries_with_animation_callback([pcd_assembly,lsd_assembly,coord_body]+coord_joint_left,rotate_view)\n"
   ]
  },
  {
   "cell_type": "code",
   "execution_count": 168,
   "metadata": {
    "ExecuteTime": {
     "end_time": "2021-01-01T09:12:04.277344Z",
     "start_time": "2021-01-01T09:12:04.261915Z"
    },
    "deletable": false,
    "editable": false
   },
   "outputs": [
    {
     "name": "stdout",
     "output_type": "stream",
     "text": [
      "#springs =46203\n",
      "#mass =3940\n"
     ]
    }
   ],
   "source": [
    "print(\"#springs =%i\"%(len(lines_all)))\n",
    "print(\"#mass =%i\"%(len(xyz_all)))\n",
    "\n",
    "# # KDTree for nearest neighbor search\n",
    "# pcd_assembly_tree = o3d.geometry.KDTreeFlann(pcd_assembly)\n",
    "\n",
    "# # o3d.visualization.draw_geometries([pcd_leg_d,coord_frame])\n",
    "\n",
    "# neighbors = [np.asarray(pcd_assembly_tree.search_radius_vector_3d(point, radius_knn)[1])\n",
    "#              for point in xyz_all]\n",
    "# # neighbors = [np.asarray(pcd_assembly_tree.search_hybrid_vector_3d(point, radius_knn,max_nn = 27))[1] for point in xyz_all]\n",
    "\n",
    "# # check the distance of the springs\n",
    "# fig, ax = plt.subplots(figsize=(20,2))\n",
    "# hist,bin_edges,_ =ax.hist(np.linalg.norm(xyz_all[lines_all[:,0]] - xyz_all[lines_all[:,1]],axis=1),bins=200)\n",
    "# ax.text(bin_edges[0],0,f\"{bin_edges[0]:.1f}\",ha=\"center\",va=\"top\",fontsize=\"x-large\",color='r')\n",
    "# ax.text(bin_edges[-1],0,f\"{bin_edges[-1]:.1f}\",ha=\"center\",va=\"top\",fontsize=\"x-large\",color='r')\n",
    "# ax.set_xlabel(\"spring length\")\n",
    "# ax.set_ylabel(\"count\")\n",
    "# plt.show()\n",
    "\n",
    "# neighbor_counts = np.array([len(neighbor) for neighbor in neighbors])\n",
    "# print(f\"mean neighbors ={np.mean(neighbor_counts)}\")\n",
    "# fig, ax = plt.subplots(figsize=(20,2))\n",
    "# hist,bin_edges,patches =ax.hist(neighbor_counts,bins=28,range=(0,28))\n",
    "# ax.set_xlabel(\"#neighbors (including self)\")\n",
    "# ax.set_ylabel(\"count\")\n",
    "# # ax.text(surface_neighbor_threshold,0,f\"{surface_neighbor_threshold}\",ha=\"center\",va=\"top\",fontsize=\"x-large\",color='r')\n",
    "# plt.show()\n",
    "\n",
    "\n",
    "\n",
    "# # average divergence of the neighbors from a point\n",
    "# average_divergence = np.linalg.norm([xyz_all[n].mean(axis=0)-xyz_all[n[0]] for n in neighbors],axis=1)\n",
    "# fig, ax = plt.subplots(figsize=(20,2))\n",
    "# hist,bin_edges,patches =ax.hist(average_divergence,bins=100)\n",
    "# ax.set_xlabel(\"mean divergence of neighbors (including self)\")\n",
    "# ax.set_ylabel(\"count\")\n",
    "# plt.show()\n",
    "\n",
    "# # is_suface is boolean array to specify wether the point is near the surface, useful for applying contraints\n",
    "# surface_neighbor_threshold = int(max_nn*0.9)\n",
    "# is_suface = np.logical_or(average_divergence>0.6*radius_poisson,neighbor_counts<surface_neighbor_threshold)\n",
    "# is_suface[id_xyzs_edges[n_parts]:]=False # only body parts are considered\n",
    "# print(f\"%surface points = {is_suface.sum()/len(is_suface)*100:.0f}%\")"
   ]
  },
  {
   "cell_type": "code",
   "execution_count": 169,
   "metadata": {
    "ExecuteTime": {
     "end_time": "2021-01-01T09:12:04.955038Z",
     "start_time": "2021-01-01T09:12:04.941989Z"
    }
   },
   "outputs": [],
   "source": [
    "is_suface = np.ones(len(xyz_all),dtype=bool)\n",
    "\n",
    "# is_suface = np.zeros(len(xyz_all),dtype=bool)\n",
    "# is_suface[id_xyzs_edges[0]:id_xyzs_edges[1]]=is_surface_body\n",
    "# for k in range(4):\n",
    "#     is_suface[id_xyzs_edges[1+k]:id_xyzs_edges[2+k]]=is_surface_leg\n",
    "\n",
    "# colors_all_check = np.copy(colors_all)\n",
    "# colors_all_check[is_suface]=(1,0.2,0.2)\n",
    "# colors_all_check[~is_suface]=(0,0,0.1)\n",
    "\n",
    "# pcd_assembly.colors = o3d.utility.Vector3dVector(colors_all_check)\n",
    "# lsd_assembly.colors = o3d.utility.Vector3dVector((colors_all_check[lines_all[:,0]]+colors_all_check[lines_all[:,1]])/2)\n",
    "\n",
    "# o3d.visualization.draw_geometries([pcd_assembly,coord_frame]+coord_joint_left)\n",
    "\n",
    "# o3d.visualization.draw_geometries([pcd_assembly])\n",
    "\n",
    "# o3d.visualization.draw_geometries([pcd_assembly,lsd_assembly])\n",
    "\n",
    "# o3d.visualization.draw_geometries([pcd_assembly,coord_frame]+coord_joint_left)\n",
    "\n",
    "# o3d.visualization.draw_geometries([pcd_assembly,lsd_assembly,coord_frame]+coord_joint_left)"
   ]
  },
  {
   "cell_type": "markdown",
   "metadata": {},
   "source": [
    "# export assembly"
   ]
  },
  {
   "cell_type": "code",
   "execution_count": 170,
   "metadata": {
    "ExecuteTime": {
     "end_time": "2021-01-01T09:15:09.100419Z",
     "start_time": "2021-01-01T09:12:06.536270Z"
    }
   },
   "outputs": [
    {
     "name": "stdout",
     "output_type": "stream",
     "text": [
      "[-0.18676242 -0.17285726  0.        ]\n",
      "[0.18676242 0.17285726 0.19133422]\n",
      "(3940, 3)\n",
      "(46203, 2)\n"
     ]
    }
   ],
   "source": [
    "# transoformed so that z is pointed up\n",
    "xyz_all_trans = applyTransform(xyz_all,\n",
    "                               np.array([[0, 1, 0],\n",
    "                                         [0, 0, 1],\n",
    "                                         [1, 0, 0]]).T)\n",
    "\n",
    "# xyz_all_trans = xyz_all.copy() # stand pose\n",
    "\n",
    "min_bound = xyz_all_trans.min(axis=0)\n",
    "\n",
    "# transoformed ofset scaled mm->m\n",
    "xyz_all_trans = (xyz_all_trans + np.array([0, 0, 0-min_bound[-1]+0]))/1000\n",
    "\n",
    "# rotation about z\n",
    "# xyz_all_trans =applyTransform(xyz_all_trans, axisAngleRotation([0,0,1],-20*np.pi/180))\n",
    "\n",
    "\n",
    "pcd_assembly = o3d.geometry.PointCloud(\n",
    "    o3d.utility.Vector3dVector(xyz_all_trans))\n",
    "pcd_assembly.colors = o3d.utility.Vector3dVector(colors_all)\n",
    "lsd_assembly = o3d.geometry.LineSet(\n",
    "    o3d.utility.Vector3dVector(xyz_all_trans),\n",
    "    o3d.utility.Vector2iVector(lines_all),\n",
    ")\n",
    "lsd_assembly.colors = o3d.utility.Vector3dVector(colors_all[lines_all].mean(axis=1))\n",
    "\n",
    "coord_frame_mm = o3d.geometry.TriangleMesh.create_coordinate_frame(\n",
    "    size=0.06, origin=[0, 0, 0])\n",
    "o3d.visualization.draw_geometries([pcd_assembly,lsd_assembly, coord_frame_mm])\n",
    "\n",
    "data = [\n",
    "    xyz_all_trans.tolist(),\n",
    "    lines_all.tolist(),\n",
    "    is_suface.tolist(),\n",
    "    id_xyzs_edges.tolist(),\n",
    "    id_lines_edges.tolist(),\n",
    "    colors_all.tolist(),\n",
    "    joints_list\n",
    "]\n",
    "print(xyz_all_trans.min(axis=0))\n",
    "print(xyz_all_trans.max(axis=0))\n",
    "print(xyz_all_trans.shape)\n",
    "print(lines_all.shape)\n",
    "\n",
    "\n",
    "# https://stackoverflow.com/questions/43442194/how-do-i-read-and-write-with-msgpack\n",
    "\n",
    "# Write msgpack file\n",
    "with open('../data.msgpack', 'wb') as outfile:\n",
    "    msgpack.pack(data, outfile)"
   ]
  },
  {
   "cell_type": "code",
   "execution_count": 148,
   "metadata": {
    "ExecuteTime": {
     "end_time": "2021-01-01T09:10:35.886024Z",
     "start_time": "2021-01-01T09:10:35.857028Z"
    }
   },
   "outputs": [
    {
     "data": {
      "text/plain": [
       "(44877, 3)"
      ]
     },
     "execution_count": 148,
     "metadata": {},
     "output_type": "execute_result"
    }
   ],
   "source": [
    "colors_all[lines_all].mean(axis=1).shape"
   ]
  },
  {
   "cell_type": "code",
   "execution_count": 101,
   "metadata": {
    "ExecuteTime": {
     "end_time": "2021-01-01T09:07:49.119313Z",
     "start_time": "2021-01-01T09:07:49.094296Z"
    }
   },
   "outputs": [
    {
     "name": "stdout",
     "output_type": "stream",
     "text": [
      "42030\n"
     ]
    }
   ],
   "source": [
    "# Read msgpack file\n",
    "with open('../data.msgpack','rb') as data_file:\n",
    "    # data_loaded = json.load(data_file)\n",
    "    data_loaded = msgpack.unpack(data_file)\n",
    "print(len(data_loaded[1]))"
   ]
  },
  {
   "cell_type": "code",
   "execution_count": 102,
   "metadata": {
    "ExecuteTime": {
     "end_time": "2021-01-01T09:07:49.433545Z",
     "start_time": "2021-01-01T09:07:49.418532Z"
    }
   },
   "outputs": [],
   "source": [
    "# x = b'\\x01\\x02'\n",
    "\n",
    "# dt = np.dtype(np.uint16)\n",
    "# dt = dt.newbyteorder('>')\n",
    "# np.frombuffer(x,dtype=dt)"
   ]
  },
  {
   "cell_type": "code",
   "execution_count": null,
   "metadata": {
    "deletable": false,
    "editable": false,
    "run_control": {
     "frozen": true
    }
   },
   "outputs": [],
   "source": [
    "mesh = trimesh.load(\"../../mesh/leg_simplified.stl\", use_embree=True)\n",
    "mesh_dict = mesh.to_dict()\n",
    "\n",
    "bounds,xyz_grid_edge,xyz_grid_inside = voxelizeMesh(mesh)\n",
    "##############################\n",
    "# print(mesh.is_watertight)\n",
    "# # make mesh white- ish\n",
    "# mesh.visual.face_colors = (255,255,255,255)\n",
    "# mesh.show()\n",
    "\n",
    "####################################\n",
    "n_jobs = int(multiprocessing.cpu_count()*0.2)\n",
    "total_jobs = n_jobs*2\n",
    "result = Parallel(n_jobs=n_jobs)(delayed(sample_helper)(\n",
    "    mesh_dict, xyz_grid_edge, xyz_grid_inside) for k in range(total_jobs))\n",
    "\n",
    "# find the leg that has the least deviation from the centerline in the first section\n",
    "mse_list = [np.linalg.norm(np.mean(v[v[:,0]<=0],axis=0)[1:]) for v in result]\n",
    "vertices = result[np.argmin(mse_list)]\n",
    "\n",
    "with np.printoptions(precision=3, suppress=True):\n",
    "    print(\"COM at 1st section:\",np.mean(vertices[vertices[:,0]<=0],axis=0))\n",
    "    print(\"COM:\",np.mean(vertices,axis=0))\n",
    "    \n",
    "    \n",
    "#########################################\n",
    "signed_distance = trimesh.proximity.signed_distance(mesh,vertices)\n",
    "nsd = normalize(signed_distance) # normalized_signed_distance\n",
    "\n",
    "pcd_o3d = o3d.geometry.PointCloud(o3d.utility.Vector3dVector(vertices))\n",
    "\n",
    "cmap = plt.cm.get_cmap('plasma')\n",
    "pcd_o3d.colors = o3d.utility.Vector3dVector(cmap(nsd)[:,:3])\n",
    "\n",
    "# KDTree for nearest neighbor search\n",
    "pcd_tree = o3d.geometry.KDTreeFlann(pcd_o3d)\n",
    "neighbors = [np.asarray(pcd_tree.search_hybrid_vector_3d(point, radius_knn,max_nn = max_nn)[1]) for point in vertices]\n",
    "edges = np.vstack([GetEdges(neighbor[:max_nn]) for neighbor in neighbors])\n",
    "# trim springs outside the mesh\n",
    "mid_points = GetMidpoints(vertices,edges)\n",
    "is_inside=mesh.ray.contains_points(mid_points)\n",
    "edges = edges[is_inside]\n",
    "\n",
    "\n",
    "lsd_o3d = o3d.geometry.LineSet(\n",
    "    o3d.utility.Vector3dVector(vertices), \n",
    "    o3d.utility.Vector2iVector(edges))\n",
    "    \n",
    "o3d.visualization.draw_geometries([pcd_o3d,lsd_o3d, coord_frame])"
   ]
  },
  {
   "cell_type": "code",
   "execution_count": null,
   "metadata": {},
   "outputs": [],
   "source": []
  },
  {
   "cell_type": "code",
   "execution_count": 274,
   "metadata": {
    "ExecuteTime": {
     "end_time": "2021-01-04T06:24:55.499950Z",
     "start_time": "2021-01-04T06:24:55.490429Z"
    }
   },
   "outputs": [],
   "source": []
  },
  {
   "cell_type": "code",
   "execution_count": null,
   "metadata": {},
   "outputs": [],
   "source": []
  }
 ],
 "metadata": {
  "kernelspec": {
   "display_name": "Python 3",
   "language": "python",
   "name": "python3"
  },
  "language_info": {
   "codemirror_mode": {
    "name": "ipython",
    "version": 3
   },
   "file_extension": ".py",
   "mimetype": "text/x-python",
   "name": "python",
   "nbconvert_exporter": "python",
   "pygments_lexer": "ipython3",
   "version": "3.8.5"
  }
 },
 "nbformat": 4,
 "nbformat_minor": 2
}
