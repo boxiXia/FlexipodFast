{
 "cells": [
  {
   "cell_type": "code",
   "execution_count": 1,
   "metadata": {
    "ExecuteTime": {
     "end_time": "2020-11-19T09:22:20.824911Z",
     "start_time": "2020-11-19T09:22:16.982335Z"
    }
   },
   "outputs": [
    {
     "name": "stdout",
     "output_type": "stream",
     "text": [
      "open3d :0.11.1\n",
      "trimesh:3.8.12\n",
      "numba  :0.51.2\n"
     ]
    }
   ],
   "source": [
    "import msgpack\n",
    "import open3d as o3d\n",
    "import trimesh\n",
    "import point_cloud_utils as pcu # downsampling\n",
    "from IPython.display import display, Math\n",
    "import numpy as np\n",
    "import matplotlib.pyplot as plt\n",
    "import numba\n",
    "from joblib import Parallel, delayed # multiprocessing\n",
    "import multiprocessing\n",
    "import copy\n",
    "from scipy.ndimage.morphology import binary_dilation, binary_erosion\n",
    "from scipy.spatial.transform import Rotation\n",
    "\n",
    "plt.style.use('seaborn-whitegrid')\n",
    "%config InlineBackend.figure_format = 'retina'\n",
    "\n",
    "print(f\"open3d :{o3d.__version__}\")\n",
    "print(f\"trimesh:{trimesh.__version__}\")\n",
    "print(f\"numba  :{numba.__version__}\")\n",
    "###########################################################\n",
    "def NormalizeSignedDistance(signed_distance, zero_map_to=0.5):\n",
    "    \"\"\"\n",
    "    Normalize to 0-1\n",
    "    min-0 map to 0-0.5\n",
    "    0-max map to 0.5-1\n",
    "    \"\"\"\n",
    "    is_negative = signed_distance < 0\n",
    "\n",
    "    normalized_distance = np.zeros_like(signed_distance)\n",
    "    minimum = signed_distance.min()\n",
    "    maximum = signed_distance.max()\n",
    "    normalized_distance[is_negative] = (\n",
    "        signed_distance[is_negative] - minimum) / np.abs(minimum) * zero_map_to\n",
    "    normalized_distance[~is_negative] = zero_map_to + \\\n",
    "        signed_distance[~is_negative]/np.abs(maximum)*(1-zero_map_to)\n",
    "    return normalized_distance\n",
    "\n",
    "\n",
    "# https://matplotlib.org/tutorials/colors/colormaps.html\n",
    "cmap = plt.cm.get_cmap('hot')\n",
    "\n",
    "coord_frame = o3d.geometry.TriangleMesh.create_coordinate_frame(\n",
    "    size=60, origin=[0, 0, 0])\n",
    "\n",
    "\n",
    "def rotate_view(vis):\n",
    "    ctr = vis.get_view_control()\n",
    "    ctr.rotate(1.0, 0.0)\n",
    "    return False\n",
    "\n",
    "# @numba.jit([\"float64[:,:](float64[:,::1], float64,int64)\",\n",
    "#             \"float64[:,:](float64[:,:], float64,int64)\"],nopython=True)\n",
    "\n",
    "\n",
    "\n",
    "@numba.jit([\n",
    "    (numba.types.Array(numba.types.float64, 2, 'C', readonly=True),numba.types.float64,numba.types.int64),\n",
    "    (numba.types.Array(numba.types.float64, 2, 'C', readonly=False),numba.types.float64,numba.types.int64)],\n",
    "    nopython=True,nogil=True)\n",
    "def UniformRandomAroundPoints(points,radius,num_per_grid=50):\n",
    "    num_grid = points.shape[0]\n",
    "    xyz = np.empty((num_grid*num_per_grid,3),dtype=np.float64)\n",
    "#     for i,point in enumerate(points):\n",
    "    for i in range(num_grid):\n",
    "        point = points[i]\n",
    "        start = num_per_grid*i\n",
    "        end = start+num_per_grid\n",
    "        xyz[start:end,0] = np.random.uniform(point[0]-radius,point[0]+radius,num_per_grid)\n",
    "        xyz[start:end,1] = np.random.uniform(point[1]-radius,point[1]+radius,num_per_grid)\n",
    "        xyz[start:end,2] = np.random.uniform(point[2]-radius,point[2]+radius,num_per_grid)\n",
    "    return xyz\n",
    "\n",
    "# example, compile\n",
    "_ = UniformRandomAroundPoints(np.zeros((2,3)),1.0,num_per_grid=5) \n",
    "_ = UniformRandomAroundPoints(np.ascontiguousarray(np.zeros((2,3))),1.0,num_per_grid=5) \n",
    "########################################################################################\n",
    "########## geometry #####################################################################\n",
    "def RotateFromVec(vec, angle):\n",
    "    vec = np.asarray(vec, dtype=np.float64)\n",
    "    vec_norm = np.linalg.norm(vec)\n",
    "    if vec_norm != 1:\n",
    "        vec = vec/vec_norm\n",
    "    vec *= angle\n",
    "    h = np.eye(4)\n",
    "    h[:3, :3] = Rotation.from_rotvec(vec).as_matrix()\n",
    "    return h\n",
    "\n",
    "\n",
    "def Translate(vec, h=None):\n",
    "    if h is None:\n",
    "        h = np.eye(4)\n",
    "    h[:3, -1] += vec\n",
    "    return h\n",
    "\n",
    "def ApplyTransform(xyz, t):\n",
    "    \"\"\"\n",
    "    apply transform t to xyz, !!Note that t is transposed!!!\n",
    "    if transform.shape=(3,3): rotation\n",
    "    if transform.shape=(4,4): homogegenious transformation (rotation+translation)\n",
    "    \"\"\"\n",
    "    xyz = np.asarray(xyz)\n",
    "    if t.shape == (3,3): # rotation matrix\n",
    "        return np.dot(xyz, t.T)\n",
    "    elif t.shape ==(4,4): # homogeneous matrix\n",
    "        return np.dot(xyz, t[:-1, :-1].T)+t[:-1, -1]\n",
    "    else:\n",
    "        raise AssertionError(\"dimension error\")"
   ]
  },
  {
   "cell_type": "code",
   "execution_count": 155,
   "metadata": {
    "ExecuteTime": {
     "end_time": "2020-10-09T05:59:08.413147Z",
     "start_time": "2020-10-09T05:59:08.405159Z"
    }
   },
   "outputs": [
    {
     "name": "stdout",
     "output_type": "stream",
     "text": [
      "24.248711305964278\n",
      "10\n",
      "4.0\n"
     ]
    }
   ],
   "source": [
    "########## discretization parameters ##############\n",
    "radius_poisson = float(10) # radius for the poisson sampling\n",
    "radius_knn = radius_poisson*np.sqrt(3)*1.4\n",
    "# max_nn = 28 # maximun number of neighbors for a mass point (including self)\n",
    "max_nn = int(24)\n",
    "inv_scale_grid = float(2.5/np.sqrt(3))\n",
    "# inv_scale_grid = 1\n",
    "radius_grid = radius_poisson/np.sqrt(3)/inv_scale_grid # radius for voxelizing before poisson sampling\n",
    "# radius_grid = radius_poisson/2.5\n",
    "\n",
    "num_per_grid = int(32/(inv_scale_grid**3))\n",
    "print(radius_knn)\n",
    "print(num_per_grid)\n",
    "print(radius_grid)"
   ]
  },
  {
   "cell_type": "code",
   "execution_count": 326,
   "metadata": {
    "ExecuteTime": {
     "end_time": "2020-10-09T09:16:19.293959Z",
     "start_time": "2020-10-09T09:16:19.290973Z"
    }
   },
   "outputs": [],
   "source": [
    "from numba import int32, float64,boolean    # import the types\n",
    "from numba.experimental import jitclass\n",
    "from numpy.linalg import norm\n",
    "from numpy import expand_dims as NewDim"
   ]
  },
  {
   "cell_type": "code",
   "execution_count": 157,
   "metadata": {
    "ExecuteTime": {
     "end_time": "2020-10-09T05:59:10.875819Z",
     "start_time": "2020-10-09T05:59:10.835810Z"
    }
   },
   "outputs": [],
   "source": [
    "spec = [\n",
    "    (\"d0\",float64),          # length of first segment\n",
    "    (\"d1\",float64),          # length of last segment\n",
    "    (\"r0\",float64),          # radius of rotation of mid segment\n",
    "    (\"r1\",float64),          # radius of the first segment\n",
    "    (\"r2\",float64),          # radius at the end of second segment\n",
    "    (\"r3\",float64),          # radius at the end of the last segment\n",
    "    (\"a0\",float64),          # mid section rotation angle\n",
    "    (\"p1\",float64[:]),       # the starting point of the last segment at centerline\n",
    "    (\"ux\",float64[:]),        # unit vector x\n",
    "    (\"uy\",float64[:]),        # unit vector y\n",
    "    (\"uz\",float64[:]),        # unit vector z\n",
    "    (\"pRot\",float64[:]),      # unit vector z\n",
    "]\n",
    "#############################################\n",
    "@jitclass(spec)\n",
    "class Leg:\n",
    "    def __init__(s, d0, d1, r0, r1, r2, r3, a0):\n",
    "        s.d0 = d0  # length of first segment\n",
    "        s.d1 = d1  # length of last segment\n",
    "        s.r0 = r0  # radius of rotation of mid segment\n",
    "        s.r1 = r1  # radius of the first segment\n",
    "        s.r2 = r2  # radius at the end of second segment\n",
    "        s.r3 = r3  # radius at the end of the last segment\n",
    "        s.a0 = a0  # mid section rotation angle\n",
    "\n",
    "        # the starting point of the last segment at centerline\n",
    "        s.p1 = np.array((r0*np.sin(a0), r0*(1-np.cos(a0)), 0.),dtype=np.float64)\n",
    "\n",
    "        # unit vector\n",
    "        s.ux = np.array((1., 0., 0.),dtype=np.float64)\n",
    "        s.uy = np.array((0., 1., 0.),dtype=np.float64)\n",
    "        s.uz = np.array((0., 0., 1.),dtype=np.float64)\n",
    "\n",
    "        # axis of rotation on the second segment\n",
    "        s.pRot = np.array([0, r0, 0],dtype=np.float64)\n",
    "\n",
    "#         s.angMidStart = -np.pi/2  # start angle of mid segment\n",
    "#         s.angMidEnd = -np.pi/2 + a0  # end angle of mid segment\n",
    "\n",
    "#         # centerline dirction (unit vector) of the last segment\n",
    "#         s.v1t = np.array((np.cos(a0), np.sin(a0), 0.))\n",
    "#         # normal of centerline dirction (unit vector) of the last segment\n",
    "#         s.v1n = np.array((-np.sin(a0), np.cos(a0), 0.))\n",
    "\n",
    "#         # vectorize the _CenterLineDirction function\n",
    "#         s.CenterLineDirction = np.vectorize(\n",
    "#             s._CenterLineDirction, signature='()->(n)', otypes=[float])\n",
    "        \n",
    "#         # inner cuts\n",
    "#         s.r_inner_cut_ratio = 0.5\n",
    "#         s.t_inner_cut_begin = 0.7\n",
    "        \n",
    "#         s.bounds = s.GetBounds()# s.bounds\n",
    "\n",
    "    def Dummy(s,arr):\n",
    "        return s.d0*arr"
   ]
  },
  {
   "cell_type": "code",
   "execution_count": 158,
   "metadata": {
    "ExecuteTime": {
     "end_time": "2020-10-09T05:59:13.531601Z",
     "start_time": "2020-10-09T05:59:12.515319Z"
    }
   },
   "outputs": [
    {
     "name": "stdout",
     "output_type": "stream",
     "text": [
      "joint_overlap:60.0\n"
     ]
    }
   ],
   "source": [
    "half_joint_overlap = radius_poisson * 3\n",
    "joint_overlap = half_joint_overlap*2\n",
    "print(f\"joint_overlap:{joint_overlap}\")\n",
    "leg_d0 = 0.05+2.2 # length of first segment, 2.2 is the thickness of the coupler\n",
    "leg_d1 = 120  # length of last segment\n",
    "leg_r0 = 38   # radius of rotation of mid segment\n",
    "# leg_d1 = 150  # length of last segment\n",
    "# leg_r0 = 55   # radius of rotation of mid segment\n",
    "\n",
    "leg_r1 = 32   # radius of the first segment\n",
    "leg_r2 = 32   # radius of the end at the second segment\n",
    "# leg_r3 = 16   # radius at the end of the last segment\n",
    "leg_r3 = 20   # radius at the end of the last segment\n",
    "\n",
    "leg_a0 = np.pi*90/180 # mid section rotation angle\n",
    " \n",
    "\n",
    "leg = Leg(d0=leg_d0+joint_overlap, \n",
    "          d1=leg_d1, \n",
    "          r0=leg_r0, \n",
    "          r1=leg_r1, \n",
    "          r2=leg_r2,  \n",
    "          r3=leg_r3, \n",
    "          a0=leg_a0)"
   ]
  },
  {
   "cell_type": "code",
   "execution_count": 369,
   "metadata": {
    "ExecuteTime": {
     "end_time": "2020-10-09T09:50:36.531191Z",
     "start_time": "2020-10-09T09:50:36.519576Z"
    }
   },
   "outputs": [],
   "source": [
    "p = np.array([\n",
    "    [-1,0,0],\n",
    "    [1,0,0],\n",
    "    [np.sqrt(3)/2,0.5,0],\n",
    "    [0.5,np.sqrt(3)/2,0]\n",
    "])\n",
    "p = np.cumsum(p,axis=0)\n",
    "p0 = p[:-1]\n",
    "p1 = p[1:]\n",
    "t = np.array([\n",
    "    [1,0,0],\n",
    "    [1,0,0],\n",
    "    [0.5,np.sqrt(3)/2,0],\n",
    "    [0.5,np.sqrt(3)/2,0],\n",
    "])\n",
    "t0 = t[:-1]\n",
    "t1 = t[1:]\n",
    "r = np.array((1,1,0.8,0.5))\n",
    "r0 = r[:-1]\n",
    "r1 = r[1:]\n",
    "\n",
    "n_plane = np.array([\n",
    "    [0.,0.,1.],\n",
    "    [0.,0.,1.],\n",
    "    [0.,0.,1.],\n",
    "],dtype=np.float64)"
   ]
  },
  {
   "cell_type": "code",
   "execution_count": 378,
   "metadata": {
    "ExecuteTime": {
     "end_time": "2020-10-09T09:52:47.750548Z",
     "start_time": "2020-10-09T09:52:47.667475Z"
    }
   },
   "outputs": [],
   "source": [
    "line_spec = [\n",
    "    (\"p0\",float64[:,:]),       # positon of start point (mx3)\n",
    "    (\"p1\",float64[:,:]),       # position of end point (mx3)\n",
    "    (\"t0\",float64[:,:]),       # directio of start point (mx3)\n",
    "    (\"t1\",float64[:,:]),       # direction of end point (mx3)\n",
    "    (\"r0\",float64[:]),         # outer radius at start point p0 (m)\n",
    "    (\"r1\",float64[:]),         # outer radius at end point p1 (m)\n",
    "    (\"n_plane\",float64[:,:]),  # plane normals of the lines (mx3)\n",
    "    (\"n0\",float64[:,:]),       # normals of the lines at p0 (mx3)\n",
    "    (\"n1\",float64[:,:]),       # normals of the lines at p1 (mx3)\n",
    "    (\"is_arc\",boolean[:]),     # bool indicating a secgment is an arc (m), true for arc, false for line\n",
    "    (\"num_lines\",int32),       # the total number of line segemnts\n",
    "    (\"arc_radius\",float64[:]), # radius of the arc segments (m), for lines it is inf\n",
    "    (\"pc\",float64[:,:]),       # rotation center of the arc segment (mx3), for lines it is undefined\n",
    "    (\"arc_angle\",float64[:]),  # rotation angle in !rad! of the arc segments (m), for lines it is 0\n",
    "    (\"p0p1\",float64[:,:]),       # vector of p1 - p0\n",
    "]\n",
    "@jitclass(line_spec)\n",
    "class Line:#unified line, straight line or an arc\n",
    "    def __init__(s,p0,p1,t0,t1,r0,r1,n_plane):\n",
    "        s.p0=p0 # positon of start point (mx3)\n",
    "        s.p1=p1 # position of end point (mx3)\n",
    "        s.t0=t0 # direction of start point (mx3)\n",
    "        s.t1=t1 # direction of end point (mx3)\n",
    "        s.r0=r0 # outer radius at start point p0 (m)\n",
    "        s.r1=r1 # outer radius at end point p1 (m)\n",
    "        \n",
    "        s.num_lines = s.p0.shape[0]\n",
    "        s.p0p1= s.p1-s.p0\n",
    "        #### check if a line segment is arc\n",
    "        s.is_arc = np.ones(s.num_lines,dtype=np.bool_)\n",
    "        for k in range(s.num_lines):\n",
    "            if np.all(s.t0[k]==s.t1[k]):\n",
    "                s.is_arc[k] = False\n",
    "        #### compute prpoerties for arcs \n",
    "#         s.n_plane =np.cross(t0,t1) # plane normals of the lines (mx3)\n",
    "        s.n_plane = n_plane #TODO, define n_plane for line\n",
    "        s.n0 = np.zeros_like(s.n_plane)# normals of the lines at p0 (mx3)\n",
    "        s.n1 = np.zeros_like(s.n_plane)# normals of the lines at p1 (mx3)\n",
    "        s.arc_radius = np.ones(s.num_lines)*np.inf # radius of the arc segments (mx3), for lines it is inf\n",
    "        s.pc = np.ones_like(s.n_plane)*np.inf # rotation center of the arc segment (mx3), undefined for lines\n",
    "        s.arc_angle = np.zeros(s.num_lines) # rotation angle of the arc segments (mx3), for lines it is 0\n",
    "        for k in range(s.num_lines):\n",
    "            s.n_plane[k] = s.n_plane[k]/norm(s.n_plane[k])\n",
    "            s.n0[k] = np.cross(s.n_plane[k],s.t0[k])\n",
    "            s.n1[k] = np.cross(s.n_plane[k],s.t1[k])\n",
    "            if s.is_arc[k]: # loop only at arc segement\n",
    "                s.arc_radius[k] = norm(s.p1[k]-s.p0[k])/norm(s.n1[k]-s.n0[k])\n",
    "                s.pc[k] = s.p0[k]+ s.arc_radius[k]*s.n0[k]\n",
    "                s.arc_angle[k] = np.arccos(s.t0[k,0]*s.t1[k,0]+ # equivilent to dot(s.t0[k],s.t1[k])\n",
    "                                         s.t0[k,1]*s.t1[k,1]+\n",
    "                                         s.t0[k,2]*s.t1[k,2])        \n",
    "    def CenterLine(s,tn):\n",
    "        \"\"\"\n",
    "        return centerline [mx3] and centerline normals [mx3] \n",
    "        given the nomalized phase 0<=tn<s.num_lines, tn:[m]\n",
    "        \"\"\"\n",
    "        c_l = np.zeros((tn.shape[0],3),dtype=np.float64) # center_line\n",
    "        c_n = np.zeros_like(c_l) # center_line_normal\n",
    "        c_l[tn==s.num_lines]=p1[-1] # handel the right most point\n",
    "        tn_floor = np.floor(tn)\n",
    "        tn_mod = tn - tn_floor\n",
    "        for k in range(s.num_lines):\n",
    "            mask_k = tn_floor==k\n",
    "            tn_mod_k = tn_mod[mask_k]\n",
    "            if(s.is_arc[k]): # section is arc\n",
    "                d_angle = tn_mod_k*s.arc_angle[k]\n",
    "                t0_k = NewDim(s.t0[k],0)\n",
    "                n0_k = NewDim(s.n0[k],0)\n",
    "                sin_k = NewDim(np.sin(d_angle),-1)\n",
    "                cos_k = NewDim(np.cos(d_angle),-1)\n",
    "                c_n[mask_k] = cos_k*n0_k - sin_k*t0_k\n",
    "                c_l[mask_k] = s.pc[k] + s.arc_radius[k]*(sin_k*t0_k-cos_k*n0_k)\n",
    "            else: # section is line\n",
    "                c_l[mask_k] = s.p0[k] + NewDim(tn_mod_k,-1)*NewDim(s.p0p1[k],0)\n",
    "                c_n[mask_k] = s.n0[k]\n",
    "        return c_l,c_n # center_line, center_line_normal\n",
    "            \n",
    "    "
   ]
  },
  {
   "cell_type": "code",
   "execution_count": 397,
   "metadata": {
    "ExecuteTime": {
     "end_time": "2020-10-09T11:00:57.279196Z",
     "start_time": "2020-10-09T11:00:57.270352Z"
    }
   },
   "outputs": [],
   "source": [
    "# # https://stackoverflow.com/questions/4858264/find-the-distance-from-a-3d-point-to-a-line-segment\n",
    "# def PointLineDistance(p,a,b):\n",
    "#     \"\"\"\n",
    "#     Calculates the euclidean distance from a point to a line segment.\n",
    "#     @param p     the point\n",
    "#     @param a     start of line segment\n",
    "#     @param b     end of line segment \n",
    "#     @return      distance from p to line segment [a,b]\n",
    "#     @author      Afonso Santos\n",
    "#     \"\"\"\n",
    "#     ab = b - a\n",
    "#     av = p - a\n",
    "#     if (av.dot(ab)<=0): # Point is lagging behind start of the segment, so perpendicular distance is not viable.\n",
    "#         return norm(av) # Use distance to start of segment instead.\n",
    "#     bv = p - b\n",
    "#     if(bv.dot(ab)>=0): # Point is advanced past the end of the segment, so perpendicular distance is not viable.\n",
    "#         return norm(bv) # Use distance to end of the segment instead.\n",
    "#     return norm(np.cross(ab,av))/norm(ab)\n",
    "\n",
    "\n",
    "# https://stackoverflow.com/questions/4858264/find-the-distance-from-a-3d-point-to-a-line-segment\n",
    "def PointLineDistance(p,a,b):\n",
    "    \"\"\"\n",
    "    Calculates the euclidean distance from a point to a line segment.\n",
    "    @param p     the point\n",
    "    @param a     start of line segment\n",
    "    @param b     end of line segment \n",
    "    @return      distance from p to line segment [a,b], parameter t indicating location of the intersection point [0,1]\n",
    "    \"\"\"\n",
    "    ab = b - a\n",
    "    ap = p - a\n",
    "    t = ap.dot(ab)/ab.dot(ab)\n",
    "    if t<=0:\n",
    "        return norm(ap),t\n",
    "    bp = p - b\n",
    "    if t>=1:\n",
    "        return norm(bp),t\n",
    "    return norm(ab*t-ap),t\n",
    "\n",
    "p=np.array([1,2,0])\n",
    "a = np.array([0,0,0])\n",
    "b = np.array([1,1,0])\n",
    "PointLineDistance(p,a,b)"
   ]
  },
  {
   "cell_type": "code",
   "execution_count": 402,
   "metadata": {
    "ExecuteTime": {
     "end_time": "2020-10-09T11:03:12.120185Z",
     "start_time": "2020-10-09T11:03:12.113186Z"
    }
   },
   "outputs": [
    {
     "data": {
      "text/plain": [
       "(1.0, 1.5)"
      ]
     },
     "execution_count": 402,
     "metadata": {},
     "output_type": "execute_result"
    }
   ],
   "source": [
    "def PointArcDistance(p,a,b,n2,alpha):\n",
    "    \"\"\"\n",
    "    Calculates the euclidean distance from a point to a line segment.\n",
    "    @param p     the point\n",
    "    @param a     start of line segment\n",
    "    @param b     end of line segment \n",
    "    @param n2    normal of the plane the arc belongs to (right hand rule,align from a to b)\n",
    "    @param alpha angle of rotation from a to b\n",
    "    @return      distance from p to line segment [a,b], parameter t indicating location of the intersection point [0,1]\n",
    "    \"\"\"\n",
    "    ab = b - a\n",
    "    ap = p - a\n",
    "    "
   ]
  },
  {
   "cell_type": "code",
   "execution_count": 406,
   "metadata": {
    "ExecuteTime": {
     "end_time": "2020-10-09T11:30:03.581017Z",
     "start_time": "2020-10-09T11:30:03.571022Z"
    }
   },
   "outputs": [
    {
     "data": {
      "text/plain": [
       "1.4142135623730951"
      ]
     },
     "execution_count": 406,
     "metadata": {},
     "output_type": "execute_result"
    }
   ],
   "source": [
    "P = np.array([2,0,1])\n",
    "a = np.array([0,-1,0])\n",
    "b = np.array((np.sqrt(2)/2,np.sqrt(2)/2,0))\n",
    "alpha = np.pi*3/4\n",
    "center = np.array([0,0,0])\n",
    "radius = 1\n",
    "n2 = np.array([0,0,1])\n",
    "delta = P-center\n",
    "dist = np.sqrt(n2.dot(delta)**2 + (norm(np.cross(n2, delta))- radius)**2)\n",
    "dist"
   ]
  },
  {
   "cell_type": "code",
   "execution_count": null,
   "metadata": {},
   "outputs": [],
   "source": [
    "P = np.array([2,0,1])\n",
    "a = np.array([0,-1,0])\n",
    "b = np.array((np.sqrt(2)/2,np.sqrt(2)/2,0))\n",
    "alpha = np.pi*3/4\n",
    "center = np.array([0,0,0])\n",
    "radius = 1\n",
    "n2 = np.array([0,0,1])\n",
    "delta = P-center\n",
    "\n",
    "v_nnp.cross(np.cross(n2,delta),n2)\n",
    "\n",
    "\n",
    "dist = np.sqrt(n2.dot(delta)**2 + (norm(np.cross(n2, delta))- radius)**2)\n",
    "dist"
   ]
  },
  {
   "cell_type": "code",
   "execution_count": 379,
   "metadata": {
    "ExecuteTime": {
     "end_time": "2020-10-09T09:52:56.937134Z",
     "start_time": "2020-10-09T09:52:54.091632Z"
    }
   },
   "outputs": [],
   "source": [
    "s = Line(p0,p1,t0,t1,r0,r1,n_plane)"
   ]
  },
  {
   "cell_type": "code",
   "execution_count": 380,
   "metadata": {
    "ExecuteTime": {
     "end_time": "2020-10-09T09:53:40.438697Z",
     "start_time": "2020-10-09T09:53:40.435538Z"
    }
   },
   "outputs": [],
   "source": [
    "num = 100\n",
    "tn = np.linspace(0,s.num_lines,num)\n",
    "# tn = np.random.random(num)*s.num_lines"
   ]
  },
  {
   "cell_type": "code",
   "execution_count": 383,
   "metadata": {
    "ExecuteTime": {
     "end_time": "2020-10-09T09:54:00.082450Z",
     "start_time": "2020-10-09T09:54:00.079458Z"
    }
   },
   "outputs": [],
   "source": [
    "c_l,c_n = s.CenterLine(tn)"
   ]
  },
  {
   "cell_type": "code",
   "execution_count": 382,
   "metadata": {
    "ExecuteTime": {
     "end_time": "2020-10-09T09:53:47.175322Z",
     "start_time": "2020-10-09T09:53:47.012275Z"
    }
   },
   "outputs": [
    {
     "data": {
      "text/plain": [
       "<matplotlib.quiver.Quiver at 0x252df85b948>"
      ]
     },
     "execution_count": 382,
     "metadata": {},
     "output_type": "execute_result"
    },
    {
     "data": {
      "image/png": "[encoded data removed]",
      "text/plain": [
       "<Figure size 432x288 with 1 Axes>"
      ]
     },
     "metadata": {
      "image/png": {
       "height": 244,
       "width": 366
      }
     },
     "output_type": "display_data"
    }
   ],
   "source": [
    "plt.plot(c_l[:,0],c_l[:,1],'-')\n",
    "plt.quiver(c_l[:,0],c_l[:,1],c_n[:,0],c_n[:,1])"
   ]
  },
  {
   "cell_type": "code",
   "execution_count": 204,
   "metadata": {
    "ExecuteTime": {
     "end_time": "2020-10-09T06:54:38.415535Z",
     "start_time": "2020-10-09T06:54:38.405533Z"
    }
   },
   "outputs": [
    {
     "name": "stdout",
     "output_type": "stream",
     "text": [
      "p_0=\n",
      "[[-1.         0.         0.       ]\n",
      " [ 0.         0.         0.       ]\n",
      " [ 0.8660254  0.5        0.       ]]\n",
      "\n",
      "p_1=\n",
      "[[0.        0.        0.       ]\n",
      " [0.8660254 0.5       0.       ]\n",
      " [1.3660254 1.3660254 0.       ]]\n",
      "\n",
      "r_0=\n",
      "[1.  1.  0.8]\n",
      "\n",
      "r_1=\n",
      "[1.  0.8 0.5]\n",
      "\n",
      "n_plane=\n",
      "[[0. 0. 0.]\n",
      " [0. 0. 1.]\n",
      " [0. 0. 0.]]\n",
      "\n",
      "n0=\n",
      "[[0. 0. 0.]\n",
      " [0. 1. 0.]\n",
      " [0. 0. 0.]]\n",
      "\n",
      "n1=\n",
      "[[ 0.         0.         0.       ]\n",
      " [-0.8660254  0.5        0.       ]\n",
      " [ 0.         0.         0.       ]]\n",
      "\n",
      "arc_radius=\n",
      "[inf  1. inf]\n",
      "\n",
      "pc=\n",
      "[[inf inf inf]\n",
      " [ 0.  1.  0.]\n",
      " [inf inf inf]]\n",
      "\n",
      "arc_angle = ->(deg)\n",
      "[ 0. 60.  0.]\n",
      "\n"
     ]
    }
   ],
   "source": [
    "print(f\"p_0=\\n{s.p0}\\n\")\n",
    "print(f\"p_1=\\n{s.p1}\\n\")\n",
    "print(f\"r_0=\\n{s.r0}\\n\")\n",
    "print(f\"r_1=\\n{s.r1}\\n\")\n",
    "\n",
    "print(f\"n_plane=\\n{s.n_plane}\\n\")\n",
    "print(f\"n0=\\n{s.n0}\\n\")\n",
    "print(f\"n1=\\n{s.n1}\\n\")\n",
    "print(f\"arc_radius=\\n{s.arc_radius}\\n\")\n",
    "print(f\"pc=\\n{s.pc}\\n\")\n",
    "print(f\"arc_angle = ->(deg)\\n{np.rad2deg(s.arc_angle)}\\n\")"
   ]
  },
  {
   "cell_type": "code",
   "execution_count": null,
   "metadata": {},
   "outputs": [],
   "source": []
  },
  {
   "cell_type": "code",
   "execution_count": 24,
   "metadata": {},
   "outputs": [],
   "source": [
    "a = np.array([[1,0,0],[2,3,1],[0,2,1],[0,2,1]])\n",
    "b = np.array([[0,1,0],[2,3,1],[0,2,2],[0,2,1]])"
   ]
  },
  {
   "cell_type": "code",
   "execution_count": 27,
   "metadata": {},
   "outputs": [
    {
     "data": {
      "text/plain": [
       "array([1., 0., 2., 0.])"
      ]
     },
     "execution_count": 27,
     "metadata": {},
     "output_type": "execute_result"
    }
   ],
   "source": [
    "n = np.cross(a,b)\n",
    "np.linalg.norm(n,ord=2,axis=-1)"
   ]
  },
  {
   "cell_type": "code",
   "execution_count": 30,
   "metadata": {},
   "outputs": [
    {
     "data": {
      "text/plain": [
       "array([0, 0, 0])"
      ]
     },
     "execution_count": 30,
     "metadata": {},
     "output_type": "execute_result"
    }
   ],
   "source": [
    "np.cross([1,0,0],[0,0,0])"
   ]
  },
  {
   "cell_type": "code",
   "execution_count": 90,
   "metadata": {},
   "outputs": [
    {
     "ename": "AttributeError",
     "evalue": "module 'numba' has no attribute 'bool'",
     "output_type": "error",
     "traceback": [
      "\u001b[1;31m---------------------------------------------------------------------------\u001b[0m",
      "\u001b[1;31mAttributeError\u001b[0m                            Traceback (most recent call last)",
      "\u001b[1;32m<ipython-input-90-766791feaeb1>\u001b[0m in \u001b[0;36m<module>\u001b[1;34m()\u001b[0m\n\u001b[1;32m----> 1\u001b[1;33m \u001b[0mnumba\u001b[0m\u001b[1;33m.\u001b[0m\u001b[0mbool\u001b[0m\u001b[1;33m\u001b[0m\u001b[1;33m\u001b[0m\u001b[0m\n\u001b[0m",
      "\u001b[1;31mAttributeError\u001b[0m: module 'numba' has no attribute 'bool'"
     ]
    }
   ],
   "source": [
    "numba.bool"
   ]
  },
  {
   "cell_type": "code",
   "execution_count": 345,
   "metadata": {
    "ExecuteTime": {
     "end_time": "2020-11-20T12:36:56.273696Z",
     "start_time": "2020-11-20T12:36:56.263697Z"
    }
   },
   "outputs": [
    {
     "data": {
      "text/plain": [
       "array([0., 1., 0.])"
      ]
     },
     "execution_count": 345,
     "metadata": {},
     "output_type": "execute_result"
    }
   ],
   "source": [
    "dt = 0.001\n",
    "v0 = np.array([0,0,1])\n",
    "v0 = v0/np.linalg.norm(v0)*np.pi/4\n",
    "v1 = np.array([0,1,0])\n",
    "# v1 = v1/np.linalg.norm(v1) * dt\n",
    "v1 = v1 * dt\n",
    "\n",
    "r0 = Rotation.from_rotvec(v0).as_matrix()\n",
    "r1 = np.matmul(Rotation.from_rotvec(v1).as_matrix(),r0)\n",
    "\n",
    "A = r1.dot(r0.T)\n",
    "theta = np.arccos((A.trace()-1)/2)\n",
    "w = 1/(2*dt)*theta/np.sin(theta)*(A-A.T)\n",
    "w_a = np.array((w[2,1],w[0,2],w[1,0]))\n",
    "w_a"
   ]
  },
  {
   "cell_type": "code",
   "execution_count": 348,
   "metadata": {
    "ExecuteTime": {
     "end_time": "2020-11-20T12:44:07.094407Z",
     "start_time": "2020-11-20T12:44:07.085417Z"
    }
   },
   "outputs": [
    {
     "name": "stdout",
     "output_type": "stream",
     "text": [
      "[[ 0.707 -0.707  0.   ]\n",
      " [ 0.707  0.707  0.   ]\n",
      " [ 0.     0.     1.   ]]\n",
      "[[ 0.707 -0.707  0.001]\n",
      " [ 0.707  0.707  0.   ]\n",
      " [-0.001  0.001  1.   ]]\n",
      "[0. 1. 0.]\n",
      "[[0.707]\n",
      " [0.707]\n",
      " [0.   ]]\n"
     ]
    }
   ],
   "source": [
    "with np.printoptions(precision=3,suppress=True):\n",
    "    print(r0)\n",
    "    print(r1)\n",
    "    print(w_a)\n",
    "    print(r1.T.dot(w_a[:,np.newaxis]))"
   ]
  },
  {
   "cell_type": "code",
   "execution_count": 308,
   "metadata": {
    "ExecuteTime": {
     "end_time": "2020-11-20T12:21:38.531787Z",
     "start_time": "2020-11-20T12:21:38.526786Z"
    }
   },
   "outputs": [
    {
     "data": {
      "text/plain": [
       "array([0.58834841, 0.78446454, 0.19611614])"
      ]
     },
     "execution_count": 308,
     "metadata": {},
     "output_type": "execute_result"
    }
   ],
   "source": [
    "r0.T.dot(w_a.T).dot(r0)"
   ]
  },
  {
   "cell_type": "code",
   "execution_count": null,
   "metadata": {},
   "outputs": [],
   "source": []
  },
  {
   "cell_type": "code",
   "execution_count": 214,
   "metadata": {
    "ExecuteTime": {
     "end_time": "2020-11-19T11:07:52.143442Z",
     "start_time": "2020-11-19T11:07:52.138441Z"
    }
   },
   "outputs": [
    {
     "data": {
      "text/plain": [
       "array([[-6.74868378e-04,  3.69007478e-04,  1.07053761e-07],\n",
       "       [-3.68840134e-04, -6.74930699e-04,  2.14330240e-07],\n",
       "       [ 4.70849549e-04,  3.26951307e-04, -1.78571414e-07]])"
      ]
     },
     "execution_count": 214,
     "metadata": {},
     "output_type": "execute_result"
    }
   ],
   "source": [
    "r1 - (w*dt+r0)"
   ]
  },
  {
   "cell_type": "code",
   "execution_count": 215,
   "metadata": {
    "ExecuteTime": {
     "end_time": "2020-11-19T11:07:54.699087Z",
     "start_time": "2020-11-19T11:07:54.695085Z"
    }
   },
   "outputs": [],
   "source": [
    "from scipy.linalg import expm"
   ]
  },
  {
   "cell_type": "code",
   "execution_count": 216,
   "metadata": {
    "ExecuteTime": {
     "end_time": "2020-11-19T11:07:55.795408Z",
     "start_time": "2020-11-19T11:07:55.787411Z"
    }
   },
   "outputs": [
    {
     "data": {
      "text/plain": [
       "array([[ 1.20210131e-07,  9.01575979e-08,  2.10557379e-05],\n",
       "       [ 9.01575982e-08, -1.20210131e-07, -5.72636093e-04],\n",
       "       [ 4.70742317e-04,  3.26737066e-04,  1.11022302e-16]])"
      ]
     },
     "execution_count": 216,
     "metadata": {},
     "output_type": "execute_result"
    }
   ],
   "source": [
    "r1 - r0.dot(expm(w*dt))"
   ]
  },
  {
   "cell_type": "code",
   "execution_count": 217,
   "metadata": {
    "ExecuteTime": {
     "end_time": "2020-11-19T11:07:58.122899Z",
     "start_time": "2020-11-19T11:07:58.115891Z"
    }
   },
   "outputs": [
    {
     "data": {
      "text/plain": [
       "array([[-6.74988589e-04,  3.68917320e-04, -2.09486841e-05],\n",
       "       [-3.68930292e-04, -6.74810489e-04,  5.72850423e-04],\n",
       "       [ 1.07231935e-07,  2.14241153e-07, -1.78571414e-07]])"
      ]
     },
     "execution_count": 217,
     "metadata": {},
     "output_type": "execute_result"
    }
   ],
   "source": [
    "r0.dot(expm(w*dt))-(w*dt+r0)"
   ]
  },
  {
   "cell_type": "code",
   "execution_count": 233,
   "metadata": {
    "ExecuteTime": {
     "end_time": "2020-11-19T11:38:38.542244Z",
     "start_time": "2020-11-19T11:38:38.527240Z"
    }
   },
   "outputs": [],
   "source": [
    "def matmul(a, b):\n",
    "    a00 = a[0, 0]\n",
    "    a01 = a[0, 1]\n",
    "    a02 = a[0, 2]\n",
    "    a10 = a[1, 0]\n",
    "    a11 = a[1, 1]\n",
    "    a12 = a[1, 2]\n",
    "    a20 = a[2, 0]\n",
    "    a21 = a[2, 1]\n",
    "    a22 = a[2, 2]\n",
    "\n",
    "    b00 = b[0, 0]\n",
    "    b01 = b[0, 1]\n",
    "    b02 = b[0, 2]\n",
    "    b10 = b[1, 0]\n",
    "    b11 = b[1, 1]\n",
    "    b12 = b[1, 2]\n",
    "    b20 = b[2, 0]\n",
    "    b21 = b[2, 1]\n",
    "    b22 = b[2, 2]\n",
    "\n",
    "    o00 = a00*b00+a01*b10+a02*b20\n",
    "    o01 = a00*b01+a01*b11+a02*b21\n",
    "    o02 = a00*b02+a01*b12+a02*b22\n",
    "    o10 = a10*b00+a11*b10+a12*b20\n",
    "    o11 = a10*b01+a11*b11+a12*b21\n",
    "    o12 = a10*b02+a11*b12+a12*b22\n",
    "    o20 = a20*b00+a21*b10+a22*b20\n",
    "    o21 = a20*b01+a21*b11+a22*b21\n",
    "    o22 = a20*b02+a21*b12+a22*b22\n",
    "\n",
    "    return np.array([[o00, o01, o02],\n",
    "                     [o10, o11, o12],\n",
    "                     [o20, o21, o22]])\n",
    "\n",
    "def transpose(a):\n",
    "    a00 = a[0, 0]\n",
    "    a01 = a[0, 1]\n",
    "    a02 = a[0, 2]\n",
    "    a10 = a[1, 0]\n",
    "    a11 = a[1, 1]\n",
    "    a12 = a[1, 2]\n",
    "    a20 = a[2, 0]\n",
    "    a21 = a[2, 1]\n",
    "    a22 = a[2, 2]\n",
    "    return np.array([[a00, a10, a20],\n",
    "                     [a01, a11, a21],\n",
    "                     [a02, a12, a22]])"
   ]
  },
  {
   "cell_type": "code",
   "execution_count": 234,
   "metadata": {
    "ExecuteTime": {
     "end_time": "2020-11-19T11:38:38.973192Z",
     "start_time": "2020-11-19T11:38:38.967202Z"
    }
   },
   "outputs": [
    {
     "data": {
      "text/plain": [
       "array([[0., 0., 0.],\n",
       "       [0., 0., 0.],\n",
       "       [0., 0., 0.]])"
      ]
     },
     "execution_count": 234,
     "metadata": {},
     "output_type": "execute_result"
    }
   ],
   "source": [
    "r0.T-transpose(r0)"
   ]
  },
  {
   "cell_type": "code",
   "execution_count": 230,
   "metadata": {
    "ExecuteTime": {
     "end_time": "2020-11-19T11:36:20.921729Z",
     "start_time": "2020-11-19T11:36:20.914724Z"
    }
   },
   "outputs": [
    {
     "data": {
      "text/plain": [
       "array([[0., 0., 0.],\n",
       "       [0., 0., 0.],\n",
       "       [0., 0., 0.]])"
      ]
     },
     "execution_count": 230,
     "metadata": {},
     "output_type": "execute_result"
    }
   ],
   "source": [
    "r0.dot(r1)-matmul(r0,r1)"
   ]
  },
  {
   "cell_type": "code",
   "execution_count": 243,
   "metadata": {
    "ExecuteTime": {
     "end_time": "2020-11-19T13:27:29.111194Z",
     "start_time": "2020-11-19T13:27:29.104192Z"
    }
   },
   "outputs": [
    {
     "data": {
      "text/plain": [
       "array([ 30,  36,  42,  66,  81,  96, 102, 126, 150])"
      ]
     },
     "execution_count": 243,
     "metadata": {},
     "output_type": "execute_result"
    }
   ],
   "source": [
    "a = np.arange(1,10).reshape((3,-1))\n",
    "b = np.array(a)\n",
    "(a.dot(b)).ravel()\n"
   ]
  },
  {
   "cell_type": "code",
   "execution_count": 263,
   "metadata": {
    "ExecuteTime": {
     "end_time": "2020-11-19T14:27:31.635757Z",
     "start_time": "2020-11-19T14:27:31.628749Z"
    }
   },
   "outputs": [
    {
     "data": {
      "text/plain": [
       "array([ 14,  32,  50,  32,  77, 122,  50, 122, 194])"
      ]
     },
     "execution_count": 263,
     "metadata": {},
     "output_type": "execute_result"
    }
   ],
   "source": [
    "(a.dot(a.T)).ravel()"
   ]
  },
  {
   "cell_type": "code",
   "execution_count": 277,
   "metadata": {
    "ExecuteTime": {
     "end_time": "2020-11-20T09:57:15.628934Z",
     "start_time": "2020-11-20T09:57:15.622941Z"
    }
   },
   "outputs": [
    {
     "data": {
      "text/plain": [
       "array([[-4.50359963e+15,  9.00719925e+15, -4.50359963e+15],\n",
       "       [ 9.00719925e+15, -1.80143985e+16,  9.00719925e+15],\n",
       "       [-4.50359963e+15,  9.00719925e+15, -4.50359963e+15]])"
      ]
     },
     "execution_count": 277,
     "metadata": {},
     "output_type": "execute_result"
    }
   ],
   "source": [
    "np.linalg.inv(a)"
   ]
  },
  {
   "cell_type": "code",
   "execution_count": 284,
   "metadata": {
    "ExecuteTime": {
     "end_time": "2020-11-20T10:38:15.744479Z",
     "start_time": "2020-11-20T10:38:15.734486Z"
    }
   },
   "outputs": [
    {
     "data": {
      "text/plain": [
       "array([[-38.,  15.,  -2.],\n",
       "       [ -5.,  -3.,  13.],\n",
       "       [ 37.,  -3.,  -8.]])"
      ]
     },
     "execution_count": 284,
     "metadata": {},
     "output_type": "execute_result"
    }
   ],
   "source": [
    "e = np.array([1,2,3,7,6,8,2,7,3]).reshape((3,3))\n",
    "(np.linalg.inv(e)*np.linalg.det(e))"
   ]
  },
  {
   "cell_type": "code",
   "execution_count": 285,
   "metadata": {
    "ExecuteTime": {
     "end_time": "2020-11-20T10:41:32.327135Z",
     "start_time": "2020-11-20T10:41:32.322128Z"
    }
   },
   "outputs": [
    {
     "data": {
      "text/plain": [
       "15752960.999999993"
      ]
     },
     "execution_count": 285,
     "metadata": {},
     "output_type": "execute_result"
    }
   ],
   "source": [
    "np.linalg.det(e*63)"
   ]
  },
  {
   "cell_type": "code",
   "execution_count": 286,
   "metadata": {
    "ExecuteTime": {
     "end_time": "2020-11-20T10:51:09.313009Z",
     "start_time": "2020-11-20T10:51:09.308008Z"
    }
   },
   "outputs": [
    {
     "data": {
      "text/plain": [
       "array([14, 32, 50])"
      ]
     },
     "execution_count": 286,
     "metadata": {},
     "output_type": "execute_result"
    }
   ],
   "source": [
    "a.dot(a[0])"
   ]
  },
  {
   "cell_type": "code",
   "execution_count": 358,
   "metadata": {
    "ExecuteTime": {
     "end_time": "2020-11-23T08:24:50.580133Z",
     "start_time": "2020-11-23T08:24:50.574122Z"
    }
   },
   "outputs": [
    {
     "data": {
      "text/plain": [
       "1.0"
      ]
     },
     "execution_count": 358,
     "metadata": {},
     "output_type": "execute_result"
    }
   ],
   "source": [
    "t = 1e-100\n",
    "t/np.sin(t)"
   ]
  },
  {
   "cell_type": "code",
   "execution_count": null,
   "metadata": {},
   "outputs": [],
   "source": []
  },
  {
   "cell_type": "code",
   "execution_count": null,
   "metadata": {},
   "outputs": [],
   "source": []
  },
  {
   "cell_type": "code",
   "execution_count": null,
   "metadata": {},
   "outputs": [],
   "source": [
    "import pyarrow as pa\n",
    "import pandas as pd\n",
    "import numpy as np\n",
    "import sys\n",
    "\n",
    "data = [\n",
    "    [[1,3,4],[1,3,4],[1,3,4],[1,3,4]],\n",
    "    ['foo', 'bar', 'baz', None],\n",
    "    [True, None, False, True]\n",
    "]\n",
    "batch = pa.record_batch(data, names=['f0', 'f1', 'f2'])\n",
    "\n",
    "sink = pa.OSFile(\"..//data//test.arrow\",\"wb\")\n",
    "\n",
    "writer = pa.ipc.new_file(sink, batch.schema)\n",
    "for i in range(1000):\n",
    "    writer.write_batch(batch)\n",
    "writer.close()"
   ]
  },
  {
   "cell_type": "code",
   "execution_count": null,
   "metadata": {},
   "outputs": [],
   "source": [
    "with pa.OSFile(\"..//data//test.arrow\") as sink:\n",
    "# with pa.memory_map(\"..//data//test.arrow\") as sink:\n",
    "    reader = pa.ipc.open_file(sink)\n",
    "    df = reader.read_pandas(use_threads=True)\n",
    "#     sink.close()\n",
    "print(sys.getsizeof(df))\n",
    "df"
   ]
  }
 ],
 "metadata": {
  "kernelspec": {
   "display_name": "Python 3",
   "language": "python",
   "name": "python3"
  },
  "language_info": {
   "codemirror_mode": {
    "name": "ipython",
    "version": 3
   },
   "file_extension": ".py",
   "mimetype": "text/x-python",
   "name": "python",
   "nbconvert_exporter": "python",
   "pygments_lexer": "ipython3",
   "version": "3.8.6"
  }
 },
 "nbformat": 4,
 "nbformat_minor": 4
}
