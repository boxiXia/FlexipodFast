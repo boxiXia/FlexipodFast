{
 "cells": [
  {
   "cell_type": "markdown",
   "metadata": {},
   "source": [
    "# Utility"
   ]
  },
  {
   "cell_type": "code",
   "execution_count": 1,
   "metadata": {
    "ExecuteTime": {
     "end_time": "2021-04-26T06:31:43.997997Z",
     "start_time": "2021-04-26T06:31:38.733309Z"
    }
   },
   "outputs": [
    {
     "output_type": "stream",
     "name": "stdout",
     "text": [
      "open3d :0.12.0\ntrimesh:3.9.8\nnumba  :0.52.0\n"
     ]
    }
   ],
   "source": [
    "import msgpack\n",
    "import open3d as o3d\n",
    "import trimesh\n",
    "import point_cloud_utils as pcu  # downsampling\n",
    "from IPython.display import display, Math\n",
    "import numpy as np\n",
    "import matplotlib.pyplot as plt\n",
    "\n",
    "import numba\n",
    "from joblib import Parallel, delayed  # multiprocessing\n",
    "import multiprocessing\n",
    "import copy\n",
    "from scipy.ndimage.morphology import binary_dilation, binary_erosion\n",
    "from scipy.spatial.transform import Rotation\n",
    "import tempfile\n",
    "import gmsh\n",
    "import meshio\n",
    "import itertools\n",
    "import shutil  # file copying\n",
    "import networkx as nx # graph representation\n",
    "import os\n",
    "\n",
    "from lxml import etree\n",
    "from matplotlib.colors import to_hex, to_rgba\n",
    "\n",
    "plt.style.use('seaborn-whitegrid')\n",
    "%config InlineBackend.figure_format = 'retina'\n",
    "\n",
    "print(f\"open3d :{o3d.__version__}\")\n",
    "print(f\"trimesh:{trimesh.__version__}\")\n",
    "print(f\"numba  :{numba.__version__}\")\n",
    "###########################################################\n",
    "from robot_utils import *\n",
    "import robot_utils\n",
    "# help(robot_utils)\n",
    "\n",
    "#############################################################\n",
    "robot_folder = \"../../mesh/v9.0/\"\n",
    "part_names = [\"body\",\"hip\",\"shank_front\",\"shank_back\",\"thigh\"]"
   ]
  },
  {
   "cell_type": "code",
   "execution_count": 2,
   "metadata": {
    "ExecuteTime": {
     "end_time": "2021-04-26T06:31:44.014000Z",
     "start_time": "2021-04-26T06:31:43.999998Z"
    }
   },
   "outputs": [
    {
     "output_type": "stream",
     "name": "stdout",
     "text": [
      "25.980762113533157\njoint_overlap:0.0\n"
     ]
    }
   ],
   "source": [
    "########## discretization parameters ##############\n",
    "# radius_poisson = float(10) # radius for the poisson sampling\n",
    "radius_poisson = float(15) # radius for the poisson sampling\n",
    "radius_knn = radius_poisson*np.sqrt(3)*1.0\n",
    "min_radius = radius_poisson*0.5\n",
    "# max_nn = 28 # maximun number of neighbors for a mass point (including self)\n",
    "max_nn = int(28)\n",
    "print(radius_knn)\n",
    "\n",
    "half_joint_overlap = radius_poisson * 0\n",
    "joint_overlap = half_joint_overlap*2\n",
    "print(f\"joint_overlap:{joint_overlap}\")\n",
    "\n",
    "# general argument\n",
    "gmsh_args = [\n",
    "        (\"Mesh.Algorithm\", 6), # 2D mesh algorithm (1: MeshAdapt, 2: Automatic, 3: Initial mesh only, 5: Delaunay, 6: Frontal-Delaunay, 7: BAMG, 8: Frontal-Delaunay for Quads, 9: Packing of Parallelograms)\n",
    "        (\"Mesh.Algorithm3D\", 10), # 3D mesh algorithm (1: Delaunay, 3: Initial mesh only, 4: Frontal, 7: MMG3D, 9: R-tree, 10: HXT)\n",
    "        (\"Mesh.MeshSizeExtendFromBoundary\", 0),# Extend computation of mesh element sizes from the boundaries into the interior (for 3D Delaunay, use 1: longest or 2: shortest surface edge length)\n",
    "        (\"Mesh.MeshSizeFromPoints\", 0),# Compute mesh element sizes from values given at geometry points, defualt:1\n",
    "        (\"Mesh.MeshSizeFromCurvature\", 0),# Automatically compute mesh element sizes from curvature,defult:0\n",
    "        (\"Mesh.OptimizeNetgen\",0), # Optimize the mesh using Netgen to improve the quality of tetrahedral elements\n",
    "        (\"Mesh.OptimizeThreshold\",0.5), # Optimize the mesh using Netgen to improve the quality of tetrahedral elements\n",
    "#         (\"Mesh.AllowSwapAngle\",30), # Threshold angle (in degrees) between faces normals under which we allow an edge swap\n",
    "        (\"Mesh.VolumeEdges\",1), # Display edges of volume mesh\n",
    "        (\"Mesh.VolumeFaces\",0), # Display faces of volume mesh\n",
    "        (\"Mesh.SurfaceFaces\",1), # Display faces of surface mesh?\n",
    "        (\"Mesh.Smoothing\",8), # Number of smoothing steps applied to the final mesh\n",
    "#         (\"Mesh.SmoothNormals\",0), # Smooth the mesh normals? default 0\n",
    "        (\"Mesh.Binary\",1), # Write mesh files in binary format (if possible)\n",
    "        (\"Mesh.MinimumCirclePoints\",0), # Minimum number of nodes used to mesh circles and ellipses\n",
    "        (\"Mesh.MinimumCurvePoints\",0), # Minimum number of points used to mesh curves other than lines, circles and ellipses\n",
    "        (\"Mesh.MinimumElementsPerTwoPi\",0), # Minimum number of elements per 2 * Pi radians when the mesh size is adapted to the curvature    \n",
    "        (\"Mesh.RefineSteps\",20), # Number of refinement steps in the MeshAdapt-based 2D algorithms, default:10\n",
    "    \n",
    "#         (\"Geometry.Tolerance\",radius_poisson*0.5),# Geometrical tolerance,default:1e-8\n",
    "        (\"Geometry.OCCFixDegenerated\",1), # Fix degenerated edges/faces when importing STEP, IGES and BRep models with the OpenCASCADE kernel, defulat:0\n",
    "        (\"Geometry.OCCFixSmallEdges\",1), # Fix small edges when importing STEP, IGES and BRep models with the OpenCASCADE kernel, defulat:0\n",
    "        (\"Geometry.OCCFixSmallFaces\",1), # Fix small faces when importing STEP, IGES and BRep models with the OpenCASCADE kernel, defulat:0\n",
    "#         (\"Geometry.OCCSewFaces\",1), # Sew faces when importing STEP, IGES and BRep models with the OpenCASCADE kernel\n",
    "#         (\"Geometry.OCCBoundsUseStl\",1), # Use STL mesh for computing bounds of OpenCASCADE shapes (more accurate, but slower)\n",
    "\n",
    "        (\"General.Verbosity\",0), # Level of information printed during processing (0: no information), default:5\n",
    "        (\"General.Terminal\",0), # Should information be printed on the terminal (if available)\n",
    "#         (\"Mesh.RandomSeed\",0), # Seed of pseudo-random number generator\n",
    "#         (\"Mesh.QualitySup\",0.5), # Only display elements whose quality measure is smaller than QualitySup\n",
    "]\n",
    "\n",
    "# 2D specific argument\n",
    "gmsh_args_2d = [\n",
    "        (\"Mesh.MeshSizeMin\", radius_poisson*1.4),\n",
    "        (\"Mesh.MeshSizeMax\", radius_poisson*1.4),\n",
    "] \n",
    "\n",
    "# 3D specific argument\n",
    "gmsh_args_3d = [\n",
    "        (\"Mesh.MeshSizeMin\", radius_poisson*1.0),\n",
    "        (\"Mesh.MeshSizeMax\", radius_poisson*1.0),\n",
    "]\n",
    "\n",
    "gmsh_args = gmsh_args+gmsh_args_2d # combined\n",
    "\n",
    "# # # discretize body\n",
    "# # in_file_name: str = \"../../mesh/soft_body_simplified.step\"\n",
    "# # out_file_name: str = \"../../mesh/soft_body_simplified.msh\"\n",
    "# in_file_name: str = \"../../mesh/leg_simplified.step\"\n",
    "# out_file_name: str = \"../../mesh/leg_simplified.msh\"\n",
    "# vmesh,_= generateGmsh(in_file_name,out_file_name,dim=3,gui=True)\n",
    "# # print(vmesh)\n",
    "# vmeshSummary(vmesh)"
   ]
  },
  {
   "cell_type": "markdown",
   "metadata": {},
   "source": [
    "# discretization\n",
    "\n",
    "Only need to run once"
   ]
  },
  {
   "cell_type": "code",
   "execution_count": 3,
   "metadata": {
    "ExecuteTime": {
     "end_time": "2021-04-26T06:31:44.060704Z",
     "start_time": "2021-04-26T06:31:44.047491Z"
    }
   },
   "outputs": [],
   "source": [
    "# show_gui = True\n",
    "show_gui = False\n",
    "dim = 3"
   ]
  },
  {
   "cell_type": "code",
   "execution_count": 4,
   "metadata": {
    "ExecuteTime": {
     "end_time": "2021-04-26T06:31:49.604504Z",
     "start_time": "2021-04-26T06:31:44.062705Z"
    },
    "scrolled": false
   },
   "outputs": [
    {
     "name": "stdout",
     "output_type": "stream",
     "text": [
      "--------------------body--------------------\n",
      "# vertices          = 1459\n",
      "# surface triangle  = 2544\n",
      "# tetra             = 4796\n",
      "# unique tetra edges= 7525\n",
      "# unique face edges = 3816\n",
      "COM                 =  [-29.486  -0.132   0.41 ]\n",
      "COM norm            = 29.489\n",
      "mean edge length    = 19.39\n"
     ]
    },
    {
     "data": {
      "image/png": "[encoded data removed]",
      "text/plain": [
       "<Figure size 900x150 with 3 Axes>"
      ]
     },
     "metadata": {
      "image/png": {
       "height": 155,
       "width": 734
      }
     },
     "output_type": "display_data"
    },
    {
     "name": "stdout",
     "output_type": "stream",
     "text": [
      "Warning: D:\\repo\\FlexipodFast\\mesh\\v9.0\\body.stl file already exists and will be replaced\n",
      "--------------------hip--------------------\n",
      "# vertices          = 156\n",
      "# surface triangle  = 252\n",
      "# tetra             = 483\n",
      "# unique tetra edges= 764\n",
      "# unique face edges = 378\n",
      "COM                 =  [66.227  0.055  0.545]\n",
      "COM norm            = 66.230\n",
      "mean edge length    = 20.09\n"
     ]
    },
    {
     "data": {
      "image/png": "[encoded data removed]",
      "text/plain": [
       "<Figure size 900x150 with 3 Axes>"
      ]
     },
     "metadata": {
      "image/png": {
       "height": 155,
       "width": 730
      }
     },
     "output_type": "display_data"
    },
    {
     "name": "stdout",
     "output_type": "stream",
     "text": [
      "Warning: D:\\repo\\FlexipodFast\\mesh\\v9.0\\hip.stl file already exists and will be replaced\n",
      "--------------------shank_front--------------------\n",
      "# vertices          = 155\n",
      "# surface triangle  = 252\n",
      "# tetra             = 468\n",
      "# unique tetra edges= 748\n",
      "# unique face edges = 378\n",
      "COM                 =  [ -0.15    0.193 -99.808]\n",
      "COM norm            = 99.809\n",
      "mean edge length    = 20.35\n"
     ]
    },
    {
     "data": {
      "image/png": "[encoded data removed]",
      "text/plain": [
       "<Figure size 900x150 with 3 Axes>"
      ]
     },
     "metadata": {
      "image/png": {
       "height": 155,
       "width": 730
      }
     },
     "output_type": "display_data"
    },
    {
     "name": "stdout",
     "output_type": "stream",
     "text": [
      "Warning: D:\\repo\\FlexipodFast\\mesh\\v9.0\\shank_front.stl file already exists and will be replaced\n",
      "--------------------shank_back--------------------\n",
      "# vertices          = 212\n",
      "# surface triangle  = 352\n",
      "# tetra             = 634\n",
      "# unique tetra edges= 1021\n",
      "# unique face edges = 528\n",
      "COM                 =  [   0.089   11.537 -109.384]\n",
      "COM norm            = 109.991\n",
      "mean edge length    = 20.19\n"
     ]
    },
    {
     "data": {
      "image/png": "[encoded data removed]",
      "text/plain": [
       "<Figure size 900x150 with 3 Axes>"
      ]
     },
     "metadata": {
      "image/png": {
       "height": 155,
       "width": 730
      }
     },
     "output_type": "display_data"
    },
    {
     "name": "stdout",
     "output_type": "stream",
     "text": [
      "Warning: D:\\repo\\FlexipodFast\\mesh\\v9.0\\shank_back.stl file already exists and will be replaced\n",
      "--------------------thigh--------------------\n",
      "# vertices          = 223\n",
      "# surface triangle  = 342\n",
      "# tetra             = 720\n",
      "# unique tetra edges= 1113\n",
      "# unique face edges = 513\n",
      "COM                 =  [   0.169   -0.183 -115.7  ]\n",
      "COM norm            = 115.700\n",
      "mean edge length    = 20.01\n"
     ]
    },
    {
     "data": {
      "image/png": "[encoded data removed]",
      "text/plain": [
       "<Figure size 900x150 with 3 Axes>"
      ]
     },
     "metadata": {
      "image/png": {
       "height": 155,
       "width": 730
      }
     },
     "output_type": "display_data"
    },
    {
     "name": "stdout",
     "output_type": "stream",
     "text": [
      "Warning: D:\\repo\\FlexipodFast\\mesh\\v9.0\\thigh.stl file already exists and will be replaced\n"
     ]
    }
   ],
   "source": [
    "for part_name in part_names:\n",
    "    print(f\"{'-'*20}{part_name}{'-'*20}\")\n",
    "    in_step_file = f\"{robot_folder}/{part_name}.step\" # input file name\n",
    "    out_msh_file = f\"{robot_folder}/{part_name}.msh\" # output file name for .msh\n",
    "    out_stl_file = f\"{robot_folder}/{part_name}.stl\" # output file name for .stl\n",
    "    vmesh, _ = generateGmsh(in_step_file, out_msh_file, gmsh_args=gmsh_args,\n",
    "                        gmsh_args_3d=gmsh_args_3d, gui=show_gui, dim=dim)\n",
    "    vmeshSummary(vmesh)\n",
    "    # convert to stl\n",
    "    convertStepToSTL(in_step_file,out_stl_file)\n",
    "    \n",
    "# in_file_name = os.path.join(robot_folder,\"body.step\")\n",
    "# out_file_name = os.path.join(robot_folder,\"body.msh\")\n",
    "# vmesh, _ = generateGmsh(in_file_name, out_file_name, gmsh_args=gmsh_args,\n",
    "#                         gmsh_args_3d=gmsh_args_3d, gui=show_gui, dim=dim)\n",
    "# vmeshSummary(vmesh)\n",
    "# convertStepToSTL(in_file_name,out_file_name)"
   ]
  },
  {
   "cell_type": "markdown",
   "metadata": {},
   "source": [
    "# load descritized mesh"
   ]
  },
  {
   "cell_type": "code",
   "execution_count": 3,
   "metadata": {
    "ExecuteTime": {
     "end_time": "2021-04-26T06:31:51.939529Z",
     "start_time": "2021-04-26T06:31:49.606505Z"
    }
   },
   "outputs": [
    {
     "output_type": "stream",
     "name": "stdout",
     "text": [
      "# vertices         = 1459\n# lines            = 8630\n# surface triangle = 2544\nmean line length   = 20.06\nCOM                = [-29.486  -0.132   0.41 ]\nCOM norm           = 29.489\n"
     ]
    },
    {
     "output_type": "display_data",
     "data": {
      "text/plain": "<Figure size 600x150 with 2 Axes>",
      "image/png": "[encoded data removed]"
     },
     "metadata": {
      "image/png": {
       "width": 503,
       "height": 155
      }
     }
    },
    {
     "output_type": "stream",
     "name": "stdout",
     "text": [
      "# vertices         = 156\n# lines            = 835\n# surface triangle = 252\nmean line length   = 20.54\nCOM                = [66.227  0.055  0.545]\nCOM norm           = 66.230\n"
     ]
    },
    {
     "output_type": "display_data",
     "data": {
      "text/plain": "<Figure size 600x150 with 2 Axes>",
      "image/png": "[encoded data removed]"
     },
     "metadata": {
      "image/png": {
       "width": 503,
       "height": 155
      }
     }
    },
    {
     "output_type": "stream",
     "name": "stdout",
     "text": [
      "# vertices         = 223\n# lines            = 1185\n# surface triangle = 342\nmean line length   = 20.24\nCOM                = [   0.169   -0.183 -115.7  ]\nCOM norm           = 115.700\n"
     ]
    },
    {
     "output_type": "display_data",
     "data": {
      "text/plain": "<Figure size 600x150 with 2 Axes>",
      "image/png": "[encoded data removed]"
     },
     "metadata": {
      "image/png": {
       "width": 503,
       "height": 155
      }
     }
    },
    {
     "output_type": "stream",
     "name": "stdout",
     "text": [
      "# vertices         = 155\n# lines            = 785\n# surface triangle = 252\nmean line length   = 20.54\nCOM                = [ -0.15    0.193 -99.808]\nCOM norm           = 99.809\n"
     ]
    },
    {
     "output_type": "display_data",
     "data": {
      "text/plain": "<Figure size 600x150 with 2 Axes>",
      "image/png": "[encoded data removed]"
     },
     "metadata": {
      "image/png": {
       "width": 503,
       "height": 155
      }
     }
    },
    {
     "output_type": "stream",
     "name": "stdout",
     "text": [
      "# vertices         = 212\n# lines            = 1115\n# surface triangle = 352\nmean line length   = 20.42\nCOM                = [   0.089   11.537 -109.384]\nCOM norm           = 109.991\n"
     ]
    },
    {
     "output_type": "display_data",
     "data": {
      "text/plain": "<Figure size 600x150 with 2 Axes>",
      "image/png": "[encoded data removed]"
     },
     "metadata": {
      "image/png": {
       "width": 503,
       "height": 155
      }
     }
    }
   ],
   "source": [
    "###############################################################\n",
    "# x: back->front\n",
    "# y: right->left\n",
    "# z: down->top\n",
    "vmd_body = VolumeMesh.fromGmsh(\n",
    "    msh_file=f\"{robot_folder}/{'body'}.msh\",\n",
    "    stl_file = f\"{robot_folder}/{'body'}.stl\",\n",
    "    min_radius=min_radius, max_radius=radius_knn, max_nn=max_nn,transform=np.eye(4),verbose=True)\n",
    "\n",
    "vmd_0 = VolumeMesh.fromGmsh(\n",
    "    msh_file=f\"{robot_folder}/{'hip'}.msh\",\n",
    "    stl_file = f\"{robot_folder}/{'hip'}.stl\",\n",
    "    min_radius=min_radius, max_radius=radius_knn, max_nn=max_nn,transform=np.eye(4),verbose=True)\n",
    "\n",
    "vmd_1 = VolumeMesh.fromGmsh(\n",
    "    msh_file=f\"{robot_folder}/{'thigh'}.msh\",\n",
    "    stl_file = f\"{robot_folder}/{'thigh'}.stl\",\n",
    "    min_radius=min_radius, max_radius=radius_knn, max_nn=max_nn,transform=np.eye(4),verbose=True)\n",
    "\n",
    "vmd_2f = VolumeMesh.fromGmsh(\n",
    "    msh_file=f\"{robot_folder}/{'shank_front'}.msh\",\n",
    "    stl_file = f\"{robot_folder}/{'shank_front'}.stl\",\n",
    "    min_radius=min_radius, max_radius=radius_knn, max_nn=max_nn,transform=np.eye(4),verbose=True)\n",
    "\n",
    "vmd_2b = VolumeMesh.fromGmsh(\n",
    "    msh_file=f\"{robot_folder}/{'shank_back'}.msh\",\n",
    "    stl_file = f\"{robot_folder}/{'shank_back'}.stl\",\n",
    "    min_radius=min_radius, max_radius=radius_knn, max_nn=max_nn,transform=np.eye(4),verbose=True)"
   ]
  },
  {
   "cell_type": "code",
   "execution_count": 6,
   "metadata": {
    "ExecuteTime": {
     "end_time": "2021-04-26T06:31:51.955533Z",
     "start_time": "2021-04-26T06:31:51.942530Z"
    }
   },
   "outputs": [],
   "source": [
    "# vmd = vmd_0.copy()\n",
    "# cylinder_trimesh = trimesh.creation.cylinder(10,10)\n",
    "# cylinder_trimesh.show()\n",
    "# scene = trimesh.scene.Scene([trimesh.creation.cylinder(10,10),trimesh.creation.cylinder(5,20)])\n",
    "# scene.show()\n",
    "# vmd = VolumeMesh(vmd_leg.vertices,vmd_leg.lines,vmd_leg.triangles).copy(cmap ='pink')\n",
    "# o3dShow([vmd.lsd,vmd.pcd])"
   ]
  },
  {
   "cell_type": "markdown",
   "metadata": {},
   "source": [
    "# Assemble the parts"
   ]
  },
  {
   "cell_type": "code",
   "execution_count": 7,
   "metadata": {
    "ExecuteTime": {
     "end_time": "2021-04-26T06:31:51.971536Z",
     "start_time": "2021-04-26T06:31:51.958533Z"
    }
   },
   "outputs": [],
   "source": [
    "# unit = Unit({\"length\":\"mm\",\"density\":\"g/mm^3\"})\n",
    "# unit.toSI(\"density\")"
   ]
  },
  {
   "cell_type": "code",
   "execution_count": 4,
   "metadata": {
    "ExecuteTime": {
     "end_time": "2021-04-26T06:31:52.002230Z",
     "start_time": "2021-04-26T06:31:51.975538Z"
    }
   },
   "outputs": [],
   "source": [
    "############################ defineing joints geometry\n",
    "dx_body_f0 = 70.\n",
    "dy_body_f0 = 102.\n",
    "dz_body_f0 = 0.\n",
    "\n",
    "dx_f01 = 71.\n",
    "dy_f01 = 0.\n",
    "dz_f01 = 0.\n",
    "\n",
    "dx_f12 = 0.\n",
    "dy_f12 = 0.\n",
    "dz_f12 = 143.\n",
    "\n",
    "dx_body_b0 = 175.\n",
    "dy_body_b0 = 25.\n",
    "dz_body_b0 = 0.\n",
    "\n",
    "dx_b01 = 71.\n",
    "dy_b01 = 0.\n",
    "dz_b01 = 0.\n",
    "\n",
    "dx_b12 = 0.\n",
    "dy_b12 = 0.\n",
    "dz_b12 = 143.\n",
    "\n",
    "tlf_body_0 = np.array([\n",
    "    [0,0,1,dx_body_f0],\n",
    "    [1,0,0,dy_body_f0],\n",
    "    [0,1,0,dz_body_f0],\n",
    "    [0,0,0,1]])# front left hip\n",
    "\n",
    "tlf_0_1 = np.array([\n",
    "    [0,0,-1,dx_f01],\n",
    "    [-1,0,0,dy_f01],\n",
    "    [0,1,0,dz_f01],\n",
    "    [0,0,0,1]])# front left thigh \n",
    "\n",
    "tlf_1_2 = translation((+dx_f12,+dy_f12,-dz_f12))\\\n",
    ".dot(axisAngleRotation((0, 0, 1),-np.pi/2))# front left shank\n",
    "\n",
    "\n",
    "trf_body_0 = np.array([\n",
    "    [0, 0,1,dx_body_f0],\n",
    "    [-1,0,0,-dy_body_f0],\n",
    "    [0,-1,0,dz_body_f0],\n",
    "    [0,0,0,1]])# front right hip\n",
    "\n",
    "trf_0_1 = np.array([\n",
    "    [0,0,-1,dx_f01],\n",
    "    [1,0,0,dy_f01],\n",
    "    [0,-1,0,dz_f01],\n",
    "    [0,0,0,1]])# front right thigh \n",
    "\n",
    "trf_1_2 = translation((+dx_f12,+dy_f12,-dz_f12))\\\n",
    "                .dot(axisAngleRotation((0, 0, 1),np.pi/2))# front right shank\n",
    "\n",
    "tlb_body_0 = np.array([\n",
    "    [0,0,1,-dx_body_b0],\n",
    "    [1,0,0,dy_body_b0],\n",
    "    [0,1,0,dz_body_b0],\n",
    "    [0,0,0,1]])# back left hip\n",
    "\n",
    "tlb_0_1 = np.array([\n",
    "    [0, 0,-1,dx_b01],\n",
    "    [-1,0, 0,dy_b01],\n",
    "    [0, 1, 0,dz_b01],\n",
    "    [0,0,0,1]])# back left thigh \n",
    "\n",
    "tlb_1_2 = translation((+dx_b12,+dy_b12,-dz_b12))\\\n",
    "                .dot(axisAngleRotation((0, 0, 1),-np.pi/2))# back left shank\n",
    "\n",
    "trb_body_0 = np.array([\n",
    "    [0, 0,1,-dx_body_b0],\n",
    "    [-1,0,0,-dy_body_b0],\n",
    "    [0,-1,0,dz_body_b0],\n",
    "    [0,0,0,1]])# back right hip\n",
    "\n",
    "trb_0_1 = np.array([\n",
    "    [0, 0,-1,dx_b01],\n",
    "    [1, 0, 0,dy_b01],\n",
    "    [0,-1, 0,dz_b01],\n",
    "    [0,0,0,1]])# back right thigh \n",
    "\n",
    "trb_1_2 = translation((+dx_b12,+dy_b12,-dz_b12))\\\n",
    "                .dot(axisAngleRotation((0, 0, 1),np.pi/2))# back right shank"
   ]
  },
  {
   "cell_type": "code",
   "execution_count": 5,
   "metadata": {
    "ExecuteTime": {
     "end_time": "2021-04-26T06:31:52.049154Z",
     "start_time": "2021-04-26T06:31:52.005232Z"
    },
    "scrolled": false
   },
   "outputs": [
    {
     "output_type": "stream",
     "name": "stdout",
     "text": [
      "0:(0, 1)\n1:(1, 2)\n2:(2, 3)\n3:(0, 4)\n4:(4, 5)\n5:(5, 6)\n6:(0, 7)\n7:(7, 8)\n8:(8, 9)\n9:(0, 10)\n10:(10, 11)\n11:(11, 12)\n"
     ]
    }
   ],
   "source": [
    "graph = RobotDescription(unit_dict={\"length\": \"mm\"})\n",
    "graph.add_nodes_from([\n",
    "    (0, {\"vmd\": vmd_body.copy(cmap='RdGy'), \"alias\": \"body\",\"color\":to_rgba(\"r\")}),  # main_body\n",
    "    (1, {\"vmd\": vmd_0.copy(cmap='spring'), \"alias\": \"lf_hip\",\"color\":to_rgba(\"g\")}),  # front left\n",
    "    (2, {\"vmd\": vmd_1.copy(cmap='spring'), \"alias\": \"lf_thigh\"}),\n",
    "    (3, {\"vmd\": vmd_2f.copy(cmap='spring'), \"alias\": \"lf_shank\",\"color\":to_rgba(\"b\")}),\n",
    "\n",
    "    (4, {\"vmd\": vmd_0.copy(cmap='summer'), \"alias\": \"rf_hip\",\"color\":to_rgba(\"g\")}),  # front right\n",
    "    (5, {\"vmd\": vmd_1.copy(cmap='summer'), \"alias\": \"rf_thigh\"}),\n",
    "    (6, {\"vmd\": vmd_2f.copy(cmap='summer'), \"alias\": \"rf_shank\",\"color\":to_rgba(\"b\")}),\n",
    "\n",
    "    (7, {\"vmd\": vmd_0.copy(cmap='autumn'), \"alias\": \"lb_hip\",\"color\":to_rgba(\"g\")}),  # back left\n",
    "    (8, {\"vmd\": vmd_1.copy(cmap='autumn'), \"alias\": \"lb_thigh\"}),\n",
    "    (9, {\"vmd\": vmd_2b.copy(cmap='autumn'), \"alias\": \"lb_shank\",\"color\":to_rgba(\"b\")}),\n",
    "\n",
    "    (10, {\"vmd\": vmd_0.copy(cmap='winter'), \"alias\": \"rb_hip\",\"color\":to_rgba(\"g\")}),  # back right\n",
    "    (11, {\"vmd\": vmd_1.copy(cmap='winter'), \"alias\": \"rb_thigh\"}),\n",
    "    (12, {\"vmd\": vmd_2b.copy(cmap='winter')\\\n",
    "          .transform(axisAngleRotation((0, 0, 1),np.pi))# rotate 180 deg around local z axis\n",
    "        ,\"alias\": \"rb_shank\",\"color\":to_rgba(\"b\")}),\n",
    "],\n",
    "    transform=np.eye(4),\n",
    "    density=176.,\n",
    "    color=np.array((1, 1, 1, 1))  # white\n",
    ")\n",
    "#graph.nodes['body']['density'] = 100\n",
    "\n",
    "\n",
    "graph.add_edges_from((\n",
    "    (0, 1, {\"order\":0,\"transform\": tlf_body_0, \"joint_pos\": 0}),\n",
    "    (1, 2, {\"order\":1,\"transform\": tlf_0_1, \"joint_pos\": 0}),\n",
    "    (2, 3, {\"order\":2,\"transform\": tlf_1_2, \"joint_pos\": 0}),\n",
    "\n",
    "    (0, 4, {\"order\":3,\"transform\": trf_body_0, \"joint_pos\": 0}),\n",
    "    (4, 5, {\"order\":4,\"transform\": trf_0_1, \"joint_pos\": 0}),\n",
    "    (5, 6, {\"order\":5,\"transform\": trf_1_2, \"joint_pos\": 0}),\n",
    "\n",
    "    (0, 7, {\"order\":6,\"transform\": tlb_body_0, \"joint_pos\": 0}),\n",
    "    (7, 8, {\"order\":7,\"transform\": tlb_0_1, \"joint_pos\": 0}),\n",
    "    (8, 9, {\"order\":8,\"transform\": tlb_1_2, \"joint_pos\": 0}),\n",
    "\n",
    "    (0, 10, {\"order\":9,\"transform\": trb_body_0, \"joint_pos\": 0}),\n",
    "    (10, 11, {\"order\":10,\"transform\": trb_0_1, \"joint_pos\": 0}),\n",
    "    (11, 12, {\"order\":11,\"transform\": trb_1_2, \"joint_pos\": 0}),\n",
    "),\n",
    "    transform=np.eye(4),\n",
    "    joint_type=\"revolute\",\n",
    "    joint_pos=0,\n",
    "    axis=(1, 0, 0),\n",
    "    limit={  # units must be SI here\n",
    "        \"effort\": 11,  # torque, [Nm]\n",
    "        \"velocity\": round(487/60*2*np.pi)  # speed [rad/s]\n",
    "}\n",
    ")\n",
    "\n",
    "# create coordinate in body space\n",
    "graph.createCoordinateOXYZ(radius=15)\n",
    "################## computed value ###################################\n",
    "graph.updateWorldTransform()\n",
    "# list(nx.edge_bfs(graph))\n",
    "\n",
    "#####################################################################\n",
    "for k, e in enumerate(graph.orderedEdges):\n",
    "    print(f\"{k}:{e}\")"
   ]
  },
  {
   "cell_type": "code",
   "execution_count": 12,
   "metadata": {
    "ExecuteTime": {
     "end_time": "2021-04-26T06:31:52.064156Z",
     "start_time": "2021-04-26T06:31:52.054157Z"
    }
   },
   "outputs": [],
   "source": [
    "# graph.draw()"
   ]
  },
  {
   "cell_type": "code",
   "execution_count": 6,
   "metadata": {
    "ExecuteTime": {
     "end_time": "2021-04-26T06:32:01.399877Z",
     "start_time": "2021-04-26T06:31:52.066157Z"
    }
   },
   "outputs": [
    {
     "output_type": "stream",
     "name": "stdout",
     "text": [
      "(0, 1):70,70\n(0, 4):70,70\n(0, 7):70,70\n(0, 10):70,70\n(1, 2):70,70\n(2, 3):70,70\n(4, 5):70,70\n(5, 6):70,70\n(7, 8):70,70\n(8, 9):70,70\n(10, 11):70,70\n(11, 12):70,70\n"
     ]
    }
   ],
   "source": [
    "# graph.joint_pos = np.array([-np.pi/2,-np.pi/2,-np.pi/2,-np.pi/2])\n",
    "\n",
    "#graph.joint_pos = np.array([7 * np.pi/4, np.pi/4, -np.pi/3, np.pi/3, 0, np.pi/3, 0, -np.pi/3, 0, 0, 0, 0])\n",
    "# graph.joint_pos = np.array([4 * np.pi / 5, 4 * np.pi/3, np.pi/3, 3 * np.pi/2,\\\n",
    "#                             0, np.pi / 2, 0, 3 * np.pi / 2, 0, 11 * np.pi / 6, 0, np.pi / 6])\n",
    "\n",
    "# graph.joint_pos = np.array([0, 0, 0, 0, 0, 0, 0, 0, 0, 0, 0, 0])\n",
    "\n",
    "# graph.joint_pos = np.array([np.pi / 2, -np.pi / 2, np.pi / 2, -np.pi / 2, 0, 0, 0, 0, 0, 0, 0, 0])\n",
    "\n",
    "knee_angle = np.pi*0.03\n",
    "\n",
    "arm_angle = np.pi/6\n",
    "# arm_angle = 0\n",
    "\n",
    "graph.joint_pos = np.array([\n",
    "    # front left\n",
    "    0,               # 0\n",
    "    -np.pi/2+arm_angle,        # 1\n",
    "    0,               # 2\n",
    "    # front right\n",
    "    0,               # 3 \n",
    "    np.pi/2-arm_angle,         # 4  \n",
    "    0,               # 5\n",
    "    # back left\n",
    "    0+knee_angle,               # 6     \n",
    "    -np.pi/2,        # 7   \n",
    "    0+knee_angle,               # 8\n",
    "    # back right\n",
    "    0-knee_angle,               # 9        \n",
    "    np.pi/2,         # 10 \n",
    "    0-knee_angle               # 11   \n",
    "])     \n",
    "\n",
    "graph.updateWorldTransform(t = axisAngleRotation((0, 0, 1),np.pi/2)) #TODO MAKE IT RIGHT\n",
    "# graph.updateWorldTransform()\n",
    "\n",
    "world_space_pcds = [o3d.geometry.PointCloud(graph.nodes[n][\"vmd\"].pcd()).transform(\n",
    "    graph.nodes[n][\"world_transform\"]) for n in graph.nodes]\n",
    "\n",
    "world_space_lsd = [o3d.geometry.LineSet(graph.nodes[n][\"vmd\"].lsd()).transform(\n",
    "    graph.nodes[n][\"world_transform\"]) for n in graph.nodes]\n",
    "\n",
    "world_space_o3dMesh = [o3d.geometry.TriangleMesh(graph.nodes[n][\"vmd\"].o3dMesh()).transform(\n",
    "    graph.nodes[n][\"world_transform\"]) for n in graph.nodes]\n",
    "\n",
    "\n",
    "\n",
    "link_coordinate_frames = [o3d.geometry.TriangleMesh.create_coordinate_frame(\n",
    "    size=50).transform(graph.nodes[n][\"world_transform\"])for n in graph.nodes]\n",
    "\n",
    "joint_coordiate_frams = [o3d.geometry.TriangleMesh.create_coordinate_frame(\n",
    "    size=50).transform(graph.edges[e][\"world_transform\"])for e in graph.edges]\n",
    "\n",
    "# o3dShow(world_space_pcds+world_space_lsd+link_coordinate_frames+joint_coordiate_frams + [coord_frame],background_color=(0,0,0))\n",
    "\n",
    "\n",
    "###############################################\n",
    "discretization_opt = dict(\n",
    "    min_radius=min_radius, \n",
    "    max_radius=radius_knn, \n",
    "    max_nn=max_nn,\n",
    "    joint_radius = 40.,\n",
    "    joint_height = 40.,\n",
    "    joint_sections = 50, # number of sections of the joint cylinder mesh\n",
    "    gmsh_args=gmsh_args,\n",
    "    gmsh_args_3d=gmsh_args_3d,\n",
    ")\n",
    "\n",
    "\n",
    "graph = graph.makeJoint(opt=discretization_opt)\n",
    "#################################################\n",
    "\n",
    "joint_cylinders = [o3d.geometry.TriangleMesh(graph.edges[e][\"cylinder_parent\"].o3dMesh()).transform(\n",
    "    graph.nodes[e[0]][\"world_transform\"]) for e in graph.edges]\n",
    "# o3dShow(world_space_pcds[0:]+world_space_lsd[0:]+world_space_o3dMesh[0:]+joint_cylinders[0:])#+link_coordinate_frames+joint_coordiate_frams)\n",
    "o3dShow(world_space_pcds[0:]+world_space_lsd[0:]+joint_coordiate_frams+joint_cylinders[0:],background_color=(0,0,0))#+link_coordinate_frames+joint_coordiate_frams)\n",
    "\n",
    "# o3dShow(world_space_pcds[0:]+world_space_lsd[0:])#+link_coordinate_frames+joint_coordiate_frams)\n",
    "\n",
    "# robot_lsd = o3d.geometry.LineSet(\n",
    "#     o3d.utility.Vector3dVector(vertices),\n",
    "#     o3d.utility.Vector2iVector(lines))\n",
    "# robot_lsd.colors = o3d.utility.Vector3dVector(colors[lines].mean(axis=1))\n",
    "# o3dShow([robot_lsd]+joint_cylinders[0:])"
   ]
  },
  {
   "cell_type": "code",
   "execution_count": 12,
   "metadata": {
    "ExecuteTime": {
     "end_time": "2021-04-26T06:32:01.431229Z",
     "start_time": "2021-04-26T06:32:01.402878Z"
    }
   },
   "outputs": [],
   "source": [
    "# saving\n",
    "import pickle\n",
    "path = robot_folder+\"robot.pickle\"\n",
    "with open(path,\"wb\") as f:\n",
    "    pickle.dump(graph,f)"
   ]
  },
  {
   "cell_type": "code",
   "execution_count": 4,
   "metadata": {
    "ExecuteTime": {
     "end_time": "2021-04-26T06:32:01.446232Z",
     "start_time": "2021-04-26T06:32:01.434229Z"
    }
   },
   "outputs": [
    {
     "output_type": "error",
     "ename": "ImportError",
     "evalue": "cannot import name '__version__' from 'pyembree' (unknown location)",
     "traceback": [
      "\u001b[1;31m---------------------------------------------------------------------------\u001b[0m",
      "\u001b[1;31mImportError\u001b[0m                               Traceback (most recent call last)",
      "\u001b[1;32m<ipython-input-4-66a68e6746d8>\u001b[0m in \u001b[0;36m<module>\u001b[1;34m\u001b[0m\n\u001b[0;32m      3\u001b[0m \u001b[0mpath\u001b[0m \u001b[1;33m=\u001b[0m \u001b[0mrobot_folder\u001b[0m\u001b[1;33m+\u001b[0m\u001b[1;34m\"robot.pickle\"\u001b[0m\u001b[1;33m\u001b[0m\u001b[1;33m\u001b[0m\u001b[0m\n\u001b[0;32m      4\u001b[0m \u001b[1;32mwith\u001b[0m \u001b[0mopen\u001b[0m\u001b[1;33m(\u001b[0m\u001b[0mpath\u001b[0m\u001b[1;33m,\u001b[0m\u001b[1;34m\"rb\"\u001b[0m\u001b[1;33m)\u001b[0m \u001b[1;32mas\u001b[0m \u001b[0mf\u001b[0m\u001b[1;33m:\u001b[0m\u001b[1;33m\u001b[0m\u001b[1;33m\u001b[0m\u001b[0m\n\u001b[1;32m----> 5\u001b[1;33m     \u001b[0mgraph\u001b[0m \u001b[1;33m=\u001b[0m \u001b[0mpickle\u001b[0m\u001b[1;33m.\u001b[0m\u001b[0mload\u001b[0m\u001b[1;33m(\u001b[0m\u001b[0mf\u001b[0m\u001b[1;33m)\u001b[0m\u001b[1;33m\u001b[0m\u001b[1;33m\u001b[0m\u001b[0m\n\u001b[0m",
      "\u001b[1;32m~\\.conda\\envs\\flexipod\\lib\\site-packages\\trimesh\\ray\\ray_pyembree.py\u001b[0m in \u001b[0;36m<module>\u001b[1;34m\u001b[0m\n\u001b[0;32m      7\u001b[0m \u001b[1;32mfrom\u001b[0m \u001b[0mcopy\u001b[0m \u001b[1;32mimport\u001b[0m \u001b[0mdeepcopy\u001b[0m\u001b[1;33m\u001b[0m\u001b[1;33m\u001b[0m\u001b[0m\n\u001b[0;32m      8\u001b[0m \u001b[1;33m\u001b[0m\u001b[0m\n\u001b[1;32m----> 9\u001b[1;33m \u001b[1;32mfrom\u001b[0m \u001b[0mpyembree\u001b[0m \u001b[1;32mimport\u001b[0m \u001b[0m__version__\u001b[0m \u001b[1;32mas\u001b[0m \u001b[0m_ver\u001b[0m\u001b[1;33m\u001b[0m\u001b[1;33m\u001b[0m\u001b[0m\n\u001b[0m\u001b[0;32m     10\u001b[0m \u001b[1;32mfrom\u001b[0m \u001b[0mpyembree\u001b[0m \u001b[1;32mimport\u001b[0m \u001b[0mrtcore_scene\u001b[0m\u001b[1;33m\u001b[0m\u001b[1;33m\u001b[0m\u001b[0m\n\u001b[0;32m     11\u001b[0m \u001b[1;32mfrom\u001b[0m \u001b[0mpyembree\u001b[0m\u001b[1;33m.\u001b[0m\u001b[0mmesh_construction\u001b[0m \u001b[1;32mimport\u001b[0m \u001b[0mTriangleMesh\u001b[0m\u001b[1;33m\u001b[0m\u001b[1;33m\u001b[0m\u001b[0m\n",
      "\u001b[1;31mImportError\u001b[0m: cannot import name '__version__' from 'pyembree' (unknown location)"
     ]
    }
   ],
   "source": [
    "# loading\n",
    "import pickle\n",
    "path = robot_folder+\"robot.pickle\"\n",
    "with open(path,\"rb\") as f:\n",
    "    graph = pickle.load(f)"
   ]
  },
  {
   "cell_type": "markdown",
   "metadata": {},
   "source": [
    "# create spring-mass representation"
   ]
  },
  {
   "cell_type": "code",
   "execution_count": 7,
   "metadata": {
    "ExecuteTime": {
     "end_time": "2021-04-26T06:32:01.890506Z",
     "start_time": "2021-04-26T06:32:01.449262Z"
    },
    "scrolled": false
   },
   "outputs": [
    {
     "output_type": "stream",
     "name": "stdout",
     "text": [
      "{0: 0, 1: 1, 2: 2, 3: 3, 4: 4, 5: 5, 6: 6, 7: 7, 8: 8, 9: 9, 10: 10, 11: 11, 12: 12}\n{0: (0, 1), 1: (0, 4), 2: (0, 7), 3: (0, 10), 4: (1, 2), 5: (2, 3), 6: (4, 5), 7: (5, 6), 8: (7, 8), 9: (8, 9), 10: (10, 11), 11: (11, 12)}\nid_vertices=[   0 1643 1911 2237 2462 2730 3056 3281 3549 3875 4157 4425 4751 5033\n 5057 5232]\nid_vertices labels:\n(0, 0)\n(1, 1643)\n(2, 1911)\n(3, 2237)\n(4, 2462)\n(5, 2730)\n(6, 3056)\n(7, 3281)\n(8, 3549)\n(9, 3875)\n(10, 4157)\n(11, 4425)\n(12, 4751)\n('anchor', 5033)\n('coord', 5057)\n('end', 5232)\n--------------------\nid_lines=[    0 11505 13408 15348 16512 18410 20347 21511 23422 25362 26884 28794\n 30730 32249 32261 35621 52168 52693 57068]\nid_lines labels:\n((0, 1), 0)\n((1, 2), 11505)\n((2, 3), 13408)\n((0, 4), 15348)\n((4, 5), 16512)\n((5, 6), 18410)\n((0, 7), 20347)\n((7, 8), 21511)\n((8, 9), 23422)\n((0, 10), 25362)\n((10, 11), 26884)\n((11, 12), 28794)\n('anchor_lines', 32249)\n('rot_springs', 32261)\n('fri_springs', 35621)\n('coord_self_lines', 52168)\n('coord_attach_lines', 52693)\n('end', 57068)\n--------------------\n"
     ]
    },
    {
     "output_type": "display_data",
     "data": {
      "text/plain": "<Figure size 720x216 with 1 Axes>",
      "image/png": "[encoded data removed]"
     },
     "metadata": {
      "image/png": {
       "width": 598,
       "height": 192
      }
     }
    }
   ],
   "source": [
    "# number of attachment lines per point in the attached coordinates\n",
    "num_attach_per_coord = 25\n",
    "\n",
    "######################################################################\n",
    "dict_id2node = dict(enumerate(graph.nodes)) # dict of index to node\n",
    "dict_node2id = dict(zip(graph.nodes, range(len(graph.nodes)))) # dict of node to index\n",
    "print(dict_id2node)\n",
    "dict_id2edge = dict(enumerate(graph.edges)) # dict of index to edges\n",
    "dict_edge2id = dict(zip(graph.edges, range(len(graph.edges))))\n",
    "print(dict_id2edge)\n",
    "\n",
    "\n",
    "graph.updateWorldTransform()\n",
    "\n",
    "# ##################################################\n",
    "part_vertices = [applyTransform(graph.nodes[n][\"vmd\"].vertices,\n",
    "                                graph.nodes[n][\"world_transform\"]) for n in graph.nodes]\n",
    "anchor_vertices = [applyTransform(graph.edges[e]['anchor'],\n",
    "                                  graph.edges[e][\"world_transform\"]) for e in graph.orderedEdges]\n",
    "part_coord_vertices = [applyTransform(graph.nodes[n]['coord'],\n",
    "                                      graph.nodes[n][\"world_transform\"]) for n in graph.nodes]\n",
    "joint_coord_vertices = [applyTransform(graph.edges[e]['coord'],\n",
    "                                       graph.edges[e][\"world_transform\"]) for e in graph.orderedEdges]\n",
    "\n",
    "# vertices:\n",
    "# parts_xyzs = part_k_xyzs for k in range(#nodes)\n",
    "# anchors_xyzs = anchor_k for k in range(#joints)\n",
    "# coord_xys = coord(root_node), coord(joint_k_left),coord(joint_k_right), k in range(#joints)\n",
    "# vertices = np.vstack(part_vertices + \n",
    "#                      anchor_vertices +\n",
    "#                      part_coord_vertices + \n",
    "#                      joint_coord_vertices)\n",
    "\n",
    "vertices = part_vertices + \\\n",
    "    [np.vstack(anchor_vertices)] +\\\n",
    "    [np.vstack(part_coord_vertices+joint_coord_vertices)]\n",
    "id_vertices = np.hstack(([0], np.cumsum([len(v) for v in vertices])))\n",
    "vertices = np.vstack(vertices)\n",
    "\n",
    "id_vertices_label = [(n, id_vertices[k]) for k, n in enumerate(graph.nodes)] + \\\n",
    "    [(\"anchor\", id_vertices[len(graph)]),\n",
    "     (\"coord\", id_vertices[len(graph)+1]),\n",
    "     (\"end\", id_vertices[len(graph)+2])]\n",
    "\n",
    "# colors of the vertices\n",
    "part_colors = np.vstack(\n",
    "    [graph.nodes[n][\"vmd\"][\"vertices_color\"] for n in graph.nodes])\n",
    "colors = np.zeros((len(vertices), 3))\n",
    "colors[:len(part_colors)] = part_colors\n",
    "\n",
    "\n",
    "###################################################################\n",
    "part_len = [len(v) for v in part_vertices]\n",
    "anchor_len = [len(v) for v in anchor_vertices]\n",
    "part_coord_len = [len(v) for v in part_coord_vertices]\n",
    "joint_coord_len = [len(v) for v in joint_coord_vertices]\n",
    "\n",
    "# id_vertices = np.hstack(\n",
    "#     ([0], np.cumsum(part_len+anchor_len+part_coord_len+joint_coord_len)))\n",
    "\n",
    "# vertex ids\n",
    "vid_part = np.hstack(([0], np.cumsum(part_len)))  # vertex id part\n",
    "vid_anchor = np.hstack(([0], np.cumsum(anchor_len))) + \\\n",
    "    vid_part[-1]  # vertex id anchor\n",
    "vid_part_coord = np.hstack(([0], np.cumsum(part_coord_len))) + vid_anchor[-1]\n",
    "vid_joint_coord = np.hstack(\n",
    "    ([0], np.cumsum(joint_coord_len))) + vid_part_coord[-1]\n",
    "\n",
    "for k, n in enumerate(graph.nodes):\n",
    "    graph.nodes[n][\"vertex_start_id\"] = vid_part[k]\n",
    "    graph.nodes[n][\"coord_start_id\"] = vid_part_coord[k]\n",
    "for k, e in enumerate(graph.orderedEdges):\n",
    "    graph.edges[e][\"coord_start_id\"] = vid_joint_coord[k]\n",
    "    graph.edges[e][\"anchor_start_id\"] = vid_anchor[k]\n",
    "############################################################\n",
    "# part surfaces\n",
    "part_surface_id = np.hstack(\n",
    "    [np.unique(graph.nodes[n][\"vmd\"][\"triangles\"].ravel()) +\n",
    "     graph.nodes[n][\"vertex_start_id\"] for n in graph.nodes])\n",
    "is_surface = np.zeros(len(vertices), dtype=bool)\n",
    "is_surface[part_surface_id] = True\n",
    "\n",
    "###############################################################\n",
    "part_triangles = [graph.nodes[n][\"vmd\"].triangles +\n",
    "              graph.nodes[n][\"vertex_start_id\"] for n in graph.nodes]\n",
    "\n",
    "triangles = np.vstack(part_triangles)\n",
    "###############################################################\n",
    "part_lines = [graph.nodes[n][\"vmd\"].lines +\n",
    "              graph.nodes[n][\"vertex_start_id\"] for n in graph.nodes]\n",
    "\n",
    "anchor_lines = [(graph.edges[e][\"anchor_start_id\"],\n",
    "                 graph.edges[e][\"anchor_start_id\"]+1) for e in graph.orderedEdges]\n",
    "\n",
    "part_coord_self_lines = [graph.nodes[n][\"coord_start_id\"] +\n",
    "                         graph.nodes[n][\"coord_self_lines\"] for n in graph.nodes]\n",
    "joint_coord_self_lines = [graph.edges[e][\"coord_start_id\"] +\n",
    "                          graph.edges[e][\"coord_self_lines\"] for e in graph.orderedEdges]\n",
    "\n",
    "\n",
    "# connecting coordinate to the body parts\n",
    "part_coord_attach_lines = []\n",
    "for k, n in enumerate(graph.nodes):\n",
    "    part_coord_attach_lines.append(\n",
    "        joinLines(left_vertices=part_vertices[k],\n",
    "                  right_vertices=part_coord_vertices[k],\n",
    "                  max_nn=num_attach_per_coord, min_radius=min_radius, max_radius=radius_knn*10,\n",
    "                  left_id_start=vid_part[k],\n",
    "                  right_id_start=vid_part_coord[k]))\n",
    "\n",
    "# connecting coordinate to the joint-parent\n",
    "joint_coord_attach_lines = []\n",
    "for k, e in enumerate(graph.orderedEdges):\n",
    "    parent_id = dict_node2id[e[0]]\n",
    "    joint_coord_attach_lines.append(\n",
    "        joinLines(left_vertices=part_vertices[parent_id],  # parent vertices\n",
    "                  right_vertices=joint_coord_vertices[k],\n",
    "                  max_nn=num_attach_per_coord, min_radius=min_radius, max_radius=radius_knn*10,\n",
    "                  left_id_start=vid_part[parent_id],\n",
    "                  right_id_start=vid_joint_coord[k]))\n",
    "\n",
    "\n",
    "joints = []\n",
    "\n",
    "for k, e in enumerate(graph.orderedEdges):\n",
    "    edge = graph.edges[e]\n",
    "    parent = e[0]\n",
    "    child = e[1]\n",
    "    parent_id = dict_node2id[e[0]]\n",
    "    child_id = dict_node2id[e[1]]\n",
    "    joint_k = Joint(\n",
    "        left=edge[\"id_joint_parent\"]+vid_part[parent_id],\n",
    "        right=edge[\"id_joint_child\"]+vid_part[child_id],\n",
    "        anchor=anchor_lines[k],\n",
    "        left_coord=edge[\"coord_start_id\"],\n",
    "        right_coord=graph.nodes[child][\"coord_start_id\"],\n",
    "        axis=edge[\"axis\"]\n",
    "    )\n",
    "    lines_length = np.linalg.norm(vertices[joint_k.friSpring[:, 0]] -\n",
    "                                  vertices[joint_k.friSpring[:, 1]], axis=1)\n",
    "    joint_k.friSpring = joint_k.friSpring[lines_length > 0.3*radius_knn]\n",
    "    joints.append(joint_k)\n",
    "\n",
    "rot_springs = [j.rotSpring for j in joints]\n",
    "fri_springs = [j.friSpring for j in joints]\n",
    "\n",
    "# lines:\n",
    "# parts_lines = part_k_lines for k in range(#nodes)\n",
    "# anchors_lines\n",
    "# oxyz_self_springs\n",
    "# oxyz_anchor_springs\n",
    "# rotation springs\n",
    "# resetable friction springs\n",
    "\n",
    "coord_self_lines = part_coord_self_lines+joint_coord_self_lines\n",
    "coord_attach_lines = part_coord_attach_lines+joint_coord_attach_lines\n",
    "\n",
    "lines = part_lines +\\\n",
    "    [np.vstack(anchor_lines)] +\\\n",
    "    [np.vstack(rot_springs)] +\\\n",
    "    [np.vstack(fri_springs)] +\\\n",
    "    [np.vstack(coord_self_lines)] +\\\n",
    "    [np.vstack(coord_attach_lines)]\n",
    "\n",
    "# start, end of respective lines\n",
    "id_lines = np.hstack(([0], np.cumsum([len(v) for v in lines])))\n",
    "\n",
    "lines = np.vstack(lines)\n",
    "\n",
    "# whether the springs has surface end-points\n",
    "lines_is_surface = np.bitwise_or.reduce(np.isin(lines,part_surface_id),1)\n",
    "\n",
    "id_lines_label = [(n, id_lines[k]) for k, n in enumerate(graph.orderedEdges)] + \\\n",
    "    [(\"anchor_lines\", id_lines[len(graph)]),\n",
    "     (\"rot_springs\", id_lines[len(graph)+1]),\n",
    "     (\"fri_springs\", id_lines[len(graph)+2]),\n",
    "     (\"coord_self_lines\", id_lines[len(graph)+3]),\n",
    "     (\"coord_attach_lines\", id_lines[len(graph)+4]),\n",
    "     (\"end\", id_lines[len(graph)+5])]\n",
    "\n",
    "print(f\"id_vertices={id_vertices}\")\n",
    "print(\"id_vertices labels:\",*id_vertices_label,\"-\"*20, sep = \"\\n\")\n",
    "\n",
    "print(f\"id_lines={id_lines}\")\n",
    "print(\"id_lines labels:\",*id_lines_label,\"-\"*20, sep = \"\\n\")\n",
    "\n",
    "lines_length = np.linalg.norm(vertices[lines[:,0]] - vertices[lines[:,1]],axis=1)\n",
    "plt.figure(figsize=(10,3))\n",
    "n,bins,_ =plt.hist(lines_length,bins=\"auto\")\n",
    "plt.text(bins[0],0,f\"{bins[0]:.1f}\",ha=\"left\",va=\"bottom\",fontsize=\"large\",color='r')\n",
    "plt.text(bins[-1],0,f\"{bins[-1]:.1f}\",ha=\"right\",va=\"bottom\",fontsize=\"large\",color='r')\n",
    "\n",
    "plt.show()"
   ]
  },
  {
   "cell_type": "code",
   "execution_count": 8,
   "metadata": {
    "ExecuteTime": {
     "end_time": "2021-04-26T06:32:03.222809Z",
     "start_time": "2021-04-26T06:32:01.893507Z"
    }
   },
   "outputs": [],
   "source": [
    "num_body = len(graph.nodes)\n",
    "joint_vertex_id = np.sort(np.stack([(j.left,j.right) for j in joints]).ravel())\n",
    "# lines connected to joints\n",
    "lines_is_joint = np.bitwise_or.reduce(np.isin(lines,joint_vertex_id),1)\n",
    "# lines parts only\n",
    "lines_is_part = np.zeros(len(lines),dtype=bool)\n",
    "lines_is_part[id_lines[1]:id_lines[num_body]] = True\n",
    "# selected sensor lines (bool)\n",
    "# lines_selected = ~lines_is_surface  * lines_is_part* ~lines_is_joint #bone\n",
    "# lines_selected = lines_is_surface  * lines_is_part* ~lines_is_joint # skin\n",
    "lines_selected = lines_is_part* ~lines_is_joint # all"
   ]
  },
  {
   "cell_type": "code",
   "execution_count": 10,
   "metadata": {
    "ExecuteTime": {
     "end_time": "2021-04-26T06:32:03.225810Z",
     "start_time": "2021-04-26T06:31:45.178Z"
    }
   },
   "outputs": [],
   "source": [
    "####################################################\n",
    "robot_lsd = o3d.geometry.LineSet(\n",
    "    o3d.utility.Vector3dVector(applyTransform(\n",
    "        vertices,axisAngleRotation((0, 1, 0),np.pi*7/8)@axisAngleRotation((0, 0, 1),np.pi/2))),\n",
    "    o3d.utility.Vector2iVector(lines))\n",
    "robot_lsd.colors = o3d.utility.Vector3dVector(colors[lines].mean(axis=1))\n",
    "\n",
    "############# selected edges #########################\n",
    "robot_lsd.paint_uniform_color((0.1,0.1,0.1))\n",
    "colors = np.asarray(robot_lsd.colors)\n",
    "# colors[np.logical_not(lines_is_surface)] = (1,1,1)\n",
    "colors[lines_selected] = (1,1,1)\n",
    "colors[lines_is_joint] = (1,0,0)\n",
    "robot_lsd.colors = o3d.utility.Vector3dVector(colors)\n",
    "#######################################################\n",
    "# robot_lsd.paint_uniform_color((0.1,0.1,0.1))\n",
    "# step =  (id_lines[num_body])//128\n",
    "# colors = np.asarray(robot_lsd.colors)\n",
    "# colors[np.logical_not(lines_is_surface)] = (0.2,0.2,0.2)\n",
    "# colors[range(0,id_lines[num_body],step)] = (1,1,1)\n",
    "# robot_lsd.colors = o3d.utility.Vector3dVector(colors)\n",
    "\n",
    "o3dShow([robot_lsd],background_color=(0,0,0))"
   ]
  },
  {
   "cell_type": "code",
   "execution_count": 23,
   "metadata": {
    "ExecuteTime": {
     "end_time": "2021-04-26T06:32:03.226811Z",
     "start_time": "2021-04-26T06:31:45.608Z"
    },
    "scrolled": false
   },
   "outputs": [
    {
     "output_type": "stream",
     "name": "stdout",
     "text": [
      "[-0.06145749 -0.35048076 -0.001     ]\n[0.07654251 0.35048076 0.59836536]\n(5208, 3)\n(56548, 2)\n"
     ]
    }
   ],
   "source": [
    "# o3dShow(robot_lsd)\n",
    "# export\n",
    "xyz_all_trans = vertices.copy()\n",
    "\n",
    "xyz_all_trans = applyTransform(xyz_all_trans,axisAngleRotation((0, 1, 0),-np.pi/2))\n",
    "\n",
    "min_bound = xyz_all_trans.min(axis=0)\n",
    "# transoformed ofset scaled mm->m\n",
    "xyz_all_trans = (xyz_all_trans + np.array([0, 0, 0-min_bound[-1]+-1]))/1000\n",
    "\n",
    "\n",
    "joints_list = [joint.toDict() for joint in joints]\n",
    "data = {\n",
    "    \"radius_poisson\":radius_poisson*1e-3,# convert to m\n",
    "    \"vertices\":xyz_all_trans.tolist(),\n",
    "    \"edges\":lines.tolist(),\n",
    "    \"triangles\":triangles.tolist(),\n",
    "    \"isSurface\":is_surface.tolist(),\n",
    "    \"idVertices\":id_vertices.tolist(),\n",
    "    \"idEdges\":id_lines.tolist(),\n",
    "    \"colors\":colors.tolist(),\n",
    "    \"joints\":joints_list,\n",
    "    \"isSurfaceEdges\":lines_is_surface.tolist(), # surface lines\n",
    "    \"idSelectedEdges\":np.flatnonzero(lines_selected).tolist() # selected edges for spring strain\n",
    "}\n",
    "\n",
    "\n",
    "\n",
    "print(xyz_all_trans.min(axis=0))\n",
    "print(xyz_all_trans.max(axis=0))\n",
    "print(xyz_all_trans.shape)\n",
    "print(lines.shape)\n",
    "\n",
    "\n",
    "# robot_lsd = o3d.geometry.LineSet(\n",
    "#     o3d.utility.Vector3dVector(xyz_all_trans),\n",
    "#     o3d.utility.Vector2iVector(lines))\n",
    "# robot_lsd.colors = o3d.utility.Vector3dVector(colors[lines].mean(axis=1))\n",
    "# o3dShow([robot_lsd,o3d.geometry.TriangleMesh.create_coordinate_frame(\n",
    "#     size=0.1, origin=[0, 0, 0])])\n",
    "\n",
    "# https://stackoverflow.com/questions/43442194/how-do-i-read-and-write-with-msgpack\n",
    "# Write msgpack file\n",
    "with open('../flexipod_12dof.msgpack', 'wb') as outfile:\n",
    "    msgpack.pack(data, outfile)\n",
    "    \n",
    "# # Read msgpack file\n",
    "# with open('../data.msgpack','rb') as data_file:\n",
    "#     # data_loaded = json.load(data_file)\n",
    "#     data_loaded = msgpack.unpack(data_file)"
   ]
  },
  {
   "cell_type": "code",
   "execution_count": null,
   "metadata": {
    "ExecuteTime": {
     "end_time": "2021-04-26T06:32:03.228811Z",
     "start_time": "2021-04-26T06:31:47.549Z"
    }
   },
   "outputs": [],
   "source": [
    "# # Read msgpack file\n",
    "# with open('../flexipod_12dof.msgpack','rb') as data_file:\n",
    "#     # data_loaded = json.load(data_file)\n",
    "#     data_loaded = msgpack.unpack(data_file)\n",
    "# # data_loaded"
   ]
  },
  {
   "cell_type": "markdown",
   "metadata": {
    "ExecuteTime": {
     "end_time": "2021-01-11T10:37:20.613620Z",
     "start_time": "2021-01-11T10:37:20.558607Z"
    },
    "scrolled": false
   },
   "source": [
    "##  generate URDF"
   ]
  },
  {
   "cell_type": "code",
   "execution_count": 16,
   "metadata": {
    "ExecuteTime": {
     "end_time": "2021-04-13T05:41:32.777668Z",
     "start_time": "2021-04-13T05:41:32.658485Z"
    },
    "scrolled": true
   },
   "outputs": [
    {
     "name": "stdout",
     "output_type": "stream",
     "text": [
      "URDF path:D:\\repo\\FlexipodFast\\data\\urdf\\test\\robot.urdf\n",
      "\n",
      "<?xml version='1.0' encoding='ASCII'?>\n",
      "<robot name=\"robot\">\n",
      "  <link name=\"0\">\n",
      "    <inertial>\n",
      "      <origin xyz=\"0.0 0.0 0.0\" rpy=\"0.0 0.0 0.0\"/>\n",
      "      <mass value=\"0.6619871640245176\"/>\n",
      "      <inertia ixx=\"0.002780827859687883\" ixy=\"1.3747788133504628e-08\" ixz=\"-9.362594391710892e-06\" iyy=\"0.007819957582371058\" iyz=\"1.868969568122951e-10\" izz=\"0.009474915404544247\"/>\n",
      "    </inertial>\n",
      "    <visual>\n",
      "      <origin xyz=\"0.0 0.0 0.0\" rpy=\"0.0 0.0 0.0\"/>\n",
      "      <geometry>\n",
      "        <mesh filename=\"mesh/0.obj\"/>\n",
      "      </geometry>\n",
      "      <material name=\"#ff0000ff\">\n",
      "        <color rgba=\"1.0 0.0 0.0 1\"/>\n",
      "      </material>\n",
      "    </visual>\n",
      "    <collision>\n",
      "      <origin xyz=\"0.0 0.0 0.0\" rpy=\"0.0 0.0 0.0\"/>\n",
      "      <geometry>\n",
      "        <mesh filename=\"mesh/0.obj\"/>\n",
      "      </geometry>\n",
      "    </collision>\n",
      "  </link>\n",
      "  <link name=\"1\">\n",
      "    <inertial>\n",
      "      <origin xyz=\"0.0 0.0 0.0\" rpy=\"0.0 0.0 0.0\"/>\n",
      "      <mass value=\"0.07174383694960038\"/>\n",
      "      <inertia ixx=\"5.842334881129862e-05\" ixy=\"3.832305949120166e-10\" ixz=\"-1.0679624902709863e-10\" iyy=\"8.49635225015742e-05\" iyz=\"-3.864975289108254e-11\" izz=\"6.232784253068011e-05\"/>\n",
      "    </inertial>\n",
      "    <visual>\n",
      "      <origin xyz=\"0.0 0.0 0.0\" rpy=\"0.0 0.0 0.0\"/>\n",
      "      <geometry>\n",
      "        <mesh filename=\"mesh/1.obj\"/>\n",
      "      </geometry>\n",
      "      <material name=\"#008000ff\">\n",
      "        <color rgba=\"0.0 0.5 0.0 1\"/>\n",
      "      </material>\n",
      "    </visual>\n",
      "    <collision>\n",
      "      <origin xyz=\"0.0 0.0 0.0\" rpy=\"0.0 0.0 0.0\"/>\n",
      "      <geometry>\n",
      "        <mesh filename=\"mesh/1.obj\"/>\n",
      "      </geometry>\n",
      "    </collision>\n",
      "  </link>\n",
      "  <link name=\"2\">\n",
      "    <inertial>\n",
      "      <origin xyz=\"0.0 0.0 0.0\" rpy=\"0.0 0.0 0.0\"/>\n",
      "      <mass value=\"0.10679863001648698\"/>\n",
      "      <inertia ixx=\"0.0001954125803656169\" ixy=\"4.658681209898652e-22\" ixz=\"-5.518004738251721e-22\" iyy=\"0.00021465960540717225\" iyz=\"1.1166882975210138e-21\" izz=\"8.427527620837489e-05\"/>\n",
      "    </inertial>\n",
      "    <visual>\n",
      "      <origin xyz=\"0.0 0.0 0.0\" rpy=\"0.0 0.0 0.0\"/>\n",
      "      <geometry>\n",
      "        <mesh filename=\"mesh/2.obj\"/>\n",
      "      </geometry>\n",
      "      <material name=\"#ffffffff\">\n",
      "        <color rgba=\"1 1 1 1\"/>\n",
      "      </material>\n",
      "    </visual>\n",
      "    <collision>\n",
      "      <origin xyz=\"0.0 0.0 0.0\" rpy=\"0.0 0.0 0.0\"/>\n",
      "      <geometry>\n",
      "        <mesh filename=\"mesh/2.obj\"/>\n",
      "      </geometry>\n",
      "    </collision>\n",
      "  </link>\n",
      "  <link name=\"3\">\n",
      "    <inertial>\n",
      "      <origin xyz=\"0.0 0.0 0.0\" rpy=\"0.0 0.0 0.0\"/>\n",
      "      <mass value=\"0.07279808599447314\"/>\n",
      "      <inertia ixx=\"0.00010278355855422138\" ixy=\"3.8822343415822096e-23\" ixz=\"-9.012560357390278e-22\" iyy=\"0.00010226588228680653\" iyz=\"9.938519914450457e-21\" izz=\"4.419652786409882e-05\"/>\n",
      "    </inertial>\n",
      "    <visual>\n",
      "      <origin xyz=\"0.0 0.0 0.0\" rpy=\"0.0 0.0 0.0\"/>\n",
      "      <geometry>\n",
      "        <mesh filename=\"mesh/3.obj\"/>\n",
      "      </geometry>\n",
      "      <material name=\"#0000ffff\">\n",
      "        <color rgba=\"0.0 0.0 1.0 1\"/>\n",
      "      </material>\n",
      "    </visual>\n",
      "    <collision>\n",
      "      <origin xyz=\"0.0 0.0 0.0\" rpy=\"0.0 0.0 0.0\"/>\n",
      "      <geometry>\n",
      "        <mesh filename=\"mesh/3.obj\"/>\n",
      "      </geometry>\n",
      "    </collision>\n",
      "  </link>\n",
      "  <link name=\"4\">\n",
      "    <inertial>\n",
      "      <origin xyz=\"0.0 0.0 0.0\" rpy=\"0.0 0.0 0.0\"/>\n",
      "      <mass value=\"0.07174383694960038\"/>\n",
      "      <inertia ixx=\"5.842334881129862e-05\" ixy=\"3.832305949120166e-10\" ixz=\"-1.0679624902709863e-10\" iyy=\"8.49635225015742e-05\" iyz=\"-3.864975289108254e-11\" izz=\"6.232784253068011e-05\"/>\n",
      "    </inertial>\n",
      "    <visual>\n",
      "      <origin xyz=\"0.0 0.0 0.0\" rpy=\"0.0 0.0 0.0\"/>\n",
      "      <geometry>\n",
      "        <mesh filename=\"mesh/4.obj\"/>\n",
      "      </geometry>\n",
      "      <material name=\"#008000ff\">\n",
      "        <color rgba=\"0.0 0.5 0.0 1\"/>\n",
      "      </material>\n",
      "    </visual>\n",
      "    <collision>\n",
      "      <origin xyz=\"0.0 0.0 0.0\" rpy=\"0.0 0.0 0.0\"/>\n",
      "      <geometry>\n",
      "        <mesh filename=\"mesh/4.obj\"/>\n",
      "      </geometry>\n",
      "    </collision>\n",
      "  </link>\n",
      "  <link name=\"5\">\n",
      "    <inertial>\n",
      "      <origin xyz=\"0.0 0.0 0.0\" rpy=\"0.0 0.0 0.0\"/>\n",
      "      <mass value=\"0.10679863001648698\"/>\n",
      "      <inertia ixx=\"0.0001954125803656169\" ixy=\"4.658681209898652e-22\" ixz=\"-5.518004738251721e-22\" iyy=\"0.00021465960540717225\" iyz=\"1.1166882975210138e-21\" izz=\"8.427527620837489e-05\"/>\n",
      "    </inertial>\n",
      "    <visual>\n",
      "      <origin xyz=\"0.0 0.0 0.0\" rpy=\"0.0 0.0 0.0\"/>\n",
      "      <geometry>\n",
      "        <mesh filename=\"mesh/5.obj\"/>\n",
      "      </geometry>\n",
      "      <material name=\"#ffffffff\">\n",
      "        <color rgba=\"1 1 1 1\"/>\n",
      "      </material>\n",
      "    </visual>\n",
      "    <collision>\n",
      "      <origin xyz=\"0.0 0.0 0.0\" rpy=\"0.0 0.0 0.0\"/>\n",
      "      <geometry>\n",
      "        <mesh filename=\"mesh/5.obj\"/>\n",
      "      </geometry>\n",
      "    </collision>\n",
      "  </link>\n",
      "  <link name=\"6\">\n",
      "    <inertial>\n",
      "      <origin xyz=\"0.0 0.0 0.0\" rpy=\"0.0 0.0 0.0\"/>\n",
      "      <mass value=\"0.07279808599447314\"/>\n",
      "      <inertia ixx=\"0.00010278355855422138\" ixy=\"3.8822343415822096e-23\" ixz=\"-9.012560357390278e-22\" iyy=\"0.00010226588228680653\" iyz=\"9.938519914450457e-21\" izz=\"4.419652786409882e-05\"/>\n",
      "    </inertial>\n",
      "    <visual>\n",
      "      <origin xyz=\"0.0 0.0 0.0\" rpy=\"0.0 0.0 0.0\"/>\n",
      "      <geometry>\n",
      "        <mesh filename=\"mesh/6.obj\"/>\n",
      "      </geometry>\n",
      "      <material name=\"#0000ffff\">\n",
      "        <color rgba=\"0.0 0.0 1.0 1\"/>\n",
      "      </material>\n",
      "    </visual>\n",
      "    <collision>\n",
      "      <origin xyz=\"0.0 0.0 0.0\" rpy=\"0.0 0.0 0.0\"/>\n",
      "      <geometry>\n",
      "        <mesh filename=\"mesh/6.obj\"/>\n",
      "      </geometry>\n",
      "    </collision>\n",
      "  </link>\n",
      "  <link name=\"7\">\n",
      "    <inertial>\n",
      "      <origin xyz=\"0.0 0.0 0.0\" rpy=\"0.0 0.0 0.0\"/>\n",
      "      <mass value=\"0.07174383694960038\"/>\n",
      "      <inertia ixx=\"5.842334881129862e-05\" ixy=\"3.832305949120166e-10\" ixz=\"-1.0679624902709863e-10\" iyy=\"8.49635225015742e-05\" iyz=\"-3.864975289108254e-11\" izz=\"6.232784253068011e-05\"/>\n",
      "    </inertial>\n",
      "    <visual>\n",
      "      <origin xyz=\"0.0 0.0 0.0\" rpy=\"0.0 0.0 0.0\"/>\n",
      "      <geometry>\n",
      "        <mesh filename=\"mesh/7.obj\"/>\n",
      "      </geometry>\n",
      "      <material name=\"#008000ff\">\n",
      "        <color rgba=\"0.0 0.5 0.0 1\"/>\n",
      "      </material>\n",
      "    </visual>\n",
      "    <collision>\n",
      "      <origin xyz=\"0.0 0.0 0.0\" rpy=\"0.0 0.0 0.0\"/>\n",
      "      <geometry>\n",
      "        <mesh filename=\"mesh/7.obj\"/>\n",
      "      </geometry>\n",
      "    </collision>\n",
      "  </link>\n",
      "  <link name=\"8\">\n",
      "    <inertial>\n",
      "      <origin xyz=\"0.0 0.0 0.0\" rpy=\"0.0 0.0 0.0\"/>\n",
      "      <mass value=\"0.10679863001648698\"/>\n",
      "      <inertia ixx=\"0.0001954125803656169\" ixy=\"4.658681209898652e-22\" ixz=\"-5.518004738251721e-22\" iyy=\"0.00021465960540717225\" iyz=\"1.1166882975210138e-21\" izz=\"8.427527620837489e-05\"/>\n",
      "    </inertial>\n",
      "    <visual>\n",
      "      <origin xyz=\"0.0 0.0 0.0\" rpy=\"0.0 0.0 0.0\"/>\n",
      "      <geometry>\n",
      "        <mesh filename=\"mesh/8.obj\"/>\n",
      "      </geometry>\n",
      "      <material name=\"#ffffffff\">\n",
      "        <color rgba=\"1 1 1 1\"/>\n",
      "      </material>\n",
      "    </visual>\n",
      "    <collision>\n",
      "      <origin xyz=\"0.0 0.0 0.0\" rpy=\"0.0 0.0 0.0\"/>\n",
      "      <geometry>\n",
      "        <mesh filename=\"mesh/8.obj\"/>\n",
      "      </geometry>\n",
      "    </collision>\n",
      "  </link>\n",
      "  <link name=\"9\">\n",
      "    <inertial>\n",
      "      <origin xyz=\"0.0 0.0 0.0\" rpy=\"0.0 0.0 0.0\"/>\n",
      "      <mass value=\"0.09918068248396095\"/>\n",
      "      <inertia ixx=\"0.0002051532554826619\" ixy=\"7.3394039626751955e-09\" ixz=\"-2.938242684119568e-09\" iyy=\"0.00014149350498424373\" iyz=\"3.354192072435317e-05\" izz=\"0.00012316051506441154\"/>\n",
      "    </inertial>\n",
      "    <visual>\n",
      "      <origin xyz=\"0.0 0.0 0.0\" rpy=\"0.0 0.0 0.0\"/>\n",
      "      <geometry>\n",
      "        <mesh filename=\"mesh/9.obj\"/>\n",
      "      </geometry>\n",
      "      <material name=\"#0000ffff\">\n",
      "        <color rgba=\"0.0 0.0 1.0 1\"/>\n",
      "      </material>\n",
      "    </visual>\n",
      "    <collision>\n",
      "      <origin xyz=\"0.0 0.0 0.0\" rpy=\"0.0 0.0 0.0\"/>\n",
      "      <geometry>\n",
      "        <mesh filename=\"mesh/9.obj\"/>\n",
      "      </geometry>\n",
      "    </collision>\n",
      "  </link>\n",
      "  <link name=\"10\">\n",
      "    <inertial>\n",
      "      <origin xyz=\"0.0 0.0 0.0\" rpy=\"0.0 0.0 0.0\"/>\n",
      "      <mass value=\"0.07174383694960038\"/>\n",
      "      <inertia ixx=\"5.842334881129862e-05\" ixy=\"3.832305949120166e-10\" ixz=\"-1.0679624902709863e-10\" iyy=\"8.49635225015742e-05\" iyz=\"-3.864975289108254e-11\" izz=\"6.232784253068011e-05\"/>\n",
      "    </inertial>\n",
      "    <visual>\n",
      "      <origin xyz=\"0.0 0.0 0.0\" rpy=\"0.0 0.0 0.0\"/>\n",
      "      <geometry>\n",
      "        <mesh filename=\"mesh/10.obj\"/>\n",
      "      </geometry>\n",
      "      <material name=\"#008000ff\">\n",
      "        <color rgba=\"0.0 0.5 0.0 1\"/>\n",
      "      </material>\n",
      "    </visual>\n",
      "    <collision>\n",
      "      <origin xyz=\"0.0 0.0 0.0\" rpy=\"0.0 0.0 0.0\"/>\n",
      "      <geometry>\n",
      "        <mesh filename=\"mesh/10.obj\"/>\n",
      "      </geometry>\n",
      "    </collision>\n",
      "  </link>\n",
      "  <link name=\"11\">\n",
      "    <inertial>\n",
      "      <origin xyz=\"0.0 0.0 0.0\" rpy=\"0.0 0.0 0.0\"/>\n",
      "      <mass value=\"0.10679863001648698\"/>\n",
      "      <inertia ixx=\"0.0001954125803656169\" ixy=\"4.658681209898652e-22\" ixz=\"-5.518004738251721e-22\" iyy=\"0.00021465960540717225\" iyz=\"1.1166882975210138e-21\" izz=\"8.427527620837489e-05\"/>\n",
      "    </inertial>\n",
      "    <visual>\n",
      "      <origin xyz=\"0.0 0.0 0.0\" rpy=\"0.0 0.0 0.0\"/>\n",
      "      <geometry>\n",
      "        <mesh filename=\"mesh/11.obj\"/>\n",
      "      </geometry>\n",
      "      <material name=\"#ffffffff\">\n",
      "        <color rgba=\"1 1 1 1\"/>\n",
      "      </material>\n",
      "    </visual>\n",
      "    <collision>\n",
      "      <origin xyz=\"0.0 0.0 0.0\" rpy=\"0.0 0.0 0.0\"/>\n",
      "      <geometry>\n",
      "        <mesh filename=\"mesh/11.obj\"/>\n",
      "      </geometry>\n",
      "    </collision>\n",
      "  </link>\n",
      "  <link name=\"12\">\n",
      "    <inertial>\n",
      "      <origin xyz=\"0.0 0.0 0.0\" rpy=\"0.0 0.0 0.0\"/>\n",
      "      <mass value=\"0.09918068248396092\"/>\n",
      "      <inertia ixx=\"0.000205153255482661\" ixy=\"7.339403962663749e-09\" ixz=\"2.9382426841077937e-09\" iyy=\"0.00014149350498424287\" iyz=\"-3.3541920724353106e-05\" izz=\"0.0001231605150644115\"/>\n",
      "    </inertial>\n",
      "    <visual>\n",
      "      <origin xyz=\"0.0 0.0 0.0\" rpy=\"0.0 0.0 0.0\"/>\n",
      "      <geometry>\n",
      "        <mesh filename=\"mesh/12.obj\"/>\n",
      "      </geometry>\n",
      "      <material name=\"#0000ffff\">\n",
      "        <color rgba=\"0.0 0.0 1.0 1\"/>\n",
      "      </material>\n",
      "    </visual>\n",
      "    <collision>\n",
      "      <origin xyz=\"0.0 0.0 0.0\" rpy=\"0.0 0.0 0.0\"/>\n",
      "      <geometry>\n",
      "        <mesh filename=\"mesh/12.obj\"/>\n",
      "      </geometry>\n",
      "    </collision>\n",
      "  </link>\n",
      "  <joint name=\"0,1\" type=\"revolute\">\n",
      "    <origin xyz=\"0.07 0.10200000000000001 0.0\" rpy=\"1.5707963267948966 0.0 1.5707963267948966\"/>\n",
      "    <parent link=\"0\"/>\n",
      "    <child link=\"1\"/>\n",
      "    <axis xyz=\"1.0 0.0 0.0\"/>\n",
      "    <limit effort=\"11\" velocity=\"51\"/>\n",
      "  </joint>\n",
      "  <joint name=\"1,2\" type=\"revolute\">\n",
      "    <origin xyz=\"0.07100000000000001 0.0 0.0\" rpy=\"1.5707963267948966 0.0 -1.5707963267948966\"/>\n",
      "    <parent link=\"1\"/>\n",
      "    <child link=\"2\"/>\n",
      "    <axis xyz=\"1.0 0.0 0.0\"/>\n",
      "    <limit effort=\"11\" velocity=\"51\"/>\n",
      "  </joint>\n",
      "  <joint name=\"2,3\" type=\"revolute\">\n",
      "    <origin xyz=\"0.0 0.0 -0.14300000000000002\" rpy=\"0.0 0.0 -1.5707963267948963\"/>\n",
      "    <parent link=\"2\"/>\n",
      "    <child link=\"3\"/>\n",
      "    <axis xyz=\"1.0 0.0 0.0\"/>\n",
      "    <limit effort=\"11\" velocity=\"51\"/>\n",
      "  </joint>\n",
      "  <joint name=\"0,4\" type=\"revolute\">\n",
      "    <origin xyz=\"0.07 -0.10200000000000001 0.0\" rpy=\"-1.5707963267948966 0.0 -1.5707963267948966\"/>\n",
      "    <parent link=\"0\"/>\n",
      "    <child link=\"4\"/>\n",
      "    <axis xyz=\"1.0 0.0 0.0\"/>\n",
      "    <limit effort=\"11\" velocity=\"51\"/>\n",
      "  </joint>\n",
      "  <joint name=\"4,5\" type=\"revolute\">\n",
      "    <origin xyz=\"0.07100000000000001 0.0 0.0\" rpy=\"-1.5707963267948966 0.0 1.5707963267948966\"/>\n",
      "    <parent link=\"4\"/>\n",
      "    <child link=\"5\"/>\n",
      "    <axis xyz=\"1.0 0.0 0.0\"/>\n",
      "    <limit effort=\"11\" velocity=\"51\"/>\n",
      "  </joint>\n",
      "  <joint name=\"5,6\" type=\"revolute\">\n",
      "    <origin xyz=\"0.0 0.0 -0.14300000000000002\" rpy=\"0.0 0.0 1.5707963267948963\"/>\n",
      "    <parent link=\"5\"/>\n",
      "    <child link=\"6\"/>\n",
      "    <axis xyz=\"1.0 0.0 0.0\"/>\n",
      "    <limit effort=\"11\" velocity=\"51\"/>\n",
      "  </joint>\n",
      "  <joint name=\"0,7\" type=\"revolute\">\n",
      "    <origin xyz=\"-0.17500000000000002 0.025 0.0\" rpy=\"1.5707963267948966 0.0 1.5707963267948966\"/>\n",
      "    <parent link=\"0\"/>\n",
      "    <child link=\"7\"/>\n",
      "    <axis xyz=\"1.0 0.0 0.0\"/>\n",
      "    <limit effort=\"11\" velocity=\"51\"/>\n",
      "  </joint>\n",
      "  <joint name=\"7,8\" type=\"revolute\">\n",
      "    <origin xyz=\"0.07100000000000001 0.0 0.0\" rpy=\"1.5707963267948966 0.0 -1.5707963267948966\"/>\n",
      "    <parent link=\"7\"/>\n",
      "    <child link=\"8\"/>\n",
      "    <axis xyz=\"1.0 0.0 0.0\"/>\n",
      "    <limit effort=\"11\" velocity=\"51\"/>\n",
      "  </joint>\n",
      "  <joint name=\"8,9\" type=\"revolute\">\n",
      "    <origin xyz=\"0.0 0.0 -0.14300000000000002\" rpy=\"0.0 0.0 -1.5707963267948963\"/>\n",
      "    <parent link=\"8\"/>\n",
      "    <child link=\"9\"/>\n",
      "    <axis xyz=\"1.0 0.0 0.0\"/>\n",
      "    <limit effort=\"11\" velocity=\"51\"/>\n",
      "  </joint>\n",
      "  <joint name=\"0,10\" type=\"revolute\">\n",
      "    <origin xyz=\"-0.17500000000000002 -0.025 0.0\" rpy=\"-1.5707963267948966 0.0 -1.5707963267948966\"/>\n",
      "    <parent link=\"0\"/>\n",
      "    <child link=\"10\"/>\n",
      "    <axis xyz=\"1.0 0.0 0.0\"/>\n",
      "    <limit effort=\"11\" velocity=\"51\"/>\n",
      "  </joint>\n",
      "  <joint name=\"10,11\" type=\"revolute\">\n",
      "    <origin xyz=\"0.07100000000000001 0.0 0.0\" rpy=\"-1.5707963267948966 0.0 1.5707963267948966\"/>\n",
      "    <parent link=\"10\"/>\n",
      "    <child link=\"11\"/>\n",
      "    <axis xyz=\"1.0 0.0 0.0\"/>\n",
      "    <limit effort=\"11\" velocity=\"51\"/>\n",
      "  </joint>\n",
      "  <joint name=\"11,12\" type=\"revolute\">\n",
      "    <origin xyz=\"0.0 0.0 -0.14300000000000002\" rpy=\"0.0 0.0 1.5707963267948963\"/>\n",
      "    <parent link=\"11\"/>\n",
      "    <child link=\"12\"/>\n",
      "    <axis xyz=\"1.0 0.0 0.0\"/>\n",
      "    <limit effort=\"11\" velocity=\"51\"/>\n",
      "  </joint>\n",
      "</robot>\n",
      "\n"
     ]
    },
    {
     "data": {
      "text/plain": [
       "<lxml.etree._ElementTree at 0x1d5a433e8c0>"
      ]
     },
     "execution_count": 16,
     "metadata": {},
     "output_type": "execute_result"
    }
   ],
   "source": [
    "urdf_path = \"../../data/urdf/test/robot.urdf\"\n",
    "graph.exportURDF(path= urdf_path,use_fine_mesh=True)"
   ]
  },
  {
   "cell_type": "markdown",
   "metadata": {},
   "source": [
    "# VHCAD"
   ]
  },
  {
   "cell_type": "code",
   "execution_count": 8,
   "metadata": {
    "ExecuteTime": {
     "end_time": "2021-04-13T09:19:25.831968Z",
     "start_time": "2021-04-13T09:19:25.813964Z"
    }
   },
   "outputs": [],
   "source": [
    "import glob\n",
    "import pybullet as p\n",
    "import os\n",
    "from joblib import Parallel, delayed\n",
    "\n",
    "def vhacd(name_in,name_out):\n",
    "    physicsClientId = p.connect(p.DIRECT)\n",
    "    p.vhacd(name_in, name_out, \"\", concavity=0.00005, resolution=16000000, \n",
    "        maxNumVerticesPerCH=256, depth=32,planeDownsampling=4,convexhullDownsampling=4,\n",
    "            minVolumePerCH =0.00001,\n",
    "           physicsClientId = physicsClientId)\n",
    "    p.disconnect(physicsClientId)\n",
    "    \n",
    "urdf_dir = \"../../data/urdf/test\"\n",
    "mesh_dir = f\"{urdf_dir}/mesh\"\n",
    "mesh_original_dir = f\"{urdf_dir}/mesh/original\"\n",
    "\n",
    "if not os.path.exists(mesh_original_dir):\n",
    "    print(\"moving original mesh to 'mesh/original/'\")\n",
    "    os.mkdir(mesh_original_dir)\n",
    "    import shutil\n",
    "    for obj_file in glob.glob(f\"{mesh_dir}/*.obj\"):\n",
    "        base_name = os.path.basename(obj_file)\n",
    "        shutil.move(obj_file,f\"{mesh_original_dir}/{base_name}\")\n",
    "original_obj_list = glob.glob(f\"{mesh_original_dir}/*.obj\")\n",
    "converted_obj_list = [f\"{mesh_dir}/{os.path.basename(obj)}\" for obj in original_obj_list]"
   ]
  },
  {
   "cell_type": "code",
   "execution_count": 9,
   "metadata": {
    "ExecuteTime": {
     "end_time": "2021-04-13T09:21:03.827214Z",
     "start_time": "2021-04-13T09:19:29.542728Z"
    }
   },
   "outputs": [
    {
     "name": "stderr",
     "output_type": "stream",
     "text": [
      "[Parallel(n_jobs=13)]: Using backend LokyBackend with 13 concurrent workers.\n",
      "[Parallel(n_jobs=13)]: Done   2 out of  13 | elapsed:    5.7s remaining:   31.7s\n",
      "[Parallel(n_jobs=13)]: Done  13 out of  13 | elapsed:  1.6min finished\n"
     ]
    }
   ],
   "source": [
    "n_jobs = int(min(os.cpu_count()*0.8,len(original_obj_list)))\n",
    "_=Parallel(n_jobs = n_jobs,verbose=1)(\n",
    "    delayed(vhacd)(n_in,n_out) for n_in,n_out in zip(original_obj_list,converted_obj_list))"
   ]
  },
  {
   "cell_type": "code",
   "execution_count": 6,
   "metadata": {
    "ExecuteTime": {
     "end_time": "2021-04-13T09:18:35.333632Z",
     "start_time": "2021-04-13T09:18:32.606015Z"
    }
   },
   "outputs": [],
   "source": [
    "# k = 1\n",
    "# name_in = original_obj_list[k]\n",
    "# name_out = converted_obj_list[k]\n",
    "# vhacd(name_in,name_out)\n",
    "\n",
    "# # check the file\n",
    "# name_out = os.path.abspath(name_out)\n",
    "# ! $name_out"
   ]
  },
  {
   "cell_type": "markdown",
   "metadata": {},
   "source": [
    "# check pybullet"
   ]
  },
  {
   "cell_type": "code",
   "execution_count": 10,
   "metadata": {
    "ExecuteTime": {
     "end_time": "2021-04-13T09:23:23.165857Z",
     "start_time": "2021-04-13T09:22:29.167672Z"
    }
   },
   "outputs": [],
   "source": [
    "import numpy as np\n",
    "import pybullet as p\n",
    "import time\n",
    "import pybullet_data\n",
    "from scipy.spatial.transform import Rotation\n",
    "\n",
    "##########################################\n",
    "urdf_path = \"../../data/urdf/test/robot.urdf\"\n",
    "####################################################\n",
    "\n",
    "gui = p.connect(p.GUI)\n",
    "p.setAdditionalSearchPath(pybullet_data.getDataPath())\n",
    "p.resetSimulation(physicsClientId=gui)\n",
    "p.setGravity(0, 0, -10)\n",
    "# robot_id = p.loadURDF(urdf_path, [0, 0, 0.5], physicsClientId=gui,useFixedBase=1,flags = p.URDF_USE_SELF_COLLISION)\n",
    "robot_id = p.loadURDF(urdf_path, [0, 0, 0.5], physicsClientId=gui,useFixedBase=1,flags = p.URDF_USE_SELF_COLLISION)\n",
    "\n",
    "plane = p.loadURDF(\"plane.urdf\")\n",
    "\n",
    "quat = Rotation.from_euler('xyz',[0,-np.pi/2,0]).as_quat()\n",
    "p.resetBasePositionAndOrientation(robot_id, [0, 0, 0.5], quat)\n",
    "\n",
    "# # ##################################################\n",
    "while (p.getConnectionInfo(physicsClientId=gui)[\"isConnected\"]):\n",
    "    #p.setJointMotorControlArray(robot_id,np.arange(p.getNumJoints(robot_id)),p.POSITION_CONTROL,joint_pos)\n",
    "    p.stepSimulation(physicsClientId=gui)\n",
    "    #time.sleep(0.01)\n",
    "    \n",
    "# p.disconnect()"
   ]
  },
  {
   "cell_type": "code",
   "execution_count": 11,
   "metadata": {
    "ExecuteTime": {
     "end_time": "2021-04-13T09:23:28.520513Z",
     "start_time": "2021-04-13T09:23:28.502296Z"
    }
   },
   "outputs": [],
   "source": [
    "joint_pos = np.array([\n",
    "    # front left\n",
    "    0,               # 0\n",
    "    -np.pi/2,        # 1\n",
    "    0,               # 2\n",
    "    # front right\n",
    "    0,               # 3 \n",
    "    np.pi/2,         # 4  \n",
    "    0,               # 5\n",
    "    # back left\n",
    "    0,               # 6     \n",
    "    -np.pi/2,        # 7   \n",
    "    0,               # 8\n",
    "    # back right\n",
    "    0,               # 9        \n",
    "    np.pi/2,         # 10 \n",
    "    0                # 11   \n",
    "]) \n",
    "dof = len(joint_pos)\n",
    "for k in range(dof):\n",
    "    p.resetJointState(robot_id, k, targetValue=joint_pos[k])\n",
    "    \n",
    "quat = Rotation.from_euler('xyz',[0,-np.pi/2,0]).as_quat()\n",
    "p.resetBasePositionAndOrientation(robot_id, [0, 0, 0.5], quat)\n",
    "\n",
    "p.setJointMotorControlArray(robot_id, list(range(dof)), controlMode= p.POSITION_CONTROL,\n",
    "                                    targetPositions=joint_pos)\n",
    "# for k in range(1000):\n",
    "#     p.stepSimulation(physicsClientId=gui)\n",
    "    \n",
    "# # ##################################################\n",
    "while (p.getConnectionInfo(physicsClientId=gui)[\"isConnected\"]):\n",
    "    #p.setJointMotorControlArray(robot_id,np.arange(p.getNumJoints(robot_id)),p.POSITION_CONTROL,joint_pos)\n",
    "    p.stepSimulation(physicsClientId=gui)\n",
    "    #time.sleep(0.01)\n",
    "\n",
    "# p.disconnect()"
   ]
  },
  {
   "cell_type": "code",
   "execution_count": 41,
   "metadata": {
    "ExecuteTime": {
     "end_time": "2021-04-11T14:22:57.729977Z",
     "start_time": "2021-04-11T14:22:57.715975Z"
    }
   },
   "outputs": [],
   "source": [
    "p.disconnect()"
   ]
  }
 ],
 "metadata": {
  "kernelspec": {
   "name": "python386jvsc74a57bd01ec07ea646e8e16b39fb0296d971d0998aba855e1b1763024d7be61ed31aedca",
   "display_name": "Python 3.8.6 64-bit ('flexipod': conda)"
  },
  "language_info": {
   "codemirror_mode": {
    "name": "ipython",
    "version": 3
   },
   "file_extension": ".py",
   "mimetype": "text/x-python",
   "name": "python",
   "nbconvert_exporter": "python",
   "pygments_lexer": "ipython3",
   "version": "3.8.6"
  }
 },
 "nbformat": 4,
 "nbformat_minor": 2
}