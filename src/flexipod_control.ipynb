{
 "cells": [
  {
   "cell_type": "code",
   "execution_count": 1,
   "metadata": {
    "ExecuteTime": {
     "end_time": "2020-07-15T14:31:47.455906Z",
     "start_time": "2020-07-15T14:31:46.300655Z"
    }
   },
   "outputs": [],
   "source": [
    "import msgpack\n",
    "import open3d as o3d\n",
    "# import trimesh\n",
    "from IPython.display import display, Math\n",
    "import numpy as np\n",
    "import matplotlib.pyplot as plt\n",
    "import time\n",
    "import threading\n",
    "plt.style.use('seaborn-whitegrid')\n",
    "%config InlineBackend.figure_format = 'retina'"
   ]
  },
  {
   "cell_type": "code",
   "execution_count": 2,
   "metadata": {
    "ExecuteTime": {
     "end_time": "2020-07-15T14:31:47.461908Z",
     "start_time": "2020-07-15T14:31:47.456905Z"
    }
   },
   "outputs": [],
   "source": [
    "# https://adaickalavan.github.io/programming/udp-socket-programming-in-cpp-and-python/\n",
    "# Python UDP Receiver\n",
    "\n",
    "import socket\n",
    "BUFFER_LEN = 200 #in bytes\n",
    "\n",
    "def initUDP(IP, port):\n",
    "    #Create a datagram socket\n",
    "    sock = socket.socket(socket.AF_INET, # Internet\n",
    "                         socket.SOCK_DGRAM) # UDP\n",
    "    #Enable immediate reuse of IP address\n",
    "    sock.setsockopt(socket.SOL_SOCKET,socket.SO_REUSEADDR,1)\n",
    "    #Bind the socket to the port\n",
    "    sock.bind((IP, port))\n",
    "    #Set a timeout so the socket does not block indefinitely when trying to receive data\n",
    "    sock.settimeout(1.5)\n",
    "\n",
    "    return sock\n",
    "\n",
    "def readUDP(sock):\n",
    "    data, addr = sock.recvfrom(BUFFER_LEN)\n",
    "    return data"
   ]
  },
  {
   "cell_type": "code",
   "execution_count": 3,
   "metadata": {
    "ExecuteTime": {
     "end_time": "2020-07-15T14:31:48.184114Z",
     "start_time": "2020-07-15T14:31:48.182113Z"
    }
   },
   "outputs": [],
   "source": [
    "ip_remote = \"127.0.0.1\"\n",
    "port_local = 32000\n",
    "port_remote = 32001\n",
    "remote_address = (ip_remote,port_remote)"
   ]
  },
  {
   "cell_type": "code",
   "execution_count": 4,
   "metadata": {
    "ExecuteTime": {
     "end_time": "2020-07-15T09:43:47.318916Z",
     "start_time": "2020-07-15T09:43:45.810016Z"
    }
   },
   "outputs": [
    {
     "name": "stdout",
     "output_type": "stream",
     "text": [
      "rec_socket timed out!\n"
     ]
    }
   ],
   "source": [
    "rec_sock = initUDP(ip_remote, port_local) # socket that receives udp packet\n",
    "try:\n",
    "    data_receive = readUDP(rec_sock)\n",
    "#     print(data_receive)\n",
    "    data_receive_unpacked = msgpack.unpackb(data_receive)\n",
    "    print(data_receive_unpacked)\n",
    "except socket.timeout:\n",
    "    print(\"rec_socket timed out!\")\n",
    "rec_sock.shutdown(socket.SHUT_RDWR) # shutdown the connection\n",
    "rec_sock.close()# close the connection"
   ]
  },
  {
   "cell_type": "code",
   "execution_count": 5,
   "metadata": {
    "ExecuteTime": {
     "end_time": "2020-07-15T09:43:47.328071Z",
     "start_time": "2020-07-15T09:43:47.321916Z"
    }
   },
   "outputs": [],
   "source": [
    "\n",
    "\n",
    "sen_sock = initUDP(ip_remote, port_local) # socket that send udp packet\n",
    "\n",
    "data_send = [12,time.time(),[0,0,1,2]]\n",
    "data_send_packed = msgpack.packb(data_send)\n",
    "\n",
    "sen_sock.sendto(data_send_packed,remote_address)\n",
    "\n",
    "sen_sock.shutdown(socket.SHUT_RDWR) # shutdown the connection\n",
    "sen_sock.close()# close the connection\n",
    "    \n"
   ]
  },
  {
   "cell_type": "code",
   "execution_count": 6,
   "metadata": {
    "ExecuteTime": {
     "end_time": "2020-07-15T09:43:47.963065Z",
     "start_time": "2020-07-15T09:43:47.959064Z"
    }
   },
   "outputs": [
    {
     "data": {
      "text/plain": [
       "16"
      ]
     },
     "execution_count": 6,
     "metadata": {},
     "output_type": "execute_result"
    }
   ],
   "source": [
    "len(data_send_packed)"
   ]
  },
  {
   "cell_type": "code",
   "execution_count": 7,
   "metadata": {
    "ExecuteTime": {
     "end_time": "2020-07-15T09:43:48.641268Z",
     "start_time": "2020-07-15T09:43:48.637266Z"
    }
   },
   "outputs": [
    {
     "data": {
      "text/plain": [
       "1594806228.6372666"
      ]
     },
     "execution_count": 7,
     "metadata": {},
     "output_type": "execute_result"
    }
   ],
   "source": [
    "time.time()"
   ]
  },
  {
   "cell_type": "code",
   "execution_count": 4,
   "metadata": {
    "ExecuteTime": {
     "end_time": "2020-07-15T14:31:52.143219Z",
     "start_time": "2020-07-15T14:31:51.538072Z"
    }
   },
   "outputs": [],
   "source": [
    "from scipy.spatial.transform import Rotation as R\n",
    "def RotateFromVec(vec, angle):\n",
    "    vec = np.asarray(vec, dtype=np.float64)\n",
    "    vec_norm = np.linalg.norm(vec)\n",
    "    if vec_norm != 1:\n",
    "        vec = vec/vec_norm\n",
    "    vec *= angle\n",
    "    h = np.eye(4)\n",
    "    h[:3, :3] = R.from_rotvec(vec).as_dcm()\n",
    "    return h       \n",
    "\n",
    "# https://www.euclideanspace.com/maths/geometry/rotations/conversions/matrixToQuaternion/\n",
    "def RotMatrixToQuarternion(m):\n",
    "    \"\"\"\n",
    "    m is a 3x3 rotation matrix or 4x4 homogenious transformation matrix\n",
    "    \"\"\"\n",
    "    w = np.sqrt(1+m[0,0]+m[1,1]+m[2,2])/2.0\n",
    "    w4 = 4*w\n",
    "    x = (m[2,1]-m[1,2])/w4\n",
    "    y = (m[0,2]-m[2,0])/w4\n",
    "    z = (m[1,0]-m[0,1])/w4\n",
    "    return np.array([w,x,y,z])\n",
    "\n",
    "# https://www.euclideanspace.com/maths/geometry/rotations/conversions/quaternionToAngle/index.htm\n",
    "def QuarternionToAxisAngle(q):\n",
    "    if(q[0]>1):\n",
    "        q = q/np.linalg.norm(q)\n",
    "    angle = 2.0 * np.arccos(q[0])\n",
    "    s = np.sqrt(1-q[0]**2)\n",
    "    if(s<1e-8):\n",
    "        return q[1:],angle\n",
    "    else:\n",
    "        return q[1:]/s,angle"
   ]
  },
  {
   "cell_type": "code",
   "execution_count": 5,
   "metadata": {
    "ExecuteTime": {
     "end_time": "2020-07-15T14:31:52.760354Z",
     "start_time": "2020-07-15T14:31:52.745341Z"
    }
   },
   "outputs": [
    {
     "name": "stderr",
     "output_type": "stream",
     "text": [
      "C:\\Users\\boxi\\.conda\\envs\\conda_env\\lib\\site-packages\\ipykernel_launcher.py:9: DeprecationWarning: `as_dcm` is deprecated!\n",
      "as_dcm is renamed to as_matrix in scipy 1.4.0 and will be removed in scipy 1.6.0\n",
      "  if __name__ == '__main__':\n"
     ]
    },
    {
     "data": {
      "text/plain": [
       "(array([0.        , 0.70710678, 0.70710678]), 1.5707963267948966)"
      ]
     },
     "execution_count": 5,
     "metadata": {},
     "output_type": "execute_result"
    }
   ],
   "source": [
    "m = RotateFromVec([0,1,1],np.pi/2.)\n",
    "q = RotMatrixToQuarternion(m)\n",
    "QuarternionToAxisAngle(q)"
   ]
  },
  {
   "cell_type": "code",
   "execution_count": 6,
   "metadata": {
    "ExecuteTime": {
     "end_time": "2020-07-15T14:31:54.056496Z",
     "start_time": "2020-07-15T14:31:54.052716Z"
    }
   },
   "outputs": [],
   "source": [
    "import ipywidgets.widgets as widgets\n",
    "import ipywidgets\n",
    "from IPython.display import display"
   ]
  },
  {
   "cell_type": "code",
   "execution_count": 7,
   "metadata": {
    "ExecuteTime": {
     "end_time": "2020-07-15T14:31:54.348853Z",
     "start_time": "2020-07-15T14:31:54.345862Z"
    }
   },
   "outputs": [],
   "source": [
    "w_max = 300"
   ]
  },
  {
   "cell_type": "code",
   "execution_count": 8,
   "metadata": {
    "ExecuteTime": {
     "end_time": "2020-07-15T14:31:55.518211Z",
     "start_time": "2020-07-15T14:31:55.448155Z"
    }
   },
   "outputs": [],
   "source": [
    "flag_start = True\n",
    "flag_reset = False\n",
    "\n",
    "# stop button\n",
    "button_stop = widgets.Button(\n",
    "    description='stop',\n",
    "    icon='stop',\n",
    "    button_style='warning')\n",
    "\n",
    "def OnClickButtonStop(b):\n",
    "    global flag_start\n",
    "    flag_start=False\n",
    "button_stop.on_click(OnClickButtonStop)  \n",
    "\n",
    "# reset button\n",
    "button_reset = widgets.Button(\n",
    "    description='reset',\n",
    "    icon='refresh',\n",
    "    button_style='info')\n",
    "\n",
    "def OnClickButtonReset(b):\n",
    "    global flag_reset\n",
    "    global w0_widget\n",
    "    global w1_widget\n",
    "    global w2_widget\n",
    "    global w3_widget\n",
    "    \n",
    "    flag_start=True\n",
    "    w0_widget.value=0\n",
    "    w1_widget.value=0\n",
    "    w2_widget.value=0\n",
    "    w3_widget.value=0\n",
    "\n",
    "    \n",
    "    \n",
    "button_reset.on_click(OnClickButtonReset) \n",
    "\n",
    "w0_widget = widgets.FloatSlider(min=-w_max, max=w_max, step=1, value=0,\n",
    "                                   continuous_update=True, description=\"front left\")\n",
    "w1_widget = widgets.FloatSlider(min=-w_max, max=w_max, step=1, value=0,\n",
    "                                   continuous_update=True, description=\"back left\")\n",
    "w2_widget = widgets.FloatSlider(min=-w_max, max=w_max, step=1, value=0,\n",
    "                                   continuous_update=True, description=\"front right\")\n",
    "w3_widget = widgets.FloatSlider(min=-w_max, max=w_max, step=1, value=0,\n",
    "                                   continuous_update=True, description=\"back right\")\n",
    "caption_list = [\n",
    "    widgets.Label(value='[Joint Angle]'),\n",
    "    widgets.Label(value='[Orientation]'),\n",
    "    widgets.Label(value='[Accelerration]'),\n",
    "    widgets.Label(value='[Position]'),\n",
    "]\n",
    "                \n",
    "\n",
    "ui = widgets.VBox([w0_widget, w1_widget, w2_widget, w3_widget]+caption_list)\n",
    "\n",
    "packer = msgpack.Packer(use_single_float=False,use_bin_type =True)\n",
    "\n",
    "def f(w0, w1, w2, w3):    \n",
    "    t_now = time.time()\n",
    "    data_send = (2,t_now,(w0, w1, w2, w3))\n",
    "#     data_send_packed = msgpack.packb(data_send)\n",
    "    data_send_packed = packer.pack(data_send) # https://msgpack-python.readthedocs.io/en/latest/api.html#msgpack.Packer\n",
    "#     display(data_send_packed)\n",
    "    sen_sock = initUDP(ip_remote, port_local) # socket that send udp packet\n",
    "    sen_sock.sendto(data_send_packed,remote_address)\n",
    "    \n",
    "#     display((f\"{time.time():3.3f}\", (w0, w1, w2, w3)))\n",
    "    \n",
    "    sen_sock.shutdown(socket.SHUT_RDWR) # shutdown the connection\n",
    "    sen_sock.close()# close the connection\n",
    "    \n",
    "out = widgets.interactive_output(f, {\n",
    "    'w0': w0_widget,\n",
    "    'w1': w1_widget,\n",
    "    'w2': w2_widget,\n",
    "    'w3': w3_widget\n",
    "})\n",
    "# out.layout.height = '350px'\n",
    "# out.layout.width = '350px'\n",
    "\n",
    "buttons_ui = widgets.HBox((button_stop,button_reset))\n",
    "\n",
    "app = widgets.VBox(\n",
    "    children = (ui, out,buttons_ui))\n",
    "\n",
    "# display(app)"
   ]
  },
  {
   "cell_type": "code",
   "execution_count": 12,
   "metadata": {
    "ExecuteTime": {
     "end_time": "2020-07-15T14:41:51.975352Z",
     "start_time": "2020-07-15T14:41:51.970359Z"
    }
   },
   "outputs": [],
   "source": [
    "def AppControl():\n",
    "    global flag_start\n",
    "    flag_start=True\n",
    "    \n",
    "    while flag_start:\n",
    "        try:\n",
    "            rec_sock = initUDP(ip_remote, port_local) # socket that receives udp packet\n",
    "            data_receive = readUDP(rec_sock)\n",
    "            \n",
    "            rec_sock.shutdown(socket.SHUT_RDWR) # shutdown the connection\n",
    "            rec_sock.close()# close the connection\n",
    "        #     print(data_receive)\n",
    "            data_receive_unpacked = msgpack.unpackb(data_receive)\n",
    "            # data checking the header should be a certain number(TODO)\n",
    "            if data_receive_unpacked[0]:\n",
    "                #caption_list.value=f\"{data_receive_unpacked}\"\n",
    "                for k,caption in enumerate(caption_list):\n",
    "                    caption.value = \" \".join(f\"{x:<+10.3f}\" for x in data_receive_unpacked[2+k])\n",
    "        except socket.timeout:\n",
    "            print(\"rec_socket timed out!\\r\")\n",
    "\n"
   ]
  },
  {
   "cell_type": "code",
   "execution_count": 18,
   "metadata": {
    "ExecuteTime": {
     "end_time": "2020-07-16T06:59:25.748571Z",
     "start_time": "2020-07-16T06:59:25.738578Z"
    }
   },
   "outputs": [
    {
     "data": {
      "application/vnd.jupyter.widget-view+json": {
       "model_id": "4ce71cc848a043afb175e98b49e1f72f",
       "version_major": 2,
       "version_minor": 0
      },
      "text/plain": [
       "VBox(children=(VBox(children=(FloatSlider(value=0.0, description='front left', max=300.0, min=-300.0, step=1.0…"
      ]
     },
     "metadata": {},
     "output_type": "display_data"
    }
   ],
   "source": [
    "control_thread = threading.Thread(target=AppControl)\n",
    "display(app)\n",
    "control_thread.start()"
   ]
  },
  {
   "cell_type": "code",
   "execution_count": 43,
   "metadata": {
    "ExecuteTime": {
     "end_time": "2020-07-14T06:51:09.682595Z",
     "start_time": "2020-07-14T06:51:09.669591Z"
    }
   },
   "outputs": [
    {
     "data": {
      "application/vnd.jupyter.widget-view+json": {
       "model_id": "1624a7db69fb4fb3b1fcd02eac0814af",
       "version_major": 2,
       "version_minor": 0
      },
      "text/plain": [
       "Button(description='Click Me!', style=ButtonStyle())"
      ]
     },
     "metadata": {},
     "output_type": "display_data"
    },
    {
     "data": {
      "application/vnd.jupyter.widget-view+json": {
       "model_id": "45a23d14098d4ddd994d29cbb725460c",
       "version_major": 2,
       "version_minor": 0
      },
      "text/plain": [
       "Output()"
      ]
     },
     "metadata": {},
     "output_type": "display_data"
    },
    {
     "name": "stdout",
     "output_type": "stream",
     "text": [
      "Button clicked.\n",
      "Button clicked.\n",
      "Button clicked.\n",
      "Button clicked.\n"
     ]
    }
   ],
   "source": [
    "\n",
    "button = widgets.Button(description=\"Click Me!\")\n",
    "output = widgets.Output()\n",
    "\n",
    "display(button, output)\n",
    "\n",
    "def on_button_clicked(b):\n",
    "    with output:\n",
    "        print(\"started\")\n",
    "\n",
    "button.on_click(on_button_clicked)"
   ]
  },
  {
   "cell_type": "code",
   "execution_count": null,
   "metadata": {},
   "outputs": [],
   "source": [
    "started = True"
   ]
  },
  {
   "cell_type": "code",
   "execution_count": 47,
   "metadata": {
    "ExecuteTime": {
     "end_time": "2020-07-14T08:42:16.002258Z",
     "start_time": "2020-07-14T08:42:15.991264Z"
    }
   },
   "outputs": [
    {
     "data": {
      "application/vnd.jupyter.widget-view+json": {
       "model_id": "e7f1678150df447e9a8483a0d83013f4",
       "version_major": 2,
       "version_minor": 0
      },
      "text/plain": [
       "Button(button_style='warning', description='stop', icon='stop', style=ButtonStyle())"
      ]
     },
     "metadata": {},
     "output_type": "display_data"
    }
   ],
   "source": [
    "\n",
    "# # start button\n",
    "# button_start = widgets.Button(\n",
    "#     description='start',\n",
    "#     icon='start',\n",
    "#     button_style='warning')\n",
    "# button_start\n",
    "\n"
   ]
  },
  {
   "cell_type": "code",
   "execution_count": 31,
   "metadata": {
    "ExecuteTime": {
     "end_time": "2020-07-14T06:34:40.767463Z",
     "start_time": "2020-07-14T06:34:40.762955Z"
    }
   },
   "outputs": [],
   "source": [
    "tmp = msgpack.packb((0.00,-128.00,0.00,0.00))"
   ]
  },
  {
   "cell_type": "code",
   "execution_count": 32,
   "metadata": {
    "ExecuteTime": {
     "end_time": "2020-07-14T06:34:48.640369Z",
     "start_time": "2020-07-14T06:34:48.636369Z"
    }
   },
   "outputs": [
    {
     "data": {
      "text/plain": [
       "[0.0, -128.0, 0.0, 0.0]"
      ]
     },
     "execution_count": 32,
     "metadata": {},
     "output_type": "execute_result"
    }
   ],
   "source": [
    "msgpack.unpackb(tmp)"
   ]
  },
  {
   "cell_type": "code",
   "execution_count": 35,
   "metadata": {
    "ExecuteTime": {
     "end_time": "2020-07-14T06:37:45.225583Z",
     "start_time": "2020-07-14T06:37:45.218590Z"
    }
   },
   "outputs": [
    {
     "data": {
      "text/plain": [
       "b'\\x94\\xca\\x00\\x00\\x00\\x00\\xca\\xc3\\x00\\x00\\x00\\xca\\x00\\x00\\x00\\x00\\xca\\x00\\x00\\x00\\x00'"
      ]
     },
     "execution_count": 35,
     "metadata": {},
     "output_type": "execute_result"
    }
   ],
   "source": [
    "packer.pack((0.00,-128.00,0.00,0.00))"
   ]
  },
  {
   "cell_type": "code",
   "execution_count": 40,
   "metadata": {
    "ExecuteTime": {
     "end_time": "2020-07-14T09:20:27.524353Z",
     "start_time": "2020-07-14T09:20:27.498347Z"
    }
   },
   "outputs": [
    {
     "data": {
      "application/vnd.jupyter.widget-view+json": {
       "model_id": "5529311c44304c83bbe1b1162007d39c",
       "version_major": 2,
       "version_minor": 0
      },
      "text/plain": [
       "Box(children=(Label(value='0'), Label(value='1'), Label(value='2'), Label(value='3')))"
      ]
     },
     "metadata": {},
     "output_type": "display_data"
    }
   ],
   "source": [
    "items = [widgets.Label(str(i)) for i in range(4)]\n",
    "widgets.Box(items)"
   ]
  },
  {
   "cell_type": "code",
   "execution_count": 42,
   "metadata": {
    "ExecuteTime": {
     "end_time": "2020-07-14T09:21:12.902043Z",
     "start_time": "2020-07-14T09:21:12.859025Z"
    }
   },
   "outputs": [
    {
     "data": {
      "application/vnd.jupyter.widget-view+json": {
       "model_id": "4edb1c4c91d248bb90f361c1cdcca4c4",
       "version_major": 2,
       "version_minor": 0
      },
      "text/plain": [
       "GridBox(children=(Label(value='0'), Label(value='1'), Label(value='2'), Label(value='3'), Label(value='4'), La…"
      ]
     },
     "metadata": {},
     "output_type": "display_data"
    }
   ],
   "source": [
    "items = [widgets.Label(str(i)) for i in range(8)]\n",
    "widgets.GridBox(items, layout=widgets.Layout(grid_template_columns=\"repeat(3, 100px)\"))"
   ]
  },
  {
   "cell_type": "code",
   "execution_count": 45,
   "metadata": {
    "ExecuteTime": {
     "end_time": "2020-07-14T09:21:42.038634Z",
     "start_time": "2020-07-14T09:21:42.035643Z"
    }
   },
   "outputs": [],
   "source": [
    "items[0].value='dfs'"
   ]
  },
  {
   "cell_type": "code",
   "execution_count": 49,
   "metadata": {
    "ExecuteTime": {
     "end_time": "2020-07-14T09:27:50.859536Z",
     "start_time": "2020-07-14T09:27:50.837522Z"
    }
   },
   "outputs": [
    {
     "data": {
      "application/vnd.jupyter.widget-view+json": {
       "model_id": "770a7c99d81346e39e9da442b6fc8fdd",
       "version_major": 2,
       "version_minor": 0
      },
      "text/plain": [
       "Label(value='The values of slider1 and slider2 are synchronized')"
      ]
     },
     "metadata": {},
     "output_type": "display_data"
    },
    {
     "data": {
      "application/vnd.jupyter.widget-view+json": {
       "model_id": "4c934b1ade2d49d3bdfbe0f142a6fa02",
       "version_major": 2,
       "version_minor": 0
      },
      "text/plain": [
       "IntSlider(value=0, description='Slider 1')"
      ]
     },
     "metadata": {},
     "output_type": "display_data"
    },
    {
     "data": {
      "application/vnd.jupyter.widget-view+json": {
       "model_id": "7216cab95a8247de9741e9773acde336",
       "version_major": 2,
       "version_minor": 0
      },
      "text/plain": [
       "IntSlider(value=0, description='Slider 2')"
      ]
     },
     "metadata": {},
     "output_type": "display_data"
    }
   ],
   "source": [
    "caption_list = widgets.Label(value='The values of slider1 and slider2 are synchronized')\n",
    "sliders1, slider2 = widgets.IntSlider(description='Slider 1'),\\\n",
    "                    widgets.IntSlider(description='Slider 2')\n",
    "l = ipywidgets.link((sliders1, 'value'), (slider2, 'value'))\n",
    "display(caption_list, sliders1, slider2)"
   ]
  },
  {
   "cell_type": "code",
   "execution_count": 51,
   "metadata": {
    "ExecuteTime": {
     "end_time": "2020-07-14T09:30:04.250106Z",
     "start_time": "2020-07-14T09:30:04.221094Z"
    }
   },
   "outputs": [
    {
     "data": {
      "application/vnd.jupyter.widget-view+json": {
       "model_id": "6b7c86bd36ad4ce2bb2af9e3ce3b06da",
       "version_major": 2,
       "version_minor": 0
      },
      "text/plain": [
       "VBox(children=(IntSlider(value=0, continuous_update=False, description='Delayed'), IntText(value=0, descriptio…"
      ]
     },
     "metadata": {},
     "output_type": "display_data"
    }
   ],
   "source": [
    "\n",
    "a = widgets.IntSlider(description=\"Delayed\", continuous_update=False)\n",
    "b = widgets.IntText(description=\"Delayed\", continuous_update=False)\n",
    "c = widgets.IntSlider(description=\"Continuous\", continuous_update=True)\n",
    "d = widgets.IntText(description=\"Continuous\", continuous_update=True)\n",
    "\n",
    "ipywidgets.link((a, 'value'), (b, 'value'))\n",
    "ipywidgets.link((a, 'value'), (c, 'value'))\n",
    "ipywidgets.link((a, 'value'), (d, 'value'))\n",
    "widgets.VBox([a,b,c,d])"
   ]
  },
  {
   "cell_type": "code",
   "execution_count": null,
   "metadata": {},
   "outputs": [],
   "source": []
  }
 ],
 "metadata": {
  "kernelspec": {
   "display_name": "Python 3",
   "language": "python",
   "name": "python3"
  },
  "language_info": {
   "codemirror_mode": {
    "name": "ipython",
    "version": 3
   },
   "file_extension": ".py",
   "mimetype": "text/x-python",
   "name": "python",
   "nbconvert_exporter": "python",
   "pygments_lexer": "ipython3",
   "version": "3.7.5"
  }
 },
 "nbformat": 4,
 "nbformat_minor": 4
}
