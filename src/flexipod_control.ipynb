{
 "cells": [
  {
   "cell_type": "code",
   "execution_count": 1,
   "metadata": {
    "ExecuteTime": {
     "end_time": "2020-08-03T20:42:03.338255Z",
     "start_time": "2020-08-03T20:42:02.696550Z"
    }
   },
   "outputs": [],
   "source": [
    "import msgpack\n",
    "import open3d as o3d\n",
    "# import trimesh\n",
    "from IPython.display import display, Math\n",
    "import numpy as np\n",
    "import matplotlib.pyplot as plt\n",
    "import time\n",
    "import threading\n",
    "import asyncio\n",
    "\n",
    "plt.style.use('seaborn-whitegrid')\n",
    "%config InlineBackend.figure_format = 'retina'\n",
    "\n",
    "# %autoawait off\n",
    "\n",
    "import socket\n",
    "BUFFER_LEN = 512 #in bytes\n",
    "\n",
    "# # !pip install nest-asyncio\n",
    "# import nest_asyncio\n",
    "# nest_asyncio.apply()"
   ]
  },
  {
   "cell_type": "code",
   "execution_count": 2,
   "metadata": {
    "ExecuteTime": {
     "end_time": "2020-08-03T20:42:03.345257Z",
     "start_time": "2020-08-03T20:42:03.340247Z"
    }
   },
   "outputs": [],
   "source": [
    "ip_local = \"127.0.0.1\"\n",
    "port_local = 32000\n",
    "\n",
    "ip_remote = \"127.0.0.1\"\n",
    "port_remote = 32001\n",
    "\n",
    "local_address = (ip_local,port_local)\n",
    "remote_address = (ip_remote,port_remote)\n",
    "\n",
    "# https://adaickalavan.github.io/programming/udp-socket-programming-in-cpp-and-python/\n",
    "# Python UDP Receiver\n",
    "def initUDP(IP, port):\n",
    "    #Create a datagram socket\n",
    "    sock = socket.socket(socket.AF_INET, # Internet\n",
    "                         socket.SOCK_DGRAM) # UDP\n",
    "#     #Enable immediate reuse of IP address\n",
    "    sock.setsockopt(socket.SOL_SOCKET,socket.SO_REUSEADDR,1)\n",
    "    #Bind the socket to the port\n",
    "    sock.bind((IP, port))\n",
    "    #Set a timeout so the socket does not block indefinitely when trying to receive data\n",
    "    sock.settimeout(1)\n",
    "\n",
    "    return sock\n",
    "\n",
    "def readUDP(sock):\n",
    "    data = sock.recv(BUFFER_LEN)\n",
    "    return data"
   ]
  },
  {
   "cell_type": "code",
   "execution_count": 12,
   "metadata": {
    "ExecuteTime": {
     "end_time": "2020-08-03T20:28:57.212045Z",
     "start_time": "2020-08-03T20:28:57.197032Z"
    }
   },
   "outputs": [
    {
     "name": "stdout",
     "output_type": "stream",
     "text": [
      "[14, 0.0, [-0.7166480909868898, -0.33594497217166014, -0.33594497217166014, -0.33594497217166014], [0.0, 0.0, 0.0, 0.0], [-0.697434953013431, 0.94188161446786, 0.94188161446786, 0.94188161446786, 0.0, 0.0], [1.027548286604283, -0.35667430705870695, -0.35667430705870695], [-0.33594497217166014, -0.33594497217166014, -0.33594497217166014]]\n",
      "#--- executed in 8.97 ms ---#\n"
     ]
    }
   ],
   "source": [
    "# sock = initUDP(ip_local, port_local) # socket that receives udp packet\n",
    "s = time.perf_counter()\n",
    "#Create a datagram socket\n",
    "sock = socket.socket(socket.AF_INET, # Internet\n",
    "                     socket.SOCK_DGRAM) # UDP\n",
    "\n",
    "sock.setsockopt(socket.SOL_SOCKET,socket.SO_REUSEADDR,0)\n",
    "sock.settimeout(1)\n",
    "sock.bind(local_address)\n",
    "# sock.connect(remote_address)\n",
    "try:\n",
    "    data = sock.recv(BUFFER_LEN)\n",
    "    data_unpacked = msgpack.unpackb(data)\n",
    "    print(data_unpacked)\n",
    "except Exception as e:\n",
    "#     print(e)\n",
    "    pass\n",
    "# sock.shutdown(socket.SHUT_RDWR) # shutdown the connection\n",
    "# sock.close()# close the connection\n",
    "\n",
    "\n",
    "elapsed = time.perf_counter() - s\n",
    "\n",
    "print(f\"#--- executed in {elapsed*1000:0.2f} ms ---#\")\n"
   ]
  },
  {
   "cell_type": "code",
   "execution_count": 12,
   "metadata": {
    "ExecuteTime": {
     "end_time": "2020-08-03T20:12:00.134308Z",
     "start_time": "2020-08-03T20:12:00.132298Z"
    },
    "scrolled": true
   },
   "outputs": [],
   "source": [
    "# loop = asyncio.get_event_loop()\n",
    "# loop.create_task(test())"
   ]
  },
  {
   "cell_type": "code",
   "execution_count": 4,
   "metadata": {
    "ExecuteTime": {
     "end_time": "2020-08-03T20:41:44.398379Z",
     "start_time": "2020-08-03T20:41:44.394378Z"
    }
   },
   "outputs": [
    {
     "data": {
      "text/plain": [
       "RuntimeError"
      ]
     },
     "execution_count": 4,
     "metadata": {},
     "output_type": "execute_result"
    }
   ],
   "source": [
    "RuntimeError"
   ]
  },
  {
   "cell_type": "code",
   "execution_count": 3,
   "metadata": {
    "ExecuteTime": {
     "end_time": "2020-08-03T20:41:10.652959Z",
     "start_time": "2020-08-03T20:41:10.486820Z"
    },
    "scrolled": true
   },
   "outputs": [
    {
     "name": "stdout",
     "output_type": "stream",
     "text": [
      "Starting UDP server\n",
      "This event loop is already running\n"
     ]
    },
    {
     "ename": "RuntimeError",
     "evalue": "This event loop is already running",
     "output_type": "error",
     "traceback": [
      "\u001b[1;31m---------------------------------------------------------------------------\u001b[0m",
      "\u001b[1;31mRuntimeError\u001b[0m                              Traceback (most recent call last)",
      "\u001b[1;32m<ipython-input-3-cb97ca33695b>\u001b[0m in \u001b[0;36m<module>\u001b[1;34m\u001b[0m\n\u001b[0;32m     28\u001b[0m \u001b[1;33m\u001b[0m\u001b[0m\n\u001b[0;32m     29\u001b[0m \u001b[1;32mtry\u001b[0m\u001b[1;33m:\u001b[0m\u001b[1;33m\u001b[0m\u001b[1;33m\u001b[0m\u001b[0m\n\u001b[1;32m---> 30\u001b[1;33m     \u001b[0mloop\u001b[0m\u001b[1;33m.\u001b[0m\u001b[0mrun_forever\u001b[0m\u001b[1;33m(\u001b[0m\u001b[1;33m)\u001b[0m\u001b[1;33m\u001b[0m\u001b[1;33m\u001b[0m\u001b[0m\n\u001b[0m\u001b[0;32m     31\u001b[0m \u001b[1;32mexcept\u001b[0m \u001b[0mKeyboardInterrupt\u001b[0m\u001b[1;33m:\u001b[0m\u001b[1;33m\u001b[0m\u001b[1;33m\u001b[0m\u001b[0m\n\u001b[0;32m     32\u001b[0m     \u001b[0mtransport\u001b[0m\u001b[1;33m.\u001b[0m\u001b[0mclose\u001b[0m\u001b[1;33m(\u001b[0m\u001b[1;33m)\u001b[0m\u001b[1;33m\u001b[0m\u001b[1;33m\u001b[0m\u001b[0m\n",
      "\u001b[1;32m~\\.conda\\envs\\conda_env\\lib\\asyncio\\base_events.py\u001b[0m in \u001b[0;36mrun_forever\u001b[1;34m(self)\u001b[0m\n\u001b[0;32m    519\u001b[0m         \u001b[0mself\u001b[0m\u001b[1;33m.\u001b[0m\u001b[0m_check_closed\u001b[0m\u001b[1;33m(\u001b[0m\u001b[1;33m)\u001b[0m\u001b[1;33m\u001b[0m\u001b[1;33m\u001b[0m\u001b[0m\n\u001b[0;32m    520\u001b[0m         \u001b[1;32mif\u001b[0m \u001b[0mself\u001b[0m\u001b[1;33m.\u001b[0m\u001b[0mis_running\u001b[0m\u001b[1;33m(\u001b[0m\u001b[1;33m)\u001b[0m\u001b[1;33m:\u001b[0m\u001b[1;33m\u001b[0m\u001b[1;33m\u001b[0m\u001b[0m\n\u001b[1;32m--> 521\u001b[1;33m             \u001b[1;32mraise\u001b[0m \u001b[0mRuntimeError\u001b[0m\u001b[1;33m(\u001b[0m\u001b[1;34m'This event loop is already running'\u001b[0m\u001b[1;33m)\u001b[0m\u001b[1;33m\u001b[0m\u001b[1;33m\u001b[0m\u001b[0m\n\u001b[0m\u001b[0;32m    522\u001b[0m         \u001b[1;32mif\u001b[0m \u001b[0mevents\u001b[0m\u001b[1;33m.\u001b[0m\u001b[0m_get_running_loop\u001b[0m\u001b[1;33m(\u001b[0m\u001b[1;33m)\u001b[0m \u001b[1;32mis\u001b[0m \u001b[1;32mnot\u001b[0m \u001b[1;32mNone\u001b[0m\u001b[1;33m:\u001b[0m\u001b[1;33m\u001b[0m\u001b[1;33m\u001b[0m\u001b[0m\n\u001b[0;32m    523\u001b[0m             raise RuntimeError(\n",
      "\u001b[1;31mRuntimeError\u001b[0m: This event loop is already running"
     ]
    }
   ],
   "source": [
    "import asyncio\n",
    "data_unpacked = None\n",
    "class EchoServerProtocol:\n",
    "    \n",
    "    def connection_made(self, transport):\n",
    "        self.transport = transport\n",
    "\n",
    "    def datagram_received(self, data, addr):\n",
    "        global data_unpacked\n",
    "        global flag_received\n",
    "        flag_received = True\n",
    "        data_unpacked = msgpack.unpackb(data)\n",
    "\n",
    "\n",
    "loop = asyncio.get_event_loop()\n",
    "print(\"Starting UDP server\")\n",
    "\n",
    "# One protocol instance will be created to serve all client requests\n",
    "listen = loop.create_datagram_endpoint(\n",
    "    EchoServerProtocol, local_addr=('127.0.0.1', 32000))\n",
    "\n",
    "\n",
    "\n",
    "try:\n",
    "    transport, protocol = loop.run_until_complete(listen)\n",
    "except Exception as e:\n",
    "    print(e)\n",
    "    \n",
    "try:\n",
    "    loop.run_forever()\n",
    "except KeyboardInterrupt:\n",
    "    transport.close()\n",
    "    loop.close()"
   ]
  },
  {
   "cell_type": "code",
   "execution_count": 12,
   "metadata": {
    "ExecuteTime": {
     "end_time": "2020-08-03T20:30:21.975659Z",
     "start_time": "2020-08-03T20:30:21.970654Z"
    }
   },
   "outputs": [
    {
     "data": {
      "text/plain": [
       "[14,\n",
       " 0.0,\n",
       " [0.4746756997623797,\n",
       "  0.4746756997623797,\n",
       "  0.6027931319996285,\n",
       "  -0.9763766097103586],\n",
       " [0.0, 0.0, 0.0, 0.0],\n",
       " [0.8801607694365247,\n",
       "  0.8801607694365247,\n",
       "  -0.7978975122245202,\n",
       "  -0.2160757182343867,\n",
       "  0.0,\n",
       "  0.0],\n",
       " [0.5393056771506246, 0.5393056771506246, -0.7554768911599372],\n",
       " [0.4746756997623797, 0.4746756997623797, -0.9763766097103586]]"
      ]
     },
     "execution_count": 12,
     "metadata": {},
     "output_type": "execute_result"
    }
   ],
   "source": [
    "data_unpacked"
   ]
  },
  {
   "cell_type": "markdown",
   "metadata": {},
   "source": [
    "### test receiving udp packet"
   ]
  },
  {
   "cell_type": "code",
   "execution_count": 6,
   "metadata": {
    "ExecuteTime": {
     "end_time": "2020-08-03T20:26:56.184157Z",
     "start_time": "2020-08-03T20:26:56.175155Z"
    }
   },
   "outputs": [
    {
     "ename": "NameError",
     "evalue": "name 'sock' is not defined",
     "output_type": "error",
     "traceback": [
      "\u001b[1;31m---------------------------------------------------------------------------\u001b[0m",
      "\u001b[1;31mNameError\u001b[0m                                 Traceback (most recent call last)",
      "\u001b[1;32m<ipython-input-6-355378548575>\u001b[0m in \u001b[0;36m<module>\u001b[1;34m\u001b[0m\n\u001b[0;32m      1\u001b[0m \u001b[1;32mtry\u001b[0m\u001b[1;33m:\u001b[0m\u001b[1;33m\u001b[0m\u001b[1;33m\u001b[0m\u001b[0m\n\u001b[0;32m      2\u001b[0m \u001b[1;31m#     data_receive = readUDP(sock)\u001b[0m\u001b[1;33m\u001b[0m\u001b[1;33m\u001b[0m\u001b[1;33m\u001b[0m\u001b[0m\n\u001b[1;32m----> 3\u001b[1;33m     \u001b[0mdata_receive\u001b[0m\u001b[1;33m=\u001b[0m \u001b[0msock\u001b[0m\u001b[1;33m.\u001b[0m\u001b[0mrecv\u001b[0m\u001b[1;33m(\u001b[0m\u001b[0mBUFFER_LEN\u001b[0m\u001b[1;33m)\u001b[0m\u001b[1;33m\u001b[0m\u001b[1;33m\u001b[0m\u001b[0m\n\u001b[0m\u001b[0;32m      4\u001b[0m \u001b[1;31m#     print(data_receive)\u001b[0m\u001b[1;33m\u001b[0m\u001b[1;33m\u001b[0m\u001b[1;33m\u001b[0m\u001b[0m\n\u001b[0;32m      5\u001b[0m     \u001b[0mdata_receive_unpacked\u001b[0m \u001b[1;33m=\u001b[0m \u001b[0mmsgpack\u001b[0m\u001b[1;33m.\u001b[0m\u001b[0munpackb\u001b[0m\u001b[1;33m(\u001b[0m\u001b[0mdata_receive\u001b[0m\u001b[1;33m)\u001b[0m\u001b[1;33m\u001b[0m\u001b[1;33m\u001b[0m\u001b[0m\n",
      "\u001b[1;31mNameError\u001b[0m: name 'sock' is not defined"
     ]
    }
   ],
   "source": [
    "try:\n",
    "#     data_receive = readUDP(sock)\n",
    "    data_receive= sock.recv(BUFFER_LEN)\n",
    "#     print(data_receive)\n",
    "    data_receive_unpacked = msgpack.unpackb(data_receive)\n",
    "    print(data_receive_unpacked)\n",
    "except socket.timeout:\n",
    "    print(\"rec_socket timed out!\")\n",
    "# sock.shutdown(socket.SHUT_RDWR) # shutdown the connection\n",
    "# sock.close()# close the connection"
   ]
  },
  {
   "cell_type": "markdown",
   "metadata": {},
   "source": [
    "### test sending udp packet"
   ]
  },
  {
   "cell_type": "code",
   "execution_count": 5,
   "metadata": {
    "ExecuteTime": {
     "end_time": "2020-08-03T07:29:43.600728Z",
     "start_time": "2020-08-03T07:29:43.595727Z"
    }
   },
   "outputs": [
    {
     "name": "stdout",
     "output_type": "stream",
     "text": [
      "[12, 1596439783.598737, [0, 0, 3, 2]]\n"
     ]
    }
   ],
   "source": [
    "sen_sock = initUDP(ip_remote, port_local) # socket that send udp packet\n",
    "\n",
    "data_send = [12,time.time(),[0,0,3,2]]\n",
    "print(data_send)\n",
    "# data_send = [0.5,0.0,1.0,2.0]\n",
    "# data_send = [1,2,3,4]\n",
    "\n",
    "# data_send = 20\n",
    "\n",
    "packer = msgpack.Packer(use_single_float=False,use_bin_type =True)\n",
    "data_send_packed = packer.pack(data_send) # https://msgpack-python.readthedocs.io/en/latest/api.html#msgpack.Packer\n",
    "# data_send_packed = msgpack.packb(data_send)\n",
    "\n",
    "sen_sock.sendto(data_send_packed,remote_address)\n",
    "\n",
    "sen_sock.shutdown(socket.SHUT_RDWR) # shutdown the connection\n",
    "sen_sock.close()# close the connection"
   ]
  },
  {
   "cell_type": "code",
   "execution_count": 6,
   "metadata": {
    "ExecuteTime": {
     "end_time": "2020-08-03T07:29:43.608729Z",
     "start_time": "2020-08-03T07:29:43.603728Z"
    }
   },
   "outputs": [
    {
     "data": {
      "text/plain": [
       "b'\\x93\\x0c\\xcbA\\xd7\\xc9\\xef9\\xe6Q\\xb5\\x94\\x00\\x00\\x03\\x02'"
      ]
     },
     "execution_count": 6,
     "metadata": {},
     "output_type": "execute_result"
    }
   ],
   "source": [
    "data_send_packed"
   ]
  },
  {
   "cell_type": "code",
   "execution_count": 4,
   "metadata": {
    "ExecuteTime": {
     "end_time": "2020-08-03T15:18:08.742929Z",
     "start_time": "2020-08-03T15:18:08.740929Z"
    }
   },
   "outputs": [],
   "source": [
    "import ipywidgets.widgets as widgets\n",
    "import ipywidgets\n",
    "from IPython.display import display"
   ]
  },
  {
   "cell_type": "code",
   "execution_count": 5,
   "metadata": {
    "ExecuteTime": {
     "end_time": "2020-08-03T15:18:21.728555Z",
     "start_time": "2020-08-03T15:18:21.652460Z"
    }
   },
   "outputs": [],
   "source": [
    "w_max = 300.0/60.0*np.pi*2\n",
    "\n",
    "flag_start = True\n",
    "flag_reset = False\n",
    "\n",
    "# stop button\n",
    "button_stop = widgets.Button(\n",
    "    description='stop',\n",
    "    icon='stop',\n",
    "    button_style='warning')\n",
    "\n",
    "def OnClickButtonStop(b):\n",
    "    global flag_start\n",
    "    flag_start=False\n",
    "button_stop.on_click(OnClickButtonStop)  \n",
    "\n",
    "# reset button\n",
    "button_reset = widgets.Button(\n",
    "    description='reset',\n",
    "    icon='refresh',\n",
    "    button_style='info')\n",
    "\n",
    "def OnClickButtonReset(b):\n",
    "    global flag_reset\n",
    "    global w0_widget\n",
    "    global w1_widget\n",
    "    global w2_widget\n",
    "    global w3_widget\n",
    "    \n",
    "    flag_start=True\n",
    "    w0_widget.value=0\n",
    "    w1_widget.value=0\n",
    "    w2_widget.value=0\n",
    "    w3_widget.value=0\n",
    "\n",
    "    \n",
    "    \n",
    "button_reset.on_click(OnClickButtonReset) \n",
    "\n",
    "w0_widget = widgets.FloatSlider(min=-w_max, max=w_max, step=.01, value=0,\n",
    "                                   continuous_update=True, description=\"front left\")\n",
    "w1_widget = widgets.FloatSlider(min=-w_max, max=w_max, step=.01, value=0,\n",
    "                                   continuous_update=True, description=\"back left\")\n",
    "w2_widget = widgets.FloatSlider(min=-w_max, max=w_max, step=.01, value=0,\n",
    "                                   continuous_update=True, description=\"front right\")\n",
    "w3_widget = widgets.FloatSlider(min=-w_max, max=w_max, step=.01, value=0,\n",
    "                                   continuous_update=True, description=\"back right\")\n",
    "caption_list = [\n",
    "    widgets.Label(value='[Joint Angle]'),\n",
    "    widgets.Label(value='[Joint speed]'),\n",
    "    widgets.Label(value='[Orientation]'),\n",
    "    widgets.Label(value='[Accelerration]'),\n",
    "    widgets.Label(value='[Position]'),\n",
    "]\n",
    "                \n",
    "\n",
    "ui = widgets.VBox([w0_widget, w1_widget, w2_widget, w3_widget]+caption_list)\n",
    "\n",
    "packer = msgpack.Packer(use_single_float=False,use_bin_type =True)\n",
    "\n",
    "\n",
    "sen_sock = initUDP(ip_remote, port_local) # socket that send udp packet\n",
    "\n",
    "\n",
    "def f(w0, w1, w2, w3):    \n",
    "    t_now = time.time()\n",
    "    data_send = (2,t_now,(w0, w1, w2, w3))\n",
    "#     data_send_packed = msgpack.packb(data_send)\n",
    "    data_send_packed = packer.pack(data_send) # https://msgpack-python.readthedocs.io/en/latest/api.html#msgpack.Packer\n",
    "#     display(data_send_packed)\n",
    "    \n",
    "    sen_sock.sendto(data_send_packed,remote_address)\n",
    "    \n",
    "#     display((f\"{time.time():3.3f}\", (w0, w1, w2, w3)))\n",
    "    \n",
    "#     sen_sock.shutdown(socket.SHUT_RDWR) # shutdown the connection\n",
    "#     sen_sock.close()# close the connection\n",
    "    \n",
    "out = widgets.interactive_output(f, {\n",
    "    'w0': w0_widget,\n",
    "    'w1': w1_widget,\n",
    "    'w2': w2_widget,\n",
    "    'w3': w3_widget\n",
    "})\n",
    "# out.layout.height = '350px'\n",
    "# out.layout.width = '350px'\n",
    "\n",
    "buttons_ui = widgets.HBox((button_stop,button_reset))\n",
    "\n",
    "app = widgets.VBox(\n",
    "    children = (ui, out,buttons_ui))\n",
    "\n",
    "# display(app)"
   ]
  },
  {
   "cell_type": "code",
   "execution_count": 6,
   "metadata": {
    "ExecuteTime": {
     "end_time": "2020-08-03T15:18:31.845670Z",
     "start_time": "2020-08-03T15:18:31.834668Z"
    }
   },
   "outputs": [
    {
     "data": {
      "application/vnd.jupyter.widget-view+json": {
       "model_id": "cc6ad227a3ca400e8eecc32089f5165a",
       "version_major": 2,
       "version_minor": 0
      },
      "text/plain": [
       "VBox(children=(VBox(children=(FloatSlider(value=0.0, description='front left', max=31.41592653589793, min=-31.…"
      ]
     },
     "metadata": {},
     "output_type": "display_data"
    }
   ],
   "source": [
    "display(app)"
   ]
  },
  {
   "cell_type": "code",
   "execution_count": 20,
   "metadata": {
    "ExecuteTime": {
     "end_time": "2020-08-03T07:42:35.837410Z",
     "start_time": "2020-08-03T07:42:35.830416Z"
    }
   },
   "outputs": [],
   "source": [
    "update_interval = 1e-3 - 1e-5\n",
    "def AppControl():\n",
    "    time_previous = time.time()\n",
    "    global flag_start\n",
    "    flag_start=True\n",
    "    \n",
    "    rec_sock = initUDP(ip_remote, port_local) # socket that receives udp packet\n",
    "    while flag_start:\n",
    "        time_now = time.time()\n",
    "        if time_now-time_previous>update_interval:\n",
    "            print(f\"{time_now-time_previous}\\r\",end='')\n",
    "            time_previous = time_now\n",
    "            try:\n",
    "\n",
    "                data_receive = readUDP(rec_sock)\n",
    "            #     print(data_receive)\n",
    "                data_receive_unpacked = msgpack.unpackb(data_receive)\n",
    "                # data checking the header should be a certain number(TODO)\n",
    "                if data_receive_unpacked[0]:\n",
    "                    #caption_list.value=f\"{data_receive_unpacked}\"\n",
    "                    for k,caption in enumerate(caption_list):\n",
    "                        caption.value = \" \".join(f\"{x:<+10.3f}\" for x in data_receive_unpacked[2+k])\n",
    "            except socket.timeout:\n",
    "                print(\"rec_socket timed out!\\r\",end='')\n",
    "    rec_sock.shutdown(socket.SHUT_RDWR) # shutdown the connection\n",
    "    rec_sock.close()# close the connection"
   ]
  },
  {
   "cell_type": "code",
   "execution_count": 22,
   "metadata": {
    "ExecuteTime": {
     "end_time": "2020-08-03T07:43:00.788591Z",
     "start_time": "2020-08-03T07:43:00.773589Z"
    },
    "scrolled": false
   },
   "outputs": [
    {
     "data": {
      "application/vnd.jupyter.widget-view+json": {
       "model_id": "286609623cc04514bfa6891bf7a2188d",
       "version_major": 2,
       "version_minor": 0
      },
      "text/plain": [
       "VBox(children=(VBox(children=(FloatSlider(value=0.0, description='front left', max=31.41592653589793, min=-31.…"
      ]
     },
     "metadata": {},
     "output_type": "display_data"
    },
    {
     "name": "stdout",
     "output_type": "stream",
     "text": [
      "0.0040004253387451176\r"
     ]
    }
   ],
   "source": [
    "control_thread = threading.Thread(target=AppControl)\n",
    "display(app)\n",
    "control_thread.start()"
   ]
  },
  {
   "cell_type": "code",
   "execution_count": 43,
   "metadata": {
    "ExecuteTime": {
     "end_time": "2020-07-14T06:51:09.682595Z",
     "start_time": "2020-07-14T06:51:09.669591Z"
    }
   },
   "outputs": [
    {
     "data": {
      "application/vnd.jupyter.widget-view+json": {
       "model_id": "1624a7db69fb4fb3b1fcd02eac0814af",
       "version_major": 2,
       "version_minor": 0
      },
      "text/plain": [
       "Button(description='Click Me!', style=ButtonStyle())"
      ]
     },
     "metadata": {},
     "output_type": "display_data"
    },
    {
     "data": {
      "application/vnd.jupyter.widget-view+json": {
       "model_id": "45a23d14098d4ddd994d29cbb725460c",
       "version_major": 2,
       "version_minor": 0
      },
      "text/plain": [
       "Output()"
      ]
     },
     "metadata": {},
     "output_type": "display_data"
    },
    {
     "name": "stdout",
     "output_type": "stream",
     "text": [
      "Button clicked.\n",
      "Button clicked.\n",
      "Button clicked.\n",
      "Button clicked.\n"
     ]
    }
   ],
   "source": [
    "\n",
    "button = widgets.Button(description=\"Click Me!\")\n",
    "output = widgets.Output()\n",
    "\n",
    "display(button, output)\n",
    "\n",
    "def on_button_clicked(b):\n",
    "    with output:\n",
    "        print(\"started\")\n",
    "\n",
    "button.on_click(on_button_clicked)"
   ]
  },
  {
   "cell_type": "code",
   "execution_count": null,
   "metadata": {},
   "outputs": [],
   "source": [
    "started = True"
   ]
  },
  {
   "cell_type": "code",
   "execution_count": 47,
   "metadata": {
    "ExecuteTime": {
     "end_time": "2020-07-14T08:42:16.002258Z",
     "start_time": "2020-07-14T08:42:15.991264Z"
    }
   },
   "outputs": [
    {
     "data": {
      "application/vnd.jupyter.widget-view+json": {
       "model_id": "e7f1678150df447e9a8483a0d83013f4",
       "version_major": 2,
       "version_minor": 0
      },
      "text/plain": [
       "Button(button_style='warning', description='stop', icon='stop', style=ButtonStyle())"
      ]
     },
     "metadata": {},
     "output_type": "display_data"
    }
   ],
   "source": [
    "\n",
    "# # start button\n",
    "# button_start = widgets.Button(\n",
    "#     description='start',\n",
    "#     icon='start',\n",
    "#     button_style='warning')\n",
    "# button_start\n",
    "\n"
   ]
  },
  {
   "cell_type": "code",
   "execution_count": 31,
   "metadata": {
    "ExecuteTime": {
     "end_time": "2020-07-14T06:34:40.767463Z",
     "start_time": "2020-07-14T06:34:40.762955Z"
    }
   },
   "outputs": [],
   "source": [
    "tmp = msgpack.packb((0.00,-128.00,0.00,0.00))"
   ]
  },
  {
   "cell_type": "code",
   "execution_count": 32,
   "metadata": {
    "ExecuteTime": {
     "end_time": "2020-07-14T06:34:48.640369Z",
     "start_time": "2020-07-14T06:34:48.636369Z"
    }
   },
   "outputs": [
    {
     "data": {
      "text/plain": [
       "[0.0, -128.0, 0.0, 0.0]"
      ]
     },
     "execution_count": 32,
     "metadata": {},
     "output_type": "execute_result"
    }
   ],
   "source": [
    "msgpack.unpackb(tmp)"
   ]
  },
  {
   "cell_type": "code",
   "execution_count": 35,
   "metadata": {
    "ExecuteTime": {
     "end_time": "2020-07-14T06:37:45.225583Z",
     "start_time": "2020-07-14T06:37:45.218590Z"
    }
   },
   "outputs": [
    {
     "data": {
      "text/plain": [
       "b'\\x94\\xca\\x00\\x00\\x00\\x00\\xca\\xc3\\x00\\x00\\x00\\xca\\x00\\x00\\x00\\x00\\xca\\x00\\x00\\x00\\x00'"
      ]
     },
     "execution_count": 35,
     "metadata": {},
     "output_type": "execute_result"
    }
   ],
   "source": [
    "packer.pack((0.00,-128.00,0.00,0.00))"
   ]
  },
  {
   "cell_type": "code",
   "execution_count": 40,
   "metadata": {
    "ExecuteTime": {
     "end_time": "2020-07-14T09:20:27.524353Z",
     "start_time": "2020-07-14T09:20:27.498347Z"
    }
   },
   "outputs": [
    {
     "data": {
      "application/vnd.jupyter.widget-view+json": {
       "model_id": "5529311c44304c83bbe1b1162007d39c",
       "version_major": 2,
       "version_minor": 0
      },
      "text/plain": [
       "Box(children=(Label(value='0'), Label(value='1'), Label(value='2'), Label(value='3')))"
      ]
     },
     "metadata": {},
     "output_type": "display_data"
    }
   ],
   "source": [
    "items = [widgets.Label(str(i)) for i in range(4)]\n",
    "widgets.Box(items)"
   ]
  },
  {
   "cell_type": "code",
   "execution_count": 42,
   "metadata": {
    "ExecuteTime": {
     "end_time": "2020-07-14T09:21:12.902043Z",
     "start_time": "2020-07-14T09:21:12.859025Z"
    }
   },
   "outputs": [
    {
     "data": {
      "application/vnd.jupyter.widget-view+json": {
       "model_id": "4edb1c4c91d248bb90f361c1cdcca4c4",
       "version_major": 2,
       "version_minor": 0
      },
      "text/plain": [
       "GridBox(children=(Label(value='0'), Label(value='1'), Label(value='2'), Label(value='3'), Label(value='4'), La…"
      ]
     },
     "metadata": {},
     "output_type": "display_data"
    }
   ],
   "source": [
    "items = [widgets.Label(str(i)) for i in range(8)]\n",
    "widgets.GridBox(items, layout=widgets.Layout(grid_template_columns=\"repeat(3, 100px)\"))"
   ]
  },
  {
   "cell_type": "code",
   "execution_count": 45,
   "metadata": {
    "ExecuteTime": {
     "end_time": "2020-07-14T09:21:42.038634Z",
     "start_time": "2020-07-14T09:21:42.035643Z"
    }
   },
   "outputs": [],
   "source": [
    "items[0].value='dfs'"
   ]
  },
  {
   "cell_type": "code",
   "execution_count": 49,
   "metadata": {
    "ExecuteTime": {
     "end_time": "2020-07-14T09:27:50.859536Z",
     "start_time": "2020-07-14T09:27:50.837522Z"
    }
   },
   "outputs": [
    {
     "data": {
      "application/vnd.jupyter.widget-view+json": {
       "model_id": "770a7c99d81346e39e9da442b6fc8fdd",
       "version_major": 2,
       "version_minor": 0
      },
      "text/plain": [
       "Label(value='The values of slider1 and slider2 are synchronized')"
      ]
     },
     "metadata": {},
     "output_type": "display_data"
    },
    {
     "data": {
      "application/vnd.jupyter.widget-view+json": {
       "model_id": "4c934b1ade2d49d3bdfbe0f142a6fa02",
       "version_major": 2,
       "version_minor": 0
      },
      "text/plain": [
       "IntSlider(value=0, description='Slider 1')"
      ]
     },
     "metadata": {},
     "output_type": "display_data"
    },
    {
     "data": {
      "application/vnd.jupyter.widget-view+json": {
       "model_id": "7216cab95a8247de9741e9773acde336",
       "version_major": 2,
       "version_minor": 0
      },
      "text/plain": [
       "IntSlider(value=0, description='Slider 2')"
      ]
     },
     "metadata": {},
     "output_type": "display_data"
    }
   ],
   "source": [
    "caption_list = widgets.Label(value='The values of slider1 and slider2 are synchronized')\n",
    "sliders1, slider2 = widgets.IntSlider(description='Slider 1'),\\\n",
    "                    widgets.IntSlider(description='Slider 2')\n",
    "l = ipywidgets.link((sliders1, 'value'), (slider2, 'value'))\n",
    "display(caption_list, sliders1, slider2)"
   ]
  },
  {
   "cell_type": "code",
   "execution_count": 51,
   "metadata": {
    "ExecuteTime": {
     "end_time": "2020-07-14T09:30:04.250106Z",
     "start_time": "2020-07-14T09:30:04.221094Z"
    }
   },
   "outputs": [
    {
     "data": {
      "application/vnd.jupyter.widget-view+json": {
       "model_id": "6b7c86bd36ad4ce2bb2af9e3ce3b06da",
       "version_major": 2,
       "version_minor": 0
      },
      "text/plain": [
       "VBox(children=(IntSlider(value=0, continuous_update=False, description='Delayed'), IntText(value=0, descriptio…"
      ]
     },
     "metadata": {},
     "output_type": "display_data"
    }
   ],
   "source": [
    "\n",
    "a = widgets.IntSlider(description=\"Delayed\", continuous_update=False)\n",
    "b = widgets.IntText(description=\"Delayed\", continuous_update=False)\n",
    "c = widgets.IntSlider(description=\"Continuous\", continuous_update=True)\n",
    "d = widgets.IntText(description=\"Continuous\", continuous_update=True)\n",
    "\n",
    "ipywidgets.link((a, 'value'), (b, 'value'))\n",
    "ipywidgets.link((a, 'value'), (c, 'value'))\n",
    "ipywidgets.link((a, 'value'), (d, 'value'))\n",
    "widgets.VBox([a,b,c,d])"
   ]
  },
  {
   "cell_type": "code",
   "execution_count": null,
   "metadata": {},
   "outputs": [],
   "source": []
  },
  {
   "cell_type": "markdown",
   "metadata": {},
   "source": [
    "## rotation"
   ]
  },
  {
   "cell_type": "code",
   "execution_count": 111,
   "metadata": {
    "ExecuteTime": {
     "end_time": "2020-07-20T09:50:17.472909Z",
     "start_time": "2020-07-20T09:50:16.739962Z"
    }
   },
   "outputs": [],
   "source": [
    "from scipy.spatial.transform import Rotation as R\n",
    "def RotateFromVec(vec, angle):\n",
    "    vec = np.asarray(vec, dtype=np.float64)\n",
    "    vec_norm = np.linalg.norm(vec)\n",
    "    if vec_norm != 1:\n",
    "        vec = vec/vec_norm\n",
    "    vec *= angle\n",
    "    h = np.eye(4)\n",
    "    h[:3, :3] = R.from_rotvec(vec).as_dcm()\n",
    "    return h       \n",
    "\n",
    "# https://www.euclideanspace.com/maths/geometry/rotations/conversions/matrixToQuaternion/\n",
    "def RotMatrixToQuarternion(m):\n",
    "    \"\"\"\n",
    "    m is a 3x3 rotation matrix or 4x4 homogenious transformation matrix\n",
    "    \"\"\"\n",
    "    w = np.sqrt(1+m[0,0]+m[1,1]+m[2,2])/2.0\n",
    "    w4 = 4*w\n",
    "    x = (m[2,1]-m[1,2])/w4\n",
    "    y = (m[0,2]-m[2,0])/w4\n",
    "    z = (m[1,0]-m[0,1])/w4\n",
    "    return np.array([w,x,y,z])\n",
    "\n",
    "# https://www.euclideanspace.com/maths/geometry/rotations/conversions/quaternionToAngle/index.htm\n",
    "def QuarternionToAxisAngle(q):\n",
    "    if(q[0]>1):\n",
    "        q = q/np.linalg.norm(q)\n",
    "    angle = 2.0 * np.arccos(q[0])\n",
    "    s = np.sqrt(1-q[0]**2)\n",
    "    if(s<1e-8):\n",
    "        return q[1:],angle\n",
    "    else:\n",
    "        return q[1:]/s,angle"
   ]
  },
  {
   "cell_type": "code",
   "execution_count": 5,
   "metadata": {
    "ExecuteTime": {
     "end_time": "2020-07-15T14:31:52.760354Z",
     "start_time": "2020-07-15T14:31:52.745341Z"
    }
   },
   "outputs": [
    {
     "name": "stderr",
     "output_type": "stream",
     "text": [
      "C:\\Users\\boxi\\.conda\\envs\\conda_env\\lib\\site-packages\\ipykernel_launcher.py:9: DeprecationWarning: `as_dcm` is deprecated!\n",
      "as_dcm is renamed to as_matrix in scipy 1.4.0 and will be removed in scipy 1.6.0\n",
      "  if __name__ == '__main__':\n"
     ]
    },
    {
     "data": {
      "text/plain": [
       "(array([0.        , 0.70710678, 0.70710678]), 1.5707963267948966)"
      ]
     },
     "execution_count": 5,
     "metadata": {},
     "output_type": "execute_result"
    }
   ],
   "source": [
    "m = RotateFromVec([0,1,1],np.pi/2.)\n",
    "q = RotMatrixToQuarternion(m)\n",
    "QuarternionToAxisAngle(q)"
   ]
  },
  {
   "cell_type": "code",
   "execution_count": 15,
   "metadata": {
    "ExecuteTime": {
     "end_time": "2020-08-03T15:45:22.541543Z",
     "start_time": "2020-08-03T15:45:22.536509Z"
    }
   },
   "outputs": [
    {
     "data": {
      "text/plain": [
       "<Task pending coro=<test() running at <ipython-input-15-2e9d42bb6be1>:3>>"
      ]
     },
     "execution_count": 15,
     "metadata": {},
     "output_type": "execute_result"
    },
    {
     "name": "stdout",
     "output_type": "stream",
     "text": [
      "hello\n",
      "world\n"
     ]
    }
   ],
   "source": [
    "import asyncio\n",
    "\n",
    "async def test():\n",
    "    print('hello')\n",
    "    await asyncio.sleep(1)\n",
    "    print('world')\n",
    "\n",
    "loop = asyncio.get_event_loop()\n",
    "loop.create_task(test())"
   ]
  },
  {
   "cell_type": "code",
   "execution_count": null,
   "metadata": {},
   "outputs": [],
   "source": []
  }
 ],
 "metadata": {
  "kernelspec": {
   "display_name": "Python 3",
   "language": "python",
   "name": "python3"
  },
  "language_info": {
   "codemirror_mode": {
    "name": "ipython",
    "version": 3
   },
   "file_extension": ".py",
   "mimetype": "text/x-python",
   "name": "python",
   "nbconvert_exporter": "python",
   "pygments_lexer": "ipython3",
   "version": "3.7.5"
  }
 },
 "nbformat": 4,
 "nbformat_minor": 4
}
