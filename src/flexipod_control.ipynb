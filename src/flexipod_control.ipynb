{
 "cells": [
  {
   "cell_type": "code",
   "execution_count": 1,
   "metadata": {
    "ExecuteTime": {
     "end_time": "2020-04-23T09:53:18.796551Z",
     "start_time": "2020-04-23T09:53:18.194390Z"
    }
   },
   "outputs": [],
   "source": [
    "import msgpack\n",
    "import open3d as o3d\n",
    "# import trimesh\n",
    "from IPython.display import display, Math\n",
    "import numpy as np\n",
    "import matplotlib.pyplot as plt\n",
    "plt.style.use('seaborn-whitegrid')\n",
    "%config InlineBackend.figure_format = 'retina'"
   ]
  },
  {
   "cell_type": "code",
   "execution_count": 2,
   "metadata": {
    "ExecuteTime": {
     "end_time": "2020-04-23T09:53:19.227980Z",
     "start_time": "2020-04-23T09:53:19.222970Z"
    }
   },
   "outputs": [],
   "source": [
    "# https://adaickalavan.github.io/programming/udp-socket-programming-in-cpp-and-python/\n",
    "# Python UDP Receiver\n",
    "\n",
    "import socket\n",
    "BUFFER_LEN = 200 #in bytes\n",
    "\n",
    "def initUDP(IP, port):\n",
    "    #Create a datagram socket\n",
    "    sock = socket.socket(socket.AF_INET, # Internet\n",
    "                         socket.SOCK_DGRAM) # UDP\n",
    "    #Enable immediate reuse of IP address\n",
    "    sock.setsockopt(socket.SOL_SOCKET,socket.SO_REUSEADDR,1)\n",
    "    #Bind the socket to the port\n",
    "    sock.bind((IP, port))\n",
    "    #Set a timeout so the socket does not block indefinitely when trying to receive data\n",
    "    sock.settimeout(1.5)\n",
    "\n",
    "    return sock\n",
    "\n",
    "def readUDP(sock):\n",
    "    data, addr = sock.recvfrom(BUFFER_LEN)\n",
    "    return data"
   ]
  },
  {
   "cell_type": "code",
   "execution_count": 3,
   "metadata": {
    "ExecuteTime": {
     "end_time": "2020-04-23T09:53:19.989531Z",
     "start_time": "2020-04-23T09:53:19.986539Z"
    }
   },
   "outputs": [],
   "source": [
    "ip_remote = \"127.0.0.1\"\n",
    "port_local = 32000\n",
    "port_remote = 32001\n",
    "remote_address = (ip_remote,port_remote)"
   ]
  },
  {
   "cell_type": "code",
   "execution_count": 10,
   "metadata": {
    "ExecuteTime": {
     "end_time": "2020-04-23T09:58:18.359128Z",
     "start_time": "2020-04-23T09:58:18.342123Z"
    }
   },
   "outputs": [
    {
     "name": "stdout",
     "output_type": "stream",
     "text": [
      "[11, 6.499999999999906, [0.2151199880877236, 0.9379999767747063, 0.798487112623547, -0.07515112046171543], [0.0, 0.0, 0.0, 0.0], [0.0, 0.0, 0.0]]\n"
     ]
    }
   ],
   "source": [
    "rec_sock = initUDP(ip_remote, port_local) # socket that receives udp packet\n",
    "try:\n",
    "    data_receive = readUDP(rec_sock)\n",
    "#     print(data_receive)\n",
    "    data_receive_unpacked = msgpack.unpackb(data_receive)\n",
    "    print(data_receive_unpacked)\n",
    "except socket.timeout:\n",
    "    print(\"rec_socket timed out!\")\n",
    "rec_sock.shutdown(socket.SHUT_RDWR) # shutdown the connection\n",
    "rec_sock.close()# close the connection"
   ]
  },
  {
   "cell_type": "code",
   "execution_count": 9,
   "metadata": {
    "ExecuteTime": {
     "end_time": "2020-04-23T09:58:15.093079Z",
     "start_time": "2020-04-23T09:58:15.089086Z"
    }
   },
   "outputs": [],
   "source": [
    "sen_sock = initUDP(ip_remote, port_local) # socket that send udp packet\n",
    "\n",
    "data_send = [12,2,[0,0,1,2]]\n",
    "data_send_packed = msgpack.packb(data_send)\n",
    "\n",
    "sen_sock.sendto(data_send_packed,remote_address)\n",
    "\n",
    "sen_sock.shutdown(socket.SHUT_RDWR) # shutdown the connection\n",
    "sen_sock.close()# close the connection"
   ]
  },
  {
   "cell_type": "code",
   "execution_count": 94,
   "metadata": {
    "ExecuteTime": {
     "end_time": "2020-04-23T08:29:05.442793Z",
     "start_time": "2020-04-23T08:29:05.439793Z"
    }
   },
   "outputs": [
    {
     "data": {
      "text/plain": [
       "b'\\x92\\x01\\x94\\x00\\x00\\x01\\x02'"
      ]
     },
     "execution_count": 94,
     "metadata": {},
     "output_type": "execute_result"
    }
   ],
   "source": [
    "data_send_packed"
   ]
  },
  {
   "cell_type": "code",
   "execution_count": 86,
   "metadata": {
    "ExecuteTime": {
     "end_time": "2020-04-23T08:14:02.042676Z",
     "start_time": "2020-04-23T08:14:02.031673Z"
    }
   },
   "outputs": [],
   "source": [
    "from scipy.spatial.transform import Rotation as R\n",
    "def RotateFromVec(vec, angle):\n",
    "    vec = np.asarray(vec, dtype=np.float64)\n",
    "    vec_norm = np.linalg.norm(vec)\n",
    "    if vec_norm != 1:\n",
    "        vec = vec/vec_norm\n",
    "    vec *= angle\n",
    "    h = np.eye(4)\n",
    "    h[:3, :3] = R.from_rotvec(vec).as_dcm()\n",
    "    return h       \n",
    "\n",
    "# https://www.euclideanspace.com/maths/geometry/rotations/conversions/matrixToQuaternion/\n",
    "def RotMatrixToQuarternion(m):\n",
    "    \"\"\"\n",
    "    m is a 3x3 rotation matrix or 4x4 homogenious transformation matrix\n",
    "    \"\"\"\n",
    "    w = np.sqrt(1+m[0,0]+m[1,1]+m[2,2])/2.0\n",
    "    w4 = 4*w\n",
    "    x = (m[2,1]-m[1,2])/w4\n",
    "    y = (m[0,2]-m[2,0])/w4\n",
    "    z = (m[1,0]-m[0,1])/w4\n",
    "    return np.array([w,x,y,z])\n",
    "\n",
    "# https://www.euclideanspace.com/maths/geometry/rotations/conversions/quaternionToAngle/index.htm\n",
    "def QuarternionToAxisAngle(q):\n",
    "    if(q[0]>1):\n",
    "        q = q/np.linalg.norm(q)\n",
    "    angle = 2.0 * np.arccos(q[0])\n",
    "    s = np.sqrt(1-q[0]**2)\n",
    "    if(s<1e-8):\n",
    "        return q[1:],angle\n",
    "    else:\n",
    "        return q[1:]/s,angle"
   ]
  },
  {
   "cell_type": "code",
   "execution_count": 87,
   "metadata": {
    "ExecuteTime": {
     "end_time": "2020-04-23T08:14:02.577559Z",
     "start_time": "2020-04-23T08:14:02.571555Z"
    }
   },
   "outputs": [
    {
     "data": {
      "text/plain": [
       "(array([0.        , 0.70710678, 0.70710678]), 1.5707963267948966)"
      ]
     },
     "execution_count": 87,
     "metadata": {},
     "output_type": "execute_result"
    }
   ],
   "source": [
    "m = RotateFromVec([0,1,1],np.pi/2.)\n",
    "q = RotMatrixToQuarternion(m)\n",
    "QuarternionToAxisAngle(q)"
   ]
  },
  {
   "cell_type": "code",
   "execution_count": null,
   "metadata": {},
   "outputs": [],
   "source": []
  }
 ],
 "metadata": {
  "kernelspec": {
   "display_name": "Python 3",
   "language": "python",
   "name": "python3"
  },
  "language_info": {
   "codemirror_mode": {
    "name": "ipython",
    "version": 3
   },
   "file_extension": ".py",
   "mimetype": "text/x-python",
   "name": "python",
   "nbconvert_exporter": "python",
   "pygments_lexer": "ipython3",
   "version": "3.7.5"
  }
 },
 "nbformat": 4,
 "nbformat_minor": 4
}
