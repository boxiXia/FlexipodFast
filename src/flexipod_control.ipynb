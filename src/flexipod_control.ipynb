{
 "cells": [
  {
   "cell_type": "code",
   "execution_count": 1,
   "metadata": {
    "ExecuteTime": {
     "end_time": "2020-11-25T10:40:47.698358Z",
     "start_time": "2020-11-25T10:40:45.580868Z"
    }
   },
   "outputs": [
    {
     "name": "stdout",
     "output_type": "stream",
     "text": [
      "defaultdict(None, {'header': 0, 't': 1, 'joint_pos': 2, 'joint_vel': 3, 'actuation': 4, 'orientation': 5, 'ang_vel': 6, 'com_acc': 7, 'com_vel': 8, 'com_pos': 9})\n",
      "defaultdict(None, {'header': 0, 't': 1, 'cmd': 2})\n",
      "('t', 'joint_pos', 'joint_vel', 'actuation', 'orientation', 'ang_vel', 'com_acc', 'com_vel', 'com_pos', 'cmd')\n"
     ]
    }
   ],
   "source": [
    "from enum import IntEnum  # to find which correspond to what\n",
    "import socket\n",
    "import msgpack\n",
    "import open3d as o3d\n",
    "# import trimesh\n",
    "from IPython.display import display, clear_output, display_svg, display_pretty\n",
    "import numpy as np\n",
    "import matplotlib.pyplot as plt\n",
    "import time\n",
    "import threading\n",
    "import copy\n",
    "import numba\n",
    "import ipywidgets.widgets as widgets\n",
    "import ipywidgets\n",
    "from collections import defaultdict\n",
    "\n",
    "plt.style.use('seaborn-whitegrid')\n",
    "%config InlineBackend.figure_format = 'retina'\n",
    "\n",
    "# %autoawait off\n",
    "\n",
    "# import asyncio\n",
    "# # # !pip install nest-asyncio\n",
    "# import nest_asyncio\n",
    "# # nest_asyncio.apply()\n",
    "\n",
    "###########################################\n",
    "\n",
    "PI = np.pi\n",
    "TWO_PI = 2*np.pi\n",
    "\n",
    "# UDP header constant\n",
    "UDP_TERMINATE = -1\n",
    "UDP_RESET = 15\n",
    "UDP_ROBOT_STATE_REPORT = 14\n",
    "UDP_MOTOR_VEL_COMMEND = 13\n",
    "UDP_MOTOR_POS_COMMEND = 12\n",
    "\n",
    "\n",
    "class UdpHeader(IntEnum):\n",
    "    TERMINATE = UDP_TERMINATE\n",
    "    RESET = UDP_RESET\n",
    "    ROBOT_STATE_REPORT = UDP_ROBOT_STATE_REPORT\n",
    "    MOTOR_SPEED_COMMEND = UDP_MOTOR_VEL_COMMEND\n",
    "    MOTOR_POS_COMMEND = UDP_MOTOR_POS_COMMEND\n",
    "\n",
    "\n",
    "ip_local = \"127.0.0.1\"\n",
    "port_local = 32000\n",
    "\n",
    "ip_remote = \"127.0.0.1\"\n",
    "port_remote = 32001\n",
    "\n",
    "BUFFER_LEN = 512  # in bytes\n",
    "\n",
    "local_address = (ip_local, port_local)\n",
    "remote_address = (ip_remote, port_remote)\n",
    "\n",
    "packer = msgpack.Packer(use_single_float=True, use_bin_type=True)\n",
    "\n",
    "\n",
    "# neam of command message\n",
    "CMD_NAME = (\"header\", \"t\", \"cmd\")\n",
    "\n",
    "# name of the returned message\n",
    "REC_NAME = (\"header\",\n",
    "            \"t\",           # simulation time [s]\n",
    "            \"joint_pos\",   # joint angle [rad]\n",
    "            \"joint_vel\",   # joint velocity [rad/s]\n",
    "            \"actuation\",   # joint actuation [-1,1]\n",
    "            \"orientation\", # base link (body) orientation\n",
    "            \"ang_vel\",     # base link (body) angular velocity [rad/s]\n",
    "            \"com_acc\",     # base link (body) acceleration\n",
    "            \"com_vel\",     # base link (body) velocity\n",
    "            \"com_pos\"      # base link (body) position\n",
    "            )\n",
    "\n",
    "ID =defaultdict(None,{name: k  for k,name in enumerate(REC_NAME)})\n",
    "\n",
    "CMD_ID = defaultdict(None,{name: k  for k,name in enumerate(CMD_NAME)})\n",
    "\n",
    "print(ID)\n",
    "print(CMD_ID)\n",
    "\n",
    "COMBINED_NAME = tuple(list(REC_NAME)[1:]+[\"cmd\"])\n",
    "print(COMBINED_NAME)\n",
    "\n",
    "def rePack(d0,a):\n",
    "    return d0[1:]+[a]"
   ]
  },
  {
   "cell_type": "markdown",
   "metadata": {},
   "source": [
    "### Create a UDP socket"
   ]
  },
  {
   "cell_type": "code",
   "execution_count": 2,
   "metadata": {
    "ExecuteTime": {
     "end_time": "2020-11-25T10:40:47.737368Z",
     "start_time": "2020-11-25T10:40:47.733366Z"
    },
    "deletable": false,
    "editable": false
   },
   "outputs": [],
   "source": [
    "# https://adaickalavan.github.io/programming/udp-socket-programming-in-cpp-and-python/\n",
    "# Python UDP Receiver\n",
    "#Create a datagram socket\n",
    "sock = socket.socket(socket.AF_INET, # Internet\n",
    "                     socket.SOCK_DGRAM) # UDP\n",
    "#Enable/disable immediate reuse of IP address\n",
    "sock.setsockopt(socket.SOL_SOCKET,socket.SO_REUSEADDR,0)\n",
    "#Set a timeout so the socket does not block indefinitely when trying to receive data\n",
    "sock.settimeout(1)\n",
    "#Bind the socket to the port\n",
    "sock.bind(local_address)\n",
    "# sock.connect(remote_address)\n",
    "\n",
    "# for closing connection:\n",
    "# sock.shutdown(socket.SHUT_RDWR) # shutdown the connection\n",
    "# sock.close()# close the connection"
   ]
  },
  {
   "cell_type": "markdown",
   "metadata": {},
   "source": [
    "### Start the simulation"
   ]
  },
  {
   "cell_type": "code",
   "execution_count": 3,
   "metadata": {
    "ExecuteTime": {
     "end_time": "2020-11-25T10:40:48.749591Z",
     "start_time": "2020-11-25T10:40:48.109418Z"
    }
   },
   "outputs": [],
   "source": [
    "# to start the simulation\n",
    "import subprocess\n",
    "import sys\n",
    "\n",
    "# def run_simulation():\n",
    "#     async def run_simulation_helfper():\n",
    "#         return subprocess.Popen([\"../build/flexipod.exe\"])\n",
    "#     asyncio.create_task(run_simulation_helfper())\n",
    "# run_simulation()\n",
    "\n",
    "## ref: https://stackoverflow.com/questions/16071866/non-blocking-subprocess-call\n",
    "def run_simulation():\n",
    "    task = subprocess.Popen([\"../build/flexipod.exe\"])\n",
    "    time.sleep(0.6)\n",
    "    return task\n",
    "    \n",
    "# sim = run_simulation()\n",
    "# sim.terminate()\n",
    "\n",
    "# import psutil # conda install psutil\n",
    "# \"flexipod.exe\" in (p.name() for p in psutil.process_iter())"
   ]
  },
  {
   "cell_type": "markdown",
   "metadata": {},
   "source": [
    "### test receiving udp packet"
   ]
  },
  {
   "cell_type": "code",
   "execution_count": 4,
   "metadata": {
    "ExecuteTime": {
     "end_time": "2020-11-25T10:40:59.339630Z",
     "start_time": "2020-11-25T10:40:59.330617Z"
    }
   },
   "outputs": [
    {
     "name": "stdout",
     "output_type": "stream",
     "text": [
      "header      :+14.00\n",
      "t           :+72.49\n",
      "joint_pos   : +1.57, +1.57, -1.57, -1.57\n",
      "joint_vel   : -0.00, +0.00, -0.00, +0.00\n",
      "actuation   : +0.00, -0.00, +0.00, -0.00\n",
      "orientation : +1.00, -0.00, +0.00, +0.00, +1.00, +0.00\n",
      "ang_vel     : +0.00, -0.00, -0.00\n",
      "com_acc     : -0.00, +0.00, -0.00\n",
      "com_vel     : -0.00, +0.00, -0.00\n",
      "com_pos     : -0.00, +0.00, +0.14\n",
      "\n",
      "#--- executed in 0.23 ms ---#\n"
     ]
    }
   ],
   "source": [
    "def item_to_String(key,value):\n",
    "    try:\n",
    "        return f\"{key:<12s}:{','.join(f'{k:>+6.2f}' for k in value)}\\n\"\n",
    "    except:\n",
    "        return f\"{key:<12s}:{value:>+6.2f}\\n\"\n",
    "\n",
    "def test_udp_receive():\n",
    "    s = time.perf_counter()\n",
    "    try:\n",
    "        data = sock.recv(BUFFER_LEN)\n",
    "        data_unpacked = msgpack.unpackb(data)\n",
    "        str_data = \"\".join([item_to_String(n,d) for n,d in zip(REC_NAME,data_unpacked)])\n",
    "        print(str_data)\n",
    "\n",
    "    except Exception as e:\n",
    "        print(e)\n",
    "        pass\n",
    "    # sock.shutdown(socket.SHUT_RDWR) # shutdown the connection\n",
    "    # sock.close()# close the connection\n",
    "    elapsed = time.perf_counter() - s\n",
    "    print(f\"#--- executed in {elapsed*1000:0.2f} ms ---#\")\n",
    "    return data_unpacked\n",
    "data = test_udp_receive()\n",
    "str_data = \"\".join([item_to_String(n,d) for n,d in zip(REC_NAME,data)])"
   ]
  },
  {
   "cell_type": "code",
   "execution_count": 5,
   "metadata": {
    "ExecuteTime": {
     "end_time": "2020-11-25T10:41:00.249830Z",
     "start_time": "2020-11-25T10:41:00.241828Z"
    }
   },
   "outputs": [
    {
     "data": {
      "text/plain": [
       "0.0544"
      ]
     },
     "execution_count": 5,
     "metadata": {},
     "output_type": "execute_result"
    }
   ],
   "source": [
    "sys.getsizeof(data)*400/1e6"
   ]
  },
  {
   "cell_type": "code",
   "execution_count": 6,
   "metadata": {
    "ExecuteTime": {
     "end_time": "2020-11-25T10:41:00.653250Z",
     "start_time": "2020-11-25T10:41:00.649234Z"
    }
   },
   "outputs": [],
   "source": [
    "speed_command = [0.,0.,0.,0.]\n",
    "data_combined = rePack(data,speed_command)\n",
    "\n",
    "#  # create a msgpack packer object\n",
    "# packer = msgpack.Packer(use_bin_type=True,use_single_float=False)\n",
    "# with open(\"../data/test.mp\", \"wb+\") as file:\n",
    "    \n",
    "#     s = time.perf_counter()\n",
    "    \n",
    "#     for i in range(100000):\n",
    "#         file.write(packer.pack(data_combined))\n",
    "        \n",
    "#     elapsed = time.perf_counter() - s\n",
    "#     print(f\"#--- executed in {elapsed*1000:0.2f} ms ---#\") "
   ]
  },
  {
   "cell_type": "code",
   "execution_count": 7,
   "metadata": {
    "ExecuteTime": {
     "end_time": "2020-11-25T10:41:00.936297Z",
     "start_time": "2020-11-25T10:41:00.931296Z"
    }
   },
   "outputs": [
    {
     "data": {
      "text/plain": [
       "[0.0]"
      ]
     },
     "execution_count": 7,
     "metadata": {},
     "output_type": "execute_result"
    }
   ],
   "source": [
    "[speed_command[CMD_ID[\"cmd\"]]]"
   ]
  },
  {
   "cell_type": "code",
   "execution_count": 9,
   "metadata": {
    "ExecuteTime": {
     "end_time": "2020-11-25T10:41:01.869531Z",
     "start_time": "2020-11-25T10:41:01.865531Z"
    }
   },
   "outputs": [],
   "source": [
    "# https://github.com/jupyter-widgets/ipywidgets/blob/3bd75276370271e43ca5aa38d59a1848dfb65fb7/packages/controls/css/widgets-base.css"
   ]
  },
  {
   "cell_type": "code",
   "execution_count": 10,
   "metadata": {
    "ExecuteTime": {
     "end_time": "2020-11-25T10:41:02.865767Z",
     "start_time": "2020-11-25T10:41:02.860766Z"
    }
   },
   "outputs": [
    {
     "data": {
      "text/html": [
       "<style>\n",
       ".widget-textarea textarea {\n",
       "    color:black;\n",
       "    border:clear;\n",
       "}\n",
       ".widget-textarea textarea:disabled {\n",
       "  opacity: 1;\n",
       "}\n",
       "</style>\n"
      ],
      "text/plain": [
       "<IPython.core.display.HTML object>"
      ]
     },
     "metadata": {},
     "output_type": "display_data"
    }
   ],
   "source": [
    "%%html\n",
    "<style>\n",
    ".widget-textarea textarea {\n",
    "    color:black;\n",
    "    border:clear;\n",
    "}\n",
    ".widget-textarea textarea:disabled {\n",
    "  opacity: 1;\n",
    "}\n",
    "</style>"
   ]
  },
  {
   "cell_type": "code",
   "execution_count": 11,
   "metadata": {
    "ExecuteTime": {
     "end_time": "2020-11-25T10:41:06.485565Z",
     "start_time": "2020-11-25T10:41:06.482564Z"
    }
   },
   "outputs": [],
   "source": [
    "# text_widget = widgets.Textarea(\n",
    "#     value=str_data,\n",
    "#     description='',\n",
    "#     disabled=True,\n",
    "#     continuous_update=False,\n",
    "#     layout={'border': 'clear',\n",
    "#             'flex-flow': 'flex-wrap',\n",
    "#             'width': '100%', 'height': '250px', 'max_width': '500px',\n",
    "#             'margin': '0px 0px 0px 0px' }\n",
    "# )\n",
    "# display(text_widget)\n",
    "# s = time.perf_counter()\n",
    "# text_widget.value=\"\".join([item_to_String(n,d) for n,d in zip(REC_NAME,data)])\n",
    "# elapsed = time.perf_counter() - s\n",
    "# print(f\"#--- executed in {elapsed*1000:0.2f} ms ---#\")"
   ]
  },
  {
   "cell_type": "markdown",
   "metadata": {},
   "source": [
    "### test sending udp packet"
   ]
  },
  {
   "cell_type": "code",
   "execution_count": 12,
   "metadata": {
    "ExecuteTime": {
     "end_time": "2020-11-25T10:41:07.211874Z",
     "start_time": "2020-11-25T10:41:07.209873Z"
    }
   },
   "outputs": [],
   "source": [
    "# s = time.perf_counter()\n",
    "# handle.update(str_data)\n",
    "# elapsed = time.perf_counter() - s\n",
    "# print(f\"#--- executed in {elapsed*1000:0.2f} ms ---#\")"
   ]
  },
  {
   "cell_type": "code",
   "execution_count": 13,
   "metadata": {
    "ExecuteTime": {
     "end_time": "2020-11-25T10:41:07.727722Z",
     "start_time": "2020-11-25T10:41:07.722720Z"
    },
    "scrolled": true
   },
   "outputs": [
    {
     "name": "stdout",
     "output_type": "stream",
     "text": [
      "[15, 1606300867.7247214, [0, 0, 0, 0]]\n",
      "b'\\x93\\x0f\\xcaN\\xbf|j\\x94\\x00\\x00\\x00\\x00'\n"
     ]
    }
   ],
   "source": [
    "# sen_sock = initUDP(ip_remote, port_local) # socket that send udp packet\n",
    "\n",
    "data_send = [UDP_RESET,time.time(),[0,0,0,0]]\n",
    "# data_send = [UDP_MOTOR_SPEED_COMMEND,time.time(),[2,2,-2,-2]]\n",
    "# data_send = [UDP_TERMINATE,time.time(),[0,0,0,0]]\n",
    "\n",
    "# data_send = [0.5,0.0,1.0,2.0]\n",
    "# data_send = [1,2,3,4]\n",
    "\n",
    "# data_send = 20\n",
    "\n",
    "data_send_packed = packer.pack(data_send) # https://msgpack-python.readthedocs.io/en/latest/api.html#msgpack.Packer\n",
    "# data_send_packed = msgpack.packb(data_send)\n",
    "\n",
    "num_bytes_send = sock.sendto(data_send_packed,remote_address)\n",
    "\n",
    "print(data_send)\n",
    "print(data_send_packed)"
   ]
  },
  {
   "cell_type": "code",
   "execution_count": 14,
   "metadata": {
    "ExecuteTime": {
     "end_time": "2020-11-25T10:41:08.260513Z",
     "start_time": "2020-11-25T10:41:08.145487Z"
    }
   },
   "outputs": [],
   "source": [
    "w_max = round(600.0/60.0*np.pi*2)\n",
    "pos_max = np.pi\n",
    "act_max = 1.0  # actuation\n",
    "\n",
    "style_orientation = 'horizontal'\n",
    "JOINT_NAME = (\"frontLeft\", \"backLeft\", \"frontRight\", \"backRight\")\n",
    "\n",
    "slider_layout = ipywidgets.Layout(\n",
    "    width='98%', height='12px', margin='0px 0px 0px 0px')\n",
    "# slider_layout = ipywidgets.Layout(width='20px',height=\"140px\")\n",
    "\n",
    "\n",
    "def float_slider_template(min_max, step=0.01, value=0, disabled=True, layout=slider_layout):\n",
    "    #     w =  widgets.FloatSlider(min=min_max[0], max=min_max[1], step=step, value=0,readout_format='.2f',\n",
    "    #                         continuous_update=False, description=\"\",orientation=style_orientation,\n",
    "    #                         disabled=disabled, layout=layout)\n",
    "    w = widgets.FloatProgress(min=min_max[0], max=min_max[1], step=step, value=0,\n",
    "                              continuous_update=False, description=\"\", orientation=style_orientation,\n",
    "                              disabled=disabled, layout=layout)\n",
    "    w.style.handle_color = 'red'\n",
    "    return w\n",
    "\n",
    "\n",
    "def creat_joint_box(joint_widgets):\n",
    "    return widgets.GridBox(joint_widgets, layout=ipywidgets.Layout(\n",
    "        width='100%', height='100%',\n",
    "        #             grid_template_columns='repeat(2, 50%)',\n",
    "        grid_template_columns='100%',\n",
    "        grid_template_rows='auto',\n",
    "        grid_gap='0px 0px',\n",
    "        margin='0px 0px 0px 0px',\n",
    "        align_items=\"flex-start\", justify_items='flex-start',\n",
    "        align_content=\"flex-start\", justify_content='flex-start',\n",
    "        border='clear'))\n",
    "\n",
    "\n",
    "joint_vel_widgets = [float_slider_template(\n",
    "    (-w_max, w_max)) for n in JOINT_NAME]\n",
    "joint_pos_widgets = [float_slider_template(\n",
    "    (-pos_max, pos_max)) for n in JOINT_NAME]\n",
    "joint_cmd_widgets = [float_slider_template(\n",
    "    (-w_max, w_max)) for n in JOINT_NAME]  # velocity command\n",
    "joint_act_widgets = [float_slider_template(\n",
    "    (-act_max, act_max)) for n in JOINT_NAME]\n",
    "\n",
    "joint_vel_box = creat_joint_box(\n",
    "    [widgets.Label(\"Joint vel [rad/s]\")]+joint_vel_widgets)\n",
    "joint_pos_box = creat_joint_box(\n",
    "    [widgets.Label(\"Joint pos [rad]\")]+joint_pos_widgets)\n",
    "joint_cmd_box = creat_joint_box(\n",
    "    [widgets.Label(\"joint vel command [rad/s]\")]+joint_cmd_widgets)\n",
    "joint_act_box = creat_joint_box(\n",
    "    [widgets.Label(\"joint actuation []\")]+joint_act_widgets)\n",
    "\n",
    "joint_box = widgets.GridBox([joint_vel_box, joint_pos_box, joint_cmd_box, joint_act_box], layout=ipywidgets.Layout(\n",
    "    width='100%', height='100%', max_width='500px',\n",
    "    grid_template_columns='repeat(2, 50%)',\n",
    "    grid_template_rows='auto',\n",
    "    grid_gap='0px 0px',\n",
    "    border='clear'))\n",
    "# joint_box"
   ]
  },
  {
   "cell_type": "code",
   "execution_count": 15,
   "metadata": {
    "ExecuteTime": {
     "end_time": "2020-11-25T10:41:08.752798Z",
     "start_time": "2020-11-25T10:41:08.685793Z"
    },
    "scrolled": false
   },
   "outputs": [],
   "source": [
    "layout_b = ipywidgets.Layout(width='100px')  # button layout\n",
    "\n",
    "# stop button\n",
    "button_stop = widgets.ToggleButton(\n",
    "    value=False,\n",
    "    description='stop',\n",
    "    icon='stop',\n",
    "    button_style='warning',\n",
    "    layout=layout_b)\n",
    "\n",
    "# restart button\n",
    "button_restart = widgets.ToggleButton(\n",
    "    value=False,\n",
    "    description='restart',\n",
    "    icon='refresh',\n",
    "    button_style='warning',\n",
    "    layout=layout_b)\n",
    "\n",
    "# reset button\n",
    "button_record = widgets.ToggleButton(\n",
    "    value=False,\n",
    "    description='record',\n",
    "    icon='video-camera',\n",
    "    button_style='success',\n",
    "    layout=layout_b)\n",
    "\n",
    "control_slider_layout = ipywidgets.Layout(width='400px')\n",
    "\n",
    "speed_widget = widgets.FloatSlider(min=-int(w_max/2.5), max=int(w_max/2.5), step=1, value=0.0,\n",
    "                                   continuous_update=False, description=\"Speed\",\n",
    "                                   layout=control_slider_layout)\n",
    "speed_widget.style.description_width = '50px'\n",
    "\n",
    "s_base_widget = widgets.FloatSlider(min=0.1, max=0.9, step=.02, value=0.6,\n",
    "                                    continuous_update=False, description=\"s base\",\n",
    "                                    layout=control_slider_layout)\n",
    "s_base_widget.style.description_width = '50px'\n",
    "\n",
    "s_offset_widget = widgets.FloatSlider(min=-0.1, max=0.1, step=.005, value=0,\n",
    "                                      continuous_update=False, description=\"s offset\",\n",
    "                                      layout=control_slider_layout, readout_format='.3f')\n",
    "s_offset_widget.style.description_width = '50px'\n",
    "\n",
    "gait_widget = widgets.ToggleButtons(\n",
    "    options=[('rotate', 0), ('pace', 1), ('bound', 2),\n",
    "             ('crawl', 3), ('random', 4)],\n",
    "    description='gait:',\n",
    "    disabled=False,\n",
    "    button_style='',  # 'success', 'info', 'warning', 'danger' or ''\n",
    "    tooltips=['rotation', 'pace gait',\n",
    "              'bounding gait', 'crawl', 'random movement'],\n",
    "    icons=[]\n",
    ")\n",
    "gait_widget.style.button_width = '80px'\n",
    "gait_widget.style.description_width = '30px'\n",
    "\n",
    "text_widget = widgets.Textarea(\n",
    "#     value=str_data,\n",
    "    value=\"\",\n",
    "    description='',\n",
    "    disabled=True,\n",
    "    continuous_update=False,\n",
    "    layout={'border': 'clear',\n",
    "            'flex-flow': 'flex-wrap',\n",
    "            'width': '100%', 'height': '250px', 'max_width': '500px',\n",
    "            'margin': '0px 0px 0px 0px'}\n",
    ")\n",
    "\n",
    "control_ui = widgets.VBox(\n",
    "    (gait_widget, speed_widget, s_base_widget, s_offset_widget))\n",
    "\n",
    "buttons_ui = widgets.HBox((button_stop, button_restart, button_record))\n",
    "buttons_ui.layout.align_items = 'flex-start'\n",
    "\n",
    "app = widgets.VBox([joint_box, text_widget, control_ui,\n",
    "                    buttons_ui], layout={'border': 'clear', 'width': '100%', 'max_width': '500px',})\n",
    "# display(app)"
   ]
  },
  {
   "cell_type": "code",
   "execution_count": 67,
   "metadata": {
    "ExecuteTime": {
     "end_time": "2020-11-28T16:08:58.501076Z",
     "start_time": "2020-11-28T16:08:57.427835Z"
    }
   },
   "outputs": [
    {
     "data": {
      "text/plain": [
       "[<matplotlib.lines.Line2D at 0x14eded64f70>]"
      ]
     },
     "execution_count": 67,
     "metadata": {},
     "output_type": "execute_result"
    },
    {
     "data": {
      "image/png": "[encoded data removed]",
      "text/plain": [
       "<Figure size 600x200 with 1 Axes>"
      ]
     },
     "metadata": {
      "image/png": {
       "height": 188,
       "width": 509
      }
     },
     "output_type": "display_data"
    }
   ],
   "source": [
    "from numba import int32, float64,boolean    # import the types\n",
    "from numba.experimental import jitclass\n",
    "from numpy.linalg import norm\n",
    "from numpy import expand_dims as NewDim\n",
    "import numba\n",
    "\n",
    "spec_RandomJointMotion = [\n",
    "    (\"w\",float64),             # average angular velocity [rad/s]\n",
    "    (\"s\",float64),             # stance ratio = stance_time/cycle_time [unitless]\n",
    "    (\"wmax\",float64),          # max angular velocity [rad]\n",
    "    (\"t\",float64),             # time at current step\n",
    "    (\"t_switch\",float64),      # time at previous switch time\n",
    "    (\"pos\",float64),           # position [rad]\n",
    "    \n",
    "]\n",
    "#############################################\n",
    "@jitclass(spec_RandomJointMotion)\n",
    "class RandomJointMotion():\n",
    "    \"\"\"\n",
    "    generate a random joint motion\n",
    "    \"\"\"\n",
    "    def __init__(this, w, t=0.0):\n",
    "        this.t = t # time at current step\n",
    "        this.t_switch = t\n",
    "        this.wmax = np.abs(w)\n",
    "        this.w = np.random.uniform(-this.wmax,this.wmax)\n",
    "        this.pos = 0\n",
    "    def UpdateStanceRatio(this,s):\n",
    "        pass\n",
    "    def GetPos(this, t,w=None,s=None):\n",
    "        if w is not None:\n",
    "            this.wmax = np.abs(w)\n",
    "        dt = t - this.t # differenct in raw time\n",
    "        this.t=t\n",
    "        if t-this.t_switch>np.random.uniform(0.5,2):\n",
    "            this.t_switch = t\n",
    "            this.w = np.random.uniform(-this.wmax,this.wmax)\n",
    "        this.pos = (this.pos+this.w*dt)%TWO_PI\n",
    "        return this.pos\n",
    "    def UpdateAngularVelocity(this,t,w):        \n",
    "        this.wmax = w # TODO direction\n",
    "        \n",
    "random_gait = [ # rotate gait\n",
    "    RandomJointMotion(0.1),# front left\n",
    "    RandomJointMotion(0.1), # back left\n",
    "    RandomJointMotion(0.1), # back right\n",
    "    RandomJointMotion(0.1)] # front right\n",
    "\n",
    "t_arr = np.linspace(0,10,5000)\n",
    "w_arr = 8*PI*np.ones_like(t_arr)\n",
    "s_arr = np.linspace(0.5,0.5,len(t_arr))\n",
    "\n",
    "angles = [np.array([g.GetPos(t,w,s) for t,w,s in zip(t_arr,w_arr,s_arr)]) for g in random_gait]\n",
    "plt.figure(figsize=(6,2),dpi=100)\n",
    "plt.plot(t_arr,angles[0]/PI)\n",
    "# for a in angles:\n",
    "#     plt.plot(t_arr,a)"
   ]
  },
  {
   "cell_type": "code",
   "execution_count": 68,
   "metadata": {
    "ExecuteTime": {
     "end_time": "2020-11-28T16:08:59.946024Z",
     "start_time": "2020-11-28T16:08:58.504079Z"
    }
   },
   "outputs": [],
   "source": [
    "PI = np.pi\n",
    "TWO_PI = 2*np.pi\n",
    "spec_GaitTemplate = [\n",
    "    (\"ot\",float64),            # normalized time offset [0-1], [unitless]\n",
    "    (\"w\",float64),             # average angular velocity [rad/s]\n",
    "    (\"s\",float64),             # stance ratio = stance_time/cycle_time [unitless]\n",
    "    (\"ws\",float64),            # w_stance, (time normalized) average angular velocity of stance phase [rad]\n",
    "    (\"wa\",float64),            # w_air, (time normalized) average angular velocity of air phase [rad]\n",
    "    (\"c\",float64),             # contact_angle [rad]\n",
    "    (\"p_stance_mid\",float64),  # angle at the middle of the stance phase [rad]\n",
    "    (\"p_stance_low\",float64),  # angle at the start of the stance phase [rad]\n",
    "    (\"p_stance_high\",float64), # angle at the end of the stance phase [rad]\n",
    "    (\"t\",float64),             # time at current step\n",
    "    (\"tc\",float64),            # converted time at current step [0,1]\n",
    "    (\"d\",float64),             # direction of the time flow\n",
    "    (\"pos\",float64),           # position [rad]\n",
    "]\n",
    "#############################################\n",
    "@jitclass(spec_GaitTemplate)\n",
    "class GaitTemplate():\n",
    "    \"\"\"\n",
    "  trotting gait\n",
    "  @author: HonboZhu, BoxiXia\n",
    "  \"\"\"\n",
    "    def __init__(this,\n",
    "                 ot = 0, # normalized time offset [0-1], [unitless]\n",
    "                 w = 0.1*np.pi, # average angular velocity [rad/s]\n",
    "                 s = 0.5, # stance ratio = stance_time/cycle_time [unitless]\n",
    "                 c = 120/180*np.pi, # contact_angle [rad]\n",
    "                 p_stance_mid = 1.*np.pi,# angle at the middle of the stance phase [rad]\n",
    "                 t =0, # time at current step\n",
    "                 d = 1.0 # direction of the time flow\n",
    "                ):\n",
    "        this.ot = ot # normalized time offset [0-1], [unitless]\n",
    "        assert(0<=this.ot<=1)\n",
    "        this.w = w # average angular velocity [rad/s]\n",
    "        this.c = c # contact_angle [rad]\n",
    "        this.p_stance_mid = p_stance_mid       \n",
    "        this.p_stance_low = p_stance_mid - this.c/2.0\n",
    "        this.p_stance_high = p_stance_mid + this.c/2.0\n",
    "        this.d = d # direction of the time flow\n",
    "        this.t = t # time at current step\n",
    "        this.tc = this.ot # converted time [0-1,unitless]\n",
    "                \n",
    "        this.s = s # stance ratio = stance_time/cycle_time [unitless]\n",
    "        this.ws = this.c/(this.s) # w_stance, (time normalized) average angular velocity of stance phase [rad]\n",
    "        this.wa = (TWO_PI-this.c)/(1-this.s) # w_air, (time normalized) average angular velocity of air phase [rad]\n",
    "        \n",
    "#         print(np.rad2deg(this.p_stance_low),np.rad2deg(p_stance_mid),np.rad2deg(this.p_stance_high))\n",
    "        \n",
    "        # get the initial position\n",
    "        if this.ot<this.s: # if normalized time offset < stance ratio\n",
    "            this.pos = this.p_stance_low + this.c/this.s*this.ot\n",
    "        else:\n",
    "            this.pos = this.p_stance_low + this.c + (TWO_PI-this.c)/(1-this.s)*(this.ot-this.s)\n",
    "\n",
    "    def UpdateStanceRatio(this,s):\n",
    "        \"\"\"\n",
    "        update the stance ratio s (=: stance_time/cycle_time [unitless])\n",
    "        \"\"\"\n",
    "        ws = this.c/(s) # w_stance, (time normalized) average angular velocity of stance phase [rad]\n",
    "        wa = (TWO_PI-this.c)/(1-s) # w_air, (time normalized) average angular velocity of air phase [rad]\n",
    "        # update the converted (normalized) time this.tc\n",
    "        this.s = s # stance ratio = stance_time/cycle_time [unitless]\n",
    "        this.ws = ws\n",
    "        this.wa = wa\n",
    "        \n",
    "#         if this.tc<this.s: # 0-s\n",
    "#             this.pos = (this.p_stance_low + this.ws*this.tc)%TWO_PI\n",
    "#         else: # s-1\n",
    "#             this.pos = (this.p_stance_low + this.c+this.wa*(this.tc-this.s))%TWO_PI\n",
    "            \n",
    "    def GetPos(this, t,w=None,s=None):\n",
    "        \"\"\"\n",
    "        return the position [0,2pi] [rad] given the current time [s]\n",
    "        \"\"\"\n",
    "        if w is not None:\n",
    "            this.w = w\n",
    "        if (s is not None) and s!=this.s:\n",
    "            this.UpdateStanceRatio(s)\n",
    "        dt = t - this.t # differenct in raw time\n",
    "        this.t = t\n",
    "        dnt = this.d*this.w*dt/TWO_PI # normalized phase difference [0-1][unitless]\n",
    "        this.tc = (this.tc + dnt)%1.0 # # current converted time [0-1,unitless]\n",
    "        if this.tc<0:\n",
    "            this.tc= this.tc+1.0\n",
    "        \n",
    "        # todo sign\n",
    "        if this.tc<this.s: # 0-s\n",
    "            this.pos = (this.p_stance_low + this.ws*this.tc)%TWO_PI\n",
    "        else: # s-1\n",
    "            this.pos = (this.p_stance_low + this.c+this.wa*(this.tc-this.s))%TWO_PI\n",
    "        return this.pos\n",
    "\n",
    "    def UpdateAngularVelocity(this,t,w):        \n",
    "        this.w = w # TODO direction  \n",
    "    \n",
    "rotation_gait = [ # rotate gait\n",
    "    GaitTemplate(0,p_stance_mid = 1./2.*np.pi,c = 145./180*PI,d=1.0),# front left\n",
    "    GaitTemplate(0,p_stance_mid = 1./2.*np.pi,c = 145./180*PI,d=1.0), # back left\n",
    "    GaitTemplate(0.5,p_stance_mid = 1./2.*np.pi,c = 145./180*PI,d=-1.0), # back right\n",
    "    GaitTemplate(0.5,p_stance_mid = 1./2.*np.pi,c = 145./180*PI,d=-1.0)] # front right\n",
    "\n",
    "pace_gait = [ # pace gait\n",
    "    GaitTemplate(0,p_stance_mid = 1./2.*np.pi,c = 145/180*PI),# front left\n",
    "    GaitTemplate(0,p_stance_mid = 1./2.*np.pi,c = 145/180*PI), # back left\n",
    "    GaitTemplate(0.5,p_stance_mid = 1./2.*np.pi,c = 145/180*PI), # back right\n",
    "    GaitTemplate(0.5,p_stance_mid = 1./2.*np.pi,c = 145/180*PI)] # front right\n",
    "\n",
    "bounding_gait = [ # bounding gait\n",
    "    GaitTemplate(0,p_stance_mid = 1./2.*np.pi,c = 145/180*PI),# front left\n",
    "    GaitTemplate(0.5,p_stance_mid = 1./2.*np.pi,c = 145/180*PI), # back left\n",
    "    GaitTemplate(0.5,p_stance_mid = 1./2.*np.pi,c = 145/180*PI), # back right\n",
    "    GaitTemplate(0,p_stance_mid = 1./2.*np.pi,c = 145/180*PI) # front right\n",
    "]\n",
    "\n",
    "crawl_gait = [ # crawl gait #2\n",
    "    GaitTemplate(0,p_stance_mid = 1./2.*np.pi,c = 145/180*PI),# front left\n",
    "    GaitTemplate(0.75,p_stance_mid = 1./2.*np.pi,c = 145/180*PI), # back left\n",
    "    GaitTemplate(0.25,p_stance_mid = 1./2.*np.pi,c = 145/180*PI), # back right\n",
    "    GaitTemplate(0.5,p_stance_mid = 1./2.*np.pi,c = 145/180*PI) # front right\n",
    "]\n",
    "\n",
    "gaits = [rotation_gait,pace_gait,bounding_gait,crawl_gait,random_gait]"
   ]
  },
  {
   "cell_type": "code",
   "execution_count": 69,
   "metadata": {
    "ExecuteTime": {
     "end_time": "2020-11-28T16:09:00.650198Z",
     "start_time": "2020-11-28T16:08:59.948024Z"
    },
    "scrolled": false
   },
   "outputs": [
    {
     "data": {
      "text/html": [
       "<style>textarea, input { font-family: monospace; }</style>"
      ],
      "text/plain": [
       "<IPython.core.display.HTML object>"
      ]
     },
     "metadata": {},
     "output_type": "display_data"
    },
    {
     "data": {
      "application/vnd.jupyter.widget-view+json": {
       "model_id": "3da88167afaf475299b838aa123a7fad",
       "version_major": 2,
       "version_minor": 0
      },
      "text/plain": [
       "VBox(children=(GridBox(children=(GridBox(children=(Label(value='Joint vel [rad/s]'), FloatProgress(value=21.95…"
      ]
     },
     "metadata": {},
     "output_type": "display_data"
    },
    {
     "name": "stdout",
     "output_type": "stream",
     "text": [
      "started recording,file at ../data/20201128-110936.952543.mp\n"
     ]
    },
    {
     "name": "stderr",
     "output_type": "stream",
     "text": [
      "Exception in thread Thread-36:\n",
      "Traceback (most recent call last):\n",
      "  File \"C:\\Users\\boxi\\.conda\\envs\\py38\\lib\\threading.py\", line 932, in _bootstrap_inner\n",
      "    self.run()\n",
      "  File \"C:\\Users\\boxi\\.conda\\envs\\py38\\lib\\threading.py\", line 870, in run\n",
      "    self._target(*self._args, **self._kwargs)\n",
      "  File \"<ipython-input-69-f9e8c3cc8870>\", line 73, in AppControl\n",
      "ConnectionResetError: [WinError 10054] An existing connection was forcibly closed by the remote host\n"
     ]
    }
   ],
   "source": [
    "import math\n",
    "from IPython.core.display import HTML\n",
    "import datetime\n",
    "display(HTML(\"<style>textarea, input { font-family: monospace; }</style>\"))\n",
    "\n",
    "\n",
    "control_update_interval = 1/200.\n",
    "display_update_interval = 1/20.\n",
    "\n",
    "speed_update_interval = 2.0\n",
    "\n",
    "\n",
    "def flush_socket(sock):\n",
    "    \"\"\"\n",
    "    start the simulation and flush out\n",
    "    the oldest data in socket buffer\n",
    "    \"\"\"\n",
    "#     sock.settimeout(1/10)\n",
    "#     try:  # check if sim is tarted\n",
    "#         data_receive = sock.recv(BUFFER_LEN)\n",
    "#     except socket.timeout:\n",
    "#         # likely the simulation is not started\n",
    "#         sim = run_simulation()\n",
    "    sock.settimeout(1/1000.)\n",
    "    for k in range(1000):\n",
    "        try:\n",
    "            data_receive = sock.recv(BUFFER_LEN)\n",
    "        except socket.timeout:\n",
    "            break\n",
    "#     print(k)\n",
    "    sock.settimeout(1)\n",
    "\n",
    "\n",
    "def AppControl():\n",
    "    global gaits\n",
    "    time_previous = 0\n",
    "    display_timer = 0\n",
    "    speed_timer = 0\n",
    "    speed = 0.0  # speed of the robot\n",
    "    previous_pos = np.array((0., 0., 0.))\n",
    "\n",
    "    flag_start = True\n",
    "    new_receive = False\n",
    "\n",
    "    button_stop.value = False\n",
    "    button_restart.value = False\n",
    "    button_record.value = False\n",
    "    flag_record = button_record.value\n",
    "    recorded = False\n",
    "\n",
    "    s_offset = 0\n",
    "    s_base = 0.5\n",
    "\n",
    "    pos_cmd = np.zeros(4, dtype=np.float64)  # joint positions command\n",
    "    vel_cmd = np.zeros(4, dtype=np.float64)  # joint velocities command\n",
    "\n",
    "    # previously commanded joint velocity\n",
    "    joint_vel_prev = np.asarray((w.value for w in joint_vel_widgets))\n",
    "\n",
    "    # reset the speed\n",
    "    speed_widget.value = 0\n",
    "    speed_string = \"\"\n",
    "    desired_speed = 0\n",
    "    gait_id = 0\n",
    "\n",
    "    flush_socket(sock)\n",
    "\n",
    "    # create a msgpack packer object\n",
    "    packer = msgpack.Packer(use_bin_type=True)\n",
    "\n",
    "    while flag_start:\n",
    "        try:\n",
    "            data_receive = sock.recv(BUFFER_LEN)\n",
    "            data_receive_unpacked = msgpack.unpackb(data_receive,use_list=True)\n",
    "            new_receive = True\n",
    "            time_now = data_receive_unpacked[ID[\"t\"]]\n",
    "        except socket.timeout:\n",
    "            #             print(\"rec_socket timed out!\\r\",end='')\n",
    "            pass\n",
    "\n",
    "        motor_pos_meas = np.asarray(data_receive_unpacked[ID[\"joint_pos\"]])\n",
    "        # assumming motor_pos_meas is in [-pi,pi]\n",
    "\n",
    "        for k in range(4):\n",
    "            pos = gaits[gait_id][k].GetPos(time_now)\n",
    "\n",
    "            if desired_speed == 0:\n",
    "                pos = np.pi/2  # set to standing position\n",
    "\n",
    "            if k >= 2:\n",
    "                pos = TWO_PI - pos\n",
    "            if pos > PI:\n",
    "                pos = pos-TWO_PI\n",
    "            pos_cmd[k] = pos\n",
    "\n",
    "            pos_error = pos - motor_pos_meas[k]\n",
    "\n",
    "            if pos_error > PI:\n",
    "                pos_error = -TWO_PI+pos_error\n",
    "            elif pos_error < -PI:\n",
    "                pos_error = TWO_PI+pos_error\n",
    "\n",
    "            if gait_id<4:\n",
    "                if abs(desired_speed) < 0.2:\n",
    "                    vel_cmd[k] = (5+abs(desired_speed))*pos_error\n",
    "                else:\n",
    "                    vel_cmd[k] = 30*pos_error\n",
    "            else:\n",
    "                vel_cmd[k] = gaits[gait_id][k].w\n",
    "                \n",
    "\n",
    "        if time_now - display_timer > display_update_interval:\n",
    "            display_timer = time_now\n",
    "            if button_stop.value:\n",
    "                flag_start = False\n",
    "            if button_restart.value:\n",
    "                speed_widget.value = 0\n",
    "                data_send = [UDP_RESET, time.time(), [0, 0, 0, 0]]\n",
    "                data_send_packed = packer.pack(data_send)\n",
    "                num_bytes_send = sock.sendto(data_send_packed, remote_address)\n",
    "                button_restart.value = False\n",
    "            if flag_record != button_record.value:\n",
    "                flag_record = button_record.value\n",
    "                if flag_record:\n",
    "                    recorded = True\n",
    "                    # record starting time as file name\n",
    "                    timestr = datetime.datetime.fromtimestamp(\n",
    "                        time.time()).strftime(\"%Y%m%d-%H%M%S.%f\")\n",
    "                    # example format: '20190915-034034.694503'\n",
    "                    # create a file\n",
    "                    file_name = \"../data/{}.mp\".format(timestr)\n",
    "                    file = open(file_name, \"wb+\")\n",
    "                    print(f\"started recording,file at {file_name}\")\n",
    "\n",
    "                file.write(packer.pack(COMBINED_NAME))\n",
    "                # update speed every 3m travelled\n",
    "            pos = np.asarray(data_receive_unpacked[ID[\"com_pos\"]])\n",
    "            dist = np.linalg.norm((pos - previous_pos)[:2])\n",
    "            if dist > 3:\n",
    "                speed = dist/(time_now - speed_timer)\n",
    "                speed_timer = time_now\n",
    "                previous_pos = pos\n",
    "                speed_string = f\"avg speed:{speed:<12.3f}\\n\"\n",
    "            # update speed every speed_update_interval\n",
    "            if time_now - speed_timer > speed_update_interval:\n",
    "                speed_timer = time_now\n",
    "                pos = np.asarray(data_receive_unpacked[ID[\"com_pos\"]])\n",
    "                speed = np.linalg.norm(\n",
    "                    (pos - previous_pos)[:2])/speed_update_interval\n",
    "                previous_pos = pos\n",
    "                speed_string = f\"avg speed:{speed:<12.3f}\\n\"\n",
    "\n",
    "            desired_speed = speed_widget.value\n",
    "\n",
    "            gait_id = gait_widget.value\n",
    "\n",
    "            if (s_offset != s_offset_widget.value) or (s_base != s_base_widget.value):\n",
    "                s_offset = s_offset_widget.value\n",
    "                s_base = s_base_widget.value\n",
    "                for k in range(4):\n",
    "                    if k <= 2:\n",
    "                        gaits[gait_id][k].UpdateStanceRatio(s_base-s_offset)\n",
    "                    else:\n",
    "                        gaits[gait_id][k].UpdateStanceRatio(s_base+s_offset)\n",
    "\n",
    "            # data checking the header should be a certain number(TODO)\n",
    "            if new_receive:\n",
    "                new_receive = False\n",
    "                text_widget.value = \"\".join([item_to_String(n, d) for n, d in zip(\n",
    "                    REC_NAME, data_receive_unpacked)])+speed_string\n",
    "                for k in range(4):\n",
    "                    joint_vel_widgets[k].value = data_receive_unpacked[ID[\"joint_vel\"]][k]\n",
    "                    joint_act_widgets[k].value = data_receive_unpacked[ID[\"actuation\"]][k]\n",
    "                    joint_pos_widgets[k].value = pos_cmd[k]\n",
    "                    joint_cmd_widgets[k].value = vel_cmd[k]\n",
    "                    gaits[gait_id][k].UpdateAngularVelocity(\n",
    "                        time_now, desired_speed)\n",
    "\n",
    "        # send data\n",
    "        data_send = (UDP_MOTOR_VEL_COMMEND, time_now, vel_cmd.tolist())\n",
    "#             display(data_send)\n",
    "        # https://msgpack-python.readthedocs.io/en/latest/api.html#msgpack.Packer\n",
    "        data_send_packed = packer.pack(data_send)\n",
    "        sock.sendto(data_send_packed, remote_address)\n",
    "        if flag_record:\n",
    "            file.write(packer.pack(\n",
    "                rePack(data_receive_unpacked, vel_cmd.tolist())))\n",
    "    print(\"exit\")\n",
    "    if recorded:\n",
    "        file.close()\n",
    "\n",
    "sim = run_simulation()\n",
    "# sim.terminate()\n",
    "\n",
    "\n",
    "control_thread = threading.Thread(target=AppControl)\n",
    "display(app)\n",
    "control_thread.start()"
   ]
  },
  {
   "cell_type": "markdown",
   "metadata": {},
   "source": [
    "<br>\n",
    "<br>\n",
    "<br>\n",
    "<br>\n",
    "<br>\n",
    "<br>\n",
    "<br>\n",
    "<br>\n",
    "<br>\n",
    "<br>\n",
    "<br>\n",
    "<br>\n",
    "<br>\n",
    "<br>\n",
    "<br>\n",
    "<br>\n",
    "<br>\n",
    "<br>\n",
    "<br>\n",
    "<br>\n",
    "<br>\n",
    "<br>\n",
    "<br>\n",
    "<br>\n",
    "<br>\n",
    "<br>\n",
    "<br>\n",
    "<br>\n",
    "<br>\n",
    "<br>\n",
    "<br>\n",
    "<br>\n",
    "<br>\n",
    "<br>\n",
    "<br>\n",
    "<br>"
   ]
  },
  {
   "cell_type": "code",
   "execution_count": 9,
   "metadata": {
    "ExecuteTime": {
     "end_time": "2020-11-18T09:37:47.761169Z",
     "start_time": "2020-11-18T09:37:47.754168Z"
    }
   },
   "outputs": [
    {
     "name": "stdout",
     "output_type": "stream",
     "text": [
      "header      :14.000\n",
      "T           :682.542\n",
      "joint_pos   :1.574,1.573,1.481,1.554\n",
      "joint_vel   :0.000,-0.001,-0.003,-0.000\n",
      "com_acc     :-0.005,-0.002,-0.001\n",
      "orientation :1.000,0.002,-0.000,-0.001,0.899,0.437\n",
      "actuation   :-0.004,0.003,0.000,-0.000\n",
      "com_pos     :0.004,-0.005,0.066\n",
      "com_vel     :0.000,-0.000,0.000\n",
      "#--- executed in 2.00 ms ---#\n"
     ]
    }
   ],
   "source": [
    "# while\n",
    "# try:\n",
    "#     data_receive= sock.recv(BUFFER_LEN)\n",
    "#     data_receive_unpacked = msgpack.unpackb(data_receive)\n",
    "#     new_receive = True\n",
    "#     time_now = data_receive_unpacked[ID[\"t\"]]\n",
    "\n",
    "action = (1,1,-1,-1)\n",
    "\n",
    "data_send = (UDP_MOTOR_VEL_COMMEND,time.time(),action)\n",
    "# display(data_send)\n",
    "data_send_packed = packer.pack(data_send) # https://msgpack-python.readthedocs.io/en/latest/api.html#msgpack.Packer\n",
    "sock.sendto(data_send_packed,remote_address)\n",
    "\n",
    "_=test_udp_receive()"
   ]
  },
  {
   "cell_type": "code",
   "execution_count": null,
   "metadata": {},
   "outputs": [],
   "source": []
  },
  {
   "cell_type": "markdown",
   "metadata": {},
   "source": [
    "## rotation"
   ]
  },
  {
   "cell_type": "code",
   "execution_count": null,
   "metadata": {
    "ExecuteTime": {
     "end_time": "2020-11-18T04:50:37.694613Z",
     "start_time": "2020-11-18T04:50:33.669Z"
    }
   },
   "outputs": [],
   "source": [
    "from scipy.spatial.transform import Rotation as R\n",
    "def RotateFromVec(vec, angle):\n",
    "    vec = np.asarray(vec, dtype=np.float64)\n",
    "    vec_norm = np.linalg.norm(vec)\n",
    "    if vec_norm != 1:\n",
    "        vec = vec/vec_norm\n",
    "    vec *= angle\n",
    "    h = np.eye(4)\n",
    "    h[:3, :3] = R.from_rotvec(vec).as_dcm()\n",
    "    return h       \n",
    "\n",
    "# https://www.euclideanspace.com/maths/geometry/rotations/conversions/matrixToQuaternion/\n",
    "def RotMatrixToQuarternion(m):\n",
    "    \"\"\"\n",
    "    m is a 3x3 rotation matrix or 4x4 homogenious transformation matrix\n",
    "    \"\"\"\n",
    "    w = np.sqrt(1+m[0,0]+m[1,1]+m[2,2])/2.0\n",
    "    w4 = 4*w\n",
    "    x = (m[2,1]-m[1,2])/w4\n",
    "    y = (m[0,2]-m[2,0])/w4\n",
    "    z = (m[1,0]-m[0,1])/w4\n",
    "    return np.array([w,x,y,z])\n",
    "\n",
    "# https://www.euclideanspace.com/maths/geometry/rotations/conversions/quaternionToAngle/index.htm\n",
    "def QuarternionToAxisAngle(q):\n",
    "    if(q[0]>1):\n",
    "        q = q/np.linalg.norm(q)\n",
    "    angle = 2.0 * np.arccos(q[0])\n",
    "    s = np.sqrt(1-q[0]**2)\n",
    "    if(s<1e-8):\n",
    "        return q[1:],angle\n",
    "    else:\n",
    "        return q[1:]/s,angle"
   ]
  },
  {
   "cell_type": "code",
   "execution_count": null,
   "metadata": {
    "ExecuteTime": {
     "end_time": "2020-11-18T04:50:37.695614Z",
     "start_time": "2020-11-18T04:50:33.670Z"
    }
   },
   "outputs": [],
   "source": [
    "m = RotateFromVec([0,1,1],np.pi/2.)\n",
    "q = RotMatrixToQuarternion(m)\n",
    "QuarternionToAxisAngle(q)"
   ]
  },
  {
   "cell_type": "code",
   "execution_count": null,
   "metadata": {
    "ExecuteTime": {
     "end_time": "2020-11-18T04:50:37.696615Z",
     "start_time": "2020-11-18T04:50:33.672Z"
    }
   },
   "outputs": [],
   "source": [
    "def angle(x):\n",
    "    return x- (x//np.pi)*(2*np.pi)\n",
    "\n",
    "def angle2(x):\n",
    "    if x<-np.pi:\n",
    "        return x+np.pi*2\n",
    "    elif x<np.pi:\n",
    "        return x\n",
    "    else:\n",
    "        return x-np.pi*2\n",
    "angle2 = np.vectorize(angle2)"
   ]
  },
  {
   "cell_type": "code",
   "execution_count": null,
   "metadata": {
    "ExecuteTime": {
     "end_time": "2020-11-18T04:50:37.697615Z",
     "start_time": "2020-11-18T04:50:33.673Z"
    }
   },
   "outputs": [],
   "source": [
    "x = np.linspace(-2*np.pi,2*np.pi,1001)\n",
    "y1 = angle(x)\n",
    "y2 = angle2(x)\n",
    "\n",
    "plt.plot(x/np.pi,y1/np.pi)\n",
    "plt.plot(x/np.pi,y2/np.pi)"
   ]
  },
  {
   "cell_type": "code",
   "execution_count": null,
   "metadata": {
    "ExecuteTime": {
     "end_time": "2020-11-18T04:50:37.698615Z",
     "start_time": "2020-11-18T04:50:33.674Z"
    }
   },
   "outputs": [],
   "source": [
    "import time\n",
    "import asyncio\n",
    "\n",
    "async def say_after(delay, what):\n",
    "    await asyncio.sleep(delay)\n",
    "    print(what)\n",
    "\n",
    "async def test():\n",
    "    print(f\"started at {time.strftime('%X')}\")\n",
    "\n",
    "    await say_after(1, 'hello')\n",
    "    await say_after(2, 'world')\n",
    "\n",
    "    print(f\"finished at {time.strftime('%X')}\")\n",
    "\n",
    "await test()"
   ]
  },
  {
   "cell_type": "code",
   "execution_count": null,
   "metadata": {
    "ExecuteTime": {
     "end_time": "2020-11-18T04:50:37.699616Z",
     "start_time": "2020-11-18T04:50:33.676Z"
    }
   },
   "outputs": [],
   "source": [
    "task = asyncio.create_task(test())\n",
    "print(\"this is reached\")"
   ]
  },
  {
   "cell_type": "code",
   "execution_count": null,
   "metadata": {
    "ExecuteTime": {
     "end_time": "2020-11-17T06:59:47.283605Z",
     "start_time": "2020-11-17T06:59:47.278593Z"
    }
   },
   "outputs": [],
   "source": []
  },
  {
   "cell_type": "code",
   "execution_count": null,
   "metadata": {
    "ExecuteTime": {
     "end_time": "2020-11-17T07:00:07.158542Z",
     "start_time": "2020-11-17T07:00:07.152541Z"
    }
   },
   "outputs": [],
   "source": []
  },
  {
   "cell_type": "code",
   "execution_count": null,
   "metadata": {},
   "outputs": [],
   "source": []
  }
 ],
 "metadata": {
  "kernelspec": {
   "display_name": "Python 3",
   "language": "python",
   "name": "python3"
  },
  "language_info": {
   "codemirror_mode": {
    "name": "ipython",
    "version": 3
   },
   "file_extension": ".py",
   "mimetype": "text/x-python",
   "name": "python",
   "nbconvert_exporter": "python",
   "pygments_lexer": "ipython3",
   "version": "3.8.6"
  }
 },
 "nbformat": 4,
 "nbformat_minor": 4
}
